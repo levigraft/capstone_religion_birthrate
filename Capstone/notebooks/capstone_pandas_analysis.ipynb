{
 "cells": [
  {
   "cell_type": "code",
   "execution_count": 1,
   "id": "aefe7edf-efcd-47a1-95fe-09f753106171",
   "metadata": {},
   "outputs": [],
   "source": [
    "import pandas as pd"
   ]
  },
  {
   "cell_type": "markdown",
   "id": "04a2eef9-bf8a-4588-8430-1e35023a8b30",
   "metadata": {},
   "source": [
    "# Bring in CSV converted from PDF"
   ]
  },
  {
   "cell_type": "markdown",
   "id": "afafcd67-2dd2-4845-b11f-45194035be5d",
   "metadata": {},
   "source": [
    "# PDF: The World’s Religions in Figures: An Introduction to International Religious Demography, \n",
    "First Edition. Todd M. Johnson and Brian J. Grim \r\n",
    "© 2013 John Wiley & Sons, Ltd. Published 2013 by John Wiley & Sons, Ltd."
   ]
  },
  {
   "cell_type": "markdown",
   "id": "439c4161-2b04-4e3b-9b68-25a243db9305",
   "metadata": {},
   "source": [
    "# Data source: Todd M. Johnson and Brian J. Grim, eds., World Religion Database (Leiden/Boston: Brill, accessed January 2012)"
   ]
  },
  {
   "cell_type": "code",
   "execution_count": 5,
   "id": "c2202a31-9a0d-4bc4-98ac-6a7f3794a823",
   "metadata": {},
   "outputs": [],
   "source": [
    "population1 = pd.read_csv('../data/johnson_grim/1910_2010_csv/population.csv')"
   ]
  },
  {
   "cell_type": "code",
   "execution_count": 6,
   "id": "0c04a7aa-6b91-408c-87f6-65b5393d572e",
   "metadata": {},
   "outputs": [
    {
     "data": {
      "text/html": [
       "<div>\n",
       "<style scoped>\n",
       "    .dataframe tbody tr th:only-of-type {\n",
       "        vertical-align: middle;\n",
       "    }\n",
       "\n",
       "    .dataframe tbody tr th {\n",
       "        vertical-align: top;\n",
       "    }\n",
       "\n",
       "    .dataframe thead th {\n",
       "        text-align: right;\n",
       "    }\n",
       "</style>\n",
       "<table border=\"1\" class=\"dataframe\">\n",
       "  <thead>\n",
       "    <tr style=\"text-align: right;\">\n",
       "      <th></th>\n",
       "      <th>Region</th>\n",
       "      <th>Population 1910</th>\n",
       "      <th>Population 1970</th>\n",
       "      <th>Population 2010</th>\n",
       "    </tr>\n",
       "  </thead>\n",
       "  <tbody>\n",
       "    <tr>\n",
       "      <th>0</th>\n",
       "      <td>Africa</td>\n",
       "      <td>124,541,000</td>\n",
       "      <td>365,450,000</td>\n",
       "      <td>1,022,234,000</td>\n",
       "    </tr>\n",
       "  </tbody>\n",
       "</table>\n",
       "</div>"
      ],
      "text/plain": [
       "   Region Population 1910 Population 1970  Population 2010\n",
       "0  Africa    124,541,000     365,450,000    1,022,234,000 "
      ]
     },
     "execution_count": 6,
     "metadata": {},
     "output_type": "execute_result"
    }
   ],
   "source": [
    "population1.head(1)"
   ]
  },
  {
   "cell_type": "code",
   "execution_count": 7,
   "id": "de21cf10-83f7-4208-98d3-d4d2cd26d297",
   "metadata": {},
   "outputs": [],
   "source": [
    "agnostic1 = pd.read_csv('../data/johnson_grim/1910_2010_csv/agnostics.csv')"
   ]
  },
  {
   "cell_type": "code",
   "execution_count": 8,
   "id": "8ae4170c-a2ee-4780-a953-40914433b654",
   "metadata": {},
   "outputs": [
    {
     "data": {
      "text/html": [
       "<div>\n",
       "<style scoped>\n",
       "    .dataframe tbody tr th:only-of-type {\n",
       "        vertical-align: middle;\n",
       "    }\n",
       "\n",
       "    .dataframe tbody tr th {\n",
       "        vertical-align: top;\n",
       "    }\n",
       "\n",
       "    .dataframe thead th {\n",
       "        text-align: right;\n",
       "    }\n",
       "</style>\n",
       "<table border=\"1\" class=\"dataframe\">\n",
       "  <thead>\n",
       "    <tr style=\"text-align: right;\">\n",
       "      <th></th>\n",
       "      <th>Region</th>\n",
       "      <th>A 1910</th>\n",
       "      <th>1910%</th>\n",
       "      <th>A 1970</th>\n",
       "      <th>1970%</th>\n",
       "      <th>A 2010</th>\n",
       "      <th>2010%</th>\n",
       "    </tr>\n",
       "  </thead>\n",
       "  <tbody>\n",
       "    <tr>\n",
       "      <th>0</th>\n",
       "      <td>Africa</td>\n",
       "      <td>8,400</td>\n",
       "      <td>0.0</td>\n",
       "      <td>588,000</td>\n",
       "      <td>0.2</td>\n",
       "      <td>6,497,000</td>\n",
       "      <td>0.6</td>\n",
       "    </tr>\n",
       "  </tbody>\n",
       "</table>\n",
       "</div>"
      ],
      "text/plain": [
       "   Region A 1910  1910%   A 1970  1970%     A 2010  2010%\n",
       "0  Africa  8,400    0.0  588,000    0.2  6,497,000    0.6"
      ]
     },
     "execution_count": 8,
     "metadata": {},
     "output_type": "execute_result"
    }
   ],
   "source": [
    "agnostic1.head(1)"
   ]
  },
  {
   "cell_type": "code",
   "execution_count": 9,
   "id": "fc2f1d04-668b-4214-95c6-406651165308",
   "metadata": {},
   "outputs": [],
   "source": [
    "atheist1 = pd.read_csv('../data/johnson_grim/1910_2010_csv/atheist.csv')\n"
   ]
  },
  {
   "cell_type": "code",
   "execution_count": 10,
   "id": "caa7b7b4-9edf-4dad-b661-a5f53711e448",
   "metadata": {},
   "outputs": [
    {
     "data": {
      "text/html": [
       "<div>\n",
       "<style scoped>\n",
       "    .dataframe tbody tr th:only-of-type {\n",
       "        vertical-align: middle;\n",
       "    }\n",
       "\n",
       "    .dataframe tbody tr th {\n",
       "        vertical-align: top;\n",
       "    }\n",
       "\n",
       "    .dataframe thead th {\n",
       "        text-align: right;\n",
       "    }\n",
       "</style>\n",
       "<table border=\"1\" class=\"dataframe\">\n",
       "  <thead>\n",
       "    <tr style=\"text-align: right;\">\n",
       "      <th></th>\n",
       "      <th>Region</th>\n",
       "      <th>Atheists 1910</th>\n",
       "      <th>1910%</th>\n",
       "      <th>Atheists 1970</th>\n",
       "      <th>1970%</th>\n",
       "      <th>Atheists 2010</th>\n",
       "      <th>2010%</th>\n",
       "    </tr>\n",
       "  </thead>\n",
       "  <tbody>\n",
       "    <tr>\n",
       "      <th>0</th>\n",
       "      <td>Africa</td>\n",
       "      <td>1,100</td>\n",
       "      <td>0.0</td>\n",
       "      <td>103,000</td>\n",
       "      <td>0.0</td>\n",
       "      <td>571,000</td>\n",
       "      <td>0.1</td>\n",
       "    </tr>\n",
       "  </tbody>\n",
       "</table>\n",
       "</div>"
      ],
      "text/plain": [
       "   Region Atheists 1910  1910% Atheists 1970  1970% Atheists 2010  2010%\n",
       "0  Africa        1,100     0.0      103,000     0.0      571,000     0.1"
      ]
     },
     "execution_count": 10,
     "metadata": {},
     "output_type": "execute_result"
    }
   ],
   "source": [
    "atheist1.head(1)"
   ]
  },
  {
   "cell_type": "code",
   "execution_count": 11,
   "id": "0f9c9392-24c1-4ebe-a0f6-ac1d14b0e46e",
   "metadata": {},
   "outputs": [],
   "source": [
    "buddhist1 = pd.read_csv('../data/johnson_grim/1910_2010_csv/buddhist.csv')\n"
   ]
  },
  {
   "cell_type": "code",
   "execution_count": 12,
   "id": "b1621dc0-bd66-4a9d-84a3-9996b3c98557",
   "metadata": {},
   "outputs": [
    {
     "data": {
      "text/html": [
       "<div>\n",
       "<style scoped>\n",
       "    .dataframe tbody tr th:only-of-type {\n",
       "        vertical-align: middle;\n",
       "    }\n",
       "\n",
       "    .dataframe tbody tr th {\n",
       "        vertical-align: top;\n",
       "    }\n",
       "\n",
       "    .dataframe thead th {\n",
       "        text-align: right;\n",
       "    }\n",
       "</style>\n",
       "<table border=\"1\" class=\"dataframe\">\n",
       "  <thead>\n",
       "    <tr style=\"text-align: right;\">\n",
       "      <th></th>\n",
       "      <th>Region</th>\n",
       "      <th>Buddhists 1910</th>\n",
       "      <th>1910%</th>\n",
       "      <th>Buddhists 1970</th>\n",
       "      <th>1970%</th>\n",
       "      <th>Buddhists 2010</th>\n",
       "      <th>2010%</th>\n",
       "    </tr>\n",
       "  </thead>\n",
       "  <tbody>\n",
       "    <tr>\n",
       "      <th>0</th>\n",
       "      <td>Africa</td>\n",
       "      <td>3,600</td>\n",
       "      <td>0.0</td>\n",
       "      <td>11,700</td>\n",
       "      <td>0.0</td>\n",
       "      <td>254,000</td>\n",
       "      <td>0.0</td>\n",
       "    </tr>\n",
       "  </tbody>\n",
       "</table>\n",
       "</div>"
      ],
      "text/plain": [
       "   Region Buddhists 1910  1910% Buddhists 1970  1970% Buddhists 2010  2010%\n",
       "0  Africa         3,600     0.0        11,700     0.0       254,000     0.0"
      ]
     },
     "execution_count": 12,
     "metadata": {},
     "output_type": "execute_result"
    }
   ],
   "source": [
    "buddhist1.head(1)"
   ]
  },
  {
   "cell_type": "code",
   "execution_count": 13,
   "id": "4b564ad3-c792-4ab1-ba06-b0afdd239979",
   "metadata": {},
   "outputs": [],
   "source": [
    "christian1 = pd.read_csv('../data/johnson_grim/1910_2010_csv/christian.csv')\n"
   ]
  },
  {
   "cell_type": "code",
   "execution_count": 14,
   "id": "a3d97ccc-1a1f-4f18-b79a-f0edd30ef0a0",
   "metadata": {},
   "outputs": [
    {
     "data": {
      "text/html": [
       "<div>\n",
       "<style scoped>\n",
       "    .dataframe tbody tr th:only-of-type {\n",
       "        vertical-align: middle;\n",
       "    }\n",
       "\n",
       "    .dataframe tbody tr th {\n",
       "        vertical-align: top;\n",
       "    }\n",
       "\n",
       "    .dataframe thead th {\n",
       "        text-align: right;\n",
       "    }\n",
       "</style>\n",
       "<table border=\"1\" class=\"dataframe\">\n",
       "  <thead>\n",
       "    <tr style=\"text-align: right;\">\n",
       "      <th></th>\n",
       "      <th>Region</th>\n",
       "      <th>Christians 1910</th>\n",
       "      <th>1910%</th>\n",
       "      <th>Christians 1970</th>\n",
       "      <th>1970%</th>\n",
       "      <th>Christians 2010</th>\n",
       "      <th>2010%</th>\n",
       "    </tr>\n",
       "  </thead>\n",
       "  <tbody>\n",
       "    <tr>\n",
       "      <th>0</th>\n",
       "      <td>Africa</td>\n",
       "      <td>11,636,000</td>\n",
       "      <td>9.3</td>\n",
       "      <td>137,867,000</td>\n",
       "      <td>37.7</td>\n",
       "      <td>494,053,000</td>\n",
       "      <td>48.3</td>\n",
       "    </tr>\n",
       "  </tbody>\n",
       "</table>\n",
       "</div>"
      ],
      "text/plain": [
       "   Region Christians 1910  1910% Christians 1970  1970% Christians 2010  2010%\n",
       "0  Africa     11,636,000     9.3    137,867,000    37.7    494,053,000    48.3"
      ]
     },
     "execution_count": 14,
     "metadata": {},
     "output_type": "execute_result"
    }
   ],
   "source": [
    "christian1.head(1)"
   ]
  },
  {
   "cell_type": "code",
   "execution_count": 15,
   "id": "be9d20f7-d633-4509-80e1-7855f35634c2",
   "metadata": {},
   "outputs": [],
   "source": [
    "hindu1 = pd.read_csv('../data/johnson_grim/1910_2010_csv/hindu.csv')"
   ]
  },
  {
   "cell_type": "code",
   "execution_count": 16,
   "id": "bccdc350-eb19-43b2-bab3-82b4ce981dce",
   "metadata": {},
   "outputs": [
    {
     "data": {
      "text/html": [
       "<div>\n",
       "<style scoped>\n",
       "    .dataframe tbody tr th:only-of-type {\n",
       "        vertical-align: middle;\n",
       "    }\n",
       "\n",
       "    .dataframe tbody tr th {\n",
       "        vertical-align: top;\n",
       "    }\n",
       "\n",
       "    .dataframe thead th {\n",
       "        text-align: right;\n",
       "    }\n",
       "</style>\n",
       "<table border=\"1\" class=\"dataframe\">\n",
       "  <thead>\n",
       "    <tr style=\"text-align: right;\">\n",
       "      <th></th>\n",
       "      <th>Region</th>\n",
       "      <th>Hindus 1910</th>\n",
       "      <th>1910%</th>\n",
       "      <th>Hindus 1970</th>\n",
       "      <th>1970%</th>\n",
       "      <th>Hindus 2010</th>\n",
       "      <th>2010%</th>\n",
       "    </tr>\n",
       "  </thead>\n",
       "  <tbody>\n",
       "    <tr>\n",
       "      <th>0</th>\n",
       "      <td>Africa</td>\n",
       "      <td>303,000</td>\n",
       "      <td>0.2</td>\n",
       "      <td>1,000,000</td>\n",
       "      <td>0.3</td>\n",
       "      <td>2,930,000</td>\n",
       "      <td>0.3</td>\n",
       "    </tr>\n",
       "  </tbody>\n",
       "</table>\n",
       "</div>"
      ],
      "text/plain": [
       "   Region Hindus 1910  1910%  Hindus 1970  1970%  Hindus 2010  2010%\n",
       "0  Africa    303,000     0.2   1,000,000     0.3   2,930,000     0.3"
      ]
     },
     "execution_count": 16,
     "metadata": {},
     "output_type": "execute_result"
    }
   ],
   "source": [
    "hindu1.head(1)"
   ]
  },
  {
   "cell_type": "code",
   "execution_count": 17,
   "id": "1dd18aa8-8e20-4776-a142-8cc87a8b509c",
   "metadata": {},
   "outputs": [],
   "source": [
    "muslim1 = pd.read_csv('../data/johnson_grim/1910_2010_csv/muslim.csv')"
   ]
  },
  {
   "cell_type": "code",
   "execution_count": 18,
   "id": "8934bc95-6986-4a12-aba8-b64c2ccda5a1",
   "metadata": {},
   "outputs": [
    {
     "data": {
      "text/html": [
       "<div>\n",
       "<style scoped>\n",
       "    .dataframe tbody tr th:only-of-type {\n",
       "        vertical-align: middle;\n",
       "    }\n",
       "\n",
       "    .dataframe tbody tr th {\n",
       "        vertical-align: top;\n",
       "    }\n",
       "\n",
       "    .dataframe thead th {\n",
       "        text-align: right;\n",
       "    }\n",
       "</style>\n",
       "<table border=\"1\" class=\"dataframe\">\n",
       "  <thead>\n",
       "    <tr style=\"text-align: right;\">\n",
       "      <th></th>\n",
       "      <th>Region</th>\n",
       "      <th>Muslims 1910</th>\n",
       "      <th>1910%</th>\n",
       "      <th>Muslims 1970</th>\n",
       "      <th>1970%</th>\n",
       "      <th>Muslims 2010</th>\n",
       "      <th>2010%</th>\n",
       "    </tr>\n",
       "  </thead>\n",
       "  <tbody>\n",
       "    <tr>\n",
       "      <th>0</th>\n",
       "      <td>Africa</td>\n",
       "      <td>39,916,000</td>\n",
       "      <td>32.1</td>\n",
       "      <td>148,210,000</td>\n",
       "      <td>40.6</td>\n",
       "      <td>425,860,000</td>\n",
       "      <td>41.7</td>\n",
       "    </tr>\n",
       "  </tbody>\n",
       "</table>\n",
       "</div>"
      ],
      "text/plain": [
       "   Region  Muslims 1910  1910%   Muslims 1970  1970%   Muslims 2010  2010%\n",
       "0  Africa   39,916,000    32.1   148,210,000    40.6   425,860,000    41.7"
      ]
     },
     "execution_count": 18,
     "metadata": {},
     "output_type": "execute_result"
    }
   ],
   "source": [
    "muslim1.head(1)"
   ]
  },
  {
   "cell_type": "markdown",
   "id": "737cece7-7584-45be-8dbd-bc8e265e205b",
   "metadata": {},
   "source": [
    "# Bring in CSV converted from PDF"
   ]
  },
  {
   "cell_type": "markdown",
   "id": "f5816f7b-7b31-4d34-8c30-21d137a46c97",
   "metadata": {},
   "source": [
    "# PDF: Projecting Global Religious Populations, 2020–50 from Journal of Religion and Demography 8 (2021) 124–153\r"
   ]
  },
  {
   "cell_type": "markdown",
   "id": "e76e7167-39bd-4af0-b5b2-01e0e4fe8aa5",
   "metadata": {},
   "source": [
    "# Data source: Todd M. Johnson and Brian J. Grim, eds., World Religion Database (Leiden/Boston: Brill, accessed July 2021)."
   ]
  },
  {
   "cell_type": "code",
   "execution_count": 22,
   "id": "61fae0b6-0e67-4472-9c1e-9eeb0cb41486",
   "metadata": {},
   "outputs": [],
   "source": [
    "population2 = pd.read_csv('../data/johnson_grim/2020_2050_csv/population.csv')"
   ]
  },
  {
   "cell_type": "code",
   "execution_count": 23,
   "id": "f391df05-db6e-45a8-8c07-ca84fd3f82c3",
   "metadata": {},
   "outputs": [
    {
     "data": {
      "text/html": [
       "<div>\n",
       "<style scoped>\n",
       "    .dataframe tbody tr th:only-of-type {\n",
       "        vertical-align: middle;\n",
       "    }\n",
       "\n",
       "    .dataframe tbody tr th {\n",
       "        vertical-align: top;\n",
       "    }\n",
       "\n",
       "    .dataframe thead th {\n",
       "        text-align: right;\n",
       "    }\n",
       "</style>\n",
       "<table border=\"1\" class=\"dataframe\">\n",
       "  <thead>\n",
       "    <tr style=\"text-align: right;\">\n",
       "      <th></th>\n",
       "      <th>Region</th>\n",
       "      <th>Population 2020</th>\n",
       "      <th>Population 2050</th>\n",
       "    </tr>\n",
       "  </thead>\n",
       "  <tbody>\n",
       "    <tr>\n",
       "      <th>0</th>\n",
       "      <td>Africa</td>\n",
       "      <td>1,340,598,000</td>\n",
       "      <td>2,489,275,000</td>\n",
       "    </tr>\n",
       "  </tbody>\n",
       "</table>\n",
       "</div>"
      ],
      "text/plain": [
       "   Region  Population 2020  Population 2050\n",
       "0  Africa   1,340,598,000    2,489,275,000 "
      ]
     },
     "execution_count": 23,
     "metadata": {},
     "output_type": "execute_result"
    }
   ],
   "source": [
    "population2.head(1)"
   ]
  },
  {
   "cell_type": "code",
   "execution_count": 24,
   "id": "6d9405af-7f20-45aa-9291-9c0659756436",
   "metadata": {},
   "outputs": [],
   "source": [
    "agnostic2 = pd.read_csv('../data/johnson_grim/2020_2050_csv/agnostic.csv')"
   ]
  },
  {
   "cell_type": "code",
   "execution_count": 25,
   "id": "e7851cf7-8e49-4dec-afba-661c622ba2c3",
   "metadata": {},
   "outputs": [
    {
     "data": {
      "text/html": [
       "<div>\n",
       "<style scoped>\n",
       "    .dataframe tbody tr th:only-of-type {\n",
       "        vertical-align: middle;\n",
       "    }\n",
       "\n",
       "    .dataframe tbody tr th {\n",
       "        vertical-align: top;\n",
       "    }\n",
       "\n",
       "    .dataframe thead th {\n",
       "        text-align: right;\n",
       "    }\n",
       "</style>\n",
       "<table border=\"1\" class=\"dataframe\">\n",
       "  <thead>\n",
       "    <tr style=\"text-align: right;\">\n",
       "      <th></th>\n",
       "      <th>Region</th>\n",
       "      <th>Agnostics 2020</th>\n",
       "      <th>2020%</th>\n",
       "      <th>Agnostics 2050</th>\n",
       "      <th>2050%</th>\n",
       "    </tr>\n",
       "  </thead>\n",
       "  <tbody>\n",
       "    <tr>\n",
       "      <th>0</th>\n",
       "      <td>Africa</td>\n",
       "      <td>8,215,000</td>\n",
       "      <td>0.6</td>\n",
       "      <td>16,509,000</td>\n",
       "      <td>0.7</td>\n",
       "    </tr>\n",
       "  </tbody>\n",
       "</table>\n",
       "</div>"
      ],
      "text/plain": [
       "   Region Agnostics 2020  2020% Agnostics 2050  2050%\n",
       "0  Africa     8,215,000     0.6    16,509,000     0.7"
      ]
     },
     "execution_count": 25,
     "metadata": {},
     "output_type": "execute_result"
    }
   ],
   "source": [
    "agnostic2.head(1)"
   ]
  },
  {
   "cell_type": "code",
   "execution_count": 26,
   "id": "f812cf04-e93b-46c6-8671-31846e9c7adf",
   "metadata": {},
   "outputs": [],
   "source": [
    "atheist2 = pd.read_csv('../data/johnson_grim/2020_2050_csv/atheist.csv')"
   ]
  },
  {
   "cell_type": "code",
   "execution_count": 27,
   "id": "2800839f-e3cc-430d-ad40-2244acfe3504",
   "metadata": {},
   "outputs": [
    {
     "data": {
      "text/html": [
       "<div>\n",
       "<style scoped>\n",
       "    .dataframe tbody tr th:only-of-type {\n",
       "        vertical-align: middle;\n",
       "    }\n",
       "\n",
       "    .dataframe tbody tr th {\n",
       "        vertical-align: top;\n",
       "    }\n",
       "\n",
       "    .dataframe thead th {\n",
       "        text-align: right;\n",
       "    }\n",
       "</style>\n",
       "<table border=\"1\" class=\"dataframe\">\n",
       "  <thead>\n",
       "    <tr style=\"text-align: right;\">\n",
       "      <th></th>\n",
       "      <th>Region</th>\n",
       "      <th>A 2020</th>\n",
       "      <th>2020%</th>\n",
       "      <th>A 2050</th>\n",
       "      <th>2050%</th>\n",
       "    </tr>\n",
       "  </thead>\n",
       "  <tbody>\n",
       "    <tr>\n",
       "      <th>0</th>\n",
       "      <td>Africa</td>\n",
       "      <td>739,000</td>\n",
       "      <td>0.1</td>\n",
       "      <td>1,244,000</td>\n",
       "      <td>0.0</td>\n",
       "    </tr>\n",
       "  </tbody>\n",
       "</table>\n",
       "</div>"
      ],
      "text/plain": [
       "   Region     A 2020  2020%       A 2050  2050%\n",
       "0  Africa   739,000     0.1   1,244,000     0.0"
      ]
     },
     "execution_count": 27,
     "metadata": {},
     "output_type": "execute_result"
    }
   ],
   "source": [
    "atheist2.head(1)"
   ]
  },
  {
   "cell_type": "code",
   "execution_count": 28,
   "id": "7d54e31d-7d6e-497a-b60c-b0048e2a7caf",
   "metadata": {},
   "outputs": [],
   "source": [
    "buddhist2 = pd.read_csv('../data/johnson_grim/2020_2050_csv/buddhist.csv')"
   ]
  },
  {
   "cell_type": "code",
   "execution_count": 29,
   "id": "686d41a2-ff0a-4b21-b080-43bcedde31a0",
   "metadata": {},
   "outputs": [
    {
     "data": {
      "text/html": [
       "<div>\n",
       "<style scoped>\n",
       "    .dataframe tbody tr th:only-of-type {\n",
       "        vertical-align: middle;\n",
       "    }\n",
       "\n",
       "    .dataframe tbody tr th {\n",
       "        vertical-align: top;\n",
       "    }\n",
       "\n",
       "    .dataframe thead th {\n",
       "        text-align: right;\n",
       "    }\n",
       "</style>\n",
       "<table border=\"1\" class=\"dataframe\">\n",
       "  <thead>\n",
       "    <tr style=\"text-align: right;\">\n",
       "      <th></th>\n",
       "      <th>Region</th>\n",
       "      <th>Buddhists 2020</th>\n",
       "      <th>2020%</th>\n",
       "      <th>Buddhists 2050</th>\n",
       "      <th>2050%</th>\n",
       "    </tr>\n",
       "  </thead>\n",
       "  <tbody>\n",
       "    <tr>\n",
       "      <th>0</th>\n",
       "      <td>Africa</td>\n",
       "      <td>365,000</td>\n",
       "      <td>0.0</td>\n",
       "      <td>611,000</td>\n",
       "      <td>0.0</td>\n",
       "    </tr>\n",
       "  </tbody>\n",
       "</table>\n",
       "</div>"
      ],
      "text/plain": [
       "   Region Buddhists 2020  2020% Buddhists 2050  2050%\n",
       "0  Africa       365,000     0.0       611,000     0.0"
      ]
     },
     "execution_count": 29,
     "metadata": {},
     "output_type": "execute_result"
    }
   ],
   "source": [
    "buddhist2.head(1)"
   ]
  },
  {
   "cell_type": "code",
   "execution_count": 30,
   "id": "43502e52-0257-4b98-9dce-383ebdfb35d0",
   "metadata": {},
   "outputs": [],
   "source": [
    "christian2 = pd.read_csv('../data/johnson_grim/2020_2050_csv/christian.csv')"
   ]
  },
  {
   "cell_type": "code",
   "execution_count": 31,
   "id": "fe017e87-a30b-4f0a-89ca-debf8edb4175",
   "metadata": {},
   "outputs": [
    {
     "data": {
      "text/html": [
       "<div>\n",
       "<style scoped>\n",
       "    .dataframe tbody tr th:only-of-type {\n",
       "        vertical-align: middle;\n",
       "    }\n",
       "\n",
       "    .dataframe tbody tr th {\n",
       "        vertical-align: top;\n",
       "    }\n",
       "\n",
       "    .dataframe thead th {\n",
       "        text-align: right;\n",
       "    }\n",
       "</style>\n",
       "<table border=\"1\" class=\"dataframe\">\n",
       "  <thead>\n",
       "    <tr style=\"text-align: right;\">\n",
       "      <th></th>\n",
       "      <th>Region</th>\n",
       "      <th>Christians 2020</th>\n",
       "      <th>2020%</th>\n",
       "      <th>Christians 2050</th>\n",
       "      <th>2050%</th>\n",
       "    </tr>\n",
       "  </thead>\n",
       "  <tbody>\n",
       "    <tr>\n",
       "      <th>0</th>\n",
       "      <td>Africa</td>\n",
       "      <td>654,913,000</td>\n",
       "      <td>48.9</td>\n",
       "      <td>1,280,641,000</td>\n",
       "      <td>51.4</td>\n",
       "    </tr>\n",
       "  </tbody>\n",
       "</table>\n",
       "</div>"
      ],
      "text/plain": [
       "   Region Christians 2020  2020%  Christians 2050  2050%\n",
       "0  Africa    654,913,000    48.9   1,280,641,000    51.4"
      ]
     },
     "execution_count": 31,
     "metadata": {},
     "output_type": "execute_result"
    }
   ],
   "source": [
    "christian2.head(1)"
   ]
  },
  {
   "cell_type": "code",
   "execution_count": 32,
   "id": "daf1b5ba-7240-44f0-b5fe-512b2679b032",
   "metadata": {},
   "outputs": [],
   "source": [
    "hindu2 = pd.read_csv('../data/johnson_grim/2020_2050_csv/hindu.csv')"
   ]
  },
  {
   "cell_type": "code",
   "execution_count": 33,
   "id": "44ef9da3-468f-451f-a4db-5c2637772d6f",
   "metadata": {},
   "outputs": [
    {
     "data": {
      "text/html": [
       "<div>\n",
       "<style scoped>\n",
       "    .dataframe tbody tr th:only-of-type {\n",
       "        vertical-align: middle;\n",
       "    }\n",
       "\n",
       "    .dataframe tbody tr th {\n",
       "        vertical-align: top;\n",
       "    }\n",
       "\n",
       "    .dataframe thead th {\n",
       "        text-align: right;\n",
       "    }\n",
       "</style>\n",
       "<table border=\"1\" class=\"dataframe\">\n",
       "  <thead>\n",
       "    <tr style=\"text-align: right;\">\n",
       "      <th></th>\n",
       "      <th>Region</th>\n",
       "      <th>Hindus 2020</th>\n",
       "      <th>2020%</th>\n",
       "      <th>Hindus 2050</th>\n",
       "      <th>2050%</th>\n",
       "    </tr>\n",
       "  </thead>\n",
       "  <tbody>\n",
       "    <tr>\n",
       "      <th>0</th>\n",
       "      <td>Africa</td>\n",
       "      <td>3,555,000</td>\n",
       "      <td>0.3</td>\n",
       "      <td>5,031,000</td>\n",
       "      <td>0.2</td>\n",
       "    </tr>\n",
       "  </tbody>\n",
       "</table>\n",
       "</div>"
      ],
      "text/plain": [
       "   Region  Hindus 2020  2020%  Hindus 2050  2050%\n",
       "0  Africa   3,555,000     0.3   5,031,000     0.2"
      ]
     },
     "execution_count": 33,
     "metadata": {},
     "output_type": "execute_result"
    }
   ],
   "source": [
    "hindu2.head(1)"
   ]
  },
  {
   "cell_type": "code",
   "execution_count": 34,
   "id": "cfd645f0-d095-41f2-9e46-1f8e5fe6b81b",
   "metadata": {},
   "outputs": [],
   "source": [
    "muslim2 = pd.read_csv('../data/johnson_grim/2020_2050_csv/muslim.csv')"
   ]
  },
  {
   "cell_type": "code",
   "execution_count": 35,
   "id": "beefc478-94eb-4a0b-b52b-e41bff0261a7",
   "metadata": {},
   "outputs": [
    {
     "data": {
      "text/html": [
       "<div>\n",
       "<style scoped>\n",
       "    .dataframe tbody tr th:only-of-type {\n",
       "        vertical-align: middle;\n",
       "    }\n",
       "\n",
       "    .dataframe tbody tr th {\n",
       "        vertical-align: top;\n",
       "    }\n",
       "\n",
       "    .dataframe thead th {\n",
       "        text-align: right;\n",
       "    }\n",
       "</style>\n",
       "<table border=\"1\" class=\"dataframe\">\n",
       "  <thead>\n",
       "    <tr style=\"text-align: right;\">\n",
       "      <th></th>\n",
       "      <th>Region</th>\n",
       "      <th>Muslims 2020</th>\n",
       "      <th>2020%</th>\n",
       "      <th>Muslims 2050</th>\n",
       "      <th>2050%</th>\n",
       "    </tr>\n",
       "  </thead>\n",
       "  <tbody>\n",
       "    <tr>\n",
       "      <th>0</th>\n",
       "      <td>Africa</td>\n",
       "      <td>556,923,000</td>\n",
       "      <td>41.5</td>\n",
       "      <td>1,043,699,000</td>\n",
       "      <td>41.9</td>\n",
       "    </tr>\n",
       "  </tbody>\n",
       "</table>\n",
       "</div>"
      ],
      "text/plain": [
       "   Region   Muslims 2020  2020%     Muslims 2050  2050%\n",
       "0  Africa   556,923,000    41.5   1,043,699,000    41.9"
      ]
     },
     "execution_count": 35,
     "metadata": {},
     "output_type": "execute_result"
    }
   ],
   "source": [
    "muslim2.head(1)"
   ]
  },
  {
   "cell_type": "markdown",
   "id": "22284457-ea4d-4a0b-9160-808d25a20da1",
   "metadata": {},
   "source": [
    "# Merge 1910-2010 and 2020-2050 tables for each religion"
   ]
  },
  {
   "cell_type": "code",
   "execution_count": 37,
   "id": "9099876a-9887-481a-8432-f4b1d6555c7c",
   "metadata": {},
   "outputs": [],
   "source": [
    "population3 = pd.merge(population1, population2, left_on = 'Region', right_on = 'Region')"
   ]
  },
  {
   "cell_type": "code",
   "execution_count": 38,
   "id": "d433917d-6bb2-4809-a7a7-f4f0f458758e",
   "metadata": {},
   "outputs": [],
   "source": [
    "agnostic3 = pd.merge(agnostic1, agnostic2, left_on = 'Region', right_on = 'Region')"
   ]
  },
  {
   "cell_type": "code",
   "execution_count": 39,
   "id": "23e21f9f-82f6-4e7d-bd63-26944bc26e5c",
   "metadata": {},
   "outputs": [],
   "source": [
    "atheist3 = pd.merge(atheist1, atheist2, left_on = 'Region', right_on = 'Region')"
   ]
  },
  {
   "cell_type": "code",
   "execution_count": 40,
   "id": "38305333-3c91-41e2-b509-d81de507a0ad",
   "metadata": {},
   "outputs": [],
   "source": [
    "buddhist3 = pd.merge(buddhist1, buddhist2, left_on = 'Region', right_on = 'Region')"
   ]
  },
  {
   "cell_type": "code",
   "execution_count": 41,
   "id": "500a4c9a-11ac-475b-bb30-76c3a22a1173",
   "metadata": {},
   "outputs": [],
   "source": [
    "christian3 = pd.merge(christian1, christian2, left_on = 'Region', right_on = 'Region')"
   ]
  },
  {
   "cell_type": "code",
   "execution_count": 42,
   "id": "8f4852be-7c1b-428e-9755-3ecee89c633a",
   "metadata": {},
   "outputs": [],
   "source": [
    "hindu3 = pd.merge(hindu1, hindu2, left_on = 'Region', right_on = 'Region')"
   ]
  },
  {
   "cell_type": "code",
   "execution_count": 43,
   "id": "5dd11141-34ec-48f6-8a84-b14770ad395b",
   "metadata": {},
   "outputs": [],
   "source": [
    "muslim3 = pd.merge(muslim1, muslim2, left_on = 'Region', right_on = 'Region')"
   ]
  },
  {
   "cell_type": "markdown",
   "id": "f967b30b-dfaa-4ec3-9843-37f8179891c2",
   "metadata": {},
   "source": [
    "# Bring in United Nations Demographic Indicators CSV"
   ]
  },
  {
   "cell_type": "code",
   "execution_count": 45,
   "id": "270f79e3-f84b-4e03-b82e-8c02f61c4aad",
   "metadata": {},
   "outputs": [
    {
     "name": "stderr",
     "output_type": "stream",
     "text": [
      "C:\\Users\\graft\\AppData\\Local\\Temp\\ipykernel_99832\\2938383926.py:1: DtypeWarning: Columns (2,3,4,7) have mixed types. Specify dtype option on import or set low_memory=False.\n",
      "  un_indicators = pd.read_csv('../data/indicators/un_indicators.csv')\n"
     ]
    }
   ],
   "source": [
    "un_indicators = pd.read_csv('../data/indicators/un_indicators.csv')"
   ]
  },
  {
   "cell_type": "code",
   "execution_count": 46,
   "id": "ba7ed521-240a-40b4-976a-5d04c0072fb7",
   "metadata": {},
   "outputs": [
    {
     "data": {
      "text/plain": [
       "Index(['SortOrder', 'LocID', 'Notes', 'ISO3_code', 'ISO2_code', 'SDMX_code',\n",
       "       'LocTypeID', 'LocTypeName', 'ParentID', 'Location', 'VarID', 'Variant',\n",
       "       'Time', 'TPopulation1Jan', 'TPopulation1July', 'TPopulationMale1July',\n",
       "       'TPopulationFemale1July', 'PopDensity', 'PopSexRatio', 'MedianAgePop',\n",
       "       'NatChange', 'NatChangeRT', 'PopChange', 'PopGrowthRate',\n",
       "       'DoublingTime', 'Births', 'Births1519', 'CBR', 'TFR', 'NRR', 'MAC',\n",
       "       'SRB', 'Deaths', 'DeathsMale', 'DeathsFemale', 'CDR', 'LEx', 'LExMale',\n",
       "       'LExFemale', 'LE15', 'LE15Male', 'LE15Female', 'LE65', 'LE65Male',\n",
       "       'LE65Female', 'LE80', 'LE80Male', 'LE80Female', 'InfantDeaths', 'IMR',\n",
       "       'LBsurvivingAge1', 'Under5Deaths', 'Q5', 'Q0040', 'Q0040Male',\n",
       "       'Q0040Female', 'Q0060', 'Q0060Male', 'Q0060Female', 'Q1550',\n",
       "       'Q1550Male', 'Q1550Female', 'Q1560', 'Q1560Male', 'Q1560Female',\n",
       "       'NetMigrations', 'CNMR'],\n",
       "      dtype='object')"
      ]
     },
     "execution_count": 46,
     "metadata": {},
     "output_type": "execute_result"
    }
   ],
   "source": [
    "un_indicators.columns"
   ]
  },
  {
   "cell_type": "code",
   "execution_count": 47,
   "id": "3eb9eac4-550c-471b-bec3-d95de0809491",
   "metadata": {},
   "outputs": [],
   "source": [
    "un_indicators = un_indicators[['Time', 'Location', 'LocTypeName', 'ISO3_code', 'Births', 'CBR', 'TFR', 'NRR', 'PopGrowthRate', 'TPopulation1Jan']]"
   ]
  },
  {
   "cell_type": "code",
   "execution_count": 48,
   "id": "ad2b2770-d881-46c4-ba26-768d70e796c3",
   "metadata": {},
   "outputs": [
    {
     "data": {
      "text/html": [
       "<div>\n",
       "<style scoped>\n",
       "    .dataframe tbody tr th:only-of-type {\n",
       "        vertical-align: middle;\n",
       "    }\n",
       "\n",
       "    .dataframe tbody tr th {\n",
       "        vertical-align: top;\n",
       "    }\n",
       "\n",
       "    .dataframe thead th {\n",
       "        text-align: right;\n",
       "    }\n",
       "</style>\n",
       "<table border=\"1\" class=\"dataframe\">\n",
       "  <thead>\n",
       "    <tr style=\"text-align: right;\">\n",
       "      <th></th>\n",
       "      <th>Time</th>\n",
       "      <th>Location</th>\n",
       "      <th>LocTypeName</th>\n",
       "      <th>ISO3_code</th>\n",
       "      <th>Births</th>\n",
       "      <th>CBR</th>\n",
       "      <th>TFR</th>\n",
       "      <th>NRR</th>\n",
       "      <th>PopGrowthRate</th>\n",
       "      <th>TPopulation1Jan</th>\n",
       "    </tr>\n",
       "  </thead>\n",
       "  <tbody>\n",
       "    <tr>\n",
       "      <th>0</th>\n",
       "      <td>1950</td>\n",
       "      <td>ADB region: Central and West Asia</td>\n",
       "      <td>NaN</td>\n",
       "      <td>NaN</td>\n",
       "      <td>2933.594</td>\n",
       "      <td>42.385</td>\n",
       "      <td>5.9875</td>\n",
       "      <td>1.6659</td>\n",
       "      <td>2.058</td>\n",
       "      <td>68501.280</td>\n",
       "    </tr>\n",
       "    <tr>\n",
       "      <th>1</th>\n",
       "      <td>1951</td>\n",
       "      <td>ADB region: Central and West Asia</td>\n",
       "      <td>NaN</td>\n",
       "      <td>NaN</td>\n",
       "      <td>3012.920</td>\n",
       "      <td>42.626</td>\n",
       "      <td>5.9815</td>\n",
       "      <td>1.7067</td>\n",
       "      <td>2.143</td>\n",
       "      <td>69925.568</td>\n",
       "    </tr>\n",
       "    <tr>\n",
       "      <th>2</th>\n",
       "      <td>1952</td>\n",
       "      <td>ADB region: Central and West Asia</td>\n",
       "      <td>NaN</td>\n",
       "      <td>NaN</td>\n",
       "      <td>3099.971</td>\n",
       "      <td>42.913</td>\n",
       "      <td>5.9847</td>\n",
       "      <td>1.7433</td>\n",
       "      <td>2.212</td>\n",
       "      <td>71439.952</td>\n",
       "    </tr>\n",
       "    <tr>\n",
       "      <th>3</th>\n",
       "      <td>1953</td>\n",
       "      <td>ADB region: Central and West Asia</td>\n",
       "      <td>NaN</td>\n",
       "      <td>NaN</td>\n",
       "      <td>3193.546</td>\n",
       "      <td>43.228</td>\n",
       "      <td>5.9954</td>\n",
       "      <td>1.7815</td>\n",
       "      <td>2.271</td>\n",
       "      <td>73037.479</td>\n",
       "    </tr>\n",
       "    <tr>\n",
       "      <th>4</th>\n",
       "      <td>1954</td>\n",
       "      <td>ADB region: Central and West Asia</td>\n",
       "      <td>NaN</td>\n",
       "      <td>NaN</td>\n",
       "      <td>3288.272</td>\n",
       "      <td>43.495</td>\n",
       "      <td>6.0042</td>\n",
       "      <td>1.8136</td>\n",
       "      <td>2.342</td>\n",
       "      <td>74715.250</td>\n",
       "    </tr>\n",
       "    <tr>\n",
       "      <th>...</th>\n",
       "      <td>...</td>\n",
       "      <td>...</td>\n",
       "      <td>...</td>\n",
       "      <td>...</td>\n",
       "      <td>...</td>\n",
       "      <td>...</td>\n",
       "      <td>...</td>\n",
       "      <td>...</td>\n",
       "      <td>...</td>\n",
       "      <td>...</td>\n",
       "    </tr>\n",
       "    <tr>\n",
       "      <th>84355</th>\n",
       "      <td>2097</td>\n",
       "      <td>Wallis and Futuna Islands</td>\n",
       "      <td>Country/Area</td>\n",
       "      <td>WLF</td>\n",
       "      <td>0.046</td>\n",
       "      <td>6.458</td>\n",
       "      <td>1.5266</td>\n",
       "      <td>0.7377</td>\n",
       "      <td>-1.081</td>\n",
       "      <td>7.161</td>\n",
       "    </tr>\n",
       "    <tr>\n",
       "      <th>84356</th>\n",
       "      <td>2098</td>\n",
       "      <td>Wallis and Futuna Islands</td>\n",
       "      <td>Country/Area</td>\n",
       "      <td>WLF</td>\n",
       "      <td>0.046</td>\n",
       "      <td>6.542</td>\n",
       "      <td>1.5249</td>\n",
       "      <td>0.7370</td>\n",
       "      <td>-1.164</td>\n",
       "      <td>7.084</td>\n",
       "    </tr>\n",
       "    <tr>\n",
       "      <th>84357</th>\n",
       "      <td>2099</td>\n",
       "      <td>Wallis and Futuna Islands</td>\n",
       "      <td>Country/Area</td>\n",
       "      <td>WLF</td>\n",
       "      <td>0.046</td>\n",
       "      <td>6.658</td>\n",
       "      <td>1.5266</td>\n",
       "      <td>0.7379</td>\n",
       "      <td>-1.250</td>\n",
       "      <td>7.002</td>\n",
       "    </tr>\n",
       "    <tr>\n",
       "      <th>84358</th>\n",
       "      <td>2100</td>\n",
       "      <td>Wallis and Futuna Islands</td>\n",
       "      <td>Country/Area</td>\n",
       "      <td>WLF</td>\n",
       "      <td>0.047</td>\n",
       "      <td>6.771</td>\n",
       "      <td>1.5271</td>\n",
       "      <td>0.7382</td>\n",
       "      <td>-1.091</td>\n",
       "      <td>6.915</td>\n",
       "    </tr>\n",
       "    <tr>\n",
       "      <th>84359</th>\n",
       "      <td>2101</td>\n",
       "      <td>Wallis and Futuna Islands</td>\n",
       "      <td>Country/Area</td>\n",
       "      <td>WLF</td>\n",
       "      <td>NaN</td>\n",
       "      <td>NaN</td>\n",
       "      <td>NaN</td>\n",
       "      <td>NaN</td>\n",
       "      <td>NaN</td>\n",
       "      <td>6.840</td>\n",
       "    </tr>\n",
       "  </tbody>\n",
       "</table>\n",
       "<p>84360 rows × 10 columns</p>\n",
       "</div>"
      ],
      "text/plain": [
       "       Time                           Location   LocTypeName ISO3_code  \\\n",
       "0      1950  ADB region: Central and West Asia           NaN       NaN   \n",
       "1      1951  ADB region: Central and West Asia           NaN       NaN   \n",
       "2      1952  ADB region: Central and West Asia           NaN       NaN   \n",
       "3      1953  ADB region: Central and West Asia           NaN       NaN   \n",
       "4      1954  ADB region: Central and West Asia           NaN       NaN   \n",
       "...     ...                                ...           ...       ...   \n",
       "84355  2097          Wallis and Futuna Islands  Country/Area       WLF   \n",
       "84356  2098          Wallis and Futuna Islands  Country/Area       WLF   \n",
       "84357  2099          Wallis and Futuna Islands  Country/Area       WLF   \n",
       "84358  2100          Wallis and Futuna Islands  Country/Area       WLF   \n",
       "84359  2101          Wallis and Futuna Islands  Country/Area       WLF   \n",
       "\n",
       "         Births     CBR     TFR     NRR  PopGrowthRate  TPopulation1Jan  \n",
       "0      2933.594  42.385  5.9875  1.6659          2.058        68501.280  \n",
       "1      3012.920  42.626  5.9815  1.7067          2.143        69925.568  \n",
       "2      3099.971  42.913  5.9847  1.7433          2.212        71439.952  \n",
       "3      3193.546  43.228  5.9954  1.7815          2.271        73037.479  \n",
       "4      3288.272  43.495  6.0042  1.8136          2.342        74715.250  \n",
       "...         ...     ...     ...     ...            ...              ...  \n",
       "84355     0.046   6.458  1.5266  0.7377         -1.081            7.161  \n",
       "84356     0.046   6.542  1.5249  0.7370         -1.164            7.084  \n",
       "84357     0.046   6.658  1.5266  0.7379         -1.250            7.002  \n",
       "84358     0.047   6.771  1.5271  0.7382         -1.091            6.915  \n",
       "84359       NaN     NaN     NaN     NaN            NaN            6.840  \n",
       "\n",
       "[84360 rows x 10 columns]"
      ]
     },
     "execution_count": 48,
     "metadata": {},
     "output_type": "execute_result"
    }
   ],
   "source": [
    "un_indicators"
   ]
  },
  {
   "cell_type": "markdown",
   "id": "19b482b9-2905-456e-8cb1-2f00927aac3e",
   "metadata": {},
   "source": [
    "# Break UN Indicators into multiple tables: World, Region"
   ]
  },
  {
   "cell_type": "code",
   "execution_count": 50,
   "id": "3758fe9d-1244-4bff-913a-cd9a11b8b50e",
   "metadata": {},
   "outputs": [],
   "source": [
    "world = un_indicators.loc[un_indicators['Location'] == 'World']"
   ]
  },
  {
   "cell_type": "code",
   "execution_count": 51,
   "id": "b8a58a2c-6235-47a0-914b-a09384c935b3",
   "metadata": {},
   "outputs": [
    {
     "data": {
      "text/html": [
       "<div>\n",
       "<style scoped>\n",
       "    .dataframe tbody tr th:only-of-type {\n",
       "        vertical-align: middle;\n",
       "    }\n",
       "\n",
       "    .dataframe tbody tr th {\n",
       "        vertical-align: top;\n",
       "    }\n",
       "\n",
       "    .dataframe thead th {\n",
       "        text-align: right;\n",
       "    }\n",
       "</style>\n",
       "<table border=\"1\" class=\"dataframe\">\n",
       "  <thead>\n",
       "    <tr style=\"text-align: right;\">\n",
       "      <th></th>\n",
       "      <th>Time</th>\n",
       "      <th>Location</th>\n",
       "      <th>LocTypeName</th>\n",
       "      <th>ISO3_code</th>\n",
       "      <th>Births</th>\n",
       "      <th>CBR</th>\n",
       "      <th>TFR</th>\n",
       "      <th>NRR</th>\n",
       "      <th>PopGrowthRate</th>\n",
       "      <th>TPopulation1Jan</th>\n",
       "    </tr>\n",
       "  </thead>\n",
       "  <tbody>\n",
       "    <tr>\n",
       "      <th>35568</th>\n",
       "      <td>1950</td>\n",
       "      <td>World</td>\n",
       "      <td>World</td>\n",
       "      <td>NaN</td>\n",
       "      <td>91823.936</td>\n",
       "      <td>36.831</td>\n",
       "      <td>4.8519</td>\n",
       "      <td>1.6316</td>\n",
       "      <td>1.738</td>\n",
       "      <td>2.471424e+06</td>\n",
       "    </tr>\n",
       "    <tr>\n",
       "      <th>35569</th>\n",
       "      <td>1951</td>\n",
       "      <td>World</td>\n",
       "      <td>World</td>\n",
       "      <td>NaN</td>\n",
       "      <td>92507.128</td>\n",
       "      <td>36.464</td>\n",
       "      <td>4.8164</td>\n",
       "      <td>1.6377</td>\n",
       "      <td>1.747</td>\n",
       "      <td>2.514762e+06</td>\n",
       "    </tr>\n",
       "    <tr>\n",
       "      <th>35570</th>\n",
       "      <td>1952</td>\n",
       "      <td>World</td>\n",
       "      <td>World</td>\n",
       "      <td>NaN</td>\n",
       "      <td>97371.459</td>\n",
       "      <td>37.681</td>\n",
       "      <td>5.0008</td>\n",
       "      <td>1.7256</td>\n",
       "      <td>1.935</td>\n",
       "      <td>2.559092e+06</td>\n",
       "    </tr>\n",
       "    <tr>\n",
       "      <th>35571</th>\n",
       "      <td>1953</td>\n",
       "      <td>World</td>\n",
       "      <td>World</td>\n",
       "      <td>NaN</td>\n",
       "      <td>97291.452</td>\n",
       "      <td>36.935</td>\n",
       "      <td>4.9223</td>\n",
       "      <td>1.7133</td>\n",
       "      <td>1.900</td>\n",
       "      <td>2.609080e+06</td>\n",
       "    </tr>\n",
       "    <tr>\n",
       "      <th>35572</th>\n",
       "      <td>1954</td>\n",
       "      <td>World</td>\n",
       "      <td>World</td>\n",
       "      <td>NaN</td>\n",
       "      <td>100187.854</td>\n",
       "      <td>37.301</td>\n",
       "      <td>4.9978</td>\n",
       "      <td>1.7612</td>\n",
       "      <td>1.993</td>\n",
       "      <td>2.659132e+06</td>\n",
       "    </tr>\n",
       "    <tr>\n",
       "      <th>...</th>\n",
       "      <td>...</td>\n",
       "      <td>...</td>\n",
       "      <td>...</td>\n",
       "      <td>...</td>\n",
       "      <td>...</td>\n",
       "      <td>...</td>\n",
       "      <td>...</td>\n",
       "      <td>...</td>\n",
       "      <td>...</td>\n",
       "      <td>...</td>\n",
       "    </tr>\n",
       "    <tr>\n",
       "      <th>35715</th>\n",
       "      <td>2097</td>\n",
       "      <td>World</td>\n",
       "      <td>World</td>\n",
       "      <td>NaN</td>\n",
       "      <td>111397.100</td>\n",
       "      <td>10.905</td>\n",
       "      <td>1.8493</td>\n",
       "      <td>0.8843</td>\n",
       "      <td>-0.105</td>\n",
       "      <td>1.022089e+07</td>\n",
       "    </tr>\n",
       "    <tr>\n",
       "      <th>35716</th>\n",
       "      <td>2098</td>\n",
       "      <td>World</td>\n",
       "      <td>World</td>\n",
       "      <td>NaN</td>\n",
       "      <td>110941.160</td>\n",
       "      <td>10.872</td>\n",
       "      <td>1.8454</td>\n",
       "      <td>0.8826</td>\n",
       "      <td>-0.112</td>\n",
       "      <td>1.021021e+07</td>\n",
       "    </tr>\n",
       "    <tr>\n",
       "      <th>35717</th>\n",
       "      <td>2099</td>\n",
       "      <td>World</td>\n",
       "      <td>World</td>\n",
       "      <td>NaN</td>\n",
       "      <td>110500.810</td>\n",
       "      <td>10.841</td>\n",
       "      <td>1.8419</td>\n",
       "      <td>0.8812</td>\n",
       "      <td>-0.119</td>\n",
       "      <td>1.019877e+07</td>\n",
       "    </tr>\n",
       "    <tr>\n",
       "      <th>35718</th>\n",
       "      <td>2100</td>\n",
       "      <td>World</td>\n",
       "      <td>World</td>\n",
       "      <td>NaN</td>\n",
       "      <td>110028.472</td>\n",
       "      <td>10.808</td>\n",
       "      <td>1.8380</td>\n",
       "      <td>0.8795</td>\n",
       "      <td>-0.127</td>\n",
       "      <td>1.018661e+07</td>\n",
       "    </tr>\n",
       "    <tr>\n",
       "      <th>35719</th>\n",
       "      <td>2101</td>\n",
       "      <td>World</td>\n",
       "      <td>World</td>\n",
       "      <td>NaN</td>\n",
       "      <td>NaN</td>\n",
       "      <td>NaN</td>\n",
       "      <td>NaN</td>\n",
       "      <td>NaN</td>\n",
       "      <td>NaN</td>\n",
       "      <td>1.017371e+07</td>\n",
       "    </tr>\n",
       "  </tbody>\n",
       "</table>\n",
       "<p>152 rows × 10 columns</p>\n",
       "</div>"
      ],
      "text/plain": [
       "       Time Location LocTypeName ISO3_code      Births     CBR     TFR  \\\n",
       "35568  1950    World       World       NaN   91823.936  36.831  4.8519   \n",
       "35569  1951    World       World       NaN   92507.128  36.464  4.8164   \n",
       "35570  1952    World       World       NaN   97371.459  37.681  5.0008   \n",
       "35571  1953    World       World       NaN   97291.452  36.935  4.9223   \n",
       "35572  1954    World       World       NaN  100187.854  37.301  4.9978   \n",
       "...     ...      ...         ...       ...         ...     ...     ...   \n",
       "35715  2097    World       World       NaN  111397.100  10.905  1.8493   \n",
       "35716  2098    World       World       NaN  110941.160  10.872  1.8454   \n",
       "35717  2099    World       World       NaN  110500.810  10.841  1.8419   \n",
       "35718  2100    World       World       NaN  110028.472  10.808  1.8380   \n",
       "35719  2101    World       World       NaN         NaN     NaN     NaN   \n",
       "\n",
       "          NRR  PopGrowthRate  TPopulation1Jan  \n",
       "35568  1.6316          1.738     2.471424e+06  \n",
       "35569  1.6377          1.747     2.514762e+06  \n",
       "35570  1.7256          1.935     2.559092e+06  \n",
       "35571  1.7133          1.900     2.609080e+06  \n",
       "35572  1.7612          1.993     2.659132e+06  \n",
       "...       ...            ...              ...  \n",
       "35715  0.8843         -0.105     1.022089e+07  \n",
       "35716  0.8826         -0.112     1.021021e+07  \n",
       "35717  0.8812         -0.119     1.019877e+07  \n",
       "35718  0.8795         -0.127     1.018661e+07  \n",
       "35719     NaN            NaN     1.017371e+07  \n",
       "\n",
       "[152 rows x 10 columns]"
      ]
     },
     "execution_count": 51,
     "metadata": {},
     "output_type": "execute_result"
    }
   ],
   "source": [
    "world"
   ]
  },
  {
   "cell_type": "markdown",
   "id": "263f567a-dc3c-4061-b434-4d9ffd79f991",
   "metadata": {},
   "source": [
    "# Checking and correcting discrepancies between Johnson_Grim religion data and UN data continent categorization\n",
    "\n",
    "Johnson_Grim uses 'Latin America', but UN data splits into 'Americas' and 'Latin America and the Caribbean'"
   ]
  },
  {
   "cell_type": "code",
   "execution_count": 53,
   "id": "22561bd7-4a05-476d-866a-f1f4acb9912c",
   "metadata": {},
   "outputs": [],
   "source": [
    "geographic_region = un_indicators.loc[un_indicators['LocTypeName'] == 'Geographic region']"
   ]
  },
  {
   "cell_type": "code",
   "execution_count": 54,
   "id": "41d0375c-02a6-4d7f-80c8-ed47b116d6e4",
   "metadata": {},
   "outputs": [
    {
     "data": {
      "text/plain": [
       "Location\n",
       "Africa                             152\n",
       "Asia                               152\n",
       "Europe                             152\n",
       "Americas                           152\n",
       "Latin America and the Caribbean    152\n",
       "Northern America                   152\n",
       "Oceania                            152\n",
       "Name: count, dtype: int64"
      ]
     },
     "execution_count": 54,
     "metadata": {},
     "output_type": "execute_result"
    }
   ],
   "source": [
    "geographic_region['Location'].value_counts()"
   ]
  },
  {
   "cell_type": "code",
   "execution_count": 55,
   "id": "2b8824f1-a8c2-47b5-b99e-d1aaa9031284",
   "metadata": {},
   "outputs": [],
   "source": [
    "americas = geographic_region.loc[geographic_region['Location'] == 'Americas']"
   ]
  },
  {
   "cell_type": "code",
   "execution_count": 56,
   "id": "a9e5e191-9fd7-4771-bbc7-c14f576f4647",
   "metadata": {},
   "outputs": [],
   "source": [
    "Latin_America_and_the_Caribbean = geographic_region.loc[geographic_region['Location'] == 'Latin America and the Caribbean']"
   ]
  },
  {
   "cell_type": "code",
   "execution_count": 57,
   "id": "11fa0294-0f55-4f73-bda9-e5ca1c6297f4",
   "metadata": {},
   "outputs": [],
   "source": [
    "americas_latin_merge = pd.merge(americas, Latin_America_and_the_Caribbean, left_on = 'Time', right_on = 'Time')"
   ]
  },
  {
   "cell_type": "code",
   "execution_count": 58,
   "id": "3a9908e7-9e75-4ad8-8c49-dfe566f14f63",
   "metadata": {},
   "outputs": [],
   "source": [
    "americas_latin_merge['Births'] = americas_latin_merge['Births_x'] + americas_latin_merge['Births_y']"
   ]
  },
  {
   "cell_type": "code",
   "execution_count": 59,
   "id": "61484d9d-08df-4971-9ec2-b614b71bf204",
   "metadata": {},
   "outputs": [],
   "source": [
    "americas_latin_merge['CBR'] = americas_latin_merge['CBR_x'] + americas_latin_merge['CBR_y']"
   ]
  },
  {
   "cell_type": "code",
   "execution_count": 60,
   "id": "8a2f3225-434c-4873-ab13-669b4179ce4a",
   "metadata": {},
   "outputs": [],
   "source": [
    "americas_latin_merge['TFR'] = americas_latin_merge['TFR_x'] + americas_latin_merge['TFR_y']"
   ]
  },
  {
   "cell_type": "code",
   "execution_count": 61,
   "id": "40c79268-e1e1-4587-8f9b-be608c296c4e",
   "metadata": {},
   "outputs": [],
   "source": [
    "americas_latin_merge['NRR'] = americas_latin_merge['NRR_x'] + americas_latin_merge['NRR_y']"
   ]
  },
  {
   "cell_type": "code",
   "execution_count": 62,
   "id": "d2fd9a43-2688-4910-ab63-12fc0aaeb6a1",
   "metadata": {},
   "outputs": [],
   "source": [
    "americas_latin_merge['TPopulation1Jan'] = americas_latin_merge['TPopulation1Jan_x'] + americas_latin_merge['TPopulation1Jan_y']"
   ]
  },
  {
   "cell_type": "code",
   "execution_count": 63,
   "id": "27b6a71d-f15a-4e61-bcf5-c63f54ad6f38",
   "metadata": {},
   "outputs": [],
   "source": [
    "americas_latin_merge['PopGrowthRate'] = round(((americas_latin_merge['TPopulation1Jan'].pct_change()) * 100), 3)"
   ]
  },
  {
   "cell_type": "code",
   "execution_count": 64,
   "id": "5edccc57-4f0c-40bb-9f58-8cdc3d831bd8",
   "metadata": {},
   "outputs": [],
   "source": [
    "americas_latin_merge['Location'] = 'Latin America'"
   ]
  },
  {
   "cell_type": "code",
   "execution_count": 65,
   "id": "b8480706-45d5-45ae-89f2-f9239f8a48e1",
   "metadata": {},
   "outputs": [],
   "source": [
    "latin_america = americas_latin_merge[['Time', 'Location', 'Births', 'CBR', 'TFR', 'NRR', 'PopGrowthRate', 'TPopulation1Jan']]"
   ]
  },
  {
   "cell_type": "code",
   "execution_count": 66,
   "id": "2dcb190a-e1db-409f-8be7-6d3b8a97fd70",
   "metadata": {},
   "outputs": [
    {
     "data": {
      "text/html": [
       "<div>\n",
       "<style scoped>\n",
       "    .dataframe tbody tr th:only-of-type {\n",
       "        vertical-align: middle;\n",
       "    }\n",
       "\n",
       "    .dataframe tbody tr th {\n",
       "        vertical-align: top;\n",
       "    }\n",
       "\n",
       "    .dataframe thead th {\n",
       "        text-align: right;\n",
       "    }\n",
       "</style>\n",
       "<table border=\"1\" class=\"dataframe\">\n",
       "  <thead>\n",
       "    <tr style=\"text-align: right;\">\n",
       "      <th></th>\n",
       "      <th>Time</th>\n",
       "      <th>Location</th>\n",
       "      <th>Births</th>\n",
       "      <th>CBR</th>\n",
       "      <th>TFR</th>\n",
       "      <th>NRR</th>\n",
       "      <th>PopGrowthRate</th>\n",
       "      <th>TPopulation1Jan</th>\n",
       "    </tr>\n",
       "  </thead>\n",
       "  <tbody>\n",
       "    <tr>\n",
       "      <th>0</th>\n",
       "      <td>1950</td>\n",
       "      <td>Latin America</td>\n",
       "      <td>18669.028</td>\n",
       "      <td>77.381</td>\n",
       "      <td>10.1568</td>\n",
       "      <td>3.7923</td>\n",
       "      <td>NaN</td>\n",
       "      <td>497980.009</td>\n",
       "    </tr>\n",
       "    <tr>\n",
       "      <th>1</th>\n",
       "      <td>1951</td>\n",
       "      <td>Latin America</td>\n",
       "      <td>19165.035</td>\n",
       "      <td>77.563</td>\n",
       "      <td>10.2264</td>\n",
       "      <td>3.8506</td>\n",
       "      <td>2.247</td>\n",
       "      <td>509167.297</td>\n",
       "    </tr>\n",
       "    <tr>\n",
       "      <th>2</th>\n",
       "      <td>1952</td>\n",
       "      <td>Latin America</td>\n",
       "      <td>19646.510</td>\n",
       "      <td>77.626</td>\n",
       "      <td>10.2933</td>\n",
       "      <td>3.9086</td>\n",
       "      <td>2.286</td>\n",
       "      <td>520808.579</td>\n",
       "    </tr>\n",
       "    <tr>\n",
       "      <th>3</th>\n",
       "      <td>1953</td>\n",
       "      <td>Latin America</td>\n",
       "      <td>20093.248</td>\n",
       "      <td>77.539</td>\n",
       "      <td>10.3499</td>\n",
       "      <td>3.9628</td>\n",
       "      <td>2.312</td>\n",
       "      <td>532850.652</td>\n",
       "    </tr>\n",
       "    <tr>\n",
       "      <th>4</th>\n",
       "      <td>1954</td>\n",
       "      <td>Latin America</td>\n",
       "      <td>20606.443</td>\n",
       "      <td>77.581</td>\n",
       "      <td>10.4325</td>\n",
       "      <td>4.0288</td>\n",
       "      <td>2.332</td>\n",
       "      <td>545278.842</td>\n",
       "    </tr>\n",
       "    <tr>\n",
       "      <th>...</th>\n",
       "      <td>...</td>\n",
       "      <td>...</td>\n",
       "      <td>...</td>\n",
       "      <td>...</td>\n",
       "      <td>...</td>\n",
       "      <td>...</td>\n",
       "      <td>...</td>\n",
       "      <td>...</td>\n",
       "    </tr>\n",
       "    <tr>\n",
       "      <th>147</th>\n",
       "      <td>2097</td>\n",
       "      <td>Latin America</td>\n",
       "      <td>14842.506</td>\n",
       "      <td>17.145</td>\n",
       "      <td>3.2903</td>\n",
       "      <td>1.5978</td>\n",
       "      <td>-0.383</td>\n",
       "      <td>1725134.718</td>\n",
       "    </tr>\n",
       "    <tr>\n",
       "      <th>148</th>\n",
       "      <td>2098</td>\n",
       "      <td>Latin America</td>\n",
       "      <td>14767.885</td>\n",
       "      <td>17.123</td>\n",
       "      <td>3.2887</td>\n",
       "      <td>1.5972</td>\n",
       "      <td>-0.383</td>\n",
       "      <td>1718534.988</td>\n",
       "    </tr>\n",
       "    <tr>\n",
       "      <th>149</th>\n",
       "      <td>2099</td>\n",
       "      <td>Latin America</td>\n",
       "      <td>14703.652</td>\n",
       "      <td>17.111</td>\n",
       "      <td>3.2893</td>\n",
       "      <td>1.5977</td>\n",
       "      <td>-0.388</td>\n",
       "      <td>1711868.764</td>\n",
       "    </tr>\n",
       "    <tr>\n",
       "      <th>150</th>\n",
       "      <td>2100</td>\n",
       "      <td>Latin America</td>\n",
       "      <td>14628.260</td>\n",
       "      <td>17.090</td>\n",
       "      <td>3.2877</td>\n",
       "      <td>1.5970</td>\n",
       "      <td>-0.388</td>\n",
       "      <td>1705218.645</td>\n",
       "    </tr>\n",
       "    <tr>\n",
       "      <th>151</th>\n",
       "      <td>2101</td>\n",
       "      <td>Latin America</td>\n",
       "      <td>NaN</td>\n",
       "      <td>NaN</td>\n",
       "      <td>NaN</td>\n",
       "      <td>NaN</td>\n",
       "      <td>-0.394</td>\n",
       "      <td>1698502.295</td>\n",
       "    </tr>\n",
       "  </tbody>\n",
       "</table>\n",
       "<p>152 rows × 8 columns</p>\n",
       "</div>"
      ],
      "text/plain": [
       "     Time       Location     Births     CBR      TFR     NRR  PopGrowthRate  \\\n",
       "0    1950  Latin America  18669.028  77.381  10.1568  3.7923            NaN   \n",
       "1    1951  Latin America  19165.035  77.563  10.2264  3.8506          2.247   \n",
       "2    1952  Latin America  19646.510  77.626  10.2933  3.9086          2.286   \n",
       "3    1953  Latin America  20093.248  77.539  10.3499  3.9628          2.312   \n",
       "4    1954  Latin America  20606.443  77.581  10.4325  4.0288          2.332   \n",
       "..    ...            ...        ...     ...      ...     ...            ...   \n",
       "147  2097  Latin America  14842.506  17.145   3.2903  1.5978         -0.383   \n",
       "148  2098  Latin America  14767.885  17.123   3.2887  1.5972         -0.383   \n",
       "149  2099  Latin America  14703.652  17.111   3.2893  1.5977         -0.388   \n",
       "150  2100  Latin America  14628.260  17.090   3.2877  1.5970         -0.388   \n",
       "151  2101  Latin America        NaN     NaN      NaN     NaN         -0.394   \n",
       "\n",
       "     TPopulation1Jan  \n",
       "0         497980.009  \n",
       "1         509167.297  \n",
       "2         520808.579  \n",
       "3         532850.652  \n",
       "4         545278.842  \n",
       "..               ...  \n",
       "147      1725134.718  \n",
       "148      1718534.988  \n",
       "149      1711868.764  \n",
       "150      1705218.645  \n",
       "151      1698502.295  \n",
       "\n",
       "[152 rows x 8 columns]"
      ]
     },
     "execution_count": 66,
     "metadata": {},
     "output_type": "execute_result"
    }
   ],
   "source": [
    "latin_america"
   ]
  },
  {
   "cell_type": "code",
   "execution_count": 67,
   "id": "6a54721c-455d-4abf-a666-b6dca7bc2e3e",
   "metadata": {},
   "outputs": [],
   "source": [
    "geographic_region2 = pd.concat([geographic_region, latin_america], axis=0, ignore_index=True).reset_index()"
   ]
  },
  {
   "cell_type": "code",
   "execution_count": 68,
   "id": "d1f24f7c-3dfe-4e7e-8d38-2bda5a57b280",
   "metadata": {},
   "outputs": [],
   "source": [
    "geographic_region2 = geographic_region[((geographic_region['Location'] != 'Americas') & (geographic_region['Location'] != 'Latin America and the Caribbean'))]"
   ]
  },
  {
   "cell_type": "code",
   "execution_count": 69,
   "id": "cde75111-9b2b-47a5-9a57-a23746f12a27",
   "metadata": {},
   "outputs": [
    {
     "data": {
      "text/plain": [
       "Location\n",
       "Africa              152\n",
       "Asia                152\n",
       "Europe              152\n",
       "Northern America    152\n",
       "Oceania             152\n",
       "Name: count, dtype: int64"
      ]
     },
     "execution_count": 69,
     "metadata": {},
     "output_type": "execute_result"
    }
   ],
   "source": [
    "geographic_region2['Location'].value_counts()"
   ]
  },
  {
   "cell_type": "code",
   "execution_count": 70,
   "id": "9f8ad67d-2ddb-4013-a2df-2082d5315e48",
   "metadata": {},
   "outputs": [
    {
     "data": {
      "text/html": [
       "<div>\n",
       "<style scoped>\n",
       "    .dataframe tbody tr th:only-of-type {\n",
       "        vertical-align: middle;\n",
       "    }\n",
       "\n",
       "    .dataframe tbody tr th {\n",
       "        vertical-align: top;\n",
       "    }\n",
       "\n",
       "    .dataframe thead th {\n",
       "        text-align: right;\n",
       "    }\n",
       "</style>\n",
       "<table border=\"1\" class=\"dataframe\">\n",
       "  <thead>\n",
       "    <tr style=\"text-align: right;\">\n",
       "      <th></th>\n",
       "      <th>Time</th>\n",
       "      <th>Location</th>\n",
       "      <th>Births</th>\n",
       "      <th>CBR</th>\n",
       "      <th>TFR</th>\n",
       "      <th>NRR</th>\n",
       "      <th>PopGrowthRate</th>\n",
       "      <th>TPopulation1Jan</th>\n",
       "    </tr>\n",
       "  </thead>\n",
       "  <tbody>\n",
       "    <tr>\n",
       "      <th>0</th>\n",
       "      <td>1950</td>\n",
       "      <td>Latin America</td>\n",
       "      <td>18669.028</td>\n",
       "      <td>77.381</td>\n",
       "      <td>10.1568</td>\n",
       "      <td>3.7923</td>\n",
       "      <td>NaN</td>\n",
       "      <td>497980.009</td>\n",
       "    </tr>\n",
       "    <tr>\n",
       "      <th>1</th>\n",
       "      <td>1951</td>\n",
       "      <td>Latin America</td>\n",
       "      <td>19165.035</td>\n",
       "      <td>77.563</td>\n",
       "      <td>10.2264</td>\n",
       "      <td>3.8506</td>\n",
       "      <td>2.247</td>\n",
       "      <td>509167.297</td>\n",
       "    </tr>\n",
       "    <tr>\n",
       "      <th>2</th>\n",
       "      <td>1952</td>\n",
       "      <td>Latin America</td>\n",
       "      <td>19646.510</td>\n",
       "      <td>77.626</td>\n",
       "      <td>10.2933</td>\n",
       "      <td>3.9086</td>\n",
       "      <td>2.286</td>\n",
       "      <td>520808.579</td>\n",
       "    </tr>\n",
       "    <tr>\n",
       "      <th>3</th>\n",
       "      <td>1953</td>\n",
       "      <td>Latin America</td>\n",
       "      <td>20093.248</td>\n",
       "      <td>77.539</td>\n",
       "      <td>10.3499</td>\n",
       "      <td>3.9628</td>\n",
       "      <td>2.312</td>\n",
       "      <td>532850.652</td>\n",
       "    </tr>\n",
       "    <tr>\n",
       "      <th>4</th>\n",
       "      <td>1954</td>\n",
       "      <td>Latin America</td>\n",
       "      <td>20606.443</td>\n",
       "      <td>77.581</td>\n",
       "      <td>10.4325</td>\n",
       "      <td>4.0288</td>\n",
       "      <td>2.332</td>\n",
       "      <td>545278.842</td>\n",
       "    </tr>\n",
       "    <tr>\n",
       "      <th>...</th>\n",
       "      <td>...</td>\n",
       "      <td>...</td>\n",
       "      <td>...</td>\n",
       "      <td>...</td>\n",
       "      <td>...</td>\n",
       "      <td>...</td>\n",
       "      <td>...</td>\n",
       "      <td>...</td>\n",
       "    </tr>\n",
       "    <tr>\n",
       "      <th>147</th>\n",
       "      <td>2097</td>\n",
       "      <td>Latin America</td>\n",
       "      <td>14842.506</td>\n",
       "      <td>17.145</td>\n",
       "      <td>3.2903</td>\n",
       "      <td>1.5978</td>\n",
       "      <td>-0.383</td>\n",
       "      <td>1725134.718</td>\n",
       "    </tr>\n",
       "    <tr>\n",
       "      <th>148</th>\n",
       "      <td>2098</td>\n",
       "      <td>Latin America</td>\n",
       "      <td>14767.885</td>\n",
       "      <td>17.123</td>\n",
       "      <td>3.2887</td>\n",
       "      <td>1.5972</td>\n",
       "      <td>-0.383</td>\n",
       "      <td>1718534.988</td>\n",
       "    </tr>\n",
       "    <tr>\n",
       "      <th>149</th>\n",
       "      <td>2099</td>\n",
       "      <td>Latin America</td>\n",
       "      <td>14703.652</td>\n",
       "      <td>17.111</td>\n",
       "      <td>3.2893</td>\n",
       "      <td>1.5977</td>\n",
       "      <td>-0.388</td>\n",
       "      <td>1711868.764</td>\n",
       "    </tr>\n",
       "    <tr>\n",
       "      <th>150</th>\n",
       "      <td>2100</td>\n",
       "      <td>Latin America</td>\n",
       "      <td>14628.260</td>\n",
       "      <td>17.090</td>\n",
       "      <td>3.2877</td>\n",
       "      <td>1.5970</td>\n",
       "      <td>-0.388</td>\n",
       "      <td>1705218.645</td>\n",
       "    </tr>\n",
       "    <tr>\n",
       "      <th>151</th>\n",
       "      <td>2101</td>\n",
       "      <td>Latin America</td>\n",
       "      <td>NaN</td>\n",
       "      <td>NaN</td>\n",
       "      <td>NaN</td>\n",
       "      <td>NaN</td>\n",
       "      <td>-0.394</td>\n",
       "      <td>1698502.295</td>\n",
       "    </tr>\n",
       "  </tbody>\n",
       "</table>\n",
       "<p>152 rows × 8 columns</p>\n",
       "</div>"
      ],
      "text/plain": [
       "     Time       Location     Births     CBR      TFR     NRR  PopGrowthRate  \\\n",
       "0    1950  Latin America  18669.028  77.381  10.1568  3.7923            NaN   \n",
       "1    1951  Latin America  19165.035  77.563  10.2264  3.8506          2.247   \n",
       "2    1952  Latin America  19646.510  77.626  10.2933  3.9086          2.286   \n",
       "3    1953  Latin America  20093.248  77.539  10.3499  3.9628          2.312   \n",
       "4    1954  Latin America  20606.443  77.581  10.4325  4.0288          2.332   \n",
       "..    ...            ...        ...     ...      ...     ...            ...   \n",
       "147  2097  Latin America  14842.506  17.145   3.2903  1.5978         -0.383   \n",
       "148  2098  Latin America  14767.885  17.123   3.2887  1.5972         -0.383   \n",
       "149  2099  Latin America  14703.652  17.111   3.2893  1.5977         -0.388   \n",
       "150  2100  Latin America  14628.260  17.090   3.2877  1.5970         -0.388   \n",
       "151  2101  Latin America        NaN     NaN      NaN     NaN         -0.394   \n",
       "\n",
       "     TPopulation1Jan  \n",
       "0         497980.009  \n",
       "1         509167.297  \n",
       "2         520808.579  \n",
       "3         532850.652  \n",
       "4         545278.842  \n",
       "..               ...  \n",
       "147      1725134.718  \n",
       "148      1718534.988  \n",
       "149      1711868.764  \n",
       "150      1705218.645  \n",
       "151      1698502.295  \n",
       "\n",
       "[152 rows x 8 columns]"
      ]
     },
     "execution_count": 70,
     "metadata": {},
     "output_type": "execute_result"
    }
   ],
   "source": [
    "latin_america"
   ]
  },
  {
   "cell_type": "code",
   "execution_count": null,
   "id": "a280bf63-1b32-4d00-82f2-efb775fdf53c",
   "metadata": {},
   "outputs": [],
   "source": []
  }
 ],
 "metadata": {
  "kernelspec": {
   "display_name": "Python 3 (ipykernel)",
   "language": "python",
   "name": "python3"
  },
  "language_info": {
   "codemirror_mode": {
    "name": "ipython",
    "version": 3
   },
   "file_extension": ".py",
   "mimetype": "text/x-python",
   "name": "python",
   "nbconvert_exporter": "python",
   "pygments_lexer": "ipython3",
   "version": "3.12.4"
  }
 },
 "nbformat": 4,
 "nbformat_minor": 5
}
