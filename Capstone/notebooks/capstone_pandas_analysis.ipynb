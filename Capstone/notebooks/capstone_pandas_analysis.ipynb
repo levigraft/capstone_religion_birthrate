{
 "cells": [
  {
   "cell_type": "code",
   "execution_count": 1,
   "id": "aefe7edf-efcd-47a1-95fe-09f753106171",
   "metadata": {},
   "outputs": [],
   "source": [
    "import pandas as pd"
   ]
  },
  {
   "cell_type": "markdown",
   "id": "04a2eef9-bf8a-4588-8430-1e35023a8b30",
   "metadata": {},
   "source": [
    "# Bring in CSV converted from PDF"
   ]
  },
  {
   "cell_type": "markdown",
   "id": "afafcd67-2dd2-4845-b11f-45194035be5d",
   "metadata": {},
   "source": [
    "# PDF: The World’s Religions in Figures: An Introduction to International Religious Demography, \n",
    "First Edition. Todd M. Johnson and Brian J. Grim \r\n",
    "© 2013 John Wiley & Sons, Ltd. Published 2013 by John Wiley & Sons, Ltd."
   ]
  },
  {
   "cell_type": "markdown",
   "id": "439c4161-2b04-4e3b-9b68-25a243db9305",
   "metadata": {},
   "source": [
    "# Data source: Todd M. Johnson and Brian J. Grim, eds., World Religion Database (Leiden/Boston: Brill, accessed January 2012)"
   ]
  },
  {
   "cell_type": "code",
   "execution_count": 5,
   "id": "c2202a31-9a0d-4bc4-98ac-6a7f3794a823",
   "metadata": {},
   "outputs": [],
   "source": [
    "population = pd.read_csv('../data/johnson_grim/1910_2010_csv/population.csv', thousands=',')"
   ]
  },
  {
   "cell_type": "code",
   "execution_count": 6,
   "id": "de21cf10-83f7-4208-98d3-d4d2cd26d297",
   "metadata": {},
   "outputs": [],
   "source": [
    "agnostic = pd.read_csv('../data/johnson_grim/1910_2010_csv/agnostics.csv', thousands=',')"
   ]
  },
  {
   "cell_type": "code",
   "execution_count": 7,
   "id": "fc2f1d04-668b-4214-95c6-406651165308",
   "metadata": {},
   "outputs": [],
   "source": [
    "atheist = pd.read_csv('../data/johnson_grim/1910_2010_csv/atheist.csv', thousands=',')\n"
   ]
  },
  {
   "cell_type": "code",
   "execution_count": 8,
   "id": "0f9c9392-24c1-4ebe-a0f6-ac1d14b0e46e",
   "metadata": {},
   "outputs": [],
   "source": [
    "buddhist = pd.read_csv('../data/johnson_grim/1910_2010_csv/buddhist.csv', thousands=',')\n"
   ]
  },
  {
   "cell_type": "code",
   "execution_count": 9,
   "id": "4b564ad3-c792-4ab1-ba06-b0afdd239979",
   "metadata": {},
   "outputs": [],
   "source": [
    "christian = pd.read_csv('../data/johnson_grim/1910_2010_csv/christian.csv', thousands=',')\n"
   ]
  },
  {
   "cell_type": "code",
   "execution_count": 10,
   "id": "be9d20f7-d633-4509-80e1-7855f35634c2",
   "metadata": {},
   "outputs": [],
   "source": [
    "hindu = pd.read_csv('../data/johnson_grim/1910_2010_csv/hindu.csv', thousands=',')"
   ]
  },
  {
   "cell_type": "code",
   "execution_count": 11,
   "id": "1dd18aa8-8e20-4776-a142-8cc87a8b509c",
   "metadata": {},
   "outputs": [],
   "source": [
    "muslim = pd.read_csv('../data/johnson_grim/1910_2010_csv/muslim.csv', thousands=',')"
   ]
  },
  {
   "cell_type": "markdown",
   "id": "737cece7-7584-45be-8dbd-bc8e265e205b",
   "metadata": {},
   "source": [
    "# Bring in CSV converted from PDF"
   ]
  },
  {
   "cell_type": "markdown",
   "id": "f5816f7b-7b31-4d34-8c30-21d137a46c97",
   "metadata": {},
   "source": [
    "# PDF: Projecting Global Religious Populations, 2020–50 from Journal of Religion and Demography 8 (2021) 124–153\r"
   ]
  },
  {
   "cell_type": "markdown",
   "id": "e76e7167-39bd-4af0-b5b2-01e0e4fe8aa5",
   "metadata": {},
   "source": [
    "# Data source: Todd M. Johnson and Brian J. Grim, eds., World Religion Database (Leiden/Boston: Brill, accessed July 2021)."
   ]
  },
  {
   "cell_type": "code",
   "execution_count": 15,
   "id": "61fae0b6-0e67-4472-9c1e-9eeb0cb41486",
   "metadata": {},
   "outputs": [],
   "source": [
    "population2 = pd.read_csv('../data/johnson_grim/2020_2050_csv/population.csv', thousands=',')"
   ]
  },
  {
   "cell_type": "code",
   "execution_count": 16,
   "id": "6d9405af-7f20-45aa-9291-9c0659756436",
   "metadata": {},
   "outputs": [],
   "source": [
    "agnostic2 = pd.read_csv('../data/johnson_grim/2020_2050_csv/agnostic.csv', thousands=',')"
   ]
  },
  {
   "cell_type": "code",
   "execution_count": 17,
   "id": "f812cf04-e93b-46c6-8671-31846e9c7adf",
   "metadata": {},
   "outputs": [],
   "source": [
    "atheist2 = pd.read_csv('../data/johnson_grim/2020_2050_csv/atheist.csv', thousands=',')"
   ]
  },
  {
   "cell_type": "code",
   "execution_count": 18,
   "id": "7d54e31d-7d6e-497a-b60c-b0048e2a7caf",
   "metadata": {},
   "outputs": [],
   "source": [
    "buddhist2 = pd.read_csv('../data/johnson_grim/2020_2050_csv/buddhist.csv', thousands=',')"
   ]
  },
  {
   "cell_type": "code",
   "execution_count": 19,
   "id": "43502e52-0257-4b98-9dce-383ebdfb35d0",
   "metadata": {},
   "outputs": [],
   "source": [
    "christian2 = pd.read_csv('../data/johnson_grim/2020_2050_csv/christian.csv', thousands=',')"
   ]
  },
  {
   "cell_type": "code",
   "execution_count": 20,
   "id": "daf1b5ba-7240-44f0-b5fe-512b2679b032",
   "metadata": {},
   "outputs": [],
   "source": [
    "hindu2 = pd.read_csv('../data/johnson_grim/2020_2050_csv/hindu.csv', thousands=',')"
   ]
  },
  {
   "cell_type": "code",
   "execution_count": 21,
   "id": "cfd645f0-d095-41f2-9e46-1f8e5fe6b81b",
   "metadata": {},
   "outputs": [],
   "source": [
    "muslim2 = pd.read_csv('../data/johnson_grim/2020_2050_csv/muslim.csv', thousands=',')"
   ]
  },
  {
   "cell_type": "markdown",
   "id": "22284457-ea4d-4a0b-9160-808d25a20da1",
   "metadata": {},
   "source": [
    "# Merge 1910-2010 and 2020-2050 tables for each religion"
   ]
  },
  {
   "cell_type": "code",
   "execution_count": 23,
   "id": "9099876a-9887-481a-8432-f4b1d6555c7c",
   "metadata": {},
   "outputs": [],
   "source": [
    "population = pd.merge(population, population2, left_on = 'Region', right_on = 'Region')"
   ]
  },
  {
   "cell_type": "code",
   "execution_count": 24,
   "id": "d433917d-6bb2-4809-a7a7-f4f0f458758e",
   "metadata": {},
   "outputs": [],
   "source": [
    "agnostic = pd.merge(agnostic, agnostic2, left_on = 'Region', right_on = 'Region')"
   ]
  },
  {
   "cell_type": "code",
   "execution_count": 25,
   "id": "23e21f9f-82f6-4e7d-bd63-26944bc26e5c",
   "metadata": {},
   "outputs": [],
   "source": [
    "atheist = pd.merge(atheist, atheist2, left_on = 'Region', right_on = 'Region')"
   ]
  },
  {
   "cell_type": "code",
   "execution_count": 26,
   "id": "38305333-3c91-41e2-b509-d81de507a0ad",
   "metadata": {},
   "outputs": [],
   "source": [
    "buddhist = pd.merge(buddhist, buddhist2, left_on = 'Region', right_on = 'Region')"
   ]
  },
  {
   "cell_type": "code",
   "execution_count": 27,
   "id": "500a4c9a-11ac-475b-bb30-76c3a22a1173",
   "metadata": {},
   "outputs": [],
   "source": [
    "christian = pd.merge(christian, christian2, left_on = 'Region', right_on = 'Region')"
   ]
  },
  {
   "cell_type": "code",
   "execution_count": 28,
   "id": "8f4852be-7c1b-428e-9755-3ecee89c633a",
   "metadata": {},
   "outputs": [],
   "source": [
    "hindu = pd.merge(hindu, hindu2, left_on = 'Region', right_on = 'Region')"
   ]
  },
  {
   "cell_type": "code",
   "execution_count": 29,
   "id": "5dd11141-34ec-48f6-8a84-b14770ad395b",
   "metadata": {},
   "outputs": [],
   "source": [
    "muslim = pd.merge(muslim, muslim2, left_on = 'Region', right_on = 'Region')"
   ]
  },
  {
   "cell_type": "markdown",
   "id": "6267b573-b9bd-4d88-9a12-193f1ec229b6",
   "metadata": {},
   "source": [
    "# Clean column names for Each Religion and add Religion Column"
   ]
  },
  {
   "cell_type": "code",
   "execution_count": 31,
   "id": "bc311961-e6e9-4fa3-948f-37885d80a7d2",
   "metadata": {},
   "outputs": [],
   "source": [
    "agnostic = agnostic.rename(columns = {'A 1910':'Agnostics 1910','A 1970':'Agnostics 1970','A 2010':'Agnostics 2010'})"
   ]
  },
  {
   "cell_type": "code",
   "execution_count": 32,
   "id": "5f6df00f-1a76-4079-ab3e-1117fcf8b74f",
   "metadata": {},
   "outputs": [],
   "source": [
    "atheist = atheist.rename(columns = {'A 2020':'Atheists 2020', 'A 2050':'Atheists 2050'})"
   ]
  },
  {
   "cell_type": "code",
   "execution_count": 33,
   "id": "f9d22a09-cc12-42a4-a843-4ebfd4bbd60c",
   "metadata": {},
   "outputs": [],
   "source": [
    "population= population.rename(columns = {'Population 1910' : '1910', 'Population 1970' : '1970','Population 2010' : '2010','Population 2020' : '2020','Population 2050' : '2050'})"
   ]
  },
  {
   "cell_type": "code",
   "execution_count": 34,
   "id": "52fc903a-da27-4e5b-8c0b-afd6da1549f1",
   "metadata": {},
   "outputs": [],
   "source": [
    "population['Religion']= 'General Population'"
   ]
  },
  {
   "cell_type": "code",
   "execution_count": 35,
   "id": "9683bae5-e42b-4df5-bf3c-596ae2f0bed3",
   "metadata": {},
   "outputs": [],
   "source": [
    "agnostic=agnostic.rename(columns={'Agnostics 1910':'1910','Agnostics 1970':'1970','Agnostics 2010':'2010','Agnostics 2020':'2020', 'Agnostics 2050':'2050'})"
   ]
  },
  {
   "cell_type": "code",
   "execution_count": 36,
   "id": "b0f655ef-ff3a-413f-b08b-edf9ef789e4b",
   "metadata": {},
   "outputs": [],
   "source": [
    "agnostic['Religion']= 'Agnostic'"
   ]
  },
  {
   "cell_type": "code",
   "execution_count": 37,
   "id": "721ebe79-0845-4087-b6b5-432c82fc3d33",
   "metadata": {},
   "outputs": [],
   "source": [
    "atheist=atheist.rename(columns={'Atheists 1910':'1910','Atheists 1970':'1970','Atheists 2010':'2010','Atheists 2020':'2020', 'Atheists 2050':'2050'})"
   ]
  },
  {
   "cell_type": "code",
   "execution_count": 38,
   "id": "9f59dae1-958a-49f4-a326-fa6741716074",
   "metadata": {},
   "outputs": [],
   "source": [
    "atheist['Religion']= 'Atheist'"
   ]
  },
  {
   "cell_type": "code",
   "execution_count": 39,
   "id": "601ed0b1-f9c5-4035-bf6e-2ece2b759faa",
   "metadata": {},
   "outputs": [],
   "source": [
    "buddhist=buddhist.rename(columns={'Buddhists 1910':'1910','Buddhists 1970':'1970','Buddhists 2010':'2010','Buddhists 2020':'2020', 'Buddhists 2050':'2050'})"
   ]
  },
  {
   "cell_type": "code",
   "execution_count": 40,
   "id": "ff78e50e-a62b-4bfc-8151-39eee8dca72a",
   "metadata": {},
   "outputs": [],
   "source": [
    "buddhist['Religion']= 'Buddhist'"
   ]
  },
  {
   "cell_type": "code",
   "execution_count": 41,
   "id": "b6197806-f3f8-4cb8-b8e8-1eff5670ac1b",
   "metadata": {},
   "outputs": [],
   "source": [
    "christian=christian.rename(columns={'Christians 1910':'1910','Christians 1970':'1970','Christians 2010':'2010','Christians 2020':'2020', 'Christians 2050':'2050'})"
   ]
  },
  {
   "cell_type": "code",
   "execution_count": 42,
   "id": "e7f1dbc9-1187-435b-9248-d301099aae2c",
   "metadata": {},
   "outputs": [],
   "source": [
    "christian['Religion']= 'Christian'"
   ]
  },
  {
   "cell_type": "code",
   "execution_count": 43,
   "id": "46398326-4253-49b6-9535-a466754cf74b",
   "metadata": {},
   "outputs": [],
   "source": [
    "hindu=hindu.rename(columns={'Hindus 1910':'1910','Hindus 1970':'1970','Hindus 2010':'2010','Hindus 2020':'2020', 'Hindus 2050':'2050'})"
   ]
  },
  {
   "cell_type": "code",
   "execution_count": 44,
   "id": "f0f9128d-c68e-44fd-8a9b-05a628fb699f",
   "metadata": {},
   "outputs": [],
   "source": [
    "hindu['Religion']= 'Hindu'"
   ]
  },
  {
   "cell_type": "code",
   "execution_count": 45,
   "id": "1b6da785-c30e-4f4c-ba9a-ebb4d2a60092",
   "metadata": {},
   "outputs": [],
   "source": [
    "muslim=muslim.rename(columns={'Muslims 1910':'1910','Muslims 1970':'1970','Muslims 2010':'2010','Muslims 2020':'2020', 'Muslims 2050':'2050'})"
   ]
  },
  {
   "cell_type": "code",
   "execution_count": 46,
   "id": "c77a4dda-acc3-4bc5-a92f-1ad707356142",
   "metadata": {},
   "outputs": [],
   "source": [
    "muslim['Religion']= 'Muslim'"
   ]
  },
  {
   "cell_type": "markdown",
   "id": "9b7c297e-8485-447e-90d4-7d8b19679997",
   "metadata": {},
   "source": [
    "# Delete 1910 and 2050 columns"
   ]
  },
  {
   "cell_type": "code",
   "execution_count": 48,
   "id": "79bfe4ac-bbe9-4957-a24d-093ffaf5d8f2",
   "metadata": {},
   "outputs": [],
   "source": [
    "population=population[['Religion','Region','1970','2010','2020']]"
   ]
  },
  {
   "cell_type": "code",
   "execution_count": 49,
   "id": "3c5f6bae-13b2-4388-b09f-5a29b98aa14b",
   "metadata": {},
   "outputs": [],
   "source": [
    "agnostic=agnostic[['Religion','Region','1970','2010','2020']]"
   ]
  },
  {
   "cell_type": "code",
   "execution_count": 50,
   "id": "3c974591-2690-4692-8436-c0fe0ea84e2b",
   "metadata": {},
   "outputs": [],
   "source": [
    "atheist=atheist[['Religion','Region','1970','2010','2020']]"
   ]
  },
  {
   "cell_type": "code",
   "execution_count": 51,
   "id": "7c50998f-3cbc-437f-bcfc-b1352adb8c4a",
   "metadata": {},
   "outputs": [],
   "source": [
    "buddhist=buddhist[['Religion','Region','1970','2010','2020']]"
   ]
  },
  {
   "cell_type": "code",
   "execution_count": 52,
   "id": "4c9167de-0efd-4521-b40c-f0efe83040b6",
   "metadata": {},
   "outputs": [],
   "source": [
    "christian=christian[['Religion','Region','1970','2010','2020']]"
   ]
  },
  {
   "cell_type": "code",
   "execution_count": 53,
   "id": "eba17f34-b48b-40a0-9322-13e6a65712de",
   "metadata": {},
   "outputs": [],
   "source": [
    "hindu=hindu[['Religion','Region','1970','2010','2020']]"
   ]
  },
  {
   "cell_type": "code",
   "execution_count": 54,
   "id": "047b85c9-132b-4ecf-a2aa-a8a0f80f3ee7",
   "metadata": {},
   "outputs": [],
   "source": [
    "muslim=muslim[['Religion','Region','1970','2010','2020']]"
   ]
  },
  {
   "cell_type": "markdown",
   "id": "5c29336d-b306-4953-82d9-12dadc6a2c6a",
   "metadata": {},
   "source": [
    "# Merge religions and population into one table"
   ]
  },
  {
   "cell_type": "code",
   "execution_count": 56,
   "id": "4e2a923f-e8a9-442b-8d61-e7b9b765ed0d",
   "metadata": {},
   "outputs": [],
   "source": [
    "religions = pd.concat([agnostic,atheist,buddhist,christian,hindu,muslim], axis=0, ignore_index=True).reset_index(drop=True)"
   ]
  },
  {
   "cell_type": "code",
   "execution_count": 57,
   "id": "ce98357b-3984-4c91-8b6c-1cbe2e52dc3a",
   "metadata": {},
   "outputs": [],
   "source": [
    "religions = pd.concat([religions, population], axis=0, ignore_index=True)"
   ]
  },
  {
   "cell_type": "markdown",
   "id": "c6322d6e-84af-474b-b035-4ddf1e1d0f2c",
   "metadata": {},
   "source": [
    "# Create Religious Population World Table"
   ]
  },
  {
   "cell_type": "code",
   "execution_count": 59,
   "id": "ae750a67-f330-4d32-8a79-a368c440762c",
   "metadata": {},
   "outputs": [],
   "source": [
    "world_list = ['Global total']"
   ]
  },
  {
   "cell_type": "code",
   "execution_count": 60,
   "id": "189ad334-1a87-4226-9cd3-b99e2d14c93f",
   "metadata": {},
   "outputs": [],
   "source": [
    "world = religions.loc[religions['Region'].isin(world_list)].reset_index(drop=True)"
   ]
  },
  {
   "cell_type": "code",
   "execution_count": 61,
   "id": "49789b25-4cfa-4149-8554-675f7564a8d4",
   "metadata": {},
   "outputs": [],
   "source": [
    "world = world.drop(columns={'Region'})"
   ]
  },
  {
   "cell_type": "code",
   "execution_count": 62,
   "id": "aae732df-48c4-4bd1-9383-633a3db3e817",
   "metadata": {},
   "outputs": [],
   "source": [
    "world['Region'] = 'World'"
   ]
  },
  {
   "cell_type": "markdown",
   "id": "04afee60-af9e-4e18-acbe-0615f643901e",
   "metadata": {},
   "source": [
    "# Create Religious Population Continent Table"
   ]
  },
  {
   "cell_type": "code",
   "execution_count": 64,
   "id": "5d4b0d2a-b209-42e4-8ef9-ea45d09e4667",
   "metadata": {},
   "outputs": [],
   "source": [
    "continent_list = ['Africa','Asia','Europe','Latin America', 'Northern America', 'Oceania']"
   ]
  },
  {
   "cell_type": "code",
   "execution_count": 65,
   "id": "e96f2e57-4826-4692-9387-67bd39a7cecc",
   "metadata": {},
   "outputs": [],
   "source": [
    "continent = religions.loc[religions['Region'].isin(continent_list)].reset_index(drop=True)"
   ]
  },
  {
   "cell_type": "markdown",
   "id": "bdda4e56-cd0d-401c-80d2-12303858f900",
   "metadata": {},
   "source": [
    "# Create Religious Populations UN Region Tables"
   ]
  },
  {
   "cell_type": "code",
   "execution_count": 67,
   "id": "aca39ac4-262e-408c-9be5-1136e532d5b5",
   "metadata": {},
   "outputs": [],
   "source": [
    "unregion_list = ['Africa','Asia','Europe','Latin America', 'Oceania']"
   ]
  },
  {
   "cell_type": "code",
   "execution_count": 68,
   "id": "253bfa2f-2f0b-467b-9a3e-470b57d76a9f",
   "metadata": {},
   "outputs": [],
   "source": [
    "unregion = religions.loc[~religions['Region'].isin(unregion_list)].reset_index(drop=True)"
   ]
  },
  {
   "cell_type": "code",
   "execution_count": 69,
   "id": "81a5558a-15d1-41a7-8f38-b0dddbaab8b3",
   "metadata": {},
   "outputs": [],
   "source": [
    "unregion = unregion.loc[unregion['Region'] != 'Global total'].reset_index(drop=True)"
   ]
  },
  {
   "cell_type": "markdown",
   "id": "f967b30b-dfaa-4ec3-9843-37f8179891c2",
   "metadata": {},
   "source": [
    "# Bring in United Nations Demographic Indicators CSV"
   ]
  },
  {
   "cell_type": "code",
   "execution_count": 71,
   "id": "270f79e3-f84b-4e03-b82e-8c02f61c4aad",
   "metadata": {},
   "outputs": [
    {
     "name": "stderr",
     "output_type": "stream",
     "text": [
      "C:\\Users\\graft\\AppData\\Local\\Temp\\ipykernel_191664\\2938383926.py:1: DtypeWarning: Columns (2,3,4,7) have mixed types. Specify dtype option on import or set low_memory=False.\n",
      "  un_indicators = pd.read_csv('../data/indicators/un_indicators.csv')\n"
     ]
    }
   ],
   "source": [
    "un_indicators = pd.read_csv('../data/indicators/un_indicators.csv')"
   ]
  },
  {
   "cell_type": "code",
   "execution_count": 72,
   "id": "ba7ed521-240a-40b4-976a-5d04c0072fb7",
   "metadata": {},
   "outputs": [
    {
     "data": {
      "text/plain": [
       "Index(['SortOrder', 'LocID', 'Notes', 'ISO3_code', 'ISO2_code', 'SDMX_code',\n",
       "       'LocTypeID', 'LocTypeName', 'ParentID', 'Location', 'VarID', 'Variant',\n",
       "       'Time', 'TPopulation1Jan', 'TPopulation1July', 'TPopulationMale1July',\n",
       "       'TPopulationFemale1July', 'PopDensity', 'PopSexRatio', 'MedianAgePop',\n",
       "       'NatChange', 'NatChangeRT', 'PopChange', 'PopGrowthRate',\n",
       "       'DoublingTime', 'Births', 'Births1519', 'CBR', 'TFR', 'NRR', 'MAC',\n",
       "       'SRB', 'Deaths', 'DeathsMale', 'DeathsFemale', 'CDR', 'LEx', 'LExMale',\n",
       "       'LExFemale', 'LE15', 'LE15Male', 'LE15Female', 'LE65', 'LE65Male',\n",
       "       'LE65Female', 'LE80', 'LE80Male', 'LE80Female', 'InfantDeaths', 'IMR',\n",
       "       'LBsurvivingAge1', 'Under5Deaths', 'Q5', 'Q0040', 'Q0040Male',\n",
       "       'Q0040Female', 'Q0060', 'Q0060Male', 'Q0060Female', 'Q1550',\n",
       "       'Q1550Male', 'Q1550Female', 'Q1560', 'Q1560Male', 'Q1560Female',\n",
       "       'NetMigrations', 'CNMR'],\n",
       "      dtype='object')"
      ]
     },
     "execution_count": 72,
     "metadata": {},
     "output_type": "execute_result"
    }
   ],
   "source": [
    "un_indicators.columns"
   ]
  },
  {
   "cell_type": "code",
   "execution_count": 73,
   "id": "3eb9eac4-550c-471b-bec3-d95de0809491",
   "metadata": {},
   "outputs": [],
   "source": [
    "un_indicators = un_indicators[['Time', 'Location', 'LocTypeName', 'ISO3_code', 'Births', 'CBR', 'TFR', 'NRR', 'PopGrowthRate', 'TPopulation1Jan']]"
   ]
  },
  {
   "cell_type": "code",
   "execution_count": 74,
   "id": "98014a3b-52d2-42ab-9ed5-dd247b6451d1",
   "metadata": {},
   "outputs": [],
   "source": [
    "un_indicators=un_indicators.rename(columns={'TPopulation1Jan':'Population'})"
   ]
  },
  {
   "cell_type": "markdown",
   "id": "19b482b9-2905-456e-8cb1-2f00927aac3e",
   "metadata": {},
   "source": [
    "# Create UN Indicators World Table"
   ]
  },
  {
   "cell_type": "code",
   "execution_count": 76,
   "id": "3758fe9d-1244-4bff-913a-cd9a11b8b50e",
   "metadata": {},
   "outputs": [],
   "source": [
    "un_world = un_indicators.loc[un_indicators['Location'] == 'World']"
   ]
  },
  {
   "cell_type": "markdown",
   "id": "539fdc14-dc47-4fe5-b485-16dab6881f7a",
   "metadata": {},
   "source": [
    "# Create UN Indicators Continent Table"
   ]
  },
  {
   "cell_type": "markdown",
   "id": "263f567a-dc3c-4061-b434-4d9ffd79f991",
   "metadata": {},
   "source": [
    "# Checking and correcting discrepancies between Johnson_Grim religion data and UN data continent categorization\n",
    "\n",
    "Johnson_Grim uses 'Latin America', but UN data splits into 'Americas' and 'Latin America and the Caribbean'"
   ]
  },
  {
   "cell_type": "code",
   "execution_count": 79,
   "id": "22561bd7-4a05-476d-866a-f1f4acb9912c",
   "metadata": {},
   "outputs": [],
   "source": [
    "un_continent = un_indicators.loc[un_indicators['LocTypeName'] == 'Geographic region']"
   ]
  },
  {
   "cell_type": "code",
   "execution_count": 80,
   "id": "2b8824f1-a8c2-47b5-b99e-d1aaa9031284",
   "metadata": {},
   "outputs": [],
   "source": [
    "americas = un_continent.loc[un_continent['Location'] == 'Americas']"
   ]
  },
  {
   "cell_type": "code",
   "execution_count": 81,
   "id": "a9e5e191-9fd7-4771-bbc7-c14f576f4647",
   "metadata": {},
   "outputs": [],
   "source": [
    "Latin_America_and_the_Caribbean = un_continent.loc[un_continent['Location'] == 'Latin America and the Caribbean']"
   ]
  },
  {
   "cell_type": "code",
   "execution_count": 82,
   "id": "11fa0294-0f55-4f73-bda9-e5ca1c6297f4",
   "metadata": {},
   "outputs": [],
   "source": [
    "americas_latin_merge = pd.merge(americas, Latin_America_and_the_Caribbean, left_on = 'Time', right_on = 'Time')"
   ]
  },
  {
   "cell_type": "code",
   "execution_count": 83,
   "id": "3a9908e7-9e75-4ad8-8c49-dfe566f14f63",
   "metadata": {},
   "outputs": [],
   "source": [
    "americas_latin_merge['Births'] = americas_latin_merge['Births_x'] + americas_latin_merge['Births_y']"
   ]
  },
  {
   "cell_type": "code",
   "execution_count": 84,
   "id": "61484d9d-08df-4971-9ec2-b614b71bf204",
   "metadata": {},
   "outputs": [],
   "source": [
    "americas_latin_merge['CBR'] = americas_latin_merge['CBR_x'] + americas_latin_merge['CBR_y']"
   ]
  },
  {
   "cell_type": "code",
   "execution_count": 85,
   "id": "8a2f3225-434c-4873-ab13-669b4179ce4a",
   "metadata": {},
   "outputs": [],
   "source": [
    "americas_latin_merge['TFR'] = americas_latin_merge['TFR_x'] + americas_latin_merge['TFR_y']"
   ]
  },
  {
   "cell_type": "code",
   "execution_count": 86,
   "id": "40c79268-e1e1-4587-8f9b-be608c296c4e",
   "metadata": {},
   "outputs": [],
   "source": [
    "americas_latin_merge['NRR'] = americas_latin_merge['NRR_x'] + americas_latin_merge['NRR_y']"
   ]
  },
  {
   "cell_type": "code",
   "execution_count": 87,
   "id": "d2fd9a43-2688-4910-ab63-12fc0aaeb6a1",
   "metadata": {},
   "outputs": [],
   "source": [
    "americas_latin_merge['Population'] = americas_latin_merge['Population_x'] + americas_latin_merge['Population_y']"
   ]
  },
  {
   "cell_type": "code",
   "execution_count": 88,
   "id": "27b6a71d-f15a-4e61-bcf5-c63f54ad6f38",
   "metadata": {},
   "outputs": [],
   "source": [
    "americas_latin_merge['PopGrowthRate'] = round(((americas_latin_merge['Population'].pct_change()) * 100), 3)"
   ]
  },
  {
   "cell_type": "code",
   "execution_count": 89,
   "id": "5edccc57-4f0c-40bb-9f58-8cdc3d831bd8",
   "metadata": {},
   "outputs": [],
   "source": [
    "americas_latin_merge['Location'] = 'Latin America'"
   ]
  },
  {
   "cell_type": "code",
   "execution_count": 90,
   "id": "b8480706-45d5-45ae-89f2-f9239f8a48e1",
   "metadata": {},
   "outputs": [],
   "source": [
    "latin_america = americas_latin_merge[['Time', 'Location', 'Births', 'CBR', 'TFR', 'NRR', 'PopGrowthRate', 'Population']]"
   ]
  },
  {
   "cell_type": "code",
   "execution_count": 91,
   "id": "61988778-4e56-4c1e-bac5-566547a41121",
   "metadata": {},
   "outputs": [],
   "source": [
    "un_continent = un_continent[((un_continent['Location'] != 'Americas') & (un_continent['Location'] != 'Latin America and the Caribbean'))]"
   ]
  },
  {
   "cell_type": "code",
   "execution_count": 92,
   "id": "6a54721c-455d-4abf-a666-b6dca7bc2e3e",
   "metadata": {},
   "outputs": [],
   "source": [
    "un_continent = pd.concat([un_continent, latin_america], axis=0, ignore_index=True).reset_index()"
   ]
  },
  {
   "cell_type": "markdown",
   "id": "75b714b7-8e9d-47e1-b6e7-937935d07d50",
   "metadata": {},
   "source": [
    "# Create UN Indicators regions Table"
   ]
  },
  {
   "cell_type": "code",
   "execution_count": 94,
   "id": "3b1cc074-2a0d-4b36-b006-a11399b9cd99",
   "metadata": {},
   "outputs": [],
   "source": [
    "un_unregion = un_indicators.loc[un_indicators['LocTypeName'] == 'Subregion']"
   ]
  },
  {
   "cell_type": "markdown",
   "id": "4736c6da-8a59-4e94-a8db-4d6d2aeecce8",
   "metadata": {},
   "source": [
    "# Combine Southern and Central Asia to match Religious Populations Tables"
   ]
  },
  {
   "cell_type": "code",
   "execution_count": 96,
   "id": "df927bc0-5e98-44ab-b844-39769fb1f4b0",
   "metadata": {},
   "outputs": [],
   "source": [
    "southern_asia = un_unregion.loc[un_unregion['Location'] == 'Southern Asia']"
   ]
  },
  {
   "cell_type": "code",
   "execution_count": 97,
   "id": "73ae6f93-3c1b-44f6-a48f-9f2e41d5b8e1",
   "metadata": {},
   "outputs": [],
   "source": [
    "central_asia = un_unregion.loc[un_unregion['Location'] == 'Central Asia']"
   ]
  },
  {
   "cell_type": "code",
   "execution_count": 98,
   "id": "19fbd226-0a7d-4e8c-933b-db40ee8bcd79",
   "metadata": {},
   "outputs": [],
   "source": [
    "southern_central_merge = pd.merge(southern_asia, central_asia, left_on = 'Time', right_on = 'Time')"
   ]
  },
  {
   "cell_type": "code",
   "execution_count": 99,
   "id": "11f003cb-8281-4da2-b296-6af99a6d4d00",
   "metadata": {},
   "outputs": [],
   "source": [
    "southern_central_merge['Births'] = southern_central_merge['Births_x'] + southern_central_merge['Births_y']"
   ]
  },
  {
   "cell_type": "code",
   "execution_count": 100,
   "id": "6127228e-66c8-4701-97a1-cdc1e1e15a7f",
   "metadata": {},
   "outputs": [],
   "source": [
    "southern_central_merge['CBR'] = southern_central_merge['CBR_x'] + southern_central_merge['CBR_y']"
   ]
  },
  {
   "cell_type": "code",
   "execution_count": 101,
   "id": "396c7b68-fb5b-49d2-96f3-83d7b6064e81",
   "metadata": {},
   "outputs": [],
   "source": [
    "southern_central_merge['TFR'] = southern_central_merge['TFR_x'] + southern_central_merge['TFR_y']"
   ]
  },
  {
   "cell_type": "code",
   "execution_count": 102,
   "id": "20d94b70-9915-4124-a4bf-20f6697cdd2a",
   "metadata": {},
   "outputs": [],
   "source": [
    "southern_central_merge['NRR'] = southern_central_merge['NRR_x'] + southern_central_merge['NRR_y']"
   ]
  },
  {
   "cell_type": "code",
   "execution_count": 103,
   "id": "f4556ef3-b79e-4106-9a5d-155a63baea97",
   "metadata": {},
   "outputs": [],
   "source": [
    "southern_central_merge['Population'] = southern_central_merge['Population_x'] + southern_central_merge['Population_y']"
   ]
  },
  {
   "cell_type": "code",
   "execution_count": 104,
   "id": "67cf4847-92c7-4bea-935a-f5f478f8ebea",
   "metadata": {},
   "outputs": [],
   "source": [
    "southern_central_merge['PopGrowthRate'] = round(((southern_central_merge['Population'].pct_change()) * 100), 3)"
   ]
  },
  {
   "cell_type": "code",
   "execution_count": 105,
   "id": "b4f81d44-0656-4ed5-a897-71606ea37e43",
   "metadata": {},
   "outputs": [],
   "source": [
    "southern_central_merge['Location'] = 'South-central Asia'"
   ]
  },
  {
   "cell_type": "code",
   "execution_count": 106,
   "id": "9d070aad-aa6f-421e-b2b8-7c3078fa993f",
   "metadata": {},
   "outputs": [],
   "source": [
    "south_central_asia = southern_central_merge[['Time', 'Location', 'Births', 'CBR', 'TFR', 'NRR', 'PopGrowthRate', 'Population']]"
   ]
  },
  {
   "cell_type": "code",
   "execution_count": 107,
   "id": "c56458a0-12f1-49e6-827a-b47aeb60f761",
   "metadata": {},
   "outputs": [],
   "source": [
    "un_unregion = un_unregion[((un_unregion['Location'] != 'Southern Asia') & (un_unregion['Location'] != 'Central Asia'))]"
   ]
  },
  {
   "cell_type": "code",
   "execution_count": 108,
   "id": "536abfbb-ad3f-470f-be0e-0f32a0bbe5c3",
   "metadata": {},
   "outputs": [],
   "source": [
    "un_unregion = pd.concat([un_unregion, south_central_asia], axis=0, ignore_index=True).reset_index()"
   ]
  },
  {
   "cell_type": "markdown",
   "id": "b5095b6a-8d2e-4f95-9aa1-e238a1b388a8",
   "metadata": {},
   "source": [
    "# Northern America is both a continent AND a UN Region. Bringing it back in to UN Region Table"
   ]
  },
  {
   "cell_type": "code",
   "execution_count": 110,
   "id": "7b630c77-46c4-40db-9b81-92b86eadc7d5",
   "metadata": {},
   "outputs": [],
   "source": [
    "northern_america = un_continent.loc[un_continent['Location'] == 'Northern America']"
   ]
  },
  {
   "cell_type": "code",
   "execution_count": 111,
   "id": "a405cd49-6927-4648-8fca-14d4bfb3dc21",
   "metadata": {},
   "outputs": [],
   "source": [
    "un_unregion = pd.concat([un_unregion, northern_america], axis=0, ignore_index=True).reset_index()"
   ]
  },
  {
   "cell_type": "markdown",
   "id": "e57c2165-49a9-47a0-a652-5f5808d41f37",
   "metadata": {},
   "source": [
    "# Create UN Indicators Countries Table"
   ]
  },
  {
   "cell_type": "code",
   "execution_count": 113,
   "id": "1d37535c-e930-40b3-98b3-b93b56a05101",
   "metadata": {},
   "outputs": [],
   "source": [
    "un_country = un_indicators.loc[un_indicators['LocTypeName'] == 'Country/Area']"
   ]
  },
  {
   "cell_type": "markdown",
   "id": "b2620afe-ad37-4b41-9f2c-ef9dc12e3bb8",
   "metadata": {},
   "source": [
    "# Analysis 1 : What is the % change of population for each religion?"
   ]
  },
  {
   "cell_type": "markdown",
   "id": "49a251a4-c4d8-48fd-b3a6-717658490567",
   "metadata": {},
   "source": [
    "# % change World Level"
   ]
  },
  {
   "cell_type": "code",
   "execution_count": 116,
   "id": "edb9d8c1-dce1-4e18-9af0-603133bb1b65",
   "metadata": {},
   "outputs": [],
   "source": [
    "pc_world = world"
   ]
  },
  {
   "cell_type": "code",
   "execution_count": 117,
   "id": "9cd06c57-4ac0-4aa8-ab9d-af8228725e4d",
   "metadata": {},
   "outputs": [],
   "source": [
    "pc_world['1970-2010 %Change'] = round(((world['2010'] - world['1970']) / world['1970']) * 100,2)"
   ]
  },
  {
   "cell_type": "code",
   "execution_count": 118,
   "id": "f1bd1ca8-3d57-4684-ab33-cc3331ad5976",
   "metadata": {},
   "outputs": [],
   "source": [
    "pc_world['2010-2020 %Change'] = round(((world['2020'] - world['2010']) / world['2010']) * 100,2)"
   ]
  },
  {
   "cell_type": "code",
   "execution_count": 119,
   "id": "8eea35ae-a7a0-4b38-b662-f17d20603b50",
   "metadata": {},
   "outputs": [],
   "source": [
    "pc_world['1970-2020 %Change'] = round(((world['2020'] - world['1970']) / world['1970']) * 100,2)"
   ]
  },
  {
   "cell_type": "code",
   "execution_count": 120,
   "id": "197dff66-dd63-4f46-a573-4ec7e83c4748",
   "metadata": {},
   "outputs": [],
   "source": [
    "pc_world=pc_world[['Religion','Region','1970-2010 %Change','2010-2020 %Change', '1970-2020 %Change']]"
   ]
  },
  {
   "cell_type": "code",
   "execution_count": 121,
   "id": "78264841-125d-4a2d-a4e8-00162d5f3996",
   "metadata": {},
   "outputs": [],
   "source": [
    "pc_world2= pc_world"
   ]
  },
  {
   "cell_type": "code",
   "execution_count": 122,
   "id": "da998ed7-6370-4c3b-b04c-0cd218f65068",
   "metadata": {},
   "outputs": [],
   "source": [
    "pc_world2=pc_world2.rename(columns = { '1970-2010 %Change':'1970-2010','2010-2020 %Change':'2010-2020','1970-2020 %Change':'1970-2020'})"
   ]
  },
  {
   "cell_type": "code",
   "execution_count": 123,
   "id": "3e2a807d-8aa7-413b-935e-336bbe36c14f",
   "metadata": {},
   "outputs": [],
   "source": [
    "pc_world_v = pc_world2.set_index(['Religion','Region']).stack()"
   ]
  },
  {
   "cell_type": "code",
   "execution_count": 124,
   "id": "cda556c4-8594-4315-abb8-f2b0b2017f8a",
   "metadata": {},
   "outputs": [],
   "source": [
    "pc_world_v = pc_world_v.reset_index(name='Percent Change')"
   ]
  },
  {
   "cell_type": "code",
   "execution_count": 125,
   "id": "31a49628-73f9-4dec-ae94-73cfcdbea25b",
   "metadata": {},
   "outputs": [],
   "source": [
    "pc_world_v = pc_world_v.rename(columns={'level_2': 'Year'})"
   ]
  },
  {
   "cell_type": "code",
   "execution_count": 126,
   "id": "0ef71f3d-fe2b-4d05-847b-705be8dc8e84",
   "metadata": {},
   "outputs": [
    {
     "data": {
      "text/html": [
       "<div>\n",
       "<style scoped>\n",
       "    .dataframe tbody tr th:only-of-type {\n",
       "        vertical-align: middle;\n",
       "    }\n",
       "\n",
       "    .dataframe tbody tr th {\n",
       "        vertical-align: top;\n",
       "    }\n",
       "\n",
       "    .dataframe thead th {\n",
       "        text-align: right;\n",
       "    }\n",
       "</style>\n",
       "<table border=\"1\" class=\"dataframe\">\n",
       "  <thead>\n",
       "    <tr style=\"text-align: right;\">\n",
       "      <th></th>\n",
       "      <th>Religion</th>\n",
       "      <th>Region</th>\n",
       "      <th>1970-2010 %Change</th>\n",
       "      <th>2010-2020 %Change</th>\n",
       "      <th>1970-2020 %Change</th>\n",
       "    </tr>\n",
       "  </thead>\n",
       "  <tbody>\n",
       "    <tr>\n",
       "      <th>0</th>\n",
       "      <td>Agnostic</td>\n",
       "      <td>World</td>\n",
       "      <td>24.59</td>\n",
       "      <td>11.11</td>\n",
       "      <td>38.43</td>\n",
       "    </tr>\n",
       "    <tr>\n",
       "      <th>1</th>\n",
       "      <td>Atheist</td>\n",
       "      <td>World</td>\n",
       "      <td>-17.26</td>\n",
       "      <td>9.42</td>\n",
       "      <td>-9.47</td>\n",
       "    </tr>\n",
       "    <tr>\n",
       "      <th>2</th>\n",
       "      <td>Buddhist</td>\n",
       "      <td>World</td>\n",
       "      <td>112.05</td>\n",
       "      <td>7.63</td>\n",
       "      <td>128.24</td>\n",
       "    </tr>\n",
       "    <tr>\n",
       "      <th>3</th>\n",
       "      <td>Christian</td>\n",
       "      <td>World</td>\n",
       "      <td>85.93</td>\n",
       "      <td>244.84</td>\n",
       "      <td>541.17</td>\n",
       "    </tr>\n",
       "    <tr>\n",
       "      <th>4</th>\n",
       "      <td>Hindu</td>\n",
       "      <td>World</td>\n",
       "      <td>102.93</td>\n",
       "      <td>11.56</td>\n",
       "      <td>126.39</td>\n",
       "    </tr>\n",
       "    <tr>\n",
       "      <th>5</th>\n",
       "      <td>Muslim</td>\n",
       "      <td>World</td>\n",
       "      <td>170.51</td>\n",
       "      <td>21.43</td>\n",
       "      <td>228.48</td>\n",
       "    </tr>\n",
       "    <tr>\n",
       "      <th>6</th>\n",
       "      <td>General Population</td>\n",
       "      <td>World</td>\n",
       "      <td>136.64</td>\n",
       "      <td>13.04</td>\n",
       "      <td>167.49</td>\n",
       "    </tr>\n",
       "  </tbody>\n",
       "</table>\n",
       "</div>"
      ],
      "text/plain": [
       "             Religion Region  1970-2010 %Change  2010-2020 %Change  \\\n",
       "0            Agnostic  World              24.59              11.11   \n",
       "1             Atheist  World             -17.26               9.42   \n",
       "2            Buddhist  World             112.05               7.63   \n",
       "3           Christian  World              85.93             244.84   \n",
       "4               Hindu  World             102.93              11.56   \n",
       "5              Muslim  World             170.51              21.43   \n",
       "6  General Population  World             136.64              13.04   \n",
       "\n",
       "   1970-2020 %Change  \n",
       "0              38.43  \n",
       "1              -9.47  \n",
       "2             128.24  \n",
       "3             541.17  \n",
       "4             126.39  \n",
       "5             228.48  \n",
       "6             167.49  "
      ]
     },
     "execution_count": 126,
     "metadata": {},
     "output_type": "execute_result"
    }
   ],
   "source": [
    "pc_world"
   ]
  },
  {
   "cell_type": "code",
   "execution_count": 127,
   "id": "a240b071-42f2-4bf2-96d8-f42eaeb87194",
   "metadata": {},
   "outputs": [
    {
     "data": {
      "text/html": [
       "<div>\n",
       "<style scoped>\n",
       "    .dataframe tbody tr th:only-of-type {\n",
       "        vertical-align: middle;\n",
       "    }\n",
       "\n",
       "    .dataframe tbody tr th {\n",
       "        vertical-align: top;\n",
       "    }\n",
       "\n",
       "    .dataframe thead th {\n",
       "        text-align: right;\n",
       "    }\n",
       "</style>\n",
       "<table border=\"1\" class=\"dataframe\">\n",
       "  <thead>\n",
       "    <tr style=\"text-align: right;\">\n",
       "      <th></th>\n",
       "      <th>Religion</th>\n",
       "      <th>Region</th>\n",
       "      <th>Year</th>\n",
       "      <th>Percent Change</th>\n",
       "    </tr>\n",
       "  </thead>\n",
       "  <tbody>\n",
       "    <tr>\n",
       "      <th>0</th>\n",
       "      <td>Agnostic</td>\n",
       "      <td>World</td>\n",
       "      <td>1970-2010</td>\n",
       "      <td>24.59</td>\n",
       "    </tr>\n",
       "    <tr>\n",
       "      <th>1</th>\n",
       "      <td>Agnostic</td>\n",
       "      <td>World</td>\n",
       "      <td>2010-2020</td>\n",
       "      <td>11.11</td>\n",
       "    </tr>\n",
       "    <tr>\n",
       "      <th>2</th>\n",
       "      <td>Agnostic</td>\n",
       "      <td>World</td>\n",
       "      <td>1970-2020</td>\n",
       "      <td>38.43</td>\n",
       "    </tr>\n",
       "    <tr>\n",
       "      <th>3</th>\n",
       "      <td>Atheist</td>\n",
       "      <td>World</td>\n",
       "      <td>1970-2010</td>\n",
       "      <td>-17.26</td>\n",
       "    </tr>\n",
       "    <tr>\n",
       "      <th>4</th>\n",
       "      <td>Atheist</td>\n",
       "      <td>World</td>\n",
       "      <td>2010-2020</td>\n",
       "      <td>9.42</td>\n",
       "    </tr>\n",
       "    <tr>\n",
       "      <th>5</th>\n",
       "      <td>Atheist</td>\n",
       "      <td>World</td>\n",
       "      <td>1970-2020</td>\n",
       "      <td>-9.47</td>\n",
       "    </tr>\n",
       "    <tr>\n",
       "      <th>6</th>\n",
       "      <td>Buddhist</td>\n",
       "      <td>World</td>\n",
       "      <td>1970-2010</td>\n",
       "      <td>112.05</td>\n",
       "    </tr>\n",
       "    <tr>\n",
       "      <th>7</th>\n",
       "      <td>Buddhist</td>\n",
       "      <td>World</td>\n",
       "      <td>2010-2020</td>\n",
       "      <td>7.63</td>\n",
       "    </tr>\n",
       "    <tr>\n",
       "      <th>8</th>\n",
       "      <td>Buddhist</td>\n",
       "      <td>World</td>\n",
       "      <td>1970-2020</td>\n",
       "      <td>128.24</td>\n",
       "    </tr>\n",
       "    <tr>\n",
       "      <th>9</th>\n",
       "      <td>Christian</td>\n",
       "      <td>World</td>\n",
       "      <td>1970-2010</td>\n",
       "      <td>85.93</td>\n",
       "    </tr>\n",
       "    <tr>\n",
       "      <th>10</th>\n",
       "      <td>Christian</td>\n",
       "      <td>World</td>\n",
       "      <td>2010-2020</td>\n",
       "      <td>244.84</td>\n",
       "    </tr>\n",
       "    <tr>\n",
       "      <th>11</th>\n",
       "      <td>Christian</td>\n",
       "      <td>World</td>\n",
       "      <td>1970-2020</td>\n",
       "      <td>541.17</td>\n",
       "    </tr>\n",
       "    <tr>\n",
       "      <th>12</th>\n",
       "      <td>Hindu</td>\n",
       "      <td>World</td>\n",
       "      <td>1970-2010</td>\n",
       "      <td>102.93</td>\n",
       "    </tr>\n",
       "    <tr>\n",
       "      <th>13</th>\n",
       "      <td>Hindu</td>\n",
       "      <td>World</td>\n",
       "      <td>2010-2020</td>\n",
       "      <td>11.56</td>\n",
       "    </tr>\n",
       "    <tr>\n",
       "      <th>14</th>\n",
       "      <td>Hindu</td>\n",
       "      <td>World</td>\n",
       "      <td>1970-2020</td>\n",
       "      <td>126.39</td>\n",
       "    </tr>\n",
       "    <tr>\n",
       "      <th>15</th>\n",
       "      <td>Muslim</td>\n",
       "      <td>World</td>\n",
       "      <td>1970-2010</td>\n",
       "      <td>170.51</td>\n",
       "    </tr>\n",
       "    <tr>\n",
       "      <th>16</th>\n",
       "      <td>Muslim</td>\n",
       "      <td>World</td>\n",
       "      <td>2010-2020</td>\n",
       "      <td>21.43</td>\n",
       "    </tr>\n",
       "    <tr>\n",
       "      <th>17</th>\n",
       "      <td>Muslim</td>\n",
       "      <td>World</td>\n",
       "      <td>1970-2020</td>\n",
       "      <td>228.48</td>\n",
       "    </tr>\n",
       "    <tr>\n",
       "      <th>18</th>\n",
       "      <td>General Population</td>\n",
       "      <td>World</td>\n",
       "      <td>1970-2010</td>\n",
       "      <td>136.64</td>\n",
       "    </tr>\n",
       "    <tr>\n",
       "      <th>19</th>\n",
       "      <td>General Population</td>\n",
       "      <td>World</td>\n",
       "      <td>2010-2020</td>\n",
       "      <td>13.04</td>\n",
       "    </tr>\n",
       "    <tr>\n",
       "      <th>20</th>\n",
       "      <td>General Population</td>\n",
       "      <td>World</td>\n",
       "      <td>1970-2020</td>\n",
       "      <td>167.49</td>\n",
       "    </tr>\n",
       "  </tbody>\n",
       "</table>\n",
       "</div>"
      ],
      "text/plain": [
       "              Religion Region       Year  Percent Change\n",
       "0             Agnostic  World  1970-2010           24.59\n",
       "1             Agnostic  World  2010-2020           11.11\n",
       "2             Agnostic  World  1970-2020           38.43\n",
       "3              Atheist  World  1970-2010          -17.26\n",
       "4              Atheist  World  2010-2020            9.42\n",
       "5              Atheist  World  1970-2020           -9.47\n",
       "6             Buddhist  World  1970-2010          112.05\n",
       "7             Buddhist  World  2010-2020            7.63\n",
       "8             Buddhist  World  1970-2020          128.24\n",
       "9            Christian  World  1970-2010           85.93\n",
       "10           Christian  World  2010-2020          244.84\n",
       "11           Christian  World  1970-2020          541.17\n",
       "12               Hindu  World  1970-2010          102.93\n",
       "13               Hindu  World  2010-2020           11.56\n",
       "14               Hindu  World  1970-2020          126.39\n",
       "15              Muslim  World  1970-2010          170.51\n",
       "16              Muslim  World  2010-2020           21.43\n",
       "17              Muslim  World  1970-2020          228.48\n",
       "18  General Population  World  1970-2010          136.64\n",
       "19  General Population  World  2010-2020           13.04\n",
       "20  General Population  World  1970-2020          167.49"
      ]
     },
     "execution_count": 127,
     "metadata": {},
     "output_type": "execute_result"
    }
   ],
   "source": [
    "pc_world_v"
   ]
  },
  {
   "cell_type": "code",
   "execution_count": 128,
   "id": "62400672-b2f0-4afb-9cfe-11b874c8af82",
   "metadata": {},
   "outputs": [
    {
     "data": {
      "text/plain": [
       "<Axes: title={'center': 'Religion % Change(World Level)'}, xlabel='Religion', ylabel='Percent'>"
      ]
     },
     "execution_count": 128,
     "metadata": {},
     "output_type": "execute_result"
    },
    {
     "data": {
      "image/png": "[encoded data removed]",
      "text/plain": [
       "<Figure size 640x480 with 1 Axes>"
      ]
     },
     "metadata": {},
     "output_type": "display_data"
    }
   ],
   "source": [
    "pc_world.plot.bar(x='Religion', y=['1970-2020 %Change'], ylabel='Percent', title='Religion % Change(World Level)')"
   ]
  },
  {
   "cell_type": "code",
   "execution_count": 129,
   "id": "da615824-b2e6-43d5-b2f9-f8cb8b1e407a",
   "metadata": {},
   "outputs": [
    {
     "data": {
      "text/plain": [
       "<Axes: title={'center': 'Religion % Change(World Level)'}, xlabel='Religion', ylabel='Percent'>"
      ]
     },
     "execution_count": 129,
     "metadata": {},
     "output_type": "execute_result"
    },
    {
     "data": {
      "image/png": "[encoded data removed]",
      "text/plain": [
       "<Figure size 640x480 with 1 Axes>"
      ]
     },
     "metadata": {},
     "output_type": "display_data"
    }
   ],
   "source": [
    "pc_world.plot.bar(x='Religion', y=['1970-2020 %Change'], ylabel='Percent', title='Religion % Change(World Level)')"
   ]
  },
  {
   "cell_type": "code",
   "execution_count": 130,
   "id": "c424397b-1549-4bfa-8518-ac7b4b631b48",
   "metadata": {},
   "outputs": [
    {
     "data": {
      "text/plain": [
       "<Axes: title={'center': 'Religion % Change(World Level)'}, xlabel='Religion', ylabel='Percent'>"
      ]
     },
     "execution_count": 130,
     "metadata": {},
     "output_type": "execute_result"
    },
    {
     "data": {
      "image/png": "[encoded data removed]",
      "text/plain": [
       "<Figure size 640x480 with 1 Axes>"
      ]
     },
     "metadata": {},
     "output_type": "display_data"
    }
   ],
   "source": [
    "pc_world.plot.bar(x='Religion', y=['1970-2010 %Change','2010-2020 %Change'], ylabel='Percent', title='Religion % Change(World Level)')"
   ]
  },
  {
   "cell_type": "markdown",
   "id": "59f440b8-7be6-4544-a6db-fa797bafefe8",
   "metadata": {},
   "source": [
    "Highest % Growth: Atheist"
   ]
  },
  {
   "cell_type": "markdown",
   "id": "0b73b79a-3f51-454c-bc8a-0b04cdcba0ea",
   "metadata": {},
   "source": [
    "Lowest % Growth: Buddhist"
   ]
  },
  {
   "cell_type": "markdown",
   "id": "d513cb39-b633-4a04-a0b3-2366a36bde42",
   "metadata": {},
   "source": [
    "Greater than Population % Growth: Muslim, Agnostic, Atheist"
   ]
  },
  {
   "cell_type": "markdown",
   "id": "f7a6a36c-53d2-4bfb-a141-01c8723d34ed",
   "metadata": {},
   "source": [
    "Less than Population % Growth: Christian, Hindu, Buddhist"
   ]
  },
  {
   "cell_type": "markdown",
   "id": "7a6f9791-483c-45d4-8262-0a2892fcfb0f",
   "metadata": {},
   "source": [
    "# % change Continent Level"
   ]
  },
  {
   "cell_type": "code",
   "execution_count": 136,
   "id": "80eb9f6b-923f-4f4e-979f-dd470a812156",
   "metadata": {},
   "outputs": [],
   "source": [
    "pc_continent = continent"
   ]
  },
  {
   "cell_type": "code",
   "execution_count": 137,
   "id": "fdd18314-0158-4ffb-ad37-e327a75562ef",
   "metadata": {},
   "outputs": [],
   "source": [
    "pc_continent['1970-2010 %Change'] = round(((continent['2010'] - continent['1970']) / continent['1970']) * 100,2)"
   ]
  },
  {
   "cell_type": "code",
   "execution_count": 138,
   "id": "77527298-5de6-4115-9138-a61b1b766fcf",
   "metadata": {},
   "outputs": [],
   "source": [
    "pc_continent['2010-2020 %Change'] = round(((continent['2020'] - continent['2010']) / continent['2010']) * 100,2)"
   ]
  },
  {
   "cell_type": "code",
   "execution_count": 139,
   "id": "c250aeec-b6a0-4fa3-b51a-e6d3b36b1b85",
   "metadata": {},
   "outputs": [],
   "source": [
    "pc_continent['1970-2020 %Change'] = round(((continent['2020'] - continent['1970']) / continent['1970']) * 100,2)"
   ]
  },
  {
   "cell_type": "code",
   "execution_count": 140,
   "id": "a0d111f2-ebf2-4ea1-80dd-d018f45e16fa",
   "metadata": {},
   "outputs": [],
   "source": [
    "pc_continent=pc_continent[['Religion','Region', '1970-2010 %Change','2010-2020 %Change','1970-2020 %Change']]"
   ]
  },
  {
   "cell_type": "code",
   "execution_count": 141,
   "id": "ffd34214-c3db-4556-9a24-9bf858d5b3ba",
   "metadata": {},
   "outputs": [],
   "source": [
    "pc_continent2= pc_continent"
   ]
  },
  {
   "cell_type": "code",
   "execution_count": 142,
   "id": "fad76b07-9709-4e61-a3be-17e448a08690",
   "metadata": {},
   "outputs": [],
   "source": [
    "pc_continent2=pc_continent2.rename(columns = {'1970-2010 %Change':'1970-2010','2010-2020 %Change':'2010-2020','1970-2020 %Change':'1970-2020'})"
   ]
  },
  {
   "cell_type": "code",
   "execution_count": 143,
   "id": "8f936a6a-a5a5-42ca-bebb-6301f3f16d1a",
   "metadata": {},
   "outputs": [],
   "source": [
    "pc_continent_v = pc_continent2.set_index(['Religion','Region']).stack()"
   ]
  },
  {
   "cell_type": "code",
   "execution_count": 144,
   "id": "a31b31d3-f4ce-466a-afe9-56905351ae9f",
   "metadata": {},
   "outputs": [],
   "source": [
    "pc_continent_v = pc_continent_v.reset_index(name='Percent Change')"
   ]
  },
  {
   "cell_type": "code",
   "execution_count": 145,
   "id": "c932f674-32e3-421a-aad3-187371c6a2cb",
   "metadata": {},
   "outputs": [],
   "source": [
    "pc_continent_v = pc_continent_v.rename(columns={'level_2': 'Year'})"
   ]
  },
  {
   "cell_type": "code",
   "execution_count": 146,
   "id": "33011ad9-d243-4d7f-a333-dec8c477776f",
   "metadata": {},
   "outputs": [
    {
     "data": {
      "text/html": [
       "<div>\n",
       "<style scoped>\n",
       "    .dataframe tbody tr th:only-of-type {\n",
       "        vertical-align: middle;\n",
       "    }\n",
       "\n",
       "    .dataframe tbody tr th {\n",
       "        vertical-align: top;\n",
       "    }\n",
       "\n",
       "    .dataframe thead th {\n",
       "        text-align: right;\n",
       "    }\n",
       "</style>\n",
       "<table border=\"1\" class=\"dataframe\">\n",
       "  <thead>\n",
       "    <tr style=\"text-align: right;\">\n",
       "      <th></th>\n",
       "      <th>Religion</th>\n",
       "      <th>Region</th>\n",
       "      <th>1970-2010 %Change</th>\n",
       "      <th>2010-2020 %Change</th>\n",
       "      <th>1970-2020 %Change</th>\n",
       "    </tr>\n",
       "  </thead>\n",
       "  <tbody>\n",
       "    <tr>\n",
       "      <th>0</th>\n",
       "      <td>Agnostic</td>\n",
       "      <td>Africa</td>\n",
       "      <td>1004.93</td>\n",
       "      <td>26.44</td>\n",
       "      <td>1297.11</td>\n",
       "    </tr>\n",
       "    <tr>\n",
       "      <th>1</th>\n",
       "      <td>Agnostic</td>\n",
       "      <td>Asia</td>\n",
       "      <td>15.47</td>\n",
       "      <td>8.47</td>\n",
       "      <td>25.25</td>\n",
       "    </tr>\n",
       "    <tr>\n",
       "      <th>2</th>\n",
       "      <td>Agnostic</td>\n",
       "      <td>Europe</td>\n",
       "      <td>6.61</td>\n",
       "      <td>8.62</td>\n",
       "      <td>15.80</td>\n",
       "    </tr>\n",
       "    <tr>\n",
       "      <th>3</th>\n",
       "      <td>Agnostic</td>\n",
       "      <td>Latin America</td>\n",
       "      <td>209.75</td>\n",
       "      <td>20.75</td>\n",
       "      <td>274.01</td>\n",
       "    </tr>\n",
       "    <tr>\n",
       "      <th>4</th>\n",
       "      <td>Agnostic</td>\n",
       "      <td>Northern America</td>\n",
       "      <td>323.99</td>\n",
       "      <td>33.33</td>\n",
       "      <td>465.29</td>\n",
       "    </tr>\n",
       "    <tr>\n",
       "      <th>5</th>\n",
       "      <td>Agnostic</td>\n",
       "      <td>Oceania</td>\n",
       "      <td>739.38</td>\n",
       "      <td>49.77</td>\n",
       "      <td>1157.17</td>\n",
       "    </tr>\n",
       "    <tr>\n",
       "      <th>6</th>\n",
       "      <td>Atheist</td>\n",
       "      <td>Africa</td>\n",
       "      <td>454.37</td>\n",
       "      <td>29.42</td>\n",
       "      <td>617.48</td>\n",
       "    </tr>\n",
       "    <tr>\n",
       "      <th>7</th>\n",
       "      <td>Atheist</td>\n",
       "      <td>Asia</td>\n",
       "      <td>4.93</td>\n",
       "      <td>2.88</td>\n",
       "      <td>7.95</td>\n",
       "    </tr>\n",
       "    <tr>\n",
       "      <th>8</th>\n",
       "      <td>Atheist</td>\n",
       "      <td>Europe</td>\n",
       "      <td>-70.83</td>\n",
       "      <td>-3.77</td>\n",
       "      <td>-71.93</td>\n",
       "    </tr>\n",
       "    <tr>\n",
       "      <th>9</th>\n",
       "      <td>Atheist</td>\n",
       "      <td>Latin America</td>\n",
       "      <td>129.23</td>\n",
       "      <td>10.41</td>\n",
       "      <td>153.10</td>\n",
       "    </tr>\n",
       "    <tr>\n",
       "      <th>10</th>\n",
       "      <td>Atheist</td>\n",
       "      <td>Northern America</td>\n",
       "      <td>618.67</td>\n",
       "      <td>391.05</td>\n",
       "      <td>3429.00</td>\n",
       "    </tr>\n",
       "    <tr>\n",
       "      <th>11</th>\n",
       "      <td>Atheist</td>\n",
       "      <td>Oceania</td>\n",
       "      <td>121.64</td>\n",
       "      <td>263.10</td>\n",
       "      <td>704.80</td>\n",
       "    </tr>\n",
       "    <tr>\n",
       "      <th>12</th>\n",
       "      <td>Buddhist</td>\n",
       "      <td>Africa</td>\n",
       "      <td>2070.94</td>\n",
       "      <td>43.70</td>\n",
       "      <td>3019.66</td>\n",
       "    </tr>\n",
       "    <tr>\n",
       "      <th>13</th>\n",
       "      <td>Buddhist</td>\n",
       "      <td>Asia</td>\n",
       "      <td>109.76</td>\n",
       "      <td>7.49</td>\n",
       "      <td>125.48</td>\n",
       "    </tr>\n",
       "    <tr>\n",
       "      <th>14</th>\n",
       "      <td>Buddhist</td>\n",
       "      <td>Europe</td>\n",
       "      <td>223.98</td>\n",
       "      <td>11.07</td>\n",
       "      <td>259.83</td>\n",
       "    </tr>\n",
       "    <tr>\n",
       "      <th>15</th>\n",
       "      <td>Buddhist</td>\n",
       "      <td>Latin America</td>\n",
       "      <td>94.77</td>\n",
       "      <td>10.01</td>\n",
       "      <td>114.27</td>\n",
       "    </tr>\n",
       "    <tr>\n",
       "      <th>16</th>\n",
       "      <td>Buddhist</td>\n",
       "      <td>Northern America</td>\n",
       "      <td>1962.04</td>\n",
       "      <td>11.20</td>\n",
       "      <td>2193.06</td>\n",
       "    </tr>\n",
       "    <tr>\n",
       "      <th>17</th>\n",
       "      <td>Buddhist</td>\n",
       "      <td>Oceania</td>\n",
       "      <td>3425.53</td>\n",
       "      <td>66.95</td>\n",
       "      <td>5785.89</td>\n",
       "    </tr>\n",
       "    <tr>\n",
       "      <th>18</th>\n",
       "      <td>Christian</td>\n",
       "      <td>Africa</td>\n",
       "      <td>258.35</td>\n",
       "      <td>32.56</td>\n",
       "      <td>375.03</td>\n",
       "    </tr>\n",
       "    <tr>\n",
       "      <th>19</th>\n",
       "      <td>Christian</td>\n",
       "      <td>Asia</td>\n",
       "      <td>251.18</td>\n",
       "      <td>10.48</td>\n",
       "      <td>287.97</td>\n",
       "    </tr>\n",
       "    <tr>\n",
       "      <th>20</th>\n",
       "      <td>Christian</td>\n",
       "      <td>Europe</td>\n",
       "      <td>18.27</td>\n",
       "      <td>-1.30</td>\n",
       "      <td>16.74</td>\n",
       "    </tr>\n",
       "    <tr>\n",
       "      <th>21</th>\n",
       "      <td>Christian</td>\n",
       "      <td>Latin America</td>\n",
       "      <td>101.76</td>\n",
       "      <td>20.06</td>\n",
       "      <td>142.24</td>\n",
       "    </tr>\n",
       "    <tr>\n",
       "      <th>22</th>\n",
       "      <td>Christian</td>\n",
       "      <td>Northern America</td>\n",
       "      <td>34.19</td>\n",
       "      <td>35.84</td>\n",
       "      <td>82.28</td>\n",
       "    </tr>\n",
       "    <tr>\n",
       "      <th>23</th>\n",
       "      <td>Christian</td>\n",
       "      <td>Oceania</td>\n",
       "      <td>58.87</td>\n",
       "      <td>52.32</td>\n",
       "      <td>141.99</td>\n",
       "    </tr>\n",
       "    <tr>\n",
       "      <th>24</th>\n",
       "      <td>Hindu</td>\n",
       "      <td>Africa</td>\n",
       "      <td>193.00</td>\n",
       "      <td>21.33</td>\n",
       "      <td>255.50</td>\n",
       "    </tr>\n",
       "    <tr>\n",
       "      <th>25</th>\n",
       "      <td>Hindu</td>\n",
       "      <td>Asia</td>\n",
       "      <td>102.34</td>\n",
       "      <td>11.49</td>\n",
       "      <td>125.60</td>\n",
       "    </tr>\n",
       "    <tr>\n",
       "      <th>26</th>\n",
       "      <td>Hindu</td>\n",
       "      <td>Europe</td>\n",
       "      <td>330.60</td>\n",
       "      <td>21.20</td>\n",
       "      <td>421.88</td>\n",
       "    </tr>\n",
       "    <tr>\n",
       "      <th>27</th>\n",
       "      <td>Hindu</td>\n",
       "      <td>Latin America</td>\n",
       "      <td>28.57</td>\n",
       "      <td>7.06</td>\n",
       "      <td>37.65</td>\n",
       "    </tr>\n",
       "    <tr>\n",
       "      <th>28</th>\n",
       "      <td>Hindu</td>\n",
       "      <td>Northern America</td>\n",
       "      <td>1429.17</td>\n",
       "      <td>13.35</td>\n",
       "      <td>1633.33</td>\n",
       "    </tr>\n",
       "    <tr>\n",
       "      <th>29</th>\n",
       "      <td>Hindu</td>\n",
       "      <td>Oceania</td>\n",
       "      <td>177.55</td>\n",
       "      <td>58.87</td>\n",
       "      <td>340.95</td>\n",
       "    </tr>\n",
       "    <tr>\n",
       "      <th>30</th>\n",
       "      <td>Muslim</td>\n",
       "      <td>Africa</td>\n",
       "      <td>187.34</td>\n",
       "      <td>30.78</td>\n",
       "      <td>275.77</td>\n",
       "    </tr>\n",
       "    <tr>\n",
       "      <th>31</th>\n",
       "      <td>Muslim</td>\n",
       "      <td>Asia</td>\n",
       "      <td>165.36</td>\n",
       "      <td>17.79</td>\n",
       "      <td>212.57</td>\n",
       "    </tr>\n",
       "    <tr>\n",
       "      <th>32</th>\n",
       "      <td>Muslim</td>\n",
       "      <td>Europe</td>\n",
       "      <td>127.07</td>\n",
       "      <td>22.06</td>\n",
       "      <td>177.17</td>\n",
       "    </tr>\n",
       "    <tr>\n",
       "      <th>33</th>\n",
       "      <td>Muslim</td>\n",
       "      <td>Latin America</td>\n",
       "      <td>259.46</td>\n",
       "      <td>16.11</td>\n",
       "      <td>317.37</td>\n",
       "    </tr>\n",
       "    <tr>\n",
       "      <th>34</th>\n",
       "      <td>Muslim</td>\n",
       "      <td>Northern America</td>\n",
       "      <td>552.26</td>\n",
       "      <td>3.26</td>\n",
       "      <td>573.52</td>\n",
       "    </tr>\n",
       "    <tr>\n",
       "      <th>35</th>\n",
       "      <td>Muslim</td>\n",
       "      <td>Oceania</td>\n",
       "      <td>674.33</td>\n",
       "      <td>61.75</td>\n",
       "      <td>1152.47</td>\n",
       "    </tr>\n",
       "    <tr>\n",
       "      <th>36</th>\n",
       "      <td>General Population</td>\n",
       "      <td>Africa</td>\n",
       "      <td>179.72</td>\n",
       "      <td>31.14</td>\n",
       "      <td>266.83</td>\n",
       "    </tr>\n",
       "    <tr>\n",
       "      <th>37</th>\n",
       "      <td>General Population</td>\n",
       "      <td>Asia</td>\n",
       "      <td>205.25</td>\n",
       "      <td>11.45</td>\n",
       "      <td>240.20</td>\n",
       "    </tr>\n",
       "    <tr>\n",
       "      <th>38</th>\n",
       "      <td>General Population</td>\n",
       "      <td>Europe</td>\n",
       "      <td>12.44</td>\n",
       "      <td>1.28</td>\n",
       "      <td>13.88</td>\n",
       "    </tr>\n",
       "    <tr>\n",
       "      <th>39</th>\n",
       "      <td>General Population</td>\n",
       "      <td>Latin America</td>\n",
       "      <td>16.07</td>\n",
       "      <td>10.83</td>\n",
       "      <td>28.63</td>\n",
       "    </tr>\n",
       "    <tr>\n",
       "      <th>40</th>\n",
       "      <td>General Population</td>\n",
       "      <td>Northern America</td>\n",
       "      <td>55.29</td>\n",
       "      <td>7.07</td>\n",
       "      <td>66.26</td>\n",
       "    </tr>\n",
       "    <tr>\n",
       "      <th>41</th>\n",
       "      <td>General Population</td>\n",
       "      <td>Oceania</td>\n",
       "      <td>87.84</td>\n",
       "      <td>16.63</td>\n",
       "      <td>119.07</td>\n",
       "    </tr>\n",
       "  </tbody>\n",
       "</table>\n",
       "</div>"
      ],
      "text/plain": [
       "              Religion            Region  1970-2010 %Change  \\\n",
       "0             Agnostic            Africa            1004.93   \n",
       "1             Agnostic              Asia              15.47   \n",
       "2             Agnostic            Europe               6.61   \n",
       "3             Agnostic     Latin America             209.75   \n",
       "4             Agnostic  Northern America             323.99   \n",
       "5             Agnostic           Oceania             739.38   \n",
       "6              Atheist            Africa             454.37   \n",
       "7              Atheist              Asia               4.93   \n",
       "8              Atheist            Europe             -70.83   \n",
       "9              Atheist     Latin America             129.23   \n",
       "10             Atheist  Northern America             618.67   \n",
       "11             Atheist           Oceania             121.64   \n",
       "12            Buddhist            Africa            2070.94   \n",
       "13            Buddhist              Asia             109.76   \n",
       "14            Buddhist            Europe             223.98   \n",
       "15            Buddhist     Latin America              94.77   \n",
       "16            Buddhist  Northern America            1962.04   \n",
       "17            Buddhist           Oceania            3425.53   \n",
       "18           Christian            Africa             258.35   \n",
       "19           Christian              Asia             251.18   \n",
       "20           Christian            Europe              18.27   \n",
       "21           Christian     Latin America             101.76   \n",
       "22           Christian  Northern America              34.19   \n",
       "23           Christian           Oceania              58.87   \n",
       "24               Hindu            Africa             193.00   \n",
       "25               Hindu              Asia             102.34   \n",
       "26               Hindu            Europe             330.60   \n",
       "27               Hindu     Latin America              28.57   \n",
       "28               Hindu  Northern America            1429.17   \n",
       "29               Hindu           Oceania             177.55   \n",
       "30              Muslim            Africa             187.34   \n",
       "31              Muslim              Asia             165.36   \n",
       "32              Muslim            Europe             127.07   \n",
       "33              Muslim     Latin America             259.46   \n",
       "34              Muslim  Northern America             552.26   \n",
       "35              Muslim           Oceania             674.33   \n",
       "36  General Population            Africa             179.72   \n",
       "37  General Population              Asia             205.25   \n",
       "38  General Population            Europe              12.44   \n",
       "39  General Population     Latin America              16.07   \n",
       "40  General Population  Northern America              55.29   \n",
       "41  General Population           Oceania              87.84   \n",
       "\n",
       "    2010-2020 %Change  1970-2020 %Change  \n",
       "0               26.44            1297.11  \n",
       "1                8.47              25.25  \n",
       "2                8.62              15.80  \n",
       "3               20.75             274.01  \n",
       "4               33.33             465.29  \n",
       "5               49.77            1157.17  \n",
       "6               29.42             617.48  \n",
       "7                2.88               7.95  \n",
       "8               -3.77             -71.93  \n",
       "9               10.41             153.10  \n",
       "10             391.05            3429.00  \n",
       "11             263.10             704.80  \n",
       "12              43.70            3019.66  \n",
       "13               7.49             125.48  \n",
       "14              11.07             259.83  \n",
       "15              10.01             114.27  \n",
       "16              11.20            2193.06  \n",
       "17              66.95            5785.89  \n",
       "18              32.56             375.03  \n",
       "19              10.48             287.97  \n",
       "20              -1.30              16.74  \n",
       "21              20.06             142.24  \n",
       "22              35.84              82.28  \n",
       "23              52.32             141.99  \n",
       "24              21.33             255.50  \n",
       "25              11.49             125.60  \n",
       "26              21.20             421.88  \n",
       "27               7.06              37.65  \n",
       "28              13.35            1633.33  \n",
       "29              58.87             340.95  \n",
       "30              30.78             275.77  \n",
       "31              17.79             212.57  \n",
       "32              22.06             177.17  \n",
       "33              16.11             317.37  \n",
       "34               3.26             573.52  \n",
       "35              61.75            1152.47  \n",
       "36              31.14             266.83  \n",
       "37              11.45             240.20  \n",
       "38               1.28              13.88  \n",
       "39              10.83              28.63  \n",
       "40               7.07              66.26  \n",
       "41              16.63             119.07  "
      ]
     },
     "execution_count": 146,
     "metadata": {},
     "output_type": "execute_result"
    }
   ],
   "source": [
    "pc_continent"
   ]
  },
  {
   "cell_type": "code",
   "execution_count": 147,
   "id": "33f020d3-8dff-4507-a89e-0f9058ddb3b0",
   "metadata": {},
   "outputs": [
    {
     "data": {
      "text/html": [
       "<div>\n",
       "<style scoped>\n",
       "    .dataframe tbody tr th:only-of-type {\n",
       "        vertical-align: middle;\n",
       "    }\n",
       "\n",
       "    .dataframe tbody tr th {\n",
       "        vertical-align: top;\n",
       "    }\n",
       "\n",
       "    .dataframe thead th {\n",
       "        text-align: right;\n",
       "    }\n",
       "</style>\n",
       "<table border=\"1\" class=\"dataframe\">\n",
       "  <thead>\n",
       "    <tr style=\"text-align: right;\">\n",
       "      <th></th>\n",
       "      <th>Religion</th>\n",
       "      <th>Region</th>\n",
       "      <th>Year</th>\n",
       "      <th>Percent Change</th>\n",
       "    </tr>\n",
       "  </thead>\n",
       "  <tbody>\n",
       "    <tr>\n",
       "      <th>0</th>\n",
       "      <td>Agnostic</td>\n",
       "      <td>Africa</td>\n",
       "      <td>1970-2010</td>\n",
       "      <td>1004.93</td>\n",
       "    </tr>\n",
       "    <tr>\n",
       "      <th>1</th>\n",
       "      <td>Agnostic</td>\n",
       "      <td>Africa</td>\n",
       "      <td>2010-2020</td>\n",
       "      <td>26.44</td>\n",
       "    </tr>\n",
       "    <tr>\n",
       "      <th>2</th>\n",
       "      <td>Agnostic</td>\n",
       "      <td>Africa</td>\n",
       "      <td>1970-2020</td>\n",
       "      <td>1297.11</td>\n",
       "    </tr>\n",
       "    <tr>\n",
       "      <th>3</th>\n",
       "      <td>Agnostic</td>\n",
       "      <td>Asia</td>\n",
       "      <td>1970-2010</td>\n",
       "      <td>15.47</td>\n",
       "    </tr>\n",
       "    <tr>\n",
       "      <th>4</th>\n",
       "      <td>Agnostic</td>\n",
       "      <td>Asia</td>\n",
       "      <td>2010-2020</td>\n",
       "      <td>8.47</td>\n",
       "    </tr>\n",
       "    <tr>\n",
       "      <th>...</th>\n",
       "      <td>...</td>\n",
       "      <td>...</td>\n",
       "      <td>...</td>\n",
       "      <td>...</td>\n",
       "    </tr>\n",
       "    <tr>\n",
       "      <th>121</th>\n",
       "      <td>General Population</td>\n",
       "      <td>Northern America</td>\n",
       "      <td>2010-2020</td>\n",
       "      <td>7.07</td>\n",
       "    </tr>\n",
       "    <tr>\n",
       "      <th>122</th>\n",
       "      <td>General Population</td>\n",
       "      <td>Northern America</td>\n",
       "      <td>1970-2020</td>\n",
       "      <td>66.26</td>\n",
       "    </tr>\n",
       "    <tr>\n",
       "      <th>123</th>\n",
       "      <td>General Population</td>\n",
       "      <td>Oceania</td>\n",
       "      <td>1970-2010</td>\n",
       "      <td>87.84</td>\n",
       "    </tr>\n",
       "    <tr>\n",
       "      <th>124</th>\n",
       "      <td>General Population</td>\n",
       "      <td>Oceania</td>\n",
       "      <td>2010-2020</td>\n",
       "      <td>16.63</td>\n",
       "    </tr>\n",
       "    <tr>\n",
       "      <th>125</th>\n",
       "      <td>General Population</td>\n",
       "      <td>Oceania</td>\n",
       "      <td>1970-2020</td>\n",
       "      <td>119.07</td>\n",
       "    </tr>\n",
       "  </tbody>\n",
       "</table>\n",
       "<p>126 rows × 4 columns</p>\n",
       "</div>"
      ],
      "text/plain": [
       "               Religion            Region       Year  Percent Change\n",
       "0              Agnostic            Africa  1970-2010         1004.93\n",
       "1              Agnostic            Africa  2010-2020           26.44\n",
       "2              Agnostic            Africa  1970-2020         1297.11\n",
       "3              Agnostic              Asia  1970-2010           15.47\n",
       "4              Agnostic              Asia  2010-2020            8.47\n",
       "..                  ...               ...        ...             ...\n",
       "121  General Population  Northern America  2010-2020            7.07\n",
       "122  General Population  Northern America  1970-2020           66.26\n",
       "123  General Population           Oceania  1970-2010           87.84\n",
       "124  General Population           Oceania  2010-2020           16.63\n",
       "125  General Population           Oceania  1970-2020          119.07\n",
       "\n",
       "[126 rows x 4 columns]"
      ]
     },
     "execution_count": 147,
     "metadata": {},
     "output_type": "execute_result"
    }
   ],
   "source": [
    "pc_continent_v"
   ]
  },
  {
   "cell_type": "code",
   "execution_count": 148,
   "id": "013613b3-a4a1-4197-a9cb-6cbcc5f7ea36",
   "metadata": {},
   "outputs": [
    {
     "data": {
      "text/html": [
       "<div>\n",
       "<style scoped>\n",
       "    .dataframe tbody tr th:only-of-type {\n",
       "        vertical-align: middle;\n",
       "    }\n",
       "\n",
       "    .dataframe tbody tr th {\n",
       "        vertical-align: top;\n",
       "    }\n",
       "\n",
       "    .dataframe thead th {\n",
       "        text-align: right;\n",
       "    }\n",
       "</style>\n",
       "<table border=\"1\" class=\"dataframe\">\n",
       "  <thead>\n",
       "    <tr style=\"text-align: right;\">\n",
       "      <th></th>\n",
       "      <th>Religion</th>\n",
       "      <th>Region</th>\n",
       "      <th>1970-2010 %Change</th>\n",
       "      <th>2010-2020 %Change</th>\n",
       "      <th>1970-2020 %Change</th>\n",
       "    </tr>\n",
       "  </thead>\n",
       "  <tbody>\n",
       "    <tr>\n",
       "      <th>12</th>\n",
       "      <td>Buddhist</td>\n",
       "      <td>Africa</td>\n",
       "      <td>2070.94</td>\n",
       "      <td>43.70</td>\n",
       "      <td>3019.66</td>\n",
       "    </tr>\n",
       "    <tr>\n",
       "      <th>19</th>\n",
       "      <td>Christian</td>\n",
       "      <td>Asia</td>\n",
       "      <td>251.18</td>\n",
       "      <td>10.48</td>\n",
       "      <td>287.97</td>\n",
       "    </tr>\n",
       "    <tr>\n",
       "      <th>26</th>\n",
       "      <td>Hindu</td>\n",
       "      <td>Europe</td>\n",
       "      <td>330.60</td>\n",
       "      <td>21.20</td>\n",
       "      <td>421.88</td>\n",
       "    </tr>\n",
       "    <tr>\n",
       "      <th>33</th>\n",
       "      <td>Muslim</td>\n",
       "      <td>Latin America</td>\n",
       "      <td>259.46</td>\n",
       "      <td>16.11</td>\n",
       "      <td>317.37</td>\n",
       "    </tr>\n",
       "    <tr>\n",
       "      <th>10</th>\n",
       "      <td>Atheist</td>\n",
       "      <td>Northern America</td>\n",
       "      <td>618.67</td>\n",
       "      <td>391.05</td>\n",
       "      <td>3429.00</td>\n",
       "    </tr>\n",
       "    <tr>\n",
       "      <th>17</th>\n",
       "      <td>Buddhist</td>\n",
       "      <td>Oceania</td>\n",
       "      <td>3425.53</td>\n",
       "      <td>66.95</td>\n",
       "      <td>5785.89</td>\n",
       "    </tr>\n",
       "  </tbody>\n",
       "</table>\n",
       "</div>"
      ],
      "text/plain": [
       "     Religion            Region  1970-2010 %Change  2010-2020 %Change  \\\n",
       "12   Buddhist            Africa            2070.94              43.70   \n",
       "19  Christian              Asia             251.18              10.48   \n",
       "26      Hindu            Europe             330.60              21.20   \n",
       "33     Muslim     Latin America             259.46              16.11   \n",
       "10    Atheist  Northern America             618.67             391.05   \n",
       "17   Buddhist           Oceania            3425.53              66.95   \n",
       "\n",
       "    1970-2020 %Change  \n",
       "12            3019.66  \n",
       "19             287.97  \n",
       "26             421.88  \n",
       "33             317.37  \n",
       "10            3429.00  \n",
       "17            5785.89  "
      ]
     },
     "execution_count": 148,
     "metadata": {},
     "output_type": "execute_result"
    }
   ],
   "source": [
    "pc_continent.loc[pc_continent.groupby('Region')['1970-2020 %Change'].idxmax()]"
   ]
  },
  {
   "cell_type": "code",
   "execution_count": 149,
   "id": "1388357a-fa05-40f9-a643-3abf86b20d4e",
   "metadata": {},
   "outputs": [
    {
     "data": {
      "text/html": [
       "<div>\n",
       "<style scoped>\n",
       "    .dataframe tbody tr th:only-of-type {\n",
       "        vertical-align: middle;\n",
       "    }\n",
       "\n",
       "    .dataframe tbody tr th {\n",
       "        vertical-align: top;\n",
       "    }\n",
       "\n",
       "    .dataframe thead th {\n",
       "        text-align: right;\n",
       "    }\n",
       "</style>\n",
       "<table border=\"1\" class=\"dataframe\">\n",
       "  <thead>\n",
       "    <tr style=\"text-align: right;\">\n",
       "      <th></th>\n",
       "      <th>Religion</th>\n",
       "      <th>Region</th>\n",
       "      <th>1970-2010 %Change</th>\n",
       "      <th>2010-2020 %Change</th>\n",
       "      <th>1970-2020 %Change</th>\n",
       "    </tr>\n",
       "  </thead>\n",
       "  <tbody>\n",
       "    <tr>\n",
       "      <th>24</th>\n",
       "      <td>Hindu</td>\n",
       "      <td>Africa</td>\n",
       "      <td>193.00</td>\n",
       "      <td>21.33</td>\n",
       "      <td>255.50</td>\n",
       "    </tr>\n",
       "    <tr>\n",
       "      <th>7</th>\n",
       "      <td>Atheist</td>\n",
       "      <td>Asia</td>\n",
       "      <td>4.93</td>\n",
       "      <td>2.88</td>\n",
       "      <td>7.95</td>\n",
       "    </tr>\n",
       "    <tr>\n",
       "      <th>8</th>\n",
       "      <td>Atheist</td>\n",
       "      <td>Europe</td>\n",
       "      <td>-70.83</td>\n",
       "      <td>-3.77</td>\n",
       "      <td>-71.93</td>\n",
       "    </tr>\n",
       "    <tr>\n",
       "      <th>39</th>\n",
       "      <td>General Population</td>\n",
       "      <td>Latin America</td>\n",
       "      <td>16.07</td>\n",
       "      <td>10.83</td>\n",
       "      <td>28.63</td>\n",
       "    </tr>\n",
       "    <tr>\n",
       "      <th>40</th>\n",
       "      <td>General Population</td>\n",
       "      <td>Northern America</td>\n",
       "      <td>55.29</td>\n",
       "      <td>7.07</td>\n",
       "      <td>66.26</td>\n",
       "    </tr>\n",
       "    <tr>\n",
       "      <th>41</th>\n",
       "      <td>General Population</td>\n",
       "      <td>Oceania</td>\n",
       "      <td>87.84</td>\n",
       "      <td>16.63</td>\n",
       "      <td>119.07</td>\n",
       "    </tr>\n",
       "  </tbody>\n",
       "</table>\n",
       "</div>"
      ],
      "text/plain": [
       "              Religion            Region  1970-2010 %Change  \\\n",
       "24               Hindu            Africa             193.00   \n",
       "7              Atheist              Asia               4.93   \n",
       "8              Atheist            Europe             -70.83   \n",
       "39  General Population     Latin America              16.07   \n",
       "40  General Population  Northern America              55.29   \n",
       "41  General Population           Oceania              87.84   \n",
       "\n",
       "    2010-2020 %Change  1970-2020 %Change  \n",
       "24              21.33             255.50  \n",
       "7                2.88               7.95  \n",
       "8               -3.77             -71.93  \n",
       "39              10.83              28.63  \n",
       "40               7.07              66.26  \n",
       "41              16.63             119.07  "
      ]
     },
     "execution_count": 149,
     "metadata": {},
     "output_type": "execute_result"
    }
   ],
   "source": [
    "pc_continent.loc[pc_continent.groupby('Region')['1970-2020 %Change'].idxmin()]"
   ]
  },
  {
   "cell_type": "markdown",
   "id": "de5c07ee-2e13-4c92-b487-1b7752b21612",
   "metadata": {},
   "source": [
    "# % change UNregion Level"
   ]
  },
  {
   "cell_type": "code",
   "execution_count": 151,
   "id": "63047273-555e-4745-be8a-2e3da2eb96a9",
   "metadata": {},
   "outputs": [],
   "source": [
    "pc_unregion = unregion"
   ]
  },
  {
   "cell_type": "code",
   "execution_count": 152,
   "id": "d7d61a10-ea43-4f2e-9457-44d2b63602d2",
   "metadata": {},
   "outputs": [],
   "source": [
    "pc_unregion['1970-2010 %Change'] = round(((unregion['2010'] - unregion['1970']) / unregion['1970']) * 100,2)"
   ]
  },
  {
   "cell_type": "code",
   "execution_count": 153,
   "id": "6d1ad35f-25c2-442f-a762-b499c3d38041",
   "metadata": {},
   "outputs": [],
   "source": [
    "pc_unregion['2010-2020 %Change'] = round(((unregion['2020'] - unregion['2010']) / unregion['2010']) * 100,2)"
   ]
  },
  {
   "cell_type": "code",
   "execution_count": 154,
   "id": "6d3942d9-e0a3-4929-8b37-90346c380837",
   "metadata": {},
   "outputs": [],
   "source": [
    "pc_unregion['1970-2020 %Change'] = round(((unregion['2020'] - unregion['1970']) / unregion['1970']) * 100,2)"
   ]
  },
  {
   "cell_type": "code",
   "execution_count": 155,
   "id": "6afbd040-c861-4d42-b756-b737417dc165",
   "metadata": {},
   "outputs": [],
   "source": [
    "pc_unregion=pc_unregion[['Religion','Region', '1970-2010 %Change','2010-2020 %Change','1970-2020 %Change']]"
   ]
  },
  {
   "cell_type": "code",
   "execution_count": 156,
   "id": "228f60d0-d714-443b-bf78-dbb47e5ac02b",
   "metadata": {},
   "outputs": [],
   "source": [
    "pc_unregion2= pc_unregion"
   ]
  },
  {
   "cell_type": "code",
   "execution_count": 157,
   "id": "93575f12-f2d2-4a74-bdff-c25501952611",
   "metadata": {},
   "outputs": [],
   "source": [
    "pc_unregion2=pc_unregion2.rename(columns = {'1970-2010 %Change':'1970-2010','2010-2020 %Change':'2010-2020','1970-2020 %Change':'1970-2020'})"
   ]
  },
  {
   "cell_type": "code",
   "execution_count": 158,
   "id": "dd6abe34-5cce-44af-a0e8-04f282593926",
   "metadata": {},
   "outputs": [],
   "source": [
    "pc_unregion_v = pc_unregion2.set_index(['Religion','Region']).stack()"
   ]
  },
  {
   "cell_type": "code",
   "execution_count": 159,
   "id": "6fdbfb53-d219-4000-8e7c-ec7431368b76",
   "metadata": {},
   "outputs": [],
   "source": [
    "pc_unregion_v = pc_unregion_v.reset_index(name='Percent Change')"
   ]
  },
  {
   "cell_type": "code",
   "execution_count": 160,
   "id": "efac84a7-4fa6-442a-8707-c383a1f3ebaf",
   "metadata": {},
   "outputs": [],
   "source": [
    "pc_unregion_v = pc_unregion_v.rename(columns={'level_2': 'Year'})"
   ]
  },
  {
   "cell_type": "code",
   "execution_count": 161,
   "id": "a7254a58-f1d0-4060-8fd8-f12ec3bcaae9",
   "metadata": {},
   "outputs": [
    {
     "data": {
      "text/html": [
       "<div>\n",
       "<style scoped>\n",
       "    .dataframe tbody tr th:only-of-type {\n",
       "        vertical-align: middle;\n",
       "    }\n",
       "\n",
       "    .dataframe tbody tr th {\n",
       "        vertical-align: top;\n",
       "    }\n",
       "\n",
       "    .dataframe thead th {\n",
       "        text-align: right;\n",
       "    }\n",
       "</style>\n",
       "<table border=\"1\" class=\"dataframe\">\n",
       "  <thead>\n",
       "    <tr style=\"text-align: right;\">\n",
       "      <th></th>\n",
       "      <th>Religion</th>\n",
       "      <th>Region</th>\n",
       "      <th>1970-2010 %Change</th>\n",
       "      <th>2010-2020 %Change</th>\n",
       "      <th>1970-2020 %Change</th>\n",
       "    </tr>\n",
       "  </thead>\n",
       "  <tbody>\n",
       "    <tr>\n",
       "      <th>0</th>\n",
       "      <td>Agnostic</td>\n",
       "      <td>Eastern Africa</td>\n",
       "      <td>1422.28</td>\n",
       "      <td>28.10</td>\n",
       "      <td>1850.09</td>\n",
       "    </tr>\n",
       "    <tr>\n",
       "      <th>1</th>\n",
       "      <td>Agnostic</td>\n",
       "      <td>Middle Africa</td>\n",
       "      <td>2013.37</td>\n",
       "      <td>47.73</td>\n",
       "      <td>3022.09</td>\n",
       "    </tr>\n",
       "    <tr>\n",
       "      <th>2</th>\n",
       "      <td>Agnostic</td>\n",
       "      <td>Northern Africa</td>\n",
       "      <td>455.70</td>\n",
       "      <td>27.15</td>\n",
       "      <td>606.58</td>\n",
       "    </tr>\n",
       "    <tr>\n",
       "      <th>3</th>\n",
       "      <td>Agnostic</td>\n",
       "      <td>Southern Africa</td>\n",
       "      <td>1731.13</td>\n",
       "      <td>18.41</td>\n",
       "      <td>2068.21</td>\n",
       "    </tr>\n",
       "    <tr>\n",
       "      <th>4</th>\n",
       "      <td>Agnostic</td>\n",
       "      <td>Western Africa</td>\n",
       "      <td>642.86</td>\n",
       "      <td>31.56</td>\n",
       "      <td>877.31</td>\n",
       "    </tr>\n",
       "    <tr>\n",
       "      <th>...</th>\n",
       "      <td>...</td>\n",
       "      <td>...</td>\n",
       "      <td>...</td>\n",
       "      <td>...</td>\n",
       "      <td>...</td>\n",
       "    </tr>\n",
       "    <tr>\n",
       "      <th>142</th>\n",
       "      <td>General Population</td>\n",
       "      <td>Northern America</td>\n",
       "      <td>55.29</td>\n",
       "      <td>7.07</td>\n",
       "      <td>66.26</td>\n",
       "    </tr>\n",
       "    <tr>\n",
       "      <th>143</th>\n",
       "      <td>General Population</td>\n",
       "      <td>Australia/New Zealand</td>\n",
       "      <td>72.75</td>\n",
       "      <td>13.83</td>\n",
       "      <td>96.65</td>\n",
       "    </tr>\n",
       "    <tr>\n",
       "      <th>144</th>\n",
       "      <td>General Population</td>\n",
       "      <td>Melanesia</td>\n",
       "      <td>158.15</td>\n",
       "      <td>27.18</td>\n",
       "      <td>228.31</td>\n",
       "    </tr>\n",
       "    <tr>\n",
       "      <th>145</th>\n",
       "      <td>General Population</td>\n",
       "      <td>Micronesia</td>\n",
       "      <td>108.56</td>\n",
       "      <td>2.43</td>\n",
       "      <td>113.62</td>\n",
       "    </tr>\n",
       "    <tr>\n",
       "      <th>146</th>\n",
       "      <td>General Population</td>\n",
       "      <td>Polynesia</td>\n",
       "      <td>61.39</td>\n",
       "      <td>1.63</td>\n",
       "      <td>64.03</td>\n",
       "    </tr>\n",
       "  </tbody>\n",
       "</table>\n",
       "<p>147 rows × 5 columns</p>\n",
       "</div>"
      ],
      "text/plain": [
       "               Religion                 Region  1970-2010 %Change  \\\n",
       "0              Agnostic         Eastern Africa            1422.28   \n",
       "1              Agnostic          Middle Africa            2013.37   \n",
       "2              Agnostic        Northern Africa             455.70   \n",
       "3              Agnostic        Southern Africa            1731.13   \n",
       "4              Agnostic         Western Africa             642.86   \n",
       "..                  ...                    ...                ...   \n",
       "142  General Population       Northern America              55.29   \n",
       "143  General Population  Australia/New Zealand              72.75   \n",
       "144  General Population              Melanesia             158.15   \n",
       "145  General Population             Micronesia             108.56   \n",
       "146  General Population              Polynesia              61.39   \n",
       "\n",
       "     2010-2020 %Change  1970-2020 %Change  \n",
       "0                28.10            1850.09  \n",
       "1                47.73            3022.09  \n",
       "2                27.15             606.58  \n",
       "3                18.41            2068.21  \n",
       "4                31.56             877.31  \n",
       "..                 ...                ...  \n",
       "142               7.07              66.26  \n",
       "143              13.83              96.65  \n",
       "144              27.18             228.31  \n",
       "145               2.43             113.62  \n",
       "146               1.63              64.03  \n",
       "\n",
       "[147 rows x 5 columns]"
      ]
     },
     "execution_count": 161,
     "metadata": {},
     "output_type": "execute_result"
    }
   ],
   "source": [
    "pc_unregion"
   ]
  },
  {
   "cell_type": "code",
   "execution_count": 162,
   "id": "45725c83-add2-43a5-943a-c7f6b926f0fb",
   "metadata": {},
   "outputs": [
    {
     "data": {
      "text/html": [
       "<div>\n",
       "<style scoped>\n",
       "    .dataframe tbody tr th:only-of-type {\n",
       "        vertical-align: middle;\n",
       "    }\n",
       "\n",
       "    .dataframe tbody tr th {\n",
       "        vertical-align: top;\n",
       "    }\n",
       "\n",
       "    .dataframe thead th {\n",
       "        text-align: right;\n",
       "    }\n",
       "</style>\n",
       "<table border=\"1\" class=\"dataframe\">\n",
       "  <thead>\n",
       "    <tr style=\"text-align: right;\">\n",
       "      <th></th>\n",
       "      <th>Religion</th>\n",
       "      <th>Region</th>\n",
       "      <th>Year</th>\n",
       "      <th>Percent Change</th>\n",
       "    </tr>\n",
       "  </thead>\n",
       "  <tbody>\n",
       "    <tr>\n",
       "      <th>0</th>\n",
       "      <td>Agnostic</td>\n",
       "      <td>Eastern Africa</td>\n",
       "      <td>1970-2010</td>\n",
       "      <td>1422.28</td>\n",
       "    </tr>\n",
       "    <tr>\n",
       "      <th>1</th>\n",
       "      <td>Agnostic</td>\n",
       "      <td>Eastern Africa</td>\n",
       "      <td>2010-2020</td>\n",
       "      <td>28.10</td>\n",
       "    </tr>\n",
       "    <tr>\n",
       "      <th>2</th>\n",
       "      <td>Agnostic</td>\n",
       "      <td>Eastern Africa</td>\n",
       "      <td>1970-2020</td>\n",
       "      <td>1850.09</td>\n",
       "    </tr>\n",
       "    <tr>\n",
       "      <th>3</th>\n",
       "      <td>Agnostic</td>\n",
       "      <td>Middle Africa</td>\n",
       "      <td>1970-2010</td>\n",
       "      <td>2013.37</td>\n",
       "    </tr>\n",
       "    <tr>\n",
       "      <th>4</th>\n",
       "      <td>Agnostic</td>\n",
       "      <td>Middle Africa</td>\n",
       "      <td>2010-2020</td>\n",
       "      <td>47.73</td>\n",
       "    </tr>\n",
       "    <tr>\n",
       "      <th>...</th>\n",
       "      <td>...</td>\n",
       "      <td>...</td>\n",
       "      <td>...</td>\n",
       "      <td>...</td>\n",
       "    </tr>\n",
       "    <tr>\n",
       "      <th>436</th>\n",
       "      <td>General Population</td>\n",
       "      <td>Micronesia</td>\n",
       "      <td>2010-2020</td>\n",
       "      <td>2.43</td>\n",
       "    </tr>\n",
       "    <tr>\n",
       "      <th>437</th>\n",
       "      <td>General Population</td>\n",
       "      <td>Micronesia</td>\n",
       "      <td>1970-2020</td>\n",
       "      <td>113.62</td>\n",
       "    </tr>\n",
       "    <tr>\n",
       "      <th>438</th>\n",
       "      <td>General Population</td>\n",
       "      <td>Polynesia</td>\n",
       "      <td>1970-2010</td>\n",
       "      <td>61.39</td>\n",
       "    </tr>\n",
       "    <tr>\n",
       "      <th>439</th>\n",
       "      <td>General Population</td>\n",
       "      <td>Polynesia</td>\n",
       "      <td>2010-2020</td>\n",
       "      <td>1.63</td>\n",
       "    </tr>\n",
       "    <tr>\n",
       "      <th>440</th>\n",
       "      <td>General Population</td>\n",
       "      <td>Polynesia</td>\n",
       "      <td>1970-2020</td>\n",
       "      <td>64.03</td>\n",
       "    </tr>\n",
       "  </tbody>\n",
       "</table>\n",
       "<p>441 rows × 4 columns</p>\n",
       "</div>"
      ],
      "text/plain": [
       "               Religion          Region       Year  Percent Change\n",
       "0              Agnostic  Eastern Africa  1970-2010         1422.28\n",
       "1              Agnostic  Eastern Africa  2010-2020           28.10\n",
       "2              Agnostic  Eastern Africa  1970-2020         1850.09\n",
       "3              Agnostic   Middle Africa  1970-2010         2013.37\n",
       "4              Agnostic   Middle Africa  2010-2020           47.73\n",
       "..                  ...             ...        ...             ...\n",
       "436  General Population      Micronesia  2010-2020            2.43\n",
       "437  General Population      Micronesia  1970-2020          113.62\n",
       "438  General Population       Polynesia  1970-2010           61.39\n",
       "439  General Population       Polynesia  2010-2020            1.63\n",
       "440  General Population       Polynesia  1970-2020           64.03\n",
       "\n",
       "[441 rows x 4 columns]"
      ]
     },
     "execution_count": 162,
     "metadata": {},
     "output_type": "execute_result"
    }
   ],
   "source": [
    "pc_unregion_v"
   ]
  },
  {
   "cell_type": "code",
   "execution_count": 163,
   "id": "0f53dbcf-73e6-4d4a-82d8-55c6f619b783",
   "metadata": {},
   "outputs": [
    {
     "data": {
      "text/html": [
       "<div>\n",
       "<style scoped>\n",
       "    .dataframe tbody tr th:only-of-type {\n",
       "        vertical-align: middle;\n",
       "    }\n",
       "\n",
       "    .dataframe tbody tr th {\n",
       "        vertical-align: top;\n",
       "    }\n",
       "\n",
       "    .dataframe thead th {\n",
       "        text-align: right;\n",
       "    }\n",
       "</style>\n",
       "<table border=\"1\" class=\"dataframe\">\n",
       "  <thead>\n",
       "    <tr style=\"text-align: right;\">\n",
       "      <th></th>\n",
       "      <th>Religion</th>\n",
       "      <th>Region</th>\n",
       "      <th>1970-2010 %Change</th>\n",
       "      <th>2010-2020 %Change</th>\n",
       "      <th>1970-2020 %Change</th>\n",
       "    </tr>\n",
       "  </thead>\n",
       "  <tbody>\n",
       "    <tr>\n",
       "      <th>59</th>\n",
       "      <td>Buddhist</td>\n",
       "      <td>Australia/New Zealand</td>\n",
       "      <td>4094.03</td>\n",
       "      <td>69.22</td>\n",
       "      <td>6997.01</td>\n",
       "    </tr>\n",
       "    <tr>\n",
       "      <th>76</th>\n",
       "      <td>Christian</td>\n",
       "      <td>Caribbean</td>\n",
       "      <td>74.38</td>\n",
       "      <td>25.19</td>\n",
       "      <td>118.30</td>\n",
       "    </tr>\n",
       "    <tr>\n",
       "      <th>98</th>\n",
       "      <td>Hindu</td>\n",
       "      <td>Central America</td>\n",
       "      <td>1700.00</td>\n",
       "      <td>22.78</td>\n",
       "      <td>2110.00</td>\n",
       "    </tr>\n",
       "    <tr>\n",
       "      <th>21</th>\n",
       "      <td>Atheist</td>\n",
       "      <td>Eastern Africa</td>\n",
       "      <td>1722.58</td>\n",
       "      <td>32.74</td>\n",
       "      <td>2319.35</td>\n",
       "    </tr>\n",
       "    <tr>\n",
       "      <th>68</th>\n",
       "      <td>Christian</td>\n",
       "      <td>Eastern Asia</td>\n",
       "      <td>1017.30</td>\n",
       "      <td>0.68</td>\n",
       "      <td>1024.94</td>\n",
       "    </tr>\n",
       "    <tr>\n",
       "      <th>93</th>\n",
       "      <td>Hindu</td>\n",
       "      <td>Eastern Europe</td>\n",
       "      <td>4769900.00</td>\n",
       "      <td>4.82</td>\n",
       "      <td>4999900.00</td>\n",
       "    </tr>\n",
       "    <tr>\n",
       "      <th>18</th>\n",
       "      <td>Agnostic</td>\n",
       "      <td>Melanesia</td>\n",
       "      <td>738.20</td>\n",
       "      <td>31.10</td>\n",
       "      <td>998.88</td>\n",
       "    </tr>\n",
       "    <tr>\n",
       "      <th>61</th>\n",
       "      <td>Buddhist</td>\n",
       "      <td>Micronesia</td>\n",
       "      <td>2500.00</td>\n",
       "      <td>-4.40</td>\n",
       "      <td>2385.71</td>\n",
       "    </tr>\n",
       "    <tr>\n",
       "      <th>85</th>\n",
       "      <td>Hindu</td>\n",
       "      <td>Middle Africa</td>\n",
       "      <td>9830.00</td>\n",
       "      <td>36.96</td>\n",
       "      <td>13500.00</td>\n",
       "    </tr>\n",
       "    <tr>\n",
       "      <th>86</th>\n",
       "      <td>Hindu</td>\n",
       "      <td>Northern Africa</td>\n",
       "      <td>739900.00</td>\n",
       "      <td>16.22</td>\n",
       "      <td>859900.00</td>\n",
       "    </tr>\n",
       "    <tr>\n",
       "      <th>37</th>\n",
       "      <td>Atheist</td>\n",
       "      <td>Northern America</td>\n",
       "      <td>618.67</td>\n",
       "      <td>391.05</td>\n",
       "      <td>3429.00</td>\n",
       "    </tr>\n",
       "    <tr>\n",
       "      <th>52</th>\n",
       "      <td>Buddhist</td>\n",
       "      <td>Northern Europe</td>\n",
       "      <td>843.22</td>\n",
       "      <td>8.36</td>\n",
       "      <td>922.08</td>\n",
       "    </tr>\n",
       "    <tr>\n",
       "      <th>41</th>\n",
       "      <td>Atheist</td>\n",
       "      <td>Polynesia</td>\n",
       "      <td>661.90</td>\n",
       "      <td>0.00</td>\n",
       "      <td>661.90</td>\n",
       "    </tr>\n",
       "    <tr>\n",
       "      <th>15</th>\n",
       "      <td>Agnostic</td>\n",
       "      <td>South America</td>\n",
       "      <td>413.15</td>\n",
       "      <td>23.67</td>\n",
       "      <td>534.63</td>\n",
       "    </tr>\n",
       "    <tr>\n",
       "      <th>111</th>\n",
       "      <td>Muslim</td>\n",
       "      <td>South-central Asia</td>\n",
       "      <td>181.23</td>\n",
       "      <td>18.38</td>\n",
       "      <td>232.90</td>\n",
       "    </tr>\n",
       "    <tr>\n",
       "      <th>28</th>\n",
       "      <td>Atheist</td>\n",
       "      <td>South-eastern Asia</td>\n",
       "      <td>350.00</td>\n",
       "      <td>8.01</td>\n",
       "      <td>386.03</td>\n",
       "    </tr>\n",
       "    <tr>\n",
       "      <th>45</th>\n",
       "      <td>Buddhist</td>\n",
       "      <td>Southern Africa</td>\n",
       "      <td>6856.52</td>\n",
       "      <td>55.62</td>\n",
       "      <td>10726.09</td>\n",
       "    </tr>\n",
       "    <tr>\n",
       "      <th>95</th>\n",
       "      <td>Hindu</td>\n",
       "      <td>Southern Europe</td>\n",
       "      <td>9674.19</td>\n",
       "      <td>553.47</td>\n",
       "      <td>63770.97</td>\n",
       "    </tr>\n",
       "    <tr>\n",
       "      <th>46</th>\n",
       "      <td>Buddhist</td>\n",
       "      <td>Western Africa</td>\n",
       "      <td>3587.50</td>\n",
       "      <td>31.86</td>\n",
       "      <td>4762.50</td>\n",
       "    </tr>\n",
       "    <tr>\n",
       "      <th>92</th>\n",
       "      <td>Hindu</td>\n",
       "      <td>Western Asia</td>\n",
       "      <td>8435.03</td>\n",
       "      <td>62.16</td>\n",
       "      <td>13740.76</td>\n",
       "    </tr>\n",
       "    <tr>\n",
       "      <th>54</th>\n",
       "      <td>Buddhist</td>\n",
       "      <td>Western Europe</td>\n",
       "      <td>1816.28</td>\n",
       "      <td>4.13</td>\n",
       "      <td>1895.35</td>\n",
       "    </tr>\n",
       "  </tbody>\n",
       "</table>\n",
       "</div>"
      ],
      "text/plain": [
       "      Religion                 Region  1970-2010 %Change  2010-2020 %Change  \\\n",
       "59    Buddhist  Australia/New Zealand            4094.03              69.22   \n",
       "76   Christian              Caribbean              74.38              25.19   \n",
       "98       Hindu        Central America            1700.00              22.78   \n",
       "21     Atheist         Eastern Africa            1722.58              32.74   \n",
       "68   Christian           Eastern Asia            1017.30               0.68   \n",
       "93       Hindu         Eastern Europe         4769900.00               4.82   \n",
       "18    Agnostic              Melanesia             738.20              31.10   \n",
       "61    Buddhist             Micronesia            2500.00              -4.40   \n",
       "85       Hindu          Middle Africa            9830.00              36.96   \n",
       "86       Hindu        Northern Africa          739900.00              16.22   \n",
       "37     Atheist       Northern America             618.67             391.05   \n",
       "52    Buddhist        Northern Europe             843.22               8.36   \n",
       "41     Atheist              Polynesia             661.90               0.00   \n",
       "15    Agnostic          South America             413.15              23.67   \n",
       "111     Muslim     South-central Asia             181.23              18.38   \n",
       "28     Atheist     South-eastern Asia             350.00               8.01   \n",
       "45    Buddhist        Southern Africa            6856.52              55.62   \n",
       "95       Hindu        Southern Europe            9674.19             553.47   \n",
       "46    Buddhist         Western Africa            3587.50              31.86   \n",
       "92       Hindu           Western Asia            8435.03              62.16   \n",
       "54    Buddhist         Western Europe            1816.28               4.13   \n",
       "\n",
       "     1970-2020 %Change  \n",
       "59             6997.01  \n",
       "76              118.30  \n",
       "98             2110.00  \n",
       "21             2319.35  \n",
       "68             1024.94  \n",
       "93          4999900.00  \n",
       "18              998.88  \n",
       "61             2385.71  \n",
       "85            13500.00  \n",
       "86           859900.00  \n",
       "37             3429.00  \n",
       "52              922.08  \n",
       "41              661.90  \n",
       "15              534.63  \n",
       "111             232.90  \n",
       "28              386.03  \n",
       "45            10726.09  \n",
       "95            63770.97  \n",
       "46             4762.50  \n",
       "92            13740.76  \n",
       "54             1895.35  "
      ]
     },
     "execution_count": 163,
     "metadata": {},
     "output_type": "execute_result"
    }
   ],
   "source": [
    "pc_unregion.loc[pc_unregion.groupby('Region')['1970-2020 %Change'].idxmax()]"
   ]
  },
  {
   "cell_type": "code",
   "execution_count": 164,
   "id": "221fcc34-245b-4733-99f0-b2e9ea405f59",
   "metadata": {},
   "outputs": [
    {
     "data": {
      "text/html": [
       "<div>\n",
       "<style scoped>\n",
       "    .dataframe tbody tr th:only-of-type {\n",
       "        vertical-align: middle;\n",
       "    }\n",
       "\n",
       "    .dataframe tbody tr th {\n",
       "        vertical-align: top;\n",
       "    }\n",
       "\n",
       "    .dataframe thead th {\n",
       "        text-align: right;\n",
       "    }\n",
       "</style>\n",
       "<table border=\"1\" class=\"dataframe\">\n",
       "  <thead>\n",
       "    <tr style=\"text-align: right;\">\n",
       "      <th></th>\n",
       "      <th>Religion</th>\n",
       "      <th>Region</th>\n",
       "      <th>1970-2010 %Change</th>\n",
       "      <th>2010-2020 %Change</th>\n",
       "      <th>1970-2020 %Change</th>\n",
       "    </tr>\n",
       "  </thead>\n",
       "  <tbody>\n",
       "    <tr>\n",
       "      <th>143</th>\n",
       "      <td>General Population</td>\n",
       "      <td>Australia/New Zealand</td>\n",
       "      <td>72.75</td>\n",
       "      <td>13.83</td>\n",
       "      <td>96.65</td>\n",
       "    </tr>\n",
       "    <tr>\n",
       "      <th>13</th>\n",
       "      <td>Agnostic</td>\n",
       "      <td>Caribbean</td>\n",
       "      <td>0.65</td>\n",
       "      <td>0.00</td>\n",
       "      <td>0.65</td>\n",
       "    </tr>\n",
       "    <tr>\n",
       "      <th>140</th>\n",
       "      <td>General Population</td>\n",
       "      <td>Central America</td>\n",
       "      <td>128.96</td>\n",
       "      <td>15.26</td>\n",
       "      <td>163.90</td>\n",
       "    </tr>\n",
       "    <tr>\n",
       "      <th>84</th>\n",
       "      <td>Hindu</td>\n",
       "      <td>Eastern Africa</td>\n",
       "      <td>186.32</td>\n",
       "      <td>20.29</td>\n",
       "      <td>244.40</td>\n",
       "    </tr>\n",
       "    <tr>\n",
       "      <th>26</th>\n",
       "      <td>Atheist</td>\n",
       "      <td>Eastern Asia</td>\n",
       "      <td>6.46</td>\n",
       "      <td>2.49</td>\n",
       "      <td>9.12</td>\n",
       "    </tr>\n",
       "    <tr>\n",
       "      <th>30</th>\n",
       "      <td>Atheist</td>\n",
       "      <td>Eastern Europe</td>\n",
       "      <td>-89.77</td>\n",
       "      <td>-21.36</td>\n",
       "      <td>-91.95</td>\n",
       "    </tr>\n",
       "    <tr>\n",
       "      <th>102</th>\n",
       "      <td>Hindu</td>\n",
       "      <td>Melanesia</td>\n",
       "      <td>35.80</td>\n",
       "      <td>4.60</td>\n",
       "      <td>42.05</td>\n",
       "    </tr>\n",
       "    <tr>\n",
       "      <th>124</th>\n",
       "      <td>Muslim</td>\n",
       "      <td>Micronesia</td>\n",
       "      <td>41.79</td>\n",
       "      <td>15.79</td>\n",
       "      <td>64.18</td>\n",
       "    </tr>\n",
       "    <tr>\n",
       "      <th>127</th>\n",
       "      <td>General Population</td>\n",
       "      <td>Middle Africa</td>\n",
       "      <td>210.83</td>\n",
       "      <td>41.76</td>\n",
       "      <td>340.64</td>\n",
       "    </tr>\n",
       "    <tr>\n",
       "      <th>65</th>\n",
       "      <td>Christian</td>\n",
       "      <td>Northern Africa</td>\n",
       "      <td>221.09</td>\n",
       "      <td>-30.39</td>\n",
       "      <td>123.52</td>\n",
       "    </tr>\n",
       "    <tr>\n",
       "      <th>142</th>\n",
       "      <td>General Population</td>\n",
       "      <td>Northern America</td>\n",
       "      <td>55.29</td>\n",
       "      <td>7.07</td>\n",
       "      <td>66.26</td>\n",
       "    </tr>\n",
       "    <tr>\n",
       "      <th>31</th>\n",
       "      <td>Atheist</td>\n",
       "      <td>Northern Europe</td>\n",
       "      <td>8.95</td>\n",
       "      <td>2.31</td>\n",
       "      <td>11.47</td>\n",
       "    </tr>\n",
       "    <tr>\n",
       "      <th>146</th>\n",
       "      <td>General Population</td>\n",
       "      <td>Polynesia</td>\n",
       "      <td>61.39</td>\n",
       "      <td>1.63</td>\n",
       "      <td>64.03</td>\n",
       "    </tr>\n",
       "    <tr>\n",
       "      <th>99</th>\n",
       "      <td>Hindu</td>\n",
       "      <td>South America</td>\n",
       "      <td>13.35</td>\n",
       "      <td>9.32</td>\n",
       "      <td>23.91</td>\n",
       "    </tr>\n",
       "    <tr>\n",
       "      <th>27</th>\n",
       "      <td>Atheist</td>\n",
       "      <td>South-central Asia</td>\n",
       "      <td>-60.97</td>\n",
       "      <td>4.78</td>\n",
       "      <td>-59.10</td>\n",
       "    </tr>\n",
       "    <tr>\n",
       "      <th>49</th>\n",
       "      <td>Buddhist</td>\n",
       "      <td>South-eastern Asia</td>\n",
       "      <td>79.84</td>\n",
       "      <td>8.09</td>\n",
       "      <td>94.39</td>\n",
       "    </tr>\n",
       "    <tr>\n",
       "      <th>129</th>\n",
       "      <td>General Population</td>\n",
       "      <td>Southern Africa</td>\n",
       "      <td>129.46</td>\n",
       "      <td>16.83</td>\n",
       "      <td>168.08</td>\n",
       "    </tr>\n",
       "    <tr>\n",
       "      <th>32</th>\n",
       "      <td>Atheist</td>\n",
       "      <td>Southern Europe</td>\n",
       "      <td>9.53</td>\n",
       "      <td>-29.24</td>\n",
       "      <td>-22.49</td>\n",
       "    </tr>\n",
       "    <tr>\n",
       "      <th>130</th>\n",
       "      <td>General Population</td>\n",
       "      <td>Western Africa</td>\n",
       "      <td>184.54</td>\n",
       "      <td>32.08</td>\n",
       "      <td>275.81</td>\n",
       "    </tr>\n",
       "    <tr>\n",
       "      <th>29</th>\n",
       "      <td>Atheist</td>\n",
       "      <td>Western Asia</td>\n",
       "      <td>-83.91</td>\n",
       "      <td>10.66</td>\n",
       "      <td>-82.20</td>\n",
       "    </tr>\n",
       "    <tr>\n",
       "      <th>138</th>\n",
       "      <td>General Population</td>\n",
       "      <td>Western Europe</td>\n",
       "      <td>14.22</td>\n",
       "      <td>3.75</td>\n",
       "      <td>18.51</td>\n",
       "    </tr>\n",
       "  </tbody>\n",
       "</table>\n",
       "</div>"
      ],
      "text/plain": [
       "               Religion                 Region  1970-2010 %Change  \\\n",
       "143  General Population  Australia/New Zealand              72.75   \n",
       "13             Agnostic              Caribbean               0.65   \n",
       "140  General Population        Central America             128.96   \n",
       "84                Hindu         Eastern Africa             186.32   \n",
       "26              Atheist           Eastern Asia               6.46   \n",
       "30              Atheist         Eastern Europe             -89.77   \n",
       "102               Hindu              Melanesia              35.80   \n",
       "124              Muslim             Micronesia              41.79   \n",
       "127  General Population          Middle Africa             210.83   \n",
       "65            Christian        Northern Africa             221.09   \n",
       "142  General Population       Northern America              55.29   \n",
       "31              Atheist        Northern Europe               8.95   \n",
       "146  General Population              Polynesia              61.39   \n",
       "99                Hindu          South America              13.35   \n",
       "27              Atheist     South-central Asia             -60.97   \n",
       "49             Buddhist     South-eastern Asia              79.84   \n",
       "129  General Population        Southern Africa             129.46   \n",
       "32              Atheist        Southern Europe               9.53   \n",
       "130  General Population         Western Africa             184.54   \n",
       "29              Atheist           Western Asia             -83.91   \n",
       "138  General Population         Western Europe              14.22   \n",
       "\n",
       "     2010-2020 %Change  1970-2020 %Change  \n",
       "143              13.83              96.65  \n",
       "13                0.00               0.65  \n",
       "140              15.26             163.90  \n",
       "84               20.29             244.40  \n",
       "26                2.49               9.12  \n",
       "30              -21.36             -91.95  \n",
       "102               4.60              42.05  \n",
       "124              15.79              64.18  \n",
       "127              41.76             340.64  \n",
       "65              -30.39             123.52  \n",
       "142               7.07              66.26  \n",
       "31                2.31              11.47  \n",
       "146               1.63              64.03  \n",
       "99                9.32              23.91  \n",
       "27                4.78             -59.10  \n",
       "49                8.09              94.39  \n",
       "129              16.83             168.08  \n",
       "32              -29.24             -22.49  \n",
       "130              32.08             275.81  \n",
       "29               10.66             -82.20  \n",
       "138               3.75              18.51  "
      ]
     },
     "execution_count": 164,
     "metadata": {},
     "output_type": "execute_result"
    }
   ],
   "source": [
    "pc_unregion.loc[pc_unregion.groupby('Region')['1970-2020 %Change'].idxmin()]"
   ]
  },
  {
   "cell_type": "markdown",
   "id": "8a536657-c652-4360-a8db-68e8262fb66d",
   "metadata": {},
   "source": [
    "# % Change UN Indicators: World Level"
   ]
  },
  {
   "cell_type": "code",
   "execution_count": 166,
   "id": "e79085c2-6ee3-4f47-b22b-2eb7d8273aad",
   "metadata": {},
   "outputs": [],
   "source": [
    "un_world_70_10=un_world.loc[un_world['Time'].between(1970,2010)]"
   ]
  },
  {
   "cell_type": "code",
   "execution_count": 167,
   "id": "1df792e4-84b2-416a-bd7e-68d83c18ac52",
   "metadata": {},
   "outputs": [],
   "source": [
    "un_world_70_10=un_world_70_10.transpose().reset_index()"
   ]
  },
  {
   "cell_type": "code",
   "execution_count": 168,
   "id": "09480653-e4aa-4586-90d4-2ef662de2931",
   "metadata": {},
   "outputs": [],
   "source": [
    "un_world_70_10=un_world_70_10[['index',35588, 35628]]"
   ]
  },
  {
   "cell_type": "code",
   "execution_count": 169,
   "id": "085986c5-e55c-466e-8b4c-8cf4ba9eb624",
   "metadata": {},
   "outputs": [],
   "source": [
    "un_world_70_10['Year']='1970-2010'"
   ]
  },
  {
   "cell_type": "code",
   "execution_count": 170,
   "id": "11903c67-05a5-452d-99e2-3d2734e25ed0",
   "metadata": {},
   "outputs": [],
   "source": [
    "un_world_70_10['Region']='World'"
   ]
  },
  {
   "cell_type": "code",
   "execution_count": 171,
   "id": "d243d45f-4f1a-4ff8-a3d3-509aeb2ef162",
   "metadata": {},
   "outputs": [],
   "source": [
    "un_world_70_10=un_world_70_10.rename(columns={'index':'Indicators'})"
   ]
  },
  {
   "cell_type": "code",
   "execution_count": 172,
   "id": "f47fe228-460c-48d6-9ab9-4b828317c521",
   "metadata": {},
   "outputs": [],
   "source": [
    "drop_list=[0,1,2,3,8]"
   ]
  },
  {
   "cell_type": "code",
   "execution_count": 173,
   "id": "3ddb29ec-6c4a-4871-b7ed-c83a77d4591e",
   "metadata": {},
   "outputs": [],
   "source": [
    "un_world_70_10=un_world_70_10.drop(drop_list)"
   ]
  },
  {
   "cell_type": "code",
   "execution_count": 174,
   "id": "8470d145-b208-4f34-b5a5-058a07f28609",
   "metadata": {},
   "outputs": [],
   "source": [
    "un_world_70_10['Percent Change']=((un_world_70_10[35628]-un_world_70_10[35588])/un_world_70_10[35588]*100)"
   ]
  },
  {
   "cell_type": "code",
   "execution_count": 175,
   "id": "d3a564f3-113e-4f61-b1ac-5e4ac8d6c226",
   "metadata": {},
   "outputs": [
    {
     "data": {
      "text/html": [
       "<div>\n",
       "<style scoped>\n",
       "    .dataframe tbody tr th:only-of-type {\n",
       "        vertical-align: middle;\n",
       "    }\n",
       "\n",
       "    .dataframe tbody tr th {\n",
       "        vertical-align: top;\n",
       "    }\n",
       "\n",
       "    .dataframe thead th {\n",
       "        text-align: right;\n",
       "    }\n",
       "</style>\n",
       "<table border=\"1\" class=\"dataframe\">\n",
       "  <thead>\n",
       "    <tr style=\"text-align: right;\">\n",
       "      <th></th>\n",
       "      <th>Indicators</th>\n",
       "      <th>35588</th>\n",
       "      <th>35628</th>\n",
       "      <th>Year</th>\n",
       "      <th>Region</th>\n",
       "      <th>Percent Change</th>\n",
       "    </tr>\n",
       "  </thead>\n",
       "  <tbody>\n",
       "    <tr>\n",
       "      <th>4</th>\n",
       "      <td>Births</td>\n",
       "      <td>124135.907</td>\n",
       "      <td>143354.237</td>\n",
       "      <td>1970-2010</td>\n",
       "      <td>World</td>\n",
       "      <td>15.481685</td>\n",
       "    </tr>\n",
       "    <tr>\n",
       "      <th>5</th>\n",
       "      <td>CBR</td>\n",
       "      <td>33.599</td>\n",
       "      <td>20.416</td>\n",
       "      <td>1970-2010</td>\n",
       "      <td>World</td>\n",
       "      <td>-39.236287</td>\n",
       "    </tr>\n",
       "    <tr>\n",
       "      <th>6</th>\n",
       "      <td>TFR</td>\n",
       "      <td>4.8251</td>\n",
       "      <td>2.6021</td>\n",
       "      <td>1970-2010</td>\n",
       "      <td>World</td>\n",
       "      <td>-46.071584</td>\n",
       "    </tr>\n",
       "    <tr>\n",
       "      <th>7</th>\n",
       "      <td>NRR</td>\n",
       "      <td>1.8755</td>\n",
       "      <td>1.1595</td>\n",
       "      <td>1970-2010</td>\n",
       "      <td>World</td>\n",
       "      <td>-38.176486</td>\n",
       "    </tr>\n",
       "    <tr>\n",
       "      <th>9</th>\n",
       "      <td>Population</td>\n",
       "      <td>3656697.561</td>\n",
       "      <td>6977189.237</td>\n",
       "      <td>1970-2010</td>\n",
       "      <td>World</td>\n",
       "      <td>90.805751</td>\n",
       "    </tr>\n",
       "  </tbody>\n",
       "</table>\n",
       "</div>"
      ],
      "text/plain": [
       "   Indicators        35588        35628       Year Region Percent Change\n",
       "4      Births   124135.907   143354.237  1970-2010  World      15.481685\n",
       "5         CBR       33.599       20.416  1970-2010  World     -39.236287\n",
       "6         TFR       4.8251       2.6021  1970-2010  World     -46.071584\n",
       "7         NRR       1.8755       1.1595  1970-2010  World     -38.176486\n",
       "9  Population  3656697.561  6977189.237  1970-2010  World      90.805751"
      ]
     },
     "execution_count": 175,
     "metadata": {},
     "output_type": "execute_result"
    }
   ],
   "source": [
    "un_world_70_10"
   ]
  },
  {
   "cell_type": "code",
   "execution_count": 176,
   "id": "155ea2f2-54d1-404a-aadf-0e6c993f27e3",
   "metadata": {},
   "outputs": [],
   "source": [
    "un_world_70_10=un_world_70_10[['Indicators','Region','Year', 'Percent Change']]"
   ]
  },
  {
   "cell_type": "markdown",
   "id": "5d860a9f-5e19-4786-b945-178bc4dc816c",
   "metadata": {},
   "source": [
    "# % Change UN Indicators: Continent Level"
   ]
  },
  {
   "cell_type": "code",
   "execution_count": 178,
   "id": "6399c2b2-219c-4c60-a295-cb64eb61b53c",
   "metadata": {},
   "outputs": [
    {
     "data": {
      "text/html": [
       "<div>\n",
       "<style scoped>\n",
       "    .dataframe tbody tr th:only-of-type {\n",
       "        vertical-align: middle;\n",
       "    }\n",
       "\n",
       "    .dataframe tbody tr th {\n",
       "        vertical-align: top;\n",
       "    }\n",
       "\n",
       "    .dataframe thead th {\n",
       "        text-align: right;\n",
       "    }\n",
       "</style>\n",
       "<table border=\"1\" class=\"dataframe\">\n",
       "  <thead>\n",
       "    <tr style=\"text-align: right;\">\n",
       "      <th></th>\n",
       "      <th>index</th>\n",
       "      <th>Time</th>\n",
       "      <th>Location</th>\n",
       "      <th>LocTypeName</th>\n",
       "      <th>ISO3_code</th>\n",
       "      <th>Births</th>\n",
       "      <th>CBR</th>\n",
       "      <th>TFR</th>\n",
       "      <th>NRR</th>\n",
       "      <th>PopGrowthRate</th>\n",
       "      <th>Population</th>\n",
       "    </tr>\n",
       "  </thead>\n",
       "  <tbody>\n",
       "    <tr>\n",
       "      <th>0</th>\n",
       "      <td>0</td>\n",
       "      <td>1950</td>\n",
       "      <td>Africa</td>\n",
       "      <td>Geographic region</td>\n",
       "      <td>NaN</td>\n",
       "      <td>10878.554</td>\n",
       "      <td>47.760</td>\n",
       "      <td>6.5162</td>\n",
       "      <td>1.8138</td>\n",
       "      <td>2.052</td>\n",
       "      <td>225440.040</td>\n",
       "    </tr>\n",
       "    <tr>\n",
       "      <th>1</th>\n",
       "      <td>1</td>\n",
       "      <td>1951</td>\n",
       "      <td>Africa</td>\n",
       "      <td>Geographic region</td>\n",
       "      <td>NaN</td>\n",
       "      <td>11138.514</td>\n",
       "      <td>47.896</td>\n",
       "      <td>6.5296</td>\n",
       "      <td>1.8404</td>\n",
       "      <td>2.102</td>\n",
       "      <td>230112.798</td>\n",
       "    </tr>\n",
       "    <tr>\n",
       "      <th>2</th>\n",
       "      <td>2</td>\n",
       "      <td>1952</td>\n",
       "      <td>Africa</td>\n",
       "      <td>Geographic region</td>\n",
       "      <td>NaN</td>\n",
       "      <td>11398.576</td>\n",
       "      <td>47.986</td>\n",
       "      <td>6.5411</td>\n",
       "      <td>1.8647</td>\n",
       "      <td>2.137</td>\n",
       "      <td>235001.139</td>\n",
       "    </tr>\n",
       "    <tr>\n",
       "      <th>3</th>\n",
       "      <td>3</td>\n",
       "      <td>1953</td>\n",
       "      <td>Africa</td>\n",
       "      <td>Geographic region</td>\n",
       "      <td>NaN</td>\n",
       "      <td>11669.182</td>\n",
       "      <td>48.084</td>\n",
       "      <td>6.5584</td>\n",
       "      <td>1.8903</td>\n",
       "      <td>2.149</td>\n",
       "      <td>240077.942</td>\n",
       "    </tr>\n",
       "    <tr>\n",
       "      <th>4</th>\n",
       "      <td>4</td>\n",
       "      <td>1954</td>\n",
       "      <td>Africa</td>\n",
       "      <td>Geographic region</td>\n",
       "      <td>NaN</td>\n",
       "      <td>11924.006</td>\n",
       "      <td>48.080</td>\n",
       "      <td>6.5694</td>\n",
       "      <td>1.9134</td>\n",
       "      <td>2.188</td>\n",
       "      <td>245292.210</td>\n",
       "    </tr>\n",
       "    <tr>\n",
       "      <th>...</th>\n",
       "      <td>...</td>\n",
       "      <td>...</td>\n",
       "      <td>...</td>\n",
       "      <td>...</td>\n",
       "      <td>...</td>\n",
       "      <td>...</td>\n",
       "      <td>...</td>\n",
       "      <td>...</td>\n",
       "      <td>...</td>\n",
       "      <td>...</td>\n",
       "      <td>...</td>\n",
       "    </tr>\n",
       "    <tr>\n",
       "      <th>907</th>\n",
       "      <td>907</td>\n",
       "      <td>2097</td>\n",
       "      <td>Latin America</td>\n",
       "      <td>NaN</td>\n",
       "      <td>NaN</td>\n",
       "      <td>14842.506</td>\n",
       "      <td>17.145</td>\n",
       "      <td>3.2903</td>\n",
       "      <td>1.5978</td>\n",
       "      <td>-0.383</td>\n",
       "      <td>1725134.718</td>\n",
       "    </tr>\n",
       "    <tr>\n",
       "      <th>908</th>\n",
       "      <td>908</td>\n",
       "      <td>2098</td>\n",
       "      <td>Latin America</td>\n",
       "      <td>NaN</td>\n",
       "      <td>NaN</td>\n",
       "      <td>14767.885</td>\n",
       "      <td>17.123</td>\n",
       "      <td>3.2887</td>\n",
       "      <td>1.5972</td>\n",
       "      <td>-0.383</td>\n",
       "      <td>1718534.988</td>\n",
       "    </tr>\n",
       "    <tr>\n",
       "      <th>909</th>\n",
       "      <td>909</td>\n",
       "      <td>2099</td>\n",
       "      <td>Latin America</td>\n",
       "      <td>NaN</td>\n",
       "      <td>NaN</td>\n",
       "      <td>14703.652</td>\n",
       "      <td>17.111</td>\n",
       "      <td>3.2893</td>\n",
       "      <td>1.5977</td>\n",
       "      <td>-0.388</td>\n",
       "      <td>1711868.764</td>\n",
       "    </tr>\n",
       "    <tr>\n",
       "      <th>910</th>\n",
       "      <td>910</td>\n",
       "      <td>2100</td>\n",
       "      <td>Latin America</td>\n",
       "      <td>NaN</td>\n",
       "      <td>NaN</td>\n",
       "      <td>14628.260</td>\n",
       "      <td>17.090</td>\n",
       "      <td>3.2877</td>\n",
       "      <td>1.5970</td>\n",
       "      <td>-0.388</td>\n",
       "      <td>1705218.645</td>\n",
       "    </tr>\n",
       "    <tr>\n",
       "      <th>911</th>\n",
       "      <td>911</td>\n",
       "      <td>2101</td>\n",
       "      <td>Latin America</td>\n",
       "      <td>NaN</td>\n",
       "      <td>NaN</td>\n",
       "      <td>NaN</td>\n",
       "      <td>NaN</td>\n",
       "      <td>NaN</td>\n",
       "      <td>NaN</td>\n",
       "      <td>-0.394</td>\n",
       "      <td>1698502.295</td>\n",
       "    </tr>\n",
       "  </tbody>\n",
       "</table>\n",
       "<p>912 rows × 11 columns</p>\n",
       "</div>"
      ],
      "text/plain": [
       "     index  Time       Location        LocTypeName ISO3_code     Births  \\\n",
       "0        0  1950         Africa  Geographic region       NaN  10878.554   \n",
       "1        1  1951         Africa  Geographic region       NaN  11138.514   \n",
       "2        2  1952         Africa  Geographic region       NaN  11398.576   \n",
       "3        3  1953         Africa  Geographic region       NaN  11669.182   \n",
       "4        4  1954         Africa  Geographic region       NaN  11924.006   \n",
       "..     ...   ...            ...                ...       ...        ...   \n",
       "907    907  2097  Latin America                NaN       NaN  14842.506   \n",
       "908    908  2098  Latin America                NaN       NaN  14767.885   \n",
       "909    909  2099  Latin America                NaN       NaN  14703.652   \n",
       "910    910  2100  Latin America                NaN       NaN  14628.260   \n",
       "911    911  2101  Latin America                NaN       NaN        NaN   \n",
       "\n",
       "        CBR     TFR     NRR  PopGrowthRate   Population  \n",
       "0    47.760  6.5162  1.8138          2.052   225440.040  \n",
       "1    47.896  6.5296  1.8404          2.102   230112.798  \n",
       "2    47.986  6.5411  1.8647          2.137   235001.139  \n",
       "3    48.084  6.5584  1.8903          2.149   240077.942  \n",
       "4    48.080  6.5694  1.9134          2.188   245292.210  \n",
       "..      ...     ...     ...            ...          ...  \n",
       "907  17.145  3.2903  1.5978         -0.383  1725134.718  \n",
       "908  17.123  3.2887  1.5972         -0.383  1718534.988  \n",
       "909  17.111  3.2893  1.5977         -0.388  1711868.764  \n",
       "910  17.090  3.2877  1.5970         -0.388  1705218.645  \n",
       "911     NaN     NaN     NaN         -0.394  1698502.295  \n",
       "\n",
       "[912 rows x 11 columns]"
      ]
     },
     "execution_count": 178,
     "metadata": {},
     "output_type": "execute_result"
    }
   ],
   "source": [
    "un_continent"
   ]
  },
  {
   "cell_type": "code",
   "execution_count": 179,
   "id": "ba53f122-53d4-4292-b71e-d565f7d308fa",
   "metadata": {},
   "outputs": [],
   "source": [
    "list1=[1970,2010]"
   ]
  },
  {
   "cell_type": "code",
   "execution_count": 180,
   "id": "f2b48f31-84d3-472f-8062-52867880c85f",
   "metadata": {},
   "outputs": [],
   "source": [
    "un_continent_70_10=un_continent.loc[un_continent['Time'].isin(list1)]"
   ]
  },
  {
   "cell_type": "code",
   "execution_count": 181,
   "id": "c334d2c7-4831-4a2b-ad96-e8b472c13bdc",
   "metadata": {},
   "outputs": [
    {
     "data": {
      "text/html": [
       "<div>\n",
       "<style scoped>\n",
       "    .dataframe tbody tr th:only-of-type {\n",
       "        vertical-align: middle;\n",
       "    }\n",
       "\n",
       "    .dataframe tbody tr th {\n",
       "        vertical-align: top;\n",
       "    }\n",
       "\n",
       "    .dataframe thead th {\n",
       "        text-align: right;\n",
       "    }\n",
       "</style>\n",
       "<table border=\"1\" class=\"dataframe\">\n",
       "  <thead>\n",
       "    <tr style=\"text-align: right;\">\n",
       "      <th></th>\n",
       "      <th>Indicators</th>\n",
       "      <th>Region</th>\n",
       "      <th>Year</th>\n",
       "      <th>Percent Change</th>\n",
       "    </tr>\n",
       "  </thead>\n",
       "  <tbody>\n",
       "    <tr>\n",
       "      <th>4</th>\n",
       "      <td>Births</td>\n",
       "      <td>World</td>\n",
       "      <td>1970-2010</td>\n",
       "      <td>15.481685</td>\n",
       "    </tr>\n",
       "    <tr>\n",
       "      <th>5</th>\n",
       "      <td>CBR</td>\n",
       "      <td>World</td>\n",
       "      <td>1970-2010</td>\n",
       "      <td>-39.236287</td>\n",
       "    </tr>\n",
       "    <tr>\n",
       "      <th>6</th>\n",
       "      <td>TFR</td>\n",
       "      <td>World</td>\n",
       "      <td>1970-2010</td>\n",
       "      <td>-46.071584</td>\n",
       "    </tr>\n",
       "    <tr>\n",
       "      <th>7</th>\n",
       "      <td>NRR</td>\n",
       "      <td>World</td>\n",
       "      <td>1970-2010</td>\n",
       "      <td>-38.176486</td>\n",
       "    </tr>\n",
       "    <tr>\n",
       "      <th>9</th>\n",
       "      <td>Population</td>\n",
       "      <td>World</td>\n",
       "      <td>1970-2010</td>\n",
       "      <td>90.805751</td>\n",
       "    </tr>\n",
       "  </tbody>\n",
       "</table>\n",
       "</div>"
      ],
      "text/plain": [
       "   Indicators Region       Year Percent Change\n",
       "4      Births  World  1970-2010      15.481685\n",
       "5         CBR  World  1970-2010     -39.236287\n",
       "6         TFR  World  1970-2010     -46.071584\n",
       "7         NRR  World  1970-2010     -38.176486\n",
       "9  Population  World  1970-2010      90.805751"
      ]
     },
     "execution_count": 181,
     "metadata": {},
     "output_type": "execute_result"
    }
   ],
   "source": [
    "un_world_70_10"
   ]
  },
  {
   "cell_type": "code",
   "execution_count": 182,
   "id": "3c99cea1-eb3e-451b-9183-2b6c64b7bab1",
   "metadata": {},
   "outputs": [
    {
     "data": {
      "text/html": [
       "<div>\n",
       "<style scoped>\n",
       "    .dataframe tbody tr th:only-of-type {\n",
       "        vertical-align: middle;\n",
       "    }\n",
       "\n",
       "    .dataframe tbody tr th {\n",
       "        vertical-align: top;\n",
       "    }\n",
       "\n",
       "    .dataframe thead th {\n",
       "        text-align: right;\n",
       "    }\n",
       "</style>\n",
       "<table border=\"1\" class=\"dataframe\">\n",
       "  <thead>\n",
       "    <tr style=\"text-align: right;\">\n",
       "      <th></th>\n",
       "      <th>Time</th>\n",
       "      <th>Location</th>\n",
       "      <th>Births</th>\n",
       "      <th>CBR</th>\n",
       "      <th>TFR</th>\n",
       "      <th>NRR</th>\n",
       "      <th>Population</th>\n",
       "    </tr>\n",
       "  </thead>\n",
       "  <tbody>\n",
       "    <tr>\n",
       "      <th>0</th>\n",
       "      <td>1970</td>\n",
       "      <td>Africa</td>\n",
       "      <td>17149.970</td>\n",
       "      <td>46.915</td>\n",
       "      <td>6.6879</td>\n",
       "      <td>2.2018</td>\n",
       "      <td>360703.245</td>\n",
       "    </tr>\n",
       "    <tr>\n",
       "      <th>1</th>\n",
       "      <td>2010</td>\n",
       "      <td>Africa</td>\n",
       "      <td>39685.493</td>\n",
       "      <td>37.013</td>\n",
       "      <td>4.8905</td>\n",
       "      <td>2.0168</td>\n",
       "      <td>1058249.434</td>\n",
       "    </tr>\n",
       "    <tr>\n",
       "      <th>2</th>\n",
       "      <td>1970</td>\n",
       "      <td>Asia</td>\n",
       "      <td>81210.591</td>\n",
       "      <td>37.992</td>\n",
       "      <td>5.5909</td>\n",
       "      <td>2.1188</td>\n",
       "      <td>2111391.852</td>\n",
       "    </tr>\n",
       "    <tr>\n",
       "      <th>3</th>\n",
       "      <td>2010</td>\n",
       "      <td>Asia</td>\n",
       "      <td>79595.720</td>\n",
       "      <td>18.773</td>\n",
       "      <td>2.3225</td>\n",
       "      <td>1.0404</td>\n",
       "      <td>4215013.658</td>\n",
       "    </tr>\n",
       "    <tr>\n",
       "      <th>4</th>\n",
       "      <td>1970</td>\n",
       "      <td>Europe</td>\n",
       "      <td>10564.868</td>\n",
       "      <td>16.081</td>\n",
       "      <td>2.2826</td>\n",
       "      <td>1.0663</td>\n",
       "      <td>655376.513</td>\n",
       "    </tr>\n",
       "    <tr>\n",
       "      <th>5</th>\n",
       "      <td>2010</td>\n",
       "      <td>Europe</td>\n",
       "      <td>8236.451</td>\n",
       "      <td>11.158</td>\n",
       "      <td>1.6056</td>\n",
       "      <td>0.7693</td>\n",
       "      <td>737549.640</td>\n",
       "    </tr>\n",
       "    <tr>\n",
       "      <th>6</th>\n",
       "      <td>1970</td>\n",
       "      <td>Northern America</td>\n",
       "      <td>4252.364</td>\n",
       "      <td>18.542</td>\n",
       "      <td>2.4912</td>\n",
       "      <td>1.1731</td>\n",
       "      <td>227745.746</td>\n",
       "    </tr>\n",
       "    <tr>\n",
       "      <th>7</th>\n",
       "      <td>2010</td>\n",
       "      <td>Northern America</td>\n",
       "      <td>4358.462</td>\n",
       "      <td>12.619</td>\n",
       "      <td>1.8899</td>\n",
       "      <td>0.9101</td>\n",
       "      <td>343670.804</td>\n",
       "    </tr>\n",
       "    <tr>\n",
       "      <th>8</th>\n",
       "      <td>1970</td>\n",
       "      <td>Oceania</td>\n",
       "      <td>488.869</td>\n",
       "      <td>25.078</td>\n",
       "      <td>3.5659</td>\n",
       "      <td>1.6008</td>\n",
       "      <td>19223.115</td>\n",
       "    </tr>\n",
       "    <tr>\n",
       "      <th>9</th>\n",
       "      <td>2010</td>\n",
       "      <td>Oceania</td>\n",
       "      <td>678.428</td>\n",
       "      <td>18.211</td>\n",
       "      <td>2.5235</td>\n",
       "      <td>1.1729</td>\n",
       "      <td>36937.684</td>\n",
       "    </tr>\n",
       "    <tr>\n",
       "      <th>10</th>\n",
       "      <td>1970</td>\n",
       "      <td>Latin America</td>\n",
       "      <td>25190.854</td>\n",
       "      <td>65.220</td>\n",
       "      <td>9.1316</td>\n",
       "      <td>3.8300</td>\n",
       "      <td>792259.926</td>\n",
       "    </tr>\n",
       "    <tr>\n",
       "      <th>11</th>\n",
       "      <td>2010</td>\n",
       "      <td>Latin America</td>\n",
       "      <td>25957.828</td>\n",
       "      <td>34.562</td>\n",
       "      <td>4.2743</td>\n",
       "      <td>2.0197</td>\n",
       "      <td>1515206.838</td>\n",
       "    </tr>\n",
       "  </tbody>\n",
       "</table>\n",
       "</div>"
      ],
      "text/plain": [
       "    Time          Location     Births     CBR     TFR     NRR   Population\n",
       "0   1970            Africa  17149.970  46.915  6.6879  2.2018   360703.245\n",
       "1   2010            Africa  39685.493  37.013  4.8905  2.0168  1058249.434\n",
       "2   1970              Asia  81210.591  37.992  5.5909  2.1188  2111391.852\n",
       "3   2010              Asia  79595.720  18.773  2.3225  1.0404  4215013.658\n",
       "4   1970            Europe  10564.868  16.081  2.2826  1.0663   655376.513\n",
       "5   2010            Europe   8236.451  11.158  1.6056  0.7693   737549.640\n",
       "6   1970  Northern America   4252.364  18.542  2.4912  1.1731   227745.746\n",
       "7   2010  Northern America   4358.462  12.619  1.8899  0.9101   343670.804\n",
       "8   1970           Oceania    488.869  25.078  3.5659  1.6008    19223.115\n",
       "9   2010           Oceania    678.428  18.211  2.5235  1.1729    36937.684\n",
       "10  1970     Latin America  25190.854  65.220  9.1316  3.8300   792259.926\n",
       "11  2010     Latin America  25957.828  34.562  4.2743  2.0197  1515206.838"
      ]
     },
     "execution_count": 182,
     "metadata": {},
     "output_type": "execute_result"
    }
   ],
   "source": [
    "un_continent_70_10=un_continent_70_10.drop(columns={'LocTypeName','ISO3_code', 'index', 'PopGrowthRate'}).reset_index(drop=True)\n",
    "un_continent_70_10"
   ]
  },
  {
   "cell_type": "code",
   "execution_count": null,
   "id": "5377e954-c061-4441-b862-bdcbadf17a96",
   "metadata": {},
   "outputs": [],
   "source": []
  }
 ],
 "metadata": {
  "kernelspec": {
   "display_name": "Python 3 (ipykernel)",
   "language": "python",
   "name": "python3"
  },
  "language_info": {
   "codemirror_mode": {
    "name": "ipython",
    "version": 3
   },
   "file_extension": ".py",
   "mimetype": "text/x-python",
   "name": "python",
   "nbconvert_exporter": "python",
   "pygments_lexer": "ipython3",
   "version": "3.12.4"
  }
 },
 "nbformat": 4,
 "nbformat_minor": 5
}
