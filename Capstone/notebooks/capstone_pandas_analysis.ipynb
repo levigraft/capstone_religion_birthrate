{
 "cells": [
  {
   "cell_type": "code",
   "execution_count": 1,
   "id": "aefe7edf-efcd-47a1-95fe-09f753106171",
   "metadata": {},
   "outputs": [],
   "source": [
    "import pandas as pd"
   ]
  },
  {
   "cell_type": "markdown",
   "id": "04a2eef9-bf8a-4588-8430-1e35023a8b30",
   "metadata": {},
   "source": [
    "# Bring in CSV converted from PDF"
   ]
  },
  {
   "cell_type": "markdown",
   "id": "afafcd67-2dd2-4845-b11f-45194035be5d",
   "metadata": {},
   "source": [
    "# PDF: The World’s Religions in Figures: An Introduction to International Religious Demography, \n",
    "First Edition. Todd M. Johnson and Brian J. Grim \r\n",
    "© 2013 John Wiley & Sons, Ltd. Published 2013 by John Wiley & Sons, Ltd."
   ]
  },
  {
   "cell_type": "markdown",
   "id": "439c4161-2b04-4e3b-9b68-25a243db9305",
   "metadata": {},
   "source": [
    "# Data source: Todd M. Johnson and Brian J. Grim, eds., World Religion Database (Leiden/Boston: Brill, accessed January 2012)"
   ]
  },
  {
   "cell_type": "code",
   "execution_count": 5,
   "id": "c2202a31-9a0d-4bc4-98ac-6a7f3794a823",
   "metadata": {},
   "outputs": [],
   "source": [
    "population = pd.read_csv('../data/johnson_grim/1910_2010_csv/population.csv', thousands=',')"
   ]
  },
  {
   "cell_type": "code",
   "execution_count": 6,
   "id": "de21cf10-83f7-4208-98d3-d4d2cd26d297",
   "metadata": {},
   "outputs": [],
   "source": [
    "agnostic = pd.read_csv('../data/johnson_grim/1910_2010_csv/agnostics.csv', thousands=',')"
   ]
  },
  {
   "cell_type": "code",
   "execution_count": 7,
   "id": "fc2f1d04-668b-4214-95c6-406651165308",
   "metadata": {},
   "outputs": [],
   "source": [
    "atheist = pd.read_csv('../data/johnson_grim/1910_2010_csv/atheist.csv', thousands=',')\n"
   ]
  },
  {
   "cell_type": "code",
   "execution_count": 8,
   "id": "0f9c9392-24c1-4ebe-a0f6-ac1d14b0e46e",
   "metadata": {},
   "outputs": [],
   "source": [
    "buddhist = pd.read_csv('../data/johnson_grim/1910_2010_csv/buddhist.csv', thousands=',')\n"
   ]
  },
  {
   "cell_type": "code",
   "execution_count": 9,
   "id": "4b564ad3-c792-4ab1-ba06-b0afdd239979",
   "metadata": {},
   "outputs": [],
   "source": [
    "christian = pd.read_csv('../data/johnson_grim/1910_2010_csv/christian.csv', thousands=',')\n"
   ]
  },
  {
   "cell_type": "code",
   "execution_count": 10,
   "id": "be9d20f7-d633-4509-80e1-7855f35634c2",
   "metadata": {},
   "outputs": [],
   "source": [
    "hindu = pd.read_csv('../data/johnson_grim/1910_2010_csv/hindu.csv', thousands=',')"
   ]
  },
  {
   "cell_type": "code",
   "execution_count": 11,
   "id": "1dd18aa8-8e20-4776-a142-8cc87a8b509c",
   "metadata": {},
   "outputs": [],
   "source": [
    "muslim = pd.read_csv('../data/johnson_grim/1910_2010_csv/muslim.csv', thousands=',')"
   ]
  },
  {
   "cell_type": "markdown",
   "id": "737cece7-7584-45be-8dbd-bc8e265e205b",
   "metadata": {},
   "source": [
    "# Bring in CSV converted from PDF"
   ]
  },
  {
   "cell_type": "markdown",
   "id": "f5816f7b-7b31-4d34-8c30-21d137a46c97",
   "metadata": {},
   "source": [
    "# PDF: Projecting Global Religious Populations, 2020–50 from Journal of Religion and Demography 8 (2021) 124–153\r"
   ]
  },
  {
   "cell_type": "markdown",
   "id": "e76e7167-39bd-4af0-b5b2-01e0e4fe8aa5",
   "metadata": {},
   "source": [
    "# Data source: Todd M. Johnson and Brian J. Grim, eds., World Religion Database (Leiden/Boston: Brill, accessed July 2021)."
   ]
  },
  {
   "cell_type": "code",
   "execution_count": 15,
   "id": "61fae0b6-0e67-4472-9c1e-9eeb0cb41486",
   "metadata": {},
   "outputs": [],
   "source": [
    "population2 = pd.read_csv('../data/johnson_grim/2020_2050_csv/population.csv', thousands=',')"
   ]
  },
  {
   "cell_type": "code",
   "execution_count": 16,
   "id": "6d9405af-7f20-45aa-9291-9c0659756436",
   "metadata": {},
   "outputs": [],
   "source": [
    "agnostic2 = pd.read_csv('../data/johnson_grim/2020_2050_csv/agnostic.csv', thousands=',')"
   ]
  },
  {
   "cell_type": "code",
   "execution_count": 17,
   "id": "f812cf04-e93b-46c6-8671-31846e9c7adf",
   "metadata": {},
   "outputs": [],
   "source": [
    "atheist2 = pd.read_csv('../data/johnson_grim/2020_2050_csv/atheist.csv', thousands=',')"
   ]
  },
  {
   "cell_type": "code",
   "execution_count": 18,
   "id": "7d54e31d-7d6e-497a-b60c-b0048e2a7caf",
   "metadata": {},
   "outputs": [],
   "source": [
    "buddhist2 = pd.read_csv('../data/johnson_grim/2020_2050_csv/buddhist.csv', thousands=',')"
   ]
  },
  {
   "cell_type": "code",
   "execution_count": 19,
   "id": "43502e52-0257-4b98-9dce-383ebdfb35d0",
   "metadata": {},
   "outputs": [],
   "source": [
    "christian2 = pd.read_csv('../data/johnson_grim/2020_2050_csv/christian.csv', thousands=',')"
   ]
  },
  {
   "cell_type": "code",
   "execution_count": 20,
   "id": "daf1b5ba-7240-44f0-b5fe-512b2679b032",
   "metadata": {},
   "outputs": [],
   "source": [
    "hindu2 = pd.read_csv('../data/johnson_grim/2020_2050_csv/hindu.csv', thousands=',')"
   ]
  },
  {
   "cell_type": "code",
   "execution_count": 21,
   "id": "cfd645f0-d095-41f2-9e46-1f8e5fe6b81b",
   "metadata": {},
   "outputs": [],
   "source": [
    "muslim2 = pd.read_csv('../data/johnson_grim/2020_2050_csv/muslim.csv', thousands=',')"
   ]
  },
  {
   "cell_type": "markdown",
   "id": "22284457-ea4d-4a0b-9160-808d25a20da1",
   "metadata": {},
   "source": [
    "# Merge 1910-2010 and 2020-2050 tables for each religion"
   ]
  },
  {
   "cell_type": "code",
   "execution_count": 23,
   "id": "9099876a-9887-481a-8432-f4b1d6555c7c",
   "metadata": {},
   "outputs": [],
   "source": [
    "population = pd.merge(population, population2, left_on = 'Region', right_on = 'Region')"
   ]
  },
  {
   "cell_type": "code",
   "execution_count": 24,
   "id": "d433917d-6bb2-4809-a7a7-f4f0f458758e",
   "metadata": {},
   "outputs": [],
   "source": [
    "agnostic = pd.merge(agnostic, agnostic2, left_on = 'Region', right_on = 'Region')"
   ]
  },
  {
   "cell_type": "code",
   "execution_count": 25,
   "id": "23e21f9f-82f6-4e7d-bd63-26944bc26e5c",
   "metadata": {},
   "outputs": [],
   "source": [
    "atheist = pd.merge(atheist, atheist2, left_on = 'Region', right_on = 'Region')"
   ]
  },
  {
   "cell_type": "code",
   "execution_count": 26,
   "id": "38305333-3c91-41e2-b509-d81de507a0ad",
   "metadata": {},
   "outputs": [],
   "source": [
    "buddhist = pd.merge(buddhist, buddhist2, left_on = 'Region', right_on = 'Region')"
   ]
  },
  {
   "cell_type": "code",
   "execution_count": 27,
   "id": "500a4c9a-11ac-475b-bb30-76c3a22a1173",
   "metadata": {},
   "outputs": [],
   "source": [
    "christian = pd.merge(christian, christian2, left_on = 'Region', right_on = 'Region')"
   ]
  },
  {
   "cell_type": "code",
   "execution_count": 28,
   "id": "8f4852be-7c1b-428e-9755-3ecee89c633a",
   "metadata": {},
   "outputs": [],
   "source": [
    "hindu = pd.merge(hindu, hindu2, left_on = 'Region', right_on = 'Region')"
   ]
  },
  {
   "cell_type": "code",
   "execution_count": 29,
   "id": "5dd11141-34ec-48f6-8a84-b14770ad395b",
   "metadata": {},
   "outputs": [],
   "source": [
    "muslim = pd.merge(muslim, muslim2, left_on = 'Region', right_on = 'Region')"
   ]
  },
  {
   "cell_type": "markdown",
   "id": "6267b573-b9bd-4d88-9a12-193f1ec229b6",
   "metadata": {},
   "source": [
    "# Clean column names for Each Religion and add Religion Column"
   ]
  },
  {
   "cell_type": "code",
   "execution_count": 31,
   "id": "bc311961-e6e9-4fa3-948f-37885d80a7d2",
   "metadata": {},
   "outputs": [],
   "source": [
    "agnostic = agnostic.rename(columns = {'A 1910':'Agnostics 1910','A 1970':'Agnostics 1970','A 2010':'Agnostics 2010'})"
   ]
  },
  {
   "cell_type": "code",
   "execution_count": 32,
   "id": "5f6df00f-1a76-4079-ab3e-1117fcf8b74f",
   "metadata": {},
   "outputs": [],
   "source": [
    "atheist = atheist.rename(columns = {'A 2020':'Atheists 2020', 'A 2050':'Atheists 2050'})"
   ]
  },
  {
   "cell_type": "code",
   "execution_count": 33,
   "id": "f9d22a09-cc12-42a4-a843-4ebfd4bbd60c",
   "metadata": {},
   "outputs": [],
   "source": [
    "population= population.rename(columns = {'Population 1910' : '1910', 'Population 1970' : '1970','Population 2010' : '2010','Population 2020' : '2020','Population 2050' : '2050'})"
   ]
  },
  {
   "cell_type": "code",
   "execution_count": 34,
   "id": "52fc903a-da27-4e5b-8c0b-afd6da1549f1",
   "metadata": {},
   "outputs": [],
   "source": [
    "population['Religion']= 'General Population'"
   ]
  },
  {
   "cell_type": "code",
   "execution_count": 35,
   "id": "9683bae5-e42b-4df5-bf3c-596ae2f0bed3",
   "metadata": {},
   "outputs": [],
   "source": [
    "agnostic=agnostic.rename(columns={'Agnostics 1910':'1910','Agnostics 1970':'1970','Agnostics 2010':'2010','Agnostics 2020':'2020', 'Agnostics 2050':'2050'})"
   ]
  },
  {
   "cell_type": "code",
   "execution_count": 36,
   "id": "b0f655ef-ff3a-413f-b08b-edf9ef789e4b",
   "metadata": {},
   "outputs": [],
   "source": [
    "agnostic['Religion']= 'Agnostic'"
   ]
  },
  {
   "cell_type": "code",
   "execution_count": 37,
   "id": "721ebe79-0845-4087-b6b5-432c82fc3d33",
   "metadata": {},
   "outputs": [],
   "source": [
    "atheist=atheist.rename(columns={'Atheists 1910':'1910','Atheists 1970':'1970','Atheists 2010':'2010','Atheists 2020':'2020', 'Atheists 2050':'2050'})"
   ]
  },
  {
   "cell_type": "code",
   "execution_count": 38,
   "id": "9f59dae1-958a-49f4-a326-fa6741716074",
   "metadata": {},
   "outputs": [],
   "source": [
    "atheist['Religion']= 'Atheist'"
   ]
  },
  {
   "cell_type": "code",
   "execution_count": 39,
   "id": "601ed0b1-f9c5-4035-bf6e-2ece2b759faa",
   "metadata": {},
   "outputs": [],
   "source": [
    "buddhist=buddhist.rename(columns={'Buddhists 1910':'1910','Buddhists 1970':'1970','Buddhists 2010':'2010','Buddhists 2020':'2020', 'Buddhists 2050':'2050'})"
   ]
  },
  {
   "cell_type": "code",
   "execution_count": 40,
   "id": "ff78e50e-a62b-4bfc-8151-39eee8dca72a",
   "metadata": {},
   "outputs": [],
   "source": [
    "buddhist['Religion']= 'Buddhist'"
   ]
  },
  {
   "cell_type": "code",
   "execution_count": 41,
   "id": "b6197806-f3f8-4cb8-b8e8-1eff5670ac1b",
   "metadata": {},
   "outputs": [],
   "source": [
    "christian=christian.rename(columns={'Christians 1910':'1910','Christians 1970':'1970','Christians 2010':'2010','Christians 2020':'2020', 'Christians 2050':'2050'})"
   ]
  },
  {
   "cell_type": "code",
   "execution_count": 42,
   "id": "e7f1dbc9-1187-435b-9248-d301099aae2c",
   "metadata": {},
   "outputs": [],
   "source": [
    "christian['Religion']= 'Christian'"
   ]
  },
  {
   "cell_type": "code",
   "execution_count": 43,
   "id": "46398326-4253-49b6-9535-a466754cf74b",
   "metadata": {},
   "outputs": [],
   "source": [
    "hindu=hindu.rename(columns={'Hindus 1910':'1910','Hindus 1970':'1970','Hindus 2010':'2010','Hindus 2020':'2020', 'Hindus 2050':'2050'})"
   ]
  },
  {
   "cell_type": "code",
   "execution_count": 44,
   "id": "f0f9128d-c68e-44fd-8a9b-05a628fb699f",
   "metadata": {},
   "outputs": [],
   "source": [
    "hindu['Religion']= 'Hindu'"
   ]
  },
  {
   "cell_type": "code",
   "execution_count": 45,
   "id": "1b6da785-c30e-4f4c-ba9a-ebb4d2a60092",
   "metadata": {},
   "outputs": [],
   "source": [
    "muslim=muslim.rename(columns={'Muslims 1910':'1910','Muslims 1970':'1970','Muslims 2010':'2010','Muslims 2020':'2020', 'Muslims 2050':'2050'})"
   ]
  },
  {
   "cell_type": "code",
   "execution_count": 46,
   "id": "c77a4dda-acc3-4bc5-a92f-1ad707356142",
   "metadata": {},
   "outputs": [],
   "source": [
    "muslim['Religion']= 'Muslim'"
   ]
  },
  {
   "cell_type": "markdown",
   "id": "9b7c297e-8485-447e-90d4-7d8b19679997",
   "metadata": {},
   "source": [
    "# Delete 1910 and 2050 columns"
   ]
  },
  {
   "cell_type": "code",
   "execution_count": 48,
   "id": "79bfe4ac-bbe9-4957-a24d-093ffaf5d8f2",
   "metadata": {},
   "outputs": [],
   "source": [
    "population=population[['Religion','Region','1970','2010','2020']]"
   ]
  },
  {
   "cell_type": "code",
   "execution_count": 49,
   "id": "3c5f6bae-13b2-4388-b09f-5a29b98aa14b",
   "metadata": {},
   "outputs": [],
   "source": [
    "agnostic=agnostic[['Religion','Region','1970','2010','2020','1970%','2010%','2020%']]"
   ]
  },
  {
   "cell_type": "code",
   "execution_count": 50,
   "id": "3c974591-2690-4692-8436-c0fe0ea84e2b",
   "metadata": {},
   "outputs": [],
   "source": [
    "atheist=atheist[['Religion','Region','1970','2010','2020','1970%','2010%','2020%']]"
   ]
  },
  {
   "cell_type": "code",
   "execution_count": 51,
   "id": "7c50998f-3cbc-437f-bcfc-b1352adb8c4a",
   "metadata": {},
   "outputs": [],
   "source": [
    "buddhist=buddhist[['Religion','Region','1970','2010','2020','1970%','2010%','2020%']]"
   ]
  },
  {
   "cell_type": "code",
   "execution_count": 52,
   "id": "4c9167de-0efd-4521-b40c-f0efe83040b6",
   "metadata": {},
   "outputs": [],
   "source": [
    "christian=christian[['Religion','Region','1970','2010','2020','1970%','2010%','2020%']]"
   ]
  },
  {
   "cell_type": "code",
   "execution_count": 53,
   "id": "eba17f34-b48b-40a0-9322-13e6a65712de",
   "metadata": {},
   "outputs": [],
   "source": [
    "hindu=hindu[['Religion','Region','1970','2010','2020','1970%','2010%','2020%']]"
   ]
  },
  {
   "cell_type": "code",
   "execution_count": 54,
   "id": "047b85c9-132b-4ecf-a2aa-a8a0f80f3ee7",
   "metadata": {},
   "outputs": [],
   "source": [
    "muslim=muslim[['Religion','Region','1970','2010','2020','1970%','2010%','2020%']]"
   ]
  },
  {
   "cell_type": "markdown",
   "id": "547c485f-9b5c-4a78-a020-2351770f0fbc",
   "metadata": {},
   "source": [
    "# Filter for Regions greater than 0"
   ]
  },
  {
   "cell_type": "code",
   "execution_count": 56,
   "id": "b39b3097-7130-4b40-8ad1-5f4ab44b64f5",
   "metadata": {},
   "outputs": [],
   "source": [
    "atheist=atheist.loc[(atheist['1970%']>0)&(atheist['2010%']>0)&(atheist['2020%']>0)]"
   ]
  },
  {
   "cell_type": "code",
   "execution_count": 57,
   "id": "7f20360f-3025-4741-9bb1-453c087e9ba5",
   "metadata": {},
   "outputs": [],
   "source": [
    "agnostic=agnostic.loc[(agnostic['1970%']>0)&(agnostic['2010%']>0)&(agnostic['2020%']>0)]"
   ]
  },
  {
   "cell_type": "code",
   "execution_count": 58,
   "id": "48ed2edc-fd29-4b88-bb57-c167a3534556",
   "metadata": {},
   "outputs": [],
   "source": [
    "buddhist=buddhist.loc[(buddhist['1970%']>0)&(buddhist['2010%']>0)&(buddhist['2020%']>0)]"
   ]
  },
  {
   "cell_type": "code",
   "execution_count": 59,
   "id": "f2a26f9a-bfda-418b-90ff-f9e2a97ba351",
   "metadata": {},
   "outputs": [],
   "source": [
    "christian=christian.loc[(christian['1970%']>0)&(christian['2010%']>0)&(christian['2020%']>0)]"
   ]
  },
  {
   "cell_type": "code",
   "execution_count": 60,
   "id": "02e713de-5f0a-4012-af2a-48877b538b94",
   "metadata": {},
   "outputs": [],
   "source": [
    "hindu=hindu.loc[(hindu['1970%']>0)&(hindu['2010%']>0)&(hindu['2020%']>0)]"
   ]
  },
  {
   "cell_type": "code",
   "execution_count": 61,
   "id": "f111d8df-50aa-4be8-a134-9518306017cd",
   "metadata": {},
   "outputs": [],
   "source": [
    "muslim=muslim.loc[(muslim['1970%']>0)&(muslim['2010%']>0)&(muslim['2020%']>0)]"
   ]
  },
  {
   "cell_type": "code",
   "execution_count": null,
   "id": "645eac88-6246-45f3-82b2-81464a264091",
   "metadata": {},
   "outputs": [],
   "source": []
  },
  {
   "cell_type": "code",
   "execution_count": null,
   "id": "74c17400-2ab1-4342-95e7-2246d5a59a0d",
   "metadata": {},
   "outputs": [],
   "source": []
  },
  {
   "cell_type": "markdown",
   "id": "5c29336d-b306-4953-82d9-12dadc6a2c6a",
   "metadata": {},
   "source": [
    "# Merge religions and population into one table"
   ]
  },
  {
   "cell_type": "code",
   "execution_count": 63,
   "id": "4e2a923f-e8a9-442b-8d61-e7b9b765ed0d",
   "metadata": {},
   "outputs": [],
   "source": [
    "religions = pd.concat([agnostic,atheist,buddhist,christian,hindu,muslim], axis=0, ignore_index=True).reset_index(drop=True)"
   ]
  },
  {
   "cell_type": "code",
   "execution_count": 64,
   "id": "ce98357b-3984-4c91-8b6c-1cbe2e52dc3a",
   "metadata": {},
   "outputs": [],
   "source": [
    "religions = pd.concat([religions, population], axis=0, ignore_index=True)"
   ]
  },
  {
   "cell_type": "markdown",
   "id": "c6322d6e-84af-474b-b035-4ddf1e1d0f2c",
   "metadata": {},
   "source": [
    "# Create Religious Population World Table"
   ]
  },
  {
   "cell_type": "code",
   "execution_count": 66,
   "id": "ae750a67-f330-4d32-8a79-a368c440762c",
   "metadata": {},
   "outputs": [],
   "source": [
    "world_list = ['Global total']"
   ]
  },
  {
   "cell_type": "code",
   "execution_count": 67,
   "id": "189ad334-1a87-4226-9cd3-b99e2d14c93f",
   "metadata": {},
   "outputs": [],
   "source": [
    "world = religions.loc[religions['Region'].isin(world_list)].reset_index(drop=True)"
   ]
  },
  {
   "cell_type": "code",
   "execution_count": 68,
   "id": "49789b25-4cfa-4149-8554-675f7564a8d4",
   "metadata": {},
   "outputs": [],
   "source": [
    "world = world.drop(columns={'Region'})"
   ]
  },
  {
   "cell_type": "code",
   "execution_count": 69,
   "id": "aae732df-48c4-4bd1-9383-633a3db3e817",
   "metadata": {},
   "outputs": [],
   "source": [
    "world['Region'] = 'World'"
   ]
  },
  {
   "cell_type": "markdown",
   "id": "04afee60-af9e-4e18-acbe-0615f643901e",
   "metadata": {},
   "source": [
    "# Create Religious Population Continent Table"
   ]
  },
  {
   "cell_type": "code",
   "execution_count": 71,
   "id": "5d4b0d2a-b209-42e4-8ef9-ea45d09e4667",
   "metadata": {},
   "outputs": [],
   "source": [
    "continent_list = ['Africa','Asia','Europe','Latin America', 'Northern America', 'Oceania']"
   ]
  },
  {
   "cell_type": "code",
   "execution_count": 72,
   "id": "e96f2e57-4826-4692-9387-67bd39a7cecc",
   "metadata": {},
   "outputs": [],
   "source": [
    "continent = religions.loc[religions['Region'].isin(continent_list)].reset_index(drop=True)"
   ]
  },
  {
   "cell_type": "markdown",
   "id": "bdda4e56-cd0d-401c-80d2-12303858f900",
   "metadata": {},
   "source": [
    "# Create Religious Populations UN Region Tables"
   ]
  },
  {
   "cell_type": "code",
   "execution_count": 74,
   "id": "aca39ac4-262e-408c-9be5-1136e532d5b5",
   "metadata": {},
   "outputs": [],
   "source": [
    "unregion_list = ['Africa','Asia','Europe','Latin America', 'Oceania']"
   ]
  },
  {
   "cell_type": "code",
   "execution_count": 75,
   "id": "253bfa2f-2f0b-467b-9a3e-470b57d76a9f",
   "metadata": {},
   "outputs": [],
   "source": [
    "unregion = religions.loc[~religions['Region'].isin(unregion_list)].reset_index(drop=True)"
   ]
  },
  {
   "cell_type": "code",
   "execution_count": 76,
   "id": "81a5558a-15d1-41a7-8f38-b0dddbaab8b3",
   "metadata": {},
   "outputs": [],
   "source": [
    "unregion = unregion.loc[unregion['Region'] != 'Global total'].reset_index(drop=True)"
   ]
  },
  {
   "cell_type": "markdown",
   "id": "f967b30b-dfaa-4ec3-9843-37f8179891c2",
   "metadata": {},
   "source": [
    "# Bring in United Nations Demographic Indicators CSV"
   ]
  },
  {
   "cell_type": "code",
   "execution_count": 78,
   "id": "270f79e3-f84b-4e03-b82e-8c02f61c4aad",
   "metadata": {},
   "outputs": [
    {
     "name": "stderr",
     "output_type": "stream",
     "text": [
      "C:\\Users\\graft\\AppData\\Local\\Temp\\ipykernel_14380\\2938383926.py:1: DtypeWarning: Columns (2,3,4,7) have mixed types. Specify dtype option on import or set low_memory=False.\n",
      "  un_indicators = pd.read_csv('../data/indicators/un_indicators.csv')\n"
     ]
    }
   ],
   "source": [
    "un_indicators = pd.read_csv('../data/indicators/un_indicators.csv')"
   ]
  },
  {
   "cell_type": "code",
   "execution_count": 79,
   "id": "ba7ed521-240a-40b4-976a-5d04c0072fb7",
   "metadata": {},
   "outputs": [
    {
     "data": {
      "text/plain": [
       "Index(['SortOrder', 'LocID', 'Notes', 'ISO3_code', 'ISO2_code', 'SDMX_code',\n",
       "       'LocTypeID', 'LocTypeName', 'ParentID', 'Location', 'VarID', 'Variant',\n",
       "       'Time', 'TPopulation1Jan', 'TPopulation1July', 'TPopulationMale1July',\n",
       "       'TPopulationFemale1July', 'PopDensity', 'PopSexRatio', 'MedianAgePop',\n",
       "       'NatChange', 'NatChangeRT', 'PopChange', 'PopGrowthRate',\n",
       "       'DoublingTime', 'Births', 'Births1519', 'CBR', 'TFR', 'NRR', 'MAC',\n",
       "       'SRB', 'Deaths', 'DeathsMale', 'DeathsFemale', 'CDR', 'LEx', 'LExMale',\n",
       "       'LExFemale', 'LE15', 'LE15Male', 'LE15Female', 'LE65', 'LE65Male',\n",
       "       'LE65Female', 'LE80', 'LE80Male', 'LE80Female', 'InfantDeaths', 'IMR',\n",
       "       'LBsurvivingAge1', 'Under5Deaths', 'Q5', 'Q0040', 'Q0040Male',\n",
       "       'Q0040Female', 'Q0060', 'Q0060Male', 'Q0060Female', 'Q1550',\n",
       "       'Q1550Male', 'Q1550Female', 'Q1560', 'Q1560Male', 'Q1560Female',\n",
       "       'NetMigrations', 'CNMR'],\n",
       "      dtype='object')"
      ]
     },
     "execution_count": 79,
     "metadata": {},
     "output_type": "execute_result"
    }
   ],
   "source": [
    "un_indicators.columns"
   ]
  },
  {
   "cell_type": "code",
   "execution_count": 80,
   "id": "3eb9eac4-550c-471b-bec3-d95de0809491",
   "metadata": {},
   "outputs": [],
   "source": [
    "un_indicators = un_indicators[['Time', 'Location', 'LocTypeName', 'ISO3_code', 'Births', 'CBR', 'TFR', 'NRR', 'PopGrowthRate', 'TPopulation1Jan']]"
   ]
  },
  {
   "cell_type": "code",
   "execution_count": 81,
   "id": "98014a3b-52d2-42ab-9ed5-dd247b6451d1",
   "metadata": {},
   "outputs": [],
   "source": [
    "un_indicators=un_indicators.rename(columns={'TPopulation1Jan':'Population'})"
   ]
  },
  {
   "cell_type": "markdown",
   "id": "19b482b9-2905-456e-8cb1-2f00927aac3e",
   "metadata": {},
   "source": [
    "# Create UN Indicators World Table"
   ]
  },
  {
   "cell_type": "code",
   "execution_count": 83,
   "id": "3758fe9d-1244-4bff-913a-cd9a11b8b50e",
   "metadata": {},
   "outputs": [],
   "source": [
    "un_world = un_indicators.loc[un_indicators['Location'] == 'World']"
   ]
  },
  {
   "cell_type": "markdown",
   "id": "539fdc14-dc47-4fe5-b485-16dab6881f7a",
   "metadata": {},
   "source": [
    "# Create UN Indicators Continent Table"
   ]
  },
  {
   "cell_type": "markdown",
   "id": "263f567a-dc3c-4061-b434-4d9ffd79f991",
   "metadata": {},
   "source": [
    "# Checking and correcting discrepancies between Johnson_Grim religion data and UN data continent categorization\n",
    "\n",
    "Johnson_Grim uses 'Latin America', but UN data splits into 'Americas' and 'Latin America and the Caribbean'"
   ]
  },
  {
   "cell_type": "code",
   "execution_count": 86,
   "id": "22561bd7-4a05-476d-866a-f1f4acb9912c",
   "metadata": {},
   "outputs": [],
   "source": [
    "un_continent = un_indicators.loc[un_indicators['LocTypeName'] == 'Geographic region']"
   ]
  },
  {
   "cell_type": "code",
   "execution_count": 87,
   "id": "2b8824f1-a8c2-47b5-b99e-d1aaa9031284",
   "metadata": {},
   "outputs": [],
   "source": [
    "americas = un_continent.loc[un_continent['Location'] == 'Americas']"
   ]
  },
  {
   "cell_type": "code",
   "execution_count": 88,
   "id": "a9e5e191-9fd7-4771-bbc7-c14f576f4647",
   "metadata": {},
   "outputs": [],
   "source": [
    "Latin_America_and_the_Caribbean = un_continent.loc[un_continent['Location'] == 'Latin America and the Caribbean']"
   ]
  },
  {
   "cell_type": "code",
   "execution_count": 89,
   "id": "11fa0294-0f55-4f73-bda9-e5ca1c6297f4",
   "metadata": {},
   "outputs": [],
   "source": [
    "americas_latin_merge = pd.merge(americas, Latin_America_and_the_Caribbean, left_on = 'Time', right_on = 'Time')"
   ]
  },
  {
   "cell_type": "code",
   "execution_count": 90,
   "id": "3a9908e7-9e75-4ad8-8c49-dfe566f14f63",
   "metadata": {},
   "outputs": [],
   "source": [
    "americas_latin_merge['Births'] = americas_latin_merge['Births_x'] + americas_latin_merge['Births_y']"
   ]
  },
  {
   "cell_type": "code",
   "execution_count": 91,
   "id": "61484d9d-08df-4971-9ec2-b614b71bf204",
   "metadata": {},
   "outputs": [],
   "source": [
    "americas_latin_merge['CBR'] = americas_latin_merge['CBR_x'] + americas_latin_merge['CBR_y']"
   ]
  },
  {
   "cell_type": "code",
   "execution_count": 92,
   "id": "8a2f3225-434c-4873-ab13-669b4179ce4a",
   "metadata": {},
   "outputs": [],
   "source": [
    "americas_latin_merge['TFR'] = americas_latin_merge['TFR_x'] + americas_latin_merge['TFR_y']"
   ]
  },
  {
   "cell_type": "code",
   "execution_count": 93,
   "id": "40c79268-e1e1-4587-8f9b-be608c296c4e",
   "metadata": {},
   "outputs": [],
   "source": [
    "americas_latin_merge['NRR'] = americas_latin_merge['NRR_x'] + americas_latin_merge['NRR_y']"
   ]
  },
  {
   "cell_type": "code",
   "execution_count": 94,
   "id": "d2fd9a43-2688-4910-ab63-12fc0aaeb6a1",
   "metadata": {},
   "outputs": [],
   "source": [
    "americas_latin_merge['Population'] = americas_latin_merge['Population_x'] + americas_latin_merge['Population_y']"
   ]
  },
  {
   "cell_type": "code",
   "execution_count": 95,
   "id": "54e00245-4199-42a2-9223-8238632c096a",
   "metadata": {},
   "outputs": [],
   "source": [
    "americas_latin_merge['PopGrowthRate'] = americas_latin_merge['PopGrowthRate_x'] + americas_latin_merge['PopGrowthRate_y']"
   ]
  },
  {
   "cell_type": "code",
   "execution_count": 96,
   "id": "5edccc57-4f0c-40bb-9f58-8cdc3d831bd8",
   "metadata": {},
   "outputs": [],
   "source": [
    "americas_latin_merge['Location'] = 'Latin America'"
   ]
  },
  {
   "cell_type": "code",
   "execution_count": 97,
   "id": "b8480706-45d5-45ae-89f2-f9239f8a48e1",
   "metadata": {},
   "outputs": [],
   "source": [
    "latin_america = americas_latin_merge[['Time', 'Location', 'Births', 'CBR', 'TFR', 'NRR', 'PopGrowthRate', 'Population']]"
   ]
  },
  {
   "cell_type": "code",
   "execution_count": 98,
   "id": "61988778-4e56-4c1e-bac5-566547a41121",
   "metadata": {},
   "outputs": [],
   "source": [
    "un_continent = un_continent[((un_continent['Location'] != 'Americas') & (un_continent['Location'] != 'Latin America and the Caribbean'))]"
   ]
  },
  {
   "cell_type": "code",
   "execution_count": 99,
   "id": "6a54721c-455d-4abf-a666-b6dca7bc2e3e",
   "metadata": {},
   "outputs": [],
   "source": [
    "un_continent = pd.concat([un_continent, latin_america], axis=0, ignore_index=True).reset_index()"
   ]
  },
  {
   "cell_type": "markdown",
   "id": "75b714b7-8e9d-47e1-b6e7-937935d07d50",
   "metadata": {},
   "source": [
    "# Create UN Indicators regions Table"
   ]
  },
  {
   "cell_type": "code",
   "execution_count": 101,
   "id": "3b1cc074-2a0d-4b36-b006-a11399b9cd99",
   "metadata": {},
   "outputs": [],
   "source": [
    "un_unregion = un_indicators.loc[un_indicators['LocTypeName'] == 'Subregion']"
   ]
  },
  {
   "cell_type": "markdown",
   "id": "4736c6da-8a59-4e94-a8db-4d6d2aeecce8",
   "metadata": {},
   "source": [
    "# Combine Southern and Central Asia to match Religious Populations Tables"
   ]
  },
  {
   "cell_type": "code",
   "execution_count": 103,
   "id": "df927bc0-5e98-44ab-b844-39769fb1f4b0",
   "metadata": {},
   "outputs": [],
   "source": [
    "southern_asia = un_unregion.loc[un_unregion['Location'] == 'Southern Asia']"
   ]
  },
  {
   "cell_type": "code",
   "execution_count": 104,
   "id": "73ae6f93-3c1b-44f6-a48f-9f2e41d5b8e1",
   "metadata": {},
   "outputs": [],
   "source": [
    "central_asia = un_unregion.loc[un_unregion['Location'] == 'Central Asia']"
   ]
  },
  {
   "cell_type": "code",
   "execution_count": 105,
   "id": "19fbd226-0a7d-4e8c-933b-db40ee8bcd79",
   "metadata": {},
   "outputs": [],
   "source": [
    "southern_central_merge = pd.merge(southern_asia, central_asia, left_on = 'Time', right_on = 'Time')"
   ]
  },
  {
   "cell_type": "code",
   "execution_count": 106,
   "id": "11f003cb-8281-4da2-b296-6af99a6d4d00",
   "metadata": {},
   "outputs": [],
   "source": [
    "southern_central_merge['Births'] = southern_central_merge['Births_x'] + southern_central_merge['Births_y']"
   ]
  },
  {
   "cell_type": "code",
   "execution_count": 107,
   "id": "6127228e-66c8-4701-97a1-cdc1e1e15a7f",
   "metadata": {},
   "outputs": [],
   "source": [
    "southern_central_merge['CBR'] = southern_central_merge['CBR_x'] + southern_central_merge['CBR_y']"
   ]
  },
  {
   "cell_type": "code",
   "execution_count": 108,
   "id": "396c7b68-fb5b-49d2-96f3-83d7b6064e81",
   "metadata": {},
   "outputs": [],
   "source": [
    "southern_central_merge['TFR'] = southern_central_merge['TFR_x'] + southern_central_merge['TFR_y']"
   ]
  },
  {
   "cell_type": "code",
   "execution_count": 109,
   "id": "20d94b70-9915-4124-a4bf-20f6697cdd2a",
   "metadata": {},
   "outputs": [],
   "source": [
    "southern_central_merge['NRR'] = southern_central_merge['NRR_x'] + southern_central_merge['NRR_y']"
   ]
  },
  {
   "cell_type": "code",
   "execution_count": 110,
   "id": "f4556ef3-b79e-4106-9a5d-155a63baea97",
   "metadata": {},
   "outputs": [],
   "source": [
    "southern_central_merge['Population'] = southern_central_merge['Population_x'] + southern_central_merge['Population_y']"
   ]
  },
  {
   "cell_type": "code",
   "execution_count": 111,
   "id": "ac2ad247-834b-49f0-9d91-1fb8cb45586d",
   "metadata": {},
   "outputs": [],
   "source": [
    "southern_central_merge['PopGrowthRate'] = southern_central_merge['PopGrowthRate_x'] + southern_central_merge['PopGrowthRate_y']"
   ]
  },
  {
   "cell_type": "code",
   "execution_count": 112,
   "id": "b4f81d44-0656-4ed5-a897-71606ea37e43",
   "metadata": {},
   "outputs": [],
   "source": [
    "southern_central_merge['Location'] = 'South-central Asia'"
   ]
  },
  {
   "cell_type": "code",
   "execution_count": 113,
   "id": "9d070aad-aa6f-421e-b2b8-7c3078fa993f",
   "metadata": {},
   "outputs": [],
   "source": [
    "south_central_asia = southern_central_merge[['Time', 'Location', 'Births', 'CBR', 'TFR', 'NRR', 'PopGrowthRate', 'Population']]"
   ]
  },
  {
   "cell_type": "code",
   "execution_count": 114,
   "id": "c56458a0-12f1-49e6-827a-b47aeb60f761",
   "metadata": {},
   "outputs": [],
   "source": [
    "un_unregion = un_unregion[((un_unregion['Location'] != 'Southern Asia') & (un_unregion['Location'] != 'Central Asia'))]"
   ]
  },
  {
   "cell_type": "code",
   "execution_count": 115,
   "id": "536abfbb-ad3f-470f-be0e-0f32a0bbe5c3",
   "metadata": {},
   "outputs": [],
   "source": [
    "un_unregion = pd.concat([un_unregion, south_central_asia], axis=0, ignore_index=True).reset_index()"
   ]
  },
  {
   "cell_type": "markdown",
   "id": "b5095b6a-8d2e-4f95-9aa1-e238a1b388a8",
   "metadata": {},
   "source": [
    "# Northern America is both a continent AND a UN Region. Bringing it back in to UN Region Table"
   ]
  },
  {
   "cell_type": "code",
   "execution_count": 117,
   "id": "7b630c77-46c4-40db-9b81-92b86eadc7d5",
   "metadata": {},
   "outputs": [],
   "source": [
    "northern_america = un_continent.loc[un_continent['Location'] == 'Northern America']"
   ]
  },
  {
   "cell_type": "code",
   "execution_count": 118,
   "id": "a405cd49-6927-4648-8fca-14d4bfb3dc21",
   "metadata": {},
   "outputs": [],
   "source": [
    "un_unregion = pd.concat([un_unregion, northern_america], axis=0, ignore_index=True).reset_index()"
   ]
  },
  {
   "cell_type": "markdown",
   "id": "e57c2165-49a9-47a0-a652-5f5808d41f37",
   "metadata": {},
   "source": [
    "# Create UN Indicators Countries Table"
   ]
  },
  {
   "cell_type": "code",
   "execution_count": 120,
   "id": "1d37535c-e930-40b3-98b3-b93b56a05101",
   "metadata": {},
   "outputs": [],
   "source": [
    "un_country = un_indicators.loc[un_indicators['LocTypeName'] == 'Country/Area']"
   ]
  },
  {
   "cell_type": "markdown",
   "id": "b2620afe-ad37-4b41-9f2c-ef9dc12e3bb8",
   "metadata": {},
   "source": [
    "# Analysis 1 : What is the % change of population for each religion?"
   ]
  },
  {
   "cell_type": "markdown",
   "id": "49a251a4-c4d8-48fd-b3a6-717658490567",
   "metadata": {},
   "source": [
    "# % change World Level"
   ]
  },
  {
   "cell_type": "code",
   "execution_count": 123,
   "id": "99658a03-f261-4005-ae58-bbc7bdfea285",
   "metadata": {},
   "outputs": [
    {
     "data": {
      "text/html": [
       "<div>\n",
       "<style scoped>\n",
       "    .dataframe tbody tr th:only-of-type {\n",
       "        vertical-align: middle;\n",
       "    }\n",
       "\n",
       "    .dataframe tbody tr th {\n",
       "        vertical-align: top;\n",
       "    }\n",
       "\n",
       "    .dataframe thead th {\n",
       "        text-align: right;\n",
       "    }\n",
       "</style>\n",
       "<table border=\"1\" class=\"dataframe\">\n",
       "  <thead>\n",
       "    <tr style=\"text-align: right;\">\n",
       "      <th></th>\n",
       "      <th>Religion</th>\n",
       "      <th>1970</th>\n",
       "      <th>2010</th>\n",
       "      <th>2020</th>\n",
       "      <th>1970%</th>\n",
       "      <th>2010%</th>\n",
       "      <th>2020%</th>\n",
       "      <th>Region</th>\n",
       "    </tr>\n",
       "  </thead>\n",
       "  <tbody>\n",
       "    <tr>\n",
       "      <th>0</th>\n",
       "      <td>Agnostic</td>\n",
       "      <td>543322700</td>\n",
       "      <td>676944000</td>\n",
       "      <td>752135000</td>\n",
       "      <td>14.7</td>\n",
       "      <td>9.8</td>\n",
       "      <td>9.6</td>\n",
       "      <td>World</td>\n",
       "    </tr>\n",
       "    <tr>\n",
       "      <th>1</th>\n",
       "      <td>Atheist</td>\n",
       "      <td>165157310</td>\n",
       "      <td>136652000</td>\n",
       "      <td>149523000</td>\n",
       "      <td>4.5</td>\n",
       "      <td>2.0</td>\n",
       "      <td>1.9</td>\n",
       "      <td>World</td>\n",
       "    </tr>\n",
       "    <tr>\n",
       "      <th>2</th>\n",
       "      <td>Buddhist</td>\n",
       "      <td>233378750</td>\n",
       "      <td>494881000</td>\n",
       "      <td>532657000</td>\n",
       "      <td>6.3</td>\n",
       "      <td>7.2</td>\n",
       "      <td>6.8</td>\n",
       "      <td>World</td>\n",
       "    </tr>\n",
       "    <tr>\n",
       "      <th>3</th>\n",
       "      <td>Christian</td>\n",
       "      <td>1215723000</td>\n",
       "      <td>2260440000</td>\n",
       "      <td>2506426000</td>\n",
       "      <td>32.9</td>\n",
       "      <td>32.8</td>\n",
       "      <td>32.2</td>\n",
       "      <td>World</td>\n",
       "    </tr>\n",
       "    <tr>\n",
       "      <th>4</th>\n",
       "      <td>Hindu</td>\n",
       "      <td>467433840</td>\n",
       "      <td>948575000</td>\n",
       "      <td>1058245000</td>\n",
       "      <td>12.6</td>\n",
       "      <td>1.8</td>\n",
       "      <td>13.6</td>\n",
       "      <td>World</td>\n",
       "    </tr>\n",
       "    <tr>\n",
       "      <th>5</th>\n",
       "      <td>Muslim</td>\n",
       "      <td>574379700</td>\n",
       "      <td>1553773000</td>\n",
       "      <td>1886702000</td>\n",
       "      <td>15.5</td>\n",
       "      <td>22.5</td>\n",
       "      <td>24.2</td>\n",
       "      <td>World</td>\n",
       "    </tr>\n",
       "    <tr>\n",
       "      <th>6</th>\n",
       "      <td>General Population</td>\n",
       "      <td>2914053000</td>\n",
       "      <td>6895889000</td>\n",
       "      <td>7794799000</td>\n",
       "      <td>NaN</td>\n",
       "      <td>NaN</td>\n",
       "      <td>NaN</td>\n",
       "      <td>World</td>\n",
       "    </tr>\n",
       "  </tbody>\n",
       "</table>\n",
       "</div>"
      ],
      "text/plain": [
       "             Religion        1970        2010        2020  1970%  2010%  \\\n",
       "0            Agnostic   543322700   676944000   752135000   14.7    9.8   \n",
       "1             Atheist   165157310   136652000   149523000    4.5    2.0   \n",
       "2            Buddhist   233378750   494881000   532657000    6.3    7.2   \n",
       "3           Christian  1215723000  2260440000  2506426000   32.9   32.8   \n",
       "4               Hindu   467433840   948575000  1058245000   12.6    1.8   \n",
       "5              Muslim   574379700  1553773000  1886702000   15.5   22.5   \n",
       "6  General Population  2914053000  6895889000  7794799000    NaN    NaN   \n",
       "\n",
       "   2020% Region  \n",
       "0    9.6  World  \n",
       "1    1.9  World  \n",
       "2    6.8  World  \n",
       "3   32.2  World  \n",
       "4   13.6  World  \n",
       "5   24.2  World  \n",
       "6    NaN  World  "
      ]
     },
     "execution_count": 123,
     "metadata": {},
     "output_type": "execute_result"
    }
   ],
   "source": [
    "world"
   ]
  },
  {
   "cell_type": "code",
   "execution_count": 124,
   "id": "edb9d8c1-dce1-4e18-9af0-603133bb1b65",
   "metadata": {},
   "outputs": [],
   "source": [
    "pc_world = world"
   ]
  },
  {
   "cell_type": "code",
   "execution_count": 125,
   "id": "9cd06c57-4ac0-4aa8-ab9d-af8228725e4d",
   "metadata": {},
   "outputs": [],
   "source": [
    "pc_world['1970-2010 %Change'] = round(((world['2010%'] - world['1970%']) / world['1970%']) * 100,2)"
   ]
  },
  {
   "cell_type": "code",
   "execution_count": 126,
   "id": "f1bd1ca8-3d57-4684-ab33-cc3331ad5976",
   "metadata": {},
   "outputs": [],
   "source": [
    "pc_world['2010-2020 %Change'] = round(((world['2020%'] - world['2010%']) / world['2010%']) * 100,2)"
   ]
  },
  {
   "cell_type": "code",
   "execution_count": 127,
   "id": "8eea35ae-a7a0-4b38-b662-f17d20603b50",
   "metadata": {},
   "outputs": [],
   "source": [
    "pc_world['1970-2020 %Change'] = round(((world['2020%'] - world['1970%']) / world['1970%']) * 100,2)"
   ]
  },
  {
   "cell_type": "code",
   "execution_count": 128,
   "id": "197dff66-dd63-4f46-a573-4ec7e83c4748",
   "metadata": {},
   "outputs": [],
   "source": [
    "pc_world=pc_world[['Religion','Region','1970-2010 %Change','2010-2020 %Change', '1970-2020 %Change']]"
   ]
  },
  {
   "cell_type": "code",
   "execution_count": 129,
   "id": "78264841-125d-4a2d-a4e8-00162d5f3996",
   "metadata": {},
   "outputs": [],
   "source": [
    "pc_world2= pc_world"
   ]
  },
  {
   "cell_type": "code",
   "execution_count": 130,
   "id": "da998ed7-6370-4c3b-b04c-0cd218f65068",
   "metadata": {},
   "outputs": [],
   "source": [
    "pc_world2=pc_world2.rename(columns = { '1970-2010 %Change':'1970-2010','2010-2020 %Change':'2010-2020','1970-2020 %Change':'1970-2020'})"
   ]
  },
  {
   "cell_type": "code",
   "execution_count": 131,
   "id": "3e2a807d-8aa7-413b-935e-336bbe36c14f",
   "metadata": {},
   "outputs": [],
   "source": [
    "pc_world_v = pc_world2.set_index(['Religion','Region']).stack()"
   ]
  },
  {
   "cell_type": "code",
   "execution_count": 132,
   "id": "cda556c4-8594-4315-abb8-f2b0b2017f8a",
   "metadata": {},
   "outputs": [],
   "source": [
    "pc_world_v = pc_world_v.reset_index(name='Percent Change')"
   ]
  },
  {
   "cell_type": "code",
   "execution_count": 133,
   "id": "31a49628-73f9-4dec-ae94-73cfcdbea25b",
   "metadata": {},
   "outputs": [],
   "source": [
    "pc_world_v = pc_world_v.rename(columns={'level_2': 'Year'})"
   ]
  },
  {
   "cell_type": "code",
   "execution_count": 134,
   "id": "0ef71f3d-fe2b-4d05-847b-705be8dc8e84",
   "metadata": {},
   "outputs": [
    {
     "data": {
      "text/html": [
       "<div>\n",
       "<style scoped>\n",
       "    .dataframe tbody tr th:only-of-type {\n",
       "        vertical-align: middle;\n",
       "    }\n",
       "\n",
       "    .dataframe tbody tr th {\n",
       "        vertical-align: top;\n",
       "    }\n",
       "\n",
       "    .dataframe thead th {\n",
       "        text-align: right;\n",
       "    }\n",
       "</style>\n",
       "<table border=\"1\" class=\"dataframe\">\n",
       "  <thead>\n",
       "    <tr style=\"text-align: right;\">\n",
       "      <th></th>\n",
       "      <th>Religion</th>\n",
       "      <th>Region</th>\n",
       "      <th>1970-2010 %Change</th>\n",
       "      <th>2010-2020 %Change</th>\n",
       "      <th>1970-2020 %Change</th>\n",
       "    </tr>\n",
       "  </thead>\n",
       "  <tbody>\n",
       "    <tr>\n",
       "      <th>0</th>\n",
       "      <td>Agnostic</td>\n",
       "      <td>World</td>\n",
       "      <td>-33.33</td>\n",
       "      <td>-2.04</td>\n",
       "      <td>-34.69</td>\n",
       "    </tr>\n",
       "    <tr>\n",
       "      <th>1</th>\n",
       "      <td>Atheist</td>\n",
       "      <td>World</td>\n",
       "      <td>-55.56</td>\n",
       "      <td>-5.00</td>\n",
       "      <td>-57.78</td>\n",
       "    </tr>\n",
       "    <tr>\n",
       "      <th>2</th>\n",
       "      <td>Buddhist</td>\n",
       "      <td>World</td>\n",
       "      <td>14.29</td>\n",
       "      <td>-5.56</td>\n",
       "      <td>7.94</td>\n",
       "    </tr>\n",
       "    <tr>\n",
       "      <th>3</th>\n",
       "      <td>Christian</td>\n",
       "      <td>World</td>\n",
       "      <td>-0.30</td>\n",
       "      <td>-1.83</td>\n",
       "      <td>-2.13</td>\n",
       "    </tr>\n",
       "    <tr>\n",
       "      <th>4</th>\n",
       "      <td>Hindu</td>\n",
       "      <td>World</td>\n",
       "      <td>-85.71</td>\n",
       "      <td>655.56</td>\n",
       "      <td>7.94</td>\n",
       "    </tr>\n",
       "    <tr>\n",
       "      <th>5</th>\n",
       "      <td>Muslim</td>\n",
       "      <td>World</td>\n",
       "      <td>45.16</td>\n",
       "      <td>7.56</td>\n",
       "      <td>56.13</td>\n",
       "    </tr>\n",
       "    <tr>\n",
       "      <th>6</th>\n",
       "      <td>General Population</td>\n",
       "      <td>World</td>\n",
       "      <td>NaN</td>\n",
       "      <td>NaN</td>\n",
       "      <td>NaN</td>\n",
       "    </tr>\n",
       "  </tbody>\n",
       "</table>\n",
       "</div>"
      ],
      "text/plain": [
       "             Religion Region  1970-2010 %Change  2010-2020 %Change  \\\n",
       "0            Agnostic  World             -33.33              -2.04   \n",
       "1             Atheist  World             -55.56              -5.00   \n",
       "2            Buddhist  World              14.29              -5.56   \n",
       "3           Christian  World              -0.30              -1.83   \n",
       "4               Hindu  World             -85.71             655.56   \n",
       "5              Muslim  World              45.16               7.56   \n",
       "6  General Population  World                NaN                NaN   \n",
       "\n",
       "   1970-2020 %Change  \n",
       "0             -34.69  \n",
       "1             -57.78  \n",
       "2               7.94  \n",
       "3              -2.13  \n",
       "4               7.94  \n",
       "5              56.13  \n",
       "6                NaN  "
      ]
     },
     "execution_count": 134,
     "metadata": {},
     "output_type": "execute_result"
    }
   ],
   "source": [
    "pc_world"
   ]
  },
  {
   "cell_type": "code",
   "execution_count": 135,
   "id": "a240b071-42f2-4bf2-96d8-f42eaeb87194",
   "metadata": {},
   "outputs": [
    {
     "data": {
      "text/html": [
       "<div>\n",
       "<style scoped>\n",
       "    .dataframe tbody tr th:only-of-type {\n",
       "        vertical-align: middle;\n",
       "    }\n",
       "\n",
       "    .dataframe tbody tr th {\n",
       "        vertical-align: top;\n",
       "    }\n",
       "\n",
       "    .dataframe thead th {\n",
       "        text-align: right;\n",
       "    }\n",
       "</style>\n",
       "<table border=\"1\" class=\"dataframe\">\n",
       "  <thead>\n",
       "    <tr style=\"text-align: right;\">\n",
       "      <th></th>\n",
       "      <th>Religion</th>\n",
       "      <th>Region</th>\n",
       "      <th>Year</th>\n",
       "      <th>Percent Change</th>\n",
       "    </tr>\n",
       "  </thead>\n",
       "  <tbody>\n",
       "    <tr>\n",
       "      <th>0</th>\n",
       "      <td>Agnostic</td>\n",
       "      <td>World</td>\n",
       "      <td>1970-2010</td>\n",
       "      <td>-33.33</td>\n",
       "    </tr>\n",
       "    <tr>\n",
       "      <th>1</th>\n",
       "      <td>Agnostic</td>\n",
       "      <td>World</td>\n",
       "      <td>2010-2020</td>\n",
       "      <td>-2.04</td>\n",
       "    </tr>\n",
       "    <tr>\n",
       "      <th>2</th>\n",
       "      <td>Agnostic</td>\n",
       "      <td>World</td>\n",
       "      <td>1970-2020</td>\n",
       "      <td>-34.69</td>\n",
       "    </tr>\n",
       "    <tr>\n",
       "      <th>3</th>\n",
       "      <td>Atheist</td>\n",
       "      <td>World</td>\n",
       "      <td>1970-2010</td>\n",
       "      <td>-55.56</td>\n",
       "    </tr>\n",
       "    <tr>\n",
       "      <th>4</th>\n",
       "      <td>Atheist</td>\n",
       "      <td>World</td>\n",
       "      <td>2010-2020</td>\n",
       "      <td>-5.00</td>\n",
       "    </tr>\n",
       "    <tr>\n",
       "      <th>5</th>\n",
       "      <td>Atheist</td>\n",
       "      <td>World</td>\n",
       "      <td>1970-2020</td>\n",
       "      <td>-57.78</td>\n",
       "    </tr>\n",
       "    <tr>\n",
       "      <th>6</th>\n",
       "      <td>Buddhist</td>\n",
       "      <td>World</td>\n",
       "      <td>1970-2010</td>\n",
       "      <td>14.29</td>\n",
       "    </tr>\n",
       "    <tr>\n",
       "      <th>7</th>\n",
       "      <td>Buddhist</td>\n",
       "      <td>World</td>\n",
       "      <td>2010-2020</td>\n",
       "      <td>-5.56</td>\n",
       "    </tr>\n",
       "    <tr>\n",
       "      <th>8</th>\n",
       "      <td>Buddhist</td>\n",
       "      <td>World</td>\n",
       "      <td>1970-2020</td>\n",
       "      <td>7.94</td>\n",
       "    </tr>\n",
       "    <tr>\n",
       "      <th>9</th>\n",
       "      <td>Christian</td>\n",
       "      <td>World</td>\n",
       "      <td>1970-2010</td>\n",
       "      <td>-0.30</td>\n",
       "    </tr>\n",
       "    <tr>\n",
       "      <th>10</th>\n",
       "      <td>Christian</td>\n",
       "      <td>World</td>\n",
       "      <td>2010-2020</td>\n",
       "      <td>-1.83</td>\n",
       "    </tr>\n",
       "    <tr>\n",
       "      <th>11</th>\n",
       "      <td>Christian</td>\n",
       "      <td>World</td>\n",
       "      <td>1970-2020</td>\n",
       "      <td>-2.13</td>\n",
       "    </tr>\n",
       "    <tr>\n",
       "      <th>12</th>\n",
       "      <td>Hindu</td>\n",
       "      <td>World</td>\n",
       "      <td>1970-2010</td>\n",
       "      <td>-85.71</td>\n",
       "    </tr>\n",
       "    <tr>\n",
       "      <th>13</th>\n",
       "      <td>Hindu</td>\n",
       "      <td>World</td>\n",
       "      <td>2010-2020</td>\n",
       "      <td>655.56</td>\n",
       "    </tr>\n",
       "    <tr>\n",
       "      <th>14</th>\n",
       "      <td>Hindu</td>\n",
       "      <td>World</td>\n",
       "      <td>1970-2020</td>\n",
       "      <td>7.94</td>\n",
       "    </tr>\n",
       "    <tr>\n",
       "      <th>15</th>\n",
       "      <td>Muslim</td>\n",
       "      <td>World</td>\n",
       "      <td>1970-2010</td>\n",
       "      <td>45.16</td>\n",
       "    </tr>\n",
       "    <tr>\n",
       "      <th>16</th>\n",
       "      <td>Muslim</td>\n",
       "      <td>World</td>\n",
       "      <td>2010-2020</td>\n",
       "      <td>7.56</td>\n",
       "    </tr>\n",
       "    <tr>\n",
       "      <th>17</th>\n",
       "      <td>Muslim</td>\n",
       "      <td>World</td>\n",
       "      <td>1970-2020</td>\n",
       "      <td>56.13</td>\n",
       "    </tr>\n",
       "  </tbody>\n",
       "</table>\n",
       "</div>"
      ],
      "text/plain": [
       "     Religion Region       Year  Percent Change\n",
       "0    Agnostic  World  1970-2010          -33.33\n",
       "1    Agnostic  World  2010-2020           -2.04\n",
       "2    Agnostic  World  1970-2020          -34.69\n",
       "3     Atheist  World  1970-2010          -55.56\n",
       "4     Atheist  World  2010-2020           -5.00\n",
       "5     Atheist  World  1970-2020          -57.78\n",
       "6    Buddhist  World  1970-2010           14.29\n",
       "7    Buddhist  World  2010-2020           -5.56\n",
       "8    Buddhist  World  1970-2020            7.94\n",
       "9   Christian  World  1970-2010           -0.30\n",
       "10  Christian  World  2010-2020           -1.83\n",
       "11  Christian  World  1970-2020           -2.13\n",
       "12      Hindu  World  1970-2010          -85.71\n",
       "13      Hindu  World  2010-2020          655.56\n",
       "14      Hindu  World  1970-2020            7.94\n",
       "15     Muslim  World  1970-2010           45.16\n",
       "16     Muslim  World  2010-2020            7.56\n",
       "17     Muslim  World  1970-2020           56.13"
      ]
     },
     "execution_count": 135,
     "metadata": {},
     "output_type": "execute_result"
    }
   ],
   "source": [
    "pc_world_v"
   ]
  },
  {
   "cell_type": "markdown",
   "id": "7a6f9791-483c-45d4-8262-0a2892fcfb0f",
   "metadata": {},
   "source": [
    "# % change Continent Level"
   ]
  },
  {
   "cell_type": "code",
   "execution_count": 137,
   "id": "2f9ac92d-819a-4a9a-b7b9-1400c413ba40",
   "metadata": {},
   "outputs": [
    {
     "data": {
      "text/html": [
       "<div>\n",
       "<style scoped>\n",
       "    .dataframe tbody tr th:only-of-type {\n",
       "        vertical-align: middle;\n",
       "    }\n",
       "\n",
       "    .dataframe tbody tr th {\n",
       "        vertical-align: top;\n",
       "    }\n",
       "\n",
       "    .dataframe thead th {\n",
       "        text-align: right;\n",
       "    }\n",
       "</style>\n",
       "<table border=\"1\" class=\"dataframe\">\n",
       "  <thead>\n",
       "    <tr style=\"text-align: right;\">\n",
       "      <th></th>\n",
       "      <th>Religion</th>\n",
       "      <th>Region</th>\n",
       "      <th>1970</th>\n",
       "      <th>2010</th>\n",
       "      <th>2020</th>\n",
       "      <th>1970%</th>\n",
       "      <th>2010%</th>\n",
       "      <th>2020%</th>\n",
       "    </tr>\n",
       "  </thead>\n",
       "  <tbody>\n",
       "    <tr>\n",
       "      <th>0</th>\n",
       "      <td>Agnostic</td>\n",
       "      <td>Africa</td>\n",
       "      <td>588000</td>\n",
       "      <td>6497000</td>\n",
       "      <td>8215000</td>\n",
       "      <td>0.2</td>\n",
       "      <td>0.6</td>\n",
       "      <td>0.6</td>\n",
       "    </tr>\n",
       "    <tr>\n",
       "      <th>1</th>\n",
       "      <td>Agnostic</td>\n",
       "      <td>Asia</td>\n",
       "      <td>437146000</td>\n",
       "      <td>504762000</td>\n",
       "      <td>547520000</td>\n",
       "      <td>20.4</td>\n",
       "      <td>12.1</td>\n",
       "      <td>11.8</td>\n",
       "    </tr>\n",
       "    <tr>\n",
       "      <th>2</th>\n",
       "      <td>Agnostic</td>\n",
       "      <td>Europe</td>\n",
       "      <td>87540000</td>\n",
       "      <td>93325000</td>\n",
       "      <td>101371000</td>\n",
       "      <td>13.3</td>\n",
       "      <td>12.6</td>\n",
       "      <td>13.6</td>\n",
       "    </tr>\n",
       "    <tr>\n",
       "      <th>3</th>\n",
       "      <td>Agnostic</td>\n",
       "      <td>Latin America</td>\n",
       "      <td>6041000</td>\n",
       "      <td>18712000</td>\n",
       "      <td>22594000</td>\n",
       "      <td>2.1</td>\n",
       "      <td>3.2</td>\n",
       "      <td>3.5</td>\n",
       "    </tr>\n",
       "    <tr>\n",
       "      <th>4</th>\n",
       "      <td>Agnostic</td>\n",
       "      <td>Northern America</td>\n",
       "      <td>11349000</td>\n",
       "      <td>48119000</td>\n",
       "      <td>64155000</td>\n",
       "      <td>5.1</td>\n",
       "      <td>14.0</td>\n",
       "      <td>17.4</td>\n",
       "    </tr>\n",
       "    <tr>\n",
       "      <th>5</th>\n",
       "      <td>Agnostic</td>\n",
       "      <td>Oceania</td>\n",
       "      <td>658700</td>\n",
       "      <td>5529000</td>\n",
       "      <td>8281000</td>\n",
       "      <td>3.4</td>\n",
       "      <td>15.1</td>\n",
       "      <td>19.4</td>\n",
       "    </tr>\n",
       "    <tr>\n",
       "      <th>6</th>\n",
       "      <td>Atheist</td>\n",
       "      <td>Asia</td>\n",
       "      <td>109458000</td>\n",
       "      <td>114851000</td>\n",
       "      <td>118157000</td>\n",
       "      <td>5.1</td>\n",
       "      <td>2.8</td>\n",
       "      <td>2.5</td>\n",
       "    </tr>\n",
       "    <tr>\n",
       "      <th>7</th>\n",
       "      <td>Atheist</td>\n",
       "      <td>Europe</td>\n",
       "      <td>53816000</td>\n",
       "      <td>15697000</td>\n",
       "      <td>15106000</td>\n",
       "      <td>8.2</td>\n",
       "      <td>2.1</td>\n",
       "      <td>2.0</td>\n",
       "    </tr>\n",
       "    <tr>\n",
       "      <th>8</th>\n",
       "      <td>Atheist</td>\n",
       "      <td>Latin America</td>\n",
       "      <td>1265100</td>\n",
       "      <td>2900000</td>\n",
       "      <td>3202000</td>\n",
       "      <td>0.4</td>\n",
       "      <td>0.5</td>\n",
       "      <td>0.5</td>\n",
       "    </tr>\n",
       "    <tr>\n",
       "      <th>9</th>\n",
       "      <td>Atheist</td>\n",
       "      <td>Northern America</td>\n",
       "      <td>300000</td>\n",
       "      <td>2156000</td>\n",
       "      <td>10587000</td>\n",
       "      <td>0.1</td>\n",
       "      <td>0.6</td>\n",
       "      <td>2.9</td>\n",
       "    </tr>\n",
       "    <tr>\n",
       "      <th>10</th>\n",
       "      <td>Atheist</td>\n",
       "      <td>Oceania</td>\n",
       "      <td>215210</td>\n",
       "      <td>477000</td>\n",
       "      <td>1732000</td>\n",
       "      <td>1.1</td>\n",
       "      <td>1.3</td>\n",
       "      <td>4.1</td>\n",
       "    </tr>\n",
       "    <tr>\n",
       "      <th>11</th>\n",
       "      <td>Buddhist</td>\n",
       "      <td>Asia</td>\n",
       "      <td>232192500</td>\n",
       "      <td>487038000</td>\n",
       "      <td>523537000</td>\n",
       "      <td>10.8</td>\n",
       "      <td>11.7</td>\n",
       "      <td>11.3</td>\n",
       "    </tr>\n",
       "    <tr>\n",
       "      <th>12</th>\n",
       "      <td>Buddhist</td>\n",
       "      <td>Europe</td>\n",
       "      <td>552200</td>\n",
       "      <td>1789000</td>\n",
       "      <td>1987000</td>\n",
       "      <td>0.1</td>\n",
       "      <td>0.2</td>\n",
       "      <td>0.3</td>\n",
       "    </tr>\n",
       "    <tr>\n",
       "      <th>13</th>\n",
       "      <td>Buddhist</td>\n",
       "      <td>Latin America</td>\n",
       "      <td>389700</td>\n",
       "      <td>759000</td>\n",
       "      <td>835000</td>\n",
       "      <td>0.1</td>\n",
       "      <td>0.1</td>\n",
       "      <td>0.1</td>\n",
       "    </tr>\n",
       "    <tr>\n",
       "      <th>14</th>\n",
       "      <td>Buddhist</td>\n",
       "      <td>Northern America</td>\n",
       "      <td>216000</td>\n",
       "      <td>4454000</td>\n",
       "      <td>4953000</td>\n",
       "      <td>0.1</td>\n",
       "      <td>1.3</td>\n",
       "      <td>1.3</td>\n",
       "    </tr>\n",
       "    <tr>\n",
       "      <th>15</th>\n",
       "      <td>Buddhist</td>\n",
       "      <td>Oceania</td>\n",
       "      <td>16650</td>\n",
       "      <td>587000</td>\n",
       "      <td>980000</td>\n",
       "      <td>0.1</td>\n",
       "      <td>1.6</td>\n",
       "      <td>2.3</td>\n",
       "    </tr>\n",
       "    <tr>\n",
       "      <th>16</th>\n",
       "      <td>Christian</td>\n",
       "      <td>Africa</td>\n",
       "      <td>137867000</td>\n",
       "      <td>494053000</td>\n",
       "      <td>654913000</td>\n",
       "      <td>37.7</td>\n",
       "      <td>48.3</td>\n",
       "      <td>48.9</td>\n",
       "    </tr>\n",
       "    <tr>\n",
       "      <th>17</th>\n",
       "      <td>Christian</td>\n",
       "      <td>Asia</td>\n",
       "      <td>97389000</td>\n",
       "      <td>342012000</td>\n",
       "      <td>377842000</td>\n",
       "      <td>4.5</td>\n",
       "      <td>8.2</td>\n",
       "      <td>8.1</td>\n",
       "    </tr>\n",
       "    <tr>\n",
       "      <th>18</th>\n",
       "      <td>Christian</td>\n",
       "      <td>Europe</td>\n",
       "      <td>490507000</td>\n",
       "      <td>580116000</td>\n",
       "      <td>572603000</td>\n",
       "      <td>74.7</td>\n",
       "      <td>78.6</td>\n",
       "      <td>76.6</td>\n",
       "    </tr>\n",
       "    <tr>\n",
       "      <th>19</th>\n",
       "      <td>Christian</td>\n",
       "      <td>Latin America</td>\n",
       "      <td>269961000</td>\n",
       "      <td>544686000</td>\n",
       "      <td>653962000</td>\n",
       "      <td>94.2</td>\n",
       "      <td>92.3</td>\n",
       "      <td>92.2</td>\n",
       "    </tr>\n",
       "    <tr>\n",
       "      <th>20</th>\n",
       "      <td>Christian</td>\n",
       "      <td>Northern America</td>\n",
       "      <td>202363000</td>\n",
       "      <td>271554000</td>\n",
       "      <td>368870000</td>\n",
       "      <td>91.2</td>\n",
       "      <td>78.8</td>\n",
       "      <td>73.1</td>\n",
       "    </tr>\n",
       "    <tr>\n",
       "      <th>21</th>\n",
       "      <td>Christian</td>\n",
       "      <td>Oceania</td>\n",
       "      <td>17636000</td>\n",
       "      <td>28019000</td>\n",
       "      <td>42678000</td>\n",
       "      <td>92.6</td>\n",
       "      <td>76.6</td>\n",
       "      <td>67.1</td>\n",
       "    </tr>\n",
       "    <tr>\n",
       "      <th>22</th>\n",
       "      <td>Hindu</td>\n",
       "      <td>Africa</td>\n",
       "      <td>1000000</td>\n",
       "      <td>2930000</td>\n",
       "      <td>3555000</td>\n",
       "      <td>0.3</td>\n",
       "      <td>0.3</td>\n",
       "      <td>0.3</td>\n",
       "    </tr>\n",
       "    <tr>\n",
       "      <th>23</th>\n",
       "      <td>Hindu</td>\n",
       "      <td>Asia</td>\n",
       "      <td>465289700</td>\n",
       "      <td>941481000</td>\n",
       "      <td>1049702000</td>\n",
       "      <td>21.7</td>\n",
       "      <td>22.6</td>\n",
       "      <td>22.6</td>\n",
       "    </tr>\n",
       "    <tr>\n",
       "      <th>24</th>\n",
       "      <td>Hindu</td>\n",
       "      <td>Latin America</td>\n",
       "      <td>595000</td>\n",
       "      <td>765000</td>\n",
       "      <td>819000</td>\n",
       "      <td>0.2</td>\n",
       "      <td>0.1</td>\n",
       "      <td>0.1</td>\n",
       "    </tr>\n",
       "    <tr>\n",
       "      <th>25</th>\n",
       "      <td>Hindu</td>\n",
       "      <td>Northern America</td>\n",
       "      <td>120000</td>\n",
       "      <td>1835000</td>\n",
       "      <td>2080000</td>\n",
       "      <td>0.1</td>\n",
       "      <td>0.5</td>\n",
       "      <td>0.6</td>\n",
       "    </tr>\n",
       "    <tr>\n",
       "      <th>26</th>\n",
       "      <td>Hindu</td>\n",
       "      <td>Oceania</td>\n",
       "      <td>184830</td>\n",
       "      <td>513000</td>\n",
       "      <td>815000</td>\n",
       "      <td>1.0</td>\n",
       "      <td>1.4</td>\n",
       "      <td>1.9</td>\n",
       "    </tr>\n",
       "    <tr>\n",
       "      <th>27</th>\n",
       "      <td>Muslim</td>\n",
       "      <td>Africa</td>\n",
       "      <td>148210000</td>\n",
       "      <td>425860000</td>\n",
       "      <td>556923000</td>\n",
       "      <td>40.6</td>\n",
       "      <td>41.7</td>\n",
       "      <td>41.5</td>\n",
       "    </tr>\n",
       "    <tr>\n",
       "      <th>28</th>\n",
       "      <td>Muslim</td>\n",
       "      <td>Asia</td>\n",
       "      <td>406559000</td>\n",
       "      <td>1078854000</td>\n",
       "      <td>1270800000</td>\n",
       "      <td>18.9</td>\n",
       "      <td>25.9</td>\n",
       "      <td>27.4</td>\n",
       "    </tr>\n",
       "    <tr>\n",
       "      <th>29</th>\n",
       "      <td>Muslim</td>\n",
       "      <td>Europe</td>\n",
       "      <td>18273000</td>\n",
       "      <td>41492000</td>\n",
       "      <td>50647000</td>\n",
       "      <td>2.8</td>\n",
       "      <td>5.6</td>\n",
       "      <td>6.8</td>\n",
       "    </tr>\n",
       "    <tr>\n",
       "      <th>30</th>\n",
       "      <td>Muslim</td>\n",
       "      <td>Latin America</td>\n",
       "      <td>424800</td>\n",
       "      <td>1527000</td>\n",
       "      <td>1773000</td>\n",
       "      <td>0.1</td>\n",
       "      <td>0.3</td>\n",
       "      <td>0.3</td>\n",
       "    </tr>\n",
       "    <tr>\n",
       "      <th>31</th>\n",
       "      <td>Muslim</td>\n",
       "      <td>Northern America</td>\n",
       "      <td>842000</td>\n",
       "      <td>5492000</td>\n",
       "      <td>5671000</td>\n",
       "      <td>0.4</td>\n",
       "      <td>1.6</td>\n",
       "      <td>1.5</td>\n",
       "    </tr>\n",
       "    <tr>\n",
       "      <th>32</th>\n",
       "      <td>Muslim</td>\n",
       "      <td>Oceania</td>\n",
       "      <td>70900</td>\n",
       "      <td>549000</td>\n",
       "      <td>888000</td>\n",
       "      <td>0.4</td>\n",
       "      <td>1.5</td>\n",
       "      <td>2.1</td>\n",
       "    </tr>\n",
       "    <tr>\n",
       "      <th>33</th>\n",
       "      <td>General Population</td>\n",
       "      <td>Africa</td>\n",
       "      <td>365450000</td>\n",
       "      <td>1022234000</td>\n",
       "      <td>1340598000</td>\n",
       "      <td>NaN</td>\n",
       "      <td>NaN</td>\n",
       "      <td>NaN</td>\n",
       "    </tr>\n",
       "    <tr>\n",
       "      <th>34</th>\n",
       "      <td>General Population</td>\n",
       "      <td>Asia</td>\n",
       "      <td>1364210000</td>\n",
       "      <td>4164252000</td>\n",
       "      <td>4641055000</td>\n",
       "      <td>NaN</td>\n",
       "      <td>NaN</td>\n",
       "      <td>NaN</td>\n",
       "    </tr>\n",
       "    <tr>\n",
       "      <th>35</th>\n",
       "      <td>General Population</td>\n",
       "      <td>Europe</td>\n",
       "      <td>656521000</td>\n",
       "      <td>738199000</td>\n",
       "      <td>747636000</td>\n",
       "      <td>NaN</td>\n",
       "      <td>NaN</td>\n",
       "      <td>NaN</td>\n",
       "    </tr>\n",
       "    <tr>\n",
       "      <th>36</th>\n",
       "      <td>General Population</td>\n",
       "      <td>Latin America</td>\n",
       "      <td>508391000</td>\n",
       "      <td>590082000</td>\n",
       "      <td>653962000</td>\n",
       "      <td>NaN</td>\n",
       "      <td>NaN</td>\n",
       "      <td>NaN</td>\n",
       "    </tr>\n",
       "    <tr>\n",
       "      <th>37</th>\n",
       "      <td>General Population</td>\n",
       "      <td>Northern America</td>\n",
       "      <td>221866000</td>\n",
       "      <td>344529000</td>\n",
       "      <td>368870000</td>\n",
       "      <td>NaN</td>\n",
       "      <td>NaN</td>\n",
       "      <td>NaN</td>\n",
       "    </tr>\n",
       "    <tr>\n",
       "      <th>38</th>\n",
       "      <td>General Population</td>\n",
       "      <td>Oceania</td>\n",
       "      <td>19481000</td>\n",
       "      <td>36593000</td>\n",
       "      <td>42678000</td>\n",
       "      <td>NaN</td>\n",
       "      <td>NaN</td>\n",
       "      <td>NaN</td>\n",
       "    </tr>\n",
       "  </tbody>\n",
       "</table>\n",
       "</div>"
      ],
      "text/plain": [
       "              Religion            Region        1970        2010        2020  \\\n",
       "0             Agnostic            Africa      588000     6497000     8215000   \n",
       "1             Agnostic              Asia   437146000   504762000   547520000   \n",
       "2             Agnostic            Europe    87540000    93325000   101371000   \n",
       "3             Agnostic     Latin America     6041000    18712000    22594000   \n",
       "4             Agnostic  Northern America    11349000    48119000    64155000   \n",
       "5             Agnostic           Oceania      658700     5529000     8281000   \n",
       "6              Atheist              Asia   109458000   114851000   118157000   \n",
       "7              Atheist            Europe    53816000    15697000    15106000   \n",
       "8              Atheist     Latin America     1265100     2900000     3202000   \n",
       "9              Atheist  Northern America      300000     2156000    10587000   \n",
       "10             Atheist           Oceania      215210      477000     1732000   \n",
       "11            Buddhist              Asia   232192500   487038000   523537000   \n",
       "12            Buddhist            Europe      552200     1789000     1987000   \n",
       "13            Buddhist     Latin America      389700      759000      835000   \n",
       "14            Buddhist  Northern America      216000     4454000     4953000   \n",
       "15            Buddhist           Oceania       16650      587000      980000   \n",
       "16           Christian            Africa   137867000   494053000   654913000   \n",
       "17           Christian              Asia    97389000   342012000   377842000   \n",
       "18           Christian            Europe   490507000   580116000   572603000   \n",
       "19           Christian     Latin America   269961000   544686000   653962000   \n",
       "20           Christian  Northern America   202363000   271554000   368870000   \n",
       "21           Christian           Oceania    17636000    28019000    42678000   \n",
       "22               Hindu            Africa     1000000     2930000     3555000   \n",
       "23               Hindu              Asia   465289700   941481000  1049702000   \n",
       "24               Hindu     Latin America      595000      765000      819000   \n",
       "25               Hindu  Northern America      120000     1835000     2080000   \n",
       "26               Hindu           Oceania      184830      513000      815000   \n",
       "27              Muslim            Africa   148210000   425860000   556923000   \n",
       "28              Muslim              Asia   406559000  1078854000  1270800000   \n",
       "29              Muslim            Europe    18273000    41492000    50647000   \n",
       "30              Muslim     Latin America      424800     1527000     1773000   \n",
       "31              Muslim  Northern America      842000     5492000     5671000   \n",
       "32              Muslim           Oceania       70900      549000      888000   \n",
       "33  General Population            Africa   365450000  1022234000  1340598000   \n",
       "34  General Population              Asia  1364210000  4164252000  4641055000   \n",
       "35  General Population            Europe   656521000   738199000   747636000   \n",
       "36  General Population     Latin America   508391000   590082000   653962000   \n",
       "37  General Population  Northern America   221866000   344529000   368870000   \n",
       "38  General Population           Oceania    19481000    36593000    42678000   \n",
       "\n",
       "    1970%  2010%  2020%  \n",
       "0     0.2    0.6    0.6  \n",
       "1    20.4   12.1   11.8  \n",
       "2    13.3   12.6   13.6  \n",
       "3     2.1    3.2    3.5  \n",
       "4     5.1   14.0   17.4  \n",
       "5     3.4   15.1   19.4  \n",
       "6     5.1    2.8    2.5  \n",
       "7     8.2    2.1    2.0  \n",
       "8     0.4    0.5    0.5  \n",
       "9     0.1    0.6    2.9  \n",
       "10    1.1    1.3    4.1  \n",
       "11   10.8   11.7   11.3  \n",
       "12    0.1    0.2    0.3  \n",
       "13    0.1    0.1    0.1  \n",
       "14    0.1    1.3    1.3  \n",
       "15    0.1    1.6    2.3  \n",
       "16   37.7   48.3   48.9  \n",
       "17    4.5    8.2    8.1  \n",
       "18   74.7   78.6   76.6  \n",
       "19   94.2   92.3   92.2  \n",
       "20   91.2   78.8   73.1  \n",
       "21   92.6   76.6   67.1  \n",
       "22    0.3    0.3    0.3  \n",
       "23   21.7   22.6   22.6  \n",
       "24    0.2    0.1    0.1  \n",
       "25    0.1    0.5    0.6  \n",
       "26    1.0    1.4    1.9  \n",
       "27   40.6   41.7   41.5  \n",
       "28   18.9   25.9   27.4  \n",
       "29    2.8    5.6    6.8  \n",
       "30    0.1    0.3    0.3  \n",
       "31    0.4    1.6    1.5  \n",
       "32    0.4    1.5    2.1  \n",
       "33    NaN    NaN    NaN  \n",
       "34    NaN    NaN    NaN  \n",
       "35    NaN    NaN    NaN  \n",
       "36    NaN    NaN    NaN  \n",
       "37    NaN    NaN    NaN  \n",
       "38    NaN    NaN    NaN  "
      ]
     },
     "execution_count": 137,
     "metadata": {},
     "output_type": "execute_result"
    }
   ],
   "source": [
    "continent"
   ]
  },
  {
   "cell_type": "code",
   "execution_count": 138,
   "id": "80eb9f6b-923f-4f4e-979f-dd470a812156",
   "metadata": {},
   "outputs": [],
   "source": [
    "pc_continent = continent"
   ]
  },
  {
   "cell_type": "code",
   "execution_count": 139,
   "id": "fdd18314-0158-4ffb-ad37-e327a75562ef",
   "metadata": {},
   "outputs": [],
   "source": [
    "pc_continent['1970-2010 %Change'] = round(((continent['2010%'] - continent['1970%']) / continent['1970%']) * 100,2)"
   ]
  },
  {
   "cell_type": "code",
   "execution_count": 140,
   "id": "77527298-5de6-4115-9138-a61b1b766fcf",
   "metadata": {},
   "outputs": [],
   "source": [
    "pc_continent['2010-2020 %Change'] = round(((continent['2020%'] - continent['2010%']) / continent['2010%']) * 100,2)"
   ]
  },
  {
   "cell_type": "code",
   "execution_count": 141,
   "id": "c250aeec-b6a0-4fa3-b51a-e6d3b36b1b85",
   "metadata": {},
   "outputs": [],
   "source": [
    "pc_continent['1970-2020 %Change'] = round(((continent['2020%'] - continent['1970%']) / continent['1970%']) * 100,2)"
   ]
  },
  {
   "cell_type": "code",
   "execution_count": 142,
   "id": "a0d111f2-ebf2-4ea1-80dd-d018f45e16fa",
   "metadata": {},
   "outputs": [],
   "source": [
    "pc_continent=pc_continent[['Religion','Region', '1970-2010 %Change','2010-2020 %Change','1970-2020 %Change']]"
   ]
  },
  {
   "cell_type": "code",
   "execution_count": 143,
   "id": "ffd34214-c3db-4556-9a24-9bf858d5b3ba",
   "metadata": {},
   "outputs": [],
   "source": [
    "pc_continent2= pc_continent"
   ]
  },
  {
   "cell_type": "code",
   "execution_count": 144,
   "id": "fad76b07-9709-4e61-a3be-17e448a08690",
   "metadata": {},
   "outputs": [],
   "source": [
    "pc_continent2=pc_continent2.rename(columns = {'1970-2010 %Change':'1970-2010','2010-2020 %Change':'2010-2020','1970-2020 %Change':'1970-2020'})"
   ]
  },
  {
   "cell_type": "code",
   "execution_count": 145,
   "id": "8f936a6a-a5a5-42ca-bebb-6301f3f16d1a",
   "metadata": {},
   "outputs": [],
   "source": [
    "pc_continent_v = pc_continent2.set_index(['Religion','Region']).stack()"
   ]
  },
  {
   "cell_type": "code",
   "execution_count": 146,
   "id": "a31b31d3-f4ce-466a-afe9-56905351ae9f",
   "metadata": {},
   "outputs": [],
   "source": [
    "pc_continent_v = pc_continent_v.reset_index(name='Percent Change')"
   ]
  },
  {
   "cell_type": "code",
   "execution_count": 147,
   "id": "c932f674-32e3-421a-aad3-187371c6a2cb",
   "metadata": {},
   "outputs": [],
   "source": [
    "pc_continent_v = pc_continent_v.rename(columns={'level_2': 'Year'})"
   ]
  },
  {
   "cell_type": "code",
   "execution_count": 148,
   "id": "33011ad9-d243-4d7f-a333-dec8c477776f",
   "metadata": {},
   "outputs": [
    {
     "data": {
      "text/html": [
       "<div>\n",
       "<style scoped>\n",
       "    .dataframe tbody tr th:only-of-type {\n",
       "        vertical-align: middle;\n",
       "    }\n",
       "\n",
       "    .dataframe tbody tr th {\n",
       "        vertical-align: top;\n",
       "    }\n",
       "\n",
       "    .dataframe thead th {\n",
       "        text-align: right;\n",
       "    }\n",
       "</style>\n",
       "<table border=\"1\" class=\"dataframe\">\n",
       "  <thead>\n",
       "    <tr style=\"text-align: right;\">\n",
       "      <th></th>\n",
       "      <th>Religion</th>\n",
       "      <th>Region</th>\n",
       "      <th>1970-2010 %Change</th>\n",
       "      <th>2010-2020 %Change</th>\n",
       "      <th>1970-2020 %Change</th>\n",
       "    </tr>\n",
       "  </thead>\n",
       "  <tbody>\n",
       "    <tr>\n",
       "      <th>0</th>\n",
       "      <td>Agnostic</td>\n",
       "      <td>Africa</td>\n",
       "      <td>200.00</td>\n",
       "      <td>0.00</td>\n",
       "      <td>200.00</td>\n",
       "    </tr>\n",
       "    <tr>\n",
       "      <th>1</th>\n",
       "      <td>Agnostic</td>\n",
       "      <td>Asia</td>\n",
       "      <td>-40.69</td>\n",
       "      <td>-2.48</td>\n",
       "      <td>-42.16</td>\n",
       "    </tr>\n",
       "    <tr>\n",
       "      <th>2</th>\n",
       "      <td>Agnostic</td>\n",
       "      <td>Europe</td>\n",
       "      <td>-5.26</td>\n",
       "      <td>7.94</td>\n",
       "      <td>2.26</td>\n",
       "    </tr>\n",
       "    <tr>\n",
       "      <th>3</th>\n",
       "      <td>Agnostic</td>\n",
       "      <td>Latin America</td>\n",
       "      <td>52.38</td>\n",
       "      <td>9.37</td>\n",
       "      <td>66.67</td>\n",
       "    </tr>\n",
       "    <tr>\n",
       "      <th>4</th>\n",
       "      <td>Agnostic</td>\n",
       "      <td>Northern America</td>\n",
       "      <td>174.51</td>\n",
       "      <td>24.29</td>\n",
       "      <td>241.18</td>\n",
       "    </tr>\n",
       "    <tr>\n",
       "      <th>5</th>\n",
       "      <td>Agnostic</td>\n",
       "      <td>Oceania</td>\n",
       "      <td>344.12</td>\n",
       "      <td>28.48</td>\n",
       "      <td>470.59</td>\n",
       "    </tr>\n",
       "    <tr>\n",
       "      <th>6</th>\n",
       "      <td>Atheist</td>\n",
       "      <td>Asia</td>\n",
       "      <td>-45.10</td>\n",
       "      <td>-10.71</td>\n",
       "      <td>-50.98</td>\n",
       "    </tr>\n",
       "    <tr>\n",
       "      <th>7</th>\n",
       "      <td>Atheist</td>\n",
       "      <td>Europe</td>\n",
       "      <td>-74.39</td>\n",
       "      <td>-4.76</td>\n",
       "      <td>-75.61</td>\n",
       "    </tr>\n",
       "    <tr>\n",
       "      <th>8</th>\n",
       "      <td>Atheist</td>\n",
       "      <td>Latin America</td>\n",
       "      <td>25.00</td>\n",
       "      <td>0.00</td>\n",
       "      <td>25.00</td>\n",
       "    </tr>\n",
       "    <tr>\n",
       "      <th>9</th>\n",
       "      <td>Atheist</td>\n",
       "      <td>Northern America</td>\n",
       "      <td>500.00</td>\n",
       "      <td>383.33</td>\n",
       "      <td>2800.00</td>\n",
       "    </tr>\n",
       "    <tr>\n",
       "      <th>10</th>\n",
       "      <td>Atheist</td>\n",
       "      <td>Oceania</td>\n",
       "      <td>18.18</td>\n",
       "      <td>215.38</td>\n",
       "      <td>272.73</td>\n",
       "    </tr>\n",
       "    <tr>\n",
       "      <th>11</th>\n",
       "      <td>Buddhist</td>\n",
       "      <td>Asia</td>\n",
       "      <td>8.33</td>\n",
       "      <td>-3.42</td>\n",
       "      <td>4.63</td>\n",
       "    </tr>\n",
       "    <tr>\n",
       "      <th>12</th>\n",
       "      <td>Buddhist</td>\n",
       "      <td>Europe</td>\n",
       "      <td>100.00</td>\n",
       "      <td>50.00</td>\n",
       "      <td>200.00</td>\n",
       "    </tr>\n",
       "    <tr>\n",
       "      <th>13</th>\n",
       "      <td>Buddhist</td>\n",
       "      <td>Latin America</td>\n",
       "      <td>0.00</td>\n",
       "      <td>0.00</td>\n",
       "      <td>0.00</td>\n",
       "    </tr>\n",
       "    <tr>\n",
       "      <th>14</th>\n",
       "      <td>Buddhist</td>\n",
       "      <td>Northern America</td>\n",
       "      <td>1200.00</td>\n",
       "      <td>0.00</td>\n",
       "      <td>1200.00</td>\n",
       "    </tr>\n",
       "    <tr>\n",
       "      <th>15</th>\n",
       "      <td>Buddhist</td>\n",
       "      <td>Oceania</td>\n",
       "      <td>1500.00</td>\n",
       "      <td>43.75</td>\n",
       "      <td>2200.00</td>\n",
       "    </tr>\n",
       "    <tr>\n",
       "      <th>16</th>\n",
       "      <td>Christian</td>\n",
       "      <td>Africa</td>\n",
       "      <td>28.12</td>\n",
       "      <td>1.24</td>\n",
       "      <td>29.71</td>\n",
       "    </tr>\n",
       "    <tr>\n",
       "      <th>17</th>\n",
       "      <td>Christian</td>\n",
       "      <td>Asia</td>\n",
       "      <td>82.22</td>\n",
       "      <td>-1.22</td>\n",
       "      <td>80.00</td>\n",
       "    </tr>\n",
       "    <tr>\n",
       "      <th>18</th>\n",
       "      <td>Christian</td>\n",
       "      <td>Europe</td>\n",
       "      <td>5.22</td>\n",
       "      <td>-2.54</td>\n",
       "      <td>2.54</td>\n",
       "    </tr>\n",
       "    <tr>\n",
       "      <th>19</th>\n",
       "      <td>Christian</td>\n",
       "      <td>Latin America</td>\n",
       "      <td>-2.02</td>\n",
       "      <td>-0.11</td>\n",
       "      <td>-2.12</td>\n",
       "    </tr>\n",
       "    <tr>\n",
       "      <th>20</th>\n",
       "      <td>Christian</td>\n",
       "      <td>Northern America</td>\n",
       "      <td>-13.60</td>\n",
       "      <td>-7.23</td>\n",
       "      <td>-19.85</td>\n",
       "    </tr>\n",
       "    <tr>\n",
       "      <th>21</th>\n",
       "      <td>Christian</td>\n",
       "      <td>Oceania</td>\n",
       "      <td>-17.28</td>\n",
       "      <td>-12.40</td>\n",
       "      <td>-27.54</td>\n",
       "    </tr>\n",
       "    <tr>\n",
       "      <th>22</th>\n",
       "      <td>Hindu</td>\n",
       "      <td>Africa</td>\n",
       "      <td>0.00</td>\n",
       "      <td>0.00</td>\n",
       "      <td>0.00</td>\n",
       "    </tr>\n",
       "    <tr>\n",
       "      <th>23</th>\n",
       "      <td>Hindu</td>\n",
       "      <td>Asia</td>\n",
       "      <td>4.15</td>\n",
       "      <td>0.00</td>\n",
       "      <td>4.15</td>\n",
       "    </tr>\n",
       "    <tr>\n",
       "      <th>24</th>\n",
       "      <td>Hindu</td>\n",
       "      <td>Latin America</td>\n",
       "      <td>-50.00</td>\n",
       "      <td>0.00</td>\n",
       "      <td>-50.00</td>\n",
       "    </tr>\n",
       "    <tr>\n",
       "      <th>25</th>\n",
       "      <td>Hindu</td>\n",
       "      <td>Northern America</td>\n",
       "      <td>400.00</td>\n",
       "      <td>20.00</td>\n",
       "      <td>500.00</td>\n",
       "    </tr>\n",
       "    <tr>\n",
       "      <th>26</th>\n",
       "      <td>Hindu</td>\n",
       "      <td>Oceania</td>\n",
       "      <td>40.00</td>\n",
       "      <td>35.71</td>\n",
       "      <td>90.00</td>\n",
       "    </tr>\n",
       "    <tr>\n",
       "      <th>27</th>\n",
       "      <td>Muslim</td>\n",
       "      <td>Africa</td>\n",
       "      <td>2.71</td>\n",
       "      <td>-0.48</td>\n",
       "      <td>2.22</td>\n",
       "    </tr>\n",
       "    <tr>\n",
       "      <th>28</th>\n",
       "      <td>Muslim</td>\n",
       "      <td>Asia</td>\n",
       "      <td>37.04</td>\n",
       "      <td>5.79</td>\n",
       "      <td>44.97</td>\n",
       "    </tr>\n",
       "    <tr>\n",
       "      <th>29</th>\n",
       "      <td>Muslim</td>\n",
       "      <td>Europe</td>\n",
       "      <td>100.00</td>\n",
       "      <td>21.43</td>\n",
       "      <td>142.86</td>\n",
       "    </tr>\n",
       "    <tr>\n",
       "      <th>30</th>\n",
       "      <td>Muslim</td>\n",
       "      <td>Latin America</td>\n",
       "      <td>200.00</td>\n",
       "      <td>0.00</td>\n",
       "      <td>200.00</td>\n",
       "    </tr>\n",
       "    <tr>\n",
       "      <th>31</th>\n",
       "      <td>Muslim</td>\n",
       "      <td>Northern America</td>\n",
       "      <td>300.00</td>\n",
       "      <td>-6.25</td>\n",
       "      <td>275.00</td>\n",
       "    </tr>\n",
       "    <tr>\n",
       "      <th>32</th>\n",
       "      <td>Muslim</td>\n",
       "      <td>Oceania</td>\n",
       "      <td>275.00</td>\n",
       "      <td>40.00</td>\n",
       "      <td>425.00</td>\n",
       "    </tr>\n",
       "    <tr>\n",
       "      <th>33</th>\n",
       "      <td>General Population</td>\n",
       "      <td>Africa</td>\n",
       "      <td>NaN</td>\n",
       "      <td>NaN</td>\n",
       "      <td>NaN</td>\n",
       "    </tr>\n",
       "    <tr>\n",
       "      <th>34</th>\n",
       "      <td>General Population</td>\n",
       "      <td>Asia</td>\n",
       "      <td>NaN</td>\n",
       "      <td>NaN</td>\n",
       "      <td>NaN</td>\n",
       "    </tr>\n",
       "    <tr>\n",
       "      <th>35</th>\n",
       "      <td>General Population</td>\n",
       "      <td>Europe</td>\n",
       "      <td>NaN</td>\n",
       "      <td>NaN</td>\n",
       "      <td>NaN</td>\n",
       "    </tr>\n",
       "    <tr>\n",
       "      <th>36</th>\n",
       "      <td>General Population</td>\n",
       "      <td>Latin America</td>\n",
       "      <td>NaN</td>\n",
       "      <td>NaN</td>\n",
       "      <td>NaN</td>\n",
       "    </tr>\n",
       "    <tr>\n",
       "      <th>37</th>\n",
       "      <td>General Population</td>\n",
       "      <td>Northern America</td>\n",
       "      <td>NaN</td>\n",
       "      <td>NaN</td>\n",
       "      <td>NaN</td>\n",
       "    </tr>\n",
       "    <tr>\n",
       "      <th>38</th>\n",
       "      <td>General Population</td>\n",
       "      <td>Oceania</td>\n",
       "      <td>NaN</td>\n",
       "      <td>NaN</td>\n",
       "      <td>NaN</td>\n",
       "    </tr>\n",
       "  </tbody>\n",
       "</table>\n",
       "</div>"
      ],
      "text/plain": [
       "              Religion            Region  1970-2010 %Change  \\\n",
       "0             Agnostic            Africa             200.00   \n",
       "1             Agnostic              Asia             -40.69   \n",
       "2             Agnostic            Europe              -5.26   \n",
       "3             Agnostic     Latin America              52.38   \n",
       "4             Agnostic  Northern America             174.51   \n",
       "5             Agnostic           Oceania             344.12   \n",
       "6              Atheist              Asia             -45.10   \n",
       "7              Atheist            Europe             -74.39   \n",
       "8              Atheist     Latin America              25.00   \n",
       "9              Atheist  Northern America             500.00   \n",
       "10             Atheist           Oceania              18.18   \n",
       "11            Buddhist              Asia               8.33   \n",
       "12            Buddhist            Europe             100.00   \n",
       "13            Buddhist     Latin America               0.00   \n",
       "14            Buddhist  Northern America            1200.00   \n",
       "15            Buddhist           Oceania            1500.00   \n",
       "16           Christian            Africa              28.12   \n",
       "17           Christian              Asia              82.22   \n",
       "18           Christian            Europe               5.22   \n",
       "19           Christian     Latin America              -2.02   \n",
       "20           Christian  Northern America             -13.60   \n",
       "21           Christian           Oceania             -17.28   \n",
       "22               Hindu            Africa               0.00   \n",
       "23               Hindu              Asia               4.15   \n",
       "24               Hindu     Latin America             -50.00   \n",
       "25               Hindu  Northern America             400.00   \n",
       "26               Hindu           Oceania              40.00   \n",
       "27              Muslim            Africa               2.71   \n",
       "28              Muslim              Asia              37.04   \n",
       "29              Muslim            Europe             100.00   \n",
       "30              Muslim     Latin America             200.00   \n",
       "31              Muslim  Northern America             300.00   \n",
       "32              Muslim           Oceania             275.00   \n",
       "33  General Population            Africa                NaN   \n",
       "34  General Population              Asia                NaN   \n",
       "35  General Population            Europe                NaN   \n",
       "36  General Population     Latin America                NaN   \n",
       "37  General Population  Northern America                NaN   \n",
       "38  General Population           Oceania                NaN   \n",
       "\n",
       "    2010-2020 %Change  1970-2020 %Change  \n",
       "0                0.00             200.00  \n",
       "1               -2.48             -42.16  \n",
       "2                7.94               2.26  \n",
       "3                9.37              66.67  \n",
       "4               24.29             241.18  \n",
       "5               28.48             470.59  \n",
       "6              -10.71             -50.98  \n",
       "7               -4.76             -75.61  \n",
       "8                0.00              25.00  \n",
       "9              383.33            2800.00  \n",
       "10             215.38             272.73  \n",
       "11              -3.42               4.63  \n",
       "12              50.00             200.00  \n",
       "13               0.00               0.00  \n",
       "14               0.00            1200.00  \n",
       "15              43.75            2200.00  \n",
       "16               1.24              29.71  \n",
       "17              -1.22              80.00  \n",
       "18              -2.54               2.54  \n",
       "19              -0.11              -2.12  \n",
       "20              -7.23             -19.85  \n",
       "21             -12.40             -27.54  \n",
       "22               0.00               0.00  \n",
       "23               0.00               4.15  \n",
       "24               0.00             -50.00  \n",
       "25              20.00             500.00  \n",
       "26              35.71              90.00  \n",
       "27              -0.48               2.22  \n",
       "28               5.79              44.97  \n",
       "29              21.43             142.86  \n",
       "30               0.00             200.00  \n",
       "31              -6.25             275.00  \n",
       "32              40.00             425.00  \n",
       "33                NaN                NaN  \n",
       "34                NaN                NaN  \n",
       "35                NaN                NaN  \n",
       "36                NaN                NaN  \n",
       "37                NaN                NaN  \n",
       "38                NaN                NaN  "
      ]
     },
     "execution_count": 148,
     "metadata": {},
     "output_type": "execute_result"
    }
   ],
   "source": [
    "pc_continent"
   ]
  },
  {
   "cell_type": "code",
   "execution_count": 149,
   "id": "33f020d3-8dff-4507-a89e-0f9058ddb3b0",
   "metadata": {},
   "outputs": [
    {
     "data": {
      "text/html": [
       "<div>\n",
       "<style scoped>\n",
       "    .dataframe tbody tr th:only-of-type {\n",
       "        vertical-align: middle;\n",
       "    }\n",
       "\n",
       "    .dataframe tbody tr th {\n",
       "        vertical-align: top;\n",
       "    }\n",
       "\n",
       "    .dataframe thead th {\n",
       "        text-align: right;\n",
       "    }\n",
       "</style>\n",
       "<table border=\"1\" class=\"dataframe\">\n",
       "  <thead>\n",
       "    <tr style=\"text-align: right;\">\n",
       "      <th></th>\n",
       "      <th>Religion</th>\n",
       "      <th>Region</th>\n",
       "      <th>Year</th>\n",
       "      <th>Percent Change</th>\n",
       "    </tr>\n",
       "  </thead>\n",
       "  <tbody>\n",
       "    <tr>\n",
       "      <th>0</th>\n",
       "      <td>Agnostic</td>\n",
       "      <td>Africa</td>\n",
       "      <td>1970-2010</td>\n",
       "      <td>200.00</td>\n",
       "    </tr>\n",
       "    <tr>\n",
       "      <th>1</th>\n",
       "      <td>Agnostic</td>\n",
       "      <td>Africa</td>\n",
       "      <td>2010-2020</td>\n",
       "      <td>0.00</td>\n",
       "    </tr>\n",
       "    <tr>\n",
       "      <th>2</th>\n",
       "      <td>Agnostic</td>\n",
       "      <td>Africa</td>\n",
       "      <td>1970-2020</td>\n",
       "      <td>200.00</td>\n",
       "    </tr>\n",
       "    <tr>\n",
       "      <th>3</th>\n",
       "      <td>Agnostic</td>\n",
       "      <td>Asia</td>\n",
       "      <td>1970-2010</td>\n",
       "      <td>-40.69</td>\n",
       "    </tr>\n",
       "    <tr>\n",
       "      <th>4</th>\n",
       "      <td>Agnostic</td>\n",
       "      <td>Asia</td>\n",
       "      <td>2010-2020</td>\n",
       "      <td>-2.48</td>\n",
       "    </tr>\n",
       "    <tr>\n",
       "      <th>...</th>\n",
       "      <td>...</td>\n",
       "      <td>...</td>\n",
       "      <td>...</td>\n",
       "      <td>...</td>\n",
       "    </tr>\n",
       "    <tr>\n",
       "      <th>94</th>\n",
       "      <td>Muslim</td>\n",
       "      <td>Northern America</td>\n",
       "      <td>2010-2020</td>\n",
       "      <td>-6.25</td>\n",
       "    </tr>\n",
       "    <tr>\n",
       "      <th>95</th>\n",
       "      <td>Muslim</td>\n",
       "      <td>Northern America</td>\n",
       "      <td>1970-2020</td>\n",
       "      <td>275.00</td>\n",
       "    </tr>\n",
       "    <tr>\n",
       "      <th>96</th>\n",
       "      <td>Muslim</td>\n",
       "      <td>Oceania</td>\n",
       "      <td>1970-2010</td>\n",
       "      <td>275.00</td>\n",
       "    </tr>\n",
       "    <tr>\n",
       "      <th>97</th>\n",
       "      <td>Muslim</td>\n",
       "      <td>Oceania</td>\n",
       "      <td>2010-2020</td>\n",
       "      <td>40.00</td>\n",
       "    </tr>\n",
       "    <tr>\n",
       "      <th>98</th>\n",
       "      <td>Muslim</td>\n",
       "      <td>Oceania</td>\n",
       "      <td>1970-2020</td>\n",
       "      <td>425.00</td>\n",
       "    </tr>\n",
       "  </tbody>\n",
       "</table>\n",
       "<p>99 rows × 4 columns</p>\n",
       "</div>"
      ],
      "text/plain": [
       "    Religion            Region       Year  Percent Change\n",
       "0   Agnostic            Africa  1970-2010          200.00\n",
       "1   Agnostic            Africa  2010-2020            0.00\n",
       "2   Agnostic            Africa  1970-2020          200.00\n",
       "3   Agnostic              Asia  1970-2010          -40.69\n",
       "4   Agnostic              Asia  2010-2020           -2.48\n",
       "..       ...               ...        ...             ...\n",
       "94    Muslim  Northern America  2010-2020           -6.25\n",
       "95    Muslim  Northern America  1970-2020          275.00\n",
       "96    Muslim           Oceania  1970-2010          275.00\n",
       "97    Muslim           Oceania  2010-2020           40.00\n",
       "98    Muslim           Oceania  1970-2020          425.00\n",
       "\n",
       "[99 rows x 4 columns]"
      ]
     },
     "execution_count": 149,
     "metadata": {},
     "output_type": "execute_result"
    }
   ],
   "source": [
    "pc_continent_v"
   ]
  },
  {
   "cell_type": "code",
   "execution_count": 150,
   "id": "013613b3-a4a1-4197-a9cb-6cbcc5f7ea36",
   "metadata": {},
   "outputs": [
    {
     "data": {
      "text/html": [
       "<div>\n",
       "<style scoped>\n",
       "    .dataframe tbody tr th:only-of-type {\n",
       "        vertical-align: middle;\n",
       "    }\n",
       "\n",
       "    .dataframe tbody tr th {\n",
       "        vertical-align: top;\n",
       "    }\n",
       "\n",
       "    .dataframe thead th {\n",
       "        text-align: right;\n",
       "    }\n",
       "</style>\n",
       "<table border=\"1\" class=\"dataframe\">\n",
       "  <thead>\n",
       "    <tr style=\"text-align: right;\">\n",
       "      <th></th>\n",
       "      <th>Religion</th>\n",
       "      <th>Region</th>\n",
       "      <th>1970-2010 %Change</th>\n",
       "      <th>2010-2020 %Change</th>\n",
       "      <th>1970-2020 %Change</th>\n",
       "    </tr>\n",
       "  </thead>\n",
       "  <tbody>\n",
       "    <tr>\n",
       "      <th>0</th>\n",
       "      <td>Agnostic</td>\n",
       "      <td>Africa</td>\n",
       "      <td>200.00</td>\n",
       "      <td>0.00</td>\n",
       "      <td>200.0</td>\n",
       "    </tr>\n",
       "    <tr>\n",
       "      <th>17</th>\n",
       "      <td>Christian</td>\n",
       "      <td>Asia</td>\n",
       "      <td>82.22</td>\n",
       "      <td>-1.22</td>\n",
       "      <td>80.0</td>\n",
       "    </tr>\n",
       "    <tr>\n",
       "      <th>12</th>\n",
       "      <td>Buddhist</td>\n",
       "      <td>Europe</td>\n",
       "      <td>100.00</td>\n",
       "      <td>50.00</td>\n",
       "      <td>200.0</td>\n",
       "    </tr>\n",
       "    <tr>\n",
       "      <th>30</th>\n",
       "      <td>Muslim</td>\n",
       "      <td>Latin America</td>\n",
       "      <td>200.00</td>\n",
       "      <td>0.00</td>\n",
       "      <td>200.0</td>\n",
       "    </tr>\n",
       "    <tr>\n",
       "      <th>9</th>\n",
       "      <td>Atheist</td>\n",
       "      <td>Northern America</td>\n",
       "      <td>500.00</td>\n",
       "      <td>383.33</td>\n",
       "      <td>2800.0</td>\n",
       "    </tr>\n",
       "    <tr>\n",
       "      <th>15</th>\n",
       "      <td>Buddhist</td>\n",
       "      <td>Oceania</td>\n",
       "      <td>1500.00</td>\n",
       "      <td>43.75</td>\n",
       "      <td>2200.0</td>\n",
       "    </tr>\n",
       "  </tbody>\n",
       "</table>\n",
       "</div>"
      ],
      "text/plain": [
       "     Religion            Region  1970-2010 %Change  2010-2020 %Change  \\\n",
       "0    Agnostic            Africa             200.00               0.00   \n",
       "17  Christian              Asia              82.22              -1.22   \n",
       "12   Buddhist            Europe             100.00              50.00   \n",
       "30     Muslim     Latin America             200.00               0.00   \n",
       "9     Atheist  Northern America             500.00             383.33   \n",
       "15   Buddhist           Oceania            1500.00              43.75   \n",
       "\n",
       "    1970-2020 %Change  \n",
       "0               200.0  \n",
       "17               80.0  \n",
       "12              200.0  \n",
       "30              200.0  \n",
       "9              2800.0  \n",
       "15             2200.0  "
      ]
     },
     "execution_count": 150,
     "metadata": {},
     "output_type": "execute_result"
    }
   ],
   "source": [
    "pc_continent.loc[pc_continent.groupby('Region')['1970-2020 %Change'].idxmax()]"
   ]
  },
  {
   "cell_type": "code",
   "execution_count": 151,
   "id": "1388357a-fa05-40f9-a643-3abf86b20d4e",
   "metadata": {},
   "outputs": [
    {
     "data": {
      "text/html": [
       "<div>\n",
       "<style scoped>\n",
       "    .dataframe tbody tr th:only-of-type {\n",
       "        vertical-align: middle;\n",
       "    }\n",
       "\n",
       "    .dataframe tbody tr th {\n",
       "        vertical-align: top;\n",
       "    }\n",
       "\n",
       "    .dataframe thead th {\n",
       "        text-align: right;\n",
       "    }\n",
       "</style>\n",
       "<table border=\"1\" class=\"dataframe\">\n",
       "  <thead>\n",
       "    <tr style=\"text-align: right;\">\n",
       "      <th></th>\n",
       "      <th>Religion</th>\n",
       "      <th>Region</th>\n",
       "      <th>1970-2010 %Change</th>\n",
       "      <th>2010-2020 %Change</th>\n",
       "      <th>1970-2020 %Change</th>\n",
       "    </tr>\n",
       "  </thead>\n",
       "  <tbody>\n",
       "    <tr>\n",
       "      <th>22</th>\n",
       "      <td>Hindu</td>\n",
       "      <td>Africa</td>\n",
       "      <td>0.00</td>\n",
       "      <td>0.00</td>\n",
       "      <td>0.00</td>\n",
       "    </tr>\n",
       "    <tr>\n",
       "      <th>6</th>\n",
       "      <td>Atheist</td>\n",
       "      <td>Asia</td>\n",
       "      <td>-45.10</td>\n",
       "      <td>-10.71</td>\n",
       "      <td>-50.98</td>\n",
       "    </tr>\n",
       "    <tr>\n",
       "      <th>7</th>\n",
       "      <td>Atheist</td>\n",
       "      <td>Europe</td>\n",
       "      <td>-74.39</td>\n",
       "      <td>-4.76</td>\n",
       "      <td>-75.61</td>\n",
       "    </tr>\n",
       "    <tr>\n",
       "      <th>24</th>\n",
       "      <td>Hindu</td>\n",
       "      <td>Latin America</td>\n",
       "      <td>-50.00</td>\n",
       "      <td>0.00</td>\n",
       "      <td>-50.00</td>\n",
       "    </tr>\n",
       "    <tr>\n",
       "      <th>20</th>\n",
       "      <td>Christian</td>\n",
       "      <td>Northern America</td>\n",
       "      <td>-13.60</td>\n",
       "      <td>-7.23</td>\n",
       "      <td>-19.85</td>\n",
       "    </tr>\n",
       "    <tr>\n",
       "      <th>21</th>\n",
       "      <td>Christian</td>\n",
       "      <td>Oceania</td>\n",
       "      <td>-17.28</td>\n",
       "      <td>-12.40</td>\n",
       "      <td>-27.54</td>\n",
       "    </tr>\n",
       "  </tbody>\n",
       "</table>\n",
       "</div>"
      ],
      "text/plain": [
       "     Religion            Region  1970-2010 %Change  2010-2020 %Change  \\\n",
       "22      Hindu            Africa               0.00               0.00   \n",
       "6     Atheist              Asia             -45.10             -10.71   \n",
       "7     Atheist            Europe             -74.39              -4.76   \n",
       "24      Hindu     Latin America             -50.00               0.00   \n",
       "20  Christian  Northern America             -13.60              -7.23   \n",
       "21  Christian           Oceania             -17.28             -12.40   \n",
       "\n",
       "    1970-2020 %Change  \n",
       "22               0.00  \n",
       "6              -50.98  \n",
       "7              -75.61  \n",
       "24             -50.00  \n",
       "20             -19.85  \n",
       "21             -27.54  "
      ]
     },
     "execution_count": 151,
     "metadata": {},
     "output_type": "execute_result"
    }
   ],
   "source": [
    "pc_continent.loc[pc_continent.groupby('Region')['1970-2020 %Change'].idxmin()]"
   ]
  },
  {
   "cell_type": "markdown",
   "id": "de5c07ee-2e13-4c92-b487-1b7752b21612",
   "metadata": {},
   "source": [
    "# % change UNregion Level"
   ]
  },
  {
   "cell_type": "code",
   "execution_count": 153,
   "id": "63047273-555e-4745-be8a-2e3da2eb96a9",
   "metadata": {},
   "outputs": [],
   "source": [
    "pc_unregion = unregion"
   ]
  },
  {
   "cell_type": "code",
   "execution_count": 154,
   "id": "d7d61a10-ea43-4f2e-9457-44d2b63602d2",
   "metadata": {},
   "outputs": [],
   "source": [
    "pc_unregion['1970-2010 %Change'] = round(((unregion['2010%'] - unregion['1970%']) / unregion['1970%']) * 100,2)"
   ]
  },
  {
   "cell_type": "code",
   "execution_count": 155,
   "id": "6d1ad35f-25c2-442f-a762-b499c3d38041",
   "metadata": {},
   "outputs": [],
   "source": [
    "pc_unregion['2010-2020 %Change'] = round(((unregion['2020%'] - unregion['2010%']) / unregion['2010%']) * 100,2)"
   ]
  },
  {
   "cell_type": "code",
   "execution_count": 156,
   "id": "6d3942d9-e0a3-4929-8b37-90346c380837",
   "metadata": {},
   "outputs": [],
   "source": [
    "pc_unregion['1970-2020 %Change'] = round(((unregion['2020%'] - unregion['1970%']) / unregion['1970%']) * 100,2)"
   ]
  },
  {
   "cell_type": "code",
   "execution_count": 157,
   "id": "6afbd040-c861-4d42-b756-b737417dc165",
   "metadata": {},
   "outputs": [],
   "source": [
    "pc_unregion=pc_unregion[['Religion','Region', '1970-2010 %Change','2010-2020 %Change','1970-2020 %Change']]"
   ]
  },
  {
   "cell_type": "code",
   "execution_count": 158,
   "id": "228f60d0-d714-443b-bf78-dbb47e5ac02b",
   "metadata": {},
   "outputs": [],
   "source": [
    "pc_unregion2= pc_unregion"
   ]
  },
  {
   "cell_type": "code",
   "execution_count": 159,
   "id": "93575f12-f2d2-4a74-bdff-c25501952611",
   "metadata": {},
   "outputs": [],
   "source": [
    "pc_unregion2=pc_unregion2.rename(columns = {'1970-2010 %Change':'1970-2010','2010-2020 %Change':'2010-2020','1970-2020 %Change':'1970-2020'})"
   ]
  },
  {
   "cell_type": "code",
   "execution_count": 160,
   "id": "dd6abe34-5cce-44af-a0e8-04f282593926",
   "metadata": {},
   "outputs": [],
   "source": [
    "pc_unregion_v = pc_unregion2.set_index(['Religion','Region']).stack()"
   ]
  },
  {
   "cell_type": "code",
   "execution_count": 161,
   "id": "6fdbfb53-d219-4000-8e7c-ec7431368b76",
   "metadata": {},
   "outputs": [],
   "source": [
    "pc_unregion_v = pc_unregion_v.reset_index(name='Percent Change')"
   ]
  },
  {
   "cell_type": "code",
   "execution_count": 162,
   "id": "efac84a7-4fa6-442a-8707-c383a1f3ebaf",
   "metadata": {},
   "outputs": [],
   "source": [
    "pc_unregion_v = pc_unregion_v.rename(columns={'level_2': 'Year'})"
   ]
  },
  {
   "cell_type": "code",
   "execution_count": 163,
   "id": "a7254a58-f1d0-4060-8fd8-f12ec3bcaae9",
   "metadata": {},
   "outputs": [
    {
     "data": {
      "text/html": [
       "<div>\n",
       "<style scoped>\n",
       "    .dataframe tbody tr th:only-of-type {\n",
       "        vertical-align: middle;\n",
       "    }\n",
       "\n",
       "    .dataframe tbody tr th {\n",
       "        vertical-align: top;\n",
       "    }\n",
       "\n",
       "    .dataframe thead th {\n",
       "        text-align: right;\n",
       "    }\n",
       "</style>\n",
       "<table border=\"1\" class=\"dataframe\">\n",
       "  <thead>\n",
       "    <tr style=\"text-align: right;\">\n",
       "      <th></th>\n",
       "      <th>Religion</th>\n",
       "      <th>Region</th>\n",
       "      <th>1970-2010 %Change</th>\n",
       "      <th>2010-2020 %Change</th>\n",
       "      <th>1970-2020 %Change</th>\n",
       "    </tr>\n",
       "  </thead>\n",
       "  <tbody>\n",
       "    <tr>\n",
       "      <th>0</th>\n",
       "      <td>Agnostic</td>\n",
       "      <td>Eastern Africa</td>\n",
       "      <td>200.0</td>\n",
       "      <td>-33.33</td>\n",
       "      <td>100.00</td>\n",
       "    </tr>\n",
       "    <tr>\n",
       "      <th>1</th>\n",
       "      <td>Agnostic</td>\n",
       "      <td>Middle Africa</td>\n",
       "      <td>500.0</td>\n",
       "      <td>0.00</td>\n",
       "      <td>500.00</td>\n",
       "    </tr>\n",
       "    <tr>\n",
       "      <th>2</th>\n",
       "      <td>Agnostic</td>\n",
       "      <td>Northern Africa</td>\n",
       "      <td>100.0</td>\n",
       "      <td>16.67</td>\n",
       "      <td>133.33</td>\n",
       "    </tr>\n",
       "    <tr>\n",
       "      <th>3</th>\n",
       "      <td>Agnostic</td>\n",
       "      <td>Southern Africa</td>\n",
       "      <td>700.0</td>\n",
       "      <td>0.00</td>\n",
       "      <td>700.00</td>\n",
       "    </tr>\n",
       "    <tr>\n",
       "      <th>4</th>\n",
       "      <td>Agnostic</td>\n",
       "      <td>Western Africa</td>\n",
       "      <td>200.0</td>\n",
       "      <td>0.00</td>\n",
       "      <td>200.00</td>\n",
       "    </tr>\n",
       "    <tr>\n",
       "      <th>...</th>\n",
       "      <td>...</td>\n",
       "      <td>...</td>\n",
       "      <td>...</td>\n",
       "      <td>...</td>\n",
       "      <td>...</td>\n",
       "    </tr>\n",
       "    <tr>\n",
       "      <th>111</th>\n",
       "      <td>General Population</td>\n",
       "      <td>Northern America</td>\n",
       "      <td>NaN</td>\n",
       "      <td>NaN</td>\n",
       "      <td>NaN</td>\n",
       "    </tr>\n",
       "    <tr>\n",
       "      <th>112</th>\n",
       "      <td>General Population</td>\n",
       "      <td>Australia/New Zealand</td>\n",
       "      <td>NaN</td>\n",
       "      <td>NaN</td>\n",
       "      <td>NaN</td>\n",
       "    </tr>\n",
       "    <tr>\n",
       "      <th>113</th>\n",
       "      <td>General Population</td>\n",
       "      <td>Melanesia</td>\n",
       "      <td>NaN</td>\n",
       "      <td>NaN</td>\n",
       "      <td>NaN</td>\n",
       "    </tr>\n",
       "    <tr>\n",
       "      <th>114</th>\n",
       "      <td>General Population</td>\n",
       "      <td>Micronesia</td>\n",
       "      <td>NaN</td>\n",
       "      <td>NaN</td>\n",
       "      <td>NaN</td>\n",
       "    </tr>\n",
       "    <tr>\n",
       "      <th>115</th>\n",
       "      <td>General Population</td>\n",
       "      <td>Polynesia</td>\n",
       "      <td>NaN</td>\n",
       "      <td>NaN</td>\n",
       "      <td>NaN</td>\n",
       "    </tr>\n",
       "  </tbody>\n",
       "</table>\n",
       "<p>116 rows × 5 columns</p>\n",
       "</div>"
      ],
      "text/plain": [
       "               Religion                 Region  1970-2010 %Change  \\\n",
       "0              Agnostic         Eastern Africa              200.0   \n",
       "1              Agnostic          Middle Africa              500.0   \n",
       "2              Agnostic        Northern Africa              100.0   \n",
       "3              Agnostic        Southern Africa              700.0   \n",
       "4              Agnostic         Western Africa              200.0   \n",
       "..                  ...                    ...                ...   \n",
       "111  General Population       Northern America                NaN   \n",
       "112  General Population  Australia/New Zealand                NaN   \n",
       "113  General Population              Melanesia                NaN   \n",
       "114  General Population             Micronesia                NaN   \n",
       "115  General Population              Polynesia                NaN   \n",
       "\n",
       "     2010-2020 %Change  1970-2020 %Change  \n",
       "0               -33.33             100.00  \n",
       "1                 0.00             500.00  \n",
       "2                16.67             133.33  \n",
       "3                 0.00             700.00  \n",
       "4                 0.00             200.00  \n",
       "..                 ...                ...  \n",
       "111                NaN                NaN  \n",
       "112                NaN                NaN  \n",
       "113                NaN                NaN  \n",
       "114                NaN                NaN  \n",
       "115                NaN                NaN  \n",
       "\n",
       "[116 rows x 5 columns]"
      ]
     },
     "execution_count": 163,
     "metadata": {},
     "output_type": "execute_result"
    }
   ],
   "source": [
    "pc_unregion"
   ]
  },
  {
   "cell_type": "code",
   "execution_count": 164,
   "id": "45725c83-add2-43a5-943a-c7f6b926f0fb",
   "metadata": {},
   "outputs": [
    {
     "data": {
      "text/html": [
       "<div>\n",
       "<style scoped>\n",
       "    .dataframe tbody tr th:only-of-type {\n",
       "        vertical-align: middle;\n",
       "    }\n",
       "\n",
       "    .dataframe tbody tr th {\n",
       "        vertical-align: top;\n",
       "    }\n",
       "\n",
       "    .dataframe thead th {\n",
       "        text-align: right;\n",
       "    }\n",
       "</style>\n",
       "<table border=\"1\" class=\"dataframe\">\n",
       "  <thead>\n",
       "    <tr style=\"text-align: right;\">\n",
       "      <th></th>\n",
       "      <th>Religion</th>\n",
       "      <th>Region</th>\n",
       "      <th>Year</th>\n",
       "      <th>Percent Change</th>\n",
       "    </tr>\n",
       "  </thead>\n",
       "  <tbody>\n",
       "    <tr>\n",
       "      <th>0</th>\n",
       "      <td>Agnostic</td>\n",
       "      <td>Eastern Africa</td>\n",
       "      <td>1970-2010</td>\n",
       "      <td>200.00</td>\n",
       "    </tr>\n",
       "    <tr>\n",
       "      <th>1</th>\n",
       "      <td>Agnostic</td>\n",
       "      <td>Eastern Africa</td>\n",
       "      <td>2010-2020</td>\n",
       "      <td>-33.33</td>\n",
       "    </tr>\n",
       "    <tr>\n",
       "      <th>2</th>\n",
       "      <td>Agnostic</td>\n",
       "      <td>Eastern Africa</td>\n",
       "      <td>1970-2020</td>\n",
       "      <td>100.00</td>\n",
       "    </tr>\n",
       "    <tr>\n",
       "      <th>3</th>\n",
       "      <td>Agnostic</td>\n",
       "      <td>Middle Africa</td>\n",
       "      <td>1970-2010</td>\n",
       "      <td>500.00</td>\n",
       "    </tr>\n",
       "    <tr>\n",
       "      <th>4</th>\n",
       "      <td>Agnostic</td>\n",
       "      <td>Middle Africa</td>\n",
       "      <td>2010-2020</td>\n",
       "      <td>0.00</td>\n",
       "    </tr>\n",
       "    <tr>\n",
       "      <th>...</th>\n",
       "      <td>...</td>\n",
       "      <td>...</td>\n",
       "      <td>...</td>\n",
       "      <td>...</td>\n",
       "    </tr>\n",
       "    <tr>\n",
       "      <th>280</th>\n",
       "      <td>Muslim</td>\n",
       "      <td>Australia/New Zealand</td>\n",
       "      <td>2010-2020</td>\n",
       "      <td>50.00</td>\n",
       "    </tr>\n",
       "    <tr>\n",
       "      <th>281</th>\n",
       "      <td>Muslim</td>\n",
       "      <td>Australia/New Zealand</td>\n",
       "      <td>1970-2020</td>\n",
       "      <td>1250.00</td>\n",
       "    </tr>\n",
       "    <tr>\n",
       "      <th>282</th>\n",
       "      <td>Muslim</td>\n",
       "      <td>Melanesia</td>\n",
       "      <td>1970-2010</td>\n",
       "      <td>-46.15</td>\n",
       "    </tr>\n",
       "    <tr>\n",
       "      <th>283</th>\n",
       "      <td>Muslim</td>\n",
       "      <td>Melanesia</td>\n",
       "      <td>2010-2020</td>\n",
       "      <td>-14.29</td>\n",
       "    </tr>\n",
       "    <tr>\n",
       "      <th>284</th>\n",
       "      <td>Muslim</td>\n",
       "      <td>Melanesia</td>\n",
       "      <td>1970-2020</td>\n",
       "      <td>-53.85</td>\n",
       "    </tr>\n",
       "  </tbody>\n",
       "</table>\n",
       "<p>285 rows × 4 columns</p>\n",
       "</div>"
      ],
      "text/plain": [
       "     Religion                 Region       Year  Percent Change\n",
       "0    Agnostic         Eastern Africa  1970-2010          200.00\n",
       "1    Agnostic         Eastern Africa  2010-2020          -33.33\n",
       "2    Agnostic         Eastern Africa  1970-2020          100.00\n",
       "3    Agnostic          Middle Africa  1970-2010          500.00\n",
       "4    Agnostic          Middle Africa  2010-2020            0.00\n",
       "..        ...                    ...        ...             ...\n",
       "280    Muslim  Australia/New Zealand  2010-2020           50.00\n",
       "281    Muslim  Australia/New Zealand  1970-2020         1250.00\n",
       "282    Muslim              Melanesia  1970-2010          -46.15\n",
       "283    Muslim              Melanesia  2010-2020          -14.29\n",
       "284    Muslim              Melanesia  1970-2020          -53.85\n",
       "\n",
       "[285 rows x 4 columns]"
      ]
     },
     "execution_count": 164,
     "metadata": {},
     "output_type": "execute_result"
    }
   ],
   "source": [
    "pc_unregion_v"
   ]
  },
  {
   "cell_type": "code",
   "execution_count": 165,
   "id": "0f53dbcf-73e6-4d4a-82d8-55c6f619b783",
   "metadata": {},
   "outputs": [
    {
     "data": {
      "text/html": [
       "<div>\n",
       "<style scoped>\n",
       "    .dataframe tbody tr th:only-of-type {\n",
       "        vertical-align: middle;\n",
       "    }\n",
       "\n",
       "    .dataframe tbody tr th {\n",
       "        vertical-align: top;\n",
       "    }\n",
       "\n",
       "    .dataframe thead th {\n",
       "        text-align: right;\n",
       "    }\n",
       "</style>\n",
       "<table border=\"1\" class=\"dataframe\">\n",
       "  <thead>\n",
       "    <tr style=\"text-align: right;\">\n",
       "      <th></th>\n",
       "      <th>Religion</th>\n",
       "      <th>Region</th>\n",
       "      <th>1970-2010 %Change</th>\n",
       "      <th>2010-2020 %Change</th>\n",
       "      <th>1970-2020 %Change</th>\n",
       "    </tr>\n",
       "  </thead>\n",
       "  <tbody>\n",
       "    <tr>\n",
       "      <th>41</th>\n",
       "      <td>Buddhist</td>\n",
       "      <td>Australia/New Zealand</td>\n",
       "      <td>2000.00</td>\n",
       "      <td>47.62</td>\n",
       "      <td>3000.00</td>\n",
       "    </tr>\n",
       "    <tr>\n",
       "      <th>58</th>\n",
       "      <td>Christian</td>\n",
       "      <td>Caribbean</td>\n",
       "      <td>6.78</td>\n",
       "      <td>0.72</td>\n",
       "      <td>7.54</td>\n",
       "    </tr>\n",
       "    <tr>\n",
       "      <th>14</th>\n",
       "      <td>Agnostic</td>\n",
       "      <td>Central America</td>\n",
       "      <td>84.62</td>\n",
       "      <td>12.50</td>\n",
       "      <td>107.69</td>\n",
       "    </tr>\n",
       "    <tr>\n",
       "      <th>0</th>\n",
       "      <td>Agnostic</td>\n",
       "      <td>Eastern Africa</td>\n",
       "      <td>200.00</td>\n",
       "      <td>-33.33</td>\n",
       "      <td>100.00</td>\n",
       "    </tr>\n",
       "    <tr>\n",
       "      <th>50</th>\n",
       "      <td>Christian</td>\n",
       "      <td>Eastern Asia</td>\n",
       "      <td>636.36</td>\n",
       "      <td>-4.94</td>\n",
       "      <td>600.00</td>\n",
       "    </tr>\n",
       "    <tr>\n",
       "      <th>85</th>\n",
       "      <td>Muslim</td>\n",
       "      <td>Eastern Europe</td>\n",
       "      <td>35.71</td>\n",
       "      <td>14.04</td>\n",
       "      <td>54.76</td>\n",
       "    </tr>\n",
       "    <tr>\n",
       "      <th>18</th>\n",
       "      <td>Agnostic</td>\n",
       "      <td>Melanesia</td>\n",
       "      <td>200.00</td>\n",
       "      <td>0.00</td>\n",
       "      <td>200.00</td>\n",
       "    </tr>\n",
       "    <tr>\n",
       "      <th>43</th>\n",
       "      <td>Buddhist</td>\n",
       "      <td>Micronesia</td>\n",
       "      <td>1600.00</td>\n",
       "      <td>-5.88</td>\n",
       "      <td>1500.00</td>\n",
       "    </tr>\n",
       "    <tr>\n",
       "      <th>1</th>\n",
       "      <td>Agnostic</td>\n",
       "      <td>Middle Africa</td>\n",
       "      <td>500.00</td>\n",
       "      <td>0.00</td>\n",
       "      <td>500.00</td>\n",
       "    </tr>\n",
       "    <tr>\n",
       "      <th>2</th>\n",
       "      <td>Agnostic</td>\n",
       "      <td>Northern Africa</td>\n",
       "      <td>100.00</td>\n",
       "      <td>16.67</td>\n",
       "      <td>133.33</td>\n",
       "    </tr>\n",
       "    <tr>\n",
       "      <th>32</th>\n",
       "      <td>Atheist</td>\n",
       "      <td>Northern America</td>\n",
       "      <td>500.00</td>\n",
       "      <td>383.33</td>\n",
       "      <td>2800.00</td>\n",
       "    </tr>\n",
       "    <tr>\n",
       "      <th>86</th>\n",
       "      <td>Muslim</td>\n",
       "      <td>Northern Europe</td>\n",
       "      <td>262.50</td>\n",
       "      <td>89.66</td>\n",
       "      <td>587.50</td>\n",
       "    </tr>\n",
       "    <tr>\n",
       "      <th>20</th>\n",
       "      <td>Agnostic</td>\n",
       "      <td>Polynesia</td>\n",
       "      <td>266.67</td>\n",
       "      <td>4.55</td>\n",
       "      <td>283.33</td>\n",
       "    </tr>\n",
       "    <tr>\n",
       "      <th>15</th>\n",
       "      <td>Agnostic</td>\n",
       "      <td>South America</td>\n",
       "      <td>158.33</td>\n",
       "      <td>12.90</td>\n",
       "      <td>191.67</td>\n",
       "    </tr>\n",
       "    <tr>\n",
       "      <th>51</th>\n",
       "      <td>Christian</td>\n",
       "      <td>South-central Asia</td>\n",
       "      <td>14.29</td>\n",
       "      <td>0.00</td>\n",
       "      <td>14.29</td>\n",
       "    </tr>\n",
       "    <tr>\n",
       "      <th>24</th>\n",
       "      <td>Atheist</td>\n",
       "      <td>South-eastern Asia</td>\n",
       "      <td>120.00</td>\n",
       "      <td>-9.09</td>\n",
       "      <td>100.00</td>\n",
       "    </tr>\n",
       "    <tr>\n",
       "      <th>3</th>\n",
       "      <td>Agnostic</td>\n",
       "      <td>Southern Africa</td>\n",
       "      <td>700.00</td>\n",
       "      <td>0.00</td>\n",
       "      <td>700.00</td>\n",
       "    </tr>\n",
       "    <tr>\n",
       "      <th>87</th>\n",
       "      <td>Muslim</td>\n",
       "      <td>Southern Europe</td>\n",
       "      <td>106.25</td>\n",
       "      <td>13.64</td>\n",
       "      <td>134.37</td>\n",
       "    </tr>\n",
       "    <tr>\n",
       "      <th>4</th>\n",
       "      <td>Agnostic</td>\n",
       "      <td>Western Africa</td>\n",
       "      <td>200.00</td>\n",
       "      <td>0.00</td>\n",
       "      <td>200.00</td>\n",
       "    </tr>\n",
       "    <tr>\n",
       "      <th>84</th>\n",
       "      <td>Muslim</td>\n",
       "      <td>Western Asia</td>\n",
       "      <td>7.64</td>\n",
       "      <td>0.45</td>\n",
       "      <td>8.12</td>\n",
       "    </tr>\n",
       "    <tr>\n",
       "      <th>88</th>\n",
       "      <td>Muslim</td>\n",
       "      <td>Western Europe</td>\n",
       "      <td>408.33</td>\n",
       "      <td>19.67</td>\n",
       "      <td>508.33</td>\n",
       "    </tr>\n",
       "  </tbody>\n",
       "</table>\n",
       "</div>"
      ],
      "text/plain": [
       "     Religion                 Region  1970-2010 %Change  2010-2020 %Change  \\\n",
       "41   Buddhist  Australia/New Zealand            2000.00              47.62   \n",
       "58  Christian              Caribbean               6.78               0.72   \n",
       "14   Agnostic        Central America              84.62              12.50   \n",
       "0    Agnostic         Eastern Africa             200.00             -33.33   \n",
       "50  Christian           Eastern Asia             636.36              -4.94   \n",
       "85     Muslim         Eastern Europe              35.71              14.04   \n",
       "18   Agnostic              Melanesia             200.00               0.00   \n",
       "43   Buddhist             Micronesia            1600.00              -5.88   \n",
       "1    Agnostic          Middle Africa             500.00               0.00   \n",
       "2    Agnostic        Northern Africa             100.00              16.67   \n",
       "32    Atheist       Northern America             500.00             383.33   \n",
       "86     Muslim        Northern Europe             262.50              89.66   \n",
       "20   Agnostic              Polynesia             266.67               4.55   \n",
       "15   Agnostic          South America             158.33              12.90   \n",
       "51  Christian     South-central Asia              14.29               0.00   \n",
       "24    Atheist     South-eastern Asia             120.00              -9.09   \n",
       "3    Agnostic        Southern Africa             700.00               0.00   \n",
       "87     Muslim        Southern Europe             106.25              13.64   \n",
       "4    Agnostic         Western Africa             200.00               0.00   \n",
       "84     Muslim           Western Asia               7.64               0.45   \n",
       "88     Muslim         Western Europe             408.33              19.67   \n",
       "\n",
       "    1970-2020 %Change  \n",
       "41            3000.00  \n",
       "58               7.54  \n",
       "14             107.69  \n",
       "0              100.00  \n",
       "50             600.00  \n",
       "85              54.76  \n",
       "18             200.00  \n",
       "43            1500.00  \n",
       "1              500.00  \n",
       "2              133.33  \n",
       "32            2800.00  \n",
       "86             587.50  \n",
       "20             283.33  \n",
       "15             191.67  \n",
       "51              14.29  \n",
       "24             100.00  \n",
       "3              700.00  \n",
       "87             134.37  \n",
       "4              200.00  \n",
       "84               8.12  \n",
       "88             508.33  "
      ]
     },
     "execution_count": 165,
     "metadata": {},
     "output_type": "execute_result"
    }
   ],
   "source": [
    "pc_unregion.loc[pc_unregion.groupby('Region')['1970-2020 %Change'].idxmax()]"
   ]
  },
  {
   "cell_type": "code",
   "execution_count": 166,
   "id": "221fcc34-245b-4733-99f0-b2e9ea405f59",
   "metadata": {},
   "outputs": [
    {
     "data": {
      "text/html": [
       "<div>\n",
       "<style scoped>\n",
       "    .dataframe tbody tr th:only-of-type {\n",
       "        vertical-align: middle;\n",
       "    }\n",
       "\n",
       "    .dataframe tbody tr th {\n",
       "        vertical-align: top;\n",
       "    }\n",
       "\n",
       "    .dataframe thead th {\n",
       "        text-align: right;\n",
       "    }\n",
       "</style>\n",
       "<table border=\"1\" class=\"dataframe\">\n",
       "  <thead>\n",
       "    <tr style=\"text-align: right;\">\n",
       "      <th></th>\n",
       "      <th>Religion</th>\n",
       "      <th>Region</th>\n",
       "      <th>1970-2010 %Change</th>\n",
       "      <th>2010-2020 %Change</th>\n",
       "      <th>1970-2020 %Change</th>\n",
       "    </tr>\n",
       "  </thead>\n",
       "  <tbody>\n",
       "    <tr>\n",
       "      <th>62</th>\n",
       "      <td>Christian</td>\n",
       "      <td>Australia/New Zealand</td>\n",
       "      <td>-24.12</td>\n",
       "      <td>-19.63</td>\n",
       "      <td>-39.01</td>\n",
       "    </tr>\n",
       "    <tr>\n",
       "      <th>13</th>\n",
       "      <td>Agnostic</td>\n",
       "      <td>Caribbean</td>\n",
       "      <td>-38.53</td>\n",
       "      <td>-4.48</td>\n",
       "      <td>-41.28</td>\n",
       "    </tr>\n",
       "    <tr>\n",
       "      <th>59</th>\n",
       "      <td>Christian</td>\n",
       "      <td>Central America</td>\n",
       "      <td>-1.74</td>\n",
       "      <td>-0.21</td>\n",
       "      <td>-1.95</td>\n",
       "    </tr>\n",
       "    <tr>\n",
       "      <th>66</th>\n",
       "      <td>Hindu</td>\n",
       "      <td>Eastern Africa</td>\n",
       "      <td>0.00</td>\n",
       "      <td>-20.00</td>\n",
       "      <td>-20.00</td>\n",
       "    </tr>\n",
       "    <tr>\n",
       "      <th>22</th>\n",
       "      <td>Atheist</td>\n",
       "      <td>Eastern Asia</td>\n",
       "      <td>-32.32</td>\n",
       "      <td>-4.48</td>\n",
       "      <td>-35.35</td>\n",
       "    </tr>\n",
       "    <tr>\n",
       "      <th>26</th>\n",
       "      <td>Atheist</td>\n",
       "      <td>Eastern Europe</td>\n",
       "      <td>-90.18</td>\n",
       "      <td>-25.00</td>\n",
       "      <td>-92.64</td>\n",
       "    </tr>\n",
       "    <tr>\n",
       "      <th>75</th>\n",
       "      <td>Hindu</td>\n",
       "      <td>Melanesia</td>\n",
       "      <td>-48.08</td>\n",
       "      <td>-18.52</td>\n",
       "      <td>-57.69</td>\n",
       "    </tr>\n",
       "    <tr>\n",
       "      <th>64</th>\n",
       "      <td>Christian</td>\n",
       "      <td>Micronesia</td>\n",
       "      <td>-2.72</td>\n",
       "      <td>0.00</td>\n",
       "      <td>-2.72</td>\n",
       "    </tr>\n",
       "    <tr>\n",
       "      <th>77</th>\n",
       "      <td>Muslim</td>\n",
       "      <td>Middle Africa</td>\n",
       "      <td>12.79</td>\n",
       "      <td>-1.03</td>\n",
       "      <td>11.63</td>\n",
       "    </tr>\n",
       "    <tr>\n",
       "      <th>47</th>\n",
       "      <td>Christian</td>\n",
       "      <td>Northern Africa</td>\n",
       "      <td>25.00</td>\n",
       "      <td>-41.25</td>\n",
       "      <td>-26.56</td>\n",
       "    </tr>\n",
       "    <tr>\n",
       "      <th>61</th>\n",
       "      <td>Christian</td>\n",
       "      <td>Northern America</td>\n",
       "      <td>-13.60</td>\n",
       "      <td>-7.23</td>\n",
       "      <td>-19.85</td>\n",
       "    </tr>\n",
       "    <tr>\n",
       "      <th>55</th>\n",
       "      <td>Christian</td>\n",
       "      <td>Northern Europe</td>\n",
       "      <td>-13.43</td>\n",
       "      <td>-5.75</td>\n",
       "      <td>-18.40</td>\n",
       "    </tr>\n",
       "    <tr>\n",
       "      <th>65</th>\n",
       "      <td>Christian</td>\n",
       "      <td>Polynesia</td>\n",
       "      <td>-2.04</td>\n",
       "      <td>0.00</td>\n",
       "      <td>-2.04</td>\n",
       "    </tr>\n",
       "    <tr>\n",
       "      <th>72</th>\n",
       "      <td>Hindu</td>\n",
       "      <td>South America</td>\n",
       "      <td>-50.00</td>\n",
       "      <td>0.00</td>\n",
       "      <td>-50.00</td>\n",
       "    </tr>\n",
       "    <tr>\n",
       "      <th>6</th>\n",
       "      <td>Agnostic</td>\n",
       "      <td>South-central Asia</td>\n",
       "      <td>-33.33</td>\n",
       "      <td>-90.00</td>\n",
       "      <td>-93.33</td>\n",
       "    </tr>\n",
       "    <tr>\n",
       "      <th>37</th>\n",
       "      <td>Buddhist</td>\n",
       "      <td>South-eastern Asia</td>\n",
       "      <td>-14.92</td>\n",
       "      <td>-4.10</td>\n",
       "      <td>-18.41</td>\n",
       "    </tr>\n",
       "    <tr>\n",
       "      <th>48</th>\n",
       "      <td>Christian</td>\n",
       "      <td>Southern Africa</td>\n",
       "      <td>9.14</td>\n",
       "      <td>-0.24</td>\n",
       "      <td>8.87</td>\n",
       "    </tr>\n",
       "    <tr>\n",
       "      <th>28</th>\n",
       "      <td>Atheist</td>\n",
       "      <td>Southern Europe</td>\n",
       "      <td>-8.70</td>\n",
       "      <td>0.00</td>\n",
       "      <td>-8.70</td>\n",
       "    </tr>\n",
       "    <tr>\n",
       "      <th>80</th>\n",
       "      <td>Muslim</td>\n",
       "      <td>Western Africa</td>\n",
       "      <td>15.91</td>\n",
       "      <td>1.76</td>\n",
       "      <td>17.95</td>\n",
       "    </tr>\n",
       "    <tr>\n",
       "      <th>25</th>\n",
       "      <td>Atheist</td>\n",
       "      <td>Western Asia</td>\n",
       "      <td>-95.83</td>\n",
       "      <td>0.00</td>\n",
       "      <td>-95.83</td>\n",
       "    </tr>\n",
       "    <tr>\n",
       "      <th>57</th>\n",
       "      <td>Christian</td>\n",
       "      <td>Western Europe</td>\n",
       "      <td>-22.21</td>\n",
       "      <td>-4.64</td>\n",
       "      <td>-25.82</td>\n",
       "    </tr>\n",
       "  </tbody>\n",
       "</table>\n",
       "</div>"
      ],
      "text/plain": [
       "     Religion                 Region  1970-2010 %Change  2010-2020 %Change  \\\n",
       "62  Christian  Australia/New Zealand             -24.12             -19.63   \n",
       "13   Agnostic              Caribbean             -38.53              -4.48   \n",
       "59  Christian        Central America              -1.74              -0.21   \n",
       "66      Hindu         Eastern Africa               0.00             -20.00   \n",
       "22    Atheist           Eastern Asia             -32.32              -4.48   \n",
       "26    Atheist         Eastern Europe             -90.18             -25.00   \n",
       "75      Hindu              Melanesia             -48.08             -18.52   \n",
       "64  Christian             Micronesia              -2.72               0.00   \n",
       "77     Muslim          Middle Africa              12.79              -1.03   \n",
       "47  Christian        Northern Africa              25.00             -41.25   \n",
       "61  Christian       Northern America             -13.60              -7.23   \n",
       "55  Christian        Northern Europe             -13.43              -5.75   \n",
       "65  Christian              Polynesia              -2.04               0.00   \n",
       "72      Hindu          South America             -50.00               0.00   \n",
       "6    Agnostic     South-central Asia             -33.33             -90.00   \n",
       "37   Buddhist     South-eastern Asia             -14.92              -4.10   \n",
       "48  Christian        Southern Africa               9.14              -0.24   \n",
       "28    Atheist        Southern Europe              -8.70               0.00   \n",
       "80     Muslim         Western Africa              15.91               1.76   \n",
       "25    Atheist           Western Asia             -95.83               0.00   \n",
       "57  Christian         Western Europe             -22.21              -4.64   \n",
       "\n",
       "    1970-2020 %Change  \n",
       "62             -39.01  \n",
       "13             -41.28  \n",
       "59              -1.95  \n",
       "66             -20.00  \n",
       "22             -35.35  \n",
       "26             -92.64  \n",
       "75             -57.69  \n",
       "64              -2.72  \n",
       "77              11.63  \n",
       "47             -26.56  \n",
       "61             -19.85  \n",
       "55             -18.40  \n",
       "65              -2.04  \n",
       "72             -50.00  \n",
       "6              -93.33  \n",
       "37             -18.41  \n",
       "48               8.87  \n",
       "28              -8.70  \n",
       "80              17.95  \n",
       "25             -95.83  \n",
       "57             -25.82  "
      ]
     },
     "execution_count": 166,
     "metadata": {},
     "output_type": "execute_result"
    }
   ],
   "source": [
    "pc_unregion.loc[pc_unregion.groupby('Region')['1970-2020 %Change'].idxmin()]"
   ]
  },
  {
   "cell_type": "markdown",
   "id": "8a536657-c652-4360-a8db-68e8262fb66d",
   "metadata": {},
   "source": [
    "# % Change UN Indicators: World Level (1970-2010)"
   ]
  },
  {
   "cell_type": "code",
   "execution_count": 168,
   "id": "e79085c2-6ee3-4f47-b22b-2eb7d8273aad",
   "metadata": {},
   "outputs": [],
   "source": [
    "un_world_70_10=un_world.loc[un_world['Time'].between(1970,2010)]"
   ]
  },
  {
   "cell_type": "code",
   "execution_count": 169,
   "id": "1df792e4-84b2-416a-bd7e-68d83c18ac52",
   "metadata": {},
   "outputs": [],
   "source": [
    "un_world_70_10=un_world_70_10.transpose().reset_index()"
   ]
  },
  {
   "cell_type": "code",
   "execution_count": 170,
   "id": "09480653-e4aa-4586-90d4-2ef662de2931",
   "metadata": {},
   "outputs": [],
   "source": [
    "un_world_70_10=un_world_70_10[['index',35588, 35628]]"
   ]
  },
  {
   "cell_type": "code",
   "execution_count": 171,
   "id": "085986c5-e55c-466e-8b4c-8cf4ba9eb624",
   "metadata": {},
   "outputs": [],
   "source": [
    "un_world_70_10['Year']='1970-2010'"
   ]
  },
  {
   "cell_type": "code",
   "execution_count": 172,
   "id": "11903c67-05a5-452d-99e2-3d2734e25ed0",
   "metadata": {},
   "outputs": [],
   "source": [
    "un_world_70_10['Region']='World'"
   ]
  },
  {
   "cell_type": "code",
   "execution_count": 173,
   "id": "d243d45f-4f1a-4ff8-a3d3-509aeb2ef162",
   "metadata": {},
   "outputs": [],
   "source": [
    "un_world_70_10=un_world_70_10.rename(columns={'index':'Indicators'})"
   ]
  },
  {
   "cell_type": "code",
   "execution_count": 174,
   "id": "f47fe228-460c-48d6-9ab9-4b828317c521",
   "metadata": {},
   "outputs": [],
   "source": [
    "drop_list=[0,1,2,3,8]"
   ]
  },
  {
   "cell_type": "code",
   "execution_count": 175,
   "id": "3ddb29ec-6c4a-4871-b7ed-c83a77d4591e",
   "metadata": {},
   "outputs": [],
   "source": [
    "un_world_70_10=un_world_70_10.drop(drop_list)"
   ]
  },
  {
   "cell_type": "code",
   "execution_count": 176,
   "id": "8470d145-b208-4f34-b5a5-058a07f28609",
   "metadata": {},
   "outputs": [],
   "source": [
    "un_world_70_10['Percent Change']=((un_world_70_10[35628]-un_world_70_10[35588])/un_world_70_10[35588]*100)"
   ]
  },
  {
   "cell_type": "code",
   "execution_count": 177,
   "id": "155ea2f2-54d1-404a-aadf-0e6c993f27e3",
   "metadata": {},
   "outputs": [],
   "source": [
    "un_world_70_10=un_world_70_10[['Indicators','Region','Year', 'Percent Change']]"
   ]
  },
  {
   "cell_type": "markdown",
   "id": "3a89657c-6e84-4839-b5c3-3ec8284f1a99",
   "metadata": {},
   "source": [
    "# % Change UN Indicators: World Level (1970-2010)"
   ]
  },
  {
   "cell_type": "code",
   "execution_count": 179,
   "id": "67643fea-8034-4b7d-b566-3896302f3814",
   "metadata": {},
   "outputs": [],
   "source": [
    "un_world_10_20=un_world.loc[un_world['Time'].between(2010,2020)]"
   ]
  },
  {
   "cell_type": "code",
   "execution_count": 180,
   "id": "8023b849-7e5e-4c62-a146-e22cac0a0c62",
   "metadata": {},
   "outputs": [],
   "source": [
    "un_world_10_20=un_world_10_20.transpose().reset_index()"
   ]
  },
  {
   "cell_type": "code",
   "execution_count": 181,
   "id": "0d4605ba-ba27-4d0b-b9e1-97ee36964592",
   "metadata": {},
   "outputs": [],
   "source": [
    "un_world_10_20=un_world_10_20[['index',35628, 35638]]"
   ]
  },
  {
   "cell_type": "code",
   "execution_count": 182,
   "id": "02b170fc-ed5f-47a9-9e5f-ae0361526b40",
   "metadata": {},
   "outputs": [],
   "source": [
    "un_world_10_20['Year']='2010-2020'"
   ]
  },
  {
   "cell_type": "code",
   "execution_count": 183,
   "id": "dc127260-5604-4235-9292-e3218b1b23bb",
   "metadata": {},
   "outputs": [],
   "source": [
    "un_world_10_20['Region']='World'"
   ]
  },
  {
   "cell_type": "code",
   "execution_count": 184,
   "id": "210492ce-4e87-4303-94d4-052cb88c7ce7",
   "metadata": {},
   "outputs": [],
   "source": [
    "un_world_10_20=un_world_10_20.rename(columns={'index':'Indicators'})"
   ]
  },
  {
   "cell_type": "code",
   "execution_count": 185,
   "id": "9242ceaf-eef2-4ce6-8017-d44e53e86aa8",
   "metadata": {},
   "outputs": [],
   "source": [
    "drop_list=[0,1,2,3,8]"
   ]
  },
  {
   "cell_type": "code",
   "execution_count": 186,
   "id": "2ad1ffac-445a-4059-89bf-6b0b7d838290",
   "metadata": {},
   "outputs": [],
   "source": [
    "un_world_10_20=un_world_10_20.drop(drop_list)"
   ]
  },
  {
   "cell_type": "code",
   "execution_count": 187,
   "id": "a3633bc1-a68c-46c1-a0c1-0fa54b04ee08",
   "metadata": {},
   "outputs": [],
   "source": [
    "un_world_10_20['Percent Change']=((un_world_10_20[35638]-un_world_10_20[35628])/un_world_10_20[35628]*100)"
   ]
  },
  {
   "cell_type": "code",
   "execution_count": 188,
   "id": "dc8effe3-aefe-467f-bb5e-2150f56b2550",
   "metadata": {},
   "outputs": [],
   "source": [
    "un_world_10_20=un_world_10_20[['Indicators','Region','Year', 'Percent Change']]"
   ]
  },
  {
   "cell_type": "markdown",
   "id": "d33d9337-8edb-4353-8949-61cb601ca4b5",
   "metadata": {},
   "source": [
    "# % Change UN Indicators: World Level (1970-2010)"
   ]
  },
  {
   "cell_type": "code",
   "execution_count": 190,
   "id": "78fc1b62-f6bd-4d8e-88f9-8d3f9535cb5a",
   "metadata": {},
   "outputs": [],
   "source": [
    "list11=[1970,2020]"
   ]
  },
  {
   "cell_type": "code",
   "execution_count": 191,
   "id": "3c21f086-aed5-448a-be1b-63183a70433b",
   "metadata": {},
   "outputs": [],
   "source": [
    "un_world_70_20=un_world.loc[un_world['Time'].isin(list11)]"
   ]
  },
  {
   "cell_type": "code",
   "execution_count": 192,
   "id": "0020bc3e-73d0-4d95-b729-9f8587413c0a",
   "metadata": {},
   "outputs": [],
   "source": [
    "un_world_70_20=un_world_70_20.transpose().reset_index()"
   ]
  },
  {
   "cell_type": "code",
   "execution_count": 193,
   "id": "cf586037-7d7a-4e48-8acb-8568ad6a0fc8",
   "metadata": {},
   "outputs": [],
   "source": [
    "un_world_70_20=un_world_70_20[['index',35588, 35638]]"
   ]
  },
  {
   "cell_type": "code",
   "execution_count": 194,
   "id": "64c7f3d0-09ed-4d56-956d-cfc942c91824",
   "metadata": {},
   "outputs": [],
   "source": [
    "un_world_70_20['Year']='1970-2020'"
   ]
  },
  {
   "cell_type": "code",
   "execution_count": 195,
   "id": "99913b22-c347-4ebb-8413-e145137d4ffa",
   "metadata": {},
   "outputs": [],
   "source": [
    "un_world_70_20['Region']='World'"
   ]
  },
  {
   "cell_type": "code",
   "execution_count": 196,
   "id": "6cbd4f42-92cf-4003-a8cb-867fe3f46956",
   "metadata": {},
   "outputs": [],
   "source": [
    "un_world_70_20=un_world_70_20.rename(columns={'index':'Indicators'})"
   ]
  },
  {
   "cell_type": "code",
   "execution_count": 197,
   "id": "7a9cb5cd-2993-4cb8-86ed-cbc2184c6662",
   "metadata": {},
   "outputs": [],
   "source": [
    "drop_list=[0,1,2,3,8]"
   ]
  },
  {
   "cell_type": "code",
   "execution_count": 198,
   "id": "b393ce9d-e537-4174-aa63-6d389bfe257a",
   "metadata": {},
   "outputs": [],
   "source": [
    "un_world_70_20=un_world_70_20.drop(drop_list)"
   ]
  },
  {
   "cell_type": "code",
   "execution_count": 199,
   "id": "666bd8c6-7345-49e3-b47d-107973761a9e",
   "metadata": {},
   "outputs": [],
   "source": [
    "un_world_70_20['Percent Change']=((un_world_70_20[35638]-un_world_70_20[35588])/un_world_70_20[35588]*100)"
   ]
  },
  {
   "cell_type": "code",
   "execution_count": 200,
   "id": "b84d2e16-ce38-4e81-8f4b-63be99dcbd07",
   "metadata": {},
   "outputs": [],
   "source": [
    "un_world_70_20=un_world_70_20[['Indicators','Region','Year', 'Percent Change']]"
   ]
  },
  {
   "cell_type": "markdown",
   "id": "5d860a9f-5e19-4786-b945-178bc4dc816c",
   "metadata": {},
   "source": [
    "# % Change UN Indicators: Continent Level (1970-2010)"
   ]
  },
  {
   "cell_type": "code",
   "execution_count": 202,
   "id": "6399c2b2-219c-4c60-a295-cb64eb61b53c",
   "metadata": {},
   "outputs": [
    {
     "data": {
      "text/html": [
       "<div>\n",
       "<style scoped>\n",
       "    .dataframe tbody tr th:only-of-type {\n",
       "        vertical-align: middle;\n",
       "    }\n",
       "\n",
       "    .dataframe tbody tr th {\n",
       "        vertical-align: top;\n",
       "    }\n",
       "\n",
       "    .dataframe thead th {\n",
       "        text-align: right;\n",
       "    }\n",
       "</style>\n",
       "<table border=\"1\" class=\"dataframe\">\n",
       "  <thead>\n",
       "    <tr style=\"text-align: right;\">\n",
       "      <th></th>\n",
       "      <th>index</th>\n",
       "      <th>Time</th>\n",
       "      <th>Location</th>\n",
       "      <th>LocTypeName</th>\n",
       "      <th>ISO3_code</th>\n",
       "      <th>Births</th>\n",
       "      <th>CBR</th>\n",
       "      <th>TFR</th>\n",
       "      <th>NRR</th>\n",
       "      <th>PopGrowthRate</th>\n",
       "      <th>Population</th>\n",
       "    </tr>\n",
       "  </thead>\n",
       "  <tbody>\n",
       "    <tr>\n",
       "      <th>0</th>\n",
       "      <td>0</td>\n",
       "      <td>1950</td>\n",
       "      <td>Africa</td>\n",
       "      <td>Geographic region</td>\n",
       "      <td>NaN</td>\n",
       "      <td>10878.554</td>\n",
       "      <td>47.760</td>\n",
       "      <td>6.5162</td>\n",
       "      <td>1.8138</td>\n",
       "      <td>2.052</td>\n",
       "      <td>225440.040</td>\n",
       "    </tr>\n",
       "    <tr>\n",
       "      <th>1</th>\n",
       "      <td>1</td>\n",
       "      <td>1951</td>\n",
       "      <td>Africa</td>\n",
       "      <td>Geographic region</td>\n",
       "      <td>NaN</td>\n",
       "      <td>11138.514</td>\n",
       "      <td>47.896</td>\n",
       "      <td>6.5296</td>\n",
       "      <td>1.8404</td>\n",
       "      <td>2.102</td>\n",
       "      <td>230112.798</td>\n",
       "    </tr>\n",
       "    <tr>\n",
       "      <th>2</th>\n",
       "      <td>2</td>\n",
       "      <td>1952</td>\n",
       "      <td>Africa</td>\n",
       "      <td>Geographic region</td>\n",
       "      <td>NaN</td>\n",
       "      <td>11398.576</td>\n",
       "      <td>47.986</td>\n",
       "      <td>6.5411</td>\n",
       "      <td>1.8647</td>\n",
       "      <td>2.137</td>\n",
       "      <td>235001.139</td>\n",
       "    </tr>\n",
       "    <tr>\n",
       "      <th>3</th>\n",
       "      <td>3</td>\n",
       "      <td>1953</td>\n",
       "      <td>Africa</td>\n",
       "      <td>Geographic region</td>\n",
       "      <td>NaN</td>\n",
       "      <td>11669.182</td>\n",
       "      <td>48.084</td>\n",
       "      <td>6.5584</td>\n",
       "      <td>1.8903</td>\n",
       "      <td>2.149</td>\n",
       "      <td>240077.942</td>\n",
       "    </tr>\n",
       "    <tr>\n",
       "      <th>4</th>\n",
       "      <td>4</td>\n",
       "      <td>1954</td>\n",
       "      <td>Africa</td>\n",
       "      <td>Geographic region</td>\n",
       "      <td>NaN</td>\n",
       "      <td>11924.006</td>\n",
       "      <td>48.080</td>\n",
       "      <td>6.5694</td>\n",
       "      <td>1.9134</td>\n",
       "      <td>2.188</td>\n",
       "      <td>245292.210</td>\n",
       "    </tr>\n",
       "    <tr>\n",
       "      <th>...</th>\n",
       "      <td>...</td>\n",
       "      <td>...</td>\n",
       "      <td>...</td>\n",
       "      <td>...</td>\n",
       "      <td>...</td>\n",
       "      <td>...</td>\n",
       "      <td>...</td>\n",
       "      <td>...</td>\n",
       "      <td>...</td>\n",
       "      <td>...</td>\n",
       "      <td>...</td>\n",
       "    </tr>\n",
       "    <tr>\n",
       "      <th>907</th>\n",
       "      <td>907</td>\n",
       "      <td>2097</td>\n",
       "      <td>Latin America</td>\n",
       "      <td>NaN</td>\n",
       "      <td>NaN</td>\n",
       "      <td>14842.506</td>\n",
       "      <td>17.145</td>\n",
       "      <td>3.2903</td>\n",
       "      <td>1.5978</td>\n",
       "      <td>-0.858</td>\n",
       "      <td>1725134.718</td>\n",
       "    </tr>\n",
       "    <tr>\n",
       "      <th>908</th>\n",
       "      <td>908</td>\n",
       "      <td>2098</td>\n",
       "      <td>Latin America</td>\n",
       "      <td>NaN</td>\n",
       "      <td>NaN</td>\n",
       "      <td>14767.885</td>\n",
       "      <td>17.123</td>\n",
       "      <td>3.2887</td>\n",
       "      <td>1.5972</td>\n",
       "      <td>-0.869</td>\n",
       "      <td>1718534.988</td>\n",
       "    </tr>\n",
       "    <tr>\n",
       "      <th>909</th>\n",
       "      <td>909</td>\n",
       "      <td>2099</td>\n",
       "      <td>Latin America</td>\n",
       "      <td>NaN</td>\n",
       "      <td>NaN</td>\n",
       "      <td>14703.652</td>\n",
       "      <td>17.111</td>\n",
       "      <td>3.2893</td>\n",
       "      <td>1.5977</td>\n",
       "      <td>-0.871</td>\n",
       "      <td>1711868.764</td>\n",
       "    </tr>\n",
       "    <tr>\n",
       "      <th>910</th>\n",
       "      <td>910</td>\n",
       "      <td>2100</td>\n",
       "      <td>Latin America</td>\n",
       "      <td>NaN</td>\n",
       "      <td>NaN</td>\n",
       "      <td>14628.260</td>\n",
       "      <td>17.090</td>\n",
       "      <td>3.2877</td>\n",
       "      <td>1.5970</td>\n",
       "      <td>-0.882</td>\n",
       "      <td>1705218.645</td>\n",
       "    </tr>\n",
       "    <tr>\n",
       "      <th>911</th>\n",
       "      <td>911</td>\n",
       "      <td>2101</td>\n",
       "      <td>Latin America</td>\n",
       "      <td>NaN</td>\n",
       "      <td>NaN</td>\n",
       "      <td>NaN</td>\n",
       "      <td>NaN</td>\n",
       "      <td>NaN</td>\n",
       "      <td>NaN</td>\n",
       "      <td>NaN</td>\n",
       "      <td>1698502.295</td>\n",
       "    </tr>\n",
       "  </tbody>\n",
       "</table>\n",
       "<p>912 rows × 11 columns</p>\n",
       "</div>"
      ],
      "text/plain": [
       "     index  Time       Location        LocTypeName ISO3_code     Births  \\\n",
       "0        0  1950         Africa  Geographic region       NaN  10878.554   \n",
       "1        1  1951         Africa  Geographic region       NaN  11138.514   \n",
       "2        2  1952         Africa  Geographic region       NaN  11398.576   \n",
       "3        3  1953         Africa  Geographic region       NaN  11669.182   \n",
       "4        4  1954         Africa  Geographic region       NaN  11924.006   \n",
       "..     ...   ...            ...                ...       ...        ...   \n",
       "907    907  2097  Latin America                NaN       NaN  14842.506   \n",
       "908    908  2098  Latin America                NaN       NaN  14767.885   \n",
       "909    909  2099  Latin America                NaN       NaN  14703.652   \n",
       "910    910  2100  Latin America                NaN       NaN  14628.260   \n",
       "911    911  2101  Latin America                NaN       NaN        NaN   \n",
       "\n",
       "        CBR     TFR     NRR  PopGrowthRate   Population  \n",
       "0    47.760  6.5162  1.8138          2.052   225440.040  \n",
       "1    47.896  6.5296  1.8404          2.102   230112.798  \n",
       "2    47.986  6.5411  1.8647          2.137   235001.139  \n",
       "3    48.084  6.5584  1.8903          2.149   240077.942  \n",
       "4    48.080  6.5694  1.9134          2.188   245292.210  \n",
       "..      ...     ...     ...            ...          ...  \n",
       "907  17.145  3.2903  1.5978         -0.858  1725134.718  \n",
       "908  17.123  3.2887  1.5972         -0.869  1718534.988  \n",
       "909  17.111  3.2893  1.5977         -0.871  1711868.764  \n",
       "910  17.090  3.2877  1.5970         -0.882  1705218.645  \n",
       "911     NaN     NaN     NaN            NaN  1698502.295  \n",
       "\n",
       "[912 rows x 11 columns]"
      ]
     },
     "execution_count": 202,
     "metadata": {},
     "output_type": "execute_result"
    }
   ],
   "source": [
    "un_continent"
   ]
  },
  {
   "cell_type": "code",
   "execution_count": 203,
   "id": "ba53f122-53d4-4292-b71e-d565f7d308fa",
   "metadata": {},
   "outputs": [],
   "source": [
    "list1=[1970,2010]"
   ]
  },
  {
   "cell_type": "code",
   "execution_count": 204,
   "id": "f2b48f31-84d3-472f-8062-52867880c85f",
   "metadata": {},
   "outputs": [],
   "source": [
    "un_continent_70_10=un_continent.loc[un_continent['Time'].isin(list1)]"
   ]
  },
  {
   "cell_type": "code",
   "execution_count": 205,
   "id": "c334d2c7-4831-4a2b-ad96-e8b472c13bdc",
   "metadata": {},
   "outputs": [
    {
     "data": {
      "text/html": [
       "<div>\n",
       "<style scoped>\n",
       "    .dataframe tbody tr th:only-of-type {\n",
       "        vertical-align: middle;\n",
       "    }\n",
       "\n",
       "    .dataframe tbody tr th {\n",
       "        vertical-align: top;\n",
       "    }\n",
       "\n",
       "    .dataframe thead th {\n",
       "        text-align: right;\n",
       "    }\n",
       "</style>\n",
       "<table border=\"1\" class=\"dataframe\">\n",
       "  <thead>\n",
       "    <tr style=\"text-align: right;\">\n",
       "      <th></th>\n",
       "      <th>Indicators</th>\n",
       "      <th>Region</th>\n",
       "      <th>Year</th>\n",
       "      <th>Percent Change</th>\n",
       "    </tr>\n",
       "  </thead>\n",
       "  <tbody>\n",
       "    <tr>\n",
       "      <th>4</th>\n",
       "      <td>Births</td>\n",
       "      <td>World</td>\n",
       "      <td>1970-2010</td>\n",
       "      <td>15.481685</td>\n",
       "    </tr>\n",
       "    <tr>\n",
       "      <th>5</th>\n",
       "      <td>CBR</td>\n",
       "      <td>World</td>\n",
       "      <td>1970-2010</td>\n",
       "      <td>-39.236287</td>\n",
       "    </tr>\n",
       "    <tr>\n",
       "      <th>6</th>\n",
       "      <td>TFR</td>\n",
       "      <td>World</td>\n",
       "      <td>1970-2010</td>\n",
       "      <td>-46.071584</td>\n",
       "    </tr>\n",
       "    <tr>\n",
       "      <th>7</th>\n",
       "      <td>NRR</td>\n",
       "      <td>World</td>\n",
       "      <td>1970-2010</td>\n",
       "      <td>-38.176486</td>\n",
       "    </tr>\n",
       "    <tr>\n",
       "      <th>9</th>\n",
       "      <td>Population</td>\n",
       "      <td>World</td>\n",
       "      <td>1970-2010</td>\n",
       "      <td>90.805751</td>\n",
       "    </tr>\n",
       "  </tbody>\n",
       "</table>\n",
       "</div>"
      ],
      "text/plain": [
       "   Indicators Region       Year Percent Change\n",
       "4      Births  World  1970-2010      15.481685\n",
       "5         CBR  World  1970-2010     -39.236287\n",
       "6         TFR  World  1970-2010     -46.071584\n",
       "7         NRR  World  1970-2010     -38.176486\n",
       "9  Population  World  1970-2010      90.805751"
      ]
     },
     "execution_count": 205,
     "metadata": {},
     "output_type": "execute_result"
    }
   ],
   "source": [
    "un_world_70_10"
   ]
  },
  {
   "cell_type": "code",
   "execution_count": 206,
   "id": "3c99cea1-eb3e-451b-9183-2b6c64b7bab1",
   "metadata": {},
   "outputs": [
    {
     "data": {
      "text/html": [
       "<div>\n",
       "<style scoped>\n",
       "    .dataframe tbody tr th:only-of-type {\n",
       "        vertical-align: middle;\n",
       "    }\n",
       "\n",
       "    .dataframe tbody tr th {\n",
       "        vertical-align: top;\n",
       "    }\n",
       "\n",
       "    .dataframe thead th {\n",
       "        text-align: right;\n",
       "    }\n",
       "</style>\n",
       "<table border=\"1\" class=\"dataframe\">\n",
       "  <thead>\n",
       "    <tr style=\"text-align: right;\">\n",
       "      <th></th>\n",
       "      <th>Time</th>\n",
       "      <th>Location</th>\n",
       "      <th>Births</th>\n",
       "      <th>CBR</th>\n",
       "      <th>TFR</th>\n",
       "      <th>NRR</th>\n",
       "      <th>Population</th>\n",
       "    </tr>\n",
       "  </thead>\n",
       "  <tbody>\n",
       "    <tr>\n",
       "      <th>0</th>\n",
       "      <td>1970</td>\n",
       "      <td>Africa</td>\n",
       "      <td>17149.970</td>\n",
       "      <td>46.915</td>\n",
       "      <td>6.6879</td>\n",
       "      <td>2.2018</td>\n",
       "      <td>360703.245</td>\n",
       "    </tr>\n",
       "    <tr>\n",
       "      <th>1</th>\n",
       "      <td>2010</td>\n",
       "      <td>Africa</td>\n",
       "      <td>39685.493</td>\n",
       "      <td>37.013</td>\n",
       "      <td>4.8905</td>\n",
       "      <td>2.0168</td>\n",
       "      <td>1058249.434</td>\n",
       "    </tr>\n",
       "    <tr>\n",
       "      <th>2</th>\n",
       "      <td>1970</td>\n",
       "      <td>Asia</td>\n",
       "      <td>81210.591</td>\n",
       "      <td>37.992</td>\n",
       "      <td>5.5909</td>\n",
       "      <td>2.1188</td>\n",
       "      <td>2111391.852</td>\n",
       "    </tr>\n",
       "    <tr>\n",
       "      <th>3</th>\n",
       "      <td>2010</td>\n",
       "      <td>Asia</td>\n",
       "      <td>79595.720</td>\n",
       "      <td>18.773</td>\n",
       "      <td>2.3225</td>\n",
       "      <td>1.0404</td>\n",
       "      <td>4215013.658</td>\n",
       "    </tr>\n",
       "    <tr>\n",
       "      <th>4</th>\n",
       "      <td>1970</td>\n",
       "      <td>Europe</td>\n",
       "      <td>10564.868</td>\n",
       "      <td>16.081</td>\n",
       "      <td>2.2826</td>\n",
       "      <td>1.0663</td>\n",
       "      <td>655376.513</td>\n",
       "    </tr>\n",
       "    <tr>\n",
       "      <th>5</th>\n",
       "      <td>2010</td>\n",
       "      <td>Europe</td>\n",
       "      <td>8236.451</td>\n",
       "      <td>11.158</td>\n",
       "      <td>1.6056</td>\n",
       "      <td>0.7693</td>\n",
       "      <td>737549.640</td>\n",
       "    </tr>\n",
       "    <tr>\n",
       "      <th>6</th>\n",
       "      <td>1970</td>\n",
       "      <td>Northern America</td>\n",
       "      <td>4252.364</td>\n",
       "      <td>18.542</td>\n",
       "      <td>2.4912</td>\n",
       "      <td>1.1731</td>\n",
       "      <td>227745.746</td>\n",
       "    </tr>\n",
       "    <tr>\n",
       "      <th>7</th>\n",
       "      <td>2010</td>\n",
       "      <td>Northern America</td>\n",
       "      <td>4358.462</td>\n",
       "      <td>12.619</td>\n",
       "      <td>1.8899</td>\n",
       "      <td>0.9101</td>\n",
       "      <td>343670.804</td>\n",
       "    </tr>\n",
       "    <tr>\n",
       "      <th>8</th>\n",
       "      <td>1970</td>\n",
       "      <td>Oceania</td>\n",
       "      <td>488.869</td>\n",
       "      <td>25.078</td>\n",
       "      <td>3.5659</td>\n",
       "      <td>1.6008</td>\n",
       "      <td>19223.115</td>\n",
       "    </tr>\n",
       "    <tr>\n",
       "      <th>9</th>\n",
       "      <td>2010</td>\n",
       "      <td>Oceania</td>\n",
       "      <td>678.428</td>\n",
       "      <td>18.211</td>\n",
       "      <td>2.5235</td>\n",
       "      <td>1.1729</td>\n",
       "      <td>36937.684</td>\n",
       "    </tr>\n",
       "    <tr>\n",
       "      <th>10</th>\n",
       "      <td>1970</td>\n",
       "      <td>Latin America</td>\n",
       "      <td>25190.854</td>\n",
       "      <td>65.220</td>\n",
       "      <td>9.1316</td>\n",
       "      <td>3.8300</td>\n",
       "      <td>792259.926</td>\n",
       "    </tr>\n",
       "    <tr>\n",
       "      <th>11</th>\n",
       "      <td>2010</td>\n",
       "      <td>Latin America</td>\n",
       "      <td>25957.828</td>\n",
       "      <td>34.562</td>\n",
       "      <td>4.2743</td>\n",
       "      <td>2.0197</td>\n",
       "      <td>1515206.838</td>\n",
       "    </tr>\n",
       "  </tbody>\n",
       "</table>\n",
       "</div>"
      ],
      "text/plain": [
       "    Time          Location     Births     CBR     TFR     NRR   Population\n",
       "0   1970            Africa  17149.970  46.915  6.6879  2.2018   360703.245\n",
       "1   2010            Africa  39685.493  37.013  4.8905  2.0168  1058249.434\n",
       "2   1970              Asia  81210.591  37.992  5.5909  2.1188  2111391.852\n",
       "3   2010              Asia  79595.720  18.773  2.3225  1.0404  4215013.658\n",
       "4   1970            Europe  10564.868  16.081  2.2826  1.0663   655376.513\n",
       "5   2010            Europe   8236.451  11.158  1.6056  0.7693   737549.640\n",
       "6   1970  Northern America   4252.364  18.542  2.4912  1.1731   227745.746\n",
       "7   2010  Northern America   4358.462  12.619  1.8899  0.9101   343670.804\n",
       "8   1970           Oceania    488.869  25.078  3.5659  1.6008    19223.115\n",
       "9   2010           Oceania    678.428  18.211  2.5235  1.1729    36937.684\n",
       "10  1970     Latin America  25190.854  65.220  9.1316  3.8300   792259.926\n",
       "11  2010     Latin America  25957.828  34.562  4.2743  2.0197  1515206.838"
      ]
     },
     "execution_count": 206,
     "metadata": {},
     "output_type": "execute_result"
    }
   ],
   "source": [
    "un_continent_70_10=un_continent_70_10.drop(columns={'LocTypeName','ISO3_code', 'index', 'PopGrowthRate'}).reset_index(drop=True)\n",
    "un_continent_70_10"
   ]
  },
  {
   "cell_type": "code",
   "execution_count": 207,
   "id": "5377e954-c061-4441-b862-bdcbadf17a96",
   "metadata": {},
   "outputs": [],
   "source": [
    "un_continent_70_10_africa = un_continent_70_10.loc[un_continent_70_10['Location']=='Africa'].transpose().reset_index().rename(columns={'index':'Indicators'}).drop([0,1])"
   ]
  },
  {
   "cell_type": "code",
   "execution_count": 208,
   "id": "05d932ea-0243-4007-85c4-cd480ba7b65f",
   "metadata": {},
   "outputs": [],
   "source": [
    "un_continent_70_10_africa['Percent Change']=((un_continent_70_10_africa[1]-un_continent_70_10_africa[0])/un_continent_70_10_africa[0]*100)"
   ]
  },
  {
   "cell_type": "code",
   "execution_count": 209,
   "id": "f7222fcb-33d8-460f-bb9d-1440fc451bc8",
   "metadata": {},
   "outputs": [],
   "source": [
    "un_continent_70_10_africa['Year']='1970-2010'"
   ]
  },
  {
   "cell_type": "code",
   "execution_count": 210,
   "id": "121603b9-bc0d-4b5b-a179-b27e68e18385",
   "metadata": {},
   "outputs": [],
   "source": [
    "un_continent_70_10_africa['Region']='Africa'"
   ]
  },
  {
   "cell_type": "code",
   "execution_count": 211,
   "id": "a29a7d1e-ddd6-4470-a6e4-2faec18ecd73",
   "metadata": {},
   "outputs": [],
   "source": [
    "un_continent_70_10_africa=un_continent_70_10_africa[['Indicators','Region','Year', 'Percent Change']]"
   ]
  },
  {
   "cell_type": "code",
   "execution_count": 212,
   "id": "ba3eee52-c165-4881-bf58-e6eb1aa668e6",
   "metadata": {},
   "outputs": [],
   "source": [
    "un_continent_70_10_asia = un_continent_70_10.loc[un_continent_70_10['Location']=='Asia'].transpose().reset_index().rename(columns={'index':'Indicators'}).drop([0,1])"
   ]
  },
  {
   "cell_type": "code",
   "execution_count": 213,
   "id": "88b9b154-53e3-4b9a-be80-d10392922fef",
   "metadata": {},
   "outputs": [],
   "source": [
    "un_continent_70_10_asia['Percent Change']=((un_continent_70_10_asia[3]-un_continent_70_10_asia[2])/un_continent_70_10_asia[2]*100)"
   ]
  },
  {
   "cell_type": "code",
   "execution_count": 214,
   "id": "569c9712-5a52-4457-9ec1-9c01aa553ef4",
   "metadata": {},
   "outputs": [],
   "source": [
    "un_continent_70_10_asia['Year']='1970-2010'"
   ]
  },
  {
   "cell_type": "code",
   "execution_count": 215,
   "id": "d024189d-3498-4fa9-98af-b1a96ea1964f",
   "metadata": {},
   "outputs": [],
   "source": [
    "un_continent_70_10_asia['Region']='Asia'"
   ]
  },
  {
   "cell_type": "code",
   "execution_count": 216,
   "id": "db1450c8-c3ed-4e43-8ae7-0845d1b807a5",
   "metadata": {},
   "outputs": [],
   "source": [
    "un_continent_70_10_asia=un_continent_70_10_asia[['Indicators','Region','Year', 'Percent Change']]"
   ]
  },
  {
   "cell_type": "code",
   "execution_count": 217,
   "id": "4e5750bf-cff5-46be-a99d-49d89477fc56",
   "metadata": {},
   "outputs": [],
   "source": [
    "un_continent_70_10_europe = un_continent_70_10.loc[un_continent_70_10['Location']=='Europe'].transpose().reset_index().rename(columns={'index':'Indicators'}).drop([0,1])"
   ]
  },
  {
   "cell_type": "code",
   "execution_count": 218,
   "id": "6f1e785d-2416-4e3b-9f82-715e713173eb",
   "metadata": {},
   "outputs": [],
   "source": [
    "un_continent_70_10_europe['Percent Change']=((un_continent_70_10_europe[5]-un_continent_70_10_europe[4])/un_continent_70_10_europe[4]*100)"
   ]
  },
  {
   "cell_type": "code",
   "execution_count": 219,
   "id": "32ff188c-3dad-496b-b63a-defcbdad0ffa",
   "metadata": {},
   "outputs": [],
   "source": [
    "un_continent_70_10_europe['Year']='1970-2010'"
   ]
  },
  {
   "cell_type": "code",
   "execution_count": 220,
   "id": "63867d7d-3557-414c-80d8-6e4459b45357",
   "metadata": {},
   "outputs": [],
   "source": [
    "un_continent_70_10_europe['Region']='Europe'"
   ]
  },
  {
   "cell_type": "code",
   "execution_count": 221,
   "id": "7b88887a-5fcf-4c39-9b05-55ac0d8748e2",
   "metadata": {},
   "outputs": [],
   "source": [
    "un_continent_70_10_europe=un_continent_70_10_europe[['Indicators','Region','Year', 'Percent Change']]"
   ]
  },
  {
   "cell_type": "code",
   "execution_count": 222,
   "id": "ca6b23cb-1b59-4077-b0ab-058e48bb65d6",
   "metadata": {},
   "outputs": [],
   "source": [
    "un_continent_70_10_northern_america = un_continent_70_10.loc[un_continent_70_10['Location']=='Northern America'].transpose().reset_index().rename(columns={'index':'Indicators'}).drop([0,1])"
   ]
  },
  {
   "cell_type": "code",
   "execution_count": 223,
   "id": "66f2a9ad-104b-44d4-a9ed-9f574f3b85a3",
   "metadata": {},
   "outputs": [],
   "source": [
    "un_continent_70_10_northern_america['Percent Change']=((un_continent_70_10_northern_america[7]-un_continent_70_10_northern_america[6])/un_continent_70_10_northern_america[6]*100)"
   ]
  },
  {
   "cell_type": "code",
   "execution_count": 224,
   "id": "d45179dd-f803-45d9-809a-5b7a70990345",
   "metadata": {},
   "outputs": [],
   "source": [
    "un_continent_70_10_northern_america['Year']='1970-2010'"
   ]
  },
  {
   "cell_type": "code",
   "execution_count": 225,
   "id": "98e63041-0200-4817-b494-0c0f1c91e227",
   "metadata": {},
   "outputs": [],
   "source": [
    "un_continent_70_10_northern_america['Region']='Northern America'"
   ]
  },
  {
   "cell_type": "code",
   "execution_count": 226,
   "id": "d7aa33ad-8d9f-4e74-8cd7-f6641bb7ee9f",
   "metadata": {},
   "outputs": [],
   "source": [
    "un_continent_70_10_northern_america=un_continent_70_10_northern_america[['Indicators','Region','Year', 'Percent Change']]"
   ]
  },
  {
   "cell_type": "code",
   "execution_count": 227,
   "id": "b8ec95ae-4f3a-4fc9-9dee-f2a60f15a833",
   "metadata": {},
   "outputs": [],
   "source": [
    "un_continent_70_10_oceania = un_continent_70_10.loc[un_continent_70_10['Location']=='Oceania'].transpose().reset_index().rename(columns={'index':'Indicators'}).drop([0,1])"
   ]
  },
  {
   "cell_type": "code",
   "execution_count": 228,
   "id": "d43780b7-4c89-4b69-b5ee-29ad00f960fd",
   "metadata": {},
   "outputs": [],
   "source": [
    "un_continent_70_10_oceania['Percent Change']=((un_continent_70_10_oceania[9]-un_continent_70_10_oceania[8])/un_continent_70_10_oceania[8]*100)"
   ]
  },
  {
   "cell_type": "code",
   "execution_count": 229,
   "id": "85b7df24-a7bf-4c94-8243-90072f786965",
   "metadata": {},
   "outputs": [],
   "source": [
    "un_continent_70_10_oceania['Year']='1970-2010'"
   ]
  },
  {
   "cell_type": "code",
   "execution_count": 230,
   "id": "811d0e4e-02d3-45a1-a604-0e2700c17729",
   "metadata": {},
   "outputs": [],
   "source": [
    "un_continent_70_10_oceania['Region']='Oceania'"
   ]
  },
  {
   "cell_type": "code",
   "execution_count": 231,
   "id": "34b26126-2941-4d73-9272-96ce7971f571",
   "metadata": {},
   "outputs": [],
   "source": [
    "un_continent_70_10_oceania=un_continent_70_10_oceania[['Indicators','Region','Year', 'Percent Change']]"
   ]
  },
  {
   "cell_type": "code",
   "execution_count": 232,
   "id": "afb7828f-f18e-4b11-a178-f671b0e91d54",
   "metadata": {},
   "outputs": [],
   "source": [
    "un_continent_70_10_latin_america = un_continent_70_10.loc[un_continent_70_10['Location']=='Latin America'].transpose().reset_index().rename(columns={'index':'Indicators'}).drop([0,1])"
   ]
  },
  {
   "cell_type": "code",
   "execution_count": 233,
   "id": "364587ce-8a89-4953-b63e-969d2dce5bda",
   "metadata": {},
   "outputs": [],
   "source": [
    "un_continent_70_10_latin_america['Percent Change']=((un_continent_70_10_latin_america[11]-un_continent_70_10_latin_america[10])/un_continent_70_10_latin_america[10]*100)"
   ]
  },
  {
   "cell_type": "code",
   "execution_count": 234,
   "id": "e737c7f6-15da-4ec7-a528-7a71003a88d3",
   "metadata": {},
   "outputs": [],
   "source": [
    "un_continent_70_10_latin_america['Year']='1970-2010'"
   ]
  },
  {
   "cell_type": "code",
   "execution_count": 235,
   "id": "a16fc939-32d1-43e1-b8e3-082ba3fb9463",
   "metadata": {},
   "outputs": [],
   "source": [
    "un_continent_70_10_latin_america['Region']='Latin America'"
   ]
  },
  {
   "cell_type": "code",
   "execution_count": 236,
   "id": "df20cd83-0aef-4dcf-ad40-c0a90d771988",
   "metadata": {},
   "outputs": [],
   "source": [
    "un_continent_70_10_latin_america=un_continent_70_10_latin_america[['Indicators','Region','Year', 'Percent Change']]"
   ]
  },
  {
   "cell_type": "code",
   "execution_count": 237,
   "id": "c23649c8-5f8a-4306-96f4-fd1b8e299aa2",
   "metadata": {},
   "outputs": [
    {
     "data": {
      "text/html": [
       "<div>\n",
       "<style scoped>\n",
       "    .dataframe tbody tr th:only-of-type {\n",
       "        vertical-align: middle;\n",
       "    }\n",
       "\n",
       "    .dataframe tbody tr th {\n",
       "        vertical-align: top;\n",
       "    }\n",
       "\n",
       "    .dataframe thead th {\n",
       "        text-align: right;\n",
       "    }\n",
       "</style>\n",
       "<table border=\"1\" class=\"dataframe\">\n",
       "  <thead>\n",
       "    <tr style=\"text-align: right;\">\n",
       "      <th></th>\n",
       "      <th>Indicators</th>\n",
       "      <th>Region</th>\n",
       "      <th>Year</th>\n",
       "      <th>Percent Change</th>\n",
       "    </tr>\n",
       "  </thead>\n",
       "  <tbody>\n",
       "    <tr>\n",
       "      <th>2</th>\n",
       "      <td>Births</td>\n",
       "      <td>Latin America</td>\n",
       "      <td>1970-2010</td>\n",
       "      <td>3.044653</td>\n",
       "    </tr>\n",
       "    <tr>\n",
       "      <th>3</th>\n",
       "      <td>CBR</td>\n",
       "      <td>Latin America</td>\n",
       "      <td>1970-2010</td>\n",
       "      <td>-47.007053</td>\n",
       "    </tr>\n",
       "    <tr>\n",
       "      <th>4</th>\n",
       "      <td>TFR</td>\n",
       "      <td>Latin America</td>\n",
       "      <td>1970-2010</td>\n",
       "      <td>-53.192212</td>\n",
       "    </tr>\n",
       "    <tr>\n",
       "      <th>5</th>\n",
       "      <td>NRR</td>\n",
       "      <td>Latin America</td>\n",
       "      <td>1970-2010</td>\n",
       "      <td>-47.266319</td>\n",
       "    </tr>\n",
       "    <tr>\n",
       "      <th>6</th>\n",
       "      <td>Population</td>\n",
       "      <td>Latin America</td>\n",
       "      <td>1970-2010</td>\n",
       "      <td>91.251228</td>\n",
       "    </tr>\n",
       "  </tbody>\n",
       "</table>\n",
       "</div>"
      ],
      "text/plain": [
       "   Indicators         Region       Year Percent Change\n",
       "2      Births  Latin America  1970-2010       3.044653\n",
       "3         CBR  Latin America  1970-2010     -47.007053\n",
       "4         TFR  Latin America  1970-2010     -53.192212\n",
       "5         NRR  Latin America  1970-2010     -47.266319\n",
       "6  Population  Latin America  1970-2010      91.251228"
      ]
     },
     "execution_count": 237,
     "metadata": {},
     "output_type": "execute_result"
    }
   ],
   "source": [
    "un_continent_70_10_latin_america"
   ]
  },
  {
   "cell_type": "markdown",
   "id": "700e3cb7-12d9-438b-8189-bebabfbcef66",
   "metadata": {},
   "source": [
    "# % Change UN Indicators: Continent Level (2010-2020)"
   ]
  },
  {
   "cell_type": "code",
   "execution_count": 239,
   "id": "0d2af0f2-a905-4575-806f-50cb303721b3",
   "metadata": {},
   "outputs": [],
   "source": [
    "list2=[2010,2020]"
   ]
  },
  {
   "cell_type": "code",
   "execution_count": 240,
   "id": "f64d32d2-e476-4905-9543-8a6e3dafb54e",
   "metadata": {},
   "outputs": [],
   "source": [
    "list12=[1970,2020]"
   ]
  },
  {
   "cell_type": "code",
   "execution_count": 241,
   "id": "6ac7d411-3936-4dd3-8223-8da978707eca",
   "metadata": {},
   "outputs": [],
   "source": [
    "un_continent_10_20=un_continent.loc[un_continent['Time'].isin(list2)]"
   ]
  },
  {
   "cell_type": "code",
   "execution_count": 242,
   "id": "badd29d0-46b6-4949-a06a-bf2033a538e1",
   "metadata": {},
   "outputs": [],
   "source": [
    "un_continent_70_20=un_continent.loc[un_continent['Time'].isin(list12)]"
   ]
  },
  {
   "cell_type": "code",
   "execution_count": 243,
   "id": "284004e0-c2e6-4ede-afd1-52eef248c8f8",
   "metadata": {},
   "outputs": [],
   "source": [
    "un_continent_10_20=un_continent_10_20.drop(columns={'LocTypeName','ISO3_code', 'index', 'PopGrowthRate'}).reset_index(drop=True)\n"
   ]
  },
  {
   "cell_type": "code",
   "execution_count": 244,
   "id": "5f9891ef-3a86-480d-a5a5-4dcce31bf71d",
   "metadata": {},
   "outputs": [],
   "source": [
    "un_continent_70_20=un_continent_70_20.drop(columns={'LocTypeName','ISO3_code', 'index', 'PopGrowthRate'}).reset_index(drop=True)\n"
   ]
  },
  {
   "cell_type": "code",
   "execution_count": 245,
   "id": "9edc9761-040a-4b88-ad5d-a9b1503cb397",
   "metadata": {},
   "outputs": [],
   "source": [
    "un_continent_10_20_africa = un_continent_10_20.loc[un_continent_10_20['Location']=='Africa'].transpose().reset_index().rename(columns={'index':'Indicators'}).drop([0,1])"
   ]
  },
  {
   "cell_type": "code",
   "execution_count": 246,
   "id": "94487d88-e95d-4de3-95f3-4b24a1ffd497",
   "metadata": {},
   "outputs": [],
   "source": [
    "un_continent_70_20_africa = un_continent_70_20.loc[un_continent_70_20['Location']=='Africa'].transpose().reset_index().rename(columns={'index':'Indicators'}).drop([0,1])"
   ]
  },
  {
   "cell_type": "code",
   "execution_count": 247,
   "id": "81973aa3-a5c7-453f-9f42-c8179f68ecfa",
   "metadata": {},
   "outputs": [],
   "source": [
    "un_continent_10_20_africa['Percent Change']=((un_continent_10_20_africa[1]-un_continent_10_20_africa[0])/un_continent_10_20_africa[0]*100)"
   ]
  },
  {
   "cell_type": "code",
   "execution_count": 248,
   "id": "7299f3e3-8ac2-4f66-8a0d-c3e638c57937",
   "metadata": {},
   "outputs": [],
   "source": [
    "un_continent_70_20_africa['Percent Change']=((un_continent_70_20_africa[1]-un_continent_70_20_africa[0])/un_continent_70_20_africa[0]*100)"
   ]
  },
  {
   "cell_type": "code",
   "execution_count": 249,
   "id": "ef86fbc8-146c-4000-8663-54208c35af54",
   "metadata": {},
   "outputs": [],
   "source": [
    "un_continent_10_20_africa['Year']='2010-2020'"
   ]
  },
  {
   "cell_type": "code",
   "execution_count": 250,
   "id": "73a67240-e04a-4415-9098-776c5ef4ad41",
   "metadata": {},
   "outputs": [],
   "source": [
    "un_continent_70_20_africa['Year']='1970-2020'"
   ]
  },
  {
   "cell_type": "code",
   "execution_count": 251,
   "id": "cafe151d-7cf2-4aad-a4ae-75b995a5dc1f",
   "metadata": {},
   "outputs": [],
   "source": [
    "un_continent_10_20_africa['Region']='Africa'"
   ]
  },
  {
   "cell_type": "code",
   "execution_count": 252,
   "id": "a46d3415-e852-4efa-8306-34b0d271a1ba",
   "metadata": {},
   "outputs": [],
   "source": [
    "un_continent_70_20_africa['Region']='Africa'"
   ]
  },
  {
   "cell_type": "code",
   "execution_count": 253,
   "id": "5e2e0021-8955-4a13-bbff-1af252d587c6",
   "metadata": {},
   "outputs": [],
   "source": [
    "un_continent_10_20_africa=un_continent_10_20_africa[['Indicators','Region','Year', 'Percent Change']]"
   ]
  },
  {
   "cell_type": "code",
   "execution_count": 254,
   "id": "68aba004-caa3-4760-8cf6-712e1491c375",
   "metadata": {},
   "outputs": [],
   "source": [
    "un_continent_70_20_africa=un_continent_70_20_africa[['Indicators','Region','Year', 'Percent Change']]"
   ]
  },
  {
   "cell_type": "code",
   "execution_count": 255,
   "id": "c898ab80-520d-424e-8135-3b89b2929b2d",
   "metadata": {},
   "outputs": [],
   "source": [
    "un_continent_10_20_asia = un_continent_10_20.loc[un_continent_10_20['Location']=='Asia'].transpose().reset_index().rename(columns={'index':'Indicators'}).drop([0,1])"
   ]
  },
  {
   "cell_type": "code",
   "execution_count": 256,
   "id": "c6ff556d-2419-43f1-ac06-df1de30c3385",
   "metadata": {},
   "outputs": [],
   "source": [
    "un_continent_70_20_asia = un_continent_70_20.loc[un_continent_70_20['Location']=='Asia'].transpose().reset_index().rename(columns={'index':'Indicators'}).drop([0,1])"
   ]
  },
  {
   "cell_type": "code",
   "execution_count": 257,
   "id": "cc4c03a7-a9c1-4f90-a3a1-303513b294d9",
   "metadata": {},
   "outputs": [],
   "source": [
    "un_continent_10_20_asia['Percent Change']=((un_continent_10_20_asia[3]-un_continent_10_20_asia[2])/un_continent_10_20_asia[2]*100)"
   ]
  },
  {
   "cell_type": "code",
   "execution_count": 258,
   "id": "f7c143e2-c776-478e-beab-122c6d84fcb8",
   "metadata": {},
   "outputs": [],
   "source": [
    "un_continent_70_20_asia['Percent Change']=((un_continent_70_20_asia[3]-un_continent_70_20_asia[2])/un_continent_70_20_asia[2]*100)"
   ]
  },
  {
   "cell_type": "code",
   "execution_count": 259,
   "id": "2cc5252e-cced-4668-807a-6e63e096f6a1",
   "metadata": {},
   "outputs": [],
   "source": [
    "un_continent_10_20_asia['Year']='2010-2020'"
   ]
  },
  {
   "cell_type": "code",
   "execution_count": 260,
   "id": "98ed5a7a-e2fd-4a62-b4f1-2101ed712e73",
   "metadata": {},
   "outputs": [],
   "source": [
    "un_continent_70_20_asia['Year']='1970-2020'"
   ]
  },
  {
   "cell_type": "code",
   "execution_count": 261,
   "id": "9a13f109-9215-4541-8dc0-ef9a71454867",
   "metadata": {},
   "outputs": [],
   "source": [
    "un_continent_10_20_asia['Region']='Asia'"
   ]
  },
  {
   "cell_type": "code",
   "execution_count": 262,
   "id": "e3000b4e-65e1-46c9-bbc2-c039317dfaf0",
   "metadata": {},
   "outputs": [],
   "source": [
    "un_continent_70_20_asia['Region']='Asia'"
   ]
  },
  {
   "cell_type": "code",
   "execution_count": 263,
   "id": "568184db-fd0d-43ab-bd50-bea75eef20e0",
   "metadata": {},
   "outputs": [],
   "source": [
    "un_continent_10_20_asia=un_continent_10_20_asia[['Indicators','Region','Year', 'Percent Change']]"
   ]
  },
  {
   "cell_type": "code",
   "execution_count": 264,
   "id": "21d6d51a-5aab-40bd-b47c-ae430faa38d7",
   "metadata": {},
   "outputs": [],
   "source": [
    "un_continent_70_20_asia=un_continent_70_20_asia[['Indicators','Region','Year', 'Percent Change']]"
   ]
  },
  {
   "cell_type": "code",
   "execution_count": 265,
   "id": "e5d1b55a-e118-43b1-8b6a-3bece1626771",
   "metadata": {},
   "outputs": [],
   "source": [
    "un_continent_10_20_europe = un_continent_10_20.loc[un_continent_10_20['Location']=='Europe'].transpose().reset_index().rename(columns={'index':'Indicators'}).drop([0,1])"
   ]
  },
  {
   "cell_type": "code",
   "execution_count": 266,
   "id": "51c01e55-2a36-4561-aeb1-2371b7553b47",
   "metadata": {},
   "outputs": [],
   "source": [
    "un_continent_70_20_europe = un_continent_70_20.loc[un_continent_70_20['Location']=='Europe'].transpose().reset_index().rename(columns={'index':'Indicators'}).drop([0,1])"
   ]
  },
  {
   "cell_type": "code",
   "execution_count": 267,
   "id": "ae682d75-c3f3-4260-b5d1-7964d5540c7c",
   "metadata": {},
   "outputs": [],
   "source": [
    "un_continent_10_20_europe['Percent Change']=((un_continent_10_20_europe[5]-un_continent_10_20_europe[4])/un_continent_10_20_europe[4]*100)"
   ]
  },
  {
   "cell_type": "code",
   "execution_count": 268,
   "id": "861e0f1e-5658-46e0-b499-2a4a6c0d9e0b",
   "metadata": {},
   "outputs": [],
   "source": [
    "un_continent_70_20_europe['Percent Change']=((un_continent_70_20_europe[5]-un_continent_70_20_europe[4])/un_continent_70_20_europe[4]*100)"
   ]
  },
  {
   "cell_type": "code",
   "execution_count": 269,
   "id": "978ffbac-2fa8-4e94-a5bb-2855ef648789",
   "metadata": {},
   "outputs": [],
   "source": [
    "un_continent_10_20_europe['Year']='2010-2020'"
   ]
  },
  {
   "cell_type": "code",
   "execution_count": 270,
   "id": "55b61577-469d-4677-a072-739152428a03",
   "metadata": {},
   "outputs": [],
   "source": [
    "un_continent_70_20_europe['Year']='1970-2020'"
   ]
  },
  {
   "cell_type": "code",
   "execution_count": 271,
   "id": "45940e1a-ca05-4c29-9e40-ce121cb1b01c",
   "metadata": {},
   "outputs": [],
   "source": [
    "un_continent_10_20_europe['Region']='Europe'"
   ]
  },
  {
   "cell_type": "code",
   "execution_count": 272,
   "id": "8f898e56-afc8-4288-8fd7-abf3514de1b5",
   "metadata": {},
   "outputs": [],
   "source": [
    "un_continent_70_20_europe['Region']='Europe'"
   ]
  },
  {
   "cell_type": "code",
   "execution_count": 273,
   "id": "3baece16-19ed-409b-993a-2c94065f8b3e",
   "metadata": {},
   "outputs": [],
   "source": [
    "un_continent_10_20_europe=un_continent_10_20_europe[['Indicators','Region','Year', 'Percent Change']]"
   ]
  },
  {
   "cell_type": "code",
   "execution_count": 274,
   "id": "564b2ba2-dd01-4b08-913c-4af98cf1cd19",
   "metadata": {},
   "outputs": [],
   "source": [
    "un_continent_70_20_europe=un_continent_70_20_europe[['Indicators','Region','Year', 'Percent Change']]"
   ]
  },
  {
   "cell_type": "code",
   "execution_count": 275,
   "id": "b04090e8-fc12-4b43-98c2-d39cec8a89d4",
   "metadata": {},
   "outputs": [],
   "source": [
    "un_continent_10_20_northern_america = un_continent_10_20.loc[un_continent_10_20['Location']=='Northern America'].transpose().reset_index().rename(columns={'index':'Indicators'}).drop([0,1])"
   ]
  },
  {
   "cell_type": "code",
   "execution_count": 276,
   "id": "f4d666d7-f3ff-43ad-906e-d0290a7f0657",
   "metadata": {},
   "outputs": [],
   "source": [
    "un_continent_70_20_northern_america = un_continent_70_20.loc[un_continent_70_20['Location']=='Northern America'].transpose().reset_index().rename(columns={'index':'Indicators'}).drop([0,1])"
   ]
  },
  {
   "cell_type": "code",
   "execution_count": 277,
   "id": "3df99ddc-6b5a-4a1f-adc3-433bab428046",
   "metadata": {},
   "outputs": [],
   "source": [
    "un_continent_10_20_northern_america['Percent Change']=((un_continent_10_20_northern_america[7]-un_continent_10_20_northern_america[6])/un_continent_10_20_northern_america[6]*100)"
   ]
  },
  {
   "cell_type": "code",
   "execution_count": 278,
   "id": "308e8bf0-181c-46e4-ab6f-800e72c9859b",
   "metadata": {},
   "outputs": [],
   "source": [
    "un_continent_70_20_northern_america['Percent Change']=((un_continent_70_20_northern_america[7]-un_continent_70_20_northern_america[6])/un_continent_70_20_northern_america[6]*100)"
   ]
  },
  {
   "cell_type": "code",
   "execution_count": 279,
   "id": "bf0ac1ea-6eb4-48e9-a760-10d455638e5f",
   "metadata": {},
   "outputs": [],
   "source": [
    "un_continent_10_20_northern_america['Year']='2010-2020'"
   ]
  },
  {
   "cell_type": "code",
   "execution_count": 280,
   "id": "ad9853b4-44bd-453c-bd0f-4b038dea18f5",
   "metadata": {},
   "outputs": [],
   "source": [
    "un_continent_70_20_northern_america['Year']='1970-2020'"
   ]
  },
  {
   "cell_type": "code",
   "execution_count": 281,
   "id": "83a59d85-962c-4191-955e-037b99b2f6fd",
   "metadata": {},
   "outputs": [],
   "source": [
    "un_continent_10_20_northern_america['Region']='Northern America'"
   ]
  },
  {
   "cell_type": "code",
   "execution_count": 282,
   "id": "81b1e2c5-f173-4348-9f42-75bbbf303e0d",
   "metadata": {},
   "outputs": [],
   "source": [
    "un_continent_70_20_northern_america['Region']='Northern America'"
   ]
  },
  {
   "cell_type": "code",
   "execution_count": 283,
   "id": "b469353b-5d26-4003-a737-e043a04313d2",
   "metadata": {},
   "outputs": [],
   "source": [
    "un_continent_10_20_northern_america=un_continent_10_20_northern_america[['Indicators','Region','Year', 'Percent Change']]"
   ]
  },
  {
   "cell_type": "code",
   "execution_count": 284,
   "id": "68a5225f-5c1e-497b-aeeb-c6f6fd8a653d",
   "metadata": {},
   "outputs": [],
   "source": [
    "un_continent_70_20_northern_america=un_continent_70_20_northern_america[['Indicators','Region','Year', 'Percent Change']]"
   ]
  },
  {
   "cell_type": "code",
   "execution_count": 285,
   "id": "13f124dd-19b8-49b8-9213-72b209d0781d",
   "metadata": {},
   "outputs": [],
   "source": [
    "un_continent_10_20_oceania = un_continent_10_20.loc[un_continent_10_20['Location']=='Oceania'].transpose().reset_index().rename(columns={'index':'Indicators'}).drop([0,1])"
   ]
  },
  {
   "cell_type": "code",
   "execution_count": 286,
   "id": "899ff2dc-7dde-4082-a072-8484a9a6256c",
   "metadata": {},
   "outputs": [],
   "source": [
    "un_continent_70_20_oceania = un_continent_70_20.loc[un_continent_70_20['Location']=='Oceania'].transpose().reset_index().rename(columns={'index':'Indicators'}).drop([0,1])"
   ]
  },
  {
   "cell_type": "code",
   "execution_count": 287,
   "id": "2e25aaf8-a8bb-4c5c-b0cf-c56a0eb5d000",
   "metadata": {},
   "outputs": [],
   "source": [
    "un_continent_10_20_oceania['Percent Change']=((un_continent_10_20_oceania[9]-un_continent_10_20_oceania[8])/un_continent_10_20_oceania[8]*100)"
   ]
  },
  {
   "cell_type": "code",
   "execution_count": 288,
   "id": "1788f577-9648-4d39-8528-1ce11fe5ce6c",
   "metadata": {},
   "outputs": [],
   "source": [
    "un_continent_70_20_oceania['Percent Change']=((un_continent_70_20_oceania[9]-un_continent_70_20_oceania[8])/un_continent_70_20_oceania[8]*100)"
   ]
  },
  {
   "cell_type": "code",
   "execution_count": 289,
   "id": "429b6d47-b553-430e-ba33-9bd6d02166ab",
   "metadata": {},
   "outputs": [],
   "source": [
    "un_continent_10_20_oceania['Year']='2010-2020'"
   ]
  },
  {
   "cell_type": "code",
   "execution_count": 290,
   "id": "cb4bb90b-234f-4d1d-be9c-388bbc0c333f",
   "metadata": {},
   "outputs": [],
   "source": [
    "un_continent_70_20_oceania['Year']='1970-2020'"
   ]
  },
  {
   "cell_type": "code",
   "execution_count": 291,
   "id": "d2df4d2c-1f59-4b9a-9b62-fa170cb3751e",
   "metadata": {},
   "outputs": [],
   "source": [
    "un_continent_10_20_oceania['Region']='Oceania'"
   ]
  },
  {
   "cell_type": "code",
   "execution_count": 292,
   "id": "7f811927-139c-4d45-bcb9-6468e0cc1826",
   "metadata": {},
   "outputs": [],
   "source": [
    "un_continent_70_20_oceania['Region']='Oceania'"
   ]
  },
  {
   "cell_type": "code",
   "execution_count": 293,
   "id": "7421dc32-569a-408c-8ec4-fc26c99852e0",
   "metadata": {},
   "outputs": [],
   "source": [
    "un_continent_10_20_oceania=un_continent_10_20_oceania[['Indicators','Region','Year', 'Percent Change']]"
   ]
  },
  {
   "cell_type": "code",
   "execution_count": 294,
   "id": "38bf3b5a-924a-4bbd-897f-e5f81d8f1e7e",
   "metadata": {},
   "outputs": [],
   "source": [
    "un_continent_70_20_oceania=un_continent_70_20_oceania[['Indicators','Region','Year', 'Percent Change']]"
   ]
  },
  {
   "cell_type": "code",
   "execution_count": 295,
   "id": "6381d61e-72d8-4fc4-b571-c21c4b7b80e4",
   "metadata": {},
   "outputs": [],
   "source": [
    "un_continent_10_20_latin_america = un_continent_10_20.loc[un_continent_10_20['Location']=='Latin America'].transpose().reset_index().rename(columns={'index':'Indicators'}).drop([0,1])"
   ]
  },
  {
   "cell_type": "code",
   "execution_count": 296,
   "id": "be3d6888-ae47-4829-b46b-d29ef5f1d3aa",
   "metadata": {},
   "outputs": [],
   "source": [
    "un_continent_70_20_latin_america = un_continent_70_20.loc[un_continent_70_20['Location']=='Latin America'].transpose().reset_index().rename(columns={'index':'Indicators'}).drop([0,1])"
   ]
  },
  {
   "cell_type": "code",
   "execution_count": 297,
   "id": "3d623848-44a3-40d8-9c03-3669916a0613",
   "metadata": {},
   "outputs": [],
   "source": [
    "un_continent_10_20_latin_america['Percent Change']=((un_continent_10_20_latin_america[11]-un_continent_10_20_latin_america[10])/un_continent_10_20_latin_america[10]*100)"
   ]
  },
  {
   "cell_type": "code",
   "execution_count": 298,
   "id": "b002607e-8577-405c-ab43-6161de5ab764",
   "metadata": {},
   "outputs": [],
   "source": [
    "un_continent_70_20_latin_america['Percent Change']=((un_continent_70_20_latin_america[11]-un_continent_70_20_latin_america[10])/un_continent_70_20_latin_america[10]*100)"
   ]
  },
  {
   "cell_type": "code",
   "execution_count": 299,
   "id": "85565d99-d4fc-418b-8153-f3a52499c9c2",
   "metadata": {},
   "outputs": [],
   "source": [
    "un_continent_10_20_latin_america['Year']='2010-2020'"
   ]
  },
  {
   "cell_type": "code",
   "execution_count": 300,
   "id": "1ebb7220-bfdc-4b74-b6b3-2884374e6eba",
   "metadata": {},
   "outputs": [],
   "source": [
    "un_continent_70_20_latin_america['Year']='1970-2020'"
   ]
  },
  {
   "cell_type": "code",
   "execution_count": 301,
   "id": "33c72001-fac0-4367-9035-5c752c731fbf",
   "metadata": {},
   "outputs": [],
   "source": [
    "un_continent_10_20_latin_america['Region']='Latin America'"
   ]
  },
  {
   "cell_type": "code",
   "execution_count": 302,
   "id": "c6da89ab-d80c-4d66-a81a-9151a9934090",
   "metadata": {},
   "outputs": [],
   "source": [
    "un_continent_70_20_latin_america['Region']='Latin America'"
   ]
  },
  {
   "cell_type": "code",
   "execution_count": 303,
   "id": "610a445d-cc02-4f07-a597-1bdbd85ccc3d",
   "metadata": {},
   "outputs": [],
   "source": [
    "un_continent_10_20_latin_america=un_continent_10_20_latin_america[['Indicators','Region','Year', 'Percent Change']]"
   ]
  },
  {
   "cell_type": "code",
   "execution_count": 304,
   "id": "819e911e-330e-4f02-a42c-edb2366b6f96",
   "metadata": {},
   "outputs": [],
   "source": [
    "un_continent_17_20_latin_america=un_continent_70_20_latin_america[['Indicators','Region','Year', 'Percent Change']]"
   ]
  },
  {
   "cell_type": "markdown",
   "id": "19b8a3a7-a192-4d9a-9fbd-6c791d195ccb",
   "metadata": {},
   "source": [
    "# % Change UN Indicators: Region Level (1970-2010) and (2010-2020)"
   ]
  },
  {
   "cell_type": "code",
   "execution_count": 306,
   "id": "76bc73b9-f2ed-4654-a936-1ec82bc719d6",
   "metadata": {},
   "outputs": [
    {
     "data": {
      "text/html": [
       "<div>\n",
       "<style scoped>\n",
       "    .dataframe tbody tr th:only-of-type {\n",
       "        vertical-align: middle;\n",
       "    }\n",
       "\n",
       "    .dataframe tbody tr th {\n",
       "        vertical-align: top;\n",
       "    }\n",
       "\n",
       "    .dataframe thead th {\n",
       "        text-align: right;\n",
       "    }\n",
       "</style>\n",
       "<table border=\"1\" class=\"dataframe\">\n",
       "  <thead>\n",
       "    <tr style=\"text-align: right;\">\n",
       "      <th></th>\n",
       "      <th>level_0</th>\n",
       "      <th>index</th>\n",
       "      <th>Time</th>\n",
       "      <th>Location</th>\n",
       "      <th>LocTypeName</th>\n",
       "      <th>ISO3_code</th>\n",
       "      <th>Births</th>\n",
       "      <th>CBR</th>\n",
       "      <th>TFR</th>\n",
       "      <th>NRR</th>\n",
       "      <th>PopGrowthRate</th>\n",
       "      <th>Population</th>\n",
       "    </tr>\n",
       "  </thead>\n",
       "  <tbody>\n",
       "    <tr>\n",
       "      <th>0</th>\n",
       "      <td>0</td>\n",
       "      <td>0</td>\n",
       "      <td>1950</td>\n",
       "      <td>Eastern Africa</td>\n",
       "      <td>Subregion</td>\n",
       "      <td>NaN</td>\n",
       "      <td>3174.030</td>\n",
       "      <td>48.285</td>\n",
       "      <td>6.6872</td>\n",
       "      <td>1.9300</td>\n",
       "      <td>2.143</td>\n",
       "      <td>65031.204</td>\n",
       "    </tr>\n",
       "    <tr>\n",
       "      <th>1</th>\n",
       "      <td>1</td>\n",
       "      <td>1</td>\n",
       "      <td>1951</td>\n",
       "      <td>Eastern Africa</td>\n",
       "      <td>Subregion</td>\n",
       "      <td>NaN</td>\n",
       "      <td>3253.248</td>\n",
       "      <td>48.423</td>\n",
       "      <td>6.6959</td>\n",
       "      <td>1.9529</td>\n",
       "      <td>2.213</td>\n",
       "      <td>66440.070</td>\n",
       "    </tr>\n",
       "    <tr>\n",
       "      <th>2</th>\n",
       "      <td>2</td>\n",
       "      <td>2</td>\n",
       "      <td>1952</td>\n",
       "      <td>Eastern Africa</td>\n",
       "      <td>Subregion</td>\n",
       "      <td>NaN</td>\n",
       "      <td>3336.578</td>\n",
       "      <td>48.567</td>\n",
       "      <td>6.7102</td>\n",
       "      <td>1.9779</td>\n",
       "      <td>2.251</td>\n",
       "      <td>67926.815</td>\n",
       "    </tr>\n",
       "    <tr>\n",
       "      <th>3</th>\n",
       "      <td>3</td>\n",
       "      <td>3</td>\n",
       "      <td>1953</td>\n",
       "      <td>Eastern Africa</td>\n",
       "      <td>Subregion</td>\n",
       "      <td>NaN</td>\n",
       "      <td>3421.888</td>\n",
       "      <td>48.698</td>\n",
       "      <td>6.7264</td>\n",
       "      <td>2.0018</td>\n",
       "      <td>2.263</td>\n",
       "      <td>69472.902</td>\n",
       "    </tr>\n",
       "    <tr>\n",
       "      <th>4</th>\n",
       "      <td>4</td>\n",
       "      <td>4</td>\n",
       "      <td>1954</td>\n",
       "      <td>Eastern Africa</td>\n",
       "      <td>Subregion</td>\n",
       "      <td>NaN</td>\n",
       "      <td>3504.387</td>\n",
       "      <td>48.743</td>\n",
       "      <td>6.7374</td>\n",
       "      <td>2.0252</td>\n",
       "      <td>2.318</td>\n",
       "      <td>71062.656</td>\n",
       "    </tr>\n",
       "    <tr>\n",
       "      <th>...</th>\n",
       "      <td>...</td>\n",
       "      <td>...</td>\n",
       "      <td>...</td>\n",
       "      <td>...</td>\n",
       "      <td>...</td>\n",
       "      <td>...</td>\n",
       "      <td>...</td>\n",
       "      <td>...</td>\n",
       "      <td>...</td>\n",
       "      <td>...</td>\n",
       "      <td>...</td>\n",
       "      <td>...</td>\n",
       "    </tr>\n",
       "    <tr>\n",
       "      <th>3187</th>\n",
       "      <td>3187</td>\n",
       "      <td>603</td>\n",
       "      <td>2097</td>\n",
       "      <td>Northern America</td>\n",
       "      <td>Geographic region</td>\n",
       "      <td>NaN</td>\n",
       "      <td>4350.862</td>\n",
       "      <td>9.206</td>\n",
       "      <td>1.6341</td>\n",
       "      <td>0.7928</td>\n",
       "      <td>0.180</td>\n",
       "      <td>472187.114</td>\n",
       "    </tr>\n",
       "    <tr>\n",
       "      <th>3188</th>\n",
       "      <td>3188</td>\n",
       "      <td>604</td>\n",
       "      <td>2098</td>\n",
       "      <td>Northern America</td>\n",
       "      <td>Geographic region</td>\n",
       "      <td>NaN</td>\n",
       "      <td>4355.349</td>\n",
       "      <td>9.200</td>\n",
       "      <td>1.6322</td>\n",
       "      <td>0.7919</td>\n",
       "      <td>0.166</td>\n",
       "      <td>473036.954</td>\n",
       "    </tr>\n",
       "    <tr>\n",
       "      <th>3189</th>\n",
       "      <td>3189</td>\n",
       "      <td>605</td>\n",
       "      <td>2099</td>\n",
       "      <td>Northern America</td>\n",
       "      <td>Geographic region</td>\n",
       "      <td>NaN</td>\n",
       "      <td>4365.654</td>\n",
       "      <td>9.206</td>\n",
       "      <td>1.6329</td>\n",
       "      <td>0.7923</td>\n",
       "      <td>0.165</td>\n",
       "      <td>473823.534</td>\n",
       "    </tr>\n",
       "    <tr>\n",
       "      <th>3190</th>\n",
       "      <td>3190</td>\n",
       "      <td>606</td>\n",
       "      <td>2100</td>\n",
       "      <td>Northern America</td>\n",
       "      <td>Geographic region</td>\n",
       "      <td>NaN</td>\n",
       "      <td>4366.572</td>\n",
       "      <td>9.193</td>\n",
       "      <td>1.6303</td>\n",
       "      <td>0.7911</td>\n",
       "      <td>0.151</td>\n",
       "      <td>474607.053</td>\n",
       "    </tr>\n",
       "    <tr>\n",
       "      <th>3191</th>\n",
       "      <td>3191</td>\n",
       "      <td>607</td>\n",
       "      <td>2101</td>\n",
       "      <td>Northern America</td>\n",
       "      <td>Geographic region</td>\n",
       "      <td>NaN</td>\n",
       "      <td>NaN</td>\n",
       "      <td>NaN</td>\n",
       "      <td>NaN</td>\n",
       "      <td>NaN</td>\n",
       "      <td>NaN</td>\n",
       "      <td>475325.015</td>\n",
       "    </tr>\n",
       "  </tbody>\n",
       "</table>\n",
       "<p>3192 rows × 12 columns</p>\n",
       "</div>"
      ],
      "text/plain": [
       "      level_0  index  Time          Location        LocTypeName ISO3_code  \\\n",
       "0           0      0  1950    Eastern Africa          Subregion       NaN   \n",
       "1           1      1  1951    Eastern Africa          Subregion       NaN   \n",
       "2           2      2  1952    Eastern Africa          Subregion       NaN   \n",
       "3           3      3  1953    Eastern Africa          Subregion       NaN   \n",
       "4           4      4  1954    Eastern Africa          Subregion       NaN   \n",
       "...       ...    ...   ...               ...                ...       ...   \n",
       "3187     3187    603  2097  Northern America  Geographic region       NaN   \n",
       "3188     3188    604  2098  Northern America  Geographic region       NaN   \n",
       "3189     3189    605  2099  Northern America  Geographic region       NaN   \n",
       "3190     3190    606  2100  Northern America  Geographic region       NaN   \n",
       "3191     3191    607  2101  Northern America  Geographic region       NaN   \n",
       "\n",
       "        Births     CBR     TFR     NRR  PopGrowthRate  Population  \n",
       "0     3174.030  48.285  6.6872  1.9300          2.143   65031.204  \n",
       "1     3253.248  48.423  6.6959  1.9529          2.213   66440.070  \n",
       "2     3336.578  48.567  6.7102  1.9779          2.251   67926.815  \n",
       "3     3421.888  48.698  6.7264  2.0018          2.263   69472.902  \n",
       "4     3504.387  48.743  6.7374  2.0252          2.318   71062.656  \n",
       "...        ...     ...     ...     ...            ...         ...  \n",
       "3187  4350.862   9.206  1.6341  0.7928          0.180  472187.114  \n",
       "3188  4355.349   9.200  1.6322  0.7919          0.166  473036.954  \n",
       "3189  4365.654   9.206  1.6329  0.7923          0.165  473823.534  \n",
       "3190  4366.572   9.193  1.6303  0.7911          0.151  474607.053  \n",
       "3191       NaN     NaN     NaN     NaN            NaN  475325.015  \n",
       "\n",
       "[3192 rows x 12 columns]"
      ]
     },
     "execution_count": 306,
     "metadata": {},
     "output_type": "execute_result"
    }
   ],
   "source": [
    "un_unregion"
   ]
  },
  {
   "cell_type": "code",
   "execution_count": 307,
   "id": "fecc0f84-db09-4e63-b34d-6a6e9d9a2a09",
   "metadata": {},
   "outputs": [],
   "source": [
    "list3=[1970,2010]"
   ]
  },
  {
   "cell_type": "code",
   "execution_count": 308,
   "id": "7c3a822a-3265-42d7-a53f-5e6c5d5049e5",
   "metadata": {},
   "outputs": [],
   "source": [
    "list4=[2010,2020]"
   ]
  },
  {
   "cell_type": "code",
   "execution_count": 309,
   "id": "0b98ba94-f9a3-449c-97ae-63eb8e5e7cdb",
   "metadata": {},
   "outputs": [],
   "source": [
    "list9=[1970,2020]"
   ]
  },
  {
   "cell_type": "code",
   "execution_count": 310,
   "id": "b5ad4e5f-28ca-4e4a-bc64-5c9ef982b5e0",
   "metadata": {},
   "outputs": [],
   "source": [
    "un_unregion_70_10=un_unregion.loc[un_unregion['Time'].isin(list3)]"
   ]
  },
  {
   "cell_type": "code",
   "execution_count": 311,
   "id": "9afa7e95-bb51-492d-aa1a-b5dcb7b9f41c",
   "metadata": {},
   "outputs": [],
   "source": [
    "un_unregion_10_20=un_unregion.loc[un_unregion['Time'].isin(list4)]"
   ]
  },
  {
   "cell_type": "code",
   "execution_count": 312,
   "id": "fd8a5a50-54d4-4e6f-a03a-7e5db3195f6f",
   "metadata": {},
   "outputs": [],
   "source": [
    "un_unregion_70_20=un_unregion.loc[un_unregion['Time'].isin(list9)]"
   ]
  },
  {
   "cell_type": "code",
   "execution_count": 313,
   "id": "115f26f0-8bfb-499a-b6da-99e64fd91ec1",
   "metadata": {},
   "outputs": [],
   "source": [
    "un_unregion_70_10=un_unregion_70_10.drop(columns={'LocTypeName','ISO3_code', 'index', 'PopGrowthRate'}).reset_index(drop=True)\n",
    "\n"
   ]
  },
  {
   "cell_type": "code",
   "execution_count": 314,
   "id": "af121961-6078-43ac-8351-f128e2666f4f",
   "metadata": {},
   "outputs": [],
   "source": [
    "un_unregion_10_20=un_unregion_10_20.drop(columns={'LocTypeName','ISO3_code', 'index', 'PopGrowthRate'}).reset_index(drop=True)\n"
   ]
  },
  {
   "cell_type": "code",
   "execution_count": 315,
   "id": "cc4f552e-b762-4b2e-942f-45ea7213b17a",
   "metadata": {},
   "outputs": [],
   "source": [
    "un_unregion_70_20=un_unregion_70_20.drop(columns={'LocTypeName','ISO3_code', 'index', 'PopGrowthRate'}).reset_index(drop=True)\n"
   ]
  },
  {
   "cell_type": "code",
   "execution_count": 316,
   "id": "9586dacd-f603-4013-a006-1a05084f8be7",
   "metadata": {},
   "outputs": [],
   "source": [
    "un_unregion_70_10_eastern_africa = un_unregion_70_10.loc[un_unregion_70_10['Location']=='Eastern Africa'].transpose().reset_index().rename(columns={'index':'Indicators'}).drop([0,1,2])"
   ]
  },
  {
   "cell_type": "code",
   "execution_count": 317,
   "id": "94478d5e-f56c-4cc9-b013-cae7c4268c72",
   "metadata": {},
   "outputs": [],
   "source": [
    "un_unregion_10_20_eastern_africa = un_unregion_10_20.loc[un_unregion_10_20['Location']=='Eastern Africa'].transpose().reset_index().rename(columns={'index':'Indicators'}).drop([0,1,2])"
   ]
  },
  {
   "cell_type": "code",
   "execution_count": 318,
   "id": "0a890965-ce81-4c12-98c2-7f1bd7231470",
   "metadata": {},
   "outputs": [],
   "source": [
    "un_unregion_70_20_eastern_africa = un_unregion_70_20.loc[un_unregion_70_20['Location']=='Eastern Africa'].transpose().reset_index().rename(columns={'index':'Indicators'}).drop([0,1,2])"
   ]
  },
  {
   "cell_type": "code",
   "execution_count": 319,
   "id": "74042be3-ff22-4543-967c-2e9c659e1e78",
   "metadata": {},
   "outputs": [
    {
     "data": {
      "text/html": [
       "<div>\n",
       "<style scoped>\n",
       "    .dataframe tbody tr th:only-of-type {\n",
       "        vertical-align: middle;\n",
       "    }\n",
       "\n",
       "    .dataframe tbody tr th {\n",
       "        vertical-align: top;\n",
       "    }\n",
       "\n",
       "    .dataframe thead th {\n",
       "        text-align: right;\n",
       "    }\n",
       "</style>\n",
       "<table border=\"1\" class=\"dataframe\">\n",
       "  <thead>\n",
       "    <tr style=\"text-align: right;\">\n",
       "      <th></th>\n",
       "      <th>Indicators</th>\n",
       "      <th>0</th>\n",
       "      <th>1</th>\n",
       "    </tr>\n",
       "  </thead>\n",
       "  <tbody>\n",
       "    <tr>\n",
       "      <th>3</th>\n",
       "      <td>Births</td>\n",
       "      <td>5401.18</td>\n",
       "      <td>13394.702</td>\n",
       "    </tr>\n",
       "    <tr>\n",
       "      <th>4</th>\n",
       "      <td>CBR</td>\n",
       "      <td>49.198</td>\n",
       "      <td>38.794</td>\n",
       "    </tr>\n",
       "    <tr>\n",
       "      <th>5</th>\n",
       "      <td>TFR</td>\n",
       "      <td>7.0567</td>\n",
       "      <td>5.2114</td>\n",
       "    </tr>\n",
       "    <tr>\n",
       "      <th>6</th>\n",
       "      <td>NRR</td>\n",
       "      <td>2.3631</td>\n",
       "      <td>2.1948</td>\n",
       "    </tr>\n",
       "    <tr>\n",
       "      <th>7</th>\n",
       "      <td>Population</td>\n",
       "      <td>108200.931</td>\n",
       "      <td>340303.391</td>\n",
       "    </tr>\n",
       "  </tbody>\n",
       "</table>\n",
       "</div>"
      ],
      "text/plain": [
       "   Indicators           0           1\n",
       "3      Births     5401.18   13394.702\n",
       "4         CBR      49.198      38.794\n",
       "5         TFR      7.0567      5.2114\n",
       "6         NRR      2.3631      2.1948\n",
       "7  Population  108200.931  340303.391"
      ]
     },
     "execution_count": 319,
     "metadata": {},
     "output_type": "execute_result"
    }
   ],
   "source": [
    "un_unregion_70_10_eastern_africa"
   ]
  },
  {
   "cell_type": "code",
   "execution_count": 320,
   "id": "16b876d7-b389-4664-94b3-1c63d693518b",
   "metadata": {},
   "outputs": [
    {
     "data": {
      "text/html": [
       "<div>\n",
       "<style scoped>\n",
       "    .dataframe tbody tr th:only-of-type {\n",
       "        vertical-align: middle;\n",
       "    }\n",
       "\n",
       "    .dataframe tbody tr th {\n",
       "        vertical-align: top;\n",
       "    }\n",
       "\n",
       "    .dataframe thead th {\n",
       "        text-align: right;\n",
       "    }\n",
       "</style>\n",
       "<table border=\"1\" class=\"dataframe\">\n",
       "  <thead>\n",
       "    <tr style=\"text-align: right;\">\n",
       "      <th></th>\n",
       "      <th>Indicators</th>\n",
       "      <th>0</th>\n",
       "      <th>1</th>\n",
       "    </tr>\n",
       "  </thead>\n",
       "  <tbody>\n",
       "    <tr>\n",
       "      <th>3</th>\n",
       "      <td>Births</td>\n",
       "      <td>13394.702</td>\n",
       "      <td>15279.409</td>\n",
       "    </tr>\n",
       "    <tr>\n",
       "      <th>4</th>\n",
       "      <td>CBR</td>\n",
       "      <td>38.794</td>\n",
       "      <td>33.864</td>\n",
       "    </tr>\n",
       "    <tr>\n",
       "      <th>5</th>\n",
       "      <td>TFR</td>\n",
       "      <td>5.2114</td>\n",
       "      <td>4.3392</td>\n",
       "    </tr>\n",
       "    <tr>\n",
       "      <th>6</th>\n",
       "      <td>NRR</td>\n",
       "      <td>2.1948</td>\n",
       "      <td>1.9418</td>\n",
       "    </tr>\n",
       "    <tr>\n",
       "      <th>7</th>\n",
       "      <td>Population</td>\n",
       "      <td>340303.391</td>\n",
       "      <td>445111.122</td>\n",
       "    </tr>\n",
       "  </tbody>\n",
       "</table>\n",
       "</div>"
      ],
      "text/plain": [
       "   Indicators           0           1\n",
       "3      Births   13394.702   15279.409\n",
       "4         CBR      38.794      33.864\n",
       "5         TFR      5.2114      4.3392\n",
       "6         NRR      2.1948      1.9418\n",
       "7  Population  340303.391  445111.122"
      ]
     },
     "execution_count": 320,
     "metadata": {},
     "output_type": "execute_result"
    }
   ],
   "source": [
    "un_unregion_10_20_eastern_africa"
   ]
  },
  {
   "cell_type": "code",
   "execution_count": 321,
   "id": "84e7170a-ab2d-4292-b4a4-ac21c395f566",
   "metadata": {},
   "outputs": [
    {
     "data": {
      "text/html": [
       "<div>\n",
       "<style scoped>\n",
       "    .dataframe tbody tr th:only-of-type {\n",
       "        vertical-align: middle;\n",
       "    }\n",
       "\n",
       "    .dataframe tbody tr th {\n",
       "        vertical-align: top;\n",
       "    }\n",
       "\n",
       "    .dataframe thead th {\n",
       "        text-align: right;\n",
       "    }\n",
       "</style>\n",
       "<table border=\"1\" class=\"dataframe\">\n",
       "  <thead>\n",
       "    <tr style=\"text-align: right;\">\n",
       "      <th></th>\n",
       "      <th>Indicators</th>\n",
       "      <th>0</th>\n",
       "      <th>1</th>\n",
       "    </tr>\n",
       "  </thead>\n",
       "  <tbody>\n",
       "    <tr>\n",
       "      <th>3</th>\n",
       "      <td>Births</td>\n",
       "      <td>5401.18</td>\n",
       "      <td>15279.409</td>\n",
       "    </tr>\n",
       "    <tr>\n",
       "      <th>4</th>\n",
       "      <td>CBR</td>\n",
       "      <td>49.198</td>\n",
       "      <td>33.864</td>\n",
       "    </tr>\n",
       "    <tr>\n",
       "      <th>5</th>\n",
       "      <td>TFR</td>\n",
       "      <td>7.0567</td>\n",
       "      <td>4.3392</td>\n",
       "    </tr>\n",
       "    <tr>\n",
       "      <th>6</th>\n",
       "      <td>NRR</td>\n",
       "      <td>2.3631</td>\n",
       "      <td>1.9418</td>\n",
       "    </tr>\n",
       "    <tr>\n",
       "      <th>7</th>\n",
       "      <td>Population</td>\n",
       "      <td>108200.931</td>\n",
       "      <td>445111.122</td>\n",
       "    </tr>\n",
       "  </tbody>\n",
       "</table>\n",
       "</div>"
      ],
      "text/plain": [
       "   Indicators           0           1\n",
       "3      Births     5401.18   15279.409\n",
       "4         CBR      49.198      33.864\n",
       "5         TFR      7.0567      4.3392\n",
       "6         NRR      2.3631      1.9418\n",
       "7  Population  108200.931  445111.122"
      ]
     },
     "execution_count": 321,
     "metadata": {},
     "output_type": "execute_result"
    }
   ],
   "source": [
    "un_unregion_70_20_eastern_africa"
   ]
  },
  {
   "cell_type": "code",
   "execution_count": 322,
   "id": "e2201fbd-0e3b-4b5e-8296-6ae0a7f19106",
   "metadata": {},
   "outputs": [],
   "source": [
    "un_unregion_70_10_eastern_africa['Percent Change']=((un_unregion_70_10_eastern_africa[1]-un_unregion_70_10_eastern_africa[0])/un_unregion_70_10_eastern_africa[0]*100)"
   ]
  },
  {
   "cell_type": "code",
   "execution_count": 323,
   "id": "8708da08-26b0-4f73-9fad-10faf12cc555",
   "metadata": {},
   "outputs": [],
   "source": [
    "un_unregion_10_20_eastern_africa['Percent Change']=((un_unregion_10_20_eastern_africa[1]-un_unregion_10_20_eastern_africa[0])/un_unregion_10_20_eastern_africa[0]*100)"
   ]
  },
  {
   "cell_type": "code",
   "execution_count": 324,
   "id": "c408fbbe-2aa7-493e-bf9f-f66b9d546f13",
   "metadata": {},
   "outputs": [],
   "source": [
    "un_unregion_70_20_eastern_africa['Percent Change']=((un_unregion_70_20_eastern_africa[1]-un_unregion_70_20_eastern_africa[0])/un_unregion_70_20_eastern_africa[0]*100)"
   ]
  },
  {
   "cell_type": "code",
   "execution_count": 325,
   "id": "14d22818-cc7d-4c31-8c3c-463f95088b44",
   "metadata": {},
   "outputs": [],
   "source": [
    "un_unregion_70_10_eastern_africa['Year']='1970-2010'"
   ]
  },
  {
   "cell_type": "code",
   "execution_count": 326,
   "id": "f2eb429e-eef6-4a86-9d4b-7e988126ea8a",
   "metadata": {},
   "outputs": [],
   "source": [
    "un_unregion_10_20_eastern_africa['Year']='2010-2020'"
   ]
  },
  {
   "cell_type": "code",
   "execution_count": 327,
   "id": "b8ecf264-fd26-4d47-bb76-326ce00c2243",
   "metadata": {},
   "outputs": [],
   "source": [
    "un_unregion_70_20_eastern_africa['Year']='1970-2020'"
   ]
  },
  {
   "cell_type": "code",
   "execution_count": 328,
   "id": "b392e849-c743-4982-9eeb-4c99358d1a93",
   "metadata": {},
   "outputs": [],
   "source": [
    "un_unregion_70_10_eastern_africa['Region']='Eastern Africa'"
   ]
  },
  {
   "cell_type": "code",
   "execution_count": 329,
   "id": "6a28f09e-cf27-4b81-97bc-53b4a1e2e730",
   "metadata": {},
   "outputs": [],
   "source": [
    "un_unregion_10_20_eastern_africa['Region']='Eastern Africa'"
   ]
  },
  {
   "cell_type": "code",
   "execution_count": 330,
   "id": "97b5b1d1-822e-4744-b2da-1bac9e8d9534",
   "metadata": {},
   "outputs": [],
   "source": [
    "un_unregion_70_20_eastern_africa['Region']='Eastern Africa'"
   ]
  },
  {
   "cell_type": "code",
   "execution_count": 331,
   "id": "f234256e-4e5e-42aa-be06-b4f6cecb35b5",
   "metadata": {},
   "outputs": [],
   "source": [
    "un_unregion_70_10_eastern_africa=un_unregion_70_10_eastern_africa[['Indicators','Region','Year', 'Percent Change']]"
   ]
  },
  {
   "cell_type": "code",
   "execution_count": 332,
   "id": "775d912d-2ed1-44c0-ba82-77cc23232d0f",
   "metadata": {},
   "outputs": [],
   "source": [
    "un_unregion_10_20_eastern_africa=un_unregion_10_20_eastern_africa[['Indicators','Region','Year', 'Percent Change']]"
   ]
  },
  {
   "cell_type": "code",
   "execution_count": 333,
   "id": "7de9b2bf-41b1-4f14-9f9b-2bc8ed425244",
   "metadata": {},
   "outputs": [],
   "source": [
    "un_unregion_70_20_eastern_africa=un_unregion_70_20_eastern_africa[['Indicators','Region','Year', 'Percent Change']]"
   ]
  },
  {
   "cell_type": "code",
   "execution_count": 334,
   "id": "39e5d928-0ec9-40e7-88e2-741710bd23b0",
   "metadata": {},
   "outputs": [
    {
     "data": {
      "text/html": [
       "<div>\n",
       "<style scoped>\n",
       "    .dataframe tbody tr th:only-of-type {\n",
       "        vertical-align: middle;\n",
       "    }\n",
       "\n",
       "    .dataframe tbody tr th {\n",
       "        vertical-align: top;\n",
       "    }\n",
       "\n",
       "    .dataframe thead th {\n",
       "        text-align: right;\n",
       "    }\n",
       "</style>\n",
       "<table border=\"1\" class=\"dataframe\">\n",
       "  <thead>\n",
       "    <tr style=\"text-align: right;\">\n",
       "      <th></th>\n",
       "      <th>Indicators</th>\n",
       "      <th>Region</th>\n",
       "      <th>Year</th>\n",
       "      <th>Percent Change</th>\n",
       "    </tr>\n",
       "  </thead>\n",
       "  <tbody>\n",
       "    <tr>\n",
       "      <th>3</th>\n",
       "      <td>Births</td>\n",
       "      <td>Eastern Africa</td>\n",
       "      <td>1970-2010</td>\n",
       "      <td>147.995845</td>\n",
       "    </tr>\n",
       "    <tr>\n",
       "      <th>4</th>\n",
       "      <td>CBR</td>\n",
       "      <td>Eastern Africa</td>\n",
       "      <td>1970-2010</td>\n",
       "      <td>-21.147201</td>\n",
       "    </tr>\n",
       "    <tr>\n",
       "      <th>5</th>\n",
       "      <td>TFR</td>\n",
       "      <td>Eastern Africa</td>\n",
       "      <td>1970-2010</td>\n",
       "      <td>-26.149617</td>\n",
       "    </tr>\n",
       "    <tr>\n",
       "      <th>6</th>\n",
       "      <td>NRR</td>\n",
       "      <td>Eastern Africa</td>\n",
       "      <td>1970-2010</td>\n",
       "      <td>-7.122001</td>\n",
       "    </tr>\n",
       "    <tr>\n",
       "      <th>7</th>\n",
       "      <td>Population</td>\n",
       "      <td>Eastern Africa</td>\n",
       "      <td>1970-2010</td>\n",
       "      <td>214.510594</td>\n",
       "    </tr>\n",
       "  </tbody>\n",
       "</table>\n",
       "</div>"
      ],
      "text/plain": [
       "   Indicators          Region       Year Percent Change\n",
       "3      Births  Eastern Africa  1970-2010     147.995845\n",
       "4         CBR  Eastern Africa  1970-2010     -21.147201\n",
       "5         TFR  Eastern Africa  1970-2010     -26.149617\n",
       "6         NRR  Eastern Africa  1970-2010      -7.122001\n",
       "7  Population  Eastern Africa  1970-2010     214.510594"
      ]
     },
     "execution_count": 334,
     "metadata": {},
     "output_type": "execute_result"
    }
   ],
   "source": [
    "un_unregion_70_10_eastern_africa"
   ]
  },
  {
   "cell_type": "code",
   "execution_count": 335,
   "id": "77ef3f3e-61c3-448d-9c18-afbc72685ab6",
   "metadata": {},
   "outputs": [
    {
     "data": {
      "text/html": [
       "<div>\n",
       "<style scoped>\n",
       "    .dataframe tbody tr th:only-of-type {\n",
       "        vertical-align: middle;\n",
       "    }\n",
       "\n",
       "    .dataframe tbody tr th {\n",
       "        vertical-align: top;\n",
       "    }\n",
       "\n",
       "    .dataframe thead th {\n",
       "        text-align: right;\n",
       "    }\n",
       "</style>\n",
       "<table border=\"1\" class=\"dataframe\">\n",
       "  <thead>\n",
       "    <tr style=\"text-align: right;\">\n",
       "      <th></th>\n",
       "      <th>Indicators</th>\n",
       "      <th>Region</th>\n",
       "      <th>Year</th>\n",
       "      <th>Percent Change</th>\n",
       "    </tr>\n",
       "  </thead>\n",
       "  <tbody>\n",
       "    <tr>\n",
       "      <th>3</th>\n",
       "      <td>Births</td>\n",
       "      <td>Eastern Africa</td>\n",
       "      <td>2010-2020</td>\n",
       "      <td>14.070541</td>\n",
       "    </tr>\n",
       "    <tr>\n",
       "      <th>4</th>\n",
       "      <td>CBR</td>\n",
       "      <td>Eastern Africa</td>\n",
       "      <td>2010-2020</td>\n",
       "      <td>-12.708151</td>\n",
       "    </tr>\n",
       "    <tr>\n",
       "      <th>5</th>\n",
       "      <td>TFR</td>\n",
       "      <td>Eastern Africa</td>\n",
       "      <td>2010-2020</td>\n",
       "      <td>-16.736386</td>\n",
       "    </tr>\n",
       "    <tr>\n",
       "      <th>6</th>\n",
       "      <td>NRR</td>\n",
       "      <td>Eastern Africa</td>\n",
       "      <td>2010-2020</td>\n",
       "      <td>-11.527246</td>\n",
       "    </tr>\n",
       "    <tr>\n",
       "      <th>7</th>\n",
       "      <td>Population</td>\n",
       "      <td>Eastern Africa</td>\n",
       "      <td>2010-2020</td>\n",
       "      <td>30.798321</td>\n",
       "    </tr>\n",
       "  </tbody>\n",
       "</table>\n",
       "</div>"
      ],
      "text/plain": [
       "   Indicators          Region       Year Percent Change\n",
       "3      Births  Eastern Africa  2010-2020      14.070541\n",
       "4         CBR  Eastern Africa  2010-2020     -12.708151\n",
       "5         TFR  Eastern Africa  2010-2020     -16.736386\n",
       "6         NRR  Eastern Africa  2010-2020     -11.527246\n",
       "7  Population  Eastern Africa  2010-2020      30.798321"
      ]
     },
     "execution_count": 335,
     "metadata": {},
     "output_type": "execute_result"
    }
   ],
   "source": [
    "un_unregion_10_20_eastern_africa"
   ]
  },
  {
   "cell_type": "code",
   "execution_count": 336,
   "id": "263852ea-0284-4fb8-baf8-1577c6a78cd8",
   "metadata": {},
   "outputs": [],
   "source": [
    "un_unregion_70_10_western_europe = un_unregion_70_10.loc[un_unregion_70_10['Location']=='Western Europe'].transpose().reset_index().rename(columns={'index':'Indicators'}).drop([0,1,2])"
   ]
  },
  {
   "cell_type": "code",
   "execution_count": 337,
   "id": "aaea1eb1-1e77-454b-aee6-f6de386cfedd",
   "metadata": {},
   "outputs": [],
   "source": [
    "un_unregion_10_20_western_europe = un_unregion_10_20.loc[un_unregion_10_20['Location']=='Western Europe'].transpose().reset_index().rename(columns={'index':'Indicators'}).drop([0,1,2])"
   ]
  },
  {
   "cell_type": "code",
   "execution_count": 338,
   "id": "aa0b9aae-5808-4573-b58b-8fb65c1fd5fe",
   "metadata": {},
   "outputs": [],
   "source": [
    "un_unregion_70_20_western_europe = un_unregion_70_20.loc[un_unregion_70_20['Location']=='Western Europe'].transpose().reset_index().rename(columns={'index':'Indicators'}).drop([0,1,2])"
   ]
  },
  {
   "cell_type": "code",
   "execution_count": 339,
   "id": "e766587b-c9f6-49e1-bbc8-21e76b8ade05",
   "metadata": {},
   "outputs": [
    {
     "data": {
      "text/html": [
       "<div>\n",
       "<style scoped>\n",
       "    .dataframe tbody tr th:only-of-type {\n",
       "        vertical-align: middle;\n",
       "    }\n",
       "\n",
       "    .dataframe tbody tr th {\n",
       "        vertical-align: top;\n",
       "    }\n",
       "\n",
       "    .dataframe thead th {\n",
       "        text-align: right;\n",
       "    }\n",
       "</style>\n",
       "<table border=\"1\" class=\"dataframe\">\n",
       "  <thead>\n",
       "    <tr style=\"text-align: right;\">\n",
       "      <th></th>\n",
       "      <th>Indicators</th>\n",
       "      <th>22</th>\n",
       "      <th>23</th>\n",
       "    </tr>\n",
       "  </thead>\n",
       "  <tbody>\n",
       "    <tr>\n",
       "      <th>3</th>\n",
       "      <td>Births</td>\n",
       "      <td>2492.217</td>\n",
       "      <td>1959.473</td>\n",
       "    </tr>\n",
       "    <tr>\n",
       "      <th>4</th>\n",
       "      <td>CBR</td>\n",
       "      <td>15.038</td>\n",
       "      <td>10.383</td>\n",
       "    </tr>\n",
       "    <tr>\n",
       "      <th>5</th>\n",
       "      <td>TFR</td>\n",
       "      <td>2.2287</td>\n",
       "      <td>1.6789</td>\n",
       "    </tr>\n",
       "    <tr>\n",
       "      <th>6</th>\n",
       "      <td>NRR</td>\n",
       "      <td>1.0515</td>\n",
       "      <td>0.8126</td>\n",
       "    </tr>\n",
       "    <tr>\n",
       "      <th>7</th>\n",
       "      <td>Population</td>\n",
       "      <td>165462.594</td>\n",
       "      <td>188426.54</td>\n",
       "    </tr>\n",
       "  </tbody>\n",
       "</table>\n",
       "</div>"
      ],
      "text/plain": [
       "   Indicators          22         23\n",
       "3      Births    2492.217   1959.473\n",
       "4         CBR      15.038     10.383\n",
       "5         TFR      2.2287     1.6789\n",
       "6         NRR      1.0515     0.8126\n",
       "7  Population  165462.594  188426.54"
      ]
     },
     "execution_count": 339,
     "metadata": {},
     "output_type": "execute_result"
    }
   ],
   "source": [
    "un_unregion_70_10_western_europe"
   ]
  },
  {
   "cell_type": "code",
   "execution_count": 340,
   "id": "e8c8e017-c2a7-408e-af43-9a60834f7ebf",
   "metadata": {},
   "outputs": [
    {
     "data": {
      "text/html": [
       "<div>\n",
       "<style scoped>\n",
       "    .dataframe tbody tr th:only-of-type {\n",
       "        vertical-align: middle;\n",
       "    }\n",
       "\n",
       "    .dataframe tbody tr th {\n",
       "        vertical-align: top;\n",
       "    }\n",
       "\n",
       "    .dataframe thead th {\n",
       "        text-align: right;\n",
       "    }\n",
       "</style>\n",
       "<table border=\"1\" class=\"dataframe\">\n",
       "  <thead>\n",
       "    <tr style=\"text-align: right;\">\n",
       "      <th></th>\n",
       "      <th>Indicators</th>\n",
       "      <th>22</th>\n",
       "      <th>23</th>\n",
       "    </tr>\n",
       "  </thead>\n",
       "  <tbody>\n",
       "    <tr>\n",
       "      <th>3</th>\n",
       "      <td>Births</td>\n",
       "      <td>1959.473</td>\n",
       "      <td>1933.596</td>\n",
       "    </tr>\n",
       "    <tr>\n",
       "      <th>4</th>\n",
       "      <td>CBR</td>\n",
       "      <td>10.383</td>\n",
       "      <td>9.816</td>\n",
       "    </tr>\n",
       "    <tr>\n",
       "      <th>5</th>\n",
       "      <td>TFR</td>\n",
       "      <td>1.6789</td>\n",
       "      <td>1.6096</td>\n",
       "    </tr>\n",
       "    <tr>\n",
       "      <th>6</th>\n",
       "      <td>NRR</td>\n",
       "      <td>0.8126</td>\n",
       "      <td>0.7788</td>\n",
       "    </tr>\n",
       "    <tr>\n",
       "      <th>7</th>\n",
       "      <td>Population</td>\n",
       "      <td>188426.54</td>\n",
       "      <td>196790.392</td>\n",
       "    </tr>\n",
       "  </tbody>\n",
       "</table>\n",
       "</div>"
      ],
      "text/plain": [
       "   Indicators         22          23\n",
       "3      Births   1959.473    1933.596\n",
       "4         CBR     10.383       9.816\n",
       "5         TFR     1.6789      1.6096\n",
       "6         NRR     0.8126      0.7788\n",
       "7  Population  188426.54  196790.392"
      ]
     },
     "execution_count": 340,
     "metadata": {},
     "output_type": "execute_result"
    }
   ],
   "source": [
    "un_unregion_10_20_western_europe"
   ]
  },
  {
   "cell_type": "code",
   "execution_count": 341,
   "id": "a9356233-51f7-4a11-9a5e-483f687768ab",
   "metadata": {},
   "outputs": [],
   "source": [
    "un_unregion_70_10_western_europe['Percent Change']=((un_unregion_70_10_western_europe[23]-un_unregion_70_10_western_europe[22])/un_unregion_70_10_western_europe[22]*100)"
   ]
  },
  {
   "cell_type": "code",
   "execution_count": 342,
   "id": "e4c3932c-3f04-4ce0-83f7-aee51ba85a26",
   "metadata": {},
   "outputs": [],
   "source": [
    "un_unregion_10_20_western_europe['Percent Change']=((un_unregion_10_20_western_europe[23]-un_unregion_10_20_western_europe[22])/un_unregion_10_20_western_europe[22]*100)"
   ]
  },
  {
   "cell_type": "code",
   "execution_count": 343,
   "id": "a68e0400-51b2-4ac6-b6db-6b8b9badf13c",
   "metadata": {},
   "outputs": [],
   "source": [
    "un_unregion_70_20_western_europe['Percent Change']=((un_unregion_70_20_western_europe[23]-un_unregion_70_20_western_europe[22])/un_unregion_70_20_western_europe[22]*100)"
   ]
  },
  {
   "cell_type": "code",
   "execution_count": 344,
   "id": "a2421ff1-a7c2-437c-ae30-82679f4b472f",
   "metadata": {},
   "outputs": [],
   "source": [
    "un_unregion_70_10_western_europe['Year']='1970-2010'"
   ]
  },
  {
   "cell_type": "code",
   "execution_count": 345,
   "id": "95ef11e5-e592-4295-8e1e-3b2ab321fe96",
   "metadata": {},
   "outputs": [],
   "source": [
    "un_unregion_10_20_western_europe['Year']='2010-2020'"
   ]
  },
  {
   "cell_type": "code",
   "execution_count": 346,
   "id": "a3272250-895d-407f-9824-86c2419a645a",
   "metadata": {},
   "outputs": [],
   "source": [
    "un_unregion_70_20_western_europe['Year']='1970-2020'"
   ]
  },
  {
   "cell_type": "code",
   "execution_count": 347,
   "id": "b66c685c-eb76-4ac9-a5ac-f7fe608cfd44",
   "metadata": {},
   "outputs": [],
   "source": [
    "un_unregion_70_10_western_europe['Region']='Western Europe'"
   ]
  },
  {
   "cell_type": "code",
   "execution_count": 348,
   "id": "06baac6c-856f-4f6c-a872-cdac0b051203",
   "metadata": {},
   "outputs": [],
   "source": [
    "un_unregion_10_20_western_europe['Region']='Western Europe'"
   ]
  },
  {
   "cell_type": "code",
   "execution_count": 349,
   "id": "ce78a203-3e00-43f2-9604-31a725813e13",
   "metadata": {},
   "outputs": [],
   "source": [
    "un_unregion_70_20_western_europe['Region']='Western Europe'"
   ]
  },
  {
   "cell_type": "code",
   "execution_count": 350,
   "id": "8bac48a5-8c94-447e-9ad7-5e67aeb8c8c4",
   "metadata": {},
   "outputs": [],
   "source": [
    "un_unregion_70_10_western_europe=un_unregion_70_10_western_europe[['Indicators','Region','Year', 'Percent Change']]"
   ]
  },
  {
   "cell_type": "code",
   "execution_count": 351,
   "id": "09fecee1-6c2f-43ee-abd1-c2c173186243",
   "metadata": {},
   "outputs": [],
   "source": [
    "un_unregion_10_20_western_europe=un_unregion_10_20_western_europe[['Indicators','Region','Year', 'Percent Change']]"
   ]
  },
  {
   "cell_type": "code",
   "execution_count": 352,
   "id": "edf8a4ba-345a-4c27-93de-e3e40f90641f",
   "metadata": {},
   "outputs": [],
   "source": [
    "un_unregion_70_20_western_europe=un_unregion_70_20_western_europe[['Indicators','Region','Year', 'Percent Change']]"
   ]
  },
  {
   "cell_type": "code",
   "execution_count": 353,
   "id": "63a81b30-62bc-4629-9847-576817ec8322",
   "metadata": {},
   "outputs": [],
   "source": [
    "un_unregion_70_10_South_central_Asia = un_unregion_70_10.loc[un_unregion_70_10['Location']=='South-central Asia'].transpose().reset_index().rename(columns={'index':'Indicators'}).drop([0,1,2])"
   ]
  },
  {
   "cell_type": "code",
   "execution_count": 354,
   "id": "c3b7fc73-e650-487f-9884-e6a01901dd4d",
   "metadata": {},
   "outputs": [],
   "source": [
    "un_unregion_10_20_South_central_Asia = un_unregion_10_20.loc[un_unregion_10_20['Location']=='South-central Asia'].transpose().reset_index().rename(columns={'index':'Indicators'}).drop([0,1,2])"
   ]
  },
  {
   "cell_type": "code",
   "execution_count": 355,
   "id": "8aeec654-622f-4f57-aa91-fce219426819",
   "metadata": {},
   "outputs": [],
   "source": [
    "un_unregion_70_20_South_central_Asia = un_unregion_70_20.loc[un_unregion_70_20['Location']=='South-central Asia'].transpose().reset_index().rename(columns={'index':'Indicators'}).drop([0,1,2])"
   ]
  },
  {
   "cell_type": "code",
   "execution_count": 356,
   "id": "7448af75-dca0-4010-90de-d9146ea6f19d",
   "metadata": {},
   "outputs": [],
   "source": [
    "un_unregion_70_10_South_central_Asia['Percent Change']=((un_unregion_70_10_South_central_Asia[39]-un_unregion_70_10_South_central_Asia[38])/un_unregion_70_10_South_central_Asia[38]*100)"
   ]
  },
  {
   "cell_type": "code",
   "execution_count": 357,
   "id": "5c2e42e7-a271-4460-aca6-5ced5482b5ab",
   "metadata": {},
   "outputs": [],
   "source": [
    "un_unregion_10_20_South_central_Asia['Percent Change']=((un_unregion_10_20_South_central_Asia[39]-un_unregion_10_20_South_central_Asia[38])/un_unregion_10_20_South_central_Asia[38]*100)"
   ]
  },
  {
   "cell_type": "code",
   "execution_count": 358,
   "id": "d7e04046-2b07-42bd-b82f-0f26d9c8234c",
   "metadata": {},
   "outputs": [],
   "source": [
    "un_unregion_70_20_South_central_Asia['Percent Change']=((un_unregion_70_20_South_central_Asia[39]-un_unregion_70_20_South_central_Asia[38])/un_unregion_70_20_South_central_Asia[38]*100)"
   ]
  },
  {
   "cell_type": "code",
   "execution_count": 359,
   "id": "18d8dacd-c5c3-4a21-9729-555534b4c029",
   "metadata": {},
   "outputs": [],
   "source": [
    "un_unregion_70_10_South_central_Asia['Year']='1970-2010'"
   ]
  },
  {
   "cell_type": "code",
   "execution_count": 360,
   "id": "58d8675b-fb03-47ad-bffd-4fd606aebdf5",
   "metadata": {},
   "outputs": [],
   "source": [
    "un_unregion_10_20_South_central_Asia['Year']='2010-2020'"
   ]
  },
  {
   "cell_type": "code",
   "execution_count": 361,
   "id": "e9a979a0-5094-4d73-b704-9aa54bede9cb",
   "metadata": {},
   "outputs": [],
   "source": [
    "un_unregion_70_20_South_central_Asia['Year']='1970-2020'"
   ]
  },
  {
   "cell_type": "code",
   "execution_count": 362,
   "id": "7b4b405e-de97-475b-9527-462a1de9c1e2",
   "metadata": {},
   "outputs": [],
   "source": [
    "un_unregion_70_10_South_central_Asia['Region']='South-central Asia'"
   ]
  },
  {
   "cell_type": "code",
   "execution_count": 363,
   "id": "3b66c7d0-b917-4807-9cf0-f75d1bddd060",
   "metadata": {},
   "outputs": [],
   "source": [
    "un_unregion_10_20_South_central_Asia['Region']='South-central Asia'"
   ]
  },
  {
   "cell_type": "code",
   "execution_count": 364,
   "id": "a42f7bde-7303-4ba8-af59-f0f1ef4a655b",
   "metadata": {},
   "outputs": [],
   "source": [
    "un_unregion_70_20_South_central_Asia['Region']='South-central Asia'"
   ]
  },
  {
   "cell_type": "code",
   "execution_count": 365,
   "id": "7d66ddce-be74-4726-a737-6ae46e84852f",
   "metadata": {},
   "outputs": [],
   "source": [
    "un_unregion_70_10_South_central_Asia=un_unregion_70_10_South_central_Asia[['Indicators','Region','Year', 'Percent Change']]"
   ]
  },
  {
   "cell_type": "code",
   "execution_count": 366,
   "id": "76724649-32ba-49db-9685-287b672b7d1a",
   "metadata": {},
   "outputs": [],
   "source": [
    "un_unregion_10_20_South_central_Asia=un_unregion_10_20_South_central_Asia[['Indicators','Region','Year', 'Percent Change']]"
   ]
  },
  {
   "cell_type": "code",
   "execution_count": 367,
   "id": "69a39e6b-18dd-4d3f-82e0-ab1a86a76eb6",
   "metadata": {},
   "outputs": [],
   "source": [
    "un_unregion_70_20_South_central_Asia=un_unregion_70_20_South_central_Asia[['Indicators','Region','Year', 'Percent Change']]"
   ]
  },
  {
   "cell_type": "code",
   "execution_count": 368,
   "id": "8571fe00-2021-4227-85c8-cf9315eb09f9",
   "metadata": {},
   "outputs": [
    {
     "data": {
      "text/html": [
       "<div>\n",
       "<style scoped>\n",
       "    .dataframe tbody tr th:only-of-type {\n",
       "        vertical-align: middle;\n",
       "    }\n",
       "\n",
       "    .dataframe tbody tr th {\n",
       "        vertical-align: top;\n",
       "    }\n",
       "\n",
       "    .dataframe thead th {\n",
       "        text-align: right;\n",
       "    }\n",
       "</style>\n",
       "<table border=\"1\" class=\"dataframe\">\n",
       "  <thead>\n",
       "    <tr style=\"text-align: right;\">\n",
       "      <th></th>\n",
       "      <th>level_0</th>\n",
       "      <th>Time</th>\n",
       "      <th>Location</th>\n",
       "      <th>Births</th>\n",
       "      <th>CBR</th>\n",
       "      <th>TFR</th>\n",
       "      <th>NRR</th>\n",
       "      <th>Population</th>\n",
       "    </tr>\n",
       "  </thead>\n",
       "  <tbody>\n",
       "    <tr>\n",
       "      <th>36</th>\n",
       "      <td>2756</td>\n",
       "      <td>1970</td>\n",
       "      <td>Polynesia</td>\n",
       "      <td>15.986</td>\n",
       "      <td>39.215</td>\n",
       "      <td>6.3189</td>\n",
       "      <td>2.713</td>\n",
       "      <td>403.319</td>\n",
       "    </tr>\n",
       "    <tr>\n",
       "      <th>37</th>\n",
       "      <td>2796</td>\n",
       "      <td>2010</td>\n",
       "      <td>Polynesia</td>\n",
       "      <td>15.727</td>\n",
       "      <td>23.461</td>\n",
       "      <td>3.1427</td>\n",
       "      <td>1.480</td>\n",
       "      <td>668.812</td>\n",
       "    </tr>\n",
       "  </tbody>\n",
       "</table>\n",
       "</div>"
      ],
      "text/plain": [
       "    level_0  Time   Location  Births     CBR     TFR    NRR  Population\n",
       "36     2756  1970  Polynesia  15.986  39.215  6.3189  2.713     403.319\n",
       "37     2796  2010  Polynesia  15.727  23.461  3.1427  1.480     668.812"
      ]
     },
     "execution_count": 368,
     "metadata": {},
     "output_type": "execute_result"
    }
   ],
   "source": [
    "un_unregion_70_10.loc[un_unregion_70_10['Location']=='Polynesia']"
   ]
  },
  {
   "cell_type": "code",
   "execution_count": 369,
   "id": "09587b44-96d0-45a0-b248-55f83b8cf2a4",
   "metadata": {},
   "outputs": [
    {
     "data": {
      "text/html": [
       "<div>\n",
       "<style scoped>\n",
       "    .dataframe tbody tr th:only-of-type {\n",
       "        vertical-align: middle;\n",
       "    }\n",
       "\n",
       "    .dataframe tbody tr th {\n",
       "        vertical-align: top;\n",
       "    }\n",
       "\n",
       "    .dataframe thead th {\n",
       "        text-align: right;\n",
       "    }\n",
       "</style>\n",
       "<table border=\"1\" class=\"dataframe\">\n",
       "  <thead>\n",
       "    <tr style=\"text-align: right;\">\n",
       "      <th></th>\n",
       "      <th>level_0</th>\n",
       "      <th>Time</th>\n",
       "      <th>Location</th>\n",
       "      <th>Births</th>\n",
       "      <th>CBR</th>\n",
       "      <th>TFR</th>\n",
       "      <th>NRR</th>\n",
       "      <th>Population</th>\n",
       "    </tr>\n",
       "  </thead>\n",
       "  <tbody>\n",
       "    <tr>\n",
       "      <th>36</th>\n",
       "      <td>2796</td>\n",
       "      <td>2010</td>\n",
       "      <td>Polynesia</td>\n",
       "      <td>15.727</td>\n",
       "      <td>23.461</td>\n",
       "      <td>3.1427</td>\n",
       "      <td>1.4800</td>\n",
       "      <td>668.812</td>\n",
       "    </tr>\n",
       "    <tr>\n",
       "      <th>37</th>\n",
       "      <td>2806</td>\n",
       "      <td>2020</td>\n",
       "      <td>Polynesia</td>\n",
       "      <td>13.047</td>\n",
       "      <td>18.958</td>\n",
       "      <td>2.6344</td>\n",
       "      <td>1.2401</td>\n",
       "      <td>687.130</td>\n",
       "    </tr>\n",
       "  </tbody>\n",
       "</table>\n",
       "</div>"
      ],
      "text/plain": [
       "    level_0  Time   Location  Births     CBR     TFR     NRR  Population\n",
       "36     2796  2010  Polynesia  15.727  23.461  3.1427  1.4800     668.812\n",
       "37     2806  2020  Polynesia  13.047  18.958  2.6344  1.2401     687.130"
      ]
     },
     "execution_count": 369,
     "metadata": {},
     "output_type": "execute_result"
    }
   ],
   "source": [
    "un_unregion_10_20.loc[un_unregion_10_20['Location']=='Polynesia']"
   ]
  },
  {
   "cell_type": "code",
   "execution_count": 370,
   "id": "e42f5d90-2bb4-435e-87c5-17a8bcb7d52f",
   "metadata": {},
   "outputs": [
    {
     "data": {
      "text/html": [
       "<div>\n",
       "<style scoped>\n",
       "    .dataframe tbody tr th:only-of-type {\n",
       "        vertical-align: middle;\n",
       "    }\n",
       "\n",
       "    .dataframe tbody tr th {\n",
       "        vertical-align: top;\n",
       "    }\n",
       "\n",
       "    .dataframe thead th {\n",
       "        text-align: right;\n",
       "    }\n",
       "</style>\n",
       "<table border=\"1\" class=\"dataframe\">\n",
       "  <thead>\n",
       "    <tr style=\"text-align: right;\">\n",
       "      <th></th>\n",
       "      <th>level_0</th>\n",
       "      <th>Time</th>\n",
       "      <th>Location</th>\n",
       "      <th>Births</th>\n",
       "      <th>CBR</th>\n",
       "      <th>TFR</th>\n",
       "      <th>NRR</th>\n",
       "      <th>Population</th>\n",
       "    </tr>\n",
       "  </thead>\n",
       "  <tbody>\n",
       "    <tr>\n",
       "      <th>36</th>\n",
       "      <td>2756</td>\n",
       "      <td>1970</td>\n",
       "      <td>Polynesia</td>\n",
       "      <td>15.986</td>\n",
       "      <td>39.215</td>\n",
       "      <td>6.3189</td>\n",
       "      <td>2.7130</td>\n",
       "      <td>403.319</td>\n",
       "    </tr>\n",
       "    <tr>\n",
       "      <th>37</th>\n",
       "      <td>2806</td>\n",
       "      <td>2020</td>\n",
       "      <td>Polynesia</td>\n",
       "      <td>13.047</td>\n",
       "      <td>18.958</td>\n",
       "      <td>2.6344</td>\n",
       "      <td>1.2401</td>\n",
       "      <td>687.130</td>\n",
       "    </tr>\n",
       "  </tbody>\n",
       "</table>\n",
       "</div>"
      ],
      "text/plain": [
       "    level_0  Time   Location  Births     CBR     TFR     NRR  Population\n",
       "36     2756  1970  Polynesia  15.986  39.215  6.3189  2.7130     403.319\n",
       "37     2806  2020  Polynesia  13.047  18.958  2.6344  1.2401     687.130"
      ]
     },
     "execution_count": 370,
     "metadata": {},
     "output_type": "execute_result"
    }
   ],
   "source": [
    "un_unregion_70_20.loc[un_unregion_10_20['Location']=='Polynesia']"
   ]
  },
  {
   "cell_type": "code",
   "execution_count": 371,
   "id": "649fb34f-1de0-42d5-8a87-0b8073f026d0",
   "metadata": {},
   "outputs": [],
   "source": [
    "un_unregion_70_10_polynesia = un_unregion_70_10.loc[un_unregion_70_10['Location']=='Polynesia'].transpose().reset_index().rename(columns={'index':'Indicators'}).drop([0,1,2])"
   ]
  },
  {
   "cell_type": "code",
   "execution_count": 372,
   "id": "6f5485fe-2d84-4e29-843e-c9b5914dc78e",
   "metadata": {},
   "outputs": [],
   "source": [
    "un_unregion_10_20_polynesia = un_unregion_10_20.loc[un_unregion_10_20['Location']=='Polynesia'].transpose().reset_index().rename(columns={'index':'Indicators'}).drop([0,1,2])"
   ]
  },
  {
   "cell_type": "code",
   "execution_count": 373,
   "id": "8bb77237-a931-4de7-a630-3bf3ccccdfa1",
   "metadata": {},
   "outputs": [],
   "source": [
    "un_unregion_70_20_polynesia = un_unregion_70_20.loc[un_unregion_70_20['Location']=='Polynesia'].transpose().reset_index().rename(columns={'index':'Indicators'}).drop([0,1,2])"
   ]
  },
  {
   "cell_type": "code",
   "execution_count": 374,
   "id": "0ea8d813-240c-42d5-b7fd-f0ce33ef318e",
   "metadata": {},
   "outputs": [],
   "source": [
    "un_unregion_70_10_polynesia['Percent Change']=((un_unregion_70_10_polynesia[37]-un_unregion_70_10_polynesia[36])/un_unregion_70_10_polynesia[36]*100)"
   ]
  },
  {
   "cell_type": "code",
   "execution_count": 375,
   "id": "47be74e3-b4a0-4075-b1c1-e041c92077fd",
   "metadata": {},
   "outputs": [],
   "source": [
    "un_unregion_10_20_polynesia['Percent Change']=((un_unregion_10_20_polynesia[37]-un_unregion_10_20_polynesia[36])/un_unregion_10_20_polynesia[36]*100)"
   ]
  },
  {
   "cell_type": "code",
   "execution_count": 376,
   "id": "7b25ebdf-2b33-4a65-b990-b90ffe7600fc",
   "metadata": {},
   "outputs": [],
   "source": [
    "un_unregion_70_20_polynesia['Percent Change']=((un_unregion_70_20_polynesia[37]-un_unregion_70_20_polynesia[36])/un_unregion_70_20_polynesia[36]*100)"
   ]
  },
  {
   "cell_type": "code",
   "execution_count": 377,
   "id": "1498acac-1bab-4946-94c6-cf051f27c9c8",
   "metadata": {},
   "outputs": [],
   "source": [
    "un_unregion_70_10_polynesia['Year']='1970-2010'"
   ]
  },
  {
   "cell_type": "code",
   "execution_count": 378,
   "id": "d9561133-882a-47cd-8a2d-eadc0a88cffc",
   "metadata": {},
   "outputs": [],
   "source": [
    "un_unregion_10_20_polynesia['Year']='2010-2020'"
   ]
  },
  {
   "cell_type": "code",
   "execution_count": 379,
   "id": "7920786c-e2aa-4be7-8750-7d63cf35fbb7",
   "metadata": {},
   "outputs": [],
   "source": [
    "un_unregion_70_20_polynesia['Year']='1970-2020'"
   ]
  },
  {
   "cell_type": "code",
   "execution_count": 380,
   "id": "cd1023aa-82d6-473d-85a7-812f4a8bebf2",
   "metadata": {},
   "outputs": [],
   "source": [
    "un_unregion_70_10_polynesia['Region']='Polynesia'"
   ]
  },
  {
   "cell_type": "code",
   "execution_count": 381,
   "id": "92b08e20-3e76-47eb-9a39-52163197d4e9",
   "metadata": {},
   "outputs": [],
   "source": [
    "un_unregion_10_20_polynesia['Region']='Polynesia'"
   ]
  },
  {
   "cell_type": "code",
   "execution_count": 382,
   "id": "5cfcec87-ed57-41ba-9290-97344f60380a",
   "metadata": {},
   "outputs": [],
   "source": [
    "un_unregion_70_20_polynesia['Region']='Polynesia'"
   ]
  },
  {
   "cell_type": "code",
   "execution_count": 383,
   "id": "585feb2e-3f0a-4478-a6fc-7393f79de50f",
   "metadata": {},
   "outputs": [],
   "source": [
    "un_unregion_70_10_polynesia=un_unregion_70_10_polynesia[['Indicators','Region','Year', 'Percent Change']]"
   ]
  },
  {
   "cell_type": "code",
   "execution_count": 384,
   "id": "77371d7f-9859-4d68-8452-10a95a7d42b9",
   "metadata": {},
   "outputs": [],
   "source": [
    "un_unregion_10_20_polynesia=un_unregion_10_20_polynesia[['Indicators','Region','Year', 'Percent Change']]"
   ]
  },
  {
   "cell_type": "code",
   "execution_count": 385,
   "id": "3ece1408-4829-406d-90ea-b9d79b6f1d12",
   "metadata": {},
   "outputs": [],
   "source": [
    "un_unregion_70_20_polynesia=un_unregion_70_20_polynesia[['Indicators','Region','Year', 'Percent Change']]"
   ]
  },
  {
   "cell_type": "code",
   "execution_count": 386,
   "id": "3a015ab0-9a86-47cd-9b89-26d4dc8c5db9",
   "metadata": {},
   "outputs": [
    {
     "data": {
      "text/html": [
       "<div>\n",
       "<style scoped>\n",
       "    .dataframe tbody tr th:only-of-type {\n",
       "        vertical-align: middle;\n",
       "    }\n",
       "\n",
       "    .dataframe tbody tr th {\n",
       "        vertical-align: top;\n",
       "    }\n",
       "\n",
       "    .dataframe thead th {\n",
       "        text-align: right;\n",
       "    }\n",
       "</style>\n",
       "<table border=\"1\" class=\"dataframe\">\n",
       "  <thead>\n",
       "    <tr style=\"text-align: right;\">\n",
       "      <th></th>\n",
       "      <th>level_0</th>\n",
       "      <th>Time</th>\n",
       "      <th>Location</th>\n",
       "      <th>Births</th>\n",
       "      <th>CBR</th>\n",
       "      <th>TFR</th>\n",
       "      <th>NRR</th>\n",
       "      <th>Population</th>\n",
       "    </tr>\n",
       "  </thead>\n",
       "  <tbody>\n",
       "    <tr>\n",
       "      <th>32</th>\n",
       "      <td>2452</td>\n",
       "      <td>1970</td>\n",
       "      <td>Melanesia</td>\n",
       "      <td>144.20</td>\n",
       "      <td>42.300</td>\n",
       "      <td>6.0307</td>\n",
       "      <td>2.3415</td>\n",
       "      <td>3368.174</td>\n",
       "    </tr>\n",
       "    <tr>\n",
       "      <th>33</th>\n",
       "      <td>2492</td>\n",
       "      <td>2010</td>\n",
       "      <td>Melanesia</td>\n",
       "      <td>284.87</td>\n",
       "      <td>29.746</td>\n",
       "      <td>3.7481</td>\n",
       "      <td>1.6470</td>\n",
       "      <td>9445.920</td>\n",
       "    </tr>\n",
       "  </tbody>\n",
       "</table>\n",
       "</div>"
      ],
      "text/plain": [
       "    level_0  Time   Location  Births     CBR     TFR     NRR  Population\n",
       "32     2452  1970  Melanesia  144.20  42.300  6.0307  2.3415    3368.174\n",
       "33     2492  2010  Melanesia  284.87  29.746  3.7481  1.6470    9445.920"
      ]
     },
     "execution_count": 386,
     "metadata": {},
     "output_type": "execute_result"
    }
   ],
   "source": [
    "un_unregion_70_10.loc[un_unregion_70_10['Location']=='Melanesia']"
   ]
  },
  {
   "cell_type": "code",
   "execution_count": 387,
   "id": "84807239-9feb-4cf5-8f14-e0c9799bceac",
   "metadata": {},
   "outputs": [
    {
     "data": {
      "text/html": [
       "<div>\n",
       "<style scoped>\n",
       "    .dataframe tbody tr th:only-of-type {\n",
       "        vertical-align: middle;\n",
       "    }\n",
       "\n",
       "    .dataframe tbody tr th {\n",
       "        vertical-align: top;\n",
       "    }\n",
       "\n",
       "    .dataframe thead th {\n",
       "        text-align: right;\n",
       "    }\n",
       "</style>\n",
       "<table border=\"1\" class=\"dataframe\">\n",
       "  <thead>\n",
       "    <tr style=\"text-align: right;\">\n",
       "      <th></th>\n",
       "      <th>level_0</th>\n",
       "      <th>Time</th>\n",
       "      <th>Location</th>\n",
       "      <th>Births</th>\n",
       "      <th>CBR</th>\n",
       "      <th>TFR</th>\n",
       "      <th>NRR</th>\n",
       "      <th>Population</th>\n",
       "    </tr>\n",
       "  </thead>\n",
       "  <tbody>\n",
       "    <tr>\n",
       "      <th>32</th>\n",
       "      <td>2492</td>\n",
       "      <td>2010</td>\n",
       "      <td>Melanesia</td>\n",
       "      <td>284.870</td>\n",
       "      <td>29.746</td>\n",
       "      <td>3.7481</td>\n",
       "      <td>1.647</td>\n",
       "      <td>9445.920</td>\n",
       "    </tr>\n",
       "    <tr>\n",
       "      <th>33</th>\n",
       "      <td>2502</td>\n",
       "      <td>2020</td>\n",
       "      <td>Melanesia</td>\n",
       "      <td>307.341</td>\n",
       "      <td>25.488</td>\n",
       "      <td>3.2146</td>\n",
       "      <td>1.448</td>\n",
       "      <td>11943.945</td>\n",
       "    </tr>\n",
       "  </tbody>\n",
       "</table>\n",
       "</div>"
      ],
      "text/plain": [
       "    level_0  Time   Location   Births     CBR     TFR    NRR  Population\n",
       "32     2492  2010  Melanesia  284.870  29.746  3.7481  1.647    9445.920\n",
       "33     2502  2020  Melanesia  307.341  25.488  3.2146  1.448   11943.945"
      ]
     },
     "execution_count": 387,
     "metadata": {},
     "output_type": "execute_result"
    }
   ],
   "source": [
    "un_unregion_10_20.loc[un_unregion_10_20['Location']=='Melanesia']"
   ]
  },
  {
   "cell_type": "code",
   "execution_count": 388,
   "id": "b28d600f-78d4-4768-8b8b-37a981349ea5",
   "metadata": {},
   "outputs": [
    {
     "data": {
      "text/html": [
       "<div>\n",
       "<style scoped>\n",
       "    .dataframe tbody tr th:only-of-type {\n",
       "        vertical-align: middle;\n",
       "    }\n",
       "\n",
       "    .dataframe tbody tr th {\n",
       "        vertical-align: top;\n",
       "    }\n",
       "\n",
       "    .dataframe thead th {\n",
       "        text-align: right;\n",
       "    }\n",
       "</style>\n",
       "<table border=\"1\" class=\"dataframe\">\n",
       "  <thead>\n",
       "    <tr style=\"text-align: right;\">\n",
       "      <th></th>\n",
       "      <th>level_0</th>\n",
       "      <th>Time</th>\n",
       "      <th>Location</th>\n",
       "      <th>Births</th>\n",
       "      <th>CBR</th>\n",
       "      <th>TFR</th>\n",
       "      <th>NRR</th>\n",
       "      <th>Population</th>\n",
       "    </tr>\n",
       "  </thead>\n",
       "  <tbody>\n",
       "    <tr>\n",
       "      <th>32</th>\n",
       "      <td>2452</td>\n",
       "      <td>1970</td>\n",
       "      <td>Melanesia</td>\n",
       "      <td>144.200</td>\n",
       "      <td>42.300</td>\n",
       "      <td>6.0307</td>\n",
       "      <td>2.3415</td>\n",
       "      <td>3368.174</td>\n",
       "    </tr>\n",
       "    <tr>\n",
       "      <th>33</th>\n",
       "      <td>2502</td>\n",
       "      <td>2020</td>\n",
       "      <td>Melanesia</td>\n",
       "      <td>307.341</td>\n",
       "      <td>25.488</td>\n",
       "      <td>3.2146</td>\n",
       "      <td>1.4480</td>\n",
       "      <td>11943.945</td>\n",
       "    </tr>\n",
       "  </tbody>\n",
       "</table>\n",
       "</div>"
      ],
      "text/plain": [
       "    level_0  Time   Location   Births     CBR     TFR     NRR  Population\n",
       "32     2452  1970  Melanesia  144.200  42.300  6.0307  2.3415    3368.174\n",
       "33     2502  2020  Melanesia  307.341  25.488  3.2146  1.4480   11943.945"
      ]
     },
     "execution_count": 388,
     "metadata": {},
     "output_type": "execute_result"
    }
   ],
   "source": [
    "un_unregion_70_20.loc[un_unregion_10_20['Location']=='Melanesia']"
   ]
  },
  {
   "cell_type": "code",
   "execution_count": 389,
   "id": "c2282f3c-de18-4253-b030-96c5842c10ae",
   "metadata": {},
   "outputs": [],
   "source": [
    "un_unregion_70_10_melanesia = un_unregion_70_10.loc[un_unregion_70_10['Location']=='Melanesia'].transpose().reset_index().rename(columns={'index':'Indicators'}).drop([0,1,2])"
   ]
  },
  {
   "cell_type": "code",
   "execution_count": 390,
   "id": "aa53bdd8-e9b3-4d5f-8761-cda12d99d74d",
   "metadata": {},
   "outputs": [],
   "source": [
    "un_unregion_10_20_melanesia = un_unregion_10_20.loc[un_unregion_10_20['Location']=='Melanesia'].transpose().reset_index().rename(columns={'index':'Indicators'}).drop([0,1,2])"
   ]
  },
  {
   "cell_type": "code",
   "execution_count": 391,
   "id": "607d3c00-78f7-4c9c-b769-b3911e96024c",
   "metadata": {},
   "outputs": [],
   "source": [
    "un_unregion_70_20_melanesia = un_unregion_70_20.loc[un_unregion_70_20['Location']=='Melanesia'].transpose().reset_index().rename(columns={'index':'Indicators'}).drop([0,1,2])"
   ]
  },
  {
   "cell_type": "code",
   "execution_count": 392,
   "id": "eae940c2-f912-4730-a57e-1826fbf65cd5",
   "metadata": {},
   "outputs": [],
   "source": [
    "un_unregion_70_10_melanesia['Percent Change']=((un_unregion_70_10_melanesia[33]-un_unregion_70_10_melanesia[32])/un_unregion_70_10_melanesia[32]*100)"
   ]
  },
  {
   "cell_type": "code",
   "execution_count": 393,
   "id": "38fba71f-bb20-4952-a0ca-878ccebb694d",
   "metadata": {},
   "outputs": [],
   "source": [
    "un_unregion_10_20_melanesia['Percent Change']=((un_unregion_10_20_melanesia[33]-un_unregion_10_20_melanesia[32])/un_unregion_10_20_melanesia[32]*100)"
   ]
  },
  {
   "cell_type": "code",
   "execution_count": 394,
   "id": "a1128e55-f45e-4a04-a85e-b862246cd460",
   "metadata": {},
   "outputs": [],
   "source": [
    "un_unregion_70_20_melanesia['Percent Change']=((un_unregion_70_20_melanesia[33]-un_unregion_70_20_melanesia[32])/un_unregion_70_20_melanesia[32]*100)"
   ]
  },
  {
   "cell_type": "code",
   "execution_count": 395,
   "id": "53f0e242-a0ac-4f25-b88f-94c57ef85087",
   "metadata": {},
   "outputs": [],
   "source": [
    "un_unregion_70_10_melanesia['Year']='1970-2010'"
   ]
  },
  {
   "cell_type": "code",
   "execution_count": 396,
   "id": "a28d5841-1cde-46f6-b287-e2ed2e979cd7",
   "metadata": {},
   "outputs": [],
   "source": [
    "un_unregion_10_20_melanesia['Year']='2010-2020'"
   ]
  },
  {
   "cell_type": "code",
   "execution_count": 397,
   "id": "1d28ec18-4bea-4db7-a085-55704522cb0d",
   "metadata": {},
   "outputs": [],
   "source": [
    "un_unregion_70_20_melanesia['Year']='1970-2020'"
   ]
  },
  {
   "cell_type": "code",
   "execution_count": 398,
   "id": "d3fc5b72-b912-4b7d-8e24-75df163296fd",
   "metadata": {},
   "outputs": [],
   "source": [
    "un_unregion_70_10_melanesia['Region']='Melanesia'"
   ]
  },
  {
   "cell_type": "code",
   "execution_count": 399,
   "id": "a4db05ac-e0a1-4a14-8f42-bbf2e93c5fba",
   "metadata": {},
   "outputs": [],
   "source": [
    "un_unregion_10_20_melanesia['Region']='Melanesia'"
   ]
  },
  {
   "cell_type": "code",
   "execution_count": 400,
   "id": "39cf30d3-5c2f-4584-8307-325546632802",
   "metadata": {},
   "outputs": [],
   "source": [
    "un_unregion_70_20_melanesia['Region']='Melanesia'"
   ]
  },
  {
   "cell_type": "code",
   "execution_count": 401,
   "id": "e467694d-bf7e-4871-91da-8faf3fc16518",
   "metadata": {},
   "outputs": [],
   "source": [
    "un_unregion_70_10_melanesia=un_unregion_70_10_melanesia[['Indicators','Region','Year', 'Percent Change']]"
   ]
  },
  {
   "cell_type": "code",
   "execution_count": 402,
   "id": "2470018f-66dd-414d-9ea6-1d829b61c343",
   "metadata": {},
   "outputs": [],
   "source": [
    "un_unregion_10_20_melanesia=un_unregion_10_20_melanesia[['Indicators','Region','Year', 'Percent Change']]"
   ]
  },
  {
   "cell_type": "code",
   "execution_count": 403,
   "id": "b61a866b-868e-4e50-ae9d-c6fea7de120f",
   "metadata": {},
   "outputs": [],
   "source": [
    "un_unregion_70_20_melanesia=un_unregion_70_20_melanesia[['Indicators','Region','Year', 'Percent Change']]"
   ]
  },
  {
   "cell_type": "code",
   "execution_count": 404,
   "id": "79895123-e137-4d4d-86aa-52687081d7ec",
   "metadata": {},
   "outputs": [
    {
     "data": {
      "text/html": [
       "<div>\n",
       "<style scoped>\n",
       "    .dataframe tbody tr th:only-of-type {\n",
       "        vertical-align: middle;\n",
       "    }\n",
       "\n",
       "    .dataframe tbody tr th {\n",
       "        vertical-align: top;\n",
       "    }\n",
       "\n",
       "    .dataframe thead th {\n",
       "        text-align: right;\n",
       "    }\n",
       "</style>\n",
       "<table border=\"1\" class=\"dataframe\">\n",
       "  <thead>\n",
       "    <tr style=\"text-align: right;\">\n",
       "      <th></th>\n",
       "      <th>level_0</th>\n",
       "      <th>Time</th>\n",
       "      <th>Location</th>\n",
       "      <th>Births</th>\n",
       "      <th>CBR</th>\n",
       "      <th>TFR</th>\n",
       "      <th>NRR</th>\n",
       "      <th>Population</th>\n",
       "    </tr>\n",
       "  </thead>\n",
       "  <tbody>\n",
       "    <tr>\n",
       "      <th>34</th>\n",
       "      <td>2604</td>\n",
       "      <td>1970</td>\n",
       "      <td>Micronesia</td>\n",
       "      <td>9.448</td>\n",
       "      <td>36.968</td>\n",
       "      <td>5.7308</td>\n",
       "      <td>2.4436</td>\n",
       "      <td>251.922</td>\n",
       "    </tr>\n",
       "    <tr>\n",
       "      <th>35</th>\n",
       "      <td>2644</td>\n",
       "      <td>2010</td>\n",
       "      <td>Micronesia</td>\n",
       "      <td>12.936</td>\n",
       "      <td>25.005</td>\n",
       "      <td>3.2901</td>\n",
       "      <td>1.4948</td>\n",
       "      <td>516.517</td>\n",
       "    </tr>\n",
       "  </tbody>\n",
       "</table>\n",
       "</div>"
      ],
      "text/plain": [
       "    level_0  Time    Location  Births     CBR     TFR     NRR  Population\n",
       "34     2604  1970  Micronesia   9.448  36.968  5.7308  2.4436     251.922\n",
       "35     2644  2010  Micronesia  12.936  25.005  3.2901  1.4948     516.517"
      ]
     },
     "execution_count": 404,
     "metadata": {},
     "output_type": "execute_result"
    }
   ],
   "source": [
    "un_unregion_70_10.loc[un_unregion_70_10['Location']=='Micronesia']"
   ]
  },
  {
   "cell_type": "code",
   "execution_count": 405,
   "id": "90173b1f-b445-456d-9207-52f969fb2a4a",
   "metadata": {},
   "outputs": [
    {
     "data": {
      "text/html": [
       "<div>\n",
       "<style scoped>\n",
       "    .dataframe tbody tr th:only-of-type {\n",
       "        vertical-align: middle;\n",
       "    }\n",
       "\n",
       "    .dataframe tbody tr th {\n",
       "        vertical-align: top;\n",
       "    }\n",
       "\n",
       "    .dataframe thead th {\n",
       "        text-align: right;\n",
       "    }\n",
       "</style>\n",
       "<table border=\"1\" class=\"dataframe\">\n",
       "  <thead>\n",
       "    <tr style=\"text-align: right;\">\n",
       "      <th></th>\n",
       "      <th>level_0</th>\n",
       "      <th>Time</th>\n",
       "      <th>Location</th>\n",
       "      <th>Births</th>\n",
       "      <th>CBR</th>\n",
       "      <th>TFR</th>\n",
       "      <th>NRR</th>\n",
       "      <th>Population</th>\n",
       "    </tr>\n",
       "  </thead>\n",
       "  <tbody>\n",
       "    <tr>\n",
       "      <th>34</th>\n",
       "      <td>2644</td>\n",
       "      <td>2010</td>\n",
       "      <td>Micronesia</td>\n",
       "      <td>12.936</td>\n",
       "      <td>25.005</td>\n",
       "      <td>3.2901</td>\n",
       "      <td>1.4948</td>\n",
       "      <td>516.517</td>\n",
       "    </tr>\n",
       "    <tr>\n",
       "      <th>35</th>\n",
       "      <td>2654</td>\n",
       "      <td>2020</td>\n",
       "      <td>Micronesia</td>\n",
       "      <td>11.264</td>\n",
       "      <td>21.710</td>\n",
       "      <td>2.9428</td>\n",
       "      <td>1.3421</td>\n",
       "      <td>517.059</td>\n",
       "    </tr>\n",
       "  </tbody>\n",
       "</table>\n",
       "</div>"
      ],
      "text/plain": [
       "    level_0  Time    Location  Births     CBR     TFR     NRR  Population\n",
       "34     2644  2010  Micronesia  12.936  25.005  3.2901  1.4948     516.517\n",
       "35     2654  2020  Micronesia  11.264  21.710  2.9428  1.3421     517.059"
      ]
     },
     "execution_count": 405,
     "metadata": {},
     "output_type": "execute_result"
    }
   ],
   "source": [
    "un_unregion_10_20.loc[un_unregion_10_20['Location']=='Micronesia']"
   ]
  },
  {
   "cell_type": "code",
   "execution_count": 406,
   "id": "83cbd08d-8049-484f-a442-0f6577ca4d26",
   "metadata": {},
   "outputs": [
    {
     "data": {
      "text/html": [
       "<div>\n",
       "<style scoped>\n",
       "    .dataframe tbody tr th:only-of-type {\n",
       "        vertical-align: middle;\n",
       "    }\n",
       "\n",
       "    .dataframe tbody tr th {\n",
       "        vertical-align: top;\n",
       "    }\n",
       "\n",
       "    .dataframe thead th {\n",
       "        text-align: right;\n",
       "    }\n",
       "</style>\n",
       "<table border=\"1\" class=\"dataframe\">\n",
       "  <thead>\n",
       "    <tr style=\"text-align: right;\">\n",
       "      <th></th>\n",
       "      <th>level_0</th>\n",
       "      <th>Time</th>\n",
       "      <th>Location</th>\n",
       "      <th>Births</th>\n",
       "      <th>CBR</th>\n",
       "      <th>TFR</th>\n",
       "      <th>NRR</th>\n",
       "      <th>Population</th>\n",
       "    </tr>\n",
       "  </thead>\n",
       "  <tbody>\n",
       "    <tr>\n",
       "      <th>34</th>\n",
       "      <td>2604</td>\n",
       "      <td>1970</td>\n",
       "      <td>Micronesia</td>\n",
       "      <td>9.448</td>\n",
       "      <td>36.968</td>\n",
       "      <td>5.7308</td>\n",
       "      <td>2.4436</td>\n",
       "      <td>251.922</td>\n",
       "    </tr>\n",
       "    <tr>\n",
       "      <th>35</th>\n",
       "      <td>2654</td>\n",
       "      <td>2020</td>\n",
       "      <td>Micronesia</td>\n",
       "      <td>11.264</td>\n",
       "      <td>21.710</td>\n",
       "      <td>2.9428</td>\n",
       "      <td>1.3421</td>\n",
       "      <td>517.059</td>\n",
       "    </tr>\n",
       "  </tbody>\n",
       "</table>\n",
       "</div>"
      ],
      "text/plain": [
       "    level_0  Time    Location  Births     CBR     TFR     NRR  Population\n",
       "34     2604  1970  Micronesia   9.448  36.968  5.7308  2.4436     251.922\n",
       "35     2654  2020  Micronesia  11.264  21.710  2.9428  1.3421     517.059"
      ]
     },
     "execution_count": 406,
     "metadata": {},
     "output_type": "execute_result"
    }
   ],
   "source": [
    "un_unregion_70_20.loc[un_unregion_70_20['Location']=='Micronesia']"
   ]
  },
  {
   "cell_type": "code",
   "execution_count": 407,
   "id": "16ec8a2e-38cd-475f-ab99-a7cb7e15d4d3",
   "metadata": {},
   "outputs": [],
   "source": [
    "un_unregion_70_10_micronesia = un_unregion_70_10.loc[un_unregion_70_10['Location']=='Micronesia'].transpose().reset_index().rename(columns={'index':'Indicators'}).drop([0,1,2])"
   ]
  },
  {
   "cell_type": "code",
   "execution_count": 408,
   "id": "f2ef56d8-5355-4968-ae58-390a85477588",
   "metadata": {},
   "outputs": [],
   "source": [
    "un_unregion_10_20_micronesia = un_unregion_10_20.loc[un_unregion_10_20['Location']=='Micronesia'].transpose().reset_index().rename(columns={'index':'Indicators'}).drop([0,1,2])"
   ]
  },
  {
   "cell_type": "code",
   "execution_count": 409,
   "id": "b0dfe738-2da4-4138-8cfb-1f2323d299fa",
   "metadata": {},
   "outputs": [],
   "source": [
    "un_unregion_70_20_micronesia = un_unregion_70_20.loc[un_unregion_70_20['Location']=='Micronesia'].transpose().reset_index().rename(columns={'index':'Indicators'}).drop([0,1,2])"
   ]
  },
  {
   "cell_type": "code",
   "execution_count": 410,
   "id": "181716f6-31e5-470c-b283-6ea95fa778ec",
   "metadata": {},
   "outputs": [],
   "source": [
    "un_unregion_70_10_micronesia['Percent Change']=((un_unregion_70_10_micronesia[35]-un_unregion_70_10_micronesia[34])/un_unregion_70_10_micronesia[34]*100)"
   ]
  },
  {
   "cell_type": "code",
   "execution_count": 411,
   "id": "456a999b-b402-4aec-b1d3-f88951a9bf23",
   "metadata": {},
   "outputs": [],
   "source": [
    "un_unregion_10_20_micronesia['Percent Change']=((un_unregion_10_20_micronesia[35]-un_unregion_10_20_micronesia[34])/un_unregion_10_20_micronesia[34]*100)"
   ]
  },
  {
   "cell_type": "code",
   "execution_count": 412,
   "id": "ab117cc3-0c7b-47de-a043-70d420c8a681",
   "metadata": {},
   "outputs": [],
   "source": [
    "un_unregion_70_20_micronesia['Percent Change']=((un_unregion_70_20_micronesia[35]-un_unregion_70_20_micronesia[34])/un_unregion_70_20_micronesia[34]*100)"
   ]
  },
  {
   "cell_type": "code",
   "execution_count": 413,
   "id": "8bfe437d-de76-4df8-9152-8fd8f532191c",
   "metadata": {},
   "outputs": [],
   "source": [
    "un_unregion_70_10_micronesia['Year']='1970-2010'"
   ]
  },
  {
   "cell_type": "code",
   "execution_count": 414,
   "id": "5082dce4-8645-4843-8c18-8be2dacfbd26",
   "metadata": {},
   "outputs": [],
   "source": [
    "un_unregion_10_20_micronesia['Year']='2010-2020'"
   ]
  },
  {
   "cell_type": "code",
   "execution_count": 415,
   "id": "06e87aff-8fcb-488a-a582-f04e4c3bc6f0",
   "metadata": {},
   "outputs": [],
   "source": [
    "un_unregion_70_20_micronesia['Year']='1970-2020'"
   ]
  },
  {
   "cell_type": "code",
   "execution_count": 416,
   "id": "517eda94-4bfb-4f46-b788-ee5d8c8b8aad",
   "metadata": {},
   "outputs": [],
   "source": [
    "un_unregion_70_10_micronesia['Region']='Micronesia'"
   ]
  },
  {
   "cell_type": "code",
   "execution_count": 417,
   "id": "8eb32df5-b124-4c68-a502-040b4be95e4d",
   "metadata": {},
   "outputs": [],
   "source": [
    "un_unregion_10_20_micronesia['Region']='Micronesia'"
   ]
  },
  {
   "cell_type": "code",
   "execution_count": 418,
   "id": "b1d306c5-4659-49be-a2ff-1428ba8d3ad3",
   "metadata": {},
   "outputs": [],
   "source": [
    "un_unregion_70_20_micronesia['Region']='Micronesia'"
   ]
  },
  {
   "cell_type": "code",
   "execution_count": 419,
   "id": "daebb38b-809b-4c8e-bffc-0a4123df99eb",
   "metadata": {},
   "outputs": [],
   "source": [
    "un_unregion_70_10_micronesia=un_unregion_70_10_micronesia[['Indicators','Region','Year', 'Percent Change']]"
   ]
  },
  {
   "cell_type": "code",
   "execution_count": 420,
   "id": "2cfd2c44-7fa4-456d-b660-510ba7f8af1f",
   "metadata": {},
   "outputs": [],
   "source": [
    "un_unregion_10_20_micronesia=un_unregion_10_20_micronesia[['Indicators','Region','Year', 'Percent Change']]"
   ]
  },
  {
   "cell_type": "code",
   "execution_count": 421,
   "id": "b2e582bf-3f33-4ffc-a73f-7176c6f62cb5",
   "metadata": {},
   "outputs": [],
   "source": [
    "un_unregion_70_20_micronesia=un_unregion_70_20_micronesia[['Indicators','Region','Year', 'Percent Change']]"
   ]
  },
  {
   "cell_type": "code",
   "execution_count": 422,
   "id": "a0c23ca2-bc7c-4f25-88f7-b4a4b8339376",
   "metadata": {},
   "outputs": [
    {
     "data": {
      "text/html": [
       "<div>\n",
       "<style scoped>\n",
       "    .dataframe tbody tr th:only-of-type {\n",
       "        vertical-align: middle;\n",
       "    }\n",
       "\n",
       "    .dataframe tbody tr th {\n",
       "        vertical-align: top;\n",
       "    }\n",
       "\n",
       "    .dataframe thead th {\n",
       "        text-align: right;\n",
       "    }\n",
       "</style>\n",
       "<table border=\"1\" class=\"dataframe\">\n",
       "  <thead>\n",
       "    <tr style=\"text-align: right;\">\n",
       "      <th></th>\n",
       "      <th>level_0</th>\n",
       "      <th>Time</th>\n",
       "      <th>Location</th>\n",
       "      <th>Births</th>\n",
       "      <th>CBR</th>\n",
       "      <th>TFR</th>\n",
       "      <th>NRR</th>\n",
       "      <th>Population</th>\n",
       "    </tr>\n",
       "  </thead>\n",
       "  <tbody>\n",
       "    <tr>\n",
       "      <th>30</th>\n",
       "      <td>2300</td>\n",
       "      <td>1970</td>\n",
       "      <td>Australia/New Zealand</td>\n",
       "      <td>319.235</td>\n",
       "      <td>20.701</td>\n",
       "      <td>2.9149</td>\n",
       "      <td>1.3791</td>\n",
       "      <td>15199.700</td>\n",
       "    </tr>\n",
       "    <tr>\n",
       "      <th>31</th>\n",
       "      <td>2340</td>\n",
       "      <td>2010</td>\n",
       "      <td>Australia/New Zealand</td>\n",
       "      <td>364.895</td>\n",
       "      <td>13.775</td>\n",
       "      <td>1.9842</td>\n",
       "      <td>0.9560</td>\n",
       "      <td>26306.435</td>\n",
       "    </tr>\n",
       "  </tbody>\n",
       "</table>\n",
       "</div>"
      ],
      "text/plain": [
       "    level_0  Time               Location   Births     CBR     TFR     NRR  \\\n",
       "30     2300  1970  Australia/New Zealand  319.235  20.701  2.9149  1.3791   \n",
       "31     2340  2010  Australia/New Zealand  364.895  13.775  1.9842  0.9560   \n",
       "\n",
       "    Population  \n",
       "30   15199.700  \n",
       "31   26306.435  "
      ]
     },
     "execution_count": 422,
     "metadata": {},
     "output_type": "execute_result"
    }
   ],
   "source": [
    "un_unregion_70_10.loc[un_unregion_70_10['Location']=='Australia/New Zealand']"
   ]
  },
  {
   "cell_type": "code",
   "execution_count": 423,
   "id": "8895594b-9f59-437b-b6e1-49baf61af43c",
   "metadata": {},
   "outputs": [
    {
     "data": {
      "text/html": [
       "<div>\n",
       "<style scoped>\n",
       "    .dataframe tbody tr th:only-of-type {\n",
       "        vertical-align: middle;\n",
       "    }\n",
       "\n",
       "    .dataframe tbody tr th {\n",
       "        vertical-align: top;\n",
       "    }\n",
       "\n",
       "    .dataframe thead th {\n",
       "        text-align: right;\n",
       "    }\n",
       "</style>\n",
       "<table border=\"1\" class=\"dataframe\">\n",
       "  <thead>\n",
       "    <tr style=\"text-align: right;\">\n",
       "      <th></th>\n",
       "      <th>level_0</th>\n",
       "      <th>Time</th>\n",
       "      <th>Location</th>\n",
       "      <th>Births</th>\n",
       "      <th>CBR</th>\n",
       "      <th>TFR</th>\n",
       "      <th>NRR</th>\n",
       "      <th>Population</th>\n",
       "    </tr>\n",
       "  </thead>\n",
       "  <tbody>\n",
       "    <tr>\n",
       "      <th>30</th>\n",
       "      <td>2340</td>\n",
       "      <td>2010</td>\n",
       "      <td>Australia/New Zealand</td>\n",
       "      <td>364.895</td>\n",
       "      <td>13.775</td>\n",
       "      <td>1.9842</td>\n",
       "      <td>0.956</td>\n",
       "      <td>26306.435</td>\n",
       "    </tr>\n",
       "    <tr>\n",
       "      <th>31</th>\n",
       "      <td>2350</td>\n",
       "      <td>2020</td>\n",
       "      <td>Australia/New Zealand</td>\n",
       "      <td>352.547</td>\n",
       "      <td>11.441</td>\n",
       "      <td>1.5995</td>\n",
       "      <td>0.771</td>\n",
       "      <td>30692.423</td>\n",
       "    </tr>\n",
       "  </tbody>\n",
       "</table>\n",
       "</div>"
      ],
      "text/plain": [
       "    level_0  Time               Location   Births     CBR     TFR    NRR  \\\n",
       "30     2340  2010  Australia/New Zealand  364.895  13.775  1.9842  0.956   \n",
       "31     2350  2020  Australia/New Zealand  352.547  11.441  1.5995  0.771   \n",
       "\n",
       "    Population  \n",
       "30   26306.435  \n",
       "31   30692.423  "
      ]
     },
     "execution_count": 423,
     "metadata": {},
     "output_type": "execute_result"
    }
   ],
   "source": [
    "un_unregion_10_20.loc[un_unregion_10_20['Location']=='Australia/New Zealand']"
   ]
  },
  {
   "cell_type": "code",
   "execution_count": 424,
   "id": "971434a2-8617-4127-b7a0-3ea5a0e33918",
   "metadata": {},
   "outputs": [
    {
     "data": {
      "text/html": [
       "<div>\n",
       "<style scoped>\n",
       "    .dataframe tbody tr th:only-of-type {\n",
       "        vertical-align: middle;\n",
       "    }\n",
       "\n",
       "    .dataframe tbody tr th {\n",
       "        vertical-align: top;\n",
       "    }\n",
       "\n",
       "    .dataframe thead th {\n",
       "        text-align: right;\n",
       "    }\n",
       "</style>\n",
       "<table border=\"1\" class=\"dataframe\">\n",
       "  <thead>\n",
       "    <tr style=\"text-align: right;\">\n",
       "      <th></th>\n",
       "      <th>level_0</th>\n",
       "      <th>Time</th>\n",
       "      <th>Location</th>\n",
       "      <th>Births</th>\n",
       "      <th>CBR</th>\n",
       "      <th>TFR</th>\n",
       "      <th>NRR</th>\n",
       "      <th>Population</th>\n",
       "    </tr>\n",
       "  </thead>\n",
       "  <tbody>\n",
       "    <tr>\n",
       "      <th>30</th>\n",
       "      <td>2300</td>\n",
       "      <td>1970</td>\n",
       "      <td>Australia/New Zealand</td>\n",
       "      <td>319.235</td>\n",
       "      <td>20.701</td>\n",
       "      <td>2.9149</td>\n",
       "      <td>1.3791</td>\n",
       "      <td>15199.700</td>\n",
       "    </tr>\n",
       "    <tr>\n",
       "      <th>31</th>\n",
       "      <td>2350</td>\n",
       "      <td>2020</td>\n",
       "      <td>Australia/New Zealand</td>\n",
       "      <td>352.547</td>\n",
       "      <td>11.441</td>\n",
       "      <td>1.5995</td>\n",
       "      <td>0.7710</td>\n",
       "      <td>30692.423</td>\n",
       "    </tr>\n",
       "  </tbody>\n",
       "</table>\n",
       "</div>"
      ],
      "text/plain": [
       "    level_0  Time               Location   Births     CBR     TFR     NRR  \\\n",
       "30     2300  1970  Australia/New Zealand  319.235  20.701  2.9149  1.3791   \n",
       "31     2350  2020  Australia/New Zealand  352.547  11.441  1.5995  0.7710   \n",
       "\n",
       "    Population  \n",
       "30   15199.700  \n",
       "31   30692.423  "
      ]
     },
     "execution_count": 424,
     "metadata": {},
     "output_type": "execute_result"
    }
   ],
   "source": [
    "un_unregion_70_20.loc[un_unregion_70_20['Location']=='Australia/New Zealand']"
   ]
  },
  {
   "cell_type": "code",
   "execution_count": 425,
   "id": "3e5ba643-25dd-4bf3-a310-b1da8eb6308d",
   "metadata": {},
   "outputs": [],
   "source": [
    "un_unregion_70_10_australia_new_zealand = un_unregion_70_10.loc[un_unregion_70_10['Location']=='Australia/New Zealand'].transpose().reset_index().rename(columns={'index':'Indicators'}).drop([0,1,2])"
   ]
  },
  {
   "cell_type": "code",
   "execution_count": 426,
   "id": "899501c6-06ca-4964-83ad-cc828308d351",
   "metadata": {},
   "outputs": [],
   "source": [
    "un_unregion_10_20_australia_new_zealand = un_unregion_10_20.loc[un_unregion_10_20['Location']=='Australia/New Zealand'].transpose().reset_index().rename(columns={'index':'Indicators'}).drop([0,1,2])"
   ]
  },
  {
   "cell_type": "code",
   "execution_count": 427,
   "id": "a8b66881-20c9-489e-8fd4-e32b648d4605",
   "metadata": {},
   "outputs": [],
   "source": [
    "un_unregion_70_20_australia_new_zealand = un_unregion_70_20.loc[un_unregion_70_20['Location']=='Australia/New Zealand'].transpose().reset_index().rename(columns={'index':'Indicators'}).drop([0,1,2])"
   ]
  },
  {
   "cell_type": "code",
   "execution_count": 428,
   "id": "91d258ba-6996-4042-8e4b-6f5717cc093a",
   "metadata": {},
   "outputs": [],
   "source": [
    "un_unregion_70_10_australia_new_zealand['Percent Change']=((un_unregion_70_10_australia_new_zealand[31]-un_unregion_70_10_australia_new_zealand[30])/un_unregion_70_10_australia_new_zealand[30]*100)"
   ]
  },
  {
   "cell_type": "code",
   "execution_count": 429,
   "id": "326e2d67-0bdc-453c-9d9c-4f471f35c437",
   "metadata": {},
   "outputs": [],
   "source": [
    "un_unregion_10_20_australia_new_zealand['Percent Change']=((un_unregion_10_20_australia_new_zealand[31]-un_unregion_10_20_australia_new_zealand[30])/un_unregion_10_20_australia_new_zealand[30]*100)"
   ]
  },
  {
   "cell_type": "code",
   "execution_count": 430,
   "id": "0f959223-04c6-4209-afab-af53096d73b6",
   "metadata": {},
   "outputs": [],
   "source": [
    "un_unregion_70_20_australia_new_zealand['Percent Change']=((un_unregion_70_20_australia_new_zealand[31]-un_unregion_70_20_australia_new_zealand[30])/un_unregion_70_20_australia_new_zealand[30]*100)"
   ]
  },
  {
   "cell_type": "code",
   "execution_count": 431,
   "id": "60e67cae-ea9d-4157-9439-c3c2e8d723ae",
   "metadata": {},
   "outputs": [],
   "source": [
    "un_unregion_70_10_australia_new_zealand['Year']='1970-2010'"
   ]
  },
  {
   "cell_type": "code",
   "execution_count": 432,
   "id": "77fe777b-351b-49da-ba45-4050eb872f8d",
   "metadata": {},
   "outputs": [],
   "source": [
    "un_unregion_10_20_australia_new_zealand['Year']='2010-2020'"
   ]
  },
  {
   "cell_type": "code",
   "execution_count": 433,
   "id": "497349c0-8d1a-4ec5-b953-3f5d98228e6d",
   "metadata": {},
   "outputs": [],
   "source": [
    "un_unregion_70_20_australia_new_zealand['Year']='1970-2020'"
   ]
  },
  {
   "cell_type": "code",
   "execution_count": 434,
   "id": "8f97a5ce-5f8e-4916-9d2b-51efc181e28b",
   "metadata": {},
   "outputs": [],
   "source": [
    "un_unregion_70_10_australia_new_zealand['Region']='Australia/New Zealand'"
   ]
  },
  {
   "cell_type": "code",
   "execution_count": 435,
   "id": "9054ea20-4c1b-4185-a61d-f7e12866521e",
   "metadata": {},
   "outputs": [],
   "source": [
    "un_unregion_10_20_australia_new_zealand['Region']='Australia/New Zealand'"
   ]
  },
  {
   "cell_type": "code",
   "execution_count": 436,
   "id": "c65bf0ae-da5a-4d98-ac03-610c90366e29",
   "metadata": {},
   "outputs": [],
   "source": [
    "un_unregion_70_20_australia_new_zealand['Region']='Australia/New Zealand'"
   ]
  },
  {
   "cell_type": "code",
   "execution_count": 437,
   "id": "cb857c0c-ed1e-4dc4-975f-1345c3c7bccb",
   "metadata": {},
   "outputs": [],
   "source": [
    "un_unregion_70_10_australia_new_zealand=un_unregion_70_10_australia_new_zealand[['Indicators','Region','Year', 'Percent Change']]"
   ]
  },
  {
   "cell_type": "code",
   "execution_count": 438,
   "id": "02a2c4f7-43e3-4c31-af4e-65a5c8b46e12",
   "metadata": {},
   "outputs": [],
   "source": [
    "un_unregion_10_20_australia_new_zealand=un_unregion_10_20_australia_new_zealand[['Indicators','Region','Year', 'Percent Change']]"
   ]
  },
  {
   "cell_type": "code",
   "execution_count": 439,
   "id": "215f9a01-3c3f-4c32-8838-6c398fbdc5fb",
   "metadata": {},
   "outputs": [],
   "source": [
    "un_unregion_70_20_australia_new_zealand=un_unregion_70_20_australia_new_zealand[['Indicators','Region','Year', 'Percent Change']]"
   ]
  },
  {
   "cell_type": "code",
   "execution_count": 440,
   "id": "6f98393f-781e-47a3-bdc6-bcd20e519e72",
   "metadata": {},
   "outputs": [
    {
     "data": {
      "text/html": [
       "<div>\n",
       "<style scoped>\n",
       "    .dataframe tbody tr th:only-of-type {\n",
       "        vertical-align: middle;\n",
       "    }\n",
       "\n",
       "    .dataframe tbody tr th {\n",
       "        vertical-align: top;\n",
       "    }\n",
       "\n",
       "    .dataframe thead th {\n",
       "        text-align: right;\n",
       "    }\n",
       "</style>\n",
       "<table border=\"1\" class=\"dataframe\">\n",
       "  <thead>\n",
       "    <tr style=\"text-align: right;\">\n",
       "      <th></th>\n",
       "      <th>level_0</th>\n",
       "      <th>Time</th>\n",
       "      <th>Location</th>\n",
       "      <th>Births</th>\n",
       "      <th>CBR</th>\n",
       "      <th>TFR</th>\n",
       "      <th>NRR</th>\n",
       "      <th>Population</th>\n",
       "    </tr>\n",
       "  </thead>\n",
       "  <tbody>\n",
       "    <tr>\n",
       "      <th>28</th>\n",
       "      <td>2148</td>\n",
       "      <td>1970</td>\n",
       "      <td>South America</td>\n",
       "      <td>6592.914</td>\n",
       "      <td>34.364</td>\n",
       "      <td>4.8041</td>\n",
       "      <td>1.9691</td>\n",
       "      <td>189637.363</td>\n",
       "    </tr>\n",
       "    <tr>\n",
       "      <th>29</th>\n",
       "      <td>2188</td>\n",
       "      <td>2010</td>\n",
       "      <td>South America</td>\n",
       "      <td>6693.804</td>\n",
       "      <td>17.133</td>\n",
       "      <td>2.0510</td>\n",
       "      <td>0.9726</td>\n",
       "      <td>388815.118</td>\n",
       "    </tr>\n",
       "  </tbody>\n",
       "</table>\n",
       "</div>"
      ],
      "text/plain": [
       "    level_0  Time       Location    Births     CBR     TFR     NRR  Population\n",
       "28     2148  1970  South America  6592.914  34.364  4.8041  1.9691  189637.363\n",
       "29     2188  2010  South America  6693.804  17.133  2.0510  0.9726  388815.118"
      ]
     },
     "execution_count": 440,
     "metadata": {},
     "output_type": "execute_result"
    }
   ],
   "source": [
    "un_unregion_70_10.loc[un_unregion_70_10['Location']=='South America']"
   ]
  },
  {
   "cell_type": "code",
   "execution_count": 441,
   "id": "e5316889-e268-4a65-b63a-7e10806dfe80",
   "metadata": {},
   "outputs": [
    {
     "data": {
      "text/html": [
       "<div>\n",
       "<style scoped>\n",
       "    .dataframe tbody tr th:only-of-type {\n",
       "        vertical-align: middle;\n",
       "    }\n",
       "\n",
       "    .dataframe tbody tr th {\n",
       "        vertical-align: top;\n",
       "    }\n",
       "\n",
       "    .dataframe thead th {\n",
       "        text-align: right;\n",
       "    }\n",
       "</style>\n",
       "<table border=\"1\" class=\"dataframe\">\n",
       "  <thead>\n",
       "    <tr style=\"text-align: right;\">\n",
       "      <th></th>\n",
       "      <th>level_0</th>\n",
       "      <th>Time</th>\n",
       "      <th>Location</th>\n",
       "      <th>Births</th>\n",
       "      <th>CBR</th>\n",
       "      <th>TFR</th>\n",
       "      <th>NRR</th>\n",
       "      <th>Population</th>\n",
       "    </tr>\n",
       "  </thead>\n",
       "  <tbody>\n",
       "    <tr>\n",
       "      <th>28</th>\n",
       "      <td>2188</td>\n",
       "      <td>2010</td>\n",
       "      <td>South America</td>\n",
       "      <td>6693.804</td>\n",
       "      <td>17.133</td>\n",
       "      <td>2.0510</td>\n",
       "      <td>0.9726</td>\n",
       "      <td>388815.118</td>\n",
       "    </tr>\n",
       "    <tr>\n",
       "      <th>29</th>\n",
       "      <td>2198</td>\n",
       "      <td>2020</td>\n",
       "      <td>South America</td>\n",
       "      <td>5899.983</td>\n",
       "      <td>13.843</td>\n",
       "      <td>1.7595</td>\n",
       "      <td>0.8391</td>\n",
       "      <td>425034.708</td>\n",
       "    </tr>\n",
       "  </tbody>\n",
       "</table>\n",
       "</div>"
      ],
      "text/plain": [
       "    level_0  Time       Location    Births     CBR     TFR     NRR  Population\n",
       "28     2188  2010  South America  6693.804  17.133  2.0510  0.9726  388815.118\n",
       "29     2198  2020  South America  5899.983  13.843  1.7595  0.8391  425034.708"
      ]
     },
     "execution_count": 441,
     "metadata": {},
     "output_type": "execute_result"
    }
   ],
   "source": [
    "un_unregion_10_20.loc[un_unregion_10_20['Location']=='South America']"
   ]
  },
  {
   "cell_type": "code",
   "execution_count": 442,
   "id": "3064a9e0-8426-4d9a-833d-d70aed03139b",
   "metadata": {},
   "outputs": [
    {
     "data": {
      "text/html": [
       "<div>\n",
       "<style scoped>\n",
       "    .dataframe tbody tr th:only-of-type {\n",
       "        vertical-align: middle;\n",
       "    }\n",
       "\n",
       "    .dataframe tbody tr th {\n",
       "        vertical-align: top;\n",
       "    }\n",
       "\n",
       "    .dataframe thead th {\n",
       "        text-align: right;\n",
       "    }\n",
       "</style>\n",
       "<table border=\"1\" class=\"dataframe\">\n",
       "  <thead>\n",
       "    <tr style=\"text-align: right;\">\n",
       "      <th></th>\n",
       "      <th>level_0</th>\n",
       "      <th>Time</th>\n",
       "      <th>Location</th>\n",
       "      <th>Births</th>\n",
       "      <th>CBR</th>\n",
       "      <th>TFR</th>\n",
       "      <th>NRR</th>\n",
       "      <th>Population</th>\n",
       "    </tr>\n",
       "  </thead>\n",
       "  <tbody>\n",
       "    <tr>\n",
       "      <th>28</th>\n",
       "      <td>2148</td>\n",
       "      <td>1970</td>\n",
       "      <td>South America</td>\n",
       "      <td>6592.914</td>\n",
       "      <td>34.364</td>\n",
       "      <td>4.8041</td>\n",
       "      <td>1.9691</td>\n",
       "      <td>189637.363</td>\n",
       "    </tr>\n",
       "    <tr>\n",
       "      <th>29</th>\n",
       "      <td>2198</td>\n",
       "      <td>2020</td>\n",
       "      <td>South America</td>\n",
       "      <td>5899.983</td>\n",
       "      <td>13.843</td>\n",
       "      <td>1.7595</td>\n",
       "      <td>0.8391</td>\n",
       "      <td>425034.708</td>\n",
       "    </tr>\n",
       "  </tbody>\n",
       "</table>\n",
       "</div>"
      ],
      "text/plain": [
       "    level_0  Time       Location    Births     CBR     TFR     NRR  Population\n",
       "28     2148  1970  South America  6592.914  34.364  4.8041  1.9691  189637.363\n",
       "29     2198  2020  South America  5899.983  13.843  1.7595  0.8391  425034.708"
      ]
     },
     "execution_count": 442,
     "metadata": {},
     "output_type": "execute_result"
    }
   ],
   "source": [
    "un_unregion_70_20.loc[un_unregion_70_20['Location']=='South America']"
   ]
  },
  {
   "cell_type": "code",
   "execution_count": 443,
   "id": "4101c7ca-23db-4729-98a9-d45d36adffe5",
   "metadata": {},
   "outputs": [],
   "source": [
    "un_unregion_70_10_south_america = un_unregion_70_10.loc[un_unregion_70_10['Location']=='South America'].transpose().reset_index().rename(columns={'index':'Indicators'}).drop([0,1,2])"
   ]
  },
  {
   "cell_type": "code",
   "execution_count": 444,
   "id": "e06cc0e7-e16e-4e1c-8e55-e6cb3fb02b73",
   "metadata": {},
   "outputs": [],
   "source": [
    "un_unregion_10_20_south_america = un_unregion_10_20.loc[un_unregion_10_20['Location']=='South America'].transpose().reset_index().rename(columns={'index':'Indicators'}).drop([0,1,2])"
   ]
  },
  {
   "cell_type": "code",
   "execution_count": 445,
   "id": "67d4b04c-d966-4b3b-bc7f-5c2d6fcd668e",
   "metadata": {},
   "outputs": [],
   "source": [
    "un_unregion_70_20_south_america = un_unregion_70_20.loc[un_unregion_70_20['Location']=='South America'].transpose().reset_index().rename(columns={'index':'Indicators'}).drop([0,1,2])"
   ]
  },
  {
   "cell_type": "code",
   "execution_count": 446,
   "id": "879fc206-1ff4-4172-b596-d43391a23af6",
   "metadata": {},
   "outputs": [],
   "source": [
    "un_unregion_70_10_south_america['Percent Change']=((un_unregion_70_10_south_america[29]-un_unregion_70_10_south_america[28])/un_unregion_70_10_south_america[28]*100)"
   ]
  },
  {
   "cell_type": "code",
   "execution_count": 447,
   "id": "de07304a-b6d6-46bd-b596-da54161aa618",
   "metadata": {},
   "outputs": [],
   "source": [
    "un_unregion_10_20_south_america['Percent Change']=((un_unregion_10_20_south_america[29]-un_unregion_10_20_south_america[28])/un_unregion_10_20_south_america[28]*100)"
   ]
  },
  {
   "cell_type": "code",
   "execution_count": 448,
   "id": "76d4107a-5963-4f91-a9b8-35039b0a21fb",
   "metadata": {},
   "outputs": [],
   "source": [
    "un_unregion_70_20_south_america['Percent Change']=((un_unregion_70_20_south_america[29]-un_unregion_70_20_south_america[28])/un_unregion_70_20_south_america[28]*100)"
   ]
  },
  {
   "cell_type": "code",
   "execution_count": 449,
   "id": "a6231a91-7c5e-46c8-9570-239943b6c558",
   "metadata": {},
   "outputs": [],
   "source": [
    "un_unregion_70_10_south_america['Year']='1970-2010'"
   ]
  },
  {
   "cell_type": "code",
   "execution_count": 450,
   "id": "20299e4d-83de-42e7-b0f5-901262a502ca",
   "metadata": {},
   "outputs": [],
   "source": [
    "un_unregion_10_20_south_america['Year']='2010-2020'"
   ]
  },
  {
   "cell_type": "code",
   "execution_count": 451,
   "id": "55e00321-ea41-4bce-8ec9-2ab7c3b1c3ea",
   "metadata": {},
   "outputs": [],
   "source": [
    "un_unregion_70_20_south_america['Year']='1970-2020'"
   ]
  },
  {
   "cell_type": "code",
   "execution_count": 452,
   "id": "798aa29e-aefe-4b2b-a25f-e86e06f9ff51",
   "metadata": {},
   "outputs": [],
   "source": [
    "un_unregion_70_10_south_america['Region']='South America'"
   ]
  },
  {
   "cell_type": "code",
   "execution_count": 453,
   "id": "44b31d53-ea63-44fa-a3a1-703061caac1d",
   "metadata": {},
   "outputs": [],
   "source": [
    "un_unregion_10_20_south_america['Region']='South America'"
   ]
  },
  {
   "cell_type": "code",
   "execution_count": 454,
   "id": "d471997b-fa39-44f3-84c3-33cebe26db3d",
   "metadata": {},
   "outputs": [],
   "source": [
    "un_unregion_70_20_south_america['Region']='South America'"
   ]
  },
  {
   "cell_type": "code",
   "execution_count": 455,
   "id": "d9f71c36-3c17-45cd-944c-edaeaaf83889",
   "metadata": {},
   "outputs": [],
   "source": [
    "un_unregion_70_10_south_america=un_unregion_70_10_south_america[['Indicators','Region','Year', 'Percent Change']]"
   ]
  },
  {
   "cell_type": "code",
   "execution_count": 456,
   "id": "9ea07e44-35bf-4c13-9b79-78cfb91956a6",
   "metadata": {},
   "outputs": [],
   "source": [
    "un_unregion_10_20_south_america=un_unregion_10_20_south_america[['Indicators','Region','Year', 'Percent Change']]"
   ]
  },
  {
   "cell_type": "code",
   "execution_count": 457,
   "id": "6f66d3e0-2045-40cf-8460-2ddaa94ba9d6",
   "metadata": {},
   "outputs": [],
   "source": [
    "un_unregion_70_20_south_america=un_unregion_70_20_south_america[['Indicators','Region','Year', 'Percent Change']]"
   ]
  },
  {
   "cell_type": "code",
   "execution_count": 458,
   "id": "b4c9fa67-71c9-4667-ad13-fa658c202d33",
   "metadata": {},
   "outputs": [
    {
     "data": {
      "text/html": [
       "<div>\n",
       "<style scoped>\n",
       "    .dataframe tbody tr th:only-of-type {\n",
       "        vertical-align: middle;\n",
       "    }\n",
       "\n",
       "    .dataframe tbody tr th {\n",
       "        vertical-align: top;\n",
       "    }\n",
       "\n",
       "    .dataframe thead th {\n",
       "        text-align: right;\n",
       "    }\n",
       "</style>\n",
       "<table border=\"1\" class=\"dataframe\">\n",
       "  <thead>\n",
       "    <tr style=\"text-align: right;\">\n",
       "      <th></th>\n",
       "      <th>level_0</th>\n",
       "      <th>Time</th>\n",
       "      <th>Location</th>\n",
       "      <th>Births</th>\n",
       "      <th>CBR</th>\n",
       "      <th>TFR</th>\n",
       "      <th>NRR</th>\n",
       "      <th>Population</th>\n",
       "    </tr>\n",
       "  </thead>\n",
       "  <tbody>\n",
       "    <tr>\n",
       "      <th>26</th>\n",
       "      <td>1996</td>\n",
       "      <td>1970</td>\n",
       "      <td>Central America</td>\n",
       "      <td>3023.261</td>\n",
       "      <td>44.118</td>\n",
       "      <td>6.4630</td>\n",
       "      <td>2.6507</td>\n",
       "      <td>67491.364</td>\n",
       "    </tr>\n",
       "    <tr>\n",
       "      <th>27</th>\n",
       "      <td>2036</td>\n",
       "      <td>2010</td>\n",
       "      <td>Central America</td>\n",
       "      <td>3346.220</td>\n",
       "      <td>21.341</td>\n",
       "      <td>2.4612</td>\n",
       "      <td>1.1686</td>\n",
       "      <td>155646.067</td>\n",
       "    </tr>\n",
       "  </tbody>\n",
       "</table>\n",
       "</div>"
      ],
      "text/plain": [
       "    level_0  Time         Location    Births     CBR     TFR     NRR  \\\n",
       "26     1996  1970  Central America  3023.261  44.118  6.4630  2.6507   \n",
       "27     2036  2010  Central America  3346.220  21.341  2.4612  1.1686   \n",
       "\n",
       "    Population  \n",
       "26   67491.364  \n",
       "27  155646.067  "
      ]
     },
     "execution_count": 458,
     "metadata": {},
     "output_type": "execute_result"
    }
   ],
   "source": [
    "un_unregion_70_10.loc[un_unregion_70_10['Location']=='Central America']"
   ]
  },
  {
   "cell_type": "code",
   "execution_count": 459,
   "id": "762abb06-1e0c-4f28-bf0d-8702dba7b77d",
   "metadata": {},
   "outputs": [
    {
     "data": {
      "text/html": [
       "<div>\n",
       "<style scoped>\n",
       "    .dataframe tbody tr th:only-of-type {\n",
       "        vertical-align: middle;\n",
       "    }\n",
       "\n",
       "    .dataframe tbody tr th {\n",
       "        vertical-align: top;\n",
       "    }\n",
       "\n",
       "    .dataframe thead th {\n",
       "        text-align: right;\n",
       "    }\n",
       "</style>\n",
       "<table border=\"1\" class=\"dataframe\">\n",
       "  <thead>\n",
       "    <tr style=\"text-align: right;\">\n",
       "      <th></th>\n",
       "      <th>level_0</th>\n",
       "      <th>Time</th>\n",
       "      <th>Location</th>\n",
       "      <th>Births</th>\n",
       "      <th>CBR</th>\n",
       "      <th>TFR</th>\n",
       "      <th>NRR</th>\n",
       "      <th>Population</th>\n",
       "    </tr>\n",
       "  </thead>\n",
       "  <tbody>\n",
       "    <tr>\n",
       "      <th>26</th>\n",
       "      <td>2036</td>\n",
       "      <td>2010</td>\n",
       "      <td>Central America</td>\n",
       "      <td>3346.220</td>\n",
       "      <td>21.341</td>\n",
       "      <td>2.4612</td>\n",
       "      <td>1.1686</td>\n",
       "      <td>155646.067</td>\n",
       "    </tr>\n",
       "    <tr>\n",
       "      <th>27</th>\n",
       "      <td>2046</td>\n",
       "      <td>2020</td>\n",
       "      <td>Central America</td>\n",
       "      <td>3085.884</td>\n",
       "      <td>17.455</td>\n",
       "      <td>2.0683</td>\n",
       "      <td>0.9882</td>\n",
       "      <td>176041.603</td>\n",
       "    </tr>\n",
       "  </tbody>\n",
       "</table>\n",
       "</div>"
      ],
      "text/plain": [
       "    level_0  Time         Location    Births     CBR     TFR     NRR  \\\n",
       "26     2036  2010  Central America  3346.220  21.341  2.4612  1.1686   \n",
       "27     2046  2020  Central America  3085.884  17.455  2.0683  0.9882   \n",
       "\n",
       "    Population  \n",
       "26  155646.067  \n",
       "27  176041.603  "
      ]
     },
     "execution_count": 459,
     "metadata": {},
     "output_type": "execute_result"
    }
   ],
   "source": [
    "un_unregion_10_20.loc[un_unregion_10_20['Location']=='Central America']"
   ]
  },
  {
   "cell_type": "code",
   "execution_count": 460,
   "id": "7739998b-aafb-4923-b27d-f665ceecd6c6",
   "metadata": {},
   "outputs": [
    {
     "data": {
      "text/html": [
       "<div>\n",
       "<style scoped>\n",
       "    .dataframe tbody tr th:only-of-type {\n",
       "        vertical-align: middle;\n",
       "    }\n",
       "\n",
       "    .dataframe tbody tr th {\n",
       "        vertical-align: top;\n",
       "    }\n",
       "\n",
       "    .dataframe thead th {\n",
       "        text-align: right;\n",
       "    }\n",
       "</style>\n",
       "<table border=\"1\" class=\"dataframe\">\n",
       "  <thead>\n",
       "    <tr style=\"text-align: right;\">\n",
       "      <th></th>\n",
       "      <th>level_0</th>\n",
       "      <th>Time</th>\n",
       "      <th>Location</th>\n",
       "      <th>Births</th>\n",
       "      <th>CBR</th>\n",
       "      <th>TFR</th>\n",
       "      <th>NRR</th>\n",
       "      <th>Population</th>\n",
       "    </tr>\n",
       "  </thead>\n",
       "  <tbody>\n",
       "    <tr>\n",
       "      <th>26</th>\n",
       "      <td>1996</td>\n",
       "      <td>1970</td>\n",
       "      <td>Central America</td>\n",
       "      <td>3023.261</td>\n",
       "      <td>44.118</td>\n",
       "      <td>6.4630</td>\n",
       "      <td>2.6507</td>\n",
       "      <td>67491.364</td>\n",
       "    </tr>\n",
       "    <tr>\n",
       "      <th>27</th>\n",
       "      <td>2046</td>\n",
       "      <td>2020</td>\n",
       "      <td>Central America</td>\n",
       "      <td>3085.884</td>\n",
       "      <td>17.455</td>\n",
       "      <td>2.0683</td>\n",
       "      <td>0.9882</td>\n",
       "      <td>176041.603</td>\n",
       "    </tr>\n",
       "  </tbody>\n",
       "</table>\n",
       "</div>"
      ],
      "text/plain": [
       "    level_0  Time         Location    Births     CBR     TFR     NRR  \\\n",
       "26     1996  1970  Central America  3023.261  44.118  6.4630  2.6507   \n",
       "27     2046  2020  Central America  3085.884  17.455  2.0683  0.9882   \n",
       "\n",
       "    Population  \n",
       "26   67491.364  \n",
       "27  176041.603  "
      ]
     },
     "execution_count": 460,
     "metadata": {},
     "output_type": "execute_result"
    }
   ],
   "source": [
    "un_unregion_70_20.loc[un_unregion_70_20['Location']=='Central America']"
   ]
  },
  {
   "cell_type": "code",
   "execution_count": 461,
   "id": "8a626772-28d0-4e69-9d99-4d3092904ee4",
   "metadata": {},
   "outputs": [],
   "source": [
    "un_unregion_70_10_central_america = un_unregion_70_10.loc[un_unregion_70_10['Location']=='Central America'].transpose().reset_index().rename(columns={'index':'Indicators'}).drop([0,1,2])"
   ]
  },
  {
   "cell_type": "code",
   "execution_count": 462,
   "id": "905435a5-02fc-4f1c-aeb3-7a6e1c51415e",
   "metadata": {},
   "outputs": [],
   "source": [
    "un_unregion_10_20_central_america = un_unregion_10_20.loc[un_unregion_10_20['Location']=='Central America'].transpose().reset_index().rename(columns={'index':'Indicators'}).drop([0,1,2])"
   ]
  },
  {
   "cell_type": "code",
   "execution_count": 463,
   "id": "7b310d87-a9be-4a95-ad06-8bed0fdb32fe",
   "metadata": {},
   "outputs": [],
   "source": [
    "un_unregion_70_20_central_america = un_unregion_70_20.loc[un_unregion_70_20['Location']=='Central America'].transpose().reset_index().rename(columns={'index':'Indicators'}).drop([0,1,2])"
   ]
  },
  {
   "cell_type": "code",
   "execution_count": 464,
   "id": "76934554-bbb1-4448-8da0-618ee91c3e7e",
   "metadata": {},
   "outputs": [],
   "source": [
    "un_unregion_70_10_central_america['Percent Change']=((un_unregion_70_10_central_america[27]-un_unregion_70_10_central_america[26])/un_unregion_70_10_central_america[26]*100)"
   ]
  },
  {
   "cell_type": "code",
   "execution_count": 465,
   "id": "19a58495-d4fd-4897-a8f3-65d7c31158cf",
   "metadata": {},
   "outputs": [],
   "source": [
    "un_unregion_10_20_central_america['Percent Change']=((un_unregion_10_20_central_america[27]-un_unregion_10_20_central_america[26])/un_unregion_10_20_central_america[26]*100)"
   ]
  },
  {
   "cell_type": "code",
   "execution_count": 466,
   "id": "f9ebaba6-83c5-4651-ba70-377a8b3d79cc",
   "metadata": {},
   "outputs": [],
   "source": [
    "un_unregion_70_20_central_america['Percent Change']=((un_unregion_70_20_central_america[27]-un_unregion_70_20_central_america[26])/un_unregion_70_20_central_america[26]*100)"
   ]
  },
  {
   "cell_type": "code",
   "execution_count": 467,
   "id": "ebb3b09c-024b-456d-bd80-5ffac3ca702a",
   "metadata": {},
   "outputs": [],
   "source": [
    "un_unregion_70_10_central_america['Year']='1970-2010'"
   ]
  },
  {
   "cell_type": "code",
   "execution_count": 468,
   "id": "9575cc2c-b575-4e2d-b894-36c9c4f92c91",
   "metadata": {},
   "outputs": [],
   "source": [
    "un_unregion_10_20_central_america['Year']='2010-2020'"
   ]
  },
  {
   "cell_type": "code",
   "execution_count": 469,
   "id": "a425de64-1ab5-4357-90b4-853d6ee81332",
   "metadata": {},
   "outputs": [],
   "source": [
    "un_unregion_70_20_central_america['Year']='1970-2020'"
   ]
  },
  {
   "cell_type": "code",
   "execution_count": 470,
   "id": "69811fe4-71e6-427b-ab44-8380610521de",
   "metadata": {},
   "outputs": [],
   "source": [
    "un_unregion_70_10_central_america['Region']='Central America'"
   ]
  },
  {
   "cell_type": "code",
   "execution_count": 471,
   "id": "82773f83-c975-461a-bf26-61d8d8f60bc9",
   "metadata": {},
   "outputs": [],
   "source": [
    "un_unregion_10_20_central_america['Region']='Central America'"
   ]
  },
  {
   "cell_type": "code",
   "execution_count": 472,
   "id": "a583aff2-c4a5-4f84-a0cc-3488a4f60692",
   "metadata": {},
   "outputs": [],
   "source": [
    "un_unregion_70_20_central_america['Region']='Central America'"
   ]
  },
  {
   "cell_type": "code",
   "execution_count": 473,
   "id": "09f5dc0f-ae9d-41fd-b429-e0a312cd46eb",
   "metadata": {},
   "outputs": [],
   "source": [
    "un_unregion_70_10_central_america=un_unregion_70_10_central_america[['Indicators','Region','Year', 'Percent Change']]"
   ]
  },
  {
   "cell_type": "code",
   "execution_count": 474,
   "id": "33566cbc-9ba5-4954-8541-84be54458136",
   "metadata": {},
   "outputs": [],
   "source": [
    "un_unregion_10_20_central_america=un_unregion_10_20_central_america[['Indicators','Region','Year', 'Percent Change']]"
   ]
  },
  {
   "cell_type": "code",
   "execution_count": 475,
   "id": "f39ad2a2-b189-47cd-ab2a-beade63ccc0c",
   "metadata": {},
   "outputs": [],
   "source": [
    "un_unregion_70_20_central_america=un_unregion_70_20_central_america[['Indicators','Region','Year', 'Percent Change']]"
   ]
  },
  {
   "cell_type": "code",
   "execution_count": 476,
   "id": "075f59a4-f026-42bd-8e2c-95620ed2027b",
   "metadata": {},
   "outputs": [
    {
     "data": {
      "text/html": [
       "<div>\n",
       "<style scoped>\n",
       "    .dataframe tbody tr th:only-of-type {\n",
       "        vertical-align: middle;\n",
       "    }\n",
       "\n",
       "    .dataframe tbody tr th {\n",
       "        vertical-align: top;\n",
       "    }\n",
       "\n",
       "    .dataframe thead th {\n",
       "        text-align: right;\n",
       "    }\n",
       "</style>\n",
       "<table border=\"1\" class=\"dataframe\">\n",
       "  <thead>\n",
       "    <tr style=\"text-align: right;\">\n",
       "      <th></th>\n",
       "      <th>level_0</th>\n",
       "      <th>Time</th>\n",
       "      <th>Location</th>\n",
       "      <th>Births</th>\n",
       "      <th>CBR</th>\n",
       "      <th>TFR</th>\n",
       "      <th>NRR</th>\n",
       "      <th>Population</th>\n",
       "    </tr>\n",
       "  </thead>\n",
       "  <tbody>\n",
       "    <tr>\n",
       "      <th>24</th>\n",
       "      <td>1844</td>\n",
       "      <td>1970</td>\n",
       "      <td>Caribbean</td>\n",
       "      <td>853.070</td>\n",
       "      <td>33.640</td>\n",
       "      <td>4.6752</td>\n",
       "      <td>1.9634</td>\n",
       "      <td>25128.363</td>\n",
       "    </tr>\n",
       "    <tr>\n",
       "      <th>25</th>\n",
       "      <td>1884</td>\n",
       "      <td>2010</td>\n",
       "      <td>Caribbean</td>\n",
       "      <td>759.659</td>\n",
       "      <td>18.346</td>\n",
       "      <td>2.3306</td>\n",
       "      <td>0.9935</td>\n",
       "      <td>41306.832</td>\n",
       "    </tr>\n",
       "  </tbody>\n",
       "</table>\n",
       "</div>"
      ],
      "text/plain": [
       "    level_0  Time   Location   Births     CBR     TFR     NRR  Population\n",
       "24     1844  1970  Caribbean  853.070  33.640  4.6752  1.9634   25128.363\n",
       "25     1884  2010  Caribbean  759.659  18.346  2.3306  0.9935   41306.832"
      ]
     },
     "execution_count": 476,
     "metadata": {},
     "output_type": "execute_result"
    }
   ],
   "source": [
    "un_unregion_70_10.loc[un_unregion_70_10['Location']=='Caribbean']"
   ]
  },
  {
   "cell_type": "code",
   "execution_count": 477,
   "id": "678d68a5-4a9a-4fd0-a4f5-4da8b5c4b2d3",
   "metadata": {},
   "outputs": [
    {
     "data": {
      "text/html": [
       "<div>\n",
       "<style scoped>\n",
       "    .dataframe tbody tr th:only-of-type {\n",
       "        vertical-align: middle;\n",
       "    }\n",
       "\n",
       "    .dataframe tbody tr th {\n",
       "        vertical-align: top;\n",
       "    }\n",
       "\n",
       "    .dataframe thead th {\n",
       "        text-align: right;\n",
       "    }\n",
       "</style>\n",
       "<table border=\"1\" class=\"dataframe\">\n",
       "  <thead>\n",
       "    <tr style=\"text-align: right;\">\n",
       "      <th></th>\n",
       "      <th>level_0</th>\n",
       "      <th>Time</th>\n",
       "      <th>Location</th>\n",
       "      <th>Births</th>\n",
       "      <th>CBR</th>\n",
       "      <th>TFR</th>\n",
       "      <th>NRR</th>\n",
       "      <th>Population</th>\n",
       "    </tr>\n",
       "  </thead>\n",
       "  <tbody>\n",
       "    <tr>\n",
       "      <th>24</th>\n",
       "      <td>1884</td>\n",
       "      <td>2010</td>\n",
       "      <td>Caribbean</td>\n",
       "      <td>759.659</td>\n",
       "      <td>18.346</td>\n",
       "      <td>2.3306</td>\n",
       "      <td>0.9935</td>\n",
       "      <td>41306.832</td>\n",
       "    </tr>\n",
       "    <tr>\n",
       "      <th>25</th>\n",
       "      <td>1894</td>\n",
       "      <td>2020</td>\n",
       "      <td>Caribbean</td>\n",
       "      <td>674.925</td>\n",
       "      <td>15.437</td>\n",
       "      <td>2.0483</td>\n",
       "      <td>0.9539</td>\n",
       "      <td>43609.629</td>\n",
       "    </tr>\n",
       "  </tbody>\n",
       "</table>\n",
       "</div>"
      ],
      "text/plain": [
       "    level_0  Time   Location   Births     CBR     TFR     NRR  Population\n",
       "24     1884  2010  Caribbean  759.659  18.346  2.3306  0.9935   41306.832\n",
       "25     1894  2020  Caribbean  674.925  15.437  2.0483  0.9539   43609.629"
      ]
     },
     "execution_count": 477,
     "metadata": {},
     "output_type": "execute_result"
    }
   ],
   "source": [
    "un_unregion_10_20.loc[un_unregion_10_20['Location']=='Caribbean']"
   ]
  },
  {
   "cell_type": "code",
   "execution_count": 478,
   "id": "60246199-6ac0-47e1-b350-be31de3a597c",
   "metadata": {},
   "outputs": [
    {
     "data": {
      "text/html": [
       "<div>\n",
       "<style scoped>\n",
       "    .dataframe tbody tr th:only-of-type {\n",
       "        vertical-align: middle;\n",
       "    }\n",
       "\n",
       "    .dataframe tbody tr th {\n",
       "        vertical-align: top;\n",
       "    }\n",
       "\n",
       "    .dataframe thead th {\n",
       "        text-align: right;\n",
       "    }\n",
       "</style>\n",
       "<table border=\"1\" class=\"dataframe\">\n",
       "  <thead>\n",
       "    <tr style=\"text-align: right;\">\n",
       "      <th></th>\n",
       "      <th>level_0</th>\n",
       "      <th>Time</th>\n",
       "      <th>Location</th>\n",
       "      <th>Births</th>\n",
       "      <th>CBR</th>\n",
       "      <th>TFR</th>\n",
       "      <th>NRR</th>\n",
       "      <th>Population</th>\n",
       "    </tr>\n",
       "  </thead>\n",
       "  <tbody>\n",
       "    <tr>\n",
       "      <th>24</th>\n",
       "      <td>1844</td>\n",
       "      <td>1970</td>\n",
       "      <td>Caribbean</td>\n",
       "      <td>853.070</td>\n",
       "      <td>33.640</td>\n",
       "      <td>4.6752</td>\n",
       "      <td>1.9634</td>\n",
       "      <td>25128.363</td>\n",
       "    </tr>\n",
       "    <tr>\n",
       "      <th>25</th>\n",
       "      <td>1894</td>\n",
       "      <td>2020</td>\n",
       "      <td>Caribbean</td>\n",
       "      <td>674.925</td>\n",
       "      <td>15.437</td>\n",
       "      <td>2.0483</td>\n",
       "      <td>0.9539</td>\n",
       "      <td>43609.629</td>\n",
       "    </tr>\n",
       "  </tbody>\n",
       "</table>\n",
       "</div>"
      ],
      "text/plain": [
       "    level_0  Time   Location   Births     CBR     TFR     NRR  Population\n",
       "24     1844  1970  Caribbean  853.070  33.640  4.6752  1.9634   25128.363\n",
       "25     1894  2020  Caribbean  674.925  15.437  2.0483  0.9539   43609.629"
      ]
     },
     "execution_count": 478,
     "metadata": {},
     "output_type": "execute_result"
    }
   ],
   "source": [
    "un_unregion_70_20.loc[un_unregion_10_20['Location']=='Caribbean']"
   ]
  },
  {
   "cell_type": "code",
   "execution_count": 479,
   "id": "80dd752b-cff8-4c29-ad92-ace23c2bcdba",
   "metadata": {},
   "outputs": [],
   "source": [
    "un_unregion_70_10_caribbean = un_unregion_70_10.loc[un_unregion_70_10['Location']=='Caribbean'].transpose().reset_index().rename(columns={'index':'Indicators'}).drop([0,1,2])"
   ]
  },
  {
   "cell_type": "code",
   "execution_count": 480,
   "id": "3e335e8a-e1fb-4ef5-87ee-35d94e9aa691",
   "metadata": {},
   "outputs": [],
   "source": [
    "un_unregion_10_20_caribbean = un_unregion_10_20.loc[un_unregion_10_20['Location']=='Caribbean'].transpose().reset_index().rename(columns={'index':'Indicators'}).drop([0,1,2])"
   ]
  },
  {
   "cell_type": "code",
   "execution_count": 481,
   "id": "55a4ca99-777c-47ef-a4bb-f9968c35006c",
   "metadata": {},
   "outputs": [],
   "source": [
    "un_unregion_70_20_caribbean = un_unregion_70_20.loc[un_unregion_70_20['Location']=='Caribbean'].transpose().reset_index().rename(columns={'index':'Indicators'}).drop([0,1,2])"
   ]
  },
  {
   "cell_type": "code",
   "execution_count": 482,
   "id": "fb79ee5d-9641-404d-be70-259582c98d7b",
   "metadata": {},
   "outputs": [],
   "source": [
    "un_unregion_70_10_caribbean['Percent Change']=((un_unregion_70_10_caribbean[25]-un_unregion_70_10_caribbean[24])/un_unregion_70_10_caribbean[24]*100)"
   ]
  },
  {
   "cell_type": "code",
   "execution_count": 483,
   "id": "fe3ada64-171e-48c4-a420-7332c9994beb",
   "metadata": {},
   "outputs": [],
   "source": [
    "un_unregion_10_20_caribbean['Percent Change']=((un_unregion_10_20_caribbean[25]-un_unregion_10_20_caribbean[24])/un_unregion_10_20_caribbean[24]*100)"
   ]
  },
  {
   "cell_type": "code",
   "execution_count": 484,
   "id": "e87a89a8-2ef7-485d-a52d-c3f2e8fdeca6",
   "metadata": {},
   "outputs": [],
   "source": [
    "un_unregion_70_20_caribbean['Percent Change']=((un_unregion_70_20_caribbean[25]-un_unregion_70_20_caribbean[24])/un_unregion_70_20_caribbean[24]*100)"
   ]
  },
  {
   "cell_type": "code",
   "execution_count": 485,
   "id": "1277d064-16af-478b-a304-7180521aefa8",
   "metadata": {},
   "outputs": [],
   "source": [
    "un_unregion_70_10_caribbean['Year']='1970-2010'"
   ]
  },
  {
   "cell_type": "code",
   "execution_count": 486,
   "id": "d21bc200-8c78-4918-b196-f437fbea0c5b",
   "metadata": {},
   "outputs": [],
   "source": [
    "un_unregion_10_20_caribbean['Year']='2010-2020'"
   ]
  },
  {
   "cell_type": "code",
   "execution_count": 487,
   "id": "41135b70-c8b3-40b7-9b25-9269596e82b0",
   "metadata": {},
   "outputs": [],
   "source": [
    "un_unregion_70_20_caribbean['Year']='1970-2020'"
   ]
  },
  {
   "cell_type": "code",
   "execution_count": 488,
   "id": "2d06b7c7-804f-466a-9086-9927ce583dda",
   "metadata": {},
   "outputs": [],
   "source": [
    "un_unregion_70_10_caribbean['Region']='Caribbean'"
   ]
  },
  {
   "cell_type": "code",
   "execution_count": 489,
   "id": "2705b519-8373-493c-b182-8b612dc305fa",
   "metadata": {},
   "outputs": [],
   "source": [
    "un_unregion_10_20_caribbean['Region']='Caribbean'"
   ]
  },
  {
   "cell_type": "code",
   "execution_count": 490,
   "id": "9ef1fe97-2c26-4825-aa1c-0cc8a08db6bc",
   "metadata": {},
   "outputs": [],
   "source": [
    "un_unregion_70_20_caribbean['Region']='Caribbean'"
   ]
  },
  {
   "cell_type": "code",
   "execution_count": 491,
   "id": "b7fc8842-0ad4-4b25-bb02-69214798277e",
   "metadata": {},
   "outputs": [],
   "source": [
    "un_unregion_70_10_caribbean=un_unregion_70_10_caribbean[['Indicators','Region','Year', 'Percent Change']]"
   ]
  },
  {
   "cell_type": "code",
   "execution_count": 492,
   "id": "408eefc4-40fe-4988-b954-fae8296d0c1b",
   "metadata": {},
   "outputs": [],
   "source": [
    "un_unregion_10_20_caribbean=un_unregion_10_20_caribbean[['Indicators','Region','Year', 'Percent Change']]"
   ]
  },
  {
   "cell_type": "code",
   "execution_count": 493,
   "id": "9762325e-a835-41b9-b0ec-cb60b95295de",
   "metadata": {},
   "outputs": [],
   "source": [
    "un_unregion_70_20_caribbean=un_unregion_70_20_caribbean[['Indicators','Region','Year', 'Percent Change']]"
   ]
  },
  {
   "cell_type": "code",
   "execution_count": 494,
   "id": "1dda7508-2fc1-4573-9630-fb2df6b4b895",
   "metadata": {},
   "outputs": [
    {
     "data": {
      "text/html": [
       "<div>\n",
       "<style scoped>\n",
       "    .dataframe tbody tr th:only-of-type {\n",
       "        vertical-align: middle;\n",
       "    }\n",
       "\n",
       "    .dataframe tbody tr th {\n",
       "        vertical-align: top;\n",
       "    }\n",
       "\n",
       "    .dataframe thead th {\n",
       "        text-align: right;\n",
       "    }\n",
       "</style>\n",
       "<table border=\"1\" class=\"dataframe\">\n",
       "  <thead>\n",
       "    <tr style=\"text-align: right;\">\n",
       "      <th></th>\n",
       "      <th>level_0</th>\n",
       "      <th>Time</th>\n",
       "      <th>Location</th>\n",
       "      <th>Births</th>\n",
       "      <th>CBR</th>\n",
       "      <th>TFR</th>\n",
       "      <th>NRR</th>\n",
       "      <th>Population</th>\n",
       "    </tr>\n",
       "  </thead>\n",
       "  <tbody>\n",
       "    <tr>\n",
       "      <th>20</th>\n",
       "      <td>1540</td>\n",
       "      <td>1970</td>\n",
       "      <td>Southern Europe</td>\n",
       "      <td>2361.400</td>\n",
       "      <td>18.458</td>\n",
       "      <td>2.6085</td>\n",
       "      <td>1.1987</td>\n",
       "      <td>127549.517</td>\n",
       "    </tr>\n",
       "    <tr>\n",
       "      <th>21</th>\n",
       "      <td>1580</td>\n",
       "      <td>2010</td>\n",
       "      <td>Southern Europe</td>\n",
       "      <td>1541.054</td>\n",
       "      <td>9.992</td>\n",
       "      <td>1.4523</td>\n",
       "      <td>0.6974</td>\n",
       "      <td>154095.907</td>\n",
       "    </tr>\n",
       "  </tbody>\n",
       "</table>\n",
       "</div>"
      ],
      "text/plain": [
       "    level_0  Time         Location    Births     CBR     TFR     NRR  \\\n",
       "20     1540  1970  Southern Europe  2361.400  18.458  2.6085  1.1987   \n",
       "21     1580  2010  Southern Europe  1541.054   9.992  1.4523  0.6974   \n",
       "\n",
       "    Population  \n",
       "20  127549.517  \n",
       "21  154095.907  "
      ]
     },
     "execution_count": 494,
     "metadata": {},
     "output_type": "execute_result"
    }
   ],
   "source": [
    "un_unregion_70_10.loc[un_unregion_70_10['Location']=='Southern Europe']"
   ]
  },
  {
   "cell_type": "code",
   "execution_count": 495,
   "id": "176ab310-f6cc-4a60-b81e-73e308518633",
   "metadata": {},
   "outputs": [
    {
     "data": {
      "text/html": [
       "<div>\n",
       "<style scoped>\n",
       "    .dataframe tbody tr th:only-of-type {\n",
       "        vertical-align: middle;\n",
       "    }\n",
       "\n",
       "    .dataframe tbody tr th {\n",
       "        vertical-align: top;\n",
       "    }\n",
       "\n",
       "    .dataframe thead th {\n",
       "        text-align: right;\n",
       "    }\n",
       "</style>\n",
       "<table border=\"1\" class=\"dataframe\">\n",
       "  <thead>\n",
       "    <tr style=\"text-align: right;\">\n",
       "      <th></th>\n",
       "      <th>level_0</th>\n",
       "      <th>Time</th>\n",
       "      <th>Location</th>\n",
       "      <th>Births</th>\n",
       "      <th>CBR</th>\n",
       "      <th>TFR</th>\n",
       "      <th>NRR</th>\n",
       "      <th>Population</th>\n",
       "    </tr>\n",
       "  </thead>\n",
       "  <tbody>\n",
       "    <tr>\n",
       "      <th>20</th>\n",
       "      <td>1580</td>\n",
       "      <td>2010</td>\n",
       "      <td>Southern Europe</td>\n",
       "      <td>1541.054</td>\n",
       "      <td>9.992</td>\n",
       "      <td>1.4523</td>\n",
       "      <td>0.6974</td>\n",
       "      <td>154095.907</td>\n",
       "    </tr>\n",
       "    <tr>\n",
       "      <th>21</th>\n",
       "      <td>1590</td>\n",
       "      <td>2020</td>\n",
       "      <td>Southern Europe</td>\n",
       "      <td>1146.277</td>\n",
       "      <td>7.507</td>\n",
       "      <td>1.2956</td>\n",
       "      <td>0.6239</td>\n",
       "      <td>152863.654</td>\n",
       "    </tr>\n",
       "  </tbody>\n",
       "</table>\n",
       "</div>"
      ],
      "text/plain": [
       "    level_0  Time         Location    Births    CBR     TFR     NRR  \\\n",
       "20     1580  2010  Southern Europe  1541.054  9.992  1.4523  0.6974   \n",
       "21     1590  2020  Southern Europe  1146.277  7.507  1.2956  0.6239   \n",
       "\n",
       "    Population  \n",
       "20  154095.907  \n",
       "21  152863.654  "
      ]
     },
     "execution_count": 495,
     "metadata": {},
     "output_type": "execute_result"
    }
   ],
   "source": [
    "un_unregion_10_20.loc[un_unregion_10_20['Location']=='Southern Europe']"
   ]
  },
  {
   "cell_type": "code",
   "execution_count": 496,
   "id": "75267819-f08a-4f60-befe-0973c97f61e6",
   "metadata": {},
   "outputs": [
    {
     "data": {
      "text/html": [
       "<div>\n",
       "<style scoped>\n",
       "    .dataframe tbody tr th:only-of-type {\n",
       "        vertical-align: middle;\n",
       "    }\n",
       "\n",
       "    .dataframe tbody tr th {\n",
       "        vertical-align: top;\n",
       "    }\n",
       "\n",
       "    .dataframe thead th {\n",
       "        text-align: right;\n",
       "    }\n",
       "</style>\n",
       "<table border=\"1\" class=\"dataframe\">\n",
       "  <thead>\n",
       "    <tr style=\"text-align: right;\">\n",
       "      <th></th>\n",
       "      <th>level_0</th>\n",
       "      <th>Time</th>\n",
       "      <th>Location</th>\n",
       "      <th>Births</th>\n",
       "      <th>CBR</th>\n",
       "      <th>TFR</th>\n",
       "      <th>NRR</th>\n",
       "      <th>Population</th>\n",
       "    </tr>\n",
       "  </thead>\n",
       "  <tbody>\n",
       "    <tr>\n",
       "      <th>20</th>\n",
       "      <td>1540</td>\n",
       "      <td>1970</td>\n",
       "      <td>Southern Europe</td>\n",
       "      <td>2361.400</td>\n",
       "      <td>18.458</td>\n",
       "      <td>2.6085</td>\n",
       "      <td>1.1987</td>\n",
       "      <td>127549.517</td>\n",
       "    </tr>\n",
       "    <tr>\n",
       "      <th>21</th>\n",
       "      <td>1590</td>\n",
       "      <td>2020</td>\n",
       "      <td>Southern Europe</td>\n",
       "      <td>1146.277</td>\n",
       "      <td>7.507</td>\n",
       "      <td>1.2956</td>\n",
       "      <td>0.6239</td>\n",
       "      <td>152863.654</td>\n",
       "    </tr>\n",
       "  </tbody>\n",
       "</table>\n",
       "</div>"
      ],
      "text/plain": [
       "    level_0  Time         Location    Births     CBR     TFR     NRR  \\\n",
       "20     1540  1970  Southern Europe  2361.400  18.458  2.6085  1.1987   \n",
       "21     1590  2020  Southern Europe  1146.277   7.507  1.2956  0.6239   \n",
       "\n",
       "    Population  \n",
       "20  127549.517  \n",
       "21  152863.654  "
      ]
     },
     "execution_count": 496,
     "metadata": {},
     "output_type": "execute_result"
    }
   ],
   "source": [
    "un_unregion_70_20.loc[un_unregion_70_20['Location']=='Southern Europe']"
   ]
  },
  {
   "cell_type": "code",
   "execution_count": 497,
   "id": "f2a43a4e-7c9f-4d21-abd7-cc169cbfcd65",
   "metadata": {},
   "outputs": [],
   "source": [
    "un_unregion_70_10_southern_europe = un_unregion_70_10.loc[un_unregion_70_10['Location']=='Southern Europe'].transpose().reset_index().rename(columns={'index':'Indicators'}).drop([0,1,2])"
   ]
  },
  {
   "cell_type": "code",
   "execution_count": 498,
   "id": "11525bc1-1dde-4f5c-8154-a8894bd688f3",
   "metadata": {},
   "outputs": [],
   "source": [
    "un_unregion_10_20_southern_europe = un_unregion_10_20.loc[un_unregion_10_20['Location']=='Southern Europe'].transpose().reset_index().rename(columns={'index':'Indicators'}).drop([0,1,2])"
   ]
  },
  {
   "cell_type": "code",
   "execution_count": 499,
   "id": "845e05ee-7a7d-4d22-8f73-4625bf7fb11d",
   "metadata": {},
   "outputs": [],
   "source": [
    "un_unregion_70_20_southern_europe = un_unregion_70_20.loc[un_unregion_70_20['Location']=='Southern Europe'].transpose().reset_index().rename(columns={'index':'Indicators'}).drop([0,1,2])"
   ]
  },
  {
   "cell_type": "code",
   "execution_count": 500,
   "id": "06d65625-906b-4e6d-b2a3-a53ae4a99733",
   "metadata": {},
   "outputs": [],
   "source": [
    "un_unregion_70_10_southern_europe['Percent Change']=((un_unregion_70_10_southern_europe[21]-un_unregion_70_10_southern_europe[20])/un_unregion_70_10_southern_europe[20]*100)"
   ]
  },
  {
   "cell_type": "code",
   "execution_count": 501,
   "id": "5bafaf18-c0dd-47e3-8211-1e838d233bf9",
   "metadata": {},
   "outputs": [],
   "source": [
    "un_unregion_10_20_southern_europe['Percent Change']=((un_unregion_10_20_southern_europe[21]-un_unregion_10_20_southern_europe[20])/un_unregion_10_20_southern_europe[20]*100)"
   ]
  },
  {
   "cell_type": "code",
   "execution_count": 502,
   "id": "88701e5a-8487-4ff7-9f98-921401517f6a",
   "metadata": {},
   "outputs": [],
   "source": [
    "un_unregion_70_20_southern_europe['Percent Change']=((un_unregion_70_20_southern_europe[21]-un_unregion_70_20_southern_europe[20])/un_unregion_70_20_southern_europe[20]*100)"
   ]
  },
  {
   "cell_type": "code",
   "execution_count": 503,
   "id": "5a62d093-4640-42e3-b036-ce7461861adf",
   "metadata": {},
   "outputs": [],
   "source": [
    "un_unregion_70_10_southern_europe['Year']='1970-2010'"
   ]
  },
  {
   "cell_type": "code",
   "execution_count": 504,
   "id": "d6eb1ef4-2e19-4da3-a47b-f0fdbf15f527",
   "metadata": {},
   "outputs": [],
   "source": [
    "un_unregion_10_20_southern_europe['Year']='2010-2020'"
   ]
  },
  {
   "cell_type": "code",
   "execution_count": 505,
   "id": "89c27ca0-b7ad-4934-b06b-9cf174a24339",
   "metadata": {},
   "outputs": [],
   "source": [
    "un_unregion_70_20_southern_europe['Year']='1970-2020'"
   ]
  },
  {
   "cell_type": "code",
   "execution_count": 506,
   "id": "6145341a-5309-41fb-86c1-a894ca683838",
   "metadata": {},
   "outputs": [],
   "source": [
    "un_unregion_70_10_southern_europe['Region']='Southern Europe'"
   ]
  },
  {
   "cell_type": "code",
   "execution_count": 507,
   "id": "bffe99ea-a438-42e3-abd0-29a8025676d6",
   "metadata": {},
   "outputs": [],
   "source": [
    "un_unregion_10_20_southern_europe['Region']='Southern Europe'"
   ]
  },
  {
   "cell_type": "code",
   "execution_count": 508,
   "id": "7c800f56-02af-4cc8-8a43-57beddc87784",
   "metadata": {},
   "outputs": [],
   "source": [
    "un_unregion_70_20_southern_europe['Region']='Southern Europe'"
   ]
  },
  {
   "cell_type": "code",
   "execution_count": 509,
   "id": "880fbf3c-d83e-42d6-800d-2788244e12e3",
   "metadata": {},
   "outputs": [],
   "source": [
    "un_unregion_70_10_southern_europe=un_unregion_70_10_southern_europe[['Indicators','Region','Year', 'Percent Change']]"
   ]
  },
  {
   "cell_type": "code",
   "execution_count": 510,
   "id": "996f9099-f8fe-431a-8661-296e83e041c5",
   "metadata": {},
   "outputs": [],
   "source": [
    "un_unregion_10_20_southern_europe=un_unregion_10_20_southern_europe[['Indicators','Region','Year', 'Percent Change']]"
   ]
  },
  {
   "cell_type": "code",
   "execution_count": 511,
   "id": "c918281d-2ce0-43c1-b2f5-ae110ac297d2",
   "metadata": {},
   "outputs": [],
   "source": [
    "un_unregion_70_20_southern_europe=un_unregion_70_20_southern_europe[['Indicators','Region','Year', 'Percent Change']]"
   ]
  },
  {
   "cell_type": "code",
   "execution_count": 512,
   "id": "94b6b9ff-4e73-4528-8aee-cc89ae39c52d",
   "metadata": {},
   "outputs": [
    {
     "data": {
      "text/html": [
       "<div>\n",
       "<style scoped>\n",
       "    .dataframe tbody tr th:only-of-type {\n",
       "        vertical-align: middle;\n",
       "    }\n",
       "\n",
       "    .dataframe tbody tr th {\n",
       "        vertical-align: top;\n",
       "    }\n",
       "\n",
       "    .dataframe thead th {\n",
       "        text-align: right;\n",
       "    }\n",
       "</style>\n",
       "<table border=\"1\" class=\"dataframe\">\n",
       "  <thead>\n",
       "    <tr style=\"text-align: right;\">\n",
       "      <th></th>\n",
       "      <th>level_0</th>\n",
       "      <th>Time</th>\n",
       "      <th>Location</th>\n",
       "      <th>Births</th>\n",
       "      <th>CBR</th>\n",
       "      <th>TFR</th>\n",
       "      <th>NRR</th>\n",
       "      <th>Population</th>\n",
       "    </tr>\n",
       "  </thead>\n",
       "  <tbody>\n",
       "    <tr>\n",
       "      <th>2</th>\n",
       "      <td>172</td>\n",
       "      <td>1970</td>\n",
       "      <td>Middle Africa</td>\n",
       "      <td>1912.772</td>\n",
       "      <td>47.046</td>\n",
       "      <td>6.4675</td>\n",
       "      <td>2.0879</td>\n",
       "      <td>40138.986</td>\n",
       "    </tr>\n",
       "    <tr>\n",
       "      <th>3</th>\n",
       "      <td>212</td>\n",
       "      <td>2010</td>\n",
       "      <td>Middle Africa</td>\n",
       "      <td>5922.646</td>\n",
       "      <td>43.586</td>\n",
       "      <td>6.2005</td>\n",
       "      <td>2.4771</td>\n",
       "      <td>133650.467</td>\n",
       "    </tr>\n",
       "  </tbody>\n",
       "</table>\n",
       "</div>"
      ],
      "text/plain": [
       "   level_0  Time       Location    Births     CBR     TFR     NRR  Population\n",
       "2      172  1970  Middle Africa  1912.772  47.046  6.4675  2.0879   40138.986\n",
       "3      212  2010  Middle Africa  5922.646  43.586  6.2005  2.4771  133650.467"
      ]
     },
     "execution_count": 512,
     "metadata": {},
     "output_type": "execute_result"
    }
   ],
   "source": [
    "un_unregion_70_10.loc[un_unregion_70_10['Location']=='Middle Africa']"
   ]
  },
  {
   "cell_type": "code",
   "execution_count": 513,
   "id": "1d4efa8f-ff94-456e-9c99-095259226935",
   "metadata": {},
   "outputs": [
    {
     "data": {
      "text/html": [
       "<div>\n",
       "<style scoped>\n",
       "    .dataframe tbody tr th:only-of-type {\n",
       "        vertical-align: middle;\n",
       "    }\n",
       "\n",
       "    .dataframe tbody tr th {\n",
       "        vertical-align: top;\n",
       "    }\n",
       "\n",
       "    .dataframe thead th {\n",
       "        text-align: right;\n",
       "    }\n",
       "</style>\n",
       "<table border=\"1\" class=\"dataframe\">\n",
       "  <thead>\n",
       "    <tr style=\"text-align: right;\">\n",
       "      <th></th>\n",
       "      <th>level_0</th>\n",
       "      <th>Time</th>\n",
       "      <th>Location</th>\n",
       "      <th>Births</th>\n",
       "      <th>CBR</th>\n",
       "      <th>TFR</th>\n",
       "      <th>NRR</th>\n",
       "      <th>Population</th>\n",
       "    </tr>\n",
       "  </thead>\n",
       "  <tbody>\n",
       "    <tr>\n",
       "      <th>2</th>\n",
       "      <td>212</td>\n",
       "      <td>2010</td>\n",
       "      <td>Middle Africa</td>\n",
       "      <td>5922.646</td>\n",
       "      <td>43.586</td>\n",
       "      <td>6.2005</td>\n",
       "      <td>2.4771</td>\n",
       "      <td>133650.467</td>\n",
       "    </tr>\n",
       "    <tr>\n",
       "      <th>3</th>\n",
       "      <td>222</td>\n",
       "      <td>2020</td>\n",
       "      <td>Middle Africa</td>\n",
       "      <td>7575.907</td>\n",
       "      <td>40.316</td>\n",
       "      <td>5.6915</td>\n",
       "      <td>2.4262</td>\n",
       "      <td>184977.543</td>\n",
       "    </tr>\n",
       "  </tbody>\n",
       "</table>\n",
       "</div>"
      ],
      "text/plain": [
       "   level_0  Time       Location    Births     CBR     TFR     NRR  Population\n",
       "2      212  2010  Middle Africa  5922.646  43.586  6.2005  2.4771  133650.467\n",
       "3      222  2020  Middle Africa  7575.907  40.316  5.6915  2.4262  184977.543"
      ]
     },
     "execution_count": 513,
     "metadata": {},
     "output_type": "execute_result"
    }
   ],
   "source": [
    "un_unregion_10_20.loc[un_unregion_10_20['Location']=='Middle Africa']"
   ]
  },
  {
   "cell_type": "code",
   "execution_count": 514,
   "id": "cb13ac1f-e691-4dc1-b883-b51b0b721fd7",
   "metadata": {},
   "outputs": [
    {
     "data": {
      "text/html": [
       "<div>\n",
       "<style scoped>\n",
       "    .dataframe tbody tr th:only-of-type {\n",
       "        vertical-align: middle;\n",
       "    }\n",
       "\n",
       "    .dataframe tbody tr th {\n",
       "        vertical-align: top;\n",
       "    }\n",
       "\n",
       "    .dataframe thead th {\n",
       "        text-align: right;\n",
       "    }\n",
       "</style>\n",
       "<table border=\"1\" class=\"dataframe\">\n",
       "  <thead>\n",
       "    <tr style=\"text-align: right;\">\n",
       "      <th></th>\n",
       "      <th>level_0</th>\n",
       "      <th>Time</th>\n",
       "      <th>Location</th>\n",
       "      <th>Births</th>\n",
       "      <th>CBR</th>\n",
       "      <th>TFR</th>\n",
       "      <th>NRR</th>\n",
       "      <th>Population</th>\n",
       "    </tr>\n",
       "  </thead>\n",
       "  <tbody>\n",
       "    <tr>\n",
       "      <th>2</th>\n",
       "      <td>172</td>\n",
       "      <td>1970</td>\n",
       "      <td>Middle Africa</td>\n",
       "      <td>1912.772</td>\n",
       "      <td>47.046</td>\n",
       "      <td>6.4675</td>\n",
       "      <td>2.0879</td>\n",
       "      <td>40138.986</td>\n",
       "    </tr>\n",
       "    <tr>\n",
       "      <th>3</th>\n",
       "      <td>222</td>\n",
       "      <td>2020</td>\n",
       "      <td>Middle Africa</td>\n",
       "      <td>7575.907</td>\n",
       "      <td>40.316</td>\n",
       "      <td>5.6915</td>\n",
       "      <td>2.4262</td>\n",
       "      <td>184977.543</td>\n",
       "    </tr>\n",
       "  </tbody>\n",
       "</table>\n",
       "</div>"
      ],
      "text/plain": [
       "   level_0  Time       Location    Births     CBR     TFR     NRR  Population\n",
       "2      172  1970  Middle Africa  1912.772  47.046  6.4675  2.0879   40138.986\n",
       "3      222  2020  Middle Africa  7575.907  40.316  5.6915  2.4262  184977.543"
      ]
     },
     "execution_count": 514,
     "metadata": {},
     "output_type": "execute_result"
    }
   ],
   "source": [
    "un_unregion_70_20.loc[un_unregion_70_20['Location']=='Middle Africa']"
   ]
  },
  {
   "cell_type": "code",
   "execution_count": 515,
   "id": "f73d1000-1826-48e8-a358-16766b7a8354",
   "metadata": {},
   "outputs": [],
   "source": [
    "un_unregion_70_10_middle_africa = un_unregion_70_10.loc[un_unregion_70_10['Location']=='Middle Africa'].transpose().reset_index().rename(columns={'index':'Indicators'}).drop([0,1,2])"
   ]
  },
  {
   "cell_type": "code",
   "execution_count": 516,
   "id": "eec5fec0-e7aa-49c0-b539-5e5696b6b1de",
   "metadata": {},
   "outputs": [],
   "source": [
    "un_unregion_10_20_middle_africa = un_unregion_10_20.loc[un_unregion_10_20['Location']=='Middle Africa'].transpose().reset_index().rename(columns={'index':'Indicators'}).drop([0,1,2])"
   ]
  },
  {
   "cell_type": "code",
   "execution_count": 517,
   "id": "2569d218-f66d-48b7-be44-52bcbfc1654d",
   "metadata": {},
   "outputs": [],
   "source": [
    "un_unregion_70_20_middle_africa = un_unregion_70_20.loc[un_unregion_70_20['Location']=='Middle Africa'].transpose().reset_index().rename(columns={'index':'Indicators'}).drop([0,1,2])"
   ]
  },
  {
   "cell_type": "code",
   "execution_count": 518,
   "id": "5fe7098e-ac3f-486e-9779-aa943e81214b",
   "metadata": {},
   "outputs": [],
   "source": [
    "un_unregion_70_10_middle_africa['Percent Change']=((un_unregion_70_10_middle_africa[3]-un_unregion_70_10_middle_africa[2])/un_unregion_70_10_middle_africa[2]*100)"
   ]
  },
  {
   "cell_type": "code",
   "execution_count": 519,
   "id": "10473327-7124-4dbc-90bc-a3934de56921",
   "metadata": {},
   "outputs": [],
   "source": [
    "un_unregion_10_20_middle_africa['Percent Change']=((un_unregion_10_20_middle_africa[3]-un_unregion_10_20_middle_africa[2])/un_unregion_10_20_middle_africa[2]*100)"
   ]
  },
  {
   "cell_type": "code",
   "execution_count": 520,
   "id": "8ce92cd4-78e8-42ea-b6b6-77f1b8a7ff36",
   "metadata": {},
   "outputs": [],
   "source": [
    "un_unregion_70_20_middle_africa['Percent Change']=((un_unregion_70_20_middle_africa[3]-un_unregion_70_20_middle_africa[2])/un_unregion_70_20_middle_africa[2]*100)"
   ]
  },
  {
   "cell_type": "code",
   "execution_count": 521,
   "id": "788e47ba-9046-44c7-b1a6-b6ff179951a8",
   "metadata": {},
   "outputs": [],
   "source": [
    "un_unregion_70_10_middle_africa['Year']='1970-2010'"
   ]
  },
  {
   "cell_type": "code",
   "execution_count": 522,
   "id": "5793f129-0d78-4d53-ae23-f2320e5eb8b5",
   "metadata": {},
   "outputs": [],
   "source": [
    "un_unregion_10_20_middle_africa['Year']='2010-2020'"
   ]
  },
  {
   "cell_type": "code",
   "execution_count": 523,
   "id": "84b98d3f-5181-4b0f-aab2-d179a2cfec87",
   "metadata": {},
   "outputs": [],
   "source": [
    "un_unregion_70_20_middle_africa['Year']='1970-2020'"
   ]
  },
  {
   "cell_type": "code",
   "execution_count": 524,
   "id": "1a6cf986-171c-457d-afa9-acd8cf1b5a9f",
   "metadata": {},
   "outputs": [],
   "source": [
    "un_unregion_70_10_middle_africa['Region']='Middle Africa'"
   ]
  },
  {
   "cell_type": "code",
   "execution_count": 525,
   "id": "0b453ea5-c0a1-46da-aa6c-0a64f07ab91a",
   "metadata": {},
   "outputs": [],
   "source": [
    "un_unregion_10_20_middle_africa['Region']='Middle Africa'"
   ]
  },
  {
   "cell_type": "code",
   "execution_count": 526,
   "id": "53b57e0a-5c64-459b-a81d-5a448b28269a",
   "metadata": {},
   "outputs": [],
   "source": [
    "un_unregion_70_20_middle_africa['Region']='Middle Africa'"
   ]
  },
  {
   "cell_type": "code",
   "execution_count": 527,
   "id": "10503f26-bf31-4c34-8a56-c9030d919e8b",
   "metadata": {},
   "outputs": [],
   "source": [
    "un_unregion_70_10_middle_africa=un_unregion_70_10_middle_africa[['Indicators','Region','Year', 'Percent Change']]"
   ]
  },
  {
   "cell_type": "code",
   "execution_count": 528,
   "id": "79eef499-81ed-45fc-95b3-558ee93c5564",
   "metadata": {},
   "outputs": [],
   "source": [
    "un_unregion_10_20_middle_africa=un_unregion_10_20_middle_africa[['Indicators','Region','Year', 'Percent Change']]"
   ]
  },
  {
   "cell_type": "code",
   "execution_count": 529,
   "id": "af4afac7-cb52-4cc1-bbe5-6e24a75bc816",
   "metadata": {},
   "outputs": [],
   "source": [
    "un_unregion_70_20_middle_africa=un_unregion_70_20_middle_africa[['Indicators','Region','Year', 'Percent Change']]"
   ]
  },
  {
   "cell_type": "code",
   "execution_count": 530,
   "id": "20808b4a-1840-452d-9acd-54393ad70ab4",
   "metadata": {},
   "outputs": [
    {
     "data": {
      "text/html": [
       "<div>\n",
       "<style scoped>\n",
       "    .dataframe tbody tr th:only-of-type {\n",
       "        vertical-align: middle;\n",
       "    }\n",
       "\n",
       "    .dataframe tbody tr th {\n",
       "        vertical-align: top;\n",
       "    }\n",
       "\n",
       "    .dataframe thead th {\n",
       "        text-align: right;\n",
       "    }\n",
       "</style>\n",
       "<table border=\"1\" class=\"dataframe\">\n",
       "  <thead>\n",
       "    <tr style=\"text-align: right;\">\n",
       "      <th></th>\n",
       "      <th>level_0</th>\n",
       "      <th>Time</th>\n",
       "      <th>Location</th>\n",
       "      <th>Births</th>\n",
       "      <th>CBR</th>\n",
       "      <th>TFR</th>\n",
       "      <th>NRR</th>\n",
       "      <th>Population</th>\n",
       "    </tr>\n",
       "  </thead>\n",
       "  <tbody>\n",
       "    <tr>\n",
       "      <th>18</th>\n",
       "      <td>1388</td>\n",
       "      <td>1970</td>\n",
       "      <td>Northern Europe</td>\n",
       "      <td>1388.449</td>\n",
       "      <td>15.894</td>\n",
       "      <td>2.3362</td>\n",
       "      <td>1.1054</td>\n",
       "      <td>87132.789</td>\n",
       "    </tr>\n",
       "    <tr>\n",
       "      <th>19</th>\n",
       "      <td>1428</td>\n",
       "      <td>2010</td>\n",
       "      <td>Northern Europe</td>\n",
       "      <td>1262.031</td>\n",
       "      <td>12.635</td>\n",
       "      <td>1.8944</td>\n",
       "      <td>0.9145</td>\n",
       "      <td>99584.861</td>\n",
       "    </tr>\n",
       "  </tbody>\n",
       "</table>\n",
       "</div>"
      ],
      "text/plain": [
       "    level_0  Time         Location    Births     CBR     TFR     NRR  \\\n",
       "18     1388  1970  Northern Europe  1388.449  15.894  2.3362  1.1054   \n",
       "19     1428  2010  Northern Europe  1262.031  12.635  1.8944  0.9145   \n",
       "\n",
       "    Population  \n",
       "18   87132.789  \n",
       "19   99584.861  "
      ]
     },
     "execution_count": 530,
     "metadata": {},
     "output_type": "execute_result"
    }
   ],
   "source": [
    "un_unregion_70_10.loc[un_unregion_70_10['Location']=='Northern Europe']"
   ]
  },
  {
   "cell_type": "code",
   "execution_count": 531,
   "id": "3083a387-5735-4abf-8871-7c1541f2d117",
   "metadata": {},
   "outputs": [
    {
     "data": {
      "text/html": [
       "<div>\n",
       "<style scoped>\n",
       "    .dataframe tbody tr th:only-of-type {\n",
       "        vertical-align: middle;\n",
       "    }\n",
       "\n",
       "    .dataframe tbody tr th {\n",
       "        vertical-align: top;\n",
       "    }\n",
       "\n",
       "    .dataframe thead th {\n",
       "        text-align: right;\n",
       "    }\n",
       "</style>\n",
       "<table border=\"1\" class=\"dataframe\">\n",
       "  <thead>\n",
       "    <tr style=\"text-align: right;\">\n",
       "      <th></th>\n",
       "      <th>level_0</th>\n",
       "      <th>Time</th>\n",
       "      <th>Location</th>\n",
       "      <th>Births</th>\n",
       "      <th>CBR</th>\n",
       "      <th>TFR</th>\n",
       "      <th>NRR</th>\n",
       "      <th>Population</th>\n",
       "    </tr>\n",
       "  </thead>\n",
       "  <tbody>\n",
       "    <tr>\n",
       "      <th>18</th>\n",
       "      <td>1428</td>\n",
       "      <td>2010</td>\n",
       "      <td>Northern Europe</td>\n",
       "      <td>1262.031</td>\n",
       "      <td>12.635</td>\n",
       "      <td>1.8944</td>\n",
       "      <td>0.9145</td>\n",
       "      <td>99584.861</td>\n",
       "    </tr>\n",
       "    <tr>\n",
       "      <th>19</th>\n",
       "      <td>1438</td>\n",
       "      <td>2020</td>\n",
       "      <td>Northern Europe</td>\n",
       "      <td>1080.223</td>\n",
       "      <td>10.179</td>\n",
       "      <td>1.5761</td>\n",
       "      <td>0.7604</td>\n",
       "      <td>105986.507</td>\n",
       "    </tr>\n",
       "  </tbody>\n",
       "</table>\n",
       "</div>"
      ],
      "text/plain": [
       "    level_0  Time         Location    Births     CBR     TFR     NRR  \\\n",
       "18     1428  2010  Northern Europe  1262.031  12.635  1.8944  0.9145   \n",
       "19     1438  2020  Northern Europe  1080.223  10.179  1.5761  0.7604   \n",
       "\n",
       "    Population  \n",
       "18   99584.861  \n",
       "19  105986.507  "
      ]
     },
     "execution_count": 531,
     "metadata": {},
     "output_type": "execute_result"
    }
   ],
   "source": [
    "un_unregion_10_20.loc[un_unregion_10_20['Location']=='Northern Europe']"
   ]
  },
  {
   "cell_type": "code",
   "execution_count": 532,
   "id": "29e8fa7a-c5ec-4c79-80da-ca81b5fea65b",
   "metadata": {},
   "outputs": [
    {
     "data": {
      "text/html": [
       "<div>\n",
       "<style scoped>\n",
       "    .dataframe tbody tr th:only-of-type {\n",
       "        vertical-align: middle;\n",
       "    }\n",
       "\n",
       "    .dataframe tbody tr th {\n",
       "        vertical-align: top;\n",
       "    }\n",
       "\n",
       "    .dataframe thead th {\n",
       "        text-align: right;\n",
       "    }\n",
       "</style>\n",
       "<table border=\"1\" class=\"dataframe\">\n",
       "  <thead>\n",
       "    <tr style=\"text-align: right;\">\n",
       "      <th></th>\n",
       "      <th>level_0</th>\n",
       "      <th>Time</th>\n",
       "      <th>Location</th>\n",
       "      <th>Births</th>\n",
       "      <th>CBR</th>\n",
       "      <th>TFR</th>\n",
       "      <th>NRR</th>\n",
       "      <th>Population</th>\n",
       "    </tr>\n",
       "  </thead>\n",
       "  <tbody>\n",
       "    <tr>\n",
       "      <th>18</th>\n",
       "      <td>1388</td>\n",
       "      <td>1970</td>\n",
       "      <td>Northern Europe</td>\n",
       "      <td>1388.449</td>\n",
       "      <td>15.894</td>\n",
       "      <td>2.3362</td>\n",
       "      <td>1.1054</td>\n",
       "      <td>87132.789</td>\n",
       "    </tr>\n",
       "    <tr>\n",
       "      <th>19</th>\n",
       "      <td>1438</td>\n",
       "      <td>2020</td>\n",
       "      <td>Northern Europe</td>\n",
       "      <td>1080.223</td>\n",
       "      <td>10.179</td>\n",
       "      <td>1.5761</td>\n",
       "      <td>0.7604</td>\n",
       "      <td>105986.507</td>\n",
       "    </tr>\n",
       "  </tbody>\n",
       "</table>\n",
       "</div>"
      ],
      "text/plain": [
       "    level_0  Time         Location    Births     CBR     TFR     NRR  \\\n",
       "18     1388  1970  Northern Europe  1388.449  15.894  2.3362  1.1054   \n",
       "19     1438  2020  Northern Europe  1080.223  10.179  1.5761  0.7604   \n",
       "\n",
       "    Population  \n",
       "18   87132.789  \n",
       "19  105986.507  "
      ]
     },
     "execution_count": 532,
     "metadata": {},
     "output_type": "execute_result"
    }
   ],
   "source": [
    "un_unregion_70_20.loc[un_unregion_70_20['Location']=='Northern Europe']"
   ]
  },
  {
   "cell_type": "code",
   "execution_count": 533,
   "id": "fd27a9d3-ec16-497e-99d5-7a8055bab169",
   "metadata": {},
   "outputs": [],
   "source": [
    "un_unregion_70_10_northern_europe = un_unregion_70_10.loc[un_unregion_70_10['Location']=='Northern Europe'].transpose().reset_index().rename(columns={'index':'Indicators'}).drop([0,1,2])"
   ]
  },
  {
   "cell_type": "code",
   "execution_count": 534,
   "id": "68292186-b2f0-43a5-baea-1f1d66cb8e34",
   "metadata": {},
   "outputs": [],
   "source": [
    "un_unregion_10_20_northern_europe = un_unregion_10_20.loc[un_unregion_10_20['Location']=='Northern Europe'].transpose().reset_index().rename(columns={'index':'Indicators'}).drop([0,1,2])"
   ]
  },
  {
   "cell_type": "code",
   "execution_count": 535,
   "id": "afd4825e-9799-4c09-a53f-dd4e030a3096",
   "metadata": {},
   "outputs": [],
   "source": [
    "un_unregion_70_20_northern_europe = un_unregion_70_20.loc[un_unregion_70_20['Location']=='Northern Europe'].transpose().reset_index().rename(columns={'index':'Indicators'}).drop([0,1,2])"
   ]
  },
  {
   "cell_type": "code",
   "execution_count": 536,
   "id": "cb2605f3-96e7-4e2f-a246-b9319f8e7bf0",
   "metadata": {},
   "outputs": [],
   "source": [
    "un_unregion_70_10_northern_europe['Percent Change']=((un_unregion_70_10_northern_europe[19]-un_unregion_70_10_northern_europe[18])/un_unregion_70_10_northern_europe[18]*100)"
   ]
  },
  {
   "cell_type": "code",
   "execution_count": 537,
   "id": "d56185ab-3b95-4a5c-a5f4-cfd752befd33",
   "metadata": {},
   "outputs": [],
   "source": [
    "un_unregion_10_20_northern_europe['Percent Change']=((un_unregion_10_20_northern_europe[19]-un_unregion_10_20_northern_europe[18])/un_unregion_10_20_northern_europe[18]*100)"
   ]
  },
  {
   "cell_type": "code",
   "execution_count": 538,
   "id": "1c4d49fb-c53c-4d0a-a963-47deadcdaaea",
   "metadata": {},
   "outputs": [],
   "source": [
    "un_unregion_70_20_northern_europe['Percent Change']=((un_unregion_70_20_northern_europe[19]-un_unregion_70_20_northern_europe[18])/un_unregion_70_20_northern_europe[18]*100)"
   ]
  },
  {
   "cell_type": "code",
   "execution_count": 539,
   "id": "5e41c67f-d4a8-41aa-bcab-10d5e34305e5",
   "metadata": {},
   "outputs": [],
   "source": [
    "un_unregion_70_10_northern_europe['Year']='1970-2010'"
   ]
  },
  {
   "cell_type": "code",
   "execution_count": 540,
   "id": "7e1b7b93-aae6-44e2-b7af-acb3cc5a1a12",
   "metadata": {},
   "outputs": [],
   "source": [
    "un_unregion_10_20_northern_europe['Year']='2010-2020'"
   ]
  },
  {
   "cell_type": "code",
   "execution_count": 541,
   "id": "dbed45ff-2428-4b62-a087-2e5f412ee070",
   "metadata": {},
   "outputs": [],
   "source": [
    "un_unregion_70_20_northern_europe['Year']='1970-2020'"
   ]
  },
  {
   "cell_type": "code",
   "execution_count": 542,
   "id": "621b06e6-4a5d-469c-9789-aadeb1de1c44",
   "metadata": {},
   "outputs": [],
   "source": [
    "un_unregion_70_10_northern_europe['Region']='Northern Europe'"
   ]
  },
  {
   "cell_type": "code",
   "execution_count": 543,
   "id": "35ec4b8f-19cf-4076-999b-b9b545064920",
   "metadata": {},
   "outputs": [],
   "source": [
    "un_unregion_10_20_northern_europe['Region']='Northern Europe'"
   ]
  },
  {
   "cell_type": "code",
   "execution_count": 544,
   "id": "3e66fc84-8c19-412b-be31-c39f6b150fbd",
   "metadata": {},
   "outputs": [],
   "source": [
    "un_unregion_70_20_northern_europe['Region']='Northern Europe'"
   ]
  },
  {
   "cell_type": "code",
   "execution_count": 545,
   "id": "993d3783-b3d7-4e98-ab1b-81bd2f30c551",
   "metadata": {},
   "outputs": [],
   "source": [
    "un_unregion_70_10_northern_europe=un_unregion_70_10_northern_europe[['Indicators','Region','Year', 'Percent Change']]"
   ]
  },
  {
   "cell_type": "code",
   "execution_count": 546,
   "id": "2c2db3b1-d91c-4c0e-b9ca-e9893affdbd7",
   "metadata": {},
   "outputs": [],
   "source": [
    "un_unregion_10_20_northern_europe=un_unregion_10_20_northern_europe[['Indicators','Region','Year', 'Percent Change']]"
   ]
  },
  {
   "cell_type": "code",
   "execution_count": 547,
   "id": "a770b35a-286d-48bf-b336-8f4284e96783",
   "metadata": {},
   "outputs": [],
   "source": [
    "un_unregion_70_20_northern_europe=un_unregion_70_20_northern_europe[['Indicators','Region','Year', 'Percent Change']]"
   ]
  },
  {
   "cell_type": "code",
   "execution_count": 548,
   "id": "dc1b28e0-ed99-46cf-83be-b514ed73a62f",
   "metadata": {},
   "outputs": [
    {
     "data": {
      "text/html": [
       "<div>\n",
       "<style scoped>\n",
       "    .dataframe tbody tr th:only-of-type {\n",
       "        vertical-align: middle;\n",
       "    }\n",
       "\n",
       "    .dataframe tbody tr th {\n",
       "        vertical-align: top;\n",
       "    }\n",
       "\n",
       "    .dataframe thead th {\n",
       "        text-align: right;\n",
       "    }\n",
       "</style>\n",
       "<table border=\"1\" class=\"dataframe\">\n",
       "  <thead>\n",
       "    <tr style=\"text-align: right;\">\n",
       "      <th></th>\n",
       "      <th>level_0</th>\n",
       "      <th>Time</th>\n",
       "      <th>Location</th>\n",
       "      <th>Births</th>\n",
       "      <th>CBR</th>\n",
       "      <th>TFR</th>\n",
       "      <th>NRR</th>\n",
       "      <th>Population</th>\n",
       "    </tr>\n",
       "  </thead>\n",
       "  <tbody>\n",
       "    <tr>\n",
       "      <th>16</th>\n",
       "      <td>1236</td>\n",
       "      <td>1970</td>\n",
       "      <td>Eastern Europe</td>\n",
       "      <td>4322.802</td>\n",
       "      <td>15.664</td>\n",
       "      <td>2.1387</td>\n",
       "      <td>0.9982</td>\n",
       "      <td>275231.613</td>\n",
       "    </tr>\n",
       "    <tr>\n",
       "      <th>17</th>\n",
       "      <td>1276</td>\n",
       "      <td>2010</td>\n",
       "      <td>Eastern Europe</td>\n",
       "      <td>3473.893</td>\n",
       "      <td>11.763</td>\n",
       "      <td>1.5275</td>\n",
       "      <td>0.7260</td>\n",
       "      <td>295442.332</td>\n",
       "    </tr>\n",
       "  </tbody>\n",
       "</table>\n",
       "</div>"
      ],
      "text/plain": [
       "    level_0  Time        Location    Births     CBR     TFR     NRR  \\\n",
       "16     1236  1970  Eastern Europe  4322.802  15.664  2.1387  0.9982   \n",
       "17     1276  2010  Eastern Europe  3473.893  11.763  1.5275  0.7260   \n",
       "\n",
       "    Population  \n",
       "16  275231.613  \n",
       "17  295442.332  "
      ]
     },
     "execution_count": 548,
     "metadata": {},
     "output_type": "execute_result"
    }
   ],
   "source": [
    "un_unregion_70_10.loc[un_unregion_70_10['Location']=='Eastern Europe']"
   ]
  },
  {
   "cell_type": "code",
   "execution_count": 549,
   "id": "621483e3-84d0-4aa1-8572-45110141a74f",
   "metadata": {},
   "outputs": [
    {
     "data": {
      "text/html": [
       "<div>\n",
       "<style scoped>\n",
       "    .dataframe tbody tr th:only-of-type {\n",
       "        vertical-align: middle;\n",
       "    }\n",
       "\n",
       "    .dataframe tbody tr th {\n",
       "        vertical-align: top;\n",
       "    }\n",
       "\n",
       "    .dataframe thead th {\n",
       "        text-align: right;\n",
       "    }\n",
       "</style>\n",
       "<table border=\"1\" class=\"dataframe\">\n",
       "  <thead>\n",
       "    <tr style=\"text-align: right;\">\n",
       "      <th></th>\n",
       "      <th>level_0</th>\n",
       "      <th>Time</th>\n",
       "      <th>Location</th>\n",
       "      <th>Births</th>\n",
       "      <th>CBR</th>\n",
       "      <th>TFR</th>\n",
       "      <th>NRR</th>\n",
       "      <th>Population</th>\n",
       "    </tr>\n",
       "  </thead>\n",
       "  <tbody>\n",
       "    <tr>\n",
       "      <th>16</th>\n",
       "      <td>1276</td>\n",
       "      <td>2010</td>\n",
       "      <td>Eastern Europe</td>\n",
       "      <td>3473.893</td>\n",
       "      <td>11.763</td>\n",
       "      <td>1.5275</td>\n",
       "      <td>0.7260</td>\n",
       "      <td>295442.332</td>\n",
       "    </tr>\n",
       "    <tr>\n",
       "      <th>17</th>\n",
       "      <td>1286</td>\n",
       "      <td>2020</td>\n",
       "      <td>Eastern Europe</td>\n",
       "      <td>2787.315</td>\n",
       "      <td>9.490</td>\n",
       "      <td>1.4638</td>\n",
       "      <td>0.7015</td>\n",
       "      <td>294284.252</td>\n",
       "    </tr>\n",
       "  </tbody>\n",
       "</table>\n",
       "</div>"
      ],
      "text/plain": [
       "    level_0  Time        Location    Births     CBR     TFR     NRR  \\\n",
       "16     1276  2010  Eastern Europe  3473.893  11.763  1.5275  0.7260   \n",
       "17     1286  2020  Eastern Europe  2787.315   9.490  1.4638  0.7015   \n",
       "\n",
       "    Population  \n",
       "16  295442.332  \n",
       "17  294284.252  "
      ]
     },
     "execution_count": 549,
     "metadata": {},
     "output_type": "execute_result"
    }
   ],
   "source": [
    "un_unregion_10_20.loc[un_unregion_10_20['Location']=='Eastern Europe']"
   ]
  },
  {
   "cell_type": "code",
   "execution_count": 550,
   "id": "f4928326-856e-42c4-81de-746ee90a4adb",
   "metadata": {},
   "outputs": [
    {
     "data": {
      "text/html": [
       "<div>\n",
       "<style scoped>\n",
       "    .dataframe tbody tr th:only-of-type {\n",
       "        vertical-align: middle;\n",
       "    }\n",
       "\n",
       "    .dataframe tbody tr th {\n",
       "        vertical-align: top;\n",
       "    }\n",
       "\n",
       "    .dataframe thead th {\n",
       "        text-align: right;\n",
       "    }\n",
       "</style>\n",
       "<table border=\"1\" class=\"dataframe\">\n",
       "  <thead>\n",
       "    <tr style=\"text-align: right;\">\n",
       "      <th></th>\n",
       "      <th>level_0</th>\n",
       "      <th>Time</th>\n",
       "      <th>Location</th>\n",
       "      <th>Births</th>\n",
       "      <th>CBR</th>\n",
       "      <th>TFR</th>\n",
       "      <th>NRR</th>\n",
       "      <th>Population</th>\n",
       "    </tr>\n",
       "  </thead>\n",
       "  <tbody>\n",
       "    <tr>\n",
       "      <th>16</th>\n",
       "      <td>1236</td>\n",
       "      <td>1970</td>\n",
       "      <td>Eastern Europe</td>\n",
       "      <td>4322.802</td>\n",
       "      <td>15.664</td>\n",
       "      <td>2.1387</td>\n",
       "      <td>0.9982</td>\n",
       "      <td>275231.613</td>\n",
       "    </tr>\n",
       "    <tr>\n",
       "      <th>17</th>\n",
       "      <td>1286</td>\n",
       "      <td>2020</td>\n",
       "      <td>Eastern Europe</td>\n",
       "      <td>2787.315</td>\n",
       "      <td>9.490</td>\n",
       "      <td>1.4638</td>\n",
       "      <td>0.7015</td>\n",
       "      <td>294284.252</td>\n",
       "    </tr>\n",
       "  </tbody>\n",
       "</table>\n",
       "</div>"
      ],
      "text/plain": [
       "    level_0  Time        Location    Births     CBR     TFR     NRR  \\\n",
       "16     1236  1970  Eastern Europe  4322.802  15.664  2.1387  0.9982   \n",
       "17     1286  2020  Eastern Europe  2787.315   9.490  1.4638  0.7015   \n",
       "\n",
       "    Population  \n",
       "16  275231.613  \n",
       "17  294284.252  "
      ]
     },
     "execution_count": 550,
     "metadata": {},
     "output_type": "execute_result"
    }
   ],
   "source": [
    "un_unregion_70_20.loc[un_unregion_70_20['Location']=='Eastern Europe']"
   ]
  },
  {
   "cell_type": "code",
   "execution_count": 551,
   "id": "1edab35b-041f-4e6e-8e12-242323d57ac3",
   "metadata": {},
   "outputs": [],
   "source": [
    "un_unregion_70_10_eastern_europe = un_unregion_70_10.loc[un_unregion_70_10['Location']=='Eastern Europe'].transpose().reset_index().rename(columns={'index':'Indicators'}).drop([0,1,2])"
   ]
  },
  {
   "cell_type": "code",
   "execution_count": 552,
   "id": "4377b2c6-8253-4bf1-b494-6a314eddb4f4",
   "metadata": {},
   "outputs": [],
   "source": [
    "un_unregion_10_20_eastern_europe = un_unregion_10_20.loc[un_unregion_10_20['Location']=='Eastern Europe'].transpose().reset_index().rename(columns={'index':'Indicators'}).drop([0,1,2])"
   ]
  },
  {
   "cell_type": "code",
   "execution_count": 553,
   "id": "a9765c6b-9669-4d6d-b29b-0981df97f875",
   "metadata": {},
   "outputs": [],
   "source": [
    "un_unregion_70_20_eastern_europe = un_unregion_70_20.loc[un_unregion_70_20['Location']=='Eastern Europe'].transpose().reset_index().rename(columns={'index':'Indicators'}).drop([0,1,2])"
   ]
  },
  {
   "cell_type": "code",
   "execution_count": 554,
   "id": "fe174b58-642d-49a6-a7b5-d3990bb425b5",
   "metadata": {},
   "outputs": [],
   "source": [
    "un_unregion_70_10_eastern_europe['Percent Change']=((un_unregion_70_10_eastern_europe[17]-un_unregion_70_10_eastern_europe[16])/un_unregion_70_10_eastern_europe[16]*100)"
   ]
  },
  {
   "cell_type": "code",
   "execution_count": 555,
   "id": "fde9440b-4e37-44bd-a61f-77a806950f9d",
   "metadata": {},
   "outputs": [],
   "source": [
    "un_unregion_10_20_eastern_europe['Percent Change']=((un_unregion_10_20_eastern_europe[17]-un_unregion_10_20_eastern_europe[16])/un_unregion_10_20_eastern_europe[16]*100)"
   ]
  },
  {
   "cell_type": "code",
   "execution_count": 556,
   "id": "53fbe2d9-b550-4317-ace0-41abb1b27739",
   "metadata": {},
   "outputs": [],
   "source": [
    "un_unregion_70_20_eastern_europe['Percent Change']=((un_unregion_70_20_eastern_europe[17]-un_unregion_70_20_eastern_europe[16])/un_unregion_70_20_eastern_europe[16]*100)"
   ]
  },
  {
   "cell_type": "code",
   "execution_count": 557,
   "id": "98f506e6-c10e-4fa2-9ed9-ec880eadfe2a",
   "metadata": {},
   "outputs": [],
   "source": [
    "un_unregion_70_10_eastern_europe['Year']='1970-2010'"
   ]
  },
  {
   "cell_type": "code",
   "execution_count": 558,
   "id": "9ea3f68d-34e2-4366-86c9-c3d4742bdf76",
   "metadata": {},
   "outputs": [],
   "source": [
    "un_unregion_10_20_eastern_europe['Year']='2010-2020'"
   ]
  },
  {
   "cell_type": "code",
   "execution_count": 559,
   "id": "613cb4ce-67d2-4779-944c-cdd31eb8f498",
   "metadata": {},
   "outputs": [],
   "source": [
    "un_unregion_70_20_eastern_europe['Year']='1970-2020'"
   ]
  },
  {
   "cell_type": "code",
   "execution_count": 560,
   "id": "99c71c6f-9382-4f1a-b6d6-d6f59f55418b",
   "metadata": {},
   "outputs": [],
   "source": [
    "un_unregion_70_10_eastern_europe['Region']='Eastern Europe'"
   ]
  },
  {
   "cell_type": "code",
   "execution_count": 561,
   "id": "477c8cf3-7d97-4ff5-9d7d-786532c95059",
   "metadata": {},
   "outputs": [],
   "source": [
    "un_unregion_10_20_eastern_europe['Region']='Eastern Europe'"
   ]
  },
  {
   "cell_type": "code",
   "execution_count": 562,
   "id": "b627d66f-ba8d-41bd-b875-6ed2d032e68b",
   "metadata": {},
   "outputs": [],
   "source": [
    "un_unregion_70_20_eastern_europe['Region']='Eastern Europe'"
   ]
  },
  {
   "cell_type": "code",
   "execution_count": 563,
   "id": "5330de67-7c28-4d7a-a199-7c20a213f5f0",
   "metadata": {},
   "outputs": [],
   "source": [
    "un_unregion_70_10_eastern_europe=un_unregion_70_10_eastern_europe[['Indicators','Region','Year', 'Percent Change']]"
   ]
  },
  {
   "cell_type": "code",
   "execution_count": 564,
   "id": "e0df46c7-a6af-4bfa-9a7d-4ebf07fb216e",
   "metadata": {},
   "outputs": [],
   "source": [
    "un_unregion_10_20_eastern_europe=un_unregion_10_20_eastern_europe[['Indicators','Region','Year', 'Percent Change']]"
   ]
  },
  {
   "cell_type": "code",
   "execution_count": 565,
   "id": "4cce89f4-f98c-4138-94cc-0d3561080816",
   "metadata": {},
   "outputs": [],
   "source": [
    "un_unregion_70_20_eastern_europe=un_unregion_70_20_eastern_europe[['Indicators','Region','Year', 'Percent Change']]"
   ]
  },
  {
   "cell_type": "code",
   "execution_count": 566,
   "id": "c94037fd-75a1-405c-837f-689cdf91a124",
   "metadata": {},
   "outputs": [
    {
     "data": {
      "text/html": [
       "<div>\n",
       "<style scoped>\n",
       "    .dataframe tbody tr th:only-of-type {\n",
       "        vertical-align: middle;\n",
       "    }\n",
       "\n",
       "    .dataframe tbody tr th {\n",
       "        vertical-align: top;\n",
       "    }\n",
       "\n",
       "    .dataframe thead th {\n",
       "        text-align: right;\n",
       "    }\n",
       "</style>\n",
       "<table border=\"1\" class=\"dataframe\">\n",
       "  <thead>\n",
       "    <tr style=\"text-align: right;\">\n",
       "      <th></th>\n",
       "      <th>level_0</th>\n",
       "      <th>Time</th>\n",
       "      <th>Location</th>\n",
       "      <th>Births</th>\n",
       "      <th>CBR</th>\n",
       "      <th>TFR</th>\n",
       "      <th>NRR</th>\n",
       "      <th>Population</th>\n",
       "    </tr>\n",
       "  </thead>\n",
       "  <tbody>\n",
       "    <tr>\n",
       "      <th>14</th>\n",
       "      <td>1084</td>\n",
       "      <td>1970</td>\n",
       "      <td>Western Asia</td>\n",
       "      <td>3506.509</td>\n",
       "      <td>40.526</td>\n",
       "      <td>5.9555</td>\n",
       "      <td>2.3302</td>\n",
       "      <td>85358.627</td>\n",
       "    </tr>\n",
       "    <tr>\n",
       "      <th>15</th>\n",
       "      <td>1124</td>\n",
       "      <td>2010</td>\n",
       "      <td>Western Asia</td>\n",
       "      <td>5559.660</td>\n",
       "      <td>23.644</td>\n",
       "      <td>2.9625</td>\n",
       "      <td>1.3853</td>\n",
       "      <td>232512.139</td>\n",
       "    </tr>\n",
       "  </tbody>\n",
       "</table>\n",
       "</div>"
      ],
      "text/plain": [
       "    level_0  Time      Location    Births     CBR     TFR     NRR  Population\n",
       "14     1084  1970  Western Asia  3506.509  40.526  5.9555  2.3302   85358.627\n",
       "15     1124  2010  Western Asia  5559.660  23.644  2.9625  1.3853  232512.139"
      ]
     },
     "execution_count": 566,
     "metadata": {},
     "output_type": "execute_result"
    }
   ],
   "source": [
    "un_unregion_70_10.loc[un_unregion_70_10['Location']=='Western Asia']"
   ]
  },
  {
   "cell_type": "code",
   "execution_count": 567,
   "id": "dd0dd5ea-7aa5-4d5c-a64e-285eb29db0d0",
   "metadata": {},
   "outputs": [
    {
     "data": {
      "text/html": [
       "<div>\n",
       "<style scoped>\n",
       "    .dataframe tbody tr th:only-of-type {\n",
       "        vertical-align: middle;\n",
       "    }\n",
       "\n",
       "    .dataframe tbody tr th {\n",
       "        vertical-align: top;\n",
       "    }\n",
       "\n",
       "    .dataframe thead th {\n",
       "        text-align: right;\n",
       "    }\n",
       "</style>\n",
       "<table border=\"1\" class=\"dataframe\">\n",
       "  <thead>\n",
       "    <tr style=\"text-align: right;\">\n",
       "      <th></th>\n",
       "      <th>level_0</th>\n",
       "      <th>Time</th>\n",
       "      <th>Location</th>\n",
       "      <th>Births</th>\n",
       "      <th>CBR</th>\n",
       "      <th>TFR</th>\n",
       "      <th>NRR</th>\n",
       "      <th>Population</th>\n",
       "    </tr>\n",
       "  </thead>\n",
       "  <tbody>\n",
       "    <tr>\n",
       "      <th>14</th>\n",
       "      <td>1124</td>\n",
       "      <td>2010</td>\n",
       "      <td>Western Asia</td>\n",
       "      <td>5559.660</td>\n",
       "      <td>23.644</td>\n",
       "      <td>2.9625</td>\n",
       "      <td>1.3853</td>\n",
       "      <td>232512.139</td>\n",
       "    </tr>\n",
       "    <tr>\n",
       "      <th>15</th>\n",
       "      <td>1134</td>\n",
       "      <td>2020</td>\n",
       "      <td>Western Asia</td>\n",
       "      <td>5747.813</td>\n",
       "      <td>19.982</td>\n",
       "      <td>2.6166</td>\n",
       "      <td>1.2350</td>\n",
       "      <td>285634.868</td>\n",
       "    </tr>\n",
       "  </tbody>\n",
       "</table>\n",
       "</div>"
      ],
      "text/plain": [
       "    level_0  Time      Location    Births     CBR     TFR     NRR  Population\n",
       "14     1124  2010  Western Asia  5559.660  23.644  2.9625  1.3853  232512.139\n",
       "15     1134  2020  Western Asia  5747.813  19.982  2.6166  1.2350  285634.868"
      ]
     },
     "execution_count": 567,
     "metadata": {},
     "output_type": "execute_result"
    }
   ],
   "source": [
    "un_unregion_10_20.loc[un_unregion_10_20['Location']=='Western Asia']"
   ]
  },
  {
   "cell_type": "code",
   "execution_count": 568,
   "id": "33909e98-8119-4872-a9bd-59ca904e4470",
   "metadata": {},
   "outputs": [
    {
     "data": {
      "text/html": [
       "<div>\n",
       "<style scoped>\n",
       "    .dataframe tbody tr th:only-of-type {\n",
       "        vertical-align: middle;\n",
       "    }\n",
       "\n",
       "    .dataframe tbody tr th {\n",
       "        vertical-align: top;\n",
       "    }\n",
       "\n",
       "    .dataframe thead th {\n",
       "        text-align: right;\n",
       "    }\n",
       "</style>\n",
       "<table border=\"1\" class=\"dataframe\">\n",
       "  <thead>\n",
       "    <tr style=\"text-align: right;\">\n",
       "      <th></th>\n",
       "      <th>level_0</th>\n",
       "      <th>Time</th>\n",
       "      <th>Location</th>\n",
       "      <th>Births</th>\n",
       "      <th>CBR</th>\n",
       "      <th>TFR</th>\n",
       "      <th>NRR</th>\n",
       "      <th>Population</th>\n",
       "    </tr>\n",
       "  </thead>\n",
       "  <tbody>\n",
       "    <tr>\n",
       "      <th>14</th>\n",
       "      <td>1084</td>\n",
       "      <td>1970</td>\n",
       "      <td>Western Asia</td>\n",
       "      <td>3506.509</td>\n",
       "      <td>40.526</td>\n",
       "      <td>5.9555</td>\n",
       "      <td>2.3302</td>\n",
       "      <td>85358.627</td>\n",
       "    </tr>\n",
       "    <tr>\n",
       "      <th>15</th>\n",
       "      <td>1134</td>\n",
       "      <td>2020</td>\n",
       "      <td>Western Asia</td>\n",
       "      <td>5747.813</td>\n",
       "      <td>19.982</td>\n",
       "      <td>2.6166</td>\n",
       "      <td>1.2350</td>\n",
       "      <td>285634.868</td>\n",
       "    </tr>\n",
       "  </tbody>\n",
       "</table>\n",
       "</div>"
      ],
      "text/plain": [
       "    level_0  Time      Location    Births     CBR     TFR     NRR  Population\n",
       "14     1084  1970  Western Asia  3506.509  40.526  5.9555  2.3302   85358.627\n",
       "15     1134  2020  Western Asia  5747.813  19.982  2.6166  1.2350  285634.868"
      ]
     },
     "execution_count": 568,
     "metadata": {},
     "output_type": "execute_result"
    }
   ],
   "source": [
    "un_unregion_70_20.loc[un_unregion_70_20['Location']=='Western Asia']"
   ]
  },
  {
   "cell_type": "code",
   "execution_count": 569,
   "id": "00507707-f9de-4d4e-87b3-b5708c563329",
   "metadata": {},
   "outputs": [],
   "source": [
    "un_unregion_70_10_western_asia = un_unregion_70_10.loc[un_unregion_70_10['Location']=='Western Asia'].transpose().reset_index().rename(columns={'index':'Indicators'}).drop([0,1,2])"
   ]
  },
  {
   "cell_type": "code",
   "execution_count": 570,
   "id": "151067d5-1bf7-42ae-883a-15653af11047",
   "metadata": {},
   "outputs": [],
   "source": [
    "un_unregion_10_20_western_asia = un_unregion_10_20.loc[un_unregion_10_20['Location']=='Western Asia'].transpose().reset_index().rename(columns={'index':'Indicators'}).drop([0,1,2])"
   ]
  },
  {
   "cell_type": "code",
   "execution_count": 571,
   "id": "64f7cb4b-9761-4aa0-8310-bbfab78c4b90",
   "metadata": {},
   "outputs": [],
   "source": [
    "un_unregion_70_20_western_asia = un_unregion_70_20.loc[un_unregion_70_20['Location']=='Western Asia'].transpose().reset_index().rename(columns={'index':'Indicators'}).drop([0,1,2])"
   ]
  },
  {
   "cell_type": "code",
   "execution_count": 572,
   "id": "4a7d203f-d46a-4f6f-b1ef-d93bbeb96056",
   "metadata": {},
   "outputs": [],
   "source": [
    "un_unregion_70_10_western_asia['Percent Change']=((un_unregion_70_10_western_asia[15]-un_unregion_70_10_western_asia[14])/un_unregion_70_10_western_asia[14]*100)"
   ]
  },
  {
   "cell_type": "code",
   "execution_count": 573,
   "id": "3e9c1007-195b-4afd-a0b0-7670217a0fb3",
   "metadata": {},
   "outputs": [],
   "source": [
    "un_unregion_10_20_western_asia['Percent Change']=((un_unregion_10_20_western_asia[15]-un_unregion_10_20_western_asia[14])/un_unregion_10_20_western_asia[14]*100)"
   ]
  },
  {
   "cell_type": "code",
   "execution_count": 574,
   "id": "0f14215b-db44-4601-9ac4-bafa3bcb7347",
   "metadata": {},
   "outputs": [],
   "source": [
    "un_unregion_70_20_western_asia['Percent Change']=((un_unregion_70_20_western_asia[15]-un_unregion_70_20_western_asia[14])/un_unregion_70_20_western_asia[14]*100)"
   ]
  },
  {
   "cell_type": "code",
   "execution_count": 575,
   "id": "1911ad61-73da-4409-aec7-7334c447caa3",
   "metadata": {},
   "outputs": [],
   "source": [
    "un_unregion_70_10_western_asia['Year']='1970-2010'"
   ]
  },
  {
   "cell_type": "code",
   "execution_count": 576,
   "id": "fa32a402-6362-4da9-a48d-2a54a00ee19a",
   "metadata": {},
   "outputs": [],
   "source": [
    "un_unregion_10_20_western_asia['Year']='2010-2020'"
   ]
  },
  {
   "cell_type": "code",
   "execution_count": 577,
   "id": "f80a0c1a-abad-4f02-b1db-f301b0d2c5ba",
   "metadata": {},
   "outputs": [],
   "source": [
    "un_unregion_70_20_western_asia['Year']='1970-2020'"
   ]
  },
  {
   "cell_type": "code",
   "execution_count": 578,
   "id": "9ae0acee-9e4c-48cb-91a8-d679b3b38cb0",
   "metadata": {},
   "outputs": [],
   "source": [
    "un_unregion_70_10_western_asia['Region']='Western Asia'"
   ]
  },
  {
   "cell_type": "code",
   "execution_count": 579,
   "id": "92a03490-4b95-4937-814c-5e0adf6d648d",
   "metadata": {},
   "outputs": [],
   "source": [
    "un_unregion_10_20_western_asia['Region']='Western Asia'"
   ]
  },
  {
   "cell_type": "code",
   "execution_count": 580,
   "id": "14d0b609-93d1-4b82-b9c6-e3ad3fe8c941",
   "metadata": {},
   "outputs": [],
   "source": [
    "un_unregion_70_20_western_asia['Region']='Western Asia'"
   ]
  },
  {
   "cell_type": "code",
   "execution_count": 581,
   "id": "97e52c59-17ec-4133-ba56-687e31d85ac4",
   "metadata": {},
   "outputs": [],
   "source": [
    "un_unregion_70_10_western_asia=un_unregion_70_10_western_asia[['Indicators','Region','Year', 'Percent Change']]"
   ]
  },
  {
   "cell_type": "code",
   "execution_count": 582,
   "id": "54f67b75-318f-424f-8a8d-212e39376f27",
   "metadata": {},
   "outputs": [],
   "source": [
    "un_unregion_10_20_western_asia=un_unregion_10_20_western_asia[['Indicators','Region','Year', 'Percent Change']]"
   ]
  },
  {
   "cell_type": "code",
   "execution_count": 583,
   "id": "8b6e6243-6bd3-4c9b-a2a4-0850a5ea9434",
   "metadata": {},
   "outputs": [],
   "source": [
    "un_unregion_70_20_western_asia=un_unregion_70_20_western_asia[['Indicators','Region','Year', 'Percent Change']]"
   ]
  },
  {
   "cell_type": "code",
   "execution_count": 584,
   "id": "6080954a-92d2-4c2c-befe-c1f50965fb20",
   "metadata": {},
   "outputs": [
    {
     "data": {
      "text/html": [
       "<div>\n",
       "<style scoped>\n",
       "    .dataframe tbody tr th:only-of-type {\n",
       "        vertical-align: middle;\n",
       "    }\n",
       "\n",
       "    .dataframe tbody tr th {\n",
       "        vertical-align: top;\n",
       "    }\n",
       "\n",
       "    .dataframe thead th {\n",
       "        text-align: right;\n",
       "    }\n",
       "</style>\n",
       "<table border=\"1\" class=\"dataframe\">\n",
       "  <thead>\n",
       "    <tr style=\"text-align: right;\">\n",
       "      <th></th>\n",
       "      <th>level_0</th>\n",
       "      <th>Time</th>\n",
       "      <th>Location</th>\n",
       "      <th>Births</th>\n",
       "      <th>CBR</th>\n",
       "      <th>TFR</th>\n",
       "      <th>NRR</th>\n",
       "      <th>Population</th>\n",
       "    </tr>\n",
       "  </thead>\n",
       "  <tbody>\n",
       "    <tr>\n",
       "      <th>12</th>\n",
       "      <td>932</td>\n",
       "      <td>1970</td>\n",
       "      <td>South-Eastern Asia</td>\n",
       "      <td>10767.635</td>\n",
       "      <td>38.433</td>\n",
       "      <td>5.6128</td>\n",
       "      <td>2.1967</td>\n",
       "      <td>276745.538</td>\n",
       "    </tr>\n",
       "    <tr>\n",
       "      <th>13</th>\n",
       "      <td>972</td>\n",
       "      <td>2010</td>\n",
       "      <td>South-Eastern Asia</td>\n",
       "      <td>11972.827</td>\n",
       "      <td>19.831</td>\n",
       "      <td>2.3849</td>\n",
       "      <td>1.0935</td>\n",
       "      <td>599788.699</td>\n",
       "    </tr>\n",
       "  </tbody>\n",
       "</table>\n",
       "</div>"
      ],
      "text/plain": [
       "    level_0  Time            Location     Births     CBR     TFR     NRR  \\\n",
       "12      932  1970  South-Eastern Asia  10767.635  38.433  5.6128  2.1967   \n",
       "13      972  2010  South-Eastern Asia  11972.827  19.831  2.3849  1.0935   \n",
       "\n",
       "    Population  \n",
       "12  276745.538  \n",
       "13  599788.699  "
      ]
     },
     "execution_count": 584,
     "metadata": {},
     "output_type": "execute_result"
    }
   ],
   "source": [
    "un_unregion_70_10.loc[un_unregion_70_10['Location']=='South-Eastern Asia']"
   ]
  },
  {
   "cell_type": "code",
   "execution_count": 585,
   "id": "79493c06-5ab2-4931-b5a0-92f931738851",
   "metadata": {},
   "outputs": [
    {
     "data": {
      "text/html": [
       "<div>\n",
       "<style scoped>\n",
       "    .dataframe tbody tr th:only-of-type {\n",
       "        vertical-align: middle;\n",
       "    }\n",
       "\n",
       "    .dataframe tbody tr th {\n",
       "        vertical-align: top;\n",
       "    }\n",
       "\n",
       "    .dataframe thead th {\n",
       "        text-align: right;\n",
       "    }\n",
       "</style>\n",
       "<table border=\"1\" class=\"dataframe\">\n",
       "  <thead>\n",
       "    <tr style=\"text-align: right;\">\n",
       "      <th></th>\n",
       "      <th>level_0</th>\n",
       "      <th>Time</th>\n",
       "      <th>Location</th>\n",
       "      <th>Births</th>\n",
       "      <th>CBR</th>\n",
       "      <th>TFR</th>\n",
       "      <th>NRR</th>\n",
       "      <th>Population</th>\n",
       "    </tr>\n",
       "  </thead>\n",
       "  <tbody>\n",
       "    <tr>\n",
       "      <th>12</th>\n",
       "      <td>972</td>\n",
       "      <td>2010</td>\n",
       "      <td>South-Eastern Asia</td>\n",
       "      <td>11972.827</td>\n",
       "      <td>19.831</td>\n",
       "      <td>2.3849</td>\n",
       "      <td>1.0935</td>\n",
       "      <td>599788.699</td>\n",
       "    </tr>\n",
       "    <tr>\n",
       "      <th>13</th>\n",
       "      <td>982</td>\n",
       "      <td>2020</td>\n",
       "      <td>South-Eastern Asia</td>\n",
       "      <td>10618.415</td>\n",
       "      <td>15.731</td>\n",
       "      <td>2.0173</td>\n",
       "      <td>0.9356</td>\n",
       "      <td>672276.012</td>\n",
       "    </tr>\n",
       "  </tbody>\n",
       "</table>\n",
       "</div>"
      ],
      "text/plain": [
       "    level_0  Time            Location     Births     CBR     TFR     NRR  \\\n",
       "12      972  2010  South-Eastern Asia  11972.827  19.831  2.3849  1.0935   \n",
       "13      982  2020  South-Eastern Asia  10618.415  15.731  2.0173  0.9356   \n",
       "\n",
       "    Population  \n",
       "12  599788.699  \n",
       "13  672276.012  "
      ]
     },
     "execution_count": 585,
     "metadata": {},
     "output_type": "execute_result"
    }
   ],
   "source": [
    "un_unregion_10_20.loc[un_unregion_10_20['Location']=='South-Eastern Asia']"
   ]
  },
  {
   "cell_type": "code",
   "execution_count": 586,
   "id": "1f862ec1-28cb-4cce-97d2-8f2af02a57d4",
   "metadata": {},
   "outputs": [
    {
     "data": {
      "text/html": [
       "<div>\n",
       "<style scoped>\n",
       "    .dataframe tbody tr th:only-of-type {\n",
       "        vertical-align: middle;\n",
       "    }\n",
       "\n",
       "    .dataframe tbody tr th {\n",
       "        vertical-align: top;\n",
       "    }\n",
       "\n",
       "    .dataframe thead th {\n",
       "        text-align: right;\n",
       "    }\n",
       "</style>\n",
       "<table border=\"1\" class=\"dataframe\">\n",
       "  <thead>\n",
       "    <tr style=\"text-align: right;\">\n",
       "      <th></th>\n",
       "      <th>level_0</th>\n",
       "      <th>Time</th>\n",
       "      <th>Location</th>\n",
       "      <th>Births</th>\n",
       "      <th>CBR</th>\n",
       "      <th>TFR</th>\n",
       "      <th>NRR</th>\n",
       "      <th>Population</th>\n",
       "    </tr>\n",
       "  </thead>\n",
       "  <tbody>\n",
       "    <tr>\n",
       "      <th>12</th>\n",
       "      <td>932</td>\n",
       "      <td>1970</td>\n",
       "      <td>South-Eastern Asia</td>\n",
       "      <td>10767.635</td>\n",
       "      <td>38.433</td>\n",
       "      <td>5.6128</td>\n",
       "      <td>2.1967</td>\n",
       "      <td>276745.538</td>\n",
       "    </tr>\n",
       "    <tr>\n",
       "      <th>13</th>\n",
       "      <td>982</td>\n",
       "      <td>2020</td>\n",
       "      <td>South-Eastern Asia</td>\n",
       "      <td>10618.415</td>\n",
       "      <td>15.731</td>\n",
       "      <td>2.0173</td>\n",
       "      <td>0.9356</td>\n",
       "      <td>672276.012</td>\n",
       "    </tr>\n",
       "  </tbody>\n",
       "</table>\n",
       "</div>"
      ],
      "text/plain": [
       "    level_0  Time            Location     Births     CBR     TFR     NRR  \\\n",
       "12      932  1970  South-Eastern Asia  10767.635  38.433  5.6128  2.1967   \n",
       "13      982  2020  South-Eastern Asia  10618.415  15.731  2.0173  0.9356   \n",
       "\n",
       "    Population  \n",
       "12  276745.538  \n",
       "13  672276.012  "
      ]
     },
     "execution_count": 586,
     "metadata": {},
     "output_type": "execute_result"
    }
   ],
   "source": [
    "un_unregion_70_20.loc[un_unregion_70_20['Location']=='South-Eastern Asia']"
   ]
  },
  {
   "cell_type": "code",
   "execution_count": 587,
   "id": "29f11e83-0668-42fd-a319-a8faca337eca",
   "metadata": {},
   "outputs": [],
   "source": [
    "un_unregion_70_10_south_eastern_asia = un_unregion_70_10.loc[un_unregion_70_10['Location']=='South-Eastern Asia'].transpose().reset_index().rename(columns={'index':'Indicators'}).drop([0,1,2])"
   ]
  },
  {
   "cell_type": "code",
   "execution_count": 588,
   "id": "bd2fac92-9785-46d8-a153-ba9d99d4f084",
   "metadata": {},
   "outputs": [],
   "source": [
    "un_unregion_10_20_south_eastern_asia = un_unregion_10_20.loc[un_unregion_10_20['Location']=='South-Eastern Asia'].transpose().reset_index().rename(columns={'index':'Indicators'}).drop([0,1,2])"
   ]
  },
  {
   "cell_type": "code",
   "execution_count": 589,
   "id": "420decdd-6b43-4076-af32-f6893b96013c",
   "metadata": {},
   "outputs": [],
   "source": [
    "un_unregion_70_20_south_eastern_asia = un_unregion_70_20.loc[un_unregion_70_20['Location']=='South-Eastern Asia'].transpose().reset_index().rename(columns={'index':'Indicators'}).drop([0,1,2])"
   ]
  },
  {
   "cell_type": "code",
   "execution_count": 590,
   "id": "ef875762-6eae-4ba7-ab1d-1db766b58062",
   "metadata": {},
   "outputs": [],
   "source": [
    "un_unregion_70_10_south_eastern_asia['Percent Change']=((un_unregion_70_10_south_eastern_asia[13]-un_unregion_70_10_south_eastern_asia[12])/un_unregion_70_10_south_eastern_asia[12]*100)"
   ]
  },
  {
   "cell_type": "code",
   "execution_count": 591,
   "id": "939033c5-f09b-4da2-972f-831c7a5cea74",
   "metadata": {},
   "outputs": [],
   "source": [
    "un_unregion_10_20_south_eastern_asia['Percent Change']=((un_unregion_10_20_south_eastern_asia[13]-un_unregion_10_20_south_eastern_asia[12])/un_unregion_10_20_south_eastern_asia[12]*100)"
   ]
  },
  {
   "cell_type": "code",
   "execution_count": 592,
   "id": "4b39fedf-2bb4-4131-b0c8-c90d066e4f5f",
   "metadata": {},
   "outputs": [],
   "source": [
    "un_unregion_70_20_south_eastern_asia['Percent Change']=((un_unregion_70_20_south_eastern_asia[13]-un_unregion_70_20_south_eastern_asia[12])/un_unregion_70_20_south_eastern_asia[12]*100)"
   ]
  },
  {
   "cell_type": "code",
   "execution_count": 593,
   "id": "1b85a050-9ebb-4a40-8b74-9e3909545399",
   "metadata": {},
   "outputs": [],
   "source": [
    "un_unregion_70_10_south_eastern_asia['Year']='1970-2010'"
   ]
  },
  {
   "cell_type": "code",
   "execution_count": 594,
   "id": "57c1f385-3c37-4762-a0e5-f0c8596ad955",
   "metadata": {},
   "outputs": [],
   "source": [
    "un_unregion_10_20_south_eastern_asia['Year']='2010-2020'"
   ]
  },
  {
   "cell_type": "code",
   "execution_count": 595,
   "id": "9a737ffb-f82b-41d1-aa6d-c1fd999b1d1d",
   "metadata": {},
   "outputs": [],
   "source": [
    "un_unregion_70_20_south_eastern_asia['Year']='1970-2020'"
   ]
  },
  {
   "cell_type": "code",
   "execution_count": 596,
   "id": "534ed477-2460-4848-bca9-16be5d941b05",
   "metadata": {},
   "outputs": [],
   "source": [
    "un_unregion_70_10_south_eastern_asia['Region']='South-Eastern Asia'"
   ]
  },
  {
   "cell_type": "code",
   "execution_count": 597,
   "id": "30b3a0a4-9493-4e0e-b06d-8315f935f749",
   "metadata": {},
   "outputs": [],
   "source": [
    "un_unregion_10_20_south_eastern_asia['Region']='South-Eastern Asia'"
   ]
  },
  {
   "cell_type": "code",
   "execution_count": 598,
   "id": "5c525c31-9a12-4849-86f2-884dd24ad741",
   "metadata": {},
   "outputs": [],
   "source": [
    "un_unregion_70_20_south_eastern_asia['Region']='South-Eastern Asia'"
   ]
  },
  {
   "cell_type": "code",
   "execution_count": 599,
   "id": "c3a689bc-0d31-475f-b390-ff3dd5653625",
   "metadata": {},
   "outputs": [],
   "source": [
    "un_unregion_70_10_south_eastern_asia=un_unregion_70_10_south_eastern_asia[['Indicators','Region','Year', 'Percent Change']]"
   ]
  },
  {
   "cell_type": "code",
   "execution_count": 600,
   "id": "060088ac-a2ec-499f-be99-ca2adc78b11f",
   "metadata": {},
   "outputs": [],
   "source": [
    "un_unregion_10_20_south_eastern_asia=un_unregion_10_20_south_eastern_asia[['Indicators','Region','Year', 'Percent Change']]"
   ]
  },
  {
   "cell_type": "code",
   "execution_count": 601,
   "id": "1ee7bcdc-9cb5-4aec-809d-0a032ec3c20a",
   "metadata": {},
   "outputs": [],
   "source": [
    "un_unregion_70_20_south_eastern_asia=un_unregion_70_20_south_eastern_asia[['Indicators','Region','Year', 'Percent Change']]"
   ]
  },
  {
   "cell_type": "code",
   "execution_count": 602,
   "id": "b6207cff-06de-4bf1-8fa7-33265228f4df",
   "metadata": {},
   "outputs": [
    {
     "data": {
      "text/html": [
       "<div>\n",
       "<style scoped>\n",
       "    .dataframe tbody tr th:only-of-type {\n",
       "        vertical-align: middle;\n",
       "    }\n",
       "\n",
       "    .dataframe tbody tr th {\n",
       "        vertical-align: top;\n",
       "    }\n",
       "\n",
       "    .dataframe thead th {\n",
       "        text-align: right;\n",
       "    }\n",
       "</style>\n",
       "<table border=\"1\" class=\"dataframe\">\n",
       "  <thead>\n",
       "    <tr style=\"text-align: right;\">\n",
       "      <th></th>\n",
       "      <th>level_0</th>\n",
       "      <th>Time</th>\n",
       "      <th>Location</th>\n",
       "      <th>Births</th>\n",
       "      <th>CBR</th>\n",
       "      <th>TFR</th>\n",
       "      <th>NRR</th>\n",
       "      <th>Population</th>\n",
       "    </tr>\n",
       "  </thead>\n",
       "  <tbody>\n",
       "    <tr>\n",
       "      <th>10</th>\n",
       "      <td>780</td>\n",
       "      <td>1970</td>\n",
       "      <td>Eastern Asia</td>\n",
       "      <td>35442.232</td>\n",
       "      <td>35.519</td>\n",
       "      <td>5.3737</td>\n",
       "      <td>2.1990</td>\n",
       "      <td>985578.459</td>\n",
       "    </tr>\n",
       "    <tr>\n",
       "      <th>11</th>\n",
       "      <td>820</td>\n",
       "      <td>2010</td>\n",
       "      <td>Eastern Asia</td>\n",
       "      <td>20075.574</td>\n",
       "      <td>12.649</td>\n",
       "      <td>1.6590</td>\n",
       "      <td>0.7491</td>\n",
       "      <td>1582399.001</td>\n",
       "    </tr>\n",
       "  </tbody>\n",
       "</table>\n",
       "</div>"
      ],
      "text/plain": [
       "    level_0  Time      Location     Births     CBR     TFR     NRR  \\\n",
       "10      780  1970  Eastern Asia  35442.232  35.519  5.3737  2.1990   \n",
       "11      820  2010  Eastern Asia  20075.574  12.649  1.6590  0.7491   \n",
       "\n",
       "     Population  \n",
       "10   985578.459  \n",
       "11  1582399.001  "
      ]
     },
     "execution_count": 602,
     "metadata": {},
     "output_type": "execute_result"
    }
   ],
   "source": [
    "un_unregion_70_10.loc[un_unregion_70_10['Location']=='Eastern Asia']"
   ]
  },
  {
   "cell_type": "code",
   "execution_count": 603,
   "id": "7143b30b-d4bb-435a-9b6f-c00f89d78584",
   "metadata": {},
   "outputs": [
    {
     "data": {
      "text/html": [
       "<div>\n",
       "<style scoped>\n",
       "    .dataframe tbody tr th:only-of-type {\n",
       "        vertical-align: middle;\n",
       "    }\n",
       "\n",
       "    .dataframe tbody tr th {\n",
       "        vertical-align: top;\n",
       "    }\n",
       "\n",
       "    .dataframe thead th {\n",
       "        text-align: right;\n",
       "    }\n",
       "</style>\n",
       "<table border=\"1\" class=\"dataframe\">\n",
       "  <thead>\n",
       "    <tr style=\"text-align: right;\">\n",
       "      <th></th>\n",
       "      <th>level_0</th>\n",
       "      <th>Time</th>\n",
       "      <th>Location</th>\n",
       "      <th>Births</th>\n",
       "      <th>CBR</th>\n",
       "      <th>TFR</th>\n",
       "      <th>NRR</th>\n",
       "      <th>Population</th>\n",
       "    </tr>\n",
       "  </thead>\n",
       "  <tbody>\n",
       "    <tr>\n",
       "      <th>10</th>\n",
       "      <td>820</td>\n",
       "      <td>2010</td>\n",
       "      <td>Eastern Asia</td>\n",
       "      <td>20075.574</td>\n",
       "      <td>12.649</td>\n",
       "      <td>1.6590</td>\n",
       "      <td>0.7491</td>\n",
       "      <td>1582399.001</td>\n",
       "    </tr>\n",
       "    <tr>\n",
       "      <th>11</th>\n",
       "      <td>830</td>\n",
       "      <td>2020</td>\n",
       "      <td>Eastern Asia</td>\n",
       "      <td>13600.329</td>\n",
       "      <td>8.166</td>\n",
       "      <td>1.2303</td>\n",
       "      <td>0.5756</td>\n",
       "      <td>1665038.572</td>\n",
       "    </tr>\n",
       "  </tbody>\n",
       "</table>\n",
       "</div>"
      ],
      "text/plain": [
       "    level_0  Time      Location     Births     CBR     TFR     NRR  \\\n",
       "10      820  2010  Eastern Asia  20075.574  12.649  1.6590  0.7491   \n",
       "11      830  2020  Eastern Asia  13600.329   8.166  1.2303  0.5756   \n",
       "\n",
       "     Population  \n",
       "10  1582399.001  \n",
       "11  1665038.572  "
      ]
     },
     "execution_count": 603,
     "metadata": {},
     "output_type": "execute_result"
    }
   ],
   "source": [
    "un_unregion_10_20.loc[un_unregion_10_20['Location']=='Eastern Asia']"
   ]
  },
  {
   "cell_type": "code",
   "execution_count": 604,
   "id": "bdde4372-0350-47ab-8103-752fb27848cb",
   "metadata": {},
   "outputs": [
    {
     "data": {
      "text/html": [
       "<div>\n",
       "<style scoped>\n",
       "    .dataframe tbody tr th:only-of-type {\n",
       "        vertical-align: middle;\n",
       "    }\n",
       "\n",
       "    .dataframe tbody tr th {\n",
       "        vertical-align: top;\n",
       "    }\n",
       "\n",
       "    .dataframe thead th {\n",
       "        text-align: right;\n",
       "    }\n",
       "</style>\n",
       "<table border=\"1\" class=\"dataframe\">\n",
       "  <thead>\n",
       "    <tr style=\"text-align: right;\">\n",
       "      <th></th>\n",
       "      <th>level_0</th>\n",
       "      <th>Time</th>\n",
       "      <th>Location</th>\n",
       "      <th>Births</th>\n",
       "      <th>CBR</th>\n",
       "      <th>TFR</th>\n",
       "      <th>NRR</th>\n",
       "      <th>Population</th>\n",
       "    </tr>\n",
       "  </thead>\n",
       "  <tbody>\n",
       "    <tr>\n",
       "      <th>10</th>\n",
       "      <td>780</td>\n",
       "      <td>1970</td>\n",
       "      <td>Eastern Asia</td>\n",
       "      <td>35442.232</td>\n",
       "      <td>35.519</td>\n",
       "      <td>5.3737</td>\n",
       "      <td>2.1990</td>\n",
       "      <td>985578.459</td>\n",
       "    </tr>\n",
       "    <tr>\n",
       "      <th>11</th>\n",
       "      <td>830</td>\n",
       "      <td>2020</td>\n",
       "      <td>Eastern Asia</td>\n",
       "      <td>13600.329</td>\n",
       "      <td>8.166</td>\n",
       "      <td>1.2303</td>\n",
       "      <td>0.5756</td>\n",
       "      <td>1665038.572</td>\n",
       "    </tr>\n",
       "  </tbody>\n",
       "</table>\n",
       "</div>"
      ],
      "text/plain": [
       "    level_0  Time      Location     Births     CBR     TFR     NRR  \\\n",
       "10      780  1970  Eastern Asia  35442.232  35.519  5.3737  2.1990   \n",
       "11      830  2020  Eastern Asia  13600.329   8.166  1.2303  0.5756   \n",
       "\n",
       "     Population  \n",
       "10   985578.459  \n",
       "11  1665038.572  "
      ]
     },
     "execution_count": 604,
     "metadata": {},
     "output_type": "execute_result"
    }
   ],
   "source": [
    "un_unregion_70_20.loc[un_unregion_10_20['Location']=='Eastern Asia']"
   ]
  },
  {
   "cell_type": "code",
   "execution_count": 605,
   "id": "7660912e-95a1-4963-8e4b-52fe32799007",
   "metadata": {},
   "outputs": [],
   "source": [
    "un_unregion_70_10_eastern_asia = un_unregion_70_10.loc[un_unregion_70_10['Location']=='Eastern Asia'].transpose().reset_index().rename(columns={'index':'Indicators'}).drop([0,1,2])"
   ]
  },
  {
   "cell_type": "code",
   "execution_count": 606,
   "id": "1511eefa-571a-4b12-b8ad-7b0a538e33ae",
   "metadata": {},
   "outputs": [],
   "source": [
    "un_unregion_10_20_eastern_asia = un_unregion_10_20.loc[un_unregion_10_20['Location']=='Eastern Asia'].transpose().reset_index().rename(columns={'index':'Indicators'}).drop([0,1,2])"
   ]
  },
  {
   "cell_type": "code",
   "execution_count": 607,
   "id": "f18082a9-7718-4e00-8162-2828abfcd76d",
   "metadata": {},
   "outputs": [],
   "source": [
    "un_unregion_70_20_eastern_asia = un_unregion_70_20.loc[un_unregion_70_20['Location']=='Eastern Asia'].transpose().reset_index().rename(columns={'index':'Indicators'}).drop([0,1,2])"
   ]
  },
  {
   "cell_type": "code",
   "execution_count": 608,
   "id": "eb43dc23-228e-4ab1-9a49-2e0522b65fc7",
   "metadata": {},
   "outputs": [],
   "source": [
    "un_unregion_70_10_eastern_asia['Percent Change']=((un_unregion_70_10_eastern_asia[11]-un_unregion_70_10_eastern_asia[10])/un_unregion_70_10_eastern_asia[10]*100)"
   ]
  },
  {
   "cell_type": "code",
   "execution_count": 609,
   "id": "e4575866-1510-41cf-aaa3-3f6c10291415",
   "metadata": {},
   "outputs": [],
   "source": [
    "un_unregion_10_20_eastern_asia['Percent Change']=((un_unregion_10_20_eastern_asia[11]-un_unregion_10_20_eastern_asia[10])/un_unregion_10_20_eastern_asia[10]*100)"
   ]
  },
  {
   "cell_type": "code",
   "execution_count": 610,
   "id": "324ef6c5-1b53-42bc-bff2-bfaa705b0511",
   "metadata": {},
   "outputs": [],
   "source": [
    "un_unregion_70_20_eastern_asia['Percent Change']=((un_unregion_70_20_eastern_asia[11]-un_unregion_70_20_eastern_asia[10])/un_unregion_70_20_eastern_asia[10]*100)"
   ]
  },
  {
   "cell_type": "code",
   "execution_count": 611,
   "id": "00e7d0e6-39d6-456f-b2a1-1a5d8a44969a",
   "metadata": {},
   "outputs": [],
   "source": [
    "un_unregion_70_10_eastern_asia['Year']='1970-2010'"
   ]
  },
  {
   "cell_type": "code",
   "execution_count": 612,
   "id": "cfa05ad1-35cc-49a5-906e-a4c18ec11d29",
   "metadata": {},
   "outputs": [],
   "source": [
    "un_unregion_10_20_eastern_asia['Year']='2010-2020'"
   ]
  },
  {
   "cell_type": "code",
   "execution_count": 613,
   "id": "ffb8272a-c8e6-41be-aba6-5a0a02bb8309",
   "metadata": {},
   "outputs": [],
   "source": [
    "un_unregion_70_20_eastern_asia['Year']='1970-2020'"
   ]
  },
  {
   "cell_type": "code",
   "execution_count": 614,
   "id": "5725f067-969e-484c-860b-4f089741fcb1",
   "metadata": {},
   "outputs": [],
   "source": [
    "un_unregion_70_10_eastern_asia['Region']='Eastern Asia'"
   ]
  },
  {
   "cell_type": "code",
   "execution_count": 615,
   "id": "d3089eea-6a96-470d-9819-5e783bbe7435",
   "metadata": {},
   "outputs": [],
   "source": [
    "un_unregion_10_20_eastern_asia['Region']='Eastern Asia'"
   ]
  },
  {
   "cell_type": "code",
   "execution_count": 616,
   "id": "a367145f-2516-46d5-ac6f-8c89e485d26b",
   "metadata": {},
   "outputs": [],
   "source": [
    "un_unregion_70_20_eastern_asia['Region']='Eastern Asia'"
   ]
  },
  {
   "cell_type": "code",
   "execution_count": 617,
   "id": "aeb94d35-1840-45e7-93f2-7b43b8467265",
   "metadata": {},
   "outputs": [],
   "source": [
    "un_unregion_70_10_eastern_asia=un_unregion_70_10_eastern_asia[['Indicators','Region','Year', 'Percent Change']]"
   ]
  },
  {
   "cell_type": "code",
   "execution_count": 618,
   "id": "d75d1b9a-1c3c-4557-84ee-606c81d4d35a",
   "metadata": {},
   "outputs": [],
   "source": [
    "un_unregion_10_20_eastern_asia=un_unregion_10_20_eastern_asia[['Indicators','Region','Year', 'Percent Change']]"
   ]
  },
  {
   "cell_type": "code",
   "execution_count": 619,
   "id": "6a0ffbea-5a6d-417e-9cb4-a25952747cdb",
   "metadata": {},
   "outputs": [],
   "source": [
    "un_unregion_70_20_eastern_asia=un_unregion_70_20_eastern_asia[['Indicators','Region','Year', 'Percent Change']]"
   ]
  },
  {
   "cell_type": "code",
   "execution_count": 620,
   "id": "5ce426d1-49b7-48a1-a981-a3aa53c6788c",
   "metadata": {},
   "outputs": [
    {
     "data": {
      "text/html": [
       "<div>\n",
       "<style scoped>\n",
       "    .dataframe tbody tr th:only-of-type {\n",
       "        vertical-align: middle;\n",
       "    }\n",
       "\n",
       "    .dataframe tbody tr th {\n",
       "        vertical-align: top;\n",
       "    }\n",
       "\n",
       "    .dataframe thead th {\n",
       "        text-align: right;\n",
       "    }\n",
       "</style>\n",
       "<table border=\"1\" class=\"dataframe\">\n",
       "  <thead>\n",
       "    <tr style=\"text-align: right;\">\n",
       "      <th></th>\n",
       "      <th>level_0</th>\n",
       "      <th>Time</th>\n",
       "      <th>Location</th>\n",
       "      <th>Births</th>\n",
       "      <th>CBR</th>\n",
       "      <th>TFR</th>\n",
       "      <th>NRR</th>\n",
       "      <th>Population</th>\n",
       "    </tr>\n",
       "  </thead>\n",
       "  <tbody>\n",
       "    <tr>\n",
       "      <th>8</th>\n",
       "      <td>628</td>\n",
       "      <td>1970</td>\n",
       "      <td>Western Africa</td>\n",
       "      <td>5183.248</td>\n",
       "      <td>48.215</td>\n",
       "      <td>6.7105</td>\n",
       "      <td>2.0089</td>\n",
       "      <td>106193.958</td>\n",
       "    </tr>\n",
       "    <tr>\n",
       "      <th>9</th>\n",
       "      <td>668</td>\n",
       "      <td>2010</td>\n",
       "      <td>Western Africa</td>\n",
       "      <td>13240.801</td>\n",
       "      <td>41.311</td>\n",
       "      <td>5.7250</td>\n",
       "      <td>2.1975</td>\n",
       "      <td>316061.225</td>\n",
       "    </tr>\n",
       "  </tbody>\n",
       "</table>\n",
       "</div>"
      ],
      "text/plain": [
       "   level_0  Time        Location     Births     CBR     TFR     NRR  \\\n",
       "8      628  1970  Western Africa   5183.248  48.215  6.7105  2.0089   \n",
       "9      668  2010  Western Africa  13240.801  41.311  5.7250  2.1975   \n",
       "\n",
       "   Population  \n",
       "8  106193.958  \n",
       "9  316061.225  "
      ]
     },
     "execution_count": 620,
     "metadata": {},
     "output_type": "execute_result"
    }
   ],
   "source": [
    "un_unregion_70_10.loc[un_unregion_70_10['Location']=='Western Africa']"
   ]
  },
  {
   "cell_type": "code",
   "execution_count": 621,
   "id": "8035441f-c723-4287-aa66-c3a579499d4e",
   "metadata": {},
   "outputs": [
    {
     "data": {
      "text/html": [
       "<div>\n",
       "<style scoped>\n",
       "    .dataframe tbody tr th:only-of-type {\n",
       "        vertical-align: middle;\n",
       "    }\n",
       "\n",
       "    .dataframe tbody tr th {\n",
       "        vertical-align: top;\n",
       "    }\n",
       "\n",
       "    .dataframe thead th {\n",
       "        text-align: right;\n",
       "    }\n",
       "</style>\n",
       "<table border=\"1\" class=\"dataframe\">\n",
       "  <thead>\n",
       "    <tr style=\"text-align: right;\">\n",
       "      <th></th>\n",
       "      <th>level_0</th>\n",
       "      <th>Time</th>\n",
       "      <th>Location</th>\n",
       "      <th>Births</th>\n",
       "      <th>CBR</th>\n",
       "      <th>TFR</th>\n",
       "      <th>NRR</th>\n",
       "      <th>Population</th>\n",
       "    </tr>\n",
       "  </thead>\n",
       "  <tbody>\n",
       "    <tr>\n",
       "      <th>8</th>\n",
       "      <td>668</td>\n",
       "      <td>2010</td>\n",
       "      <td>Western Africa</td>\n",
       "      <td>13240.801</td>\n",
       "      <td>41.311</td>\n",
       "      <td>5.725</td>\n",
       "      <td>2.1975</td>\n",
       "      <td>316061.225</td>\n",
       "    </tr>\n",
       "    <tr>\n",
       "      <th>9</th>\n",
       "      <td>678</td>\n",
       "      <td>2020</td>\n",
       "      <td>Western Africa</td>\n",
       "      <td>14122.596</td>\n",
       "      <td>33.922</td>\n",
       "      <td>4.649</td>\n",
       "      <td>1.8659</td>\n",
       "      <td>411478.122</td>\n",
       "    </tr>\n",
       "  </tbody>\n",
       "</table>\n",
       "</div>"
      ],
      "text/plain": [
       "   level_0  Time        Location     Births     CBR    TFR     NRR  Population\n",
       "8      668  2010  Western Africa  13240.801  41.311  5.725  2.1975  316061.225\n",
       "9      678  2020  Western Africa  14122.596  33.922  4.649  1.8659  411478.122"
      ]
     },
     "execution_count": 621,
     "metadata": {},
     "output_type": "execute_result"
    }
   ],
   "source": [
    "un_unregion_10_20.loc[un_unregion_10_20['Location']=='Western Africa']"
   ]
  },
  {
   "cell_type": "code",
   "execution_count": 622,
   "id": "34e825e0-8dbd-48a0-8057-5eb039cec10a",
   "metadata": {},
   "outputs": [
    {
     "data": {
      "text/html": [
       "<div>\n",
       "<style scoped>\n",
       "    .dataframe tbody tr th:only-of-type {\n",
       "        vertical-align: middle;\n",
       "    }\n",
       "\n",
       "    .dataframe tbody tr th {\n",
       "        vertical-align: top;\n",
       "    }\n",
       "\n",
       "    .dataframe thead th {\n",
       "        text-align: right;\n",
       "    }\n",
       "</style>\n",
       "<table border=\"1\" class=\"dataframe\">\n",
       "  <thead>\n",
       "    <tr style=\"text-align: right;\">\n",
       "      <th></th>\n",
       "      <th>level_0</th>\n",
       "      <th>Time</th>\n",
       "      <th>Location</th>\n",
       "      <th>Births</th>\n",
       "      <th>CBR</th>\n",
       "      <th>TFR</th>\n",
       "      <th>NRR</th>\n",
       "      <th>Population</th>\n",
       "    </tr>\n",
       "  </thead>\n",
       "  <tbody>\n",
       "    <tr>\n",
       "      <th>8</th>\n",
       "      <td>628</td>\n",
       "      <td>1970</td>\n",
       "      <td>Western Africa</td>\n",
       "      <td>5183.248</td>\n",
       "      <td>48.215</td>\n",
       "      <td>6.7105</td>\n",
       "      <td>2.0089</td>\n",
       "      <td>106193.958</td>\n",
       "    </tr>\n",
       "    <tr>\n",
       "      <th>9</th>\n",
       "      <td>678</td>\n",
       "      <td>2020</td>\n",
       "      <td>Western Africa</td>\n",
       "      <td>14122.596</td>\n",
       "      <td>33.922</td>\n",
       "      <td>4.6490</td>\n",
       "      <td>1.8659</td>\n",
       "      <td>411478.122</td>\n",
       "    </tr>\n",
       "  </tbody>\n",
       "</table>\n",
       "</div>"
      ],
      "text/plain": [
       "   level_0  Time        Location     Births     CBR     TFR     NRR  \\\n",
       "8      628  1970  Western Africa   5183.248  48.215  6.7105  2.0089   \n",
       "9      678  2020  Western Africa  14122.596  33.922  4.6490  1.8659   \n",
       "\n",
       "   Population  \n",
       "8  106193.958  \n",
       "9  411478.122  "
      ]
     },
     "execution_count": 622,
     "metadata": {},
     "output_type": "execute_result"
    }
   ],
   "source": [
    "un_unregion_70_20.loc[un_unregion_70_20['Location']=='Western Africa']"
   ]
  },
  {
   "cell_type": "code",
   "execution_count": 623,
   "id": "9ba08f13-4095-46f9-b037-e8f538f12013",
   "metadata": {},
   "outputs": [],
   "source": [
    "un_unregion_70_10_western_africa = un_unregion_70_10.loc[un_unregion_70_10['Location']=='Western Africa'].transpose().reset_index().rename(columns={'index':'Indicators'}).drop([0,1,2])"
   ]
  },
  {
   "cell_type": "code",
   "execution_count": 624,
   "id": "9d637800-2595-47fa-936c-283d1c0fa460",
   "metadata": {},
   "outputs": [],
   "source": [
    "un_unregion_10_20_western_africa = un_unregion_10_20.loc[un_unregion_10_20['Location']=='Western Africa'].transpose().reset_index().rename(columns={'index':'Indicators'}).drop([0,1,2])"
   ]
  },
  {
   "cell_type": "code",
   "execution_count": 625,
   "id": "6377fd90-e834-4fb3-bd39-6c4a9ca186dc",
   "metadata": {},
   "outputs": [],
   "source": [
    "un_unregion_70_20_western_africa = un_unregion_70_20.loc[un_unregion_70_20['Location']=='Western Africa'].transpose().reset_index().rename(columns={'index':'Indicators'}).drop([0,1,2])"
   ]
  },
  {
   "cell_type": "code",
   "execution_count": 626,
   "id": "cb03ad20-3147-430f-b97d-b27d1b9cd2aa",
   "metadata": {},
   "outputs": [],
   "source": [
    "un_unregion_70_10_western_africa['Percent Change']=((un_unregion_70_10_western_africa[9]-un_unregion_70_10_western_africa[8])/un_unregion_70_10_western_africa[8]*100)"
   ]
  },
  {
   "cell_type": "code",
   "execution_count": 627,
   "id": "c662e77e-103c-428f-babf-5eca8d954651",
   "metadata": {},
   "outputs": [],
   "source": [
    "un_unregion_10_20_western_africa['Percent Change']=((un_unregion_10_20_western_africa[9]-un_unregion_10_20_western_africa[8])/un_unregion_10_20_western_africa[8]*100)"
   ]
  },
  {
   "cell_type": "code",
   "execution_count": 628,
   "id": "6338ff72-ca8a-471b-8309-c0dd9c441d74",
   "metadata": {},
   "outputs": [],
   "source": [
    "un_unregion_70_20_western_africa['Percent Change']=((un_unregion_70_20_western_africa[9]-un_unregion_70_20_western_africa[8])/un_unregion_70_20_western_africa[8]*100)"
   ]
  },
  {
   "cell_type": "code",
   "execution_count": 629,
   "id": "718c676f-980a-497d-bb5f-3ff1bc66d486",
   "metadata": {},
   "outputs": [],
   "source": [
    "un_unregion_70_10_western_africa['Year']='1970-2010'"
   ]
  },
  {
   "cell_type": "code",
   "execution_count": 630,
   "id": "42d19bf8-9989-43c1-bfcb-00bfe64abe93",
   "metadata": {},
   "outputs": [],
   "source": [
    "un_unregion_10_20_western_africa['Year']='2010-2020'"
   ]
  },
  {
   "cell_type": "code",
   "execution_count": 631,
   "id": "c35e14d8-253b-49a7-9a37-aa8288e21dc3",
   "metadata": {},
   "outputs": [],
   "source": [
    "un_unregion_70_20_western_africa['Year']='1970-2020'"
   ]
  },
  {
   "cell_type": "code",
   "execution_count": 632,
   "id": "a8928665-73cc-403a-b2d5-cb956be0af3e",
   "metadata": {},
   "outputs": [],
   "source": [
    "un_unregion_70_10_western_africa['Region']='Western Africa'"
   ]
  },
  {
   "cell_type": "code",
   "execution_count": 633,
   "id": "9239d57f-6c14-4ad1-8295-2b7cbde355c5",
   "metadata": {},
   "outputs": [],
   "source": [
    "un_unregion_10_20_western_africa['Region']='Western Africa'"
   ]
  },
  {
   "cell_type": "code",
   "execution_count": 634,
   "id": "cfd1b8f0-2092-4037-b282-099c8a226ac0",
   "metadata": {},
   "outputs": [],
   "source": [
    "un_unregion_70_20_western_africa['Region']='Western Africa'"
   ]
  },
  {
   "cell_type": "code",
   "execution_count": 635,
   "id": "b5049366-9451-4611-a68a-32ead9df08e8",
   "metadata": {},
   "outputs": [],
   "source": [
    "un_unregion_70_10_western_africa=un_unregion_70_10_western_africa[['Indicators','Region','Year', 'Percent Change']]"
   ]
  },
  {
   "cell_type": "code",
   "execution_count": 636,
   "id": "4a0e1694-7965-42e1-b041-d19337a99eac",
   "metadata": {},
   "outputs": [],
   "source": [
    "un_unregion_10_20_western_africa=un_unregion_10_20_western_africa[['Indicators','Region','Year', 'Percent Change']]"
   ]
  },
  {
   "cell_type": "code",
   "execution_count": 637,
   "id": "94363bb8-4782-4a47-b519-e674c24a7630",
   "metadata": {},
   "outputs": [],
   "source": [
    "un_unregion_70_20_western_africa=un_unregion_70_20_western_africa[['Indicators','Region','Year', 'Percent Change']]"
   ]
  },
  {
   "cell_type": "code",
   "execution_count": 638,
   "id": "e821477d-df10-4fda-ab81-2e2483dd41c9",
   "metadata": {},
   "outputs": [
    {
     "data": {
      "text/html": [
       "<div>\n",
       "<style scoped>\n",
       "    .dataframe tbody tr th:only-of-type {\n",
       "        vertical-align: middle;\n",
       "    }\n",
       "\n",
       "    .dataframe tbody tr th {\n",
       "        vertical-align: top;\n",
       "    }\n",
       "\n",
       "    .dataframe thead th {\n",
       "        text-align: right;\n",
       "    }\n",
       "</style>\n",
       "<table border=\"1\" class=\"dataframe\">\n",
       "  <thead>\n",
       "    <tr style=\"text-align: right;\">\n",
       "      <th></th>\n",
       "      <th>level_0</th>\n",
       "      <th>Time</th>\n",
       "      <th>Location</th>\n",
       "      <th>Births</th>\n",
       "      <th>CBR</th>\n",
       "      <th>TFR</th>\n",
       "      <th>NRR</th>\n",
       "      <th>Population</th>\n",
       "    </tr>\n",
       "  </thead>\n",
       "  <tbody>\n",
       "    <tr>\n",
       "      <th>6</th>\n",
       "      <td>476</td>\n",
       "      <td>1970</td>\n",
       "      <td>Southern Africa</td>\n",
       "      <td>1000.427</td>\n",
       "      <td>39.876</td>\n",
       "      <td>5.7075</td>\n",
       "      <td>2.2636</td>\n",
       "      <td>24718.501</td>\n",
       "    </tr>\n",
       "    <tr>\n",
       "      <th>7</th>\n",
       "      <td>516</td>\n",
       "      <td>2010</td>\n",
       "      <td>Southern Africa</td>\n",
       "      <td>1376.512</td>\n",
       "      <td>23.098</td>\n",
       "      <td>2.5515</td>\n",
       "      <td>1.0880</td>\n",
       "      <td>59227.617</td>\n",
       "    </tr>\n",
       "  </tbody>\n",
       "</table>\n",
       "</div>"
      ],
      "text/plain": [
       "   level_0  Time         Location    Births     CBR     TFR     NRR  \\\n",
       "6      476  1970  Southern Africa  1000.427  39.876  5.7075  2.2636   \n",
       "7      516  2010  Southern Africa  1376.512  23.098  2.5515  1.0880   \n",
       "\n",
       "   Population  \n",
       "6   24718.501  \n",
       "7   59227.617  "
      ]
     },
     "execution_count": 638,
     "metadata": {},
     "output_type": "execute_result"
    }
   ],
   "source": [
    "un_unregion_70_10.loc[un_unregion_70_10['Location']=='Southern Africa']"
   ]
  },
  {
   "cell_type": "code",
   "execution_count": 639,
   "id": "38f9af3f-0021-4843-a04d-4c77fee46940",
   "metadata": {},
   "outputs": [
    {
     "data": {
      "text/html": [
       "<div>\n",
       "<style scoped>\n",
       "    .dataframe tbody tr th:only-of-type {\n",
       "        vertical-align: middle;\n",
       "    }\n",
       "\n",
       "    .dataframe tbody tr th {\n",
       "        vertical-align: top;\n",
       "    }\n",
       "\n",
       "    .dataframe thead th {\n",
       "        text-align: right;\n",
       "    }\n",
       "</style>\n",
       "<table border=\"1\" class=\"dataframe\">\n",
       "  <thead>\n",
       "    <tr style=\"text-align: right;\">\n",
       "      <th></th>\n",
       "      <th>level_0</th>\n",
       "      <th>Time</th>\n",
       "      <th>Location</th>\n",
       "      <th>Births</th>\n",
       "      <th>CBR</th>\n",
       "      <th>TFR</th>\n",
       "      <th>NRR</th>\n",
       "      <th>Population</th>\n",
       "    </tr>\n",
       "  </thead>\n",
       "  <tbody>\n",
       "    <tr>\n",
       "      <th>6</th>\n",
       "      <td>516</td>\n",
       "      <td>2010</td>\n",
       "      <td>Southern Africa</td>\n",
       "      <td>1376.512</td>\n",
       "      <td>23.098</td>\n",
       "      <td>2.5515</td>\n",
       "      <td>1.0880</td>\n",
       "      <td>59227.617</td>\n",
       "    </tr>\n",
       "    <tr>\n",
       "      <th>7</th>\n",
       "      <td>526</td>\n",
       "      <td>2020</td>\n",
       "      <td>Southern Africa</td>\n",
       "      <td>1405.823</td>\n",
       "      <td>20.349</td>\n",
       "      <td>2.3493</td>\n",
       "      <td>1.0793</td>\n",
       "      <td>68523.454</td>\n",
       "    </tr>\n",
       "  </tbody>\n",
       "</table>\n",
       "</div>"
      ],
      "text/plain": [
       "   level_0  Time         Location    Births     CBR     TFR     NRR  \\\n",
       "6      516  2010  Southern Africa  1376.512  23.098  2.5515  1.0880   \n",
       "7      526  2020  Southern Africa  1405.823  20.349  2.3493  1.0793   \n",
       "\n",
       "   Population  \n",
       "6   59227.617  \n",
       "7   68523.454  "
      ]
     },
     "execution_count": 639,
     "metadata": {},
     "output_type": "execute_result"
    }
   ],
   "source": [
    "un_unregion_10_20.loc[un_unregion_10_20['Location']=='Southern Africa']"
   ]
  },
  {
   "cell_type": "code",
   "execution_count": 640,
   "id": "e2e49a24-ddc5-4b60-ba80-c23df731633c",
   "metadata": {},
   "outputs": [
    {
     "data": {
      "text/html": [
       "<div>\n",
       "<style scoped>\n",
       "    .dataframe tbody tr th:only-of-type {\n",
       "        vertical-align: middle;\n",
       "    }\n",
       "\n",
       "    .dataframe tbody tr th {\n",
       "        vertical-align: top;\n",
       "    }\n",
       "\n",
       "    .dataframe thead th {\n",
       "        text-align: right;\n",
       "    }\n",
       "</style>\n",
       "<table border=\"1\" class=\"dataframe\">\n",
       "  <thead>\n",
       "    <tr style=\"text-align: right;\">\n",
       "      <th></th>\n",
       "      <th>level_0</th>\n",
       "      <th>Time</th>\n",
       "      <th>Location</th>\n",
       "      <th>Births</th>\n",
       "      <th>CBR</th>\n",
       "      <th>TFR</th>\n",
       "      <th>NRR</th>\n",
       "      <th>Population</th>\n",
       "    </tr>\n",
       "  </thead>\n",
       "  <tbody>\n",
       "    <tr>\n",
       "      <th>6</th>\n",
       "      <td>476</td>\n",
       "      <td>1970</td>\n",
       "      <td>Southern Africa</td>\n",
       "      <td>1000.427</td>\n",
       "      <td>39.876</td>\n",
       "      <td>5.7075</td>\n",
       "      <td>2.2636</td>\n",
       "      <td>24718.501</td>\n",
       "    </tr>\n",
       "    <tr>\n",
       "      <th>7</th>\n",
       "      <td>526</td>\n",
       "      <td>2020</td>\n",
       "      <td>Southern Africa</td>\n",
       "      <td>1405.823</td>\n",
       "      <td>20.349</td>\n",
       "      <td>2.3493</td>\n",
       "      <td>1.0793</td>\n",
       "      <td>68523.454</td>\n",
       "    </tr>\n",
       "  </tbody>\n",
       "</table>\n",
       "</div>"
      ],
      "text/plain": [
       "   level_0  Time         Location    Births     CBR     TFR     NRR  \\\n",
       "6      476  1970  Southern Africa  1000.427  39.876  5.7075  2.2636   \n",
       "7      526  2020  Southern Africa  1405.823  20.349  2.3493  1.0793   \n",
       "\n",
       "   Population  \n",
       "6   24718.501  \n",
       "7   68523.454  "
      ]
     },
     "execution_count": 640,
     "metadata": {},
     "output_type": "execute_result"
    }
   ],
   "source": [
    "un_unregion_70_20.loc[un_unregion_70_20['Location']=='Southern Africa']"
   ]
  },
  {
   "cell_type": "code",
   "execution_count": 641,
   "id": "e9dcce00-ae0b-47a8-b592-1e7bbee3e042",
   "metadata": {},
   "outputs": [],
   "source": [
    "un_unregion_70_10_southern_africa = un_unregion_70_10.loc[un_unregion_70_10['Location']=='Southern Africa'].transpose().reset_index().rename(columns={'index':'Indicators'}).drop([0,1,2])"
   ]
  },
  {
   "cell_type": "code",
   "execution_count": 642,
   "id": "41bbc4aa-3cf6-42f8-9948-efc04d2b656b",
   "metadata": {},
   "outputs": [],
   "source": [
    "un_unregion_10_20_southern_africa = un_unregion_10_20.loc[un_unregion_10_20['Location']=='Southern Africa'].transpose().reset_index().rename(columns={'index':'Indicators'}).drop([0,1,2])"
   ]
  },
  {
   "cell_type": "code",
   "execution_count": 643,
   "id": "4ec0d418-5951-4058-93ce-0c90a379a95d",
   "metadata": {},
   "outputs": [],
   "source": [
    "un_unregion_70_20_southern_africa = un_unregion_70_20.loc[un_unregion_70_20['Location']=='Southern Africa'].transpose().reset_index().rename(columns={'index':'Indicators'}).drop([0,1,2])"
   ]
  },
  {
   "cell_type": "code",
   "execution_count": 644,
   "id": "3a16a467-1886-438d-8013-0be562fdf482",
   "metadata": {},
   "outputs": [],
   "source": [
    "un_unregion_70_10_southern_africa['Percent Change']=((un_unregion_70_10_southern_africa[7]-un_unregion_70_10_southern_africa[6])/un_unregion_70_10_southern_africa[6]*100)"
   ]
  },
  {
   "cell_type": "code",
   "execution_count": 645,
   "id": "736f7185-b47e-4935-94ac-6121c3f461f2",
   "metadata": {},
   "outputs": [],
   "source": [
    "un_unregion_10_20_southern_africa['Percent Change']=((un_unregion_10_20_southern_africa[7]-un_unregion_10_20_southern_africa[6])/un_unregion_10_20_southern_africa[6]*100)"
   ]
  },
  {
   "cell_type": "code",
   "execution_count": 646,
   "id": "3674c4b1-47d9-45d8-8eed-7c2f16427906",
   "metadata": {},
   "outputs": [],
   "source": [
    "un_unregion_70_20_southern_africa['Percent Change']=((un_unregion_70_20_southern_africa[7]-un_unregion_70_20_southern_africa[6])/un_unregion_70_20_southern_africa[6]*100)"
   ]
  },
  {
   "cell_type": "code",
   "execution_count": 647,
   "id": "2dab56aa-8650-4b8b-87c3-7bddd0099d81",
   "metadata": {},
   "outputs": [],
   "source": [
    "un_unregion_70_10_southern_africa['Year']='1970-2010'"
   ]
  },
  {
   "cell_type": "code",
   "execution_count": 648,
   "id": "c654f1fa-3ca3-4fde-98e5-281ca851687e",
   "metadata": {},
   "outputs": [],
   "source": [
    "un_unregion_10_20_southern_africa['Year']='2010-2020'"
   ]
  },
  {
   "cell_type": "code",
   "execution_count": 649,
   "id": "95a51c8e-3c8b-4202-a202-8cb939413c5f",
   "metadata": {},
   "outputs": [],
   "source": [
    "un_unregion_70_20_southern_africa['Year']='1970-2020'"
   ]
  },
  {
   "cell_type": "code",
   "execution_count": 650,
   "id": "ef32799c-16d0-42b7-89da-2e91d41f449a",
   "metadata": {},
   "outputs": [],
   "source": [
    "un_unregion_70_10_southern_africa['Region']='Southern Africa'"
   ]
  },
  {
   "cell_type": "code",
   "execution_count": 651,
   "id": "611ad2b1-8057-49e8-91d4-49b2ab7be24a",
   "metadata": {},
   "outputs": [],
   "source": [
    "un_unregion_10_20_southern_africa['Region']='Southern Africa'"
   ]
  },
  {
   "cell_type": "code",
   "execution_count": 652,
   "id": "548a44da-8fd4-4208-af01-9edf4ae5c237",
   "metadata": {},
   "outputs": [],
   "source": [
    "un_unregion_70_20_southern_africa['Region']='Southern Africa'"
   ]
  },
  {
   "cell_type": "code",
   "execution_count": 653,
   "id": "3b098a5b-0f0a-40b3-9aa6-b329f35ac645",
   "metadata": {},
   "outputs": [],
   "source": [
    "un_unregion_70_10_southern_africa=un_unregion_70_10_southern_africa[['Indicators','Region','Year', 'Percent Change']]"
   ]
  },
  {
   "cell_type": "code",
   "execution_count": 654,
   "id": "801e8265-aa95-46b3-bb77-a0eec60fbf79",
   "metadata": {},
   "outputs": [],
   "source": [
    "un_unregion_10_20_southern_africa=un_unregion_10_20_southern_africa[['Indicators','Region','Year', 'Percent Change']]"
   ]
  },
  {
   "cell_type": "code",
   "execution_count": 655,
   "id": "bc6ddc21-0e8b-43cf-91fd-3e98f975ecba",
   "metadata": {},
   "outputs": [],
   "source": [
    "un_unregion_70_20_southern_africa=un_unregion_70_20_southern_africa[['Indicators','Region','Year', 'Percent Change']]"
   ]
  },
  {
   "cell_type": "code",
   "execution_count": 656,
   "id": "a46fbc85-464a-4c2d-9151-b7f84e6c4f74",
   "metadata": {},
   "outputs": [
    {
     "data": {
      "text/html": [
       "<div>\n",
       "<style scoped>\n",
       "    .dataframe tbody tr th:only-of-type {\n",
       "        vertical-align: middle;\n",
       "    }\n",
       "\n",
       "    .dataframe tbody tr th {\n",
       "        vertical-align: top;\n",
       "    }\n",
       "\n",
       "    .dataframe thead th {\n",
       "        text-align: right;\n",
       "    }\n",
       "</style>\n",
       "<table border=\"1\" class=\"dataframe\">\n",
       "  <thead>\n",
       "    <tr style=\"text-align: right;\">\n",
       "      <th></th>\n",
       "      <th>level_0</th>\n",
       "      <th>Time</th>\n",
       "      <th>Location</th>\n",
       "      <th>Births</th>\n",
       "      <th>CBR</th>\n",
       "      <th>TFR</th>\n",
       "      <th>NRR</th>\n",
       "      <th>Population</th>\n",
       "    </tr>\n",
       "  </thead>\n",
       "  <tbody>\n",
       "    <tr>\n",
       "      <th>4</th>\n",
       "      <td>324</td>\n",
       "      <td>1970</td>\n",
       "      <td>Northern Africa</td>\n",
       "      <td>3652.343</td>\n",
       "      <td>44.261</td>\n",
       "      <td>6.6229</td>\n",
       "      <td>2.3100</td>\n",
       "      <td>81450.869</td>\n",
       "    </tr>\n",
       "    <tr>\n",
       "      <th>5</th>\n",
       "      <td>364</td>\n",
       "      <td>2010</td>\n",
       "      <td>Northern Africa</td>\n",
       "      <td>5750.832</td>\n",
       "      <td>27.263</td>\n",
       "      <td>3.3165</td>\n",
       "      <td>1.5256</td>\n",
       "      <td>209006.734</td>\n",
       "    </tr>\n",
       "  </tbody>\n",
       "</table>\n",
       "</div>"
      ],
      "text/plain": [
       "   level_0  Time         Location    Births     CBR     TFR     NRR  \\\n",
       "4      324  1970  Northern Africa  3652.343  44.261  6.6229  2.3100   \n",
       "5      364  2010  Northern Africa  5750.832  27.263  3.3165  1.5256   \n",
       "\n",
       "   Population  \n",
       "4   81450.869  \n",
       "5  209006.734  "
      ]
     },
     "execution_count": 656,
     "metadata": {},
     "output_type": "execute_result"
    }
   ],
   "source": [
    "un_unregion_70_10.loc[un_unregion_70_10['Location']=='Northern Africa']"
   ]
  },
  {
   "cell_type": "code",
   "execution_count": 657,
   "id": "6b94a5bf-673b-4812-810e-834df8b4247a",
   "metadata": {},
   "outputs": [
    {
     "data": {
      "text/html": [
       "<div>\n",
       "<style scoped>\n",
       "    .dataframe tbody tr th:only-of-type {\n",
       "        vertical-align: middle;\n",
       "    }\n",
       "\n",
       "    .dataframe tbody tr th {\n",
       "        vertical-align: top;\n",
       "    }\n",
       "\n",
       "    .dataframe thead th {\n",
       "        text-align: right;\n",
       "    }\n",
       "</style>\n",
       "<table border=\"1\" class=\"dataframe\">\n",
       "  <thead>\n",
       "    <tr style=\"text-align: right;\">\n",
       "      <th></th>\n",
       "      <th>level_0</th>\n",
       "      <th>Time</th>\n",
       "      <th>Location</th>\n",
       "      <th>Births</th>\n",
       "      <th>CBR</th>\n",
       "      <th>TFR</th>\n",
       "      <th>NRR</th>\n",
       "      <th>Population</th>\n",
       "    </tr>\n",
       "  </thead>\n",
       "  <tbody>\n",
       "    <tr>\n",
       "      <th>4</th>\n",
       "      <td>364</td>\n",
       "      <td>2010</td>\n",
       "      <td>Northern Africa</td>\n",
       "      <td>5750.832</td>\n",
       "      <td>27.263</td>\n",
       "      <td>3.3165</td>\n",
       "      <td>1.5256</td>\n",
       "      <td>209006.734</td>\n",
       "    </tr>\n",
       "    <tr>\n",
       "      <th>5</th>\n",
       "      <td>374</td>\n",
       "      <td>2020</td>\n",
       "      <td>Northern Africa</td>\n",
       "      <td>5989.923</td>\n",
       "      <td>23.371</td>\n",
       "      <td>3.0687</td>\n",
       "      <td>1.4339</td>\n",
       "      <td>254186.153</td>\n",
       "    </tr>\n",
       "  </tbody>\n",
       "</table>\n",
       "</div>"
      ],
      "text/plain": [
       "   level_0  Time         Location    Births     CBR     TFR     NRR  \\\n",
       "4      364  2010  Northern Africa  5750.832  27.263  3.3165  1.5256   \n",
       "5      374  2020  Northern Africa  5989.923  23.371  3.0687  1.4339   \n",
       "\n",
       "   Population  \n",
       "4  209006.734  \n",
       "5  254186.153  "
      ]
     },
     "execution_count": 657,
     "metadata": {},
     "output_type": "execute_result"
    }
   ],
   "source": [
    "un_unregion_10_20.loc[un_unregion_10_20['Location']=='Northern Africa']"
   ]
  },
  {
   "cell_type": "code",
   "execution_count": 658,
   "id": "37da76b1-aac9-4e6e-b401-d71782dd2b96",
   "metadata": {},
   "outputs": [
    {
     "data": {
      "text/html": [
       "<div>\n",
       "<style scoped>\n",
       "    .dataframe tbody tr th:only-of-type {\n",
       "        vertical-align: middle;\n",
       "    }\n",
       "\n",
       "    .dataframe tbody tr th {\n",
       "        vertical-align: top;\n",
       "    }\n",
       "\n",
       "    .dataframe thead th {\n",
       "        text-align: right;\n",
       "    }\n",
       "</style>\n",
       "<table border=\"1\" class=\"dataframe\">\n",
       "  <thead>\n",
       "    <tr style=\"text-align: right;\">\n",
       "      <th></th>\n",
       "      <th>level_0</th>\n",
       "      <th>Time</th>\n",
       "      <th>Location</th>\n",
       "      <th>Births</th>\n",
       "      <th>CBR</th>\n",
       "      <th>TFR</th>\n",
       "      <th>NRR</th>\n",
       "      <th>Population</th>\n",
       "    </tr>\n",
       "  </thead>\n",
       "  <tbody>\n",
       "    <tr>\n",
       "      <th>4</th>\n",
       "      <td>324</td>\n",
       "      <td>1970</td>\n",
       "      <td>Northern Africa</td>\n",
       "      <td>3652.343</td>\n",
       "      <td>44.261</td>\n",
       "      <td>6.6229</td>\n",
       "      <td>2.3100</td>\n",
       "      <td>81450.869</td>\n",
       "    </tr>\n",
       "    <tr>\n",
       "      <th>5</th>\n",
       "      <td>374</td>\n",
       "      <td>2020</td>\n",
       "      <td>Northern Africa</td>\n",
       "      <td>5989.923</td>\n",
       "      <td>23.371</td>\n",
       "      <td>3.0687</td>\n",
       "      <td>1.4339</td>\n",
       "      <td>254186.153</td>\n",
       "    </tr>\n",
       "  </tbody>\n",
       "</table>\n",
       "</div>"
      ],
      "text/plain": [
       "   level_0  Time         Location    Births     CBR     TFR     NRR  \\\n",
       "4      324  1970  Northern Africa  3652.343  44.261  6.6229  2.3100   \n",
       "5      374  2020  Northern Africa  5989.923  23.371  3.0687  1.4339   \n",
       "\n",
       "   Population  \n",
       "4   81450.869  \n",
       "5  254186.153  "
      ]
     },
     "execution_count": 658,
     "metadata": {},
     "output_type": "execute_result"
    }
   ],
   "source": [
    "un_unregion_70_20.loc[un_unregion_70_20['Location']=='Northern Africa']"
   ]
  },
  {
   "cell_type": "code",
   "execution_count": 659,
   "id": "006880ff-6b2b-4365-aaf8-0bf6654132d9",
   "metadata": {},
   "outputs": [],
   "source": [
    "un_unregion_70_10_northern_africa = un_unregion_70_10.loc[un_unregion_70_10['Location']=='Northern Africa'].transpose().reset_index().rename(columns={'index':'Indicators'}).drop([0,1,2])"
   ]
  },
  {
   "cell_type": "code",
   "execution_count": 660,
   "id": "2961ea01-49e9-4e3c-b115-42766de0ea74",
   "metadata": {},
   "outputs": [],
   "source": [
    "un_unregion_10_20_northern_africa = un_unregion_10_20.loc[un_unregion_10_20['Location']=='Northern Africa'].transpose().reset_index().rename(columns={'index':'Indicators'}).drop([0,1,2])"
   ]
  },
  {
   "cell_type": "code",
   "execution_count": 661,
   "id": "90ef39f6-4cec-4bac-a855-6bebde9e6f02",
   "metadata": {},
   "outputs": [],
   "source": [
    "un_unregion_70_20_northern_africa = un_unregion_70_20.loc[un_unregion_70_20['Location']=='Northern Africa'].transpose().reset_index().rename(columns={'index':'Indicators'}).drop([0,1,2])"
   ]
  },
  {
   "cell_type": "code",
   "execution_count": 662,
   "id": "91fffecb-7106-4f86-9274-1e9fda89aa7e",
   "metadata": {},
   "outputs": [],
   "source": [
    "un_unregion_70_10_northern_africa['Percent Change']=((un_unregion_70_10_northern_africa[5]-un_unregion_70_10_northern_africa[4])/un_unregion_70_10_northern_africa[4]*100)"
   ]
  },
  {
   "cell_type": "code",
   "execution_count": 663,
   "id": "02aa63c5-1b23-4b3a-b94d-ad1209b1b506",
   "metadata": {},
   "outputs": [],
   "source": [
    "un_unregion_10_20_northern_africa['Percent Change']=((un_unregion_10_20_northern_africa[5]-un_unregion_10_20_northern_africa[4])/un_unregion_10_20_northern_africa[4]*100)"
   ]
  },
  {
   "cell_type": "code",
   "execution_count": 664,
   "id": "8653bbb0-f8c4-445e-98a0-04b0f34152a6",
   "metadata": {},
   "outputs": [],
   "source": [
    "un_unregion_70_20_northern_africa['Percent Change']=((un_unregion_70_20_northern_africa[5]-un_unregion_70_20_northern_africa[4])/un_unregion_70_20_northern_africa[4]*100)"
   ]
  },
  {
   "cell_type": "code",
   "execution_count": 665,
   "id": "b3db6e86-4f76-4f39-b211-172141313e9b",
   "metadata": {},
   "outputs": [],
   "source": [
    "un_unregion_70_10_northern_africa['Year']='1970-2010'"
   ]
  },
  {
   "cell_type": "code",
   "execution_count": 666,
   "id": "674256ca-b214-4029-a3a8-5a14c55f7cd6",
   "metadata": {},
   "outputs": [],
   "source": [
    "un_unregion_10_20_northern_africa['Year']='2010-2020'"
   ]
  },
  {
   "cell_type": "code",
   "execution_count": 667,
   "id": "f87c1081-5d24-4ebe-88c5-f3ed4e15e0f4",
   "metadata": {},
   "outputs": [],
   "source": [
    "un_unregion_70_20_northern_africa['Year']='1970-2020'"
   ]
  },
  {
   "cell_type": "code",
   "execution_count": 668,
   "id": "d48d6ba0-4b09-4dcf-ae1a-6d21085b038d",
   "metadata": {},
   "outputs": [],
   "source": [
    "un_unregion_70_10_northern_africa['Region']='Northern Africa'"
   ]
  },
  {
   "cell_type": "code",
   "execution_count": 669,
   "id": "c5472bf4-69ee-45ee-9f79-49d4d5d5adf0",
   "metadata": {},
   "outputs": [],
   "source": [
    "un_unregion_10_20_northern_africa['Region']='Northern Africa'"
   ]
  },
  {
   "cell_type": "code",
   "execution_count": 670,
   "id": "075d35dd-bba3-4d93-b765-27acc1049404",
   "metadata": {},
   "outputs": [],
   "source": [
    "un_unregion_70_20_northern_africa['Region']='Northern Africa'"
   ]
  },
  {
   "cell_type": "code",
   "execution_count": 671,
   "id": "b1fed727-33f5-4d04-b2c2-3dd65e4cd03c",
   "metadata": {},
   "outputs": [],
   "source": [
    "un_unregion_70_10_northern_africa=un_unregion_70_10_northern_africa[['Indicators','Region','Year', 'Percent Change']]"
   ]
  },
  {
   "cell_type": "code",
   "execution_count": 672,
   "id": "b1a821cc-228b-4ced-9d48-9b5297a3a570",
   "metadata": {},
   "outputs": [],
   "source": [
    "un_unregion_10_20_northern_africa=un_unregion_10_20_northern_africa[['Indicators','Region','Year', 'Percent Change']]"
   ]
  },
  {
   "cell_type": "code",
   "execution_count": 673,
   "id": "314ff19b-cfd4-4df8-875f-44c983b0349c",
   "metadata": {},
   "outputs": [],
   "source": [
    "un_unregion_70_20_northern_africa=un_unregion_70_20_northern_africa[['Indicators','Region','Year', 'Percent Change']]"
   ]
  },
  {
   "cell_type": "code",
   "execution_count": 674,
   "id": "3056e60e-b4ad-4820-bcc7-9bfd4357b78c",
   "metadata": {},
   "outputs": [
    {
     "data": {
      "text/html": [
       "<div>\n",
       "<style scoped>\n",
       "    .dataframe tbody tr th:only-of-type {\n",
       "        vertical-align: middle;\n",
       "    }\n",
       "\n",
       "    .dataframe tbody tr th {\n",
       "        vertical-align: top;\n",
       "    }\n",
       "\n",
       "    .dataframe thead th {\n",
       "        text-align: right;\n",
       "    }\n",
       "</style>\n",
       "<table border=\"1\" class=\"dataframe\">\n",
       "  <thead>\n",
       "    <tr style=\"text-align: right;\">\n",
       "      <th></th>\n",
       "      <th>level_0</th>\n",
       "      <th>Time</th>\n",
       "      <th>Location</th>\n",
       "      <th>Births</th>\n",
       "      <th>CBR</th>\n",
       "      <th>TFR</th>\n",
       "      <th>NRR</th>\n",
       "      <th>Population</th>\n",
       "    </tr>\n",
       "  </thead>\n",
       "  <tbody>\n",
       "    <tr>\n",
       "      <th>40</th>\n",
       "      <td>3060</td>\n",
       "      <td>1970</td>\n",
       "      <td>Northern America</td>\n",
       "      <td>4252.364</td>\n",
       "      <td>18.542</td>\n",
       "      <td>2.4912</td>\n",
       "      <td>1.1731</td>\n",
       "      <td>227745.746</td>\n",
       "    </tr>\n",
       "    <tr>\n",
       "      <th>41</th>\n",
       "      <td>3100</td>\n",
       "      <td>2010</td>\n",
       "      <td>Northern America</td>\n",
       "      <td>4358.462</td>\n",
       "      <td>12.619</td>\n",
       "      <td>1.8899</td>\n",
       "      <td>0.9101</td>\n",
       "      <td>343670.804</td>\n",
       "    </tr>\n",
       "  </tbody>\n",
       "</table>\n",
       "</div>"
      ],
      "text/plain": [
       "    level_0  Time          Location    Births     CBR     TFR     NRR  \\\n",
       "40     3060  1970  Northern America  4252.364  18.542  2.4912  1.1731   \n",
       "41     3100  2010  Northern America  4358.462  12.619  1.8899  0.9101   \n",
       "\n",
       "    Population  \n",
       "40  227745.746  \n",
       "41  343670.804  "
      ]
     },
     "execution_count": 674,
     "metadata": {},
     "output_type": "execute_result"
    }
   ],
   "source": [
    "un_unregion_70_10.loc[un_unregion_70_10['Location']=='Northern America']"
   ]
  },
  {
   "cell_type": "code",
   "execution_count": 675,
   "id": "07633b9f-4277-4f71-8f3c-7b2cc1379590",
   "metadata": {},
   "outputs": [
    {
     "data": {
      "text/html": [
       "<div>\n",
       "<style scoped>\n",
       "    .dataframe tbody tr th:only-of-type {\n",
       "        vertical-align: middle;\n",
       "    }\n",
       "\n",
       "    .dataframe tbody tr th {\n",
       "        vertical-align: top;\n",
       "    }\n",
       "\n",
       "    .dataframe thead th {\n",
       "        text-align: right;\n",
       "    }\n",
       "</style>\n",
       "<table border=\"1\" class=\"dataframe\">\n",
       "  <thead>\n",
       "    <tr style=\"text-align: right;\">\n",
       "      <th></th>\n",
       "      <th>level_0</th>\n",
       "      <th>Time</th>\n",
       "      <th>Location</th>\n",
       "      <th>Births</th>\n",
       "      <th>CBR</th>\n",
       "      <th>TFR</th>\n",
       "      <th>NRR</th>\n",
       "      <th>Population</th>\n",
       "    </tr>\n",
       "  </thead>\n",
       "  <tbody>\n",
       "    <tr>\n",
       "      <th>40</th>\n",
       "      <td>3100</td>\n",
       "      <td>2010</td>\n",
       "      <td>Northern America</td>\n",
       "      <td>4358.462</td>\n",
       "      <td>12.619</td>\n",
       "      <td>1.8899</td>\n",
       "      <td>0.9101</td>\n",
       "      <td>343670.804</td>\n",
       "    </tr>\n",
       "    <tr>\n",
       "      <th>41</th>\n",
       "      <td>3110</td>\n",
       "      <td>2020</td>\n",
       "      <td>Northern America</td>\n",
       "      <td>4005.657</td>\n",
       "      <td>10.604</td>\n",
       "      <td>1.5961</td>\n",
       "      <td>0.7674</td>\n",
       "      <td>377287.098</td>\n",
       "    </tr>\n",
       "  </tbody>\n",
       "</table>\n",
       "</div>"
      ],
      "text/plain": [
       "    level_0  Time          Location    Births     CBR     TFR     NRR  \\\n",
       "40     3100  2010  Northern America  4358.462  12.619  1.8899  0.9101   \n",
       "41     3110  2020  Northern America  4005.657  10.604  1.5961  0.7674   \n",
       "\n",
       "    Population  \n",
       "40  343670.804  \n",
       "41  377287.098  "
      ]
     },
     "execution_count": 675,
     "metadata": {},
     "output_type": "execute_result"
    }
   ],
   "source": [
    "un_unregion_10_20.loc[un_unregion_10_20['Location']=='Northern America']"
   ]
  },
  {
   "cell_type": "code",
   "execution_count": 676,
   "id": "54280fca-3ff8-4f6c-b722-7069ba7300d3",
   "metadata": {},
   "outputs": [
    {
     "data": {
      "text/html": [
       "<div>\n",
       "<style scoped>\n",
       "    .dataframe tbody tr th:only-of-type {\n",
       "        vertical-align: middle;\n",
       "    }\n",
       "\n",
       "    .dataframe tbody tr th {\n",
       "        vertical-align: top;\n",
       "    }\n",
       "\n",
       "    .dataframe thead th {\n",
       "        text-align: right;\n",
       "    }\n",
       "</style>\n",
       "<table border=\"1\" class=\"dataframe\">\n",
       "  <thead>\n",
       "    <tr style=\"text-align: right;\">\n",
       "      <th></th>\n",
       "      <th>level_0</th>\n",
       "      <th>Time</th>\n",
       "      <th>Location</th>\n",
       "      <th>Births</th>\n",
       "      <th>CBR</th>\n",
       "      <th>TFR</th>\n",
       "      <th>NRR</th>\n",
       "      <th>Population</th>\n",
       "    </tr>\n",
       "  </thead>\n",
       "  <tbody>\n",
       "    <tr>\n",
       "      <th>40</th>\n",
       "      <td>3060</td>\n",
       "      <td>1970</td>\n",
       "      <td>Northern America</td>\n",
       "      <td>4252.364</td>\n",
       "      <td>18.542</td>\n",
       "      <td>2.4912</td>\n",
       "      <td>1.1731</td>\n",
       "      <td>227745.746</td>\n",
       "    </tr>\n",
       "    <tr>\n",
       "      <th>41</th>\n",
       "      <td>3110</td>\n",
       "      <td>2020</td>\n",
       "      <td>Northern America</td>\n",
       "      <td>4005.657</td>\n",
       "      <td>10.604</td>\n",
       "      <td>1.5961</td>\n",
       "      <td>0.7674</td>\n",
       "      <td>377287.098</td>\n",
       "    </tr>\n",
       "  </tbody>\n",
       "</table>\n",
       "</div>"
      ],
      "text/plain": [
       "    level_0  Time          Location    Births     CBR     TFR     NRR  \\\n",
       "40     3060  1970  Northern America  4252.364  18.542  2.4912  1.1731   \n",
       "41     3110  2020  Northern America  4005.657  10.604  1.5961  0.7674   \n",
       "\n",
       "    Population  \n",
       "40  227745.746  \n",
       "41  377287.098  "
      ]
     },
     "execution_count": 676,
     "metadata": {},
     "output_type": "execute_result"
    }
   ],
   "source": [
    "un_unregion_70_20.loc[un_unregion_70_20['Location']=='Northern America']"
   ]
  },
  {
   "cell_type": "code",
   "execution_count": 677,
   "id": "4378f44e-727d-41e0-852f-599a0ee521e2",
   "metadata": {},
   "outputs": [],
   "source": [
    "un_unregion_70_10_northern_america = un_unregion_70_10.loc[un_unregion_70_10['Location']=='Northern America'].transpose().reset_index().rename(columns={'index':'Indicators'}).drop([0,1,2])"
   ]
  },
  {
   "cell_type": "code",
   "execution_count": 678,
   "id": "439ee282-2a75-401e-8dd6-6b2d97ca932c",
   "metadata": {},
   "outputs": [],
   "source": [
    "un_unregion_10_20_northern_america = un_unregion_10_20.loc[un_unregion_10_20['Location']=='Northern America'].transpose().reset_index().rename(columns={'index':'Indicators'}).drop([0,1,2])"
   ]
  },
  {
   "cell_type": "code",
   "execution_count": 679,
   "id": "eead108e-829a-4cff-8ed6-b51bbca421eb",
   "metadata": {},
   "outputs": [],
   "source": [
    "un_unregion_70_20_northern_america = un_unregion_70_20.loc[un_unregion_70_20['Location']=='Northern America'].transpose().reset_index().rename(columns={'index':'Indicators'}).drop([0,1,2])"
   ]
  },
  {
   "cell_type": "code",
   "execution_count": 680,
   "id": "61ff6b97-bc61-459d-ab9c-1a0d110fb0d5",
   "metadata": {},
   "outputs": [],
   "source": [
    "un_unregion_70_10_northern_america['Percent Change']=((un_unregion_70_10_northern_america[41]-un_unregion_70_10_northern_america[40])/un_unregion_70_10_northern_america[40]*100)"
   ]
  },
  {
   "cell_type": "code",
   "execution_count": 681,
   "id": "425efc61-d506-491e-8c39-7f7cc1e3052f",
   "metadata": {},
   "outputs": [],
   "source": [
    "un_unregion_10_20_northern_america['Percent Change']=((un_unregion_10_20_northern_america[41]-un_unregion_10_20_northern_america[40])/un_unregion_10_20_northern_america[40]*100)"
   ]
  },
  {
   "cell_type": "code",
   "execution_count": 682,
   "id": "5e2dabff-a241-4935-88dc-64f6dcb74358",
   "metadata": {},
   "outputs": [],
   "source": [
    "un_unregion_70_20_northern_america['Percent Change']=((un_unregion_70_20_northern_america[41]-un_unregion_70_20_northern_america[40])/un_unregion_70_20_northern_america[40]*100)"
   ]
  },
  {
   "cell_type": "code",
   "execution_count": 683,
   "id": "e0b7f4c4-13bd-4cb3-a846-9e7b3d7a4628",
   "metadata": {},
   "outputs": [],
   "source": [
    "un_unregion_70_10_northern_america['Year']='1970-2010'"
   ]
  },
  {
   "cell_type": "code",
   "execution_count": 684,
   "id": "f8fc75db-6ac0-4e20-88c1-5eedae2e14b0",
   "metadata": {},
   "outputs": [],
   "source": [
    "un_unregion_10_20_northern_america['Year']='2010-2020'"
   ]
  },
  {
   "cell_type": "code",
   "execution_count": 685,
   "id": "7b980c4a-8b98-4e2e-ae0b-e993bc5c2018",
   "metadata": {},
   "outputs": [],
   "source": [
    "un_unregion_70_20_northern_america['Year']='1970-2020'"
   ]
  },
  {
   "cell_type": "code",
   "execution_count": 686,
   "id": "891a3612-0a7e-4b5d-9ab6-5474210b4e83",
   "metadata": {},
   "outputs": [],
   "source": [
    "un_unregion_70_10_northern_america['Region']='Northern America'"
   ]
  },
  {
   "cell_type": "code",
   "execution_count": 687,
   "id": "7f2653cd-4bd4-4832-87e5-6418eed23d3e",
   "metadata": {},
   "outputs": [],
   "source": [
    "un_unregion_10_20_northern_america['Region']='Northern America'"
   ]
  },
  {
   "cell_type": "code",
   "execution_count": 688,
   "id": "052036a3-f556-4728-9415-6839ec428cd2",
   "metadata": {},
   "outputs": [],
   "source": [
    "un_unregion_70_20_northern_america['Region']='Northern America'"
   ]
  },
  {
   "cell_type": "code",
   "execution_count": 689,
   "id": "132bcb15-5c02-4bf1-b90f-b7b469e12466",
   "metadata": {},
   "outputs": [],
   "source": [
    "un_unregion_70_10_northern_america=un_unregion_70_10_northern_america[['Indicators','Region','Year', 'Percent Change']]"
   ]
  },
  {
   "cell_type": "code",
   "execution_count": 690,
   "id": "aa2a905f-6e86-47b5-a578-ab654de0d6c2",
   "metadata": {},
   "outputs": [],
   "source": [
    "un_unregion_10_20_northern_america=un_unregion_10_20_northern_america[['Indicators','Region','Year', 'Percent Change']]"
   ]
  },
  {
   "cell_type": "code",
   "execution_count": 691,
   "id": "af1469d0-26f4-4b1a-9f01-34bb107fa98c",
   "metadata": {},
   "outputs": [],
   "source": [
    "un_unregion_70_20_northern_america=un_unregion_70_20_northern_america[['Indicators','Region','Year', 'Percent Change']]"
   ]
  },
  {
   "cell_type": "code",
   "execution_count": 692,
   "id": "b0cb65cf-f0ed-4069-a14b-f51baeec1a94",
   "metadata": {},
   "outputs": [],
   "source": [
    "pc_region=pc_unregion\n",
    "pc_region_v=pc_unregion_v"
   ]
  },
  {
   "cell_type": "markdown",
   "id": "e53238c3-0473-4ef2-adcb-782fc658ffd1",
   "metadata": {},
   "source": [
    "# Merge % Change UN Indicators: Region Level (1970-2010) and (2010-2020)"
   ]
  },
  {
   "cell_type": "code",
   "execution_count": 694,
   "id": "353448f9-b902-4975-be20-1c3af3be5731",
   "metadata": {},
   "outputs": [],
   "source": [
    "pc_unregion = pd.concat([un_unregion_70_10_eastern_africa,un_unregion_10_20_eastern_africa,un_unregion_70_20_eastern_africa,un_unregion_70_10_western_europe,un_unregion_10_20_western_europe,un_unregion_70_20_western_europe,un_unregion_70_10_South_central_Asia,un_unregion_10_20_South_central_Asia,un_unregion_70_20_South_central_Asia,un_unregion_70_10_polynesia,un_unregion_10_20_polynesia,un_unregion_70_20_polynesia,un_unregion_70_10_micronesia,un_unregion_10_20_micronesia,un_unregion_70_20_micronesia,un_unregion_70_10_melanesia,un_unregion_10_20_melanesia,un_unregion_70_20_melanesia,un_unregion_70_10_australia_new_zealand,un_unregion_10_20_australia_new_zealand,un_unregion_70_20_australia_new_zealand,un_unregion_70_10_south_america,un_unregion_10_20_south_america,un_unregion_70_20_south_america,un_unregion_70_10_central_america,un_unregion_10_20_central_america,un_unregion_70_20_central_america,un_unregion_70_10_caribbean,un_unregion_10_20_caribbean,un_unregion_70_20_caribbean,un_unregion_70_10_southern_europe,un_unregion_10_20_southern_europe,un_unregion_70_20_southern_europe,un_unregion_70_10_middle_africa,un_unregion_10_20_middle_africa,un_unregion_70_20_middle_africa,un_unregion_70_10_northern_europe,un_unregion_10_20_northern_europe,un_unregion_70_20_northern_europe,un_unregion_70_10_eastern_europe,un_unregion_10_20_eastern_europe,un_unregion_70_20_eastern_europe,un_unregion_70_10_western_asia,un_unregion_10_20_western_asia,un_unregion_70_20_western_asia,un_unregion_70_10_south_eastern_asia,un_unregion_10_20_south_eastern_asia,un_unregion_70_20_south_eastern_asia,un_unregion_70_10_eastern_asia,un_unregion_10_20_eastern_asia,un_unregion_70_20_eastern_asia,un_unregion_70_10_western_africa,un_unregion_10_20_western_africa,un_unregion_70_20_western_africa,un_unregion_70_10_southern_africa,un_unregion_10_20_southern_africa,un_unregion_70_20_southern_africa,un_unregion_70_10_northern_africa,un_unregion_10_20_northern_africa,un_unregion_70_20_northern_africa,un_unregion_70_10_northern_america,un_unregion_10_20_northern_america,un_unregion_70_20_northern_america], axis=0, ignore_index=True).reset_index(drop=True)"
   ]
  },
  {
   "cell_type": "code",
   "execution_count": 695,
   "id": "1e41f6b2-5d16-4627-8669-adb05deb623a",
   "metadata": {},
   "outputs": [],
   "source": [
    "pc_uncontinent = pd.concat([un_continent_70_10_africa,un_continent_10_20_africa,un_continent_70_20_africa,un_continent_70_10_asia,un_continent_10_20_asia,un_continent_70_20_asia,un_continent_70_10_europe,un_continent_10_20_europe,un_continent_70_20_europe,un_continent_70_10_latin_america,un_continent_10_20_latin_america,un_continent_70_20_latin_america,un_continent_70_10_northern_america,un_continent_10_20_northern_america,un_continent_70_20_northern_america,un_continent_70_10_oceania,un_continent_10_20_oceania,un_continent_70_20_oceania], axis=0, ignore_index=True).reset_index(drop=True)"
   ]
  },
  {
   "cell_type": "code",
   "execution_count": 696,
   "id": "eb44843d-7c2f-4782-b974-5258675599e6",
   "metadata": {},
   "outputs": [],
   "source": [
    "pc_unworld=pd.concat([un_world_70_10,un_world_10_20, un_world_70_20],axis=0, ignore_index=True).reset_index(drop=True)"
   ]
  },
  {
   "cell_type": "code",
   "execution_count": 697,
   "id": "33f091a5-df3f-49cb-9c48-45c0f7444c6e",
   "metadata": {},
   "outputs": [],
   "source": [
    "\n",
    "pc_ind_world = pc_unworld\n",
    "pc_ind_continent = pc_uncontinent\n",
    "pc_ind_region = pc_unregion"
   ]
  },
  {
   "cell_type": "code",
   "execution_count": 698,
   "id": "b940a5a6-4788-4277-8440-353aa0cc94cb",
   "metadata": {},
   "outputs": [],
   "source": [
    "pc_ind_region['Percent Change']=pc_ind_region['Percent Change'].astype(float).round(2)\n",
    "pc_ind_continent['Percent Change']=pc_ind_continent['Percent Change'].astype(float).round(2)\n",
    "pc_ind_world['Percent Change']=pc_ind_world['Percent Change'].astype(float).round(2)\n"
   ]
  },
  {
   "cell_type": "markdown",
   "id": "911170ff-e544-4b37-ba60-ca48a0bc2f77",
   "metadata": {},
   "source": [
    "# Design UN Dataframe for line charts"
   ]
  },
  {
   "cell_type": "code",
   "execution_count": 700,
   "id": "923a0274-c9bc-4ac4-9056-aa68b7a699cc",
   "metadata": {},
   "outputs": [],
   "source": [
    "list5=[1970,2010,2020]"
   ]
  },
  {
   "cell_type": "code",
   "execution_count": 701,
   "id": "67218213-6f87-4592-9f6b-7b3a77f7e989",
   "metadata": {},
   "outputs": [],
   "source": [
    "un_world_line_chart = un_world[['Time', 'Location', 'Births', 'CBR', 'TFR', 'NRR', 'Population']]"
   ]
  },
  {
   "cell_type": "code",
   "execution_count": 702,
   "id": "fa140ab6-620d-4930-a2e7-6fbdf7cdde00",
   "metadata": {},
   "outputs": [],
   "source": [
    "un_world_line_chart=un_world_line_chart.rename(columns={'Location':'Region'})"
   ]
  },
  {
   "cell_type": "code",
   "execution_count": 703,
   "id": "b0f6e9aa-a747-4edc-997c-43a39b7b099c",
   "metadata": {},
   "outputs": [],
   "source": [
    "un_world_line_chart=un_world_line_chart.loc[un_world_line_chart['Time'].isin(list5)]"
   ]
  },
  {
   "cell_type": "code",
   "execution_count": 704,
   "id": "d5b5efe0-c9e5-4f02-9a4b-f13bc1d8f52b",
   "metadata": {},
   "outputs": [],
   "source": [
    "un_continent_line_chart = un_continent[['Time', 'Location', 'Births', 'CBR', 'TFR', 'NRR', 'Population']]"
   ]
  },
  {
   "cell_type": "code",
   "execution_count": 705,
   "id": "00140f56-9534-48b4-bafb-1c179e900bfe",
   "metadata": {},
   "outputs": [],
   "source": [
    "un_continent_line_chart=un_continent_line_chart.rename(columns={'Location':'Region'})"
   ]
  },
  {
   "cell_type": "code",
   "execution_count": 706,
   "id": "e143d7b4-8f5e-495a-b4d9-8b6947ab7205",
   "metadata": {},
   "outputs": [],
   "source": [
    "un_continent_line_chart=un_continent_line_chart.loc[un_continent_line_chart['Time'].isin(list5)]"
   ]
  },
  {
   "cell_type": "code",
   "execution_count": 707,
   "id": "866d8a6c-dd23-44aa-adf9-0ce4ece61c9e",
   "metadata": {},
   "outputs": [],
   "source": [
    "un_unregion_line_chart = un_unregion[['Time', 'Location', 'Births', 'CBR', 'TFR', 'NRR', 'Population']]"
   ]
  },
  {
   "cell_type": "code",
   "execution_count": 708,
   "id": "05d20bde-494b-4e77-acbd-b89d49775168",
   "metadata": {},
   "outputs": [],
   "source": [
    "un_unregion_line_chart=un_unregion_line_chart.rename(columns={'Location':'Region'})"
   ]
  },
  {
   "cell_type": "code",
   "execution_count": 709,
   "id": "8d8988c8-6108-4c1b-83a6-34e6e652a350",
   "metadata": {},
   "outputs": [],
   "source": [
    "un_unregion_line_chart=un_unregion_line_chart.loc[un_unregion_line_chart['Time'].isin(list5)]"
   ]
  },
  {
   "cell_type": "code",
   "execution_count": 710,
   "id": "cdf6e980-21fe-46b4-af6a-b9a63a30c7a6",
   "metadata": {},
   "outputs": [],
   "source": [
    "un_continent_line_chart.to_csv('un_continent_line_chart.csv',index=False)"
   ]
  },
  {
   "cell_type": "code",
   "execution_count": 711,
   "id": "c00a873d-c5c9-44ed-ac17-6e153361314a",
   "metadata": {},
   "outputs": [],
   "source": [
    "un_world_line_chart=un_world_line_chart.rename(columns={'Births':'Births Per 1000', 'CBR':'Crude Birth Rate', 'TFR': 'Total Fertility Rate'})"
   ]
  },
  {
   "cell_type": "code",
   "execution_count": 712,
   "id": "f0a032df-8283-46ff-8092-80e9ee5fcbba",
   "metadata": {},
   "outputs": [
    {
     "name": "stderr",
     "output_type": "stream",
     "text": [
      "C:\\Users\\graft\\AppData\\Local\\Temp\\ipykernel_14380\\1849674520.py:2: SettingWithCopyWarning: \n",
      "A value is trying to be set on a copy of a slice from a DataFrame.\n",
      "Try using .loc[row_indexer,col_indexer] = value instead\n",
      "\n",
      "See the caveats in the documentation: https://pandas.pydata.org/pandas-docs/stable/user_guide/indexing.html#returning-a-view-versus-a-copy\n",
      "  world_births['Births Per 1000']=world_births['Births Per 1000'].round(0).astype(int)\n"
     ]
    }
   ],
   "source": [
    "world_births=un_world_line_chart[['Time','Region','Births Per 1000']]\n",
    "world_births['Births Per 1000']=world_births['Births Per 1000'].round(0).astype(int)"
   ]
  },
  {
   "cell_type": "code",
   "execution_count": 713,
   "id": "583f2615-9a10-434f-ac63-4bbd13af7630",
   "metadata": {},
   "outputs": [],
   "source": [
    "world_cbr=un_world_line_chart[['Time','Region','Crude Birth Rate']]"
   ]
  },
  {
   "cell_type": "code",
   "execution_count": 714,
   "id": "0a2735bd-e197-46a7-8172-cac3f6952d08",
   "metadata": {},
   "outputs": [
    {
     "name": "stderr",
     "output_type": "stream",
     "text": [
      "C:\\Users\\graft\\AppData\\Local\\Temp\\ipykernel_14380\\177071471.py:1: SettingWithCopyWarning: \n",
      "A value is trying to be set on a copy of a slice from a DataFrame.\n",
      "Try using .loc[row_indexer,col_indexer] = value instead\n",
      "\n",
      "See the caveats in the documentation: https://pandas.pydata.org/pandas-docs/stable/user_guide/indexing.html#returning-a-view-versus-a-copy\n",
      "  world_cbr['Crude Birth Rate']=world_cbr['Crude Birth Rate'].round(2)\n"
     ]
    }
   ],
   "source": [
    "world_cbr['Crude Birth Rate']=world_cbr['Crude Birth Rate'].round(2)"
   ]
  },
  {
   "cell_type": "code",
   "execution_count": 715,
   "id": "8047ec85-67a6-4da8-872d-9c4ced457e3d",
   "metadata": {},
   "outputs": [],
   "source": [
    "world_tfr=un_world_line_chart[['Time','Region','Total Fertility Rate']]"
   ]
  },
  {
   "cell_type": "code",
   "execution_count": 716,
   "id": "af39463d-f1eb-45c9-b684-902a4b36c922",
   "metadata": {},
   "outputs": [
    {
     "name": "stderr",
     "output_type": "stream",
     "text": [
      "C:\\Users\\graft\\AppData\\Local\\Temp\\ipykernel_14380\\996105945.py:1: SettingWithCopyWarning: \n",
      "A value is trying to be set on a copy of a slice from a DataFrame.\n",
      "Try using .loc[row_indexer,col_indexer] = value instead\n",
      "\n",
      "See the caveats in the documentation: https://pandas.pydata.org/pandas-docs/stable/user_guide/indexing.html#returning-a-view-versus-a-copy\n",
      "  world_tfr['Total Fertility Rate']=world_tfr['Total Fertility Rate'].round(2)\n"
     ]
    }
   ],
   "source": [
    "world_tfr['Total Fertility Rate']=world_tfr['Total Fertility Rate'].round(2)"
   ]
  },
  {
   "cell_type": "code",
   "execution_count": 717,
   "id": "4e49aa4f-6418-4a7f-b368-459fcb7e91ce",
   "metadata": {},
   "outputs": [],
   "source": [
    "un_continent_line_chart=un_continent_line_chart.rename(columns={'Births':'Births Per 1000', 'CBR':'Crude Birth Rate', 'TFR': 'Total Fertility Rate'})"
   ]
  },
  {
   "cell_type": "code",
   "execution_count": 718,
   "id": "f8302c35-9e93-4e96-935d-2b0bd3529268",
   "metadata": {},
   "outputs": [
    {
     "name": "stderr",
     "output_type": "stream",
     "text": [
      "C:\\Users\\graft\\AppData\\Local\\Temp\\ipykernel_14380\\3544126670.py:2: SettingWithCopyWarning: \n",
      "A value is trying to be set on a copy of a slice from a DataFrame.\n",
      "Try using .loc[row_indexer,col_indexer] = value instead\n",
      "\n",
      "See the caveats in the documentation: https://pandas.pydata.org/pandas-docs/stable/user_guide/indexing.html#returning-a-view-versus-a-copy\n",
      "  continent_births['Births Per 1000']=continent_births['Births Per 1000'].round(0).astype(int)\n"
     ]
    }
   ],
   "source": [
    "continent_births=un_continent_line_chart[['Time','Region','Births Per 1000']]\n",
    "continent_births['Births Per 1000']=continent_births['Births Per 1000'].round(0).astype(int)"
   ]
  },
  {
   "cell_type": "code",
   "execution_count": 719,
   "id": "abccc983-45b0-4d1a-b531-8e535e935ef0",
   "metadata": {},
   "outputs": [],
   "source": [
    "continent_cbr=un_continent_line_chart[['Time','Region','Crude Birth Rate']]"
   ]
  },
  {
   "cell_type": "code",
   "execution_count": 720,
   "id": "c89a8761-ff80-40cd-905e-1854dab24490",
   "metadata": {},
   "outputs": [
    {
     "name": "stderr",
     "output_type": "stream",
     "text": [
      "C:\\Users\\graft\\AppData\\Local\\Temp\\ipykernel_14380\\3554178749.py:1: SettingWithCopyWarning: \n",
      "A value is trying to be set on a copy of a slice from a DataFrame.\n",
      "Try using .loc[row_indexer,col_indexer] = value instead\n",
      "\n",
      "See the caveats in the documentation: https://pandas.pydata.org/pandas-docs/stable/user_guide/indexing.html#returning-a-view-versus-a-copy\n",
      "  continent_cbr['Crude Birth Rate']=continent_cbr['Crude Birth Rate'].round(2)\n"
     ]
    }
   ],
   "source": [
    "continent_cbr['Crude Birth Rate']=continent_cbr['Crude Birth Rate'].round(2)"
   ]
  },
  {
   "cell_type": "code",
   "execution_count": 721,
   "id": "54e0655f-b03a-48b1-866a-89ad6b655be4",
   "metadata": {},
   "outputs": [],
   "source": [
    "continent_tfr=un_continent_line_chart[['Time','Region','Total Fertility Rate']]"
   ]
  },
  {
   "cell_type": "code",
   "execution_count": 722,
   "id": "486a75f8-23b4-45f4-8ff6-f6d294ccdfc5",
   "metadata": {},
   "outputs": [
    {
     "name": "stderr",
     "output_type": "stream",
     "text": [
      "C:\\Users\\graft\\AppData\\Local\\Temp\\ipykernel_14380\\1427211674.py:1: SettingWithCopyWarning: \n",
      "A value is trying to be set on a copy of a slice from a DataFrame.\n",
      "Try using .loc[row_indexer,col_indexer] = value instead\n",
      "\n",
      "See the caveats in the documentation: https://pandas.pydata.org/pandas-docs/stable/user_guide/indexing.html#returning-a-view-versus-a-copy\n",
      "  continent_tfr['Total Fertility Rate']=continent_tfr['Total Fertility Rate'].round(2)\n"
     ]
    }
   ],
   "source": [
    "continent_tfr['Total Fertility Rate']=continent_tfr['Total Fertility Rate'].round(2)"
   ]
  },
  {
   "cell_type": "code",
   "execution_count": 723,
   "id": "3df1edb1-4f47-47ef-988b-2d5738eba38c",
   "metadata": {},
   "outputs": [],
   "source": [
    "un_unregion_line_chart=un_unregion_line_chart.rename(columns={'Births':'Births Per 1000', 'CBR':'Crude Birth Rate', 'TFR': 'Total Fertility Rate'})"
   ]
  },
  {
   "cell_type": "code",
   "execution_count": 724,
   "id": "3d69207e-87aa-4fa5-b9d5-999b4830eda0",
   "metadata": {},
   "outputs": [
    {
     "name": "stderr",
     "output_type": "stream",
     "text": [
      "C:\\Users\\graft\\AppData\\Local\\Temp\\ipykernel_14380\\2146829916.py:2: SettingWithCopyWarning: \n",
      "A value is trying to be set on a copy of a slice from a DataFrame.\n",
      "Try using .loc[row_indexer,col_indexer] = value instead\n",
      "\n",
      "See the caveats in the documentation: https://pandas.pydata.org/pandas-docs/stable/user_guide/indexing.html#returning-a-view-versus-a-copy\n",
      "  unregion_births['Births Per 1000']=unregion_births['Births Per 1000'].round(0).astype(int)\n"
     ]
    }
   ],
   "source": [
    "unregion_births=un_unregion_line_chart[['Time','Region','Births Per 1000']]\n",
    "unregion_births['Births Per 1000']=unregion_births['Births Per 1000'].round(0).astype(int)"
   ]
  },
  {
   "cell_type": "code",
   "execution_count": 725,
   "id": "addb21f3-9bd6-4577-9f50-95180d5b437b",
   "metadata": {},
   "outputs": [],
   "source": [
    "unregion_cbr=un_unregion_line_chart[['Time','Region','Crude Birth Rate']]"
   ]
  },
  {
   "cell_type": "code",
   "execution_count": 726,
   "id": "ae0413b1-6b81-47fc-a6fc-4f7ef2385a30",
   "metadata": {},
   "outputs": [
    {
     "name": "stderr",
     "output_type": "stream",
     "text": [
      "C:\\Users\\graft\\AppData\\Local\\Temp\\ipykernel_14380\\266505182.py:1: SettingWithCopyWarning: \n",
      "A value is trying to be set on a copy of a slice from a DataFrame.\n",
      "Try using .loc[row_indexer,col_indexer] = value instead\n",
      "\n",
      "See the caveats in the documentation: https://pandas.pydata.org/pandas-docs/stable/user_guide/indexing.html#returning-a-view-versus-a-copy\n",
      "  unregion_cbr['Crude Birth Rate']=unregion_cbr['Crude Birth Rate'].round(2)\n"
     ]
    }
   ],
   "source": [
    "unregion_cbr['Crude Birth Rate']=unregion_cbr['Crude Birth Rate'].round(2)"
   ]
  },
  {
   "cell_type": "code",
   "execution_count": 727,
   "id": "da4382a8-06ef-463a-876a-47546e3f3a97",
   "metadata": {},
   "outputs": [],
   "source": [
    "unregion_tfr=un_unregion_line_chart[['Time','Region','Total Fertility Rate']]"
   ]
  },
  {
   "cell_type": "code",
   "execution_count": 728,
   "id": "de4c4dee-ff5b-4b00-897b-0a0f419f54bd",
   "metadata": {},
   "outputs": [
    {
     "name": "stderr",
     "output_type": "stream",
     "text": [
      "C:\\Users\\graft\\AppData\\Local\\Temp\\ipykernel_14380\\2217704660.py:1: SettingWithCopyWarning: \n",
      "A value is trying to be set on a copy of a slice from a DataFrame.\n",
      "Try using .loc[row_indexer,col_indexer] = value instead\n",
      "\n",
      "See the caveats in the documentation: https://pandas.pydata.org/pandas-docs/stable/user_guide/indexing.html#returning-a-view-versus-a-copy\n",
      "  unregion_tfr['Total Fertility Rate']=unregion_tfr['Total Fertility Rate'].round(2)\n"
     ]
    }
   ],
   "source": [
    "unregion_tfr['Total Fertility Rate']=unregion_tfr['Total Fertility Rate'].round(2)"
   ]
  },
  {
   "cell_type": "code",
   "execution_count": 729,
   "id": "e3b78c1d-4428-43af-a7f9-9fa045d4bf28",
   "metadata": {},
   "outputs": [
    {
     "data": {
      "text/html": [
       "<div>\n",
       "<style scoped>\n",
       "    .dataframe tbody tr th:only-of-type {\n",
       "        vertical-align: middle;\n",
       "    }\n",
       "\n",
       "    .dataframe tbody tr th {\n",
       "        vertical-align: top;\n",
       "    }\n",
       "\n",
       "    .dataframe thead th {\n",
       "        text-align: right;\n",
       "    }\n",
       "</style>\n",
       "<table border=\"1\" class=\"dataframe\">\n",
       "  <thead>\n",
       "    <tr style=\"text-align: right;\">\n",
       "      <th></th>\n",
       "      <th>Indicators</th>\n",
       "      <th>Region</th>\n",
       "      <th>Year</th>\n",
       "      <th>Percent Change</th>\n",
       "    </tr>\n",
       "  </thead>\n",
       "  <tbody>\n",
       "    <tr>\n",
       "      <th>251</th>\n",
       "      <td>CBR</td>\n",
       "      <td>Eastern Asia</td>\n",
       "      <td>1970-2020</td>\n",
       "      <td>-77.01</td>\n",
       "    </tr>\n",
       "    <tr>\n",
       "      <th>131</th>\n",
       "      <td>CBR</td>\n",
       "      <td>Central America</td>\n",
       "      <td>1970-2020</td>\n",
       "      <td>-60.44</td>\n",
       "    </tr>\n",
       "    <tr>\n",
       "      <th>116</th>\n",
       "      <td>CBR</td>\n",
       "      <td>South America</td>\n",
       "      <td>1970-2020</td>\n",
       "      <td>-59.72</td>\n",
       "    </tr>\n",
       "    <tr>\n",
       "      <th>161</th>\n",
       "      <td>CBR</td>\n",
       "      <td>Southern Europe</td>\n",
       "      <td>1970-2020</td>\n",
       "      <td>-59.33</td>\n",
       "    </tr>\n",
       "    <tr>\n",
       "      <th>236</th>\n",
       "      <td>CBR</td>\n",
       "      <td>South-Eastern Asia</td>\n",
       "      <td>1970-2020</td>\n",
       "      <td>-59.07</td>\n",
       "    </tr>\n",
       "    <tr>\n",
       "      <th>146</th>\n",
       "      <td>CBR</td>\n",
       "      <td>Caribbean</td>\n",
       "      <td>1970-2020</td>\n",
       "      <td>-54.11</td>\n",
       "    </tr>\n",
       "    <tr>\n",
       "      <th>56</th>\n",
       "      <td>CBR</td>\n",
       "      <td>Polynesia</td>\n",
       "      <td>1970-2020</td>\n",
       "      <td>-51.66</td>\n",
       "    </tr>\n",
       "    <tr>\n",
       "      <th>221</th>\n",
       "      <td>CBR</td>\n",
       "      <td>Western Asia</td>\n",
       "      <td>1970-2020</td>\n",
       "      <td>-50.69</td>\n",
       "    </tr>\n",
       "    <tr>\n",
       "      <th>281</th>\n",
       "      <td>CBR</td>\n",
       "      <td>Southern Africa</td>\n",
       "      <td>1970-2020</td>\n",
       "      <td>-48.97</td>\n",
       "    </tr>\n",
       "    <tr>\n",
       "      <th>296</th>\n",
       "      <td>CBR</td>\n",
       "      <td>Northern Africa</td>\n",
       "      <td>1970-2020</td>\n",
       "      <td>-47.20</td>\n",
       "    </tr>\n",
       "    <tr>\n",
       "      <th>101</th>\n",
       "      <td>CBR</td>\n",
       "      <td>Australia/New Zealand</td>\n",
       "      <td>1970-2020</td>\n",
       "      <td>-44.73</td>\n",
       "    </tr>\n",
       "    <tr>\n",
       "      <th>311</th>\n",
       "      <td>CBR</td>\n",
       "      <td>Northern America</td>\n",
       "      <td>1970-2020</td>\n",
       "      <td>-42.81</td>\n",
       "    </tr>\n",
       "    <tr>\n",
       "      <th>41</th>\n",
       "      <td>CBR</td>\n",
       "      <td>South-central Asia</td>\n",
       "      <td>1970-2020</td>\n",
       "      <td>-41.34</td>\n",
       "    </tr>\n",
       "    <tr>\n",
       "      <th>71</th>\n",
       "      <td>CBR</td>\n",
       "      <td>Micronesia</td>\n",
       "      <td>1970-2020</td>\n",
       "      <td>-41.27</td>\n",
       "    </tr>\n",
       "    <tr>\n",
       "      <th>86</th>\n",
       "      <td>CBR</td>\n",
       "      <td>Melanesia</td>\n",
       "      <td>1970-2020</td>\n",
       "      <td>-39.74</td>\n",
       "    </tr>\n",
       "    <tr>\n",
       "      <th>206</th>\n",
       "      <td>CBR</td>\n",
       "      <td>Eastern Europe</td>\n",
       "      <td>1970-2020</td>\n",
       "      <td>-39.42</td>\n",
       "    </tr>\n",
       "    <tr>\n",
       "      <th>191</th>\n",
       "      <td>CBR</td>\n",
       "      <td>Northern Europe</td>\n",
       "      <td>1970-2020</td>\n",
       "      <td>-35.96</td>\n",
       "    </tr>\n",
       "    <tr>\n",
       "      <th>26</th>\n",
       "      <td>CBR</td>\n",
       "      <td>Western Europe</td>\n",
       "      <td>1970-2020</td>\n",
       "      <td>-34.73</td>\n",
       "    </tr>\n",
       "    <tr>\n",
       "      <th>11</th>\n",
       "      <td>CBR</td>\n",
       "      <td>Eastern Africa</td>\n",
       "      <td>1970-2020</td>\n",
       "      <td>-31.17</td>\n",
       "    </tr>\n",
       "    <tr>\n",
       "      <th>266</th>\n",
       "      <td>CBR</td>\n",
       "      <td>Western Africa</td>\n",
       "      <td>1970-2020</td>\n",
       "      <td>-29.64</td>\n",
       "    </tr>\n",
       "    <tr>\n",
       "      <th>176</th>\n",
       "      <td>CBR</td>\n",
       "      <td>Middle Africa</td>\n",
       "      <td>1970-2020</td>\n",
       "      <td>-14.31</td>\n",
       "    </tr>\n",
       "  </tbody>\n",
       "</table>\n",
       "</div>"
      ],
      "text/plain": [
       "    Indicators                 Region       Year  Percent Change\n",
       "251        CBR           Eastern Asia  1970-2020          -77.01\n",
       "131        CBR        Central America  1970-2020          -60.44\n",
       "116        CBR          South America  1970-2020          -59.72\n",
       "161        CBR        Southern Europe  1970-2020          -59.33\n",
       "236        CBR     South-Eastern Asia  1970-2020          -59.07\n",
       "146        CBR              Caribbean  1970-2020          -54.11\n",
       "56         CBR              Polynesia  1970-2020          -51.66\n",
       "221        CBR           Western Asia  1970-2020          -50.69\n",
       "281        CBR        Southern Africa  1970-2020          -48.97\n",
       "296        CBR        Northern Africa  1970-2020          -47.20\n",
       "101        CBR  Australia/New Zealand  1970-2020          -44.73\n",
       "311        CBR       Northern America  1970-2020          -42.81\n",
       "41         CBR     South-central Asia  1970-2020          -41.34\n",
       "71         CBR             Micronesia  1970-2020          -41.27\n",
       "86         CBR              Melanesia  1970-2020          -39.74\n",
       "206        CBR         Eastern Europe  1970-2020          -39.42\n",
       "191        CBR        Northern Europe  1970-2020          -35.96\n",
       "26         CBR         Western Europe  1970-2020          -34.73\n",
       "11         CBR         Eastern Africa  1970-2020          -31.17\n",
       "266        CBR         Western Africa  1970-2020          -29.64\n",
       "176        CBR          Middle Africa  1970-2020          -14.31"
      ]
     },
     "execution_count": 729,
     "metadata": {},
     "output_type": "execute_result"
    }
   ],
   "source": [
    "pc_ind_region.loc[(pc_ind_region['Year']=='1970-2020')&(pc_ind_region['Indicators']=='CBR')].sort_values(by='Percent Change')"
   ]
  },
  {
   "cell_type": "code",
   "execution_count": 730,
   "id": "45721a9f-5338-4ac9-8369-5222c089b328",
   "metadata": {},
   "outputs": [],
   "source": [
    "pc_continent=pc_continent.fillna(0)"
   ]
  },
  {
   "cell_type": "code",
   "execution_count": 731,
   "id": "205ae50b-abcb-4e75-9624-81a10202e0d0",
   "metadata": {},
   "outputs": [],
   "source": [
    "pc_world=pc_world.loc[pc_world['Religion']!='General Population']"
   ]
  },
  {
   "cell_type": "code",
   "execution_count": 732,
   "id": "f2798a74-4852-4917-910e-989b5b06c554",
   "metadata": {},
   "outputs": [],
   "source": [
    "pc_world_v=pc_world_v.loc[pc_world_v['Religion']!='General Population']"
   ]
  },
  {
   "cell_type": "code",
   "execution_count": 733,
   "id": "cf483d81-05c9-479f-a1e0-dfc76f242bf6",
   "metadata": {},
   "outputs": [],
   "source": [
    "pc_continent=pc_continent.loc[pc_continent['Religion']!='General Population']"
   ]
  },
  {
   "cell_type": "code",
   "execution_count": 734,
   "id": "c0bbfd27-3531-4b52-8b76-6653b2340e10",
   "metadata": {},
   "outputs": [],
   "source": [
    "pc_continent_v=pc_continent_v.loc[pc_continent_v['Religion']!='General Population']"
   ]
  },
  {
   "cell_type": "code",
   "execution_count": 735,
   "id": "71499f26-2d8f-4b19-8eb6-0cd564f953e3",
   "metadata": {},
   "outputs": [],
   "source": [
    "pc_region=pc_region.loc[pc_region['Religion']!='General Population']"
   ]
  },
  {
   "cell_type": "code",
   "execution_count": 736,
   "id": "1a81d372-e7d1-4db2-8314-4ef4613ed2e9",
   "metadata": {},
   "outputs": [],
   "source": [
    "pc_region_v=pc_region_v.loc[pc_region_v['Religion']!='General Population']"
   ]
  },
  {
   "cell_type": "code",
   "execution_count": 737,
   "id": "5feed8a2-57ec-4fc9-88b1-31b518095775",
   "metadata": {},
   "outputs": [],
   "source": [
    "pc_ind_continent=pc_ind_continent.loc[pc_ind_continent['Indicators']!='Births']"
   ]
  },
  {
   "cell_type": "code",
   "execution_count": 738,
   "id": "ac361bd0-b62e-403b-8ddd-52462199ad10",
   "metadata": {},
   "outputs": [],
   "source": [
    "pc_ind_world=pc_ind_world.loc[pc_ind_world['Indicators']!='Births']"
   ]
  },
  {
   "cell_type": "code",
   "execution_count": 739,
   "id": "08f8c559-7eb7-49f2-848e-bbd18b26c7e5",
   "metadata": {},
   "outputs": [],
   "source": [
    "pc_ind_region=pc_ind_region.loc[pc_ind_region['Indicators']!='Births']"
   ]
  },
  {
   "cell_type": "code",
   "execution_count": 740,
   "id": "26a3c40e-2dbd-4f16-bd23-d253aa0003c0",
   "metadata": {},
   "outputs": [],
   "source": [
    "pc_ind_continent=pc_ind_continent.drop(columns=[10,11])"
   ]
  },
  {
   "cell_type": "code",
   "execution_count": null,
   "id": "718d5b61-6f58-4392-aae1-901c1d57ba34",
   "metadata": {},
   "outputs": [],
   "source": []
  },
  {
   "cell_type": "code",
   "execution_count": null,
   "id": "891a116e-9f2a-40d4-93c7-18d667d806de",
   "metadata": {},
   "outputs": [],
   "source": []
  },
  {
   "cell_type": "code",
   "execution_count": null,
   "id": "d3509afc-d5b1-4025-9932-38ab018d18ee",
   "metadata": {},
   "outputs": [],
   "source": []
  },
  {
   "cell_type": "code",
   "execution_count": null,
   "id": "56fb2b76-da86-47fd-b7b6-063fbb36117c",
   "metadata": {},
   "outputs": [],
   "source": []
  },
  {
   "cell_type": "code",
   "execution_count": 741,
   "id": "55d49617-26e7-4291-a6e3-0adb1c0ca56e",
   "metadata": {},
   "outputs": [
    {
     "data": {
      "text/html": [
       "<div>\n",
       "<style scoped>\n",
       "    .dataframe tbody tr th:only-of-type {\n",
       "        vertical-align: middle;\n",
       "    }\n",
       "\n",
       "    .dataframe tbody tr th {\n",
       "        vertical-align: top;\n",
       "    }\n",
       "\n",
       "    .dataframe thead th {\n",
       "        text-align: right;\n",
       "    }\n",
       "</style>\n",
       "<table border=\"1\" class=\"dataframe\">\n",
       "  <thead>\n",
       "    <tr style=\"text-align: right;\">\n",
       "      <th></th>\n",
       "      <th>Indicators</th>\n",
       "      <th>Region</th>\n",
       "      <th>Year</th>\n",
       "      <th>Percent Change</th>\n",
       "    </tr>\n",
       "  </thead>\n",
       "  <tbody>\n",
       "    <tr>\n",
       "      <th>11</th>\n",
       "      <td>CBR</td>\n",
       "      <td>Africa</td>\n",
       "      <td>1970-2020</td>\n",
       "      <td>-31.50</td>\n",
       "    </tr>\n",
       "    <tr>\n",
       "      <th>86</th>\n",
       "      <td>CBR</td>\n",
       "      <td>Oceania</td>\n",
       "      <td>1970-2020</td>\n",
       "      <td>-38.11</td>\n",
       "    </tr>\n",
       "    <tr>\n",
       "      <th>41</th>\n",
       "      <td>CBR</td>\n",
       "      <td>Europe</td>\n",
       "      <td>1970-2020</td>\n",
       "      <td>-42.36</td>\n",
       "    </tr>\n",
       "    <tr>\n",
       "      <th>71</th>\n",
       "      <td>CBR</td>\n",
       "      <td>Northern America</td>\n",
       "      <td>1970-2020</td>\n",
       "      <td>-42.81</td>\n",
       "    </tr>\n",
       "    <tr>\n",
       "      <th>56</th>\n",
       "      <td>CBR</td>\n",
       "      <td>Latin America</td>\n",
       "      <td>1970-2020</td>\n",
       "      <td>-56.64</td>\n",
       "    </tr>\n",
       "    <tr>\n",
       "      <th>26</th>\n",
       "      <td>CBR</td>\n",
       "      <td>Asia</td>\n",
       "      <td>1970-2020</td>\n",
       "      <td>-61.23</td>\n",
       "    </tr>\n",
       "  </tbody>\n",
       "</table>\n",
       "</div>"
      ],
      "text/plain": [
       "   Indicators            Region       Year  Percent Change\n",
       "11        CBR            Africa  1970-2020          -31.50\n",
       "86        CBR           Oceania  1970-2020          -38.11\n",
       "41        CBR            Europe  1970-2020          -42.36\n",
       "71        CBR  Northern America  1970-2020          -42.81\n",
       "56        CBR     Latin America  1970-2020          -56.64\n",
       "26        CBR              Asia  1970-2020          -61.23"
      ]
     },
     "execution_count": 741,
     "metadata": {},
     "output_type": "execute_result"
    }
   ],
   "source": [
    "pc_ind_continent.loc[(pc_ind_continent['Indicators']=='CBR')&(pc_ind_continent['Year']=='1970-2020')].sort_values(by='Percent Change', ascending=False)"
   ]
  },
  {
   "cell_type": "code",
   "execution_count": 742,
   "id": "de23b4a6-8746-4acc-928d-3953c3860bce",
   "metadata": {},
   "outputs": [
    {
     "data": {
      "text/html": [
       "<div>\n",
       "<style scoped>\n",
       "    .dataframe tbody tr th:only-of-type {\n",
       "        vertical-align: middle;\n",
       "    }\n",
       "\n",
       "    .dataframe tbody tr th {\n",
       "        vertical-align: top;\n",
       "    }\n",
       "\n",
       "    .dataframe thead th {\n",
       "        text-align: right;\n",
       "    }\n",
       "</style>\n",
       "<table border=\"1\" class=\"dataframe\">\n",
       "  <thead>\n",
       "    <tr style=\"text-align: right;\">\n",
       "      <th></th>\n",
       "      <th>Religion</th>\n",
       "      <th>Region</th>\n",
       "      <th>Year</th>\n",
       "      <th>Percent Change</th>\n",
       "    </tr>\n",
       "  </thead>\n",
       "  <tbody>\n",
       "    <tr>\n",
       "      <th>2</th>\n",
       "      <td>Agnostic</td>\n",
       "      <td>Africa</td>\n",
       "      <td>1970-2020</td>\n",
       "      <td>200.00</td>\n",
       "    </tr>\n",
       "    <tr>\n",
       "      <th>50</th>\n",
       "      <td>Christian</td>\n",
       "      <td>Africa</td>\n",
       "      <td>1970-2020</td>\n",
       "      <td>29.71</td>\n",
       "    </tr>\n",
       "    <tr>\n",
       "      <th>83</th>\n",
       "      <td>Muslim</td>\n",
       "      <td>Africa</td>\n",
       "      <td>1970-2020</td>\n",
       "      <td>2.22</td>\n",
       "    </tr>\n",
       "    <tr>\n",
       "      <th>68</th>\n",
       "      <td>Hindu</td>\n",
       "      <td>Africa</td>\n",
       "      <td>1970-2020</td>\n",
       "      <td>0.00</td>\n",
       "    </tr>\n",
       "  </tbody>\n",
       "</table>\n",
       "</div>"
      ],
      "text/plain": [
       "     Religion  Region       Year  Percent Change\n",
       "2    Agnostic  Africa  1970-2020          200.00\n",
       "50  Christian  Africa  1970-2020           29.71\n",
       "83     Muslim  Africa  1970-2020            2.22\n",
       "68      Hindu  Africa  1970-2020            0.00"
      ]
     },
     "execution_count": 742,
     "metadata": {},
     "output_type": "execute_result"
    }
   ],
   "source": [
    "pc_continent_v.loc[(pc_continent_v['Region']=='Africa')&(pc_continent_v['Year']=='1970-2020')].sort_values(by='Percent Change', ascending=False)"
   ]
  },
  {
   "cell_type": "code",
   "execution_count": 743,
   "id": "f53d6e5c-d8b4-476e-a436-470b690d2558",
   "metadata": {},
   "outputs": [],
   "source": [
    "pc_world.to_csv('pc_world.csv',index=False)"
   ]
  },
  {
   "cell_type": "code",
   "execution_count": 744,
   "id": "5f037d0e-8e10-4735-8ccb-895e65ac0996",
   "metadata": {},
   "outputs": [
    {
     "data": {
      "text/html": [
       "<div>\n",
       "<style scoped>\n",
       "    .dataframe tbody tr th:only-of-type {\n",
       "        vertical-align: middle;\n",
       "    }\n",
       "\n",
       "    .dataframe tbody tr th {\n",
       "        vertical-align: top;\n",
       "    }\n",
       "\n",
       "    .dataframe thead th {\n",
       "        text-align: right;\n",
       "    }\n",
       "</style>\n",
       "<table border=\"1\" class=\"dataframe\">\n",
       "  <thead>\n",
       "    <tr style=\"text-align: right;\">\n",
       "      <th></th>\n",
       "      <th>Indicators</th>\n",
       "      <th>Region</th>\n",
       "      <th>Year</th>\n",
       "      <th>Percent Change</th>\n",
       "    </tr>\n",
       "  </thead>\n",
       "  <tbody>\n",
       "    <tr>\n",
       "      <th>1</th>\n",
       "      <td>CBR</td>\n",
       "      <td>Africa</td>\n",
       "      <td>1970-2010</td>\n",
       "      <td>-21.11</td>\n",
       "    </tr>\n",
       "    <tr>\n",
       "      <th>2</th>\n",
       "      <td>TFR</td>\n",
       "      <td>Africa</td>\n",
       "      <td>1970-2010</td>\n",
       "      <td>-26.88</td>\n",
       "    </tr>\n",
       "    <tr>\n",
       "      <th>3</th>\n",
       "      <td>NRR</td>\n",
       "      <td>Africa</td>\n",
       "      <td>1970-2010</td>\n",
       "      <td>-8.40</td>\n",
       "    </tr>\n",
       "    <tr>\n",
       "      <th>4</th>\n",
       "      <td>Population</td>\n",
       "      <td>Africa</td>\n",
       "      <td>1970-2010</td>\n",
       "      <td>193.39</td>\n",
       "    </tr>\n",
       "    <tr>\n",
       "      <th>6</th>\n",
       "      <td>CBR</td>\n",
       "      <td>Africa</td>\n",
       "      <td>2010-2020</td>\n",
       "      <td>-13.18</td>\n",
       "    </tr>\n",
       "    <tr>\n",
       "      <th>...</th>\n",
       "      <td>...</td>\n",
       "      <td>...</td>\n",
       "      <td>...</td>\n",
       "      <td>...</td>\n",
       "    </tr>\n",
       "    <tr>\n",
       "      <th>84</th>\n",
       "      <td>Population</td>\n",
       "      <td>Oceania</td>\n",
       "      <td>2010-2020</td>\n",
       "      <td>18.69</td>\n",
       "    </tr>\n",
       "    <tr>\n",
       "      <th>86</th>\n",
       "      <td>CBR</td>\n",
       "      <td>Oceania</td>\n",
       "      <td>1970-2020</td>\n",
       "      <td>-38.11</td>\n",
       "    </tr>\n",
       "    <tr>\n",
       "      <th>87</th>\n",
       "      <td>TFR</td>\n",
       "      <td>Oceania</td>\n",
       "      <td>1970-2020</td>\n",
       "      <td>-39.98</td>\n",
       "    </tr>\n",
       "    <tr>\n",
       "      <th>88</th>\n",
       "      <td>NRR</td>\n",
       "      <td>Oceania</td>\n",
       "      <td>1970-2020</td>\n",
       "      <td>-37.39</td>\n",
       "    </tr>\n",
       "    <tr>\n",
       "      <th>89</th>\n",
       "      <td>Population</td>\n",
       "      <td>Oceania</td>\n",
       "      <td>1970-2020</td>\n",
       "      <td>128.06</td>\n",
       "    </tr>\n",
       "  </tbody>\n",
       "</table>\n",
       "<p>72 rows × 4 columns</p>\n",
       "</div>"
      ],
      "text/plain": [
       "    Indicators   Region       Year  Percent Change\n",
       "1          CBR   Africa  1970-2010          -21.11\n",
       "2          TFR   Africa  1970-2010          -26.88\n",
       "3          NRR   Africa  1970-2010           -8.40\n",
       "4   Population   Africa  1970-2010          193.39\n",
       "6          CBR   Africa  2010-2020          -13.18\n",
       "..         ...      ...        ...             ...\n",
       "84  Population  Oceania  2010-2020           18.69\n",
       "86         CBR  Oceania  1970-2020          -38.11\n",
       "87         TFR  Oceania  1970-2020          -39.98\n",
       "88         NRR  Oceania  1970-2020          -37.39\n",
       "89  Population  Oceania  1970-2020          128.06\n",
       "\n",
       "[72 rows x 4 columns]"
      ]
     },
     "execution_count": 744,
     "metadata": {},
     "output_type": "execute_result"
    }
   ],
   "source": [
    "pc_ind_continent"
   ]
  },
  {
   "cell_type": "code",
   "execution_count": 745,
   "id": "98a4f0c5-a40e-4793-9657-b5a6db234e2f",
   "metadata": {},
   "outputs": [
    {
     "data": {
      "text/html": [
       "<div>\n",
       "<style scoped>\n",
       "    .dataframe tbody tr th:only-of-type {\n",
       "        vertical-align: middle;\n",
       "    }\n",
       "\n",
       "    .dataframe tbody tr th {\n",
       "        vertical-align: top;\n",
       "    }\n",
       "\n",
       "    .dataframe thead th {\n",
       "        text-align: right;\n",
       "    }\n",
       "</style>\n",
       "<table border=\"1\" class=\"dataframe\">\n",
       "  <thead>\n",
       "    <tr style=\"text-align: right;\">\n",
       "      <th></th>\n",
       "      <th>Religion</th>\n",
       "      <th>Region</th>\n",
       "      <th>1970</th>\n",
       "      <th>2010</th>\n",
       "      <th>2020</th>\n",
       "      <th>1970%</th>\n",
       "      <th>2010%</th>\n",
       "      <th>2020%</th>\n",
       "    </tr>\n",
       "  </thead>\n",
       "  <tbody>\n",
       "    <tr>\n",
       "      <th>0</th>\n",
       "      <td>Agnostic</td>\n",
       "      <td>Africa</td>\n",
       "      <td>588000</td>\n",
       "      <td>6497000</td>\n",
       "      <td>8215000</td>\n",
       "      <td>0.2</td>\n",
       "      <td>0.6</td>\n",
       "      <td>0.6</td>\n",
       "    </tr>\n",
       "    <tr>\n",
       "      <th>1</th>\n",
       "      <td>Agnostic</td>\n",
       "      <td>Eastern Africa</td>\n",
       "      <td>56100</td>\n",
       "      <td>854000</td>\n",
       "      <td>1094000</td>\n",
       "      <td>0.1</td>\n",
       "      <td>0.3</td>\n",
       "      <td>0.2</td>\n",
       "    </tr>\n",
       "    <tr>\n",
       "      <th>2</th>\n",
       "      <td>Agnostic</td>\n",
       "      <td>Middle Africa</td>\n",
       "      <td>34400</td>\n",
       "      <td>727000</td>\n",
       "      <td>1074000</td>\n",
       "      <td>0.1</td>\n",
       "      <td>0.6</td>\n",
       "      <td>0.6</td>\n",
       "    </tr>\n",
       "    <tr>\n",
       "      <th>3</th>\n",
       "      <td>Agnostic</td>\n",
       "      <td>Northern Africa</td>\n",
       "      <td>228000</td>\n",
       "      <td>1267000</td>\n",
       "      <td>1611000</td>\n",
       "      <td>0.3</td>\n",
       "      <td>0.6</td>\n",
       "      <td>0.7</td>\n",
       "    </tr>\n",
       "    <tr>\n",
       "      <th>4</th>\n",
       "      <td>Agnostic</td>\n",
       "      <td>Southern Africa</td>\n",
       "      <td>151000</td>\n",
       "      <td>2765000</td>\n",
       "      <td>3274000</td>\n",
       "      <td>0.6</td>\n",
       "      <td>4.8</td>\n",
       "      <td>4.8</td>\n",
       "    </tr>\n",
       "    <tr>\n",
       "      <th>5</th>\n",
       "      <td>Agnostic</td>\n",
       "      <td>Western Africa</td>\n",
       "      <td>119000</td>\n",
       "      <td>884000</td>\n",
       "      <td>1163000</td>\n",
       "      <td>0.1</td>\n",
       "      <td>0.3</td>\n",
       "      <td>0.3</td>\n",
       "    </tr>\n",
       "    <tr>\n",
       "      <th>6</th>\n",
       "      <td>Agnostic</td>\n",
       "      <td>Asia</td>\n",
       "      <td>437146000</td>\n",
       "      <td>504762000</td>\n",
       "      <td>547520000</td>\n",
       "      <td>20.4</td>\n",
       "      <td>12.1</td>\n",
       "      <td>11.8</td>\n",
       "    </tr>\n",
       "    <tr>\n",
       "      <th>7</th>\n",
       "      <td>Agnostic</td>\n",
       "      <td>Eastern Asia</td>\n",
       "      <td>416136000</td>\n",
       "      <td>467232000</td>\n",
       "      <td>505861000</td>\n",
       "      <td>41.8</td>\n",
       "      <td>29.7</td>\n",
       "      <td>30.1</td>\n",
       "    </tr>\n",
       "    <tr>\n",
       "      <th>8</th>\n",
       "      <td>Agnostic</td>\n",
       "      <td>South-central Asia</td>\n",
       "      <td>11429000</td>\n",
       "      <td>17302000</td>\n",
       "      <td>19517000</td>\n",
       "      <td>1.5</td>\n",
       "      <td>1.0</td>\n",
       "      <td>0.1</td>\n",
       "    </tr>\n",
       "    <tr>\n",
       "      <th>9</th>\n",
       "      <td>Agnostic</td>\n",
       "      <td>South-eastern Asia</td>\n",
       "      <td>5676000</td>\n",
       "      <td>17126000</td>\n",
       "      <td>18834000</td>\n",
       "      <td>2.0</td>\n",
       "      <td>2.9</td>\n",
       "      <td>2.8</td>\n",
       "    </tr>\n",
       "    <tr>\n",
       "      <th>10</th>\n",
       "      <td>Agnostic</td>\n",
       "      <td>Western Asia</td>\n",
       "      <td>3905000</td>\n",
       "      <td>3102000</td>\n",
       "      <td>3308000</td>\n",
       "      <td>4.4</td>\n",
       "      <td>1.3</td>\n",
       "      <td>1.2</td>\n",
       "    </tr>\n",
       "    <tr>\n",
       "      <th>11</th>\n",
       "      <td>Agnostic</td>\n",
       "      <td>Europe</td>\n",
       "      <td>87540000</td>\n",
       "      <td>93325000</td>\n",
       "      <td>101371000</td>\n",
       "      <td>13.3</td>\n",
       "      <td>12.6</td>\n",
       "      <td>13.6</td>\n",
       "    </tr>\n",
       "    <tr>\n",
       "      <th>12</th>\n",
       "      <td>Agnostic</td>\n",
       "      <td>Eastern Europe</td>\n",
       "      <td>58326000</td>\n",
       "      <td>23612000</td>\n",
       "      <td>22370000</td>\n",
       "      <td>21.1</td>\n",
       "      <td>8.0</td>\n",
       "      <td>7.6</td>\n",
       "    </tr>\n",
       "    <tr>\n",
       "      <th>13</th>\n",
       "      <td>Agnostic</td>\n",
       "      <td>Northern Europe</td>\n",
       "      <td>7930000</td>\n",
       "      <td>17568000</td>\n",
       "      <td>20628000</td>\n",
       "      <td>9.1</td>\n",
       "      <td>17.7</td>\n",
       "      <td>19.4</td>\n",
       "    </tr>\n",
       "    <tr>\n",
       "      <th>14</th>\n",
       "      <td>Agnostic</td>\n",
       "      <td>Southern Europe</td>\n",
       "      <td>9261000</td>\n",
       "      <td>13262000</td>\n",
       "      <td>14073000</td>\n",
       "      <td>7.3</td>\n",
       "      <td>8.5</td>\n",
       "      <td>9.2</td>\n",
       "    </tr>\n",
       "    <tr>\n",
       "      <th>15</th>\n",
       "      <td>Agnostic</td>\n",
       "      <td>Western Europe</td>\n",
       "      <td>12023000</td>\n",
       "      <td>38882000</td>\n",
       "      <td>44300000</td>\n",
       "      <td>7.3</td>\n",
       "      <td>20.6</td>\n",
       "      <td>22.6</td>\n",
       "    </tr>\n",
       "    <tr>\n",
       "      <th>16</th>\n",
       "      <td>Agnostic</td>\n",
       "      <td>Latin America</td>\n",
       "      <td>6041000</td>\n",
       "      <td>18712000</td>\n",
       "      <td>22594000</td>\n",
       "      <td>2.1</td>\n",
       "      <td>3.2</td>\n",
       "      <td>3.5</td>\n",
       "    </tr>\n",
       "    <tr>\n",
       "      <th>17</th>\n",
       "      <td>Agnostic</td>\n",
       "      <td>Caribbean</td>\n",
       "      <td>2786000</td>\n",
       "      <td>2804000</td>\n",
       "      <td>2804000</td>\n",
       "      <td>10.9</td>\n",
       "      <td>6.7</td>\n",
       "      <td>6.4</td>\n",
       "    </tr>\n",
       "    <tr>\n",
       "      <th>18</th>\n",
       "      <td>Agnostic</td>\n",
       "      <td>Central America</td>\n",
       "      <td>890000</td>\n",
       "      <td>3772000</td>\n",
       "      <td>4780000</td>\n",
       "      <td>1.3</td>\n",
       "      <td>2.4</td>\n",
       "      <td>2.7</td>\n",
       "    </tr>\n",
       "    <tr>\n",
       "      <th>19</th>\n",
       "      <td>Agnostic</td>\n",
       "      <td>South America</td>\n",
       "      <td>2365000</td>\n",
       "      <td>12136000</td>\n",
       "      <td>15009000</td>\n",
       "      <td>1.2</td>\n",
       "      <td>3.1</td>\n",
       "      <td>3.5</td>\n",
       "    </tr>\n",
       "    <tr>\n",
       "      <th>20</th>\n",
       "      <td>Agnostic</td>\n",
       "      <td>Northern America</td>\n",
       "      <td>11349000</td>\n",
       "      <td>48119000</td>\n",
       "      <td>64155000</td>\n",
       "      <td>5.1</td>\n",
       "      <td>14.0</td>\n",
       "      <td>17.4</td>\n",
       "    </tr>\n",
       "    <tr>\n",
       "      <th>21</th>\n",
       "      <td>Agnostic</td>\n",
       "      <td>Oceania</td>\n",
       "      <td>658700</td>\n",
       "      <td>5529000</td>\n",
       "      <td>8281000</td>\n",
       "      <td>3.4</td>\n",
       "      <td>15.1</td>\n",
       "      <td>19.4</td>\n",
       "    </tr>\n",
       "    <tr>\n",
       "      <th>22</th>\n",
       "      <td>Agnostic</td>\n",
       "      <td>Australia/New Zealand</td>\n",
       "      <td>646000</td>\n",
       "      <td>5433000</td>\n",
       "      <td>8160000</td>\n",
       "      <td>4.2</td>\n",
       "      <td>20.4</td>\n",
       "      <td>26.9</td>\n",
       "    </tr>\n",
       "    <tr>\n",
       "      <th>23</th>\n",
       "      <td>Agnostic</td>\n",
       "      <td>Melanesia</td>\n",
       "      <td>8900</td>\n",
       "      <td>74600</td>\n",
       "      <td>97800</td>\n",
       "      <td>0.3</td>\n",
       "      <td>0.9</td>\n",
       "      <td>0.9</td>\n",
       "    </tr>\n",
       "    <tr>\n",
       "      <th>24</th>\n",
       "      <td>Agnostic</td>\n",
       "      <td>Micronesia</td>\n",
       "      <td>1300</td>\n",
       "      <td>6600</td>\n",
       "      <td>7200</td>\n",
       "      <td>0.5</td>\n",
       "      <td>1.2</td>\n",
       "      <td>1.3</td>\n",
       "    </tr>\n",
       "    <tr>\n",
       "      <th>25</th>\n",
       "      <td>Agnostic</td>\n",
       "      <td>Polynesia</td>\n",
       "      <td>2500</td>\n",
       "      <td>14800</td>\n",
       "      <td>15700</td>\n",
       "      <td>0.6</td>\n",
       "      <td>2.2</td>\n",
       "      <td>2.3</td>\n",
       "    </tr>\n",
       "    <tr>\n",
       "      <th>26</th>\n",
       "      <td>Agnostic</td>\n",
       "      <td>Global total</td>\n",
       "      <td>543322700</td>\n",
       "      <td>676944000</td>\n",
       "      <td>752135000</td>\n",
       "      <td>14.7</td>\n",
       "      <td>9.8</td>\n",
       "      <td>9.6</td>\n",
       "    </tr>\n",
       "  </tbody>\n",
       "</table>\n",
       "</div>"
      ],
      "text/plain": [
       "    Religion                 Region       1970       2010       2020  1970%  \\\n",
       "0   Agnostic                 Africa     588000    6497000    8215000    0.2   \n",
       "1   Agnostic         Eastern Africa      56100     854000    1094000    0.1   \n",
       "2   Agnostic          Middle Africa      34400     727000    1074000    0.1   \n",
       "3   Agnostic        Northern Africa     228000    1267000    1611000    0.3   \n",
       "4   Agnostic        Southern Africa     151000    2765000    3274000    0.6   \n",
       "5   Agnostic         Western Africa     119000     884000    1163000    0.1   \n",
       "6   Agnostic                   Asia  437146000  504762000  547520000   20.4   \n",
       "7   Agnostic           Eastern Asia  416136000  467232000  505861000   41.8   \n",
       "8   Agnostic     South-central Asia   11429000   17302000   19517000    1.5   \n",
       "9   Agnostic     South-eastern Asia    5676000   17126000   18834000    2.0   \n",
       "10  Agnostic           Western Asia    3905000    3102000    3308000    4.4   \n",
       "11  Agnostic                 Europe   87540000   93325000  101371000   13.3   \n",
       "12  Agnostic         Eastern Europe   58326000   23612000   22370000   21.1   \n",
       "13  Agnostic        Northern Europe    7930000   17568000   20628000    9.1   \n",
       "14  Agnostic        Southern Europe    9261000   13262000   14073000    7.3   \n",
       "15  Agnostic         Western Europe   12023000   38882000   44300000    7.3   \n",
       "16  Agnostic          Latin America    6041000   18712000   22594000    2.1   \n",
       "17  Agnostic              Caribbean    2786000    2804000    2804000   10.9   \n",
       "18  Agnostic        Central America     890000    3772000    4780000    1.3   \n",
       "19  Agnostic          South America    2365000   12136000   15009000    1.2   \n",
       "20  Agnostic       Northern America   11349000   48119000   64155000    5.1   \n",
       "21  Agnostic                Oceania     658700    5529000    8281000    3.4   \n",
       "22  Agnostic  Australia/New Zealand     646000    5433000    8160000    4.2   \n",
       "23  Agnostic              Melanesia       8900      74600      97800    0.3   \n",
       "24  Agnostic             Micronesia       1300       6600       7200    0.5   \n",
       "25  Agnostic              Polynesia       2500      14800      15700    0.6   \n",
       "26  Agnostic           Global total  543322700  676944000  752135000   14.7   \n",
       "\n",
       "    2010%  2020%  \n",
       "0     0.6    0.6  \n",
       "1     0.3    0.2  \n",
       "2     0.6    0.6  \n",
       "3     0.6    0.7  \n",
       "4     4.8    4.8  \n",
       "5     0.3    0.3  \n",
       "6    12.1   11.8  \n",
       "7    29.7   30.1  \n",
       "8     1.0    0.1  \n",
       "9     2.9    2.8  \n",
       "10    1.3    1.2  \n",
       "11   12.6   13.6  \n",
       "12    8.0    7.6  \n",
       "13   17.7   19.4  \n",
       "14    8.5    9.2  \n",
       "15   20.6   22.6  \n",
       "16    3.2    3.5  \n",
       "17    6.7    6.4  \n",
       "18    2.4    2.7  \n",
       "19    3.1    3.5  \n",
       "20   14.0   17.4  \n",
       "21   15.1   19.4  \n",
       "22   20.4   26.9  \n",
       "23    0.9    0.9  \n",
       "24    1.2    1.3  \n",
       "25    2.2    2.3  \n",
       "26    9.8    9.6  "
      ]
     },
     "execution_count": 745,
     "metadata": {},
     "output_type": "execute_result"
    }
   ],
   "source": [
    "agnostic"
   ]
  },
  {
   "cell_type": "code",
   "execution_count": 746,
   "id": "a54264cd-bba8-4916-9bc8-e6d6e1c6a81c",
   "metadata": {},
   "outputs": [
    {
     "data": {
      "text/html": [
       "<div>\n",
       "<style scoped>\n",
       "    .dataframe tbody tr th:only-of-type {\n",
       "        vertical-align: middle;\n",
       "    }\n",
       "\n",
       "    .dataframe tbody tr th {\n",
       "        vertical-align: top;\n",
       "    }\n",
       "\n",
       "    .dataframe thead th {\n",
       "        text-align: right;\n",
       "    }\n",
       "</style>\n",
       "<table border=\"1\" class=\"dataframe\">\n",
       "  <thead>\n",
       "    <tr style=\"text-align: right;\">\n",
       "      <th></th>\n",
       "      <th>Religion</th>\n",
       "      <th>Region</th>\n",
       "      <th>Year</th>\n",
       "      <th>Percent Change</th>\n",
       "    </tr>\n",
       "  </thead>\n",
       "  <tbody>\n",
       "    <tr>\n",
       "      <th>0</th>\n",
       "      <td>Agnostic</td>\n",
       "      <td>Africa</td>\n",
       "      <td>1970-2010</td>\n",
       "      <td>200.00</td>\n",
       "    </tr>\n",
       "    <tr>\n",
       "      <th>1</th>\n",
       "      <td>Agnostic</td>\n",
       "      <td>Africa</td>\n",
       "      <td>2010-2020</td>\n",
       "      <td>0.00</td>\n",
       "    </tr>\n",
       "    <tr>\n",
       "      <th>2</th>\n",
       "      <td>Agnostic</td>\n",
       "      <td>Africa</td>\n",
       "      <td>1970-2020</td>\n",
       "      <td>200.00</td>\n",
       "    </tr>\n",
       "    <tr>\n",
       "      <th>3</th>\n",
       "      <td>Agnostic</td>\n",
       "      <td>Asia</td>\n",
       "      <td>1970-2010</td>\n",
       "      <td>-40.69</td>\n",
       "    </tr>\n",
       "    <tr>\n",
       "      <th>4</th>\n",
       "      <td>Agnostic</td>\n",
       "      <td>Asia</td>\n",
       "      <td>2010-2020</td>\n",
       "      <td>-2.48</td>\n",
       "    </tr>\n",
       "    <tr>\n",
       "      <th>...</th>\n",
       "      <td>...</td>\n",
       "      <td>...</td>\n",
       "      <td>...</td>\n",
       "      <td>...</td>\n",
       "    </tr>\n",
       "    <tr>\n",
       "      <th>94</th>\n",
       "      <td>Muslim</td>\n",
       "      <td>Northern America</td>\n",
       "      <td>2010-2020</td>\n",
       "      <td>-6.25</td>\n",
       "    </tr>\n",
       "    <tr>\n",
       "      <th>95</th>\n",
       "      <td>Muslim</td>\n",
       "      <td>Northern America</td>\n",
       "      <td>1970-2020</td>\n",
       "      <td>275.00</td>\n",
       "    </tr>\n",
       "    <tr>\n",
       "      <th>96</th>\n",
       "      <td>Muslim</td>\n",
       "      <td>Oceania</td>\n",
       "      <td>1970-2010</td>\n",
       "      <td>275.00</td>\n",
       "    </tr>\n",
       "    <tr>\n",
       "      <th>97</th>\n",
       "      <td>Muslim</td>\n",
       "      <td>Oceania</td>\n",
       "      <td>2010-2020</td>\n",
       "      <td>40.00</td>\n",
       "    </tr>\n",
       "    <tr>\n",
       "      <th>98</th>\n",
       "      <td>Muslim</td>\n",
       "      <td>Oceania</td>\n",
       "      <td>1970-2020</td>\n",
       "      <td>425.00</td>\n",
       "    </tr>\n",
       "  </tbody>\n",
       "</table>\n",
       "<p>99 rows × 4 columns</p>\n",
       "</div>"
      ],
      "text/plain": [
       "    Religion            Region       Year  Percent Change\n",
       "0   Agnostic            Africa  1970-2010          200.00\n",
       "1   Agnostic            Africa  2010-2020            0.00\n",
       "2   Agnostic            Africa  1970-2020          200.00\n",
       "3   Agnostic              Asia  1970-2010          -40.69\n",
       "4   Agnostic              Asia  2010-2020           -2.48\n",
       "..       ...               ...        ...             ...\n",
       "94    Muslim  Northern America  2010-2020           -6.25\n",
       "95    Muslim  Northern America  1970-2020          275.00\n",
       "96    Muslim           Oceania  1970-2010          275.00\n",
       "97    Muslim           Oceania  2010-2020           40.00\n",
       "98    Muslim           Oceania  1970-2020          425.00\n",
       "\n",
       "[99 rows x 4 columns]"
      ]
     },
     "execution_count": 746,
     "metadata": {},
     "output_type": "execute_result"
    }
   ],
   "source": [
    "pc_continent_v"
   ]
  },
  {
   "cell_type": "code",
   "execution_count": 747,
   "id": "1d19c39f-f43b-461d-a306-1a44d06f3764",
   "metadata": {},
   "outputs": [
    {
     "data": {
      "text/html": [
       "<div>\n",
       "<style scoped>\n",
       "    .dataframe tbody tr th:only-of-type {\n",
       "        vertical-align: middle;\n",
       "    }\n",
       "\n",
       "    .dataframe tbody tr th {\n",
       "        vertical-align: top;\n",
       "    }\n",
       "\n",
       "    .dataframe thead th {\n",
       "        text-align: right;\n",
       "    }\n",
       "</style>\n",
       "<table border=\"1\" class=\"dataframe\">\n",
       "  <thead>\n",
       "    <tr style=\"text-align: right;\">\n",
       "      <th></th>\n",
       "      <th>Religion</th>\n",
       "      <th>Region</th>\n",
       "      <th>1970</th>\n",
       "      <th>2010</th>\n",
       "      <th>2020</th>\n",
       "      <th>1970%</th>\n",
       "      <th>2010%</th>\n",
       "      <th>2020%</th>\n",
       "    </tr>\n",
       "  </thead>\n",
       "  <tbody>\n",
       "    <tr>\n",
       "      <th>0</th>\n",
       "      <td>Muslim</td>\n",
       "      <td>Africa</td>\n",
       "      <td>148210000</td>\n",
       "      <td>425860000</td>\n",
       "      <td>556923000</td>\n",
       "      <td>40.6</td>\n",
       "      <td>41.7</td>\n",
       "      <td>41.5</td>\n",
       "    </tr>\n",
       "    <tr>\n",
       "      <th>1</th>\n",
       "      <td>Muslim</td>\n",
       "      <td>Eastern Africa</td>\n",
       "      <td>21574000</td>\n",
       "      <td>70824000</td>\n",
       "      <td>98610000</td>\n",
       "      <td>19.5</td>\n",
       "      <td>21.9</td>\n",
       "      <td>22.1</td>\n",
       "    </tr>\n",
       "    <tr>\n",
       "      <th>2</th>\n",
       "      <td>Muslim</td>\n",
       "      <td>Middle Africa</td>\n",
       "      <td>3494000</td>\n",
       "      <td>12226000</td>\n",
       "      <td>17310000</td>\n",
       "      <td>8.6</td>\n",
       "      <td>9.7</td>\n",
       "      <td>9.6</td>\n",
       "    </tr>\n",
       "    <tr>\n",
       "      <th>3</th>\n",
       "      <td>Muslim</td>\n",
       "      <td>Northern Africa</td>\n",
       "      <td>75812000</td>\n",
       "      <td>186697000</td>\n",
       "      <td>231451000</td>\n",
       "      <td>92.2</td>\n",
       "      <td>89.1</td>\n",
       "      <td>94.0</td>\n",
       "    </tr>\n",
       "    <tr>\n",
       "      <th>4</th>\n",
       "      <td>Muslim</td>\n",
       "      <td>Southern Africa</td>\n",
       "      <td>271000</td>\n",
       "      <td>887000</td>\n",
       "      <td>1046000</td>\n",
       "      <td>1.1</td>\n",
       "      <td>1.5</td>\n",
       "      <td>1.6</td>\n",
       "    </tr>\n",
       "    <tr>\n",
       "      <th>5</th>\n",
       "      <td>Muslim</td>\n",
       "      <td>Western Africa</td>\n",
       "      <td>47059000</td>\n",
       "      <td>155227000</td>\n",
       "      <td>208506000</td>\n",
       "      <td>44.0</td>\n",
       "      <td>51.0</td>\n",
       "      <td>51.9</td>\n",
       "    </tr>\n",
       "    <tr>\n",
       "      <th>6</th>\n",
       "      <td>Muslim</td>\n",
       "      <td>Asia</td>\n",
       "      <td>406559000</td>\n",
       "      <td>1078854000</td>\n",
       "      <td>1270800000</td>\n",
       "      <td>18.9</td>\n",
       "      <td>25.9</td>\n",
       "      <td>27.4</td>\n",
       "    </tr>\n",
       "    <tr>\n",
       "      <th>7</th>\n",
       "      <td>Muslim</td>\n",
       "      <td>Eastern Asia</td>\n",
       "      <td>12103000</td>\n",
       "      <td>21601000</td>\n",
       "      <td>24371000</td>\n",
       "      <td>1.2</td>\n",
       "      <td>1.4</td>\n",
       "      <td>1.5</td>\n",
       "    </tr>\n",
       "    <tr>\n",
       "      <th>8</th>\n",
       "      <td>Muslim</td>\n",
       "      <td>South-central Asia</td>\n",
       "      <td>224849000</td>\n",
       "      <td>632333000</td>\n",
       "      <td>748532000</td>\n",
       "      <td>68.3</td>\n",
       "      <td>35.8</td>\n",
       "      <td>37.2</td>\n",
       "    </tr>\n",
       "    <tr>\n",
       "      <th>9</th>\n",
       "      <td>Muslim</td>\n",
       "      <td>South-eastern Asia</td>\n",
       "      <td>96932000</td>\n",
       "      <td>218910000</td>\n",
       "      <td>248591000</td>\n",
       "      <td>34.6</td>\n",
       "      <td>36.9</td>\n",
       "      <td>37.2</td>\n",
       "    </tr>\n",
       "    <tr>\n",
       "      <th>10</th>\n",
       "      <td>Muslim</td>\n",
       "      <td>Western Asia</td>\n",
       "      <td>72675000</td>\n",
       "      <td>206010000</td>\n",
       "      <td>249306000</td>\n",
       "      <td>82.5</td>\n",
       "      <td>88.8</td>\n",
       "      <td>89.2</td>\n",
       "    </tr>\n",
       "    <tr>\n",
       "      <th>11</th>\n",
       "      <td>Muslim</td>\n",
       "      <td>Europe</td>\n",
       "      <td>18273000</td>\n",
       "      <td>41492000</td>\n",
       "      <td>50647000</td>\n",
       "      <td>2.8</td>\n",
       "      <td>5.6</td>\n",
       "      <td>6.8</td>\n",
       "    </tr>\n",
       "    <tr>\n",
       "      <th>12</th>\n",
       "      <td>Muslim</td>\n",
       "      <td>Eastern Europe</td>\n",
       "      <td>11545000</td>\n",
       "      <td>16776000</td>\n",
       "      <td>19040000</td>\n",
       "      <td>4.2</td>\n",
       "      <td>5.7</td>\n",
       "      <td>6.5</td>\n",
       "    </tr>\n",
       "    <tr>\n",
       "      <th>13</th>\n",
       "      <td>Muslim</td>\n",
       "      <td>Northern Europe</td>\n",
       "      <td>676000</td>\n",
       "      <td>2865000</td>\n",
       "      <td>5881000</td>\n",
       "      <td>0.8</td>\n",
       "      <td>2.9</td>\n",
       "      <td>5.5</td>\n",
       "    </tr>\n",
       "    <tr>\n",
       "      <th>14</th>\n",
       "      <td>Muslim</td>\n",
       "      <td>Southern Europe</td>\n",
       "      <td>4034000</td>\n",
       "      <td>10276000</td>\n",
       "      <td>11381000</td>\n",
       "      <td>3.2</td>\n",
       "      <td>6.6</td>\n",
       "      <td>7.5</td>\n",
       "    </tr>\n",
       "    <tr>\n",
       "      <th>15</th>\n",
       "      <td>Muslim</td>\n",
       "      <td>Western Europe</td>\n",
       "      <td>2018000</td>\n",
       "      <td>11576000</td>\n",
       "      <td>14346000</td>\n",
       "      <td>1.2</td>\n",
       "      <td>6.1</td>\n",
       "      <td>7.3</td>\n",
       "    </tr>\n",
       "    <tr>\n",
       "      <th>16</th>\n",
       "      <td>Muslim</td>\n",
       "      <td>Latin America</td>\n",
       "      <td>424800</td>\n",
       "      <td>1527000</td>\n",
       "      <td>1773000</td>\n",
       "      <td>0.1</td>\n",
       "      <td>0.3</td>\n",
       "      <td>0.3</td>\n",
       "    </tr>\n",
       "    <tr>\n",
       "      <th>17</th>\n",
       "      <td>Muslim</td>\n",
       "      <td>Caribbean</td>\n",
       "      <td>70200</td>\n",
       "      <td>114000</td>\n",
       "      <td>119000</td>\n",
       "      <td>0.3</td>\n",
       "      <td>0.3</td>\n",
       "      <td>0.3</td>\n",
       "    </tr>\n",
       "    <tr>\n",
       "      <th>18</th>\n",
       "      <td>Muslim</td>\n",
       "      <td>Central America</td>\n",
       "      <td>46600</td>\n",
       "      <td>148000</td>\n",
       "      <td>172000</td>\n",
       "      <td>0.1</td>\n",
       "      <td>0.1</td>\n",
       "      <td>0.1</td>\n",
       "    </tr>\n",
       "    <tr>\n",
       "      <th>19</th>\n",
       "      <td>Muslim</td>\n",
       "      <td>South America</td>\n",
       "      <td>308000</td>\n",
       "      <td>1265000</td>\n",
       "      <td>1482000</td>\n",
       "      <td>0.2</td>\n",
       "      <td>0.3</td>\n",
       "      <td>0.3</td>\n",
       "    </tr>\n",
       "    <tr>\n",
       "      <th>20</th>\n",
       "      <td>Muslim</td>\n",
       "      <td>Northern America</td>\n",
       "      <td>842000</td>\n",
       "      <td>5492000</td>\n",
       "      <td>5671000</td>\n",
       "      <td>0.4</td>\n",
       "      <td>1.6</td>\n",
       "      <td>1.5</td>\n",
       "    </tr>\n",
       "    <tr>\n",
       "      <th>21</th>\n",
       "      <td>Muslim</td>\n",
       "      <td>Oceania</td>\n",
       "      <td>70900</td>\n",
       "      <td>549000</td>\n",
       "      <td>888000</td>\n",
       "      <td>0.4</td>\n",
       "      <td>1.5</td>\n",
       "      <td>2.1</td>\n",
       "    </tr>\n",
       "    <tr>\n",
       "      <th>22</th>\n",
       "      <td>Muslim</td>\n",
       "      <td>Australia/New Zealand</td>\n",
       "      <td>26000</td>\n",
       "      <td>484000</td>\n",
       "      <td>818000</td>\n",
       "      <td>0.2</td>\n",
       "      <td>1.8</td>\n",
       "      <td>2.7</td>\n",
       "    </tr>\n",
       "    <tr>\n",
       "      <th>23</th>\n",
       "      <td>Muslim</td>\n",
       "      <td>Melanesia</td>\n",
       "      <td>44900</td>\n",
       "      <td>63800</td>\n",
       "      <td>68200</td>\n",
       "      <td>1.3</td>\n",
       "      <td>0.7</td>\n",
       "      <td>0.6</td>\n",
       "    </tr>\n",
       "    <tr>\n",
       "      <th>26</th>\n",
       "      <td>Muslim</td>\n",
       "      <td>Global total</td>\n",
       "      <td>574379700</td>\n",
       "      <td>1553773000</td>\n",
       "      <td>1886702000</td>\n",
       "      <td>15.5</td>\n",
       "      <td>22.5</td>\n",
       "      <td>24.2</td>\n",
       "    </tr>\n",
       "  </tbody>\n",
       "</table>\n",
       "</div>"
      ],
      "text/plain": [
       "   Religion                 Region       1970        2010        2020  1970%  \\\n",
       "0    Muslim                 Africa  148210000   425860000   556923000   40.6   \n",
       "1    Muslim         Eastern Africa   21574000    70824000    98610000   19.5   \n",
       "2    Muslim          Middle Africa    3494000    12226000    17310000    8.6   \n",
       "3    Muslim        Northern Africa   75812000   186697000   231451000   92.2   \n",
       "4    Muslim        Southern Africa     271000      887000     1046000    1.1   \n",
       "5    Muslim         Western Africa   47059000   155227000   208506000   44.0   \n",
       "6    Muslim                   Asia  406559000  1078854000  1270800000   18.9   \n",
       "7    Muslim           Eastern Asia   12103000    21601000    24371000    1.2   \n",
       "8    Muslim     South-central Asia  224849000   632333000   748532000   68.3   \n",
       "9    Muslim     South-eastern Asia   96932000   218910000   248591000   34.6   \n",
       "10   Muslim           Western Asia   72675000   206010000   249306000   82.5   \n",
       "11   Muslim                 Europe   18273000    41492000    50647000    2.8   \n",
       "12   Muslim         Eastern Europe   11545000    16776000    19040000    4.2   \n",
       "13   Muslim        Northern Europe     676000     2865000     5881000    0.8   \n",
       "14   Muslim        Southern Europe    4034000    10276000    11381000    3.2   \n",
       "15   Muslim         Western Europe    2018000    11576000    14346000    1.2   \n",
       "16   Muslim          Latin America     424800     1527000     1773000    0.1   \n",
       "17   Muslim              Caribbean      70200      114000      119000    0.3   \n",
       "18   Muslim        Central America      46600      148000      172000    0.1   \n",
       "19   Muslim          South America     308000     1265000     1482000    0.2   \n",
       "20   Muslim       Northern America     842000     5492000     5671000    0.4   \n",
       "21   Muslim                Oceania      70900      549000      888000    0.4   \n",
       "22   Muslim  Australia/New Zealand      26000      484000      818000    0.2   \n",
       "23   Muslim              Melanesia      44900       63800       68200    1.3   \n",
       "26   Muslim           Global total  574379700  1553773000  1886702000   15.5   \n",
       "\n",
       "    2010%  2020%  \n",
       "0    41.7   41.5  \n",
       "1    21.9   22.1  \n",
       "2     9.7    9.6  \n",
       "3    89.1   94.0  \n",
       "4     1.5    1.6  \n",
       "5    51.0   51.9  \n",
       "6    25.9   27.4  \n",
       "7     1.4    1.5  \n",
       "8    35.8   37.2  \n",
       "9    36.9   37.2  \n",
       "10   88.8   89.2  \n",
       "11    5.6    6.8  \n",
       "12    5.7    6.5  \n",
       "13    2.9    5.5  \n",
       "14    6.6    7.5  \n",
       "15    6.1    7.3  \n",
       "16    0.3    0.3  \n",
       "17    0.3    0.3  \n",
       "18    0.1    0.1  \n",
       "19    0.3    0.3  \n",
       "20    1.6    1.5  \n",
       "21    1.5    2.1  \n",
       "22    1.8    2.7  \n",
       "23    0.7    0.6  \n",
       "26   22.5   24.2  "
      ]
     },
     "execution_count": 747,
     "metadata": {},
     "output_type": "execute_result"
    }
   ],
   "source": [
    "muslim"
   ]
  },
  {
   "cell_type": "code",
   "execution_count": 748,
   "id": "0274ab61-a729-4a2c-9a48-daf74fc5833a",
   "metadata": {},
   "outputs": [],
   "source": [
    "b=un_world.loc[un_world['Time'].between(1990,2014)]"
   ]
  },
  {
   "cell_type": "code",
   "execution_count": 1476,
   "id": "7c2f1a4c-ec37-45b0-8a48-413995fd0974",
   "metadata": {},
   "outputs": [
    {
     "data": {
      "text/plain": [
       "21.996519999999997"
      ]
     },
     "execution_count": 1476,
     "metadata": {},
     "output_type": "execute_result"
    }
   ],
   "source": [
    "b['CBR'].mean()"
   ]
  },
  {
   "cell_type": "code",
   "execution_count": null,
   "id": "54df31d9-4b6c-4075-9174-fed00e0eb96a",
   "metadata": {},
   "outputs": [],
   "source": []
  }
 ],
 "metadata": {
  "kernelspec": {
   "display_name": "Python 3 (ipykernel)",
   "language": "python",
   "name": "python3"
  },
  "language_info": {
   "codemirror_mode": {
    "name": "ipython",
    "version": 3
   },
   "file_extension": ".py",
   "mimetype": "text/x-python",
   "name": "python",
   "nbconvert_exporter": "python",
   "pygments_lexer": "ipython3",
   "version": "3.12.4"
  }
 },
 "nbformat": 4,
 "nbformat_minor": 5
}
