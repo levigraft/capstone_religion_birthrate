{
 "cells": [
  {
   "cell_type": "code",
   "execution_count": 1,
   "id": "aefe7edf-efcd-47a1-95fe-09f753106171",
   "metadata": {},
   "outputs": [],
   "source": [
    "import pandas as pd"
   ]
  },
  {
   "cell_type": "markdown",
   "id": "04a2eef9-bf8a-4588-8430-1e35023a8b30",
   "metadata": {},
   "source": [
    "# Bring in CSV converted from PDF"
   ]
  },
  {
   "cell_type": "markdown",
   "id": "afafcd67-2dd2-4845-b11f-45194035be5d",
   "metadata": {},
   "source": [
    "# PDF: The World’s Religions in Figures: An Introduction to International Religious Demography, \n",
    "First Edition. Todd M. Johnson and Brian J. Grim \r\n",
    "© 2013 John Wiley & Sons, Ltd. Published 2013 by John Wiley & Sons, Ltd."
   ]
  },
  {
   "cell_type": "markdown",
   "id": "439c4161-2b04-4e3b-9b68-25a243db9305",
   "metadata": {},
   "source": [
    "# Data source: Todd M. Johnson and Brian J. Grim, eds., World Religion Database (Leiden/Boston: Brill, accessed January 2012)"
   ]
  },
  {
   "cell_type": "code",
   "execution_count": 5,
   "id": "c2202a31-9a0d-4bc4-98ac-6a7f3794a823",
   "metadata": {},
   "outputs": [],
   "source": [
    "population = pd.read_csv('../data/johnson_grim/1910_2010_csv/population.csv', thousands=',')"
   ]
  },
  {
   "cell_type": "code",
   "execution_count": 6,
   "id": "de21cf10-83f7-4208-98d3-d4d2cd26d297",
   "metadata": {},
   "outputs": [],
   "source": [
    "agnostic = pd.read_csv('../data/johnson_grim/1910_2010_csv/agnostics.csv', thousands=',')"
   ]
  },
  {
   "cell_type": "code",
   "execution_count": 7,
   "id": "fc2f1d04-668b-4214-95c6-406651165308",
   "metadata": {},
   "outputs": [],
   "source": [
    "atheist = pd.read_csv('../data/johnson_grim/1910_2010_csv/atheist.csv', thousands=',')\n"
   ]
  },
  {
   "cell_type": "code",
   "execution_count": 8,
   "id": "0f9c9392-24c1-4ebe-a0f6-ac1d14b0e46e",
   "metadata": {},
   "outputs": [],
   "source": [
    "buddhist = pd.read_csv('../data/johnson_grim/1910_2010_csv/buddhist.csv', thousands=',')\n"
   ]
  },
  {
   "cell_type": "code",
   "execution_count": 9,
   "id": "4b564ad3-c792-4ab1-ba06-b0afdd239979",
   "metadata": {},
   "outputs": [],
   "source": [
    "christian = pd.read_csv('../data/johnson_grim/1910_2010_csv/christian.csv', thousands=',')\n"
   ]
  },
  {
   "cell_type": "code",
   "execution_count": 10,
   "id": "be9d20f7-d633-4509-80e1-7855f35634c2",
   "metadata": {},
   "outputs": [],
   "source": [
    "hindu = pd.read_csv('../data/johnson_grim/1910_2010_csv/hindu.csv', thousands=',')"
   ]
  },
  {
   "cell_type": "code",
   "execution_count": 11,
   "id": "1dd18aa8-8e20-4776-a142-8cc87a8b509c",
   "metadata": {},
   "outputs": [],
   "source": [
    "muslim = pd.read_csv('../data/johnson_grim/1910_2010_csv/muslim.csv', thousands=',')"
   ]
  },
  {
   "cell_type": "markdown",
   "id": "737cece7-7584-45be-8dbd-bc8e265e205b",
   "metadata": {},
   "source": [
    "# Bring in CSV converted from PDF"
   ]
  },
  {
   "cell_type": "markdown",
   "id": "f5816f7b-7b31-4d34-8c30-21d137a46c97",
   "metadata": {},
   "source": [
    "# PDF: Projecting Global Religious Populations, 2020–50 from Journal of Religion and Demography 8 (2021) 124–153\r"
   ]
  },
  {
   "cell_type": "markdown",
   "id": "e76e7167-39bd-4af0-b5b2-01e0e4fe8aa5",
   "metadata": {},
   "source": [
    "# Data source: Todd M. Johnson and Brian J. Grim, eds., World Religion Database (Leiden/Boston: Brill, accessed July 2021)."
   ]
  },
  {
   "cell_type": "code",
   "execution_count": 15,
   "id": "61fae0b6-0e67-4472-9c1e-9eeb0cb41486",
   "metadata": {},
   "outputs": [],
   "source": [
    "population2 = pd.read_csv('../data/johnson_grim/2020_2050_csv/population.csv', thousands=',')"
   ]
  },
  {
   "cell_type": "code",
   "execution_count": 16,
   "id": "6d9405af-7f20-45aa-9291-9c0659756436",
   "metadata": {},
   "outputs": [],
   "source": [
    "agnostic2 = pd.read_csv('../data/johnson_grim/2020_2050_csv/agnostic.csv', thousands=',')"
   ]
  },
  {
   "cell_type": "code",
   "execution_count": 17,
   "id": "f812cf04-e93b-46c6-8671-31846e9c7adf",
   "metadata": {},
   "outputs": [],
   "source": [
    "atheist2 = pd.read_csv('../data/johnson_grim/2020_2050_csv/atheist.csv', thousands=',')"
   ]
  },
  {
   "cell_type": "code",
   "execution_count": 18,
   "id": "7d54e31d-7d6e-497a-b60c-b0048e2a7caf",
   "metadata": {},
   "outputs": [],
   "source": [
    "buddhist2 = pd.read_csv('../data/johnson_grim/2020_2050_csv/buddhist.csv', thousands=',')"
   ]
  },
  {
   "cell_type": "code",
   "execution_count": 19,
   "id": "43502e52-0257-4b98-9dce-383ebdfb35d0",
   "metadata": {},
   "outputs": [],
   "source": [
    "christian2 = pd.read_csv('../data/johnson_grim/2020_2050_csv/christian.csv', thousands=',')"
   ]
  },
  {
   "cell_type": "code",
   "execution_count": 20,
   "id": "daf1b5ba-7240-44f0-b5fe-512b2679b032",
   "metadata": {},
   "outputs": [],
   "source": [
    "hindu2 = pd.read_csv('../data/johnson_grim/2020_2050_csv/hindu.csv', thousands=',')"
   ]
  },
  {
   "cell_type": "code",
   "execution_count": 21,
   "id": "cfd645f0-d095-41f2-9e46-1f8e5fe6b81b",
   "metadata": {},
   "outputs": [],
   "source": [
    "muslim2 = pd.read_csv('../data/johnson_grim/2020_2050_csv/muslim.csv', thousands=',')"
   ]
  },
  {
   "cell_type": "markdown",
   "id": "22284457-ea4d-4a0b-9160-808d25a20da1",
   "metadata": {},
   "source": [
    "# Merge 1910-2010 and 2020-2050 tables for each religion"
   ]
  },
  {
   "cell_type": "code",
   "execution_count": 23,
   "id": "9099876a-9887-481a-8432-f4b1d6555c7c",
   "metadata": {},
   "outputs": [],
   "source": [
    "population = pd.merge(population, population2, left_on = 'Region', right_on = 'Region')"
   ]
  },
  {
   "cell_type": "code",
   "execution_count": 24,
   "id": "d433917d-6bb2-4809-a7a7-f4f0f458758e",
   "metadata": {},
   "outputs": [],
   "source": [
    "agnostic = pd.merge(agnostic, agnostic2, left_on = 'Region', right_on = 'Region')"
   ]
  },
  {
   "cell_type": "code",
   "execution_count": 25,
   "id": "23e21f9f-82f6-4e7d-bd63-26944bc26e5c",
   "metadata": {},
   "outputs": [],
   "source": [
    "atheist = pd.merge(atheist, atheist2, left_on = 'Region', right_on = 'Region')"
   ]
  },
  {
   "cell_type": "code",
   "execution_count": 26,
   "id": "38305333-3c91-41e2-b509-d81de507a0ad",
   "metadata": {},
   "outputs": [],
   "source": [
    "buddhist = pd.merge(buddhist, buddhist2, left_on = 'Region', right_on = 'Region')"
   ]
  },
  {
   "cell_type": "code",
   "execution_count": 27,
   "id": "500a4c9a-11ac-475b-bb30-76c3a22a1173",
   "metadata": {},
   "outputs": [],
   "source": [
    "christian = pd.merge(christian, christian2, left_on = 'Region', right_on = 'Region')"
   ]
  },
  {
   "cell_type": "code",
   "execution_count": 28,
   "id": "8f4852be-7c1b-428e-9755-3ecee89c633a",
   "metadata": {},
   "outputs": [],
   "source": [
    "hindu = pd.merge(hindu, hindu2, left_on = 'Region', right_on = 'Region')"
   ]
  },
  {
   "cell_type": "code",
   "execution_count": 29,
   "id": "5dd11141-34ec-48f6-8a84-b14770ad395b",
   "metadata": {},
   "outputs": [],
   "source": [
    "muslim = pd.merge(muslim, muslim2, left_on = 'Region', right_on = 'Region')"
   ]
  },
  {
   "cell_type": "markdown",
   "id": "6267b573-b9bd-4d88-9a12-193f1ec229b6",
   "metadata": {},
   "source": [
    "# Clean column names for Each Religion and add Religion Column"
   ]
  },
  {
   "cell_type": "code",
   "execution_count": 31,
   "id": "bc311961-e6e9-4fa3-948f-37885d80a7d2",
   "metadata": {},
   "outputs": [],
   "source": [
    "agnostic = agnostic.rename(columns = {'A 1910':'Agnostics 1910','A 1970':'Agnostics 1970','A 2010':'Agnostics 2010'})"
   ]
  },
  {
   "cell_type": "code",
   "execution_count": 32,
   "id": "5f6df00f-1a76-4079-ab3e-1117fcf8b74f",
   "metadata": {},
   "outputs": [],
   "source": [
    "atheist = atheist.rename(columns = {'A 2020':'Atheists 2020', 'A 2050':'Atheists 2050'})"
   ]
  },
  {
   "cell_type": "code",
   "execution_count": 33,
   "id": "f9d22a09-cc12-42a4-a843-4ebfd4bbd60c",
   "metadata": {},
   "outputs": [],
   "source": [
    "population= population.rename(columns = {'Population 1910' : '1910', 'Population 1970' : '1970','Population 2010' : '2010','Population 2020' : '2020','Population 2050' : '2050'})"
   ]
  },
  {
   "cell_type": "code",
   "execution_count": 34,
   "id": "52fc903a-da27-4e5b-8c0b-afd6da1549f1",
   "metadata": {},
   "outputs": [],
   "source": [
    "population['Religion']= 'General Population'"
   ]
  },
  {
   "cell_type": "code",
   "execution_count": 35,
   "id": "9683bae5-e42b-4df5-bf3c-596ae2f0bed3",
   "metadata": {},
   "outputs": [],
   "source": [
    "agnostic=agnostic.rename(columns={'Agnostics 1910':'1910','Agnostics 1970':'1970','Agnostics 2010':'2010','Agnostics 2020':'2020', 'Agnostics 2050':'2050'})"
   ]
  },
  {
   "cell_type": "code",
   "execution_count": 36,
   "id": "b0f655ef-ff3a-413f-b08b-edf9ef789e4b",
   "metadata": {},
   "outputs": [],
   "source": [
    "agnostic['Religion']= 'Agnostic'"
   ]
  },
  {
   "cell_type": "code",
   "execution_count": 37,
   "id": "721ebe79-0845-4087-b6b5-432c82fc3d33",
   "metadata": {},
   "outputs": [],
   "source": [
    "atheist=atheist.rename(columns={'Atheists 1910':'1910','Atheists 1970':'1970','Atheists 2010':'2010','Atheists 2020':'2020', 'Atheists 2050':'2050'})"
   ]
  },
  {
   "cell_type": "code",
   "execution_count": 38,
   "id": "9f59dae1-958a-49f4-a326-fa6741716074",
   "metadata": {},
   "outputs": [],
   "source": [
    "atheist['Religion']= 'Atheist'"
   ]
  },
  {
   "cell_type": "code",
   "execution_count": 39,
   "id": "601ed0b1-f9c5-4035-bf6e-2ece2b759faa",
   "metadata": {},
   "outputs": [],
   "source": [
    "buddhist=buddhist.rename(columns={'Buddhists 1910':'1910','Buddhists 1970':'1970','Buddhists 2010':'2010','Buddhists 2020':'2020', 'Buddhists 2050':'2050'})"
   ]
  },
  {
   "cell_type": "code",
   "execution_count": 40,
   "id": "ff78e50e-a62b-4bfc-8151-39eee8dca72a",
   "metadata": {},
   "outputs": [],
   "source": [
    "buddhist['Religion']= 'Buddhist'"
   ]
  },
  {
   "cell_type": "code",
   "execution_count": 41,
   "id": "b6197806-f3f8-4cb8-b8e8-1eff5670ac1b",
   "metadata": {},
   "outputs": [],
   "source": [
    "christian=christian.rename(columns={'Christians 1910':'1910','Christians 1970':'1970','Christians 2010':'2010','Christians 2020':'2020', 'Christians 2050':'2050'})"
   ]
  },
  {
   "cell_type": "code",
   "execution_count": 42,
   "id": "e7f1dbc9-1187-435b-9248-d301099aae2c",
   "metadata": {},
   "outputs": [],
   "source": [
    "christian['Religion']= 'Christian'"
   ]
  },
  {
   "cell_type": "code",
   "execution_count": 43,
   "id": "46398326-4253-49b6-9535-a466754cf74b",
   "metadata": {},
   "outputs": [],
   "source": [
    "hindu=hindu.rename(columns={'Hindus 1910':'1910','Hindus 1970':'1970','Hindus 2010':'2010','Hindus 2020':'2020', 'Hindus 2050':'2050'})"
   ]
  },
  {
   "cell_type": "code",
   "execution_count": 44,
   "id": "f0f9128d-c68e-44fd-8a9b-05a628fb699f",
   "metadata": {},
   "outputs": [],
   "source": [
    "hindu['Religion']= 'Hindu'"
   ]
  },
  {
   "cell_type": "code",
   "execution_count": 45,
   "id": "1b6da785-c30e-4f4c-ba9a-ebb4d2a60092",
   "metadata": {},
   "outputs": [],
   "source": [
    "muslim=muslim.rename(columns={'Muslims 1910':'1910','Muslims 1970':'1970','Muslims 2010':'2010','Muslims 2020':'2020', 'Muslims 2050':'2050'})"
   ]
  },
  {
   "cell_type": "code",
   "execution_count": 46,
   "id": "c77a4dda-acc3-4bc5-a92f-1ad707356142",
   "metadata": {},
   "outputs": [],
   "source": [
    "muslim['Religion']= 'Muslim'"
   ]
  },
  {
   "cell_type": "markdown",
   "id": "5c29336d-b306-4953-82d9-12dadc6a2c6a",
   "metadata": {},
   "source": [
    "# Merge religions and population into one table"
   ]
  },
  {
   "cell_type": "code",
   "execution_count": 48,
   "id": "4e2a923f-e8a9-442b-8d61-e7b9b765ed0d",
   "metadata": {},
   "outputs": [],
   "source": [
    "religions = pd.concat([agnostic,atheist,buddhist,christian,hindu,muslim], axis=0, ignore_index=True).reset_index(drop=True)"
   ]
  },
  {
   "cell_type": "code",
   "execution_count": 49,
   "id": "ce98357b-3984-4c91-8b6c-1cbe2e52dc3a",
   "metadata": {},
   "outputs": [],
   "source": [
    "religions = pd.concat([religions, population], axis=0, ignore_index=True)"
   ]
  },
  {
   "cell_type": "markdown",
   "id": "c6322d6e-84af-474b-b035-4ddf1e1d0f2c",
   "metadata": {},
   "source": [
    "# Create Religious Population World Table"
   ]
  },
  {
   "cell_type": "code",
   "execution_count": 51,
   "id": "ae750a67-f330-4d32-8a79-a368c440762c",
   "metadata": {},
   "outputs": [],
   "source": [
    "world_list = ['Global total']"
   ]
  },
  {
   "cell_type": "code",
   "execution_count": 52,
   "id": "189ad334-1a87-4226-9cd3-b99e2d14c93f",
   "metadata": {},
   "outputs": [],
   "source": [
    "world = religions.loc[religions['Region'].isin(world_list)].reset_index(drop=True)"
   ]
  },
  {
   "cell_type": "code",
   "execution_count": 53,
   "id": "49789b25-4cfa-4149-8554-675f7564a8d4",
   "metadata": {},
   "outputs": [],
   "source": [
    "world = world.drop(columns={'Region'})"
   ]
  },
  {
   "cell_type": "code",
   "execution_count": 54,
   "id": "aae732df-48c4-4bd1-9383-633a3db3e817",
   "metadata": {},
   "outputs": [],
   "source": [
    "world['Region'] = 'World'"
   ]
  },
  {
   "cell_type": "markdown",
   "id": "04afee60-af9e-4e18-acbe-0615f643901e",
   "metadata": {},
   "source": [
    "# Create Religious Population Continent Table"
   ]
  },
  {
   "cell_type": "code",
   "execution_count": 56,
   "id": "5d4b0d2a-b209-42e4-8ef9-ea45d09e4667",
   "metadata": {},
   "outputs": [],
   "source": [
    "continent_list = ['Africa','Asia','Europe','Latin America', 'Northern America', 'Oceania']"
   ]
  },
  {
   "cell_type": "code",
   "execution_count": 57,
   "id": "e96f2e57-4826-4692-9387-67bd39a7cecc",
   "metadata": {},
   "outputs": [],
   "source": [
    "continent = religions.loc[religions['Region'].isin(continent_list)].reset_index(drop=True)"
   ]
  },
  {
   "cell_type": "markdown",
   "id": "bdda4e56-cd0d-401c-80d2-12303858f900",
   "metadata": {},
   "source": [
    "# Create Religious Populations UN Region Tables"
   ]
  },
  {
   "cell_type": "code",
   "execution_count": 59,
   "id": "aca39ac4-262e-408c-9be5-1136e532d5b5",
   "metadata": {},
   "outputs": [],
   "source": [
    "unregion_list = ['Africa','Asia','Europe','Latin America', 'Oceania']"
   ]
  },
  {
   "cell_type": "code",
   "execution_count": 60,
   "id": "253bfa2f-2f0b-467b-9a3e-470b57d76a9f",
   "metadata": {},
   "outputs": [],
   "source": [
    "unregion = religions.loc[~religions['Region'].isin(unregion_list)].reset_index(drop=True)"
   ]
  },
  {
   "cell_type": "code",
   "execution_count": 61,
   "id": "81a5558a-15d1-41a7-8f38-b0dddbaab8b3",
   "metadata": {},
   "outputs": [],
   "source": [
    "unregion = unregion.loc[unregion['Region'] != 'Global total'].reset_index(drop=True)"
   ]
  },
  {
   "cell_type": "markdown",
   "id": "f967b30b-dfaa-4ec3-9843-37f8179891c2",
   "metadata": {},
   "source": [
    "# Bring in United Nations Demographic Indicators CSV"
   ]
  },
  {
   "cell_type": "code",
   "execution_count": 63,
   "id": "270f79e3-f84b-4e03-b82e-8c02f61c4aad",
   "metadata": {},
   "outputs": [
    {
     "name": "stderr",
     "output_type": "stream",
     "text": [
      "C:\\Users\\graft\\AppData\\Local\\Temp\\ipykernel_144648\\2938383926.py:1: DtypeWarning: Columns (2,3,4,7) have mixed types. Specify dtype option on import or set low_memory=False.\n",
      "  un_indicators = pd.read_csv('../data/indicators/un_indicators.csv')\n"
     ]
    }
   ],
   "source": [
    "un_indicators = pd.read_csv('../data/indicators/un_indicators.csv')"
   ]
  },
  {
   "cell_type": "code",
   "execution_count": 64,
   "id": "ba7ed521-240a-40b4-976a-5d04c0072fb7",
   "metadata": {},
   "outputs": [
    {
     "data": {
      "text/plain": [
       "Index(['SortOrder', 'LocID', 'Notes', 'ISO3_code', 'ISO2_code', 'SDMX_code',\n",
       "       'LocTypeID', 'LocTypeName', 'ParentID', 'Location', 'VarID', 'Variant',\n",
       "       'Time', 'TPopulation1Jan', 'TPopulation1July', 'TPopulationMale1July',\n",
       "       'TPopulationFemale1July', 'PopDensity', 'PopSexRatio', 'MedianAgePop',\n",
       "       'NatChange', 'NatChangeRT', 'PopChange', 'PopGrowthRate',\n",
       "       'DoublingTime', 'Births', 'Births1519', 'CBR', 'TFR', 'NRR', 'MAC',\n",
       "       'SRB', 'Deaths', 'DeathsMale', 'DeathsFemale', 'CDR', 'LEx', 'LExMale',\n",
       "       'LExFemale', 'LE15', 'LE15Male', 'LE15Female', 'LE65', 'LE65Male',\n",
       "       'LE65Female', 'LE80', 'LE80Male', 'LE80Female', 'InfantDeaths', 'IMR',\n",
       "       'LBsurvivingAge1', 'Under5Deaths', 'Q5', 'Q0040', 'Q0040Male',\n",
       "       'Q0040Female', 'Q0060', 'Q0060Male', 'Q0060Female', 'Q1550',\n",
       "       'Q1550Male', 'Q1550Female', 'Q1560', 'Q1560Male', 'Q1560Female',\n",
       "       'NetMigrations', 'CNMR'],\n",
       "      dtype='object')"
      ]
     },
     "execution_count": 64,
     "metadata": {},
     "output_type": "execute_result"
    }
   ],
   "source": [
    "un_indicators.columns"
   ]
  },
  {
   "cell_type": "code",
   "execution_count": 65,
   "id": "3eb9eac4-550c-471b-bec3-d95de0809491",
   "metadata": {},
   "outputs": [],
   "source": [
    "un_indicators = un_indicators[['Time', 'Location', 'LocTypeName', 'ISO3_code', 'Births', 'CBR', 'TFR', 'NRR', 'PopGrowthRate', 'TPopulation1Jan']]"
   ]
  },
  {
   "cell_type": "markdown",
   "id": "19b482b9-2905-456e-8cb1-2f00927aac3e",
   "metadata": {},
   "source": [
    "# Create UN Indicators World Table"
   ]
  },
  {
   "cell_type": "code",
   "execution_count": 67,
   "id": "3758fe9d-1244-4bff-913a-cd9a11b8b50e",
   "metadata": {},
   "outputs": [],
   "source": [
    "un_world = un_indicators.loc[un_indicators['Location'] == 'World']"
   ]
  },
  {
   "cell_type": "markdown",
   "id": "539fdc14-dc47-4fe5-b485-16dab6881f7a",
   "metadata": {},
   "source": [
    "# Create UN Indicators Continent Table"
   ]
  },
  {
   "cell_type": "markdown",
   "id": "263f567a-dc3c-4061-b434-4d9ffd79f991",
   "metadata": {},
   "source": [
    "# Checking and correcting discrepancies between Johnson_Grim religion data and UN data continent categorization\n",
    "\n",
    "Johnson_Grim uses 'Latin America', but UN data splits into 'Americas' and 'Latin America and the Caribbean'"
   ]
  },
  {
   "cell_type": "code",
   "execution_count": 70,
   "id": "22561bd7-4a05-476d-866a-f1f4acb9912c",
   "metadata": {},
   "outputs": [],
   "source": [
    "un_continent = un_indicators.loc[un_indicators['LocTypeName'] == 'Geographic region']"
   ]
  },
  {
   "cell_type": "code",
   "execution_count": 71,
   "id": "2b8824f1-a8c2-47b5-b99e-d1aaa9031284",
   "metadata": {},
   "outputs": [],
   "source": [
    "americas = un_continent.loc[un_continent['Location'] == 'Americas']"
   ]
  },
  {
   "cell_type": "code",
   "execution_count": 72,
   "id": "a9e5e191-9fd7-4771-bbc7-c14f576f4647",
   "metadata": {},
   "outputs": [],
   "source": [
    "Latin_America_and_the_Caribbean = un_continent.loc[un_continent['Location'] == 'Latin America and the Caribbean']"
   ]
  },
  {
   "cell_type": "code",
   "execution_count": 73,
   "id": "11fa0294-0f55-4f73-bda9-e5ca1c6297f4",
   "metadata": {},
   "outputs": [],
   "source": [
    "americas_latin_merge = pd.merge(americas, Latin_America_and_the_Caribbean, left_on = 'Time', right_on = 'Time')"
   ]
  },
  {
   "cell_type": "code",
   "execution_count": 74,
   "id": "3a9908e7-9e75-4ad8-8c49-dfe566f14f63",
   "metadata": {},
   "outputs": [],
   "source": [
    "americas_latin_merge['Births'] = americas_latin_merge['Births_x'] + americas_latin_merge['Births_y']"
   ]
  },
  {
   "cell_type": "code",
   "execution_count": 75,
   "id": "61484d9d-08df-4971-9ec2-b614b71bf204",
   "metadata": {},
   "outputs": [],
   "source": [
    "americas_latin_merge['CBR'] = americas_latin_merge['CBR_x'] + americas_latin_merge['CBR_y']"
   ]
  },
  {
   "cell_type": "code",
   "execution_count": 76,
   "id": "8a2f3225-434c-4873-ab13-669b4179ce4a",
   "metadata": {},
   "outputs": [],
   "source": [
    "americas_latin_merge['TFR'] = americas_latin_merge['TFR_x'] + americas_latin_merge['TFR_y']"
   ]
  },
  {
   "cell_type": "code",
   "execution_count": 77,
   "id": "40c79268-e1e1-4587-8f9b-be608c296c4e",
   "metadata": {},
   "outputs": [],
   "source": [
    "americas_latin_merge['NRR'] = americas_latin_merge['NRR_x'] + americas_latin_merge['NRR_y']"
   ]
  },
  {
   "cell_type": "code",
   "execution_count": 78,
   "id": "d2fd9a43-2688-4910-ab63-12fc0aaeb6a1",
   "metadata": {},
   "outputs": [],
   "source": [
    "americas_latin_merge['TPopulation1Jan'] = americas_latin_merge['TPopulation1Jan_x'] + americas_latin_merge['TPopulation1Jan_y']"
   ]
  },
  {
   "cell_type": "code",
   "execution_count": 79,
   "id": "27b6a71d-f15a-4e61-bcf5-c63f54ad6f38",
   "metadata": {},
   "outputs": [],
   "source": [
    "americas_latin_merge['PopGrowthRate'] = round(((americas_latin_merge['TPopulation1Jan'].pct_change()) * 100), 3)"
   ]
  },
  {
   "cell_type": "code",
   "execution_count": 80,
   "id": "5edccc57-4f0c-40bb-9f58-8cdc3d831bd8",
   "metadata": {},
   "outputs": [],
   "source": [
    "americas_latin_merge['Location'] = 'Latin America'"
   ]
  },
  {
   "cell_type": "code",
   "execution_count": 81,
   "id": "b8480706-45d5-45ae-89f2-f9239f8a48e1",
   "metadata": {},
   "outputs": [],
   "source": [
    "latin_america = americas_latin_merge[['Time', 'Location', 'Births', 'CBR', 'TFR', 'NRR', 'PopGrowthRate', 'TPopulation1Jan']]"
   ]
  },
  {
   "cell_type": "code",
   "execution_count": 82,
   "id": "61988778-4e56-4c1e-bac5-566547a41121",
   "metadata": {},
   "outputs": [],
   "source": [
    "un_continent = un_continent[((un_continent['Location'] != 'Americas') & (un_continent['Location'] != 'Latin America and the Caribbean'))]"
   ]
  },
  {
   "cell_type": "code",
   "execution_count": 83,
   "id": "6a54721c-455d-4abf-a666-b6dca7bc2e3e",
   "metadata": {},
   "outputs": [],
   "source": [
    "un_continent = pd.concat([un_continent, latin_america], axis=0, ignore_index=True).reset_index()"
   ]
  },
  {
   "cell_type": "markdown",
   "id": "75b714b7-8e9d-47e1-b6e7-937935d07d50",
   "metadata": {},
   "source": [
    "# Creating table with the 21(22) UN regions"
   ]
  },
  {
   "cell_type": "code",
   "execution_count": 85,
   "id": "3b1cc074-2a0d-4b36-b006-a11399b9cd99",
   "metadata": {},
   "outputs": [],
   "source": [
    "un_unregion = un_indicators.loc[un_indicators['LocTypeName'] == 'Subregion']"
   ]
  },
  {
   "cell_type": "markdown",
   "id": "4736c6da-8a59-4e94-a8db-4d6d2aeecce8",
   "metadata": {},
   "source": [
    "# Combine Southern and Central Asia to match Religious Populations Tables"
   ]
  },
  {
   "cell_type": "code",
   "execution_count": 87,
   "id": "df927bc0-5e98-44ab-b844-39769fb1f4b0",
   "metadata": {},
   "outputs": [],
   "source": [
    "southern_asia = un_unregion.loc[un_unregion['Location'] == 'Southern Asia']"
   ]
  },
  {
   "cell_type": "code",
   "execution_count": 88,
   "id": "73ae6f93-3c1b-44f6-a48f-9f2e41d5b8e1",
   "metadata": {},
   "outputs": [],
   "source": [
    "central_asia = un_unregion.loc[un_unregion['Location'] == 'Central Asia']"
   ]
  },
  {
   "cell_type": "code",
   "execution_count": 89,
   "id": "19fbd226-0a7d-4e8c-933b-db40ee8bcd79",
   "metadata": {},
   "outputs": [],
   "source": [
    "southern_central_merge = pd.merge(southern_asia, central_asia, left_on = 'Time', right_on = 'Time')"
   ]
  },
  {
   "cell_type": "code",
   "execution_count": 90,
   "id": "11f003cb-8281-4da2-b296-6af99a6d4d00",
   "metadata": {},
   "outputs": [],
   "source": [
    "southern_central_merge['Births'] = southern_central_merge['Births_x'] + southern_central_merge['Births_y']"
   ]
  },
  {
   "cell_type": "code",
   "execution_count": 91,
   "id": "6127228e-66c8-4701-97a1-cdc1e1e15a7f",
   "metadata": {},
   "outputs": [],
   "source": [
    "southern_central_merge['CBR'] = southern_central_merge['CBR_x'] + southern_central_merge['CBR_y']"
   ]
  },
  {
   "cell_type": "code",
   "execution_count": 92,
   "id": "396c7b68-fb5b-49d2-96f3-83d7b6064e81",
   "metadata": {},
   "outputs": [],
   "source": [
    "southern_central_merge['TFR'] = southern_central_merge['TFR_x'] + southern_central_merge['TFR_y']"
   ]
  },
  {
   "cell_type": "code",
   "execution_count": 93,
   "id": "20d94b70-9915-4124-a4bf-20f6697cdd2a",
   "metadata": {},
   "outputs": [],
   "source": [
    "southern_central_merge['NRR'] = southern_central_merge['NRR_x'] + southern_central_merge['NRR_y']"
   ]
  },
  {
   "cell_type": "code",
   "execution_count": 94,
   "id": "f4556ef3-b79e-4106-9a5d-155a63baea97",
   "metadata": {},
   "outputs": [],
   "source": [
    "southern_central_merge['TPopulation1Jan'] = southern_central_merge['TPopulation1Jan_x'] + southern_central_merge['TPopulation1Jan_y']"
   ]
  },
  {
   "cell_type": "code",
   "execution_count": 95,
   "id": "67cf4847-92c7-4bea-935a-f5f478f8ebea",
   "metadata": {},
   "outputs": [],
   "source": [
    "southern_central_merge['PopGrowthRate'] = round(((southern_central_merge['TPopulation1Jan'].pct_change()) * 100), 3)"
   ]
  },
  {
   "cell_type": "code",
   "execution_count": 96,
   "id": "b4f81d44-0656-4ed5-a897-71606ea37e43",
   "metadata": {},
   "outputs": [],
   "source": [
    "southern_central_merge['Location'] = 'South-central Asia'"
   ]
  },
  {
   "cell_type": "code",
   "execution_count": 97,
   "id": "9d070aad-aa6f-421e-b2b8-7c3078fa993f",
   "metadata": {},
   "outputs": [],
   "source": [
    "south_central_asia = southern_central_merge[['Time', 'Location', 'Births', 'CBR', 'TFR', 'NRR', 'PopGrowthRate', 'TPopulation1Jan']]"
   ]
  },
  {
   "cell_type": "code",
   "execution_count": 98,
   "id": "c56458a0-12f1-49e6-827a-b47aeb60f761",
   "metadata": {},
   "outputs": [],
   "source": [
    "un_unregion = un_unregion[((un_unregion['Location'] != 'Southern Asia') & (un_unregion['Location'] != 'Central Asia'))]"
   ]
  },
  {
   "cell_type": "code",
   "execution_count": 99,
   "id": "536abfbb-ad3f-470f-be0e-0f32a0bbe5c3",
   "metadata": {},
   "outputs": [],
   "source": [
    "un_unregion = pd.concat([un_unregion, south_central_asia], axis=0, ignore_index=True).reset_index()"
   ]
  },
  {
   "cell_type": "markdown",
   "id": "b5095b6a-8d2e-4f95-9aa1-e238a1b388a8",
   "metadata": {},
   "source": [
    "# Northern America is both a continent AND a UN Region. Bringing it back in to UN Region Table"
   ]
  },
  {
   "cell_type": "code",
   "execution_count": 101,
   "id": "7b630c77-46c4-40db-9b81-92b86eadc7d5",
   "metadata": {},
   "outputs": [],
   "source": [
    "northern_america = un_continent.loc[un_continent['Location'] == 'Northern America']"
   ]
  },
  {
   "cell_type": "code",
   "execution_count": 102,
   "id": "a405cd49-6927-4648-8fca-14d4bfb3dc21",
   "metadata": {},
   "outputs": [],
   "source": [
    "un_unregion = pd.concat([un_unregion, northern_america], axis=0, ignore_index=True).reset_index()"
   ]
  },
  {
   "cell_type": "markdown",
   "id": "b2620afe-ad37-4b41-9f2c-ef9dc12e3bb8",
   "metadata": {},
   "source": [
    "# Analysis 1 : What is the % growth of population for each religion?"
   ]
  },
  {
   "cell_type": "code",
   "execution_count": 104,
   "id": "edb9d8c1-dce1-4e18-9af0-603133bb1b65",
   "metadata": {},
   "outputs": [],
   "source": [
    "pg_world = world"
   ]
  },
  {
   "cell_type": "code",
   "execution_count": 105,
   "id": "8abec180-36b3-4efe-85e1-22b276d06c40",
   "metadata": {},
   "outputs": [],
   "source": [
    "pg_world['1910-1970 %Growth'] = round(((world['1970'] - world['1910']) / world['1910']) * 100,2)"
   ]
  },
  {
   "cell_type": "code",
   "execution_count": 106,
   "id": "9cd06c57-4ac0-4aa8-ab9d-af8228725e4d",
   "metadata": {},
   "outputs": [],
   "source": [
    "pg_world['1970-2010 %Growth'] = round(((world['2010'] - world['1970']) / world['1970']) * 100,2)"
   ]
  },
  {
   "cell_type": "code",
   "execution_count": 107,
   "id": "f1bd1ca8-3d57-4684-ab33-cc3331ad5976",
   "metadata": {},
   "outputs": [],
   "source": [
    "pg_world['2010-2020 %Growth'] = round(((world['2020'] - world['2010']) / world['2010']) * 100,2)"
   ]
  },
  {
   "cell_type": "code",
   "execution_count": 108,
   "id": "0f5dc037-0a76-46d5-80a4-142ebb9d9578",
   "metadata": {},
   "outputs": [],
   "source": [
    "pg_world['2020-2050 %Growth'] = round(((world['2050'] - world['2020']) / world['2020']) * 100,2)"
   ]
  },
  {
   "cell_type": "code",
   "execution_count": 109,
   "id": "8eea35ae-a7a0-4b38-b662-f17d20603b50",
   "metadata": {},
   "outputs": [],
   "source": [
    "pg_world['1910-2050 %Growth'] = round(((world['2050'] - world['1910']) / world['1910']) * 100,2)"
   ]
  },
  {
   "cell_type": "code",
   "execution_count": 110,
   "id": "197dff66-dd63-4f46-a573-4ec7e83c4748",
   "metadata": {},
   "outputs": [],
   "source": [
    "pg_world=pg_world[['Religion','Region', '1910-1970 %Growth','1970-2010 %Growth','2010-2020 %Growth','2020-2050 %Growth', '1910-2050 %Growth']]"
   ]
  },
  {
   "cell_type": "code",
   "execution_count": 111,
   "id": "78264841-125d-4a2d-a4e8-00162d5f3996",
   "metadata": {},
   "outputs": [],
   "source": [
    "pg_world2= pg_world"
   ]
  },
  {
   "cell_type": "code",
   "execution_count": 112,
   "id": "da998ed7-6370-4c3b-b04c-0cd218f65068",
   "metadata": {},
   "outputs": [],
   "source": [
    "pg_world2=pg_world2.rename(columns = {'1910-1970 %Growth':'1910-1970', '1970-2010 %Growth':'1970-2010','2010-2020 %Growth':'2010-2020','2020-2050 %Growth':'2020-2050','1910-2050 %Growth':'1910-2050'})"
   ]
  },
  {
   "cell_type": "code",
   "execution_count": 113,
   "id": "3e2a807d-8aa7-413b-935e-336bbe36c14f",
   "metadata": {},
   "outputs": [],
   "source": [
    "pg_world_v = pg_world2.set_index(['Religion','Region']).stack()"
   ]
  },
  {
   "cell_type": "code",
   "execution_count": 114,
   "id": "cda556c4-8594-4315-abb8-f2b0b2017f8a",
   "metadata": {},
   "outputs": [],
   "source": [
    "pg_world_v = pg_world_v.reset_index(name='Percent Growth')"
   ]
  },
  {
   "cell_type": "code",
   "execution_count": 115,
   "id": "31a49628-73f9-4dec-ae94-73cfcdbea25b",
   "metadata": {},
   "outputs": [],
   "source": [
    "pg_world_v = pg_world_v.rename(columns={'level_2': 'Year'})"
   ]
  },
  {
   "cell_type": "markdown",
   "id": "b2b696b5-6802-41f3-9f52-8867bd2883e5",
   "metadata": {},
   "source": [
    "# % change World Level"
   ]
  },
  {
   "cell_type": "code",
   "execution_count": 117,
   "id": "0ef71f3d-fe2b-4d05-847b-705be8dc8e84",
   "metadata": {},
   "outputs": [
    {
     "data": {
      "text/html": [
       "<div>\n",
       "<style scoped>\n",
       "    .dataframe tbody tr th:only-of-type {\n",
       "        vertical-align: middle;\n",
       "    }\n",
       "\n",
       "    .dataframe tbody tr th {\n",
       "        vertical-align: top;\n",
       "    }\n",
       "\n",
       "    .dataframe thead th {\n",
       "        text-align: right;\n",
       "    }\n",
       "</style>\n",
       "<table border=\"1\" class=\"dataframe\">\n",
       "  <thead>\n",
       "    <tr style=\"text-align: right;\">\n",
       "      <th></th>\n",
       "      <th>Religion</th>\n",
       "      <th>Region</th>\n",
       "      <th>1910-1970 %Growth</th>\n",
       "      <th>1970-2010 %Growth</th>\n",
       "      <th>2010-2020 %Growth</th>\n",
       "      <th>2020-2050 %Growth</th>\n",
       "      <th>1910-2050 %Growth</th>\n",
       "    </tr>\n",
       "  </thead>\n",
       "  <tbody>\n",
       "    <tr>\n",
       "      <th>0</th>\n",
       "      <td>Agnostic</td>\n",
       "      <td>World</td>\n",
       "      <td>16027.12</td>\n",
       "      <td>24.59</td>\n",
       "      <td>11.11</td>\n",
       "      <td>-5.98</td>\n",
       "      <td>20889.73</td>\n",
       "    </tr>\n",
       "    <tr>\n",
       "      <th>1</th>\n",
       "      <td>Atheist</td>\n",
       "      <td>World</td>\n",
       "      <td>67865.97</td>\n",
       "      <td>-17.26</td>\n",
       "      <td>9.42</td>\n",
       "      <td>-4.44</td>\n",
       "      <td>58697.94</td>\n",
       "    </tr>\n",
       "    <tr>\n",
       "      <th>2</th>\n",
       "      <td>Buddhist</td>\n",
       "      <td>World</td>\n",
       "      <td>69.04</td>\n",
       "      <td>112.05</td>\n",
       "      <td>7.63</td>\n",
       "      <td>9.02</td>\n",
       "      <td>320.61</td>\n",
       "    </tr>\n",
       "    <tr>\n",
       "      <th>3</th>\n",
       "      <td>Christian</td>\n",
       "      <td>World</td>\n",
       "      <td>98.71</td>\n",
       "      <td>85.93</td>\n",
       "      <td>244.84</td>\n",
       "      <td>-57.23</td>\n",
       "      <td>444.94</td>\n",
       "    </tr>\n",
       "    <tr>\n",
       "      <th>4</th>\n",
       "      <td>Hindu</td>\n",
       "      <td>World</td>\n",
       "      <td>109.25</td>\n",
       "      <td>102.93</td>\n",
       "      <td>11.56</td>\n",
       "      <td>14.04</td>\n",
       "      <td>440.26</td>\n",
       "    </tr>\n",
       "    <tr>\n",
       "      <th>5</th>\n",
       "      <td>Muslim</td>\n",
       "      <td>World</td>\n",
       "      <td>159.02</td>\n",
       "      <td>170.51</td>\n",
       "      <td>21.43</td>\n",
       "      <td>50.67</td>\n",
       "      <td>1181.97</td>\n",
       "    </tr>\n",
       "    <tr>\n",
       "      <th>6</th>\n",
       "      <td>General Population</td>\n",
       "      <td>World</td>\n",
       "      <td>65.72</td>\n",
       "      <td>136.64</td>\n",
       "      <td>13.04</td>\n",
       "      <td>24.89</td>\n",
       "      <td>453.63</td>\n",
       "    </tr>\n",
       "  </tbody>\n",
       "</table>\n",
       "</div>"
      ],
      "text/plain": [
       "             Religion Region  1910-1970 %Growth  1970-2010 %Growth  \\\n",
       "0            Agnostic  World           16027.12              24.59   \n",
       "1             Atheist  World           67865.97             -17.26   \n",
       "2            Buddhist  World              69.04             112.05   \n",
       "3           Christian  World              98.71              85.93   \n",
       "4               Hindu  World             109.25             102.93   \n",
       "5              Muslim  World             159.02             170.51   \n",
       "6  General Population  World              65.72             136.64   \n",
       "\n",
       "   2010-2020 %Growth  2020-2050 %Growth  1910-2050 %Growth  \n",
       "0              11.11              -5.98           20889.73  \n",
       "1               9.42              -4.44           58697.94  \n",
       "2               7.63               9.02             320.61  \n",
       "3             244.84             -57.23             444.94  \n",
       "4              11.56              14.04             440.26  \n",
       "5              21.43              50.67            1181.97  \n",
       "6              13.04              24.89             453.63  "
      ]
     },
     "execution_count": 117,
     "metadata": {},
     "output_type": "execute_result"
    }
   ],
   "source": [
    "pg_world"
   ]
  },
  {
   "cell_type": "code",
   "execution_count": 118,
   "id": "a240b071-42f2-4bf2-96d8-f42eaeb87194",
   "metadata": {},
   "outputs": [
    {
     "data": {
      "text/html": [
       "<div>\n",
       "<style scoped>\n",
       "    .dataframe tbody tr th:only-of-type {\n",
       "        vertical-align: middle;\n",
       "    }\n",
       "\n",
       "    .dataframe tbody tr th {\n",
       "        vertical-align: top;\n",
       "    }\n",
       "\n",
       "    .dataframe thead th {\n",
       "        text-align: right;\n",
       "    }\n",
       "</style>\n",
       "<table border=\"1\" class=\"dataframe\">\n",
       "  <thead>\n",
       "    <tr style=\"text-align: right;\">\n",
       "      <th></th>\n",
       "      <th>Religion</th>\n",
       "      <th>Region</th>\n",
       "      <th>Year</th>\n",
       "      <th>Percent Growth</th>\n",
       "    </tr>\n",
       "  </thead>\n",
       "  <tbody>\n",
       "    <tr>\n",
       "      <th>0</th>\n",
       "      <td>Agnostic</td>\n",
       "      <td>World</td>\n",
       "      <td>1910-1970</td>\n",
       "      <td>16027.12</td>\n",
       "    </tr>\n",
       "    <tr>\n",
       "      <th>1</th>\n",
       "      <td>Agnostic</td>\n",
       "      <td>World</td>\n",
       "      <td>1970-2010</td>\n",
       "      <td>24.59</td>\n",
       "    </tr>\n",
       "    <tr>\n",
       "      <th>2</th>\n",
       "      <td>Agnostic</td>\n",
       "      <td>World</td>\n",
       "      <td>2010-2020</td>\n",
       "      <td>11.11</td>\n",
       "    </tr>\n",
       "    <tr>\n",
       "      <th>3</th>\n",
       "      <td>Agnostic</td>\n",
       "      <td>World</td>\n",
       "      <td>2020-2050</td>\n",
       "      <td>-5.98</td>\n",
       "    </tr>\n",
       "    <tr>\n",
       "      <th>4</th>\n",
       "      <td>Agnostic</td>\n",
       "      <td>World</td>\n",
       "      <td>1910-2050</td>\n",
       "      <td>20889.73</td>\n",
       "    </tr>\n",
       "    <tr>\n",
       "      <th>5</th>\n",
       "      <td>Atheist</td>\n",
       "      <td>World</td>\n",
       "      <td>1910-1970</td>\n",
       "      <td>67865.97</td>\n",
       "    </tr>\n",
       "    <tr>\n",
       "      <th>6</th>\n",
       "      <td>Atheist</td>\n",
       "      <td>World</td>\n",
       "      <td>1970-2010</td>\n",
       "      <td>-17.26</td>\n",
       "    </tr>\n",
       "    <tr>\n",
       "      <th>7</th>\n",
       "      <td>Atheist</td>\n",
       "      <td>World</td>\n",
       "      <td>2010-2020</td>\n",
       "      <td>9.42</td>\n",
       "    </tr>\n",
       "    <tr>\n",
       "      <th>8</th>\n",
       "      <td>Atheist</td>\n",
       "      <td>World</td>\n",
       "      <td>2020-2050</td>\n",
       "      <td>-4.44</td>\n",
       "    </tr>\n",
       "    <tr>\n",
       "      <th>9</th>\n",
       "      <td>Atheist</td>\n",
       "      <td>World</td>\n",
       "      <td>1910-2050</td>\n",
       "      <td>58697.94</td>\n",
       "    </tr>\n",
       "    <tr>\n",
       "      <th>10</th>\n",
       "      <td>Buddhist</td>\n",
       "      <td>World</td>\n",
       "      <td>1910-1970</td>\n",
       "      <td>69.04</td>\n",
       "    </tr>\n",
       "    <tr>\n",
       "      <th>11</th>\n",
       "      <td>Buddhist</td>\n",
       "      <td>World</td>\n",
       "      <td>1970-2010</td>\n",
       "      <td>112.05</td>\n",
       "    </tr>\n",
       "    <tr>\n",
       "      <th>12</th>\n",
       "      <td>Buddhist</td>\n",
       "      <td>World</td>\n",
       "      <td>2010-2020</td>\n",
       "      <td>7.63</td>\n",
       "    </tr>\n",
       "    <tr>\n",
       "      <th>13</th>\n",
       "      <td>Buddhist</td>\n",
       "      <td>World</td>\n",
       "      <td>2020-2050</td>\n",
       "      <td>9.02</td>\n",
       "    </tr>\n",
       "    <tr>\n",
       "      <th>14</th>\n",
       "      <td>Buddhist</td>\n",
       "      <td>World</td>\n",
       "      <td>1910-2050</td>\n",
       "      <td>320.61</td>\n",
       "    </tr>\n",
       "    <tr>\n",
       "      <th>15</th>\n",
       "      <td>Christian</td>\n",
       "      <td>World</td>\n",
       "      <td>1910-1970</td>\n",
       "      <td>98.71</td>\n",
       "    </tr>\n",
       "    <tr>\n",
       "      <th>16</th>\n",
       "      <td>Christian</td>\n",
       "      <td>World</td>\n",
       "      <td>1970-2010</td>\n",
       "      <td>85.93</td>\n",
       "    </tr>\n",
       "    <tr>\n",
       "      <th>17</th>\n",
       "      <td>Christian</td>\n",
       "      <td>World</td>\n",
       "      <td>2010-2020</td>\n",
       "      <td>244.84</td>\n",
       "    </tr>\n",
       "    <tr>\n",
       "      <th>18</th>\n",
       "      <td>Christian</td>\n",
       "      <td>World</td>\n",
       "      <td>2020-2050</td>\n",
       "      <td>-57.23</td>\n",
       "    </tr>\n",
       "    <tr>\n",
       "      <th>19</th>\n",
       "      <td>Christian</td>\n",
       "      <td>World</td>\n",
       "      <td>1910-2050</td>\n",
       "      <td>444.94</td>\n",
       "    </tr>\n",
       "    <tr>\n",
       "      <th>20</th>\n",
       "      <td>Hindu</td>\n",
       "      <td>World</td>\n",
       "      <td>1910-1970</td>\n",
       "      <td>109.25</td>\n",
       "    </tr>\n",
       "    <tr>\n",
       "      <th>21</th>\n",
       "      <td>Hindu</td>\n",
       "      <td>World</td>\n",
       "      <td>1970-2010</td>\n",
       "      <td>102.93</td>\n",
       "    </tr>\n",
       "    <tr>\n",
       "      <th>22</th>\n",
       "      <td>Hindu</td>\n",
       "      <td>World</td>\n",
       "      <td>2010-2020</td>\n",
       "      <td>11.56</td>\n",
       "    </tr>\n",
       "    <tr>\n",
       "      <th>23</th>\n",
       "      <td>Hindu</td>\n",
       "      <td>World</td>\n",
       "      <td>2020-2050</td>\n",
       "      <td>14.04</td>\n",
       "    </tr>\n",
       "    <tr>\n",
       "      <th>24</th>\n",
       "      <td>Hindu</td>\n",
       "      <td>World</td>\n",
       "      <td>1910-2050</td>\n",
       "      <td>440.26</td>\n",
       "    </tr>\n",
       "    <tr>\n",
       "      <th>25</th>\n",
       "      <td>Muslim</td>\n",
       "      <td>World</td>\n",
       "      <td>1910-1970</td>\n",
       "      <td>159.02</td>\n",
       "    </tr>\n",
       "    <tr>\n",
       "      <th>26</th>\n",
       "      <td>Muslim</td>\n",
       "      <td>World</td>\n",
       "      <td>1970-2010</td>\n",
       "      <td>170.51</td>\n",
       "    </tr>\n",
       "    <tr>\n",
       "      <th>27</th>\n",
       "      <td>Muslim</td>\n",
       "      <td>World</td>\n",
       "      <td>2010-2020</td>\n",
       "      <td>21.43</td>\n",
       "    </tr>\n",
       "    <tr>\n",
       "      <th>28</th>\n",
       "      <td>Muslim</td>\n",
       "      <td>World</td>\n",
       "      <td>2020-2050</td>\n",
       "      <td>50.67</td>\n",
       "    </tr>\n",
       "    <tr>\n",
       "      <th>29</th>\n",
       "      <td>Muslim</td>\n",
       "      <td>World</td>\n",
       "      <td>1910-2050</td>\n",
       "      <td>1181.97</td>\n",
       "    </tr>\n",
       "    <tr>\n",
       "      <th>30</th>\n",
       "      <td>General Population</td>\n",
       "      <td>World</td>\n",
       "      <td>1910-1970</td>\n",
       "      <td>65.72</td>\n",
       "    </tr>\n",
       "    <tr>\n",
       "      <th>31</th>\n",
       "      <td>General Population</td>\n",
       "      <td>World</td>\n",
       "      <td>1970-2010</td>\n",
       "      <td>136.64</td>\n",
       "    </tr>\n",
       "    <tr>\n",
       "      <th>32</th>\n",
       "      <td>General Population</td>\n",
       "      <td>World</td>\n",
       "      <td>2010-2020</td>\n",
       "      <td>13.04</td>\n",
       "    </tr>\n",
       "    <tr>\n",
       "      <th>33</th>\n",
       "      <td>General Population</td>\n",
       "      <td>World</td>\n",
       "      <td>2020-2050</td>\n",
       "      <td>24.89</td>\n",
       "    </tr>\n",
       "    <tr>\n",
       "      <th>34</th>\n",
       "      <td>General Population</td>\n",
       "      <td>World</td>\n",
       "      <td>1910-2050</td>\n",
       "      <td>453.63</td>\n",
       "    </tr>\n",
       "  </tbody>\n",
       "</table>\n",
       "</div>"
      ],
      "text/plain": [
       "              Religion Region       Year  Percent Growth\n",
       "0             Agnostic  World  1910-1970        16027.12\n",
       "1             Agnostic  World  1970-2010           24.59\n",
       "2             Agnostic  World  2010-2020           11.11\n",
       "3             Agnostic  World  2020-2050           -5.98\n",
       "4             Agnostic  World  1910-2050        20889.73\n",
       "5              Atheist  World  1910-1970        67865.97\n",
       "6              Atheist  World  1970-2010          -17.26\n",
       "7              Atheist  World  2010-2020            9.42\n",
       "8              Atheist  World  2020-2050           -4.44\n",
       "9              Atheist  World  1910-2050        58697.94\n",
       "10            Buddhist  World  1910-1970           69.04\n",
       "11            Buddhist  World  1970-2010          112.05\n",
       "12            Buddhist  World  2010-2020            7.63\n",
       "13            Buddhist  World  2020-2050            9.02\n",
       "14            Buddhist  World  1910-2050          320.61\n",
       "15           Christian  World  1910-1970           98.71\n",
       "16           Christian  World  1970-2010           85.93\n",
       "17           Christian  World  2010-2020          244.84\n",
       "18           Christian  World  2020-2050          -57.23\n",
       "19           Christian  World  1910-2050          444.94\n",
       "20               Hindu  World  1910-1970          109.25\n",
       "21               Hindu  World  1970-2010          102.93\n",
       "22               Hindu  World  2010-2020           11.56\n",
       "23               Hindu  World  2020-2050           14.04\n",
       "24               Hindu  World  1910-2050          440.26\n",
       "25              Muslim  World  1910-1970          159.02\n",
       "26              Muslim  World  1970-2010          170.51\n",
       "27              Muslim  World  2010-2020           21.43\n",
       "28              Muslim  World  2020-2050           50.67\n",
       "29              Muslim  World  1910-2050         1181.97\n",
       "30  General Population  World  1910-1970           65.72\n",
       "31  General Population  World  1970-2010          136.64\n",
       "32  General Population  World  2010-2020           13.04\n",
       "33  General Population  World  2020-2050           24.89\n",
       "34  General Population  World  1910-2050          453.63"
      ]
     },
     "execution_count": 118,
     "metadata": {},
     "output_type": "execute_result"
    }
   ],
   "source": [
    "pg_world_v"
   ]
  },
  {
   "cell_type": "code",
   "execution_count": 119,
   "id": "80eb9f6b-923f-4f4e-979f-dd470a812156",
   "metadata": {},
   "outputs": [],
   "source": [
    "pg_continent = continent"
   ]
  },
  {
   "cell_type": "code",
   "execution_count": 120,
   "id": "9c3c84e9-f2f4-4bca-8041-f1f80ddf4b2d",
   "metadata": {},
   "outputs": [],
   "source": [
    "pg_continent['1910-1970 %Growth'] = round(((continent['1970'] - continent['1910']) / continent['1910']) * 100,2)"
   ]
  },
  {
   "cell_type": "code",
   "execution_count": 121,
   "id": "fdd18314-0158-4ffb-ad37-e327a75562ef",
   "metadata": {},
   "outputs": [],
   "source": [
    "pg_continent['1970-2010 %Growth'] = round(((continent['2010'] - continent['1970']) / continent['1970']) * 100,2)"
   ]
  },
  {
   "cell_type": "code",
   "execution_count": 122,
   "id": "77527298-5de6-4115-9138-a61b1b766fcf",
   "metadata": {},
   "outputs": [],
   "source": [
    "pg_continent['2010-2020 %Growth'] = round(((continent['2020'] - continent['2010']) / continent['2010']) * 100,2)"
   ]
  },
  {
   "cell_type": "code",
   "execution_count": 123,
   "id": "e273bb01-7e7a-435c-aea4-e78e32277284",
   "metadata": {},
   "outputs": [],
   "source": [
    "pg_continent['2020-2050 %Growth'] = round(((continent['2050'] - continent['2020']) / continent['2020']) * 100,2)"
   ]
  },
  {
   "cell_type": "code",
   "execution_count": 124,
   "id": "c250aeec-b6a0-4fa3-b51a-e6d3b36b1b85",
   "metadata": {},
   "outputs": [],
   "source": [
    "pg_continent['1910-2050 %Growth'] = round(((continent['2050'] - continent['1910']) / continent['1910']) * 100,2)"
   ]
  },
  {
   "cell_type": "code",
   "execution_count": 125,
   "id": "a0d111f2-ebf2-4ea1-80dd-d018f45e16fa",
   "metadata": {},
   "outputs": [],
   "source": [
    "pg_continent=pg_continent[['Religion','Region', '1910-1970 %Growth','1970-2010 %Growth','2010-2020 %Growth','2020-2050 %Growth', '1910-2050 %Growth']]"
   ]
  },
  {
   "cell_type": "code",
   "execution_count": 126,
   "id": "ffd34214-c3db-4556-9a24-9bf858d5b3ba",
   "metadata": {},
   "outputs": [],
   "source": [
    "pg_continent2= pg_continent"
   ]
  },
  {
   "cell_type": "code",
   "execution_count": 127,
   "id": "fad76b07-9709-4e61-a3be-17e448a08690",
   "metadata": {},
   "outputs": [],
   "source": [
    "pg_continent2=pg_continent2.rename(columns = {'1910-1970 %Growth':'1910-1970', '1970-2010 %Growth':'1970-2010','2010-2020 %Growth':'2010-2020','2020-2050 %Growth':'2020-2050','1910-2050 %Growth':'1910-2050'})"
   ]
  },
  {
   "cell_type": "code",
   "execution_count": 128,
   "id": "8f936a6a-a5a5-42ca-bebb-6301f3f16d1a",
   "metadata": {},
   "outputs": [],
   "source": [
    "pg_continent_v = pg_continent2.set_index(['Religion','Region']).stack()"
   ]
  },
  {
   "cell_type": "code",
   "execution_count": 129,
   "id": "a31b31d3-f4ce-466a-afe9-56905351ae9f",
   "metadata": {},
   "outputs": [],
   "source": [
    "pg_continent_v = pg_continent_v.reset_index(name='Percent Growth')"
   ]
  },
  {
   "cell_type": "code",
   "execution_count": 130,
   "id": "c932f674-32e3-421a-aad3-187371c6a2cb",
   "metadata": {},
   "outputs": [],
   "source": [
    "pg_continent_v = pg_continent_v.rename(columns={'level_2': 'Year'})"
   ]
  },
  {
   "cell_type": "markdown",
   "id": "8b82c194-6dc8-4dcf-b24d-a914132951d2",
   "metadata": {},
   "source": [
    "# % change Continent Level"
   ]
  },
  {
   "cell_type": "code",
   "execution_count": 132,
   "id": "33011ad9-d243-4d7f-a333-dec8c477776f",
   "metadata": {},
   "outputs": [
    {
     "data": {
      "text/html": [
       "<div>\n",
       "<style scoped>\n",
       "    .dataframe tbody tr th:only-of-type {\n",
       "        vertical-align: middle;\n",
       "    }\n",
       "\n",
       "    .dataframe tbody tr th {\n",
       "        vertical-align: top;\n",
       "    }\n",
       "\n",
       "    .dataframe thead th {\n",
       "        text-align: right;\n",
       "    }\n",
       "</style>\n",
       "<table border=\"1\" class=\"dataframe\">\n",
       "  <thead>\n",
       "    <tr style=\"text-align: right;\">\n",
       "      <th></th>\n",
       "      <th>Religion</th>\n",
       "      <th>Region</th>\n",
       "      <th>1910-1970 %Growth</th>\n",
       "      <th>1970-2010 %Growth</th>\n",
       "      <th>2010-2020 %Growth</th>\n",
       "      <th>2020-2050 %Growth</th>\n",
       "      <th>1910-2050 %Growth</th>\n",
       "    </tr>\n",
       "  </thead>\n",
       "  <tbody>\n",
       "    <tr>\n",
       "      <th>0</th>\n",
       "      <td>Agnostic</td>\n",
       "      <td>Africa</td>\n",
       "      <td>6900.00</td>\n",
       "      <td>1004.93</td>\n",
       "      <td>26.44</td>\n",
       "      <td>100.96</td>\n",
       "      <td>196435.71</td>\n",
       "    </tr>\n",
       "    <tr>\n",
       "      <th>1</th>\n",
       "      <td>Agnostic</td>\n",
       "      <td>Asia</td>\n",
       "      <td>867253.17</td>\n",
       "      <td>15.47</td>\n",
       "      <td>8.47</td>\n",
       "      <td>-21.39</td>\n",
       "      <td>853862.30</td>\n",
       "    </tr>\n",
       "    <tr>\n",
       "      <th>2</th>\n",
       "      <td>Agnostic</td>\n",
       "      <td>Europe</td>\n",
       "      <td>5228.06</td>\n",
       "      <td>6.61</td>\n",
       "      <td>8.62</td>\n",
       "      <td>11.25</td>\n",
       "      <td>6763.91</td>\n",
       "    </tr>\n",
       "    <tr>\n",
       "      <th>3</th>\n",
       "      <td>Agnostic</td>\n",
       "      <td>Latin America</td>\n",
       "      <td>1254.48</td>\n",
       "      <td>209.75</td>\n",
       "      <td>20.75</td>\n",
       "      <td>91.00</td>\n",
       "      <td>9575.78</td>\n",
       "    </tr>\n",
       "    <tr>\n",
       "      <th>4</th>\n",
       "      <td>Agnostic</td>\n",
       "      <td>Northern America</td>\n",
       "      <td>870.83</td>\n",
       "      <td>323.99</td>\n",
       "      <td>33.33</td>\n",
       "      <td>41.85</td>\n",
       "      <td>7685.03</td>\n",
       "    </tr>\n",
       "    <tr>\n",
       "      <th>5</th>\n",
       "      <td>Agnostic</td>\n",
       "      <td>Oceania</td>\n",
       "      <td>1189.04</td>\n",
       "      <td>739.38</td>\n",
       "      <td>49.77</td>\n",
       "      <td>60.64</td>\n",
       "      <td>25933.27</td>\n",
       "    </tr>\n",
       "    <tr>\n",
       "      <th>6</th>\n",
       "      <td>Atheist</td>\n",
       "      <td>Africa</td>\n",
       "      <td>9263.64</td>\n",
       "      <td>454.37</td>\n",
       "      <td>29.42</td>\n",
       "      <td>68.34</td>\n",
       "      <td>112990.91</td>\n",
       "    </tr>\n",
       "    <tr>\n",
       "      <th>7</th>\n",
       "      <td>Atheist</td>\n",
       "      <td>Asia</td>\n",
       "      <td>1440136.84</td>\n",
       "      <td>4.93</td>\n",
       "      <td>2.88</td>\n",
       "      <td>-19.62</td>\n",
       "      <td>1249531.58</td>\n",
       "    </tr>\n",
       "    <tr>\n",
       "      <th>8</th>\n",
       "      <td>Atheist</td>\n",
       "      <td>Europe</td>\n",
       "      <td>24473.52</td>\n",
       "      <td>-70.83</td>\n",
       "      <td>-3.77</td>\n",
       "      <td>15.78</td>\n",
       "      <td>7885.84</td>\n",
       "    </tr>\n",
       "    <tr>\n",
       "      <th>9</th>\n",
       "      <td>Atheist</td>\n",
       "      <td>Latin America</td>\n",
       "      <td>10020.80</td>\n",
       "      <td>129.23</td>\n",
       "      <td>10.41</td>\n",
       "      <td>39.26</td>\n",
       "      <td>35572.00</td>\n",
       "    </tr>\n",
       "    <tr>\n",
       "      <th>10</th>\n",
       "      <td>Atheist</td>\n",
       "      <td>Northern America</td>\n",
       "      <td>12400.00</td>\n",
       "      <td>618.67</td>\n",
       "      <td>391.05</td>\n",
       "      <td>101.67</td>\n",
       "      <td>889525.00</td>\n",
       "    </tr>\n",
       "    <tr>\n",
       "      <th>11</th>\n",
       "      <td>Atheist</td>\n",
       "      <td>Oceania</td>\n",
       "      <td>21421.00</td>\n",
       "      <td>121.64</td>\n",
       "      <td>263.10</td>\n",
       "      <td>94.28</td>\n",
       "      <td>336400.00</td>\n",
       "    </tr>\n",
       "    <tr>\n",
       "      <th>12</th>\n",
       "      <td>Buddhist</td>\n",
       "      <td>Africa</td>\n",
       "      <td>225.00</td>\n",
       "      <td>2070.94</td>\n",
       "      <td>43.70</td>\n",
       "      <td>67.40</td>\n",
       "      <td>16872.22</td>\n",
       "    </tr>\n",
       "    <tr>\n",
       "      <th>13</th>\n",
       "      <td>Buddhist</td>\n",
       "      <td>Asia</td>\n",
       "      <td>68.78</td>\n",
       "      <td>109.76</td>\n",
       "      <td>7.49</td>\n",
       "      <td>8.19</td>\n",
       "      <td>311.74</td>\n",
       "    </tr>\n",
       "    <tr>\n",
       "      <th>14</th>\n",
       "      <td>Buddhist</td>\n",
       "      <td>Europe</td>\n",
       "      <td>29.02</td>\n",
       "      <td>223.98</td>\n",
       "      <td>11.07</td>\n",
       "      <td>31.15</td>\n",
       "      <td>508.88</td>\n",
       "    </tr>\n",
       "    <tr>\n",
       "      <th>15</th>\n",
       "      <td>Buddhist</td>\n",
       "      <td>Latin America</td>\n",
       "      <td>5388.73</td>\n",
       "      <td>94.77</td>\n",
       "      <td>10.01</td>\n",
       "      <td>92.57</td>\n",
       "      <td>22547.89</td>\n",
       "    </tr>\n",
       "    <tr>\n",
       "      <th>16</th>\n",
       "      <td>Buddhist</td>\n",
       "      <td>Northern America</td>\n",
       "      <td>357.63</td>\n",
       "      <td>1962.04</td>\n",
       "      <td>11.20</td>\n",
       "      <td>60.53</td>\n",
       "      <td>16745.34</td>\n",
       "    </tr>\n",
       "    <tr>\n",
       "      <th>17</th>\n",
       "      <td>Buddhist</td>\n",
       "      <td>Oceania</td>\n",
       "      <td>119.08</td>\n",
       "      <td>3425.53</td>\n",
       "      <td>66.95</td>\n",
       "      <td>52.76</td>\n",
       "      <td>19597.37</td>\n",
       "    </tr>\n",
       "    <tr>\n",
       "      <th>18</th>\n",
       "      <td>Christian</td>\n",
       "      <td>Africa</td>\n",
       "      <td>1084.83</td>\n",
       "      <td>258.35</td>\n",
       "      <td>32.56</td>\n",
       "      <td>95.54</td>\n",
       "      <td>10905.85</td>\n",
       "    </tr>\n",
       "    <tr>\n",
       "      <th>19</th>\n",
       "      <td>Christian</td>\n",
       "      <td>Asia</td>\n",
       "      <td>288.22</td>\n",
       "      <td>251.18</td>\n",
       "      <td>10.48</td>\n",
       "      <td>48.20</td>\n",
       "      <td>2132.21</td>\n",
       "    </tr>\n",
       "    <tr>\n",
       "      <th>20</th>\n",
       "      <td>Christian</td>\n",
       "      <td>Europe</td>\n",
       "      <td>21.55</td>\n",
       "      <td>18.27</td>\n",
       "      <td>-1.30</td>\n",
       "      <td>-13.26</td>\n",
       "      <td>23.08</td>\n",
       "    </tr>\n",
       "    <tr>\n",
       "      <th>21</th>\n",
       "      <td>Christian</td>\n",
       "      <td>Latin America</td>\n",
       "      <td>262.55</td>\n",
       "      <td>101.76</td>\n",
       "      <td>20.06</td>\n",
       "      <td>4.88</td>\n",
       "      <td>821.10</td>\n",
       "    </tr>\n",
       "    <tr>\n",
       "      <th>22</th>\n",
       "      <td>Christian</td>\n",
       "      <td>Northern America</td>\n",
       "      <td>121.33</td>\n",
       "      <td>34.19</td>\n",
       "      <td>35.84</td>\n",
       "      <td>-25.16</td>\n",
       "      <td>201.96</td>\n",
       "    </tr>\n",
       "    <tr>\n",
       "      <th>23</th>\n",
       "      <td>Christian</td>\n",
       "      <td>Oceania</td>\n",
       "      <td>212.09</td>\n",
       "      <td>58.87</td>\n",
       "      <td>52.32</td>\n",
       "      <td>-18.52</td>\n",
       "      <td>515.40</td>\n",
       "    </tr>\n",
       "    <tr>\n",
       "      <th>24</th>\n",
       "      <td>Hindu</td>\n",
       "      <td>Africa</td>\n",
       "      <td>230.03</td>\n",
       "      <td>193.00</td>\n",
       "      <td>21.33</td>\n",
       "      <td>41.52</td>\n",
       "      <td>1560.40</td>\n",
       "    </tr>\n",
       "    <tr>\n",
       "      <th>25</th>\n",
       "      <td>Hindu</td>\n",
       "      <td>Asia</td>\n",
       "      <td>108.77</td>\n",
       "      <td>102.34</td>\n",
       "      <td>11.49</td>\n",
       "      <td>13.81</td>\n",
       "      <td>436.01</td>\n",
       "    </tr>\n",
       "    <tr>\n",
       "      <th>26</th>\n",
       "      <td>Hindu</td>\n",
       "      <td>Europe</td>\n",
       "      <td>375761.54</td>\n",
       "      <td>330.60</td>\n",
       "      <td>21.20</td>\n",
       "      <td>49.88</td>\n",
       "      <td>2939900.00</td>\n",
       "    </tr>\n",
       "    <tr>\n",
       "      <th>27</th>\n",
       "      <td>Hindu</td>\n",
       "      <td>Latin America</td>\n",
       "      <td>219.89</td>\n",
       "      <td>28.57</td>\n",
       "      <td>7.06</td>\n",
       "      <td>3.79</td>\n",
       "      <td>356.99</td>\n",
       "    </tr>\n",
       "    <tr>\n",
       "      <th>28</th>\n",
       "      <td>Hindu</td>\n",
       "      <td>Northern America</td>\n",
       "      <td>9900.00</td>\n",
       "      <td>1429.17</td>\n",
       "      <td>13.35</td>\n",
       "      <td>57.69</td>\n",
       "      <td>273233.33</td>\n",
       "    </tr>\n",
       "    <tr>\n",
       "      <th>29</th>\n",
       "      <td>Hindu</td>\n",
       "      <td>Oceania</td>\n",
       "      <td>1027.01</td>\n",
       "      <td>177.55</td>\n",
       "      <td>58.87</td>\n",
       "      <td>39.51</td>\n",
       "      <td>6832.93</td>\n",
       "    </tr>\n",
       "    <tr>\n",
       "      <th>30</th>\n",
       "      <td>Muslim</td>\n",
       "      <td>Africa</td>\n",
       "      <td>271.30</td>\n",
       "      <td>187.34</td>\n",
       "      <td>30.78</td>\n",
       "      <td>87.40</td>\n",
       "      <td>2514.74</td>\n",
       "    </tr>\n",
       "    <tr>\n",
       "      <th>31</th>\n",
       "      <td>Muslim</td>\n",
       "      <td>Asia</td>\n",
       "      <td>136.80</td>\n",
       "      <td>165.36</td>\n",
       "      <td>17.79</td>\n",
       "      <td>34.45</td>\n",
       "      <td>895.17</td>\n",
       "    </tr>\n",
       "    <tr>\n",
       "      <th>32</th>\n",
       "      <td>Muslim</td>\n",
       "      <td>Europe</td>\n",
       "      <td>81.86</td>\n",
       "      <td>127.07</td>\n",
       "      <td>22.06</td>\n",
       "      <td>45.70</td>\n",
       "      <td>634.39</td>\n",
       "    </tr>\n",
       "    <tr>\n",
       "      <th>33</th>\n",
       "      <td>Muslim</td>\n",
       "      <td>Latin America</td>\n",
       "      <td>526.55</td>\n",
       "      <td>259.46</td>\n",
       "      <td>16.11</td>\n",
       "      <td>52.23</td>\n",
       "      <td>3880.83</td>\n",
       "    </tr>\n",
       "    <tr>\n",
       "      <th>34</th>\n",
       "      <td>Muslim</td>\n",
       "      <td>Northern America</td>\n",
       "      <td>7096.58</td>\n",
       "      <td>552.26</td>\n",
       "      <td>3.26</td>\n",
       "      <td>121.32</td>\n",
       "      <td>107173.50</td>\n",
       "    </tr>\n",
       "    <tr>\n",
       "      <th>35</th>\n",
       "      <td>Muslim</td>\n",
       "      <td>Oceania</td>\n",
       "      <td>379.05</td>\n",
       "      <td>674.33</td>\n",
       "      <td>61.75</td>\n",
       "      <td>58.00</td>\n",
       "      <td>9379.73</td>\n",
       "    </tr>\n",
       "    <tr>\n",
       "      <th>36</th>\n",
       "      <td>General Population</td>\n",
       "      <td>Africa</td>\n",
       "      <td>193.44</td>\n",
       "      <td>179.72</td>\n",
       "      <td>31.14</td>\n",
       "      <td>85.68</td>\n",
       "      <td>1898.76</td>\n",
       "    </tr>\n",
       "    <tr>\n",
       "      <th>37</th>\n",
       "      <td>General Population</td>\n",
       "      <td>Asia</td>\n",
       "      <td>32.87</td>\n",
       "      <td>205.25</td>\n",
       "      <td>11.45</td>\n",
       "      <td>13.99</td>\n",
       "      <td>415.27</td>\n",
       "    </tr>\n",
       "    <tr>\n",
       "      <th>38</th>\n",
       "      <td>General Population</td>\n",
       "      <td>Europe</td>\n",
       "      <td>53.74</td>\n",
       "      <td>12.44</td>\n",
       "      <td>1.28</td>\n",
       "      <td>-4.97</td>\n",
       "      <td>66.37</td>\n",
       "    </tr>\n",
       "    <tr>\n",
       "      <th>39</th>\n",
       "      <td>General Population</td>\n",
       "      <td>Latin America</td>\n",
       "      <td>549.67</td>\n",
       "      <td>16.07</td>\n",
       "      <td>10.83</td>\n",
       "      <td>16.59</td>\n",
       "      <td>874.30</td>\n",
       "    </tr>\n",
       "    <tr>\n",
       "      <th>40</th>\n",
       "      <td>General Population</td>\n",
       "      <td>Northern America</td>\n",
       "      <td>134.31</td>\n",
       "      <td>55.29</td>\n",
       "      <td>7.07</td>\n",
       "      <td>15.27</td>\n",
       "      <td>349.05</td>\n",
       "    </tr>\n",
       "    <tr>\n",
       "      <th>41</th>\n",
       "      <td>General Population</td>\n",
       "      <td>Oceania</td>\n",
       "      <td>170.87</td>\n",
       "      <td>87.84</td>\n",
       "      <td>16.63</td>\n",
       "      <td>34.44</td>\n",
       "      <td>697.78</td>\n",
       "    </tr>\n",
       "  </tbody>\n",
       "</table>\n",
       "</div>"
      ],
      "text/plain": [
       "              Religion            Region  1910-1970 %Growth  \\\n",
       "0             Agnostic            Africa            6900.00   \n",
       "1             Agnostic              Asia          867253.17   \n",
       "2             Agnostic            Europe            5228.06   \n",
       "3             Agnostic     Latin America            1254.48   \n",
       "4             Agnostic  Northern America             870.83   \n",
       "5             Agnostic           Oceania            1189.04   \n",
       "6              Atheist            Africa            9263.64   \n",
       "7              Atheist              Asia         1440136.84   \n",
       "8              Atheist            Europe           24473.52   \n",
       "9              Atheist     Latin America           10020.80   \n",
       "10             Atheist  Northern America           12400.00   \n",
       "11             Atheist           Oceania           21421.00   \n",
       "12            Buddhist            Africa             225.00   \n",
       "13            Buddhist              Asia              68.78   \n",
       "14            Buddhist            Europe              29.02   \n",
       "15            Buddhist     Latin America            5388.73   \n",
       "16            Buddhist  Northern America             357.63   \n",
       "17            Buddhist           Oceania             119.08   \n",
       "18           Christian            Africa            1084.83   \n",
       "19           Christian              Asia             288.22   \n",
       "20           Christian            Europe              21.55   \n",
       "21           Christian     Latin America             262.55   \n",
       "22           Christian  Northern America             121.33   \n",
       "23           Christian           Oceania             212.09   \n",
       "24               Hindu            Africa             230.03   \n",
       "25               Hindu              Asia             108.77   \n",
       "26               Hindu            Europe          375761.54   \n",
       "27               Hindu     Latin America             219.89   \n",
       "28               Hindu  Northern America            9900.00   \n",
       "29               Hindu           Oceania            1027.01   \n",
       "30              Muslim            Africa             271.30   \n",
       "31              Muslim              Asia             136.80   \n",
       "32              Muslim            Europe              81.86   \n",
       "33              Muslim     Latin America             526.55   \n",
       "34              Muslim  Northern America            7096.58   \n",
       "35              Muslim           Oceania             379.05   \n",
       "36  General Population            Africa             193.44   \n",
       "37  General Population              Asia              32.87   \n",
       "38  General Population            Europe              53.74   \n",
       "39  General Population     Latin America             549.67   \n",
       "40  General Population  Northern America             134.31   \n",
       "41  General Population           Oceania             170.87   \n",
       "\n",
       "    1970-2010 %Growth  2010-2020 %Growth  2020-2050 %Growth  1910-2050 %Growth  \n",
       "0             1004.93              26.44             100.96          196435.71  \n",
       "1               15.47               8.47             -21.39          853862.30  \n",
       "2                6.61               8.62              11.25            6763.91  \n",
       "3              209.75              20.75              91.00            9575.78  \n",
       "4              323.99              33.33              41.85            7685.03  \n",
       "5              739.38              49.77              60.64           25933.27  \n",
       "6              454.37              29.42              68.34          112990.91  \n",
       "7                4.93               2.88             -19.62         1249531.58  \n",
       "8              -70.83              -3.77              15.78            7885.84  \n",
       "9              129.23              10.41              39.26           35572.00  \n",
       "10             618.67             391.05             101.67          889525.00  \n",
       "11             121.64             263.10              94.28          336400.00  \n",
       "12            2070.94              43.70              67.40           16872.22  \n",
       "13             109.76               7.49               8.19             311.74  \n",
       "14             223.98              11.07              31.15             508.88  \n",
       "15              94.77              10.01              92.57           22547.89  \n",
       "16            1962.04              11.20              60.53           16745.34  \n",
       "17            3425.53              66.95              52.76           19597.37  \n",
       "18             258.35              32.56              95.54           10905.85  \n",
       "19             251.18              10.48              48.20            2132.21  \n",
       "20              18.27              -1.30             -13.26              23.08  \n",
       "21             101.76              20.06               4.88             821.10  \n",
       "22              34.19              35.84             -25.16             201.96  \n",
       "23              58.87              52.32             -18.52             515.40  \n",
       "24             193.00              21.33              41.52            1560.40  \n",
       "25             102.34              11.49              13.81             436.01  \n",
       "26             330.60              21.20              49.88         2939900.00  \n",
       "27              28.57               7.06               3.79             356.99  \n",
       "28            1429.17              13.35              57.69          273233.33  \n",
       "29             177.55              58.87              39.51            6832.93  \n",
       "30             187.34              30.78              87.40            2514.74  \n",
       "31             165.36              17.79              34.45             895.17  \n",
       "32             127.07              22.06              45.70             634.39  \n",
       "33             259.46              16.11              52.23            3880.83  \n",
       "34             552.26               3.26             121.32          107173.50  \n",
       "35             674.33              61.75              58.00            9379.73  \n",
       "36             179.72              31.14              85.68            1898.76  \n",
       "37             205.25              11.45              13.99             415.27  \n",
       "38              12.44               1.28              -4.97              66.37  \n",
       "39              16.07              10.83              16.59             874.30  \n",
       "40              55.29               7.07              15.27             349.05  \n",
       "41              87.84              16.63              34.44             697.78  "
      ]
     },
     "execution_count": 132,
     "metadata": {},
     "output_type": "execute_result"
    }
   ],
   "source": [
    "pg_continent"
   ]
  },
  {
   "cell_type": "code",
   "execution_count": 133,
   "id": "33f020d3-8dff-4507-a89e-0f9058ddb3b0",
   "metadata": {},
   "outputs": [
    {
     "data": {
      "text/html": [
       "<div>\n",
       "<style scoped>\n",
       "    .dataframe tbody tr th:only-of-type {\n",
       "        vertical-align: middle;\n",
       "    }\n",
       "\n",
       "    .dataframe tbody tr th {\n",
       "        vertical-align: top;\n",
       "    }\n",
       "\n",
       "    .dataframe thead th {\n",
       "        text-align: right;\n",
       "    }\n",
       "</style>\n",
       "<table border=\"1\" class=\"dataframe\">\n",
       "  <thead>\n",
       "    <tr style=\"text-align: right;\">\n",
       "      <th></th>\n",
       "      <th>Religion</th>\n",
       "      <th>Region</th>\n",
       "      <th>Year</th>\n",
       "      <th>Percent Growth</th>\n",
       "    </tr>\n",
       "  </thead>\n",
       "  <tbody>\n",
       "    <tr>\n",
       "      <th>0</th>\n",
       "      <td>Agnostic</td>\n",
       "      <td>Africa</td>\n",
       "      <td>1910-1970</td>\n",
       "      <td>6900.00</td>\n",
       "    </tr>\n",
       "    <tr>\n",
       "      <th>1</th>\n",
       "      <td>Agnostic</td>\n",
       "      <td>Africa</td>\n",
       "      <td>1970-2010</td>\n",
       "      <td>1004.93</td>\n",
       "    </tr>\n",
       "    <tr>\n",
       "      <th>2</th>\n",
       "      <td>Agnostic</td>\n",
       "      <td>Africa</td>\n",
       "      <td>2010-2020</td>\n",
       "      <td>26.44</td>\n",
       "    </tr>\n",
       "    <tr>\n",
       "      <th>3</th>\n",
       "      <td>Agnostic</td>\n",
       "      <td>Africa</td>\n",
       "      <td>2020-2050</td>\n",
       "      <td>100.96</td>\n",
       "    </tr>\n",
       "    <tr>\n",
       "      <th>4</th>\n",
       "      <td>Agnostic</td>\n",
       "      <td>Africa</td>\n",
       "      <td>1910-2050</td>\n",
       "      <td>196435.71</td>\n",
       "    </tr>\n",
       "    <tr>\n",
       "      <th>...</th>\n",
       "      <td>...</td>\n",
       "      <td>...</td>\n",
       "      <td>...</td>\n",
       "      <td>...</td>\n",
       "    </tr>\n",
       "    <tr>\n",
       "      <th>205</th>\n",
       "      <td>General Population</td>\n",
       "      <td>Oceania</td>\n",
       "      <td>1910-1970</td>\n",
       "      <td>170.87</td>\n",
       "    </tr>\n",
       "    <tr>\n",
       "      <th>206</th>\n",
       "      <td>General Population</td>\n",
       "      <td>Oceania</td>\n",
       "      <td>1970-2010</td>\n",
       "      <td>87.84</td>\n",
       "    </tr>\n",
       "    <tr>\n",
       "      <th>207</th>\n",
       "      <td>General Population</td>\n",
       "      <td>Oceania</td>\n",
       "      <td>2010-2020</td>\n",
       "      <td>16.63</td>\n",
       "    </tr>\n",
       "    <tr>\n",
       "      <th>208</th>\n",
       "      <td>General Population</td>\n",
       "      <td>Oceania</td>\n",
       "      <td>2020-2050</td>\n",
       "      <td>34.44</td>\n",
       "    </tr>\n",
       "    <tr>\n",
       "      <th>209</th>\n",
       "      <td>General Population</td>\n",
       "      <td>Oceania</td>\n",
       "      <td>1910-2050</td>\n",
       "      <td>697.78</td>\n",
       "    </tr>\n",
       "  </tbody>\n",
       "</table>\n",
       "<p>210 rows × 4 columns</p>\n",
       "</div>"
      ],
      "text/plain": [
       "               Religion   Region       Year  Percent Growth\n",
       "0              Agnostic   Africa  1910-1970         6900.00\n",
       "1              Agnostic   Africa  1970-2010         1004.93\n",
       "2              Agnostic   Africa  2010-2020           26.44\n",
       "3              Agnostic   Africa  2020-2050          100.96\n",
       "4              Agnostic   Africa  1910-2050       196435.71\n",
       "..                  ...      ...        ...             ...\n",
       "205  General Population  Oceania  1910-1970          170.87\n",
       "206  General Population  Oceania  1970-2010           87.84\n",
       "207  General Population  Oceania  2010-2020           16.63\n",
       "208  General Population  Oceania  2020-2050           34.44\n",
       "209  General Population  Oceania  1910-2050          697.78\n",
       "\n",
       "[210 rows x 4 columns]"
      ]
     },
     "execution_count": 133,
     "metadata": {},
     "output_type": "execute_result"
    }
   ],
   "source": [
    "pg_continent_v"
   ]
  },
  {
   "cell_type": "code",
   "execution_count": 134,
   "id": "63047273-555e-4745-be8a-2e3da2eb96a9",
   "metadata": {},
   "outputs": [],
   "source": [
    "pg_unregion = unregion"
   ]
  },
  {
   "cell_type": "code",
   "execution_count": 135,
   "id": "d4a7e108-0ecd-4352-8512-81cd41a42750",
   "metadata": {},
   "outputs": [],
   "source": [
    "pg_unregion['1910-1970 %Growth'] = round(((unregion['1970'] - unregion['1910']) / unregion['1910']) * 100,2)"
   ]
  },
  {
   "cell_type": "code",
   "execution_count": 136,
   "id": "d7d61a10-ea43-4f2e-9457-44d2b63602d2",
   "metadata": {},
   "outputs": [],
   "source": [
    "pg_unregion['1970-2010 %Growth'] = round(((unregion['2010'] - unregion['1970']) / unregion['1970']) * 100,2)"
   ]
  },
  {
   "cell_type": "code",
   "execution_count": 137,
   "id": "6d1ad35f-25c2-442f-a762-b499c3d38041",
   "metadata": {},
   "outputs": [],
   "source": [
    "pg_unregion['2010-2020 %Growth'] = round(((unregion['2020'] - unregion['2010']) / unregion['2010']) * 100,2)"
   ]
  },
  {
   "cell_type": "code",
   "execution_count": 138,
   "id": "9c52e5e8-ecef-4c3b-b639-0bf51b5e7a2b",
   "metadata": {},
   "outputs": [],
   "source": [
    "pg_unregion['2020-2050 %Growth'] = round(((unregion['2050'] - unregion['2020']) / unregion['2020']) * 100,2)"
   ]
  },
  {
   "cell_type": "code",
   "execution_count": 139,
   "id": "6d3942d9-e0a3-4929-8b37-90346c380837",
   "metadata": {},
   "outputs": [],
   "source": [
    "pg_unregion['1910-2050 %Growth'] = round(((unregion['2050'] - unregion['1910']) / unregion['1910']) * 100,2)"
   ]
  },
  {
   "cell_type": "code",
   "execution_count": 140,
   "id": "6afbd040-c861-4d42-b756-b737417dc165",
   "metadata": {},
   "outputs": [],
   "source": [
    "pg_unregion=pg_unregion[['Religion','Region', '1910-1970 %Growth','1970-2010 %Growth','2010-2020 %Growth','2020-2050 %Growth', '1910-2050 %Growth']]"
   ]
  },
  {
   "cell_type": "code",
   "execution_count": 141,
   "id": "228f60d0-d714-443b-bf78-dbb47e5ac02b",
   "metadata": {},
   "outputs": [],
   "source": [
    "pg_unregion2= pg_unregion"
   ]
  },
  {
   "cell_type": "code",
   "execution_count": 142,
   "id": "93575f12-f2d2-4a74-bdff-c25501952611",
   "metadata": {},
   "outputs": [],
   "source": [
    "pg_unregion2=pg_unregion2.rename(columns = {'1910-1970 %Growth':'1910-1970', '1970-2010 %Growth':'1970-2010','2010-2020 %Growth':'2010-2020','2020-2050 %Growth':'2020-2050','1910-2050 %Growth':'1910-2050'})"
   ]
  },
  {
   "cell_type": "code",
   "execution_count": 143,
   "id": "dd6abe34-5cce-44af-a0e8-04f282593926",
   "metadata": {},
   "outputs": [],
   "source": [
    "pg_unregion_v = pg_unregion2.set_index(['Religion','Region']).stack()"
   ]
  },
  {
   "cell_type": "code",
   "execution_count": 144,
   "id": "6fdbfb53-d219-4000-8e7c-ec7431368b76",
   "metadata": {},
   "outputs": [],
   "source": [
    "pg_unregion_v = pg_unregion_v.reset_index(name='Percent Growth')"
   ]
  },
  {
   "cell_type": "code",
   "execution_count": 145,
   "id": "efac84a7-4fa6-442a-8707-c383a1f3ebaf",
   "metadata": {},
   "outputs": [],
   "source": [
    "pg_unregion_v = pg_unregion_v.rename(columns={'level_2': 'Year'})"
   ]
  },
  {
   "cell_type": "markdown",
   "id": "56c4329f-bf47-417e-9292-2dd1f4a89818",
   "metadata": {},
   "source": [
    "# % change UNregion Level"
   ]
  },
  {
   "cell_type": "code",
   "execution_count": 147,
   "id": "a7254a58-f1d0-4060-8fd8-f12ec3bcaae9",
   "metadata": {},
   "outputs": [
    {
     "data": {
      "text/html": [
       "<div>\n",
       "<style scoped>\n",
       "    .dataframe tbody tr th:only-of-type {\n",
       "        vertical-align: middle;\n",
       "    }\n",
       "\n",
       "    .dataframe tbody tr th {\n",
       "        vertical-align: top;\n",
       "    }\n",
       "\n",
       "    .dataframe thead th {\n",
       "        text-align: right;\n",
       "    }\n",
       "</style>\n",
       "<table border=\"1\" class=\"dataframe\">\n",
       "  <thead>\n",
       "    <tr style=\"text-align: right;\">\n",
       "      <th></th>\n",
       "      <th>Religion</th>\n",
       "      <th>Region</th>\n",
       "      <th>1910-1970 %Growth</th>\n",
       "      <th>1970-2010 %Growth</th>\n",
       "      <th>2010-2020 %Growth</th>\n",
       "      <th>2020-2050 %Growth</th>\n",
       "      <th>1910-2050 %Growth</th>\n",
       "    </tr>\n",
       "  </thead>\n",
       "  <tbody>\n",
       "    <tr>\n",
       "      <th>0</th>\n",
       "      <td>Agnostic</td>\n",
       "      <td>Eastern Africa</td>\n",
       "      <td>25400.00</td>\n",
       "      <td>1422.28</td>\n",
       "      <td>28.10</td>\n",
       "      <td>126.60</td>\n",
       "      <td>1.126718e+06</td>\n",
       "    </tr>\n",
       "    <tr>\n",
       "      <th>1</th>\n",
       "      <td>Agnostic</td>\n",
       "      <td>Middle Africa</td>\n",
       "      <td>3439900.00</td>\n",
       "      <td>2013.37</td>\n",
       "      <td>47.73</td>\n",
       "      <td>105.12</td>\n",
       "      <td>2.202999e+08</td>\n",
       "    </tr>\n",
       "    <tr>\n",
       "      <th>2</th>\n",
       "      <td>Agnostic</td>\n",
       "      <td>Northern Africa</td>\n",
       "      <td>3900.00</td>\n",
       "      <td>455.70</td>\n",
       "      <td>27.15</td>\n",
       "      <td>57.17</td>\n",
       "      <td>4.432105e+04</td>\n",
       "    </tr>\n",
       "    <tr>\n",
       "      <th>3</th>\n",
       "      <td>Agnostic</td>\n",
       "      <td>Southern Africa</td>\n",
       "      <td>5940.00</td>\n",
       "      <td>1731.13</td>\n",
       "      <td>18.41</td>\n",
       "      <td>103.57</td>\n",
       "      <td>2.665000e+05</td>\n",
       "    </tr>\n",
       "    <tr>\n",
       "      <th>4</th>\n",
       "      <td>Agnostic</td>\n",
       "      <td>Western Africa</td>\n",
       "      <td>11899900.00</td>\n",
       "      <td>642.86</td>\n",
       "      <td>31.56</td>\n",
       "      <td>126.14</td>\n",
       "      <td>2.629999e+08</td>\n",
       "    </tr>\n",
       "    <tr>\n",
       "      <th>...</th>\n",
       "      <td>...</td>\n",
       "      <td>...</td>\n",
       "      <td>...</td>\n",
       "      <td>...</td>\n",
       "      <td>...</td>\n",
       "      <td>...</td>\n",
       "      <td>...</td>\n",
       "    </tr>\n",
       "    <tr>\n",
       "      <th>142</th>\n",
       "      <td>General Population</td>\n",
       "      <td>Northern America</td>\n",
       "      <td>134.31</td>\n",
       "      <td>55.29</td>\n",
       "      <td>7.07</td>\n",
       "      <td>15.27</td>\n",
       "      <td>3.490500e+02</td>\n",
       "    </tr>\n",
       "    <tr>\n",
       "      <th>143</th>\n",
       "      <td>General Population</td>\n",
       "      <td>Australia/New Zealand</td>\n",
       "      <td>186.87</td>\n",
       "      <td>72.75</td>\n",
       "      <td>13.83</td>\n",
       "      <td>26.71</td>\n",
       "      <td>6.148300e+02</td>\n",
       "    </tr>\n",
       "    <tr>\n",
       "      <th>144</th>\n",
       "      <td>General Population</td>\n",
       "      <td>Melanesia</td>\n",
       "      <td>112.28</td>\n",
       "      <td>158.15</td>\n",
       "      <td>27.18</td>\n",
       "      <td>57.05</td>\n",
       "      <td>9.945500e+02</td>\n",
       "    </tr>\n",
       "    <tr>\n",
       "      <th>145</th>\n",
       "      <td>General Population</td>\n",
       "      <td>Micronesia</td>\n",
       "      <td>187.47</td>\n",
       "      <td>108.56</td>\n",
       "      <td>2.43</td>\n",
       "      <td>22.77</td>\n",
       "      <td>6.539100e+02</td>\n",
       "    </tr>\n",
       "    <tr>\n",
       "      <th>146</th>\n",
       "      <td>General Population</td>\n",
       "      <td>Polynesia</td>\n",
       "      <td>218.32</td>\n",
       "      <td>61.39</td>\n",
       "      <td>1.63</td>\n",
       "      <td>18.57</td>\n",
       "      <td>5.190800e+02</td>\n",
       "    </tr>\n",
       "  </tbody>\n",
       "</table>\n",
       "<p>147 rows × 7 columns</p>\n",
       "</div>"
      ],
      "text/plain": [
       "               Religion                 Region  1910-1970 %Growth  \\\n",
       "0              Agnostic         Eastern Africa           25400.00   \n",
       "1              Agnostic          Middle Africa         3439900.00   \n",
       "2              Agnostic        Northern Africa            3900.00   \n",
       "3              Agnostic        Southern Africa            5940.00   \n",
       "4              Agnostic         Western Africa        11899900.00   \n",
       "..                  ...                    ...                ...   \n",
       "142  General Population       Northern America             134.31   \n",
       "143  General Population  Australia/New Zealand             186.87   \n",
       "144  General Population              Melanesia             112.28   \n",
       "145  General Population             Micronesia             187.47   \n",
       "146  General Population              Polynesia             218.32   \n",
       "\n",
       "     1970-2010 %Growth  2010-2020 %Growth  2020-2050 %Growth  \\\n",
       "0              1422.28              28.10             126.60   \n",
       "1              2013.37              47.73             105.12   \n",
       "2               455.70              27.15              57.17   \n",
       "3              1731.13              18.41             103.57   \n",
       "4               642.86              31.56             126.14   \n",
       "..                 ...                ...                ...   \n",
       "142              55.29               7.07              15.27   \n",
       "143              72.75              13.83              26.71   \n",
       "144             158.15              27.18              57.05   \n",
       "145             108.56               2.43              22.77   \n",
       "146              61.39               1.63              18.57   \n",
       "\n",
       "     1910-2050 %Growth  \n",
       "0         1.126718e+06  \n",
       "1         2.202999e+08  \n",
       "2         4.432105e+04  \n",
       "3         2.665000e+05  \n",
       "4         2.629999e+08  \n",
       "..                 ...  \n",
       "142       3.490500e+02  \n",
       "143       6.148300e+02  \n",
       "144       9.945500e+02  \n",
       "145       6.539100e+02  \n",
       "146       5.190800e+02  \n",
       "\n",
       "[147 rows x 7 columns]"
      ]
     },
     "execution_count": 147,
     "metadata": {},
     "output_type": "execute_result"
    }
   ],
   "source": [
    "pg_unregion"
   ]
  },
  {
   "cell_type": "code",
   "execution_count": 148,
   "id": "45725c83-add2-43a5-943a-c7f6b926f0fb",
   "metadata": {},
   "outputs": [
    {
     "data": {
      "text/html": [
       "<div>\n",
       "<style scoped>\n",
       "    .dataframe tbody tr th:only-of-type {\n",
       "        vertical-align: middle;\n",
       "    }\n",
       "\n",
       "    .dataframe tbody tr th {\n",
       "        vertical-align: top;\n",
       "    }\n",
       "\n",
       "    .dataframe thead th {\n",
       "        text-align: right;\n",
       "    }\n",
       "</style>\n",
       "<table border=\"1\" class=\"dataframe\">\n",
       "  <thead>\n",
       "    <tr style=\"text-align: right;\">\n",
       "      <th></th>\n",
       "      <th>Religion</th>\n",
       "      <th>Region</th>\n",
       "      <th>Year</th>\n",
       "      <th>Percent Growth</th>\n",
       "    </tr>\n",
       "  </thead>\n",
       "  <tbody>\n",
       "    <tr>\n",
       "      <th>0</th>\n",
       "      <td>Agnostic</td>\n",
       "      <td>Eastern Africa</td>\n",
       "      <td>1910-1970</td>\n",
       "      <td>25400.00</td>\n",
       "    </tr>\n",
       "    <tr>\n",
       "      <th>1</th>\n",
       "      <td>Agnostic</td>\n",
       "      <td>Eastern Africa</td>\n",
       "      <td>1970-2010</td>\n",
       "      <td>1422.28</td>\n",
       "    </tr>\n",
       "    <tr>\n",
       "      <th>2</th>\n",
       "      <td>Agnostic</td>\n",
       "      <td>Eastern Africa</td>\n",
       "      <td>2010-2020</td>\n",
       "      <td>28.10</td>\n",
       "    </tr>\n",
       "    <tr>\n",
       "      <th>3</th>\n",
       "      <td>Agnostic</td>\n",
       "      <td>Eastern Africa</td>\n",
       "      <td>2020-2050</td>\n",
       "      <td>126.60</td>\n",
       "    </tr>\n",
       "    <tr>\n",
       "      <th>4</th>\n",
       "      <td>Agnostic</td>\n",
       "      <td>Eastern Africa</td>\n",
       "      <td>1910-2050</td>\n",
       "      <td>1126718.18</td>\n",
       "    </tr>\n",
       "    <tr>\n",
       "      <th>...</th>\n",
       "      <td>...</td>\n",
       "      <td>...</td>\n",
       "      <td>...</td>\n",
       "      <td>...</td>\n",
       "    </tr>\n",
       "    <tr>\n",
       "      <th>730</th>\n",
       "      <td>General Population</td>\n",
       "      <td>Polynesia</td>\n",
       "      <td>1910-1970</td>\n",
       "      <td>218.32</td>\n",
       "    </tr>\n",
       "    <tr>\n",
       "      <th>731</th>\n",
       "      <td>General Population</td>\n",
       "      <td>Polynesia</td>\n",
       "      <td>1970-2010</td>\n",
       "      <td>61.39</td>\n",
       "    </tr>\n",
       "    <tr>\n",
       "      <th>732</th>\n",
       "      <td>General Population</td>\n",
       "      <td>Polynesia</td>\n",
       "      <td>2010-2020</td>\n",
       "      <td>1.63</td>\n",
       "    </tr>\n",
       "    <tr>\n",
       "      <th>733</th>\n",
       "      <td>General Population</td>\n",
       "      <td>Polynesia</td>\n",
       "      <td>2020-2050</td>\n",
       "      <td>18.57</td>\n",
       "    </tr>\n",
       "    <tr>\n",
       "      <th>734</th>\n",
       "      <td>General Population</td>\n",
       "      <td>Polynesia</td>\n",
       "      <td>1910-2050</td>\n",
       "      <td>519.08</td>\n",
       "    </tr>\n",
       "  </tbody>\n",
       "</table>\n",
       "<p>735 rows × 4 columns</p>\n",
       "</div>"
      ],
      "text/plain": [
       "               Religion          Region       Year  Percent Growth\n",
       "0              Agnostic  Eastern Africa  1910-1970        25400.00\n",
       "1              Agnostic  Eastern Africa  1970-2010         1422.28\n",
       "2              Agnostic  Eastern Africa  2010-2020           28.10\n",
       "3              Agnostic  Eastern Africa  2020-2050          126.60\n",
       "4              Agnostic  Eastern Africa  1910-2050      1126718.18\n",
       "..                  ...             ...        ...             ...\n",
       "730  General Population       Polynesia  1910-1970          218.32\n",
       "731  General Population       Polynesia  1970-2010           61.39\n",
       "732  General Population       Polynesia  2010-2020            1.63\n",
       "733  General Population       Polynesia  2020-2050           18.57\n",
       "734  General Population       Polynesia  1910-2050          519.08\n",
       "\n",
       "[735 rows x 4 columns]"
      ]
     },
     "execution_count": 148,
     "metadata": {},
     "output_type": "execute_result"
    }
   ],
   "source": [
    "pg_unregion_v"
   ]
  },
  {
   "cell_type": "code",
   "execution_count": null,
   "id": "86bb082d-2b18-4b62-9c08-6b00e9f85452",
   "metadata": {},
   "outputs": [],
   "source": []
  },
  {
   "cell_type": "code",
   "execution_count": null,
   "id": "8bf66c54-9669-4b1d-b22e-43c77697a35c",
   "metadata": {},
   "outputs": [],
   "source": []
  }
 ],
 "metadata": {
  "kernelspec": {
   "display_name": "Python 3 (ipykernel)",
   "language": "python",
   "name": "python3"
  },
  "language_info": {
   "codemirror_mode": {
    "name": "ipython",
    "version": 3
   },
   "file_extension": ".py",
   "mimetype": "text/x-python",
   "name": "python",
   "nbconvert_exporter": "python",
   "pygments_lexer": "ipython3",
   "version": "3.12.4"
  }
 },
 "nbformat": 4,
 "nbformat_minor": 5
}
